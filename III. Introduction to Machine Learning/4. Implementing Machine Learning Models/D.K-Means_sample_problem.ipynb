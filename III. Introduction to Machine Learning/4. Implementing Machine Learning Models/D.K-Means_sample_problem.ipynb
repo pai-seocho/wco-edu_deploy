{
 "cells": [
  {
   "cell_type": "markdown",
   "metadata": {},
   "source": [
    "# K-Means sample problem"
   ]
  },
  {
   "cell_type": "markdown",
   "metadata": {},
   "source": [
    "### *index*\n",
    "\n",
    "* **The introduction of the K-Means Algorithm** : We are going to study K-Means which is one of the representative clustering algorithms.\n",
    "\n",
    "* **How to implement K-Means with Numpy** : We will implement K-Means with Numpy.\n",
    "* **How to implement K-Means with Scikit-Learn** : We will implement K-Means with Scikit-Learn."
   ]
  },
  {
   "cell_type": "code",
   "execution_count": 1,
   "metadata": {},
   "outputs": [],
   "source": [
    "%matplotlib inline\n",
    "import matplotlib.pyplot as plt"
   ]
  },
  {
   "cell_type": "markdown",
   "metadata": {},
   "source": [
    "## [ 1. The introduction of the K-Means Algorithm  ]"
   ]
  },
  {
   "cell_type": "markdown",
   "metadata": {},
   "source": [
    "K-Means is an algorithm to group given data to the number K of clusters.<br/>\n",
    "Data will be grouped by minimizing the gap of the variance of distances between the center point of the cluster and each data.\n",
    "\n",
    "This time, We are going to understand how the K-Means algorithm works through the example."
   ]
  },
  {
   "cell_type": "code",
   "execution_count": 2,
   "metadata": {},
   "outputs": [],
   "source": [
    "# load sample data\n",
    "import seaborn as sns\n",
    "\n",
    "iris = sns.load_dataset('iris')"
   ]
  },
  {
   "cell_type": "markdown",
   "metadata": {},
   "source": [
    "Visualize example data."
   ]
  },
  {
   "cell_type": "code",
   "execution_count": 3,
   "metadata": {},
   "outputs": [
    {
     "data": {
      "image/png": "[encoded data removed]",
      "text/plain": [
       "<Figure size 432x288 with 1 Axes>"
      ]
     },
     "metadata": {
      "needs_background": "light"
     },
     "output_type": "display_data"
    },
    {
     "data": {
      "text/plain": [
       "<Figure size 720x576 with 0 Axes>"
      ]
     },
     "metadata": {},
     "output_type": "display_data"
    }
   ],
   "source": [
    "# Visualize loaded example data.\n",
    "iris.plot(kind=\"scatter\",x=\"petal_length\",y=\"petal_width\", s=2)\n",
    "\n",
    "# Set the title of graph and labels of axis X and Y\n",
    "plt.title(\"A scatter plot between petal length and width\", fontsize=20)\n",
    "plt.xlabel(\"petal_length\", fontsize=14)\n",
    "plt.ylabel(\"petal_width\", fontsize=14)\n",
    "\n",
    "# Set the size of graph and print it\n",
    "plt.figure(figsize=(10,8))\n",
    "plt.show()"
   ]
  },
  {
   "cell_type": "markdown",
   "metadata": {},
   "source": [
    "If we divide data into 2 clusters, it seems like they would be grouped as the small cluster at the left side and the large cluster at the right side. <br/>\n",
    "\n",
    "However, how does the clustering actually work? And how to the central points that bind the clusters together?\n",
    "\n",
    "In this case, we can **set two center points at random locations**,<br/>\n",
    "and **cluster them by calculating distances between those points and data**.<br/>\n",
    "After that, if we **repeat moving those center points until we find the smallest averages of clustered data**, <br/>\n",
    "we can find the center point for each cluster.\n",
    "\n",
    "We call this way of clustering K-Means."
   ]
  },
  {
   "cell_type": "markdown",
   "metadata": {},
   "source": [
    "## [ 2. How to implement K-Means with Numpy ]"
   ]
  },
  {
   "cell_type": "markdown",
   "metadata": {},
   "source": [
    "This is the progress of the K-Means algorithm.\n",
    "\n",
    "1. Set two center points at random locations\n",
    "2. Calculate distances between center points and data\n",
    "3. Assign each data to the cluster of the nearest center point\n",
    "4. Calculate averages of each clustered data and set them as new locations of center points.\n",
    "5. Repeat 2~4 until all data of clusters don't change\n",
    "\n",
    "Firstly, we will write codes by following this order step-by-step,\n",
    "and we will merge them into one code which contains the entire progress."
   ]
  },
  {
   "cell_type": "markdown",
   "metadata": {},
   "source": [
    "Before we start, we need to import the Numpy package to implement K-Means with it. <br/>\n",
    "After it is imported, convert the data to the Numpy array."
   ]
  },
  {
   "cell_type": "code",
   "execution_count": 4,
   "metadata": {},
   "outputs": [],
   "source": [
    "import numpy as np\n",
    "\n",
    "np_iris = np.array(iris)\n",
    "np_iris = np_iris[:, 2:4]\n",
    "np_iris = np_iris.astype(np.float)"
   ]
  },
  {
   "cell_type": "markdown",
   "metadata": {},
   "source": [
    "## 1. Numpy Code Writing - Step by step"
   ]
  },
  {
   "cell_type": "markdown",
   "metadata": {},
   "source": [
    "### (1) Set two center points at random locations\n",
    "The K-means algorithm starts from generating the number K of points (two here) in random locations of the data space. <br/>However, even I've mention random locations, those 2 random points must be placed near the dataset. <br/>Therefore, we will figure out the range of the dataset first, and choose 2 random value to create 2 new points.\n",
    "\n",
    "We can use the np.random method of Numpy to extract random values based on <br/>the probability distribution between the minimum and maximum values of the data. <br/><br/>\n",
    "For instance, if we want to make chances same to randomly extract the axis X value in the dataset, <br/>we can set the probability distribution to a continuous uniform distribution(uniform) and sample it."
   ]
  },
  {
   "cell_type": "code",
   "execution_count": 5,
   "metadata": {},
   "outputs": [
    {
     "data": {
      "text/plain": [
       "5.723664832090694"
      ]
     },
     "execution_count": 5,
     "metadata": {},
     "output_type": "execute_result"
    }
   ],
   "source": [
    "min_x = np_iris[:, 0].min()  # The minumum value of axis x\n",
    "max_x = np_iris[:, 0].max()  # The maximum value of axis x\n",
    "np.random.uniform(low=min_x,high=max_x) #Extract the random axis x value by using a continuous uniform distribution"
   ]
  },
  {
   "cell_type": "markdown",
   "metadata": {},
   "source": [
    "We can get the number K of values in ranges of the axis x and y through this way."
   ]
  },
  {
   "cell_type": "code",
   "execution_count": 6,
   "metadata": {},
   "outputs": [],
   "source": [
    "k = 2 # The number of points\n",
    "\n",
    "# Get minimum and maximum values from axis x and y\n",
    "min_x = np_iris[:, 0].min()\n",
    "max_x = np_iris[:, 0].max() \n",
    "min_y = np_iris[:, 1].min()\n",
    "max_y = np_iris[:, 1].max() \n",
    "\n",
    "# Extract the number K of x and y values and pair them, and add them to the centroids array. \n",
    "center_x = np.random.uniform(low=min_x, high=max_x, size=k)\n",
    "center_y = np.random.uniform(low=min_y, high=max_y, size=k)\n",
    "\n",
    "centroids = np.stack([center_x,center_y],axis=-1)"
   ]
  },
  {
   "cell_type": "markdown",
   "metadata": {},
   "source": [
    "Random center points will be scattered like this."
   ]
  },
  {
   "cell_type": "code",
   "execution_count": 7,
   "metadata": {},
   "outputs": [
    {
     "data": {
      "image/png": "[encoded data removed]",
      "text/plain": [
       "<Figure size 432x288 with 1 Axes>"
      ]
     },
     "metadata": {
      "needs_background": "light"
     },
     "output_type": "display_data"
    },
    {
     "data": {
      "text/plain": [
       "<Figure size 720x576 with 0 Axes>"
      ]
     },
     "metadata": {},
     "output_type": "display_data"
    }
   ],
   "source": [
    "# Visualize the example data set and center points\n",
    "plt.title(\"A scatter plot between petal length and width\", fontsize=20)\n",
    "plt.scatter(np_iris[:, 0], np_iris[:, 1], label='dataset', s=2)\n",
    "plt.scatter(centroids[:,0],centroids[:,1], c=\"black\",\n",
    "            s=200, label=\"centroid\", marker='*')\n",
    "\n",
    "plt.xlabel(\"petal_length\", fontsize=14)\n",
    "plt.ylabel(\"petal_width\", fontsize=14)\n",
    "\n",
    "plt.legend()\n",
    "plt.figure(figsize=(10,8))\n",
    "plt.show()"
   ]
  },
  {
   "cell_type": "markdown",
   "metadata": {},
   "source": [
    "### (2) Calculate distances between center points and data\n",
    "In this step, we will get distances between all center points and each data.<br/>\n",
    "This is the mathematical expression to get distances.\n",
    "\n",
    "$$\n",
    "point1 = (x_1,y_1), point2 = (x_2,y_2)\\mbox{일 때}\\\\\n",
    "distance\\_between\\_point1\\_and\\_point2 = \\sqrt{(x_1-x_2)^2 + (y_1-y_2)^2}\n",
    "$$"
   ]
  },
  {
   "cell_type": "code",
   "execution_count": 8,
   "metadata": {
    "scrolled": true
   },
   "outputs": [
    {
     "data": {
      "text/plain": [
       "array([[2.27150043, 2.27150043, 2.3704016 , 2.17269985, 2.27150043,\n",
       "        1.95069948, 2.25856274, 2.17269985, 2.27150043, 2.19071521,\n",
       "        2.17269985, 2.07401424, 2.28873823, 2.58371659, 2.46939129,\n",
       "        2.15021106, 2.34980568, 2.25856274, 1.96057057, 2.15917023,\n",
       "        1.97546083, 2.15021106, 2.66759676, 1.94592393, 1.77883849,\n",
       "        2.07401424, 2.05044337, 2.17269985, 2.27150043, 2.07401424,\n",
       "        2.07401424, 2.15021106, 2.19071521, 2.27150043, 2.17269985,\n",
       "        2.46939129, 2.3704016 , 2.28873823, 2.3704016 , 2.17269985,\n",
       "        2.35800662, 2.35800662, 2.3704016 , 2.04624069, 1.75129932,\n",
       "        2.25856274, 2.07401424, 2.27150043, 2.17269985, 2.27150043,\n",
       "        1.35884372, 1.28297579, 1.57786838, 0.83587783, 1.35164245,\n",
       "        1.14159709, 1.4930637 , 0.57283878, 1.21825874, 0.89396465,\n",
       "        0.4795468 , 1.10602693, 0.57837471, 1.35884372, 0.75832052,\n",
       "        1.14180776, 1.28297579, 0.64453684, 1.28297579, 0.61237109,\n",
       "        1.70673156, 0.83587783, 1.57786838, 1.2424465 , 1.00071127,\n",
       "        1.14180776, 1.43783403, 1.78139328, 1.28297579, 0.4795468 ,\n",
       "        0.57800339, 0.46020214, 0.70454938, 1.7980214 , 1.28297579,\n",
       "        1.35919769, 1.42402519, 1.06880002, 0.88295084, 0.83587783,\n",
       "        1.00047089, 1.2827883 , 0.74652546, 0.57283878, 0.93835634,\n",
       "        0.85972154, 0.93835634, 1.00071127, 0.85252827, 0.88295084,\n",
       "        3.06163325, 1.98923488, 2.73991274, 2.3238365 , 2.71801451,\n",
       "        3.33968485, 1.43833579, 2.93710557, 2.49440112, 3.13918917,\n",
       "        2.05874886, 2.1398309 , 2.42146239, 1.98935579, 2.35881597,\n",
       "        2.41338811, 2.24038069, 3.47502472, 3.69851445, 1.65848697,\n",
       "        2.7033468 , 1.92266118, 3.38423017, 1.77590626, 2.57784813,\n",
       "        2.66905561, 1.70673156, 1.77590626, 2.49887785, 2.39984458,\n",
       "        2.80466749, 3.11613262, 2.56237819, 1.74111731, 2.13416264,\n",
       "        3.01856351, 2.69602763, 2.24038069, 1.70673156, 2.34575567,\n",
       "        2.69602763, 2.28092554, 1.98923488, 2.85830453, 2.83740496,\n",
       "        2.34596073, 1.91732756, 2.13057676, 2.48301281, 1.92241097],\n",
       "       [0.62539975, 0.62539975, 0.71494359, 0.5395418 , 0.62539975,\n",
       "        0.26843755, 0.58448355, 0.5395418 , 0.62539975, 0.60050743,\n",
       "        0.5395418 , 0.45944081, 0.6786963 , 0.93844933, 0.80694723,\n",
       "        0.46054067, 0.65737105, 0.58448355, 0.31868879, 0.49152979,\n",
       "        0.38867257, 0.46054067, 0.99559169, 0.25010977, 0.30170744,\n",
       "        0.45944081, 0.36342566, 0.5395418 , 0.62539975, 0.45944081,\n",
       "        0.45944081, 0.46054067, 0.60050743, 0.62539975, 0.5395418 ,\n",
       "        0.80694723, 0.71494359, 0.6786963 , 0.71494359, 0.5395418 ,\n",
       "        0.67944133, 0.67944133, 0.71494359, 0.36478839, 0.10963455,\n",
       "        0.58448355, 0.45944081, 0.62539975, 0.5395418 , 0.62539975,\n",
       "        2.89420727, 2.73988519, 3.11558869, 2.20138047, 2.83318749,\n",
       "        2.67319631, 2.96267245, 1.44039019, 2.76874683, 2.14862552,\n",
       "        1.62932038, 2.46313405, 2.11058936, 2.89420727, 1.83470814,\n",
       "        2.61084166, 2.73988519, 2.20784237, 2.73988519, 2.04085842,\n",
       "        3.13343277, 2.20138047, 3.11558869, 2.83821129, 2.48314669,\n",
       "        2.61084166, 2.98938392, 3.27839378, 2.73988519, 1.62932038,\n",
       "        1.94553915, 1.82061691, 2.07258276, 3.33726686, 2.73988519,\n",
       "        2.77803294, 2.92693216, 2.57798332, 2.29478898, 2.20138047,\n",
       "        2.54862744, 2.79936693, 2.16692865, 1.44039019, 2.38873125,\n",
       "        2.35701948, 2.38873125, 2.48314669, 1.2104869 , 2.29478898,\n",
       "        4.51792433, 3.44801952, 4.26259018, 3.87533804, 4.20953568,\n",
       "        4.91828614, 2.81921323, 4.54071674, 4.06425959, 4.60777829,\n",
       "        3.48989037, 3.6316387 , 3.89483671, 3.39990504, 3.67985319,\n",
       "        3.80404841, 3.7813046 , 5.04579184, 5.26787172, 3.21043196,\n",
       "        4.1606137 , 3.31049449, 4.98186942, 3.22465214, 4.07795463,\n",
       "        4.25419405, 3.13343277, 3.22465214, 3.98619286, 4.004649  ,\n",
       "        4.38048441, 4.69670963, 4.02743463, 3.30557921, 3.75982184,\n",
       "        4.52444785, 4.11597158, 3.7813046 , 3.13343277, 3.80391541,\n",
       "        4.11597158, 3.62916289, 3.44801952, 4.34173552, 4.25108206,\n",
       "        3.71628898, 3.35691199, 3.58040714, 3.89239834, 3.40856897]])"
      ]
     },
     "execution_count": 8,
     "metadata": {},
     "output_type": "execute_result"
    }
   ],
   "source": [
    "# The list to save distances between all center points and each data\n",
    "dists = []\n",
    "\n",
    "for center in centroids:\n",
    "    # Calculate distances from each center point to each data. \n",
    "    dist_from_center = []\n",
    "    for point in zip(iris[\"petal_length\"], iris[\"petal_width\"]):\n",
    "        # Distance calculation\n",
    "        dist = np.sqrt(((center - point)**2).sum())\n",
    "        dist_from_center.append(dist)\n",
    "    dists.append(dist_from_center)\n",
    "\n",
    "dists = np.array(dists)\n",
    "dists"
   ]
  },
  {
   "cell_type": "code",
   "execution_count": 9,
   "metadata": {},
   "outputs": [
    {
     "data": {
      "text/plain": [
       "(2, 150)"
      ]
     },
     "execution_count": 9,
     "metadata": {},
     "output_type": "execute_result"
    }
   ],
   "source": [
    "dists.shape    # The shape of dists array"
   ]
  },
  {
   "cell_type": "code",
   "execution_count": 10,
   "metadata": {},
   "outputs": [
    {
     "data": {
      "text/plain": [
       "0.6005074325649431"
      ]
     },
     "execution_count": 10,
     "metadata": {},
     "output_type": "execute_result"
    }
   ],
   "source": [
    "dists[1,32] # The distance from the index 1 center point to the index 32 data"
   ]
  },
  {
   "cell_type": "markdown",
   "metadata": {},
   "source": [
    "We can abbreviate the code we've just seen by using reshape and broadcasting of Numpy. "
   ]
  },
  {
   "cell_type": "code",
   "execution_count": 11,
   "metadata": {},
   "outputs": [
    {
     "data": {
      "text/plain": [
       "(2, 150)"
      ]
     },
     "execution_count": 11,
     "metadata": {},
     "output_type": "execute_result"
    }
   ],
   "source": [
    "diff_mat = (centroids.reshape(-1,1,2) - np_iris.reshape(1,-1,2))\n",
    "dists = np.sqrt((diff_mat**2).sum(axis=-1))\n",
    "dists.shape"
   ]
  },
  {
   "cell_type": "markdown",
   "metadata": {},
   "source": [
    "### (3) Assign each data to the cluster of the nearest center point"
   ]
  },
  {
   "cell_type": "markdown",
   "metadata": {},
   "source": [
    "We can use the argmin method to assign each data to the nearest cluster."
   ]
  },
  {
   "cell_type": "code",
   "execution_count": 12,
   "metadata": {},
   "outputs": [
    {
     "data": {
      "text/plain": [
       "array([1, 1, 1, 1, 1, 1, 1, 1, 1, 1, 1, 1, 1, 1, 1, 1, 1, 1, 1, 1, 1, 1,\n",
       "       1, 1, 1, 1, 1, 1, 1, 1, 1, 1, 1, 1, 1, 1, 1, 1, 1, 1, 1, 1, 1, 1,\n",
       "       1, 1, 1, 1, 1, 1, 0, 0, 0, 0, 0, 0, 0, 0, 0, 0, 0, 0, 0, 0, 0, 0,\n",
       "       0, 0, 0, 0, 0, 0, 0, 0, 0, 0, 0, 0, 0, 0, 0, 0, 0, 0, 0, 0, 0, 0,\n",
       "       0, 0, 0, 0, 0, 0, 0, 0, 0, 0, 0, 0, 0, 0, 0, 0, 0, 0, 0, 0, 0, 0,\n",
       "       0, 0, 0, 0, 0, 0, 0, 0, 0, 0, 0, 0, 0, 0, 0, 0, 0, 0, 0, 0, 0, 0,\n",
       "       0, 0, 0, 0, 0, 0, 0, 0, 0, 0, 0, 0, 0, 0, 0, 0, 0, 0], dtype=int64)"
      ]
     },
     "execution_count": 12,
     "metadata": {},
     "output_type": "execute_result"
    }
   ],
   "source": [
    "# assign each data to the cluster that the nearest center point is located.\n",
    "cluster_per_point = dists.argmin(axis=0)\n",
    "cluster_per_point"
   ]
  },
  {
   "cell_type": "markdown",
   "metadata": {},
   "source": [
    "### (4) Calculate averages of each clustered data and set them as new locations of center points."
   ]
  },
  {
   "cell_type": "code",
   "execution_count": 13,
   "metadata": {},
   "outputs": [],
   "source": [
    "for i in range(k):\n",
    "    # Get a group of points of the current cluster\n",
    "    target_point = np_iris[cluster_per_point==i]\n",
    "    \n",
    "    # Set a average of the current cluster as the new location of center point\n",
    "    centroids[i] = target_point.mean(axis=0)"
   ]
  },
  {
   "cell_type": "markdown",
   "metadata": {},
   "source": [
    "### (5) Repeat 2~4 until all data of clusters don't change"
   ]
  },
  {
   "cell_type": "code",
   "execution_count": 14,
   "metadata": {},
   "outputs": [
    {
     "data": {
      "image/png": "[encoded data removed]",
      "text/plain": [
       "<Figure size 432x288 with 1 Axes>"
      ]
     },
     "metadata": {
      "needs_background": "light"
     },
     "output_type": "display_data"
    }
   ],
   "source": [
    "# Get the number of data\n",
    "num_data = np_iris.shape[0]\n",
    "\n",
    "# Make the cluster table which has the size of the number of data.\n",
    "cluster_per_point = np.ones((num_data))\n",
    "\n",
    "# The variable to save the count of a repetition\n",
    "counter = 0\n",
    "while True:\n",
    "    # Save data of the cluster table before the update\n",
    "    prev_cluster_per_point = cluster_per_point\n",
    "    \n",
    "    # (2) Calculate distances between center points and data\n",
    "    diff_mat = (centroids.reshape(-1,1,2) - np_iris.reshape(1,-1,2))\n",
    "    dists = np.sqrt((diff_mat**2).sum(axis=-1))\n",
    "    \n",
    "    # (3) Assign each data to the cluster of the nearest center point\n",
    "    cluster_per_point = dists.argmin(axis=0)\n",
    "\n",
    "    # (4) Calculate averages of each clustered data and set them as new locations of center points.\n",
    "    for i in range(k):\n",
    "        centroids[i] = np_iris[cluster_per_point==i].mean(axis=0)\n",
    "        \n",
    "    # If the unupdated cluster table and the updated one are same, finish the task.\n",
    "    if np.all(prev_cluster_per_point == cluster_per_point):\n",
    "        break\n",
    "        \n",
    "    # Add count 1\n",
    "    counter += 1\n",
    "    \n",
    "    # Visualize clustered data\n",
    "    plt.title(\"{}th Distribution of Dataset\".format(counter))\n",
    "\n",
    "    # Visualize data which has the same index with the index for circulation\n",
    "    for idx, color in enumerate(['b','y']):\n",
    "        mask = (cluster_per_point==idx)\n",
    "        plt.scatter(np_iris[mask,0],np_iris[mask,1],\n",
    "                    label=f'cluster{idx+1}', c=color, s=2)\n",
    "        \n",
    "    plt.scatter(centroids[:,0],centroids[:,1],\n",
    "                c='r', s=200, marker='*')\n",
    "        \n",
    "    plt.legend()\n",
    "    plt.show()"
   ]
  },
  {
   "cell_type": "markdown",
   "metadata": {},
   "source": [
    "## 2.  Numpy Code Writing - All-in-one\n",
    "\n",
    "In this part, we are going to merge every step into one code for the K-Means algorithm."
   ]
  },
  {
   "cell_type": "code",
   "execution_count": 15,
   "metadata": {},
   "outputs": [],
   "source": [
    "def cluster_kmeans(dataset, k):    \n",
    "    # (1) Set two center points at random locations\n",
    "    min_x = dataset[:,0].min()\n",
    "    max_x = dataset[:,0].max() \n",
    "    min_y = dataset[:,1].min()\n",
    "    max_y = dataset[:,1].max() \n",
    "\n",
    "    center_x = np.random.uniform(low=min_x, high=max_x, size=k)\n",
    "    center_y = np.random.uniform(low=min_y, high=max_y, size=k)\n",
    "    centroids = np.stack([center_x,center_y],axis=-1)\n",
    "    \n",
    "    # Repeat processes from (2) to (5)\n",
    "    num_data = dataset.shape[0]  # Get the number of data\n",
    "    cluster_per_point = np.ones((num_data)) # Make the cluster table which has the size of the number of data.\n",
    "\n",
    "    # The variable to save the count of repetition\n",
    "    counter = 0\n",
    "    while True:\n",
    "        prev_cluster_per_point = cluster_per_point\n",
    "        \n",
    "        # (2) Calculate distances between center points and data\n",
    "        diff_mat = (centroids.reshape(-1,1,2) - dataset.reshape(1,-1,2))\n",
    "        dists = np.sqrt((diff_mat**2).sum(axis=-1))\n",
    "        # (3) Assign each data to the cluster of the nearest center point\n",
    "        cluster_per_point = dists.argmin(axis=0)\n",
    "        \n",
    "        # (4) Calculate averages of each clustered data and set them as new locations of center points.\n",
    "        for i in range(k):\n",
    "            centroids[i] = dataset[cluster_per_point==i].mean(axis=0)\n",
    "\n",
    "        # (5) Repeat 2~4 until all data of clusters don't change\n",
    "        if np.all(prev_cluster_per_point == cluster_per_point):\n",
    "            break\n",
    "\n",
    "        # Add count 1\n",
    "        counter += 1\n",
    "        \n",
    "        # Visualize clustered data\n",
    "        plt.title(\"{}th Distribution of Dataset\".format(counter))\n",
    "        \n",
    "        for idx, color in enumerate(['b','y']):\n",
    "            # Visualize data which has the same index with the index for circulation\n",
    "            mask = (cluster_per_point==idx)\n",
    "            plt.scatter(dataset[mask,0],dataset[mask,1],\n",
    "                        label=f'cluster{idx+1}', c=color, s=2)\n",
    "            \n",
    "        plt.scatter(centroids[:,0],centroids[:,1],\n",
    "                    c='r', s=200, marker='*')\n",
    "        \n",
    "        plt.legend()\n",
    "        plt.show()\n",
    "    \n",
    "    return centroids"
   ]
  },
  {
   "cell_type": "code",
   "execution_count": 16,
   "metadata": {},
   "outputs": [
    {
     "data": {
      "image/png": "[encoded data removed]",
      "text/plain": [
       "<Figure size 432x288 with 1 Axes>"
      ]
     },
     "metadata": {
      "needs_background": "light"
     },
     "output_type": "display_data"
    },
    {
     "data": {
      "image/png": "[encoded data removed]",
      "text/plain": [
       "<Figure size 432x288 with 1 Axes>"
      ]
     },
     "metadata": {
      "needs_background": "light"
     },
     "output_type": "display_data"
    },
    {
     "data": {
      "image/png": "[encoded data removed]",
      "text/plain": [
       "<Figure size 432x288 with 1 Axes>"
      ]
     },
     "metadata": {
      "needs_background": "light"
     },
     "output_type": "display_data"
    },
    {
     "data": {
      "image/png": "[encoded data removed]",
      "text/plain": [
       "<Figure size 432x288 with 1 Axes>"
      ]
     },
     "metadata": {
      "needs_background": "light"
     },
     "output_type": "display_data"
    },
    {
     "data": {
      "text/plain": [
       "array([[1.49215686, 0.2627451 ],\n",
       "       [4.92525253, 1.68181818]])"
      ]
     },
     "execution_count": 16,
     "metadata": {},
     "output_type": "execute_result"
    }
   ],
   "source": [
    "cluster_kmeans(np_iris,2)"
   ]
  },
  {
   "cell_type": "markdown",
   "metadata": {},
   "source": [
    "We implemented the K-Means algorithm and succeed in clustering by calculating center points of clusters."
   ]
  },
  {
   "cell_type": "markdown",
   "metadata": {},
   "source": [
    "## [ 3. How to implement K-Means with Scikit-Learn ]"
   ]
  },
  {
   "cell_type": "markdown",
   "metadata": {},
   "source": [
    "We can also easily implement the K-Means algorithm by using the KMeans class from Scikit-Learn."
   ]
  },
  {
   "cell_type": "code",
   "execution_count": 17,
   "metadata": {},
   "outputs": [],
   "source": [
    "from sklearn.cluster import KMeans"
   ]
  },
  {
   "cell_type": "markdown",
   "metadata": {},
   "source": [
    "We should send the number K to the n_clusters parameter when we generate a KMeans instance. <br/>After that, we can train the KMeans instance by passing data to the fit method to implement the K-Means algorithm"
   ]
  },
  {
   "cell_type": "code",
   "execution_count": 18,
   "metadata": {},
   "outputs": [
    {
     "data": {
      "text/plain": [
       "KMeans(n_clusters=2)"
      ]
     },
     "execution_count": 18,
     "metadata": {},
     "output_type": "execute_result"
    }
   ],
   "source": [
    "# Make data to train the K-Means instance.\n",
    "sk_iris = list(zip(iris['petal_length'],iris['petal_width']))\n",
    "\n",
    "kmeans = KMeans(n_clusters=2)\n",
    "kmeans.fit(sk_iris)"
   ]
  },
  {
   "cell_type": "markdown",
   "metadata": {},
   "source": [
    "We can check how was the clustering progressed through printing the labels_ attribute"
   ]
  },
  {
   "cell_type": "code",
   "execution_count": 19,
   "metadata": {},
   "outputs": [
    {
     "name": "stdout",
     "output_type": "stream",
     "text": [
      "Cluster labels:\n",
      "[1 1 1 1 1 1 1 1 1 1 1 1 1 1 1 1 1 1 1 1 1 1 1 1 1 1 1 1 1 1 1 1 1 1 1 1 1\n",
      " 1 1 1 1 1 1 1 1 1 1 1 1 1 0 0 0 0 0 0 0 0 0 0 0 0 0 0 0 0 0 0 0 0 0 0 0 0\n",
      " 0 0 0 0 0 0 0 0 0 0 0 0 0 0 0 0 0 0 0 0 0 0 0 0 1 0 0 0 0 0 0 0 0 0 0 0 0\n",
      " 0 0 0 0 0 0 0 0 0 0 0 0 0 0 0 0 0 0 0 0 0 0 0 0 0 0 0 0 0 0 0 0 0 0 0 0 0\n",
      " 0 0]\n"
     ]
    }
   ],
   "source": [
    "print(\"Cluster labels:\\n{}\".format(kmeans.labels_))"
   ]
  },
  {
   "cell_type": "markdown",
   "metadata": {},
   "source": [
    "We will visualize clustered data by using kmeans.labels_"
   ]
  },
  {
   "cell_type": "code",
   "execution_count": 20,
   "metadata": {},
   "outputs": [
    {
     "data": {
      "image/png": "[encoded data removed]",
      "text/plain": [
       "<Figure size 432x288 with 1 Axes>"
      ]
     },
     "metadata": {
      "needs_background": "light"
     },
     "output_type": "display_data"
    }
   ],
   "source": [
    "for idx, color in enumerate(['b','y']):\n",
    "    # Visualize data which has the same index with the index for circulation\n",
    "    mask = (kmeans.labels_==idx)\n",
    "    plt.scatter(iris['petal_length'][mask],iris['petal_width'][mask],\n",
    "                label=f'cluster{idx+1}', c=color, s=2)\n",
    "    \n",
    "plt.scatter(kmeans.cluster_centers_[:,0],kmeans.cluster_centers_[:,1],\n",
    "            c='r', s=200, marker='*')\n",
    "\n",
    "plt.legend()\n",
    "plt.show()"
   ]
  },
  {
   "cell_type": "markdown",
   "metadata": {},
   "source": [
    "We can check the data clustering that is based on center points is achieved by the K-Means algorithm that we've implemented with Scikit-Learn."
   ]
  },
  {
   "cell_type": "code",
   "execution_count": null,
   "metadata": {},
   "outputs": [],
   "source": []
  }
 ],
 "metadata": {
  "kernelspec": {
   "display_name": "python3",
   "language": "python",
   "name": "python3"
  },
  "language_info": {
   "codemirror_mode": {
    "name": "ipython",
    "version": 3
   },
   "file_extension": ".py",
   "mimetype": "text/x-python",
   "name": "python",
   "nbconvert_exporter": "python",
   "pygments_lexer": "ipython3",
   "version": "3.6.8"
  }
 },
 "nbformat": 4,
 "nbformat_minor": 4
}
