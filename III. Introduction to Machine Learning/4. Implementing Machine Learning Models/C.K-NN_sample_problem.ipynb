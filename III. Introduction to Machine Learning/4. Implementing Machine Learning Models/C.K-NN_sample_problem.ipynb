{
 "cells": [
  {
   "cell_type": "markdown",
   "metadata": {},
   "source": [
    "# K-NN sample problem"
   ]
  },
  {
   "cell_type": "markdown",
   "metadata": {},
   "source": [
    "### *Objective*\n",
    "\n",
    "* **The introduction of the K-NN Algorithm** : We are going to study the concept of K-NN(K Nearest Neighbors) which is a simple but important algorithm in Machine Learning.\n",
    "* **How to implement K-NN with Numpy** : We will implement K-NN with Numpy.\n",
    "* **How to implement K-NN with Scikit-Learn** : We will implement K-NN with Scikit-Learn."
   ]
  },
  {
   "cell_type": "code",
   "execution_count": 1,
   "metadata": {},
   "outputs": [],
   "source": [
    "%matplotlib inline\n",
    "import matplotlib.pyplot as plt"
   ]
  },
  {
   "cell_type": "markdown",
   "metadata": {},
   "source": [
    "## [ 1. K-NN Algorithm Introduction ]"
   ]
  },
  {
   "cell_type": "markdown",
   "metadata": {},
   "source": [
    "K-NN is an algorithm to classify new data through a majority vote of the number K of nearest data which are already classified.\n",
    "\n",
    "We will briefly understand K-NN through an example."
   ]
  },
  {
   "cell_type": "markdown",
   "metadata": {},
   "source": [
    "### Sample Data )  \n",
    "<img src = \"https://imgur.com/S8Fwbtj.png\">"
   ]
  },
  {
   "cell_type": "code",
   "execution_count": 2,
   "metadata": {},
   "outputs": [],
   "source": [
    "# Load the Numpy Package\n",
    "import numpy as np"
   ]
  },
  {
   "cell_type": "markdown",
   "metadata": {},
   "source": [
    "Make a numpy array with sample data"
   ]
  },
  {
   "cell_type": "code",
   "execution_count": 3,
   "metadata": {},
   "outputs": [],
   "source": [
    "# Generate data as a shape like [weight, price]\n",
    "dataset = np.array([\n",
    "    [73, 178],\n",
    "    [45, 160],\n",
    "    [55, 155],\n",
    "    [75, 180],\n",
    "    [75, 175],\n",
    "    [65, 170],\n",
    "    [90, 190]    \n",
    "])\n",
    "\n",
    "# Make labels(HSCODE) for each data\n",
    "labels = np.array(['H1', \n",
    "                   'H2', \n",
    "                   'H2', \n",
    "                   'H1', \n",
    "                   'H1', \n",
    "                   'H2', \n",
    "                   'H1'])\n",
    "\n",
    "# Generate new unlabelled data that must be classfied.\n",
    "newX = np.array([67, 173])"
   ]
  },
  {
   "cell_type": "code",
   "execution_count": 4,
   "metadata": {},
   "outputs": [],
   "source": [
    "# Get indexs of matching data to each label\n",
    "H1_index = np.where(labels == 'H1')\n",
    "H2_index = np.where(labels == 'H2')"
   ]
  },
  {
   "cell_type": "markdown",
   "metadata": {},
   "source": [
    "Visualize created data"
   ]
  },
  {
   "cell_type": "code",
   "execution_count": 5,
   "metadata": {},
   "outputs": [
    {
     "data": {
      "image/png": "[encoded data removed]",
      "text/plain": [
       "<Figure size 432x288 with 1 Axes>"
      ]
     },
     "metadata": {
      "needs_background": "light"
     },
     "output_type": "display_data"
    },
    {
     "data": {
      "text/plain": [
       "<Figure size 720x576 with 0 Axes>"
      ]
     },
     "metadata": {},
     "output_type": "display_data"
    }
   ],
   "source": [
    "# Set the title of the graph\n",
    "plt.title(\"HScode\")\n",
    "\n",
    "# Visualize data, which is labeled as 'H1', as a shape of blue dot.\n",
    "plt.scatter(dataset[H1_index,0],dataset[H1_index,1],label='H1',\n",
    "            c='b', marker='o')\n",
    "\n",
    "# Visualize data, which is labeled as 'H2', as a shape of red x.\n",
    "plt.scatter(dataset[H2_index,0],dataset[H2_index,1],label='H2',\n",
    "            c='r', marker='x')\n",
    "\n",
    "# Visualize new data, as a shape of green square.\n",
    "plt.scatter(newX[0],newX[1],label=\"New_sample\",\n",
    "            c='g', marker='s')\n",
    "\n",
    "# Set labels of axis x and y in the graph.\n",
    "plt.xlabel('Weight')\n",
    "plt.ylabel('Price')\n",
    "\n",
    "# Show data labels in the graph.\n",
    "plt.legend()\n",
    "\n",
    "# After setting the size, print the graph.\n",
    "plt.figure(figsize=(10,8))\n",
    "plt.show()"
   ]
  },
  {
   "cell_type": "markdown",
   "metadata": {},
   "source": [
    "**Which category will the green square belong to?**\n",
    "\n",
    "Probably we can guess that it will be 'H2' if we just see the graph.<br/>\n",
    "However, if we predict in a quantitative way, we can **get the number K data that are nearest to new data**, and we can decide its group by **checking which data label shows the largest frequency**.\n",
    "\n",
    "We call this classification way as **K-NN(K Nearest Neighbors)**"
   ]
  },
  {
   "cell_type": "markdown",
   "metadata": {},
   "source": [
    "## [ 2. How to implement K-NN with Numpy ]"
   ]
  },
  {
   "cell_type": "markdown",
   "metadata": {},
   "source": [
    "This is a progressing order of the K-NN algorithm.\n",
    "\n",
    "1. Calculate distances between the new unlabeled data(newX) and other existing data.\n",
    "2. Sort distances in ascending power\n",
    "3. Get the number K of nearest data from new data(newX)\n",
    "4. Find the label which has the highest frequency.\n",
    "5. return that label.\n",
    "\n",
    "We will write code by following this order."
   ]
  },
  {
   "cell_type": "markdown",
   "metadata": {},
   "source": [
    "## 1. Numpy Code Writing - Step by step"
   ]
  },
  {
   "cell_type": "markdown",
   "metadata": {},
   "source": [
    "### (1) Calculate distances between the new unlabeled data(newX) and other existing data.\n",
    "\n",
    "We should measure all distances between the new point(newX) and other points(dataset) in advance.\n",
    "\n",
    "This is a Euclidean distance expression that we are going to use. \n",
    "$$\n",
    "\\mbox{if }point1 = (x_1,y_1),  point2 = (x_2,y_2)\\mbox{  are given,}\\\\\n",
    "distance\\_between\\_point1\\_and\\_point2 = \\sqrt{(x_1-x_2)^2 + (y_1-y_2)^2}\n",
    "$$"
   ]
  },
  {
   "cell_type": "code",
   "execution_count": 6,
   "metadata": {},
   "outputs": [
    {
     "data": {
      "text/plain": [
       "array([ 7.81024968, 25.55386468, 21.63330765, 10.63014581,  8.24621125,\n",
       "        3.60555128, 28.60069929])"
      ]
     },
     "execution_count": 6,
     "metadata": {},
     "output_type": "execute_result"
    }
   ],
   "source": [
    "dists = []\n",
    "for point2 in dataset:\n",
    "    distance = np.sqrt(np.sum((newX-point2)**2)) # Distance between point1 and point2\n",
    "    dists.append(distance)\n",
    "    \n",
    "dists = np.array(dists)\n",
    "dists"
   ]
  },
  {
   "cell_type": "markdown",
   "metadata": {},
   "source": [
    "Resulted values above here mean distances from new data to other data."
   ]
  },
  {
   "cell_type": "code",
   "execution_count": 7,
   "metadata": {},
   "outputs": [
    {
     "data": {
      "text/plain": [
       "array([ 7.81024968, 25.55386468, 21.63330765, 10.63014581,  8.24621125,\n",
       "        3.60555128, 28.60069929])"
      ]
     },
     "execution_count": 7,
     "metadata": {},
     "output_type": "execute_result"
    }
   ],
   "source": [
    "# We can use broadcasting to simplify code and make the program faster.\n",
    "dists = np.sqrt(np.sum((newX-dataset)**2, axis=1))\n",
    "dists"
   ]
  },
  {
   "cell_type": "markdown",
   "metadata": {},
   "source": [
    "### (2) Sort distances in ascending power"
   ]
  },
  {
   "cell_type": "code",
   "execution_count": 8,
   "metadata": {},
   "outputs": [
    {
     "data": {
      "text/plain": [
       "array([5, 0, 4, 3, 2, 1, 6], dtype=int64)"
      ]
     },
     "execution_count": 8,
     "metadata": {},
     "output_type": "execute_result"
    }
   ],
   "source": [
    "# Get indexs of sorted distance data in ascending power\n",
    "sorted_index = dists.argsort()\n",
    "sorted_index"
   ]
  },
  {
   "cell_type": "markdown",
   "metadata": {},
   "source": [
    "### (3) Get the number K of nearest data from new data(newX)\n",
    "\n",
    "In this example, we will set 'K' as 4.\n",
    "Which means, we will extract 4 nearest data from new data(newX)."
   ]
  },
  {
   "cell_type": "code",
   "execution_count": 9,
   "metadata": {},
   "outputs": [],
   "source": [
    "# Get labels from sorted indexes.\n",
    "sorted_labels = labels[sorted_index]\n",
    "\n",
    "# extract 4 labels.\n",
    "K_nearest_labels = sorted_labels[:4]"
   ]
  },
  {
   "cell_type": "code",
   "execution_count": 10,
   "metadata": {},
   "outputs": [
    {
     "data": {
      "text/plain": [
       "array(['H2', 'H1', 'H1', 'H1'], dtype='<U2')"
      ]
     },
     "execution_count": 10,
     "metadata": {},
     "output_type": "execute_result"
    }
   ],
   "source": [
    "K_nearest_labels"
   ]
  },
  {
   "cell_type": "markdown",
   "metadata": {},
   "source": [
    "### (4) Find the label which has the highest frequency."
   ]
  },
  {
   "cell_type": "code",
   "execution_count": 11,
   "metadata": {},
   "outputs": [
    {
     "data": {
      "text/plain": [
       "{'H2': 1, 'H1': 3}"
      ]
     },
     "execution_count": 11,
     "metadata": {},
     "output_type": "execute_result"
    }
   ],
   "source": [
    "# Count the frequency of each label\n",
    "count_dict = {}\n",
    "for label in K_nearest_labels:\n",
    "    if label in count_dict:\n",
    "        count_dict[label] += 1\n",
    "    else:\n",
    "        count_dict[label] = 1\n",
    "\n",
    "count_dict"
   ]
  },
  {
   "cell_type": "code",
   "execution_count": 12,
   "metadata": {},
   "outputs": [
    {
     "data": {
      "text/plain": [
       "'H1'"
      ]
     },
     "execution_count": 12,
     "metadata": {},
     "output_type": "execute_result"
    }
   ],
   "source": [
    "# Get the label that has the maximum count\n",
    "max_count = 0\n",
    "top_label = \"\"\n",
    "for key, value in count_dict.items():\n",
    "    if value > max_count:\n",
    "        top_label = key\n",
    "        max_count = value\n",
    "top_label"
   ]
  },
  {
   "cell_type": "markdown",
   "metadata": {},
   "source": [
    "We can also make the codes above simple by using Numpy methods."
   ]
  },
  {
   "cell_type": "code",
   "execution_count": 13,
   "metadata": {},
   "outputs": [
    {
     "data": {
      "text/plain": [
       "(array(['H1', 'H2'], dtype='<U2'), array([3, 1], dtype=int64))"
      ]
     },
     "execution_count": 13,
     "metadata": {},
     "output_type": "execute_result"
    }
   ],
   "source": [
    "_labels, count_labels = np.unique(K_nearest_labels,\n",
    "          return_counts=True)\n",
    "_labels, count_labels"
   ]
  },
  {
   "cell_type": "code",
   "execution_count": 14,
   "metadata": {},
   "outputs": [
    {
     "data": {
      "text/plain": [
       "'H1'"
      ]
     },
     "execution_count": 14,
     "metadata": {},
     "output_type": "execute_result"
    }
   ],
   "source": [
    "_labels[count_labels.argmax()]"
   ]
  },
  {
   "cell_type": "markdown",
   "metadata": {},
   "source": [
    "## 2. Numpy Code Writing - All-in-one\n",
    "\n",
    "In this part, we are going to merge every step into one code for the K-NN algorithm. "
   ]
  },
  {
   "cell_type": "code",
   "execution_count": 15,
   "metadata": {},
   "outputs": [],
   "source": [
    "def classify_knn(inX, dataset, labels, K):\n",
    "    # (1) Calculate distances between the new unlabeled data(newX) and other existing data.\n",
    "    dists = np.sqrt(np.sum((inX-dataset)**2, axis=1))\n",
    "    \n",
    "    # (2) Sort distances in ascending power\n",
    "    sorted_index = dists.argsort()\n",
    "    \n",
    "    # (3) Get the number K of nearest data from new data(newX)\n",
    "    sorted_labels = labels[sorted_index]\n",
    "    K_nearest_labels = sorted_labels[:K]\n",
    "    \n",
    "    # (4) Find the label which has the highest frequency.\n",
    "    _labels, count_labels = np.unique(K_nearest_labels,\n",
    "          return_counts=True)\n",
    "    \n",
    "    # (5) return that label.\n",
    "    return _labels[count_labels.argmax()]"
   ]
  },
  {
   "cell_type": "markdown",
   "metadata": {},
   "source": [
    "Now, we can classify the label of new data through the K-NN algorithm which we've made."
   ]
  },
  {
   "cell_type": "code",
   "execution_count": 16,
   "metadata": {},
   "outputs": [
    {
     "data": {
      "text/plain": [
       "'H2'"
      ]
     },
     "execution_count": 16,
     "metadata": {},
     "output_type": "execute_result"
    }
   ],
   "source": [
    "# Classifying stuff with 67kg of weight and 173 of price, the case when K is 1\n",
    "classify_knn([newX[0], newX[1]], dataset, labels, 1)"
   ]
  },
  {
   "cell_type": "code",
   "execution_count": 17,
   "metadata": {},
   "outputs": [
    {
     "data": {
      "text/plain": [
       "'H1'"
      ]
     },
     "execution_count": 17,
     "metadata": {},
     "output_type": "execute_result"
    }
   ],
   "source": [
    "# Classifying stuff with 67kg of weight and 173 of price, the case when K is 4\n",
    "classify_knn([newX[0], newX[1]], dataset, labels, 4)"
   ]
  },
  {
   "cell_type": "code",
   "execution_count": 18,
   "metadata": {},
   "outputs": [
    {
     "data": {
      "text/plain": [
       "'H2'"
      ]
     },
     "execution_count": 18,
     "metadata": {},
     "output_type": "execute_result"
    }
   ],
   "source": [
    "# Classifying stuff with 60kg of weight and 165 of price, the case if K is 4\n",
    "classify_knn([60, 165], dataset, labels, 4)"
   ]
  },
  {
   "cell_type": "markdown",
   "metadata": {},
   "source": [
    "This time, we will visualize the graph after classification."
   ]
  },
  {
   "cell_type": "code",
   "execution_count": 19,
   "metadata": {},
   "outputs": [],
   "source": [
    "# Set the new label for new data. K is 4 in this example.\n",
    "new_labels = np.append(labels, classify_knn([newX[0], newX[1]], dataset, labels, 4))\n",
    "\n",
    "# Change the shape of new data to input to the dataset\n",
    "labeled_newX = np.reshape(newX, (-1, 2))\n",
    "\n",
    "# Concatenate new data and the dataset\n",
    "new_dataset = np.concatenate([dataset, labeled_newX], axis=0)\n",
    "\n",
    "# Get indexs of data per label.\n",
    "new_H1_index = np.where(new_labels == 'H1')\n",
    "new_H2_index = np.where(new_labels == 'H2')"
   ]
  },
  {
   "cell_type": "code",
   "execution_count": 20,
   "metadata": {},
   "outputs": [
    {
     "data": {
      "image/png": "[encoded data removed]",
      "text/plain": [
       "<Figure size 432x288 with 1 Axes>"
      ]
     },
     "metadata": {
      "needs_background": "light"
     },
     "output_type": "display_data"
    },
    {
     "data": {
      "text/plain": [
       "<Figure size 720x576 with 0 Axes>"
      ]
     },
     "metadata": {},
     "output_type": "display_data"
    }
   ],
   "source": [
    "# Set the title of the graph\n",
    "plt.title(\"HScode\")\n",
    "\n",
    "# Visualize data, which is labeled as 'H1', as a shape of blue dot.\n",
    "plt.scatter(new_dataset[new_H1_index,0],new_dataset[new_H1_index,1],label='H1',\n",
    "            c='b', marker='o')\n",
    "\n",
    "# Visualize data, which is labeled as 'H2', as a shape of red x.\n",
    "plt.scatter(new_dataset[new_H2_index,0],new_dataset[new_H2_index,1],label='H2',\n",
    "            c='r', marker='x')\n",
    "\n",
    "# Set labels of axis x and y in the graph.\n",
    "plt.xlabel('Weight')\n",
    "plt.ylabel('Price')\n",
    "\n",
    "# Show data labels in the graph.\n",
    "plt.legend()\n",
    "\n",
    "# After setting the size, print the graph.\n",
    "plt.figure(figsize=(10,8))\n",
    "plt.show()"
   ]
  },
  {
   "cell_type": "markdown",
   "metadata": {},
   "source": [
    "By the K-NN algorithm which we've implemented with Numpy, we can see new data is classified as 'H1' if K is 4."
   ]
  },
  {
   "cell_type": "markdown",
   "metadata": {},
   "source": [
    "## [ 3. How to implement K-NN with Scikit-Learn ]"
   ]
  },
  {
   "cell_type": "markdown",
   "metadata": {},
   "source": [
    "We can also easily implement the K-NN algorithm by using the KNeighborsClassifier class from Scikit-Learn."
   ]
  },
  {
   "cell_type": "code",
   "execution_count": 21,
   "metadata": {},
   "outputs": [],
   "source": [
    "from sklearn.neighbors import KNeighborsClassifier"
   ]
  },
  {
   "cell_type": "markdown",
   "metadata": {},
   "source": [
    "When we make a KNeighborsClassifier instance, we must send K to the n_neighbors parameter.\n",
    "\n",
    "After the instance is generated, the instance can be trained with its fit method and the K-NN algorithm will be implemented."
   ]
  },
  {
   "cell_type": "code",
   "execution_count": 22,
   "metadata": {},
   "outputs": [
    {
     "data": {
      "text/plain": [
       "KNeighborsClassifier(n_neighbors=4)"
      ]
     },
     "execution_count": 22,
     "metadata": {},
     "output_type": "execute_result"
    }
   ],
   "source": [
    "# Generate the K-NN implementing instance that K is 4\n",
    "knn = KNeighborsClassifier(n_neighbors=4)\n",
    "\n",
    "# Train the instance with dataset and labels\n",
    "knn.fit(dataset, labels)"
   ]
  },
  {
   "cell_type": "markdown",
   "metadata": {},
   "source": [
    "We can figure out which category new data will belong to by passing uncategorized data to the predict instance method when K is 4."
   ]
  },
  {
   "cell_type": "code",
   "execution_count": 23,
   "metadata": {},
   "outputs": [
    {
     "data": {
      "text/plain": [
       "array(['H1'], dtype='<U2')"
      ]
     },
     "execution_count": 23,
     "metadata": {},
     "output_type": "execute_result"
    }
   ],
   "source": [
    "knn.predict([newX])  # The dimension of argument must be 2"
   ]
  },
  {
   "cell_type": "code",
   "execution_count": 24,
   "metadata": {},
   "outputs": [
    {
     "data": {
      "text/plain": [
       "array(['H2'], dtype='<U2')"
      ]
     },
     "execution_count": 24,
     "metadata": {},
     "output_type": "execute_result"
    }
   ],
   "source": [
    "knn.predict([[60, 165]])  # The dimension of argument must be 2"
   ]
  },
  {
   "cell_type": "markdown",
   "metadata": {},
   "source": [
    "Again, We will Visualize the entire data after classifying new data "
   ]
  },
  {
   "cell_type": "code",
   "execution_count": 25,
   "metadata": {},
   "outputs": [],
   "source": [
    "# Set the new label for new data. K is 4 in this example.\n",
    "sk_labels = np.append(labels, knn.predict([newX]))\n",
    "\n",
    "# Change the shape of new data to input to the dataset\n",
    "sk_newX = np.reshape(newX, (-1, 2))\n",
    "\n",
    "# Concatenate new data and the dataset\n",
    "sk_dataset = np.concatenate([dataset, sk_newX], axis=0)\n",
    "\n",
    "# Get indexs of data per label.\n",
    "sk_H1_index = np.where(sk_labels == 'H1')\n",
    "sk_H2_index = np.where(sk_labels == 'H2')"
   ]
  },
  {
   "cell_type": "code",
   "execution_count": 26,
   "metadata": {},
   "outputs": [
    {
     "data": {
      "image/png": "[encoded data removed]",
      "text/plain": [
       "<Figure size 432x288 with 1 Axes>"
      ]
     },
     "metadata": {
      "needs_background": "light"
     },
     "output_type": "display_data"
    },
    {
     "data": {
      "text/plain": [
       "<Figure size 720x576 with 0 Axes>"
      ]
     },
     "metadata": {},
     "output_type": "display_data"
    }
   ],
   "source": [
    "# Set the title of the graph\n",
    "plt.title(\"HScode\")\n",
    "\n",
    "# Visualize data, which is labeled as 'H1', as a shape of blue dot.\n",
    "plt.scatter(sk_dataset[sk_H1_index,0],sk_dataset[sk_H1_index,1],label='H1',\n",
    "            c='b', marker='o')\n",
    "\n",
    "# Visualize data, which is labeled as 'H2', as a shape of red x.\n",
    "plt.scatter(sk_dataset[sk_H2_index,0],sk_dataset[sk_H2_index,1],label='H2',\n",
    "            c='r', marker='x')\n",
    "\n",
    "# Set labels of axis x and y in the graph.\n",
    "plt.xlabel('Weight')\n",
    "plt.ylabel('Price')\n",
    "\n",
    "# Show data labels in the graph.\n",
    "plt.legend()\n",
    "\n",
    "# After setting the size, print the graph.\n",
    "plt.figure(figsize=(10,8))\n",
    "plt.show()"
   ]
  },
  {
   "cell_type": "markdown",
   "metadata": {},
   "source": [
    "As a result, we can see new data is successfully classified by the K-NN algorithm that is implemented with Scikit-Learn."
   ]
  },
  {
   "cell_type": "code",
   "execution_count": null,
   "metadata": {},
   "outputs": [],
   "source": []
  }
 ],
 "metadata": {
  "kernelspec": {
   "display_name": "python3",
   "language": "python",
   "name": "python3"
  },
  "language_info": {
   "codemirror_mode": {
    "name": "ipython",
    "version": 3
   },
   "file_extension": ".py",
   "mimetype": "text/x-python",
   "name": "python",
   "nbconvert_exporter": "python",
   "pygments_lexer": "ipython3",
   "version": "3.6.8"
  }
 },
 "nbformat": 4,
 "nbformat_minor": 4
}
