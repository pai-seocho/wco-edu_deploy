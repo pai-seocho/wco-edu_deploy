{
 "cells": [
  {
   "cell_type": "markdown",
   "metadata": {
    "id": "666dkEgauKaP"
   },
   "source": [
    "# A. Implementing Machine Learning Models Overview"
   ]
  },
  {
   "cell_type": "markdown",
   "metadata": {
    "id": "okzaNWa5ujWU"
   },
   "source": [
    "\n",
    "## [ 1. Implementation of Machine Learning model by using Scikit-Learn ]"
   ]
  },
  {
   "cell_type": "markdown",
   "metadata": {},
   "source": [
    "<img src=\"https://imgur.com/ntLFEBA.png\" align=left width=\"200\" height=\"100\" >"
   ]
  },
  {
   "cell_type": "markdown",
   "metadata": {},
   "source": [
    "- What is Scikit-Learn?<br/><br/>\n",
    "    **Scikit-Learn** is the Python library that **provides pre-implemented necessary algorithms for Machine Learning**  \n",
    "    like Regression, Classification, and Clustering. \n",
    "\n",
    "    For this reason, if we use Scikit-Learn, we don't have to make algorithms by our hands."
   ]
  },
  {
   "cell_type": "markdown",
   "metadata": {},
   "source": [
    "- Advantages of implementing Machine Learning model by using Scikit-Learn<br/><br/>\n",
    "    - As important algorithms for machine learning are already built in Scikit-Learn, we can easily use them without constructing them from the first step.\n",
    "    - Scikit-Learn is a reliable library since many people have used it for a long time, and it has been continuously updated.\n",
    "    - We can use Scikit-Learn with other libraries because of its great compatibility.\n",
    "    - It is an open source library that we can use without any cost."
   ]
  },
  {
   "cell_type": "markdown",
   "metadata": {},
   "source": [
    "- The list of Machine Learning models to be implemented by using Scikit-Learn<br/><br/>\n",
    "    - Linear Regression \n",
    "    - K-means \n",
    "    - KNN "
   ]
  },
  {
   "cell_type": "markdown",
   "metadata": {
    "id": "EvOtuJKnutum"
   },
   "source": [
    "## [ 2. Implementation of Machine Learning model by using Numpy ]"
   ]
  },
  {
   "cell_type": "markdown",
   "metadata": {},
   "source": [
    "<img src= \"https://imgur.com/g4oWK7u.png\" align=left width=\"250\" height=\"150\" >"
   ]
  },
  {
   "cell_type": "markdown",
   "metadata": {},
   "source": [
    "- What is Numpy?<br/><br/>\n",
    "    **Numpy** is **an open source library for efficient calculations of multi-dimensioned arrays** in Python.\n",
    "\n",
    "    If we use Numpy to calculate a massive amount of array data,  \n",
    "    it is **much efficient and faster** than the default Python data structure, list.\n",
    "\n",
    "    In other words, Numpy is **an essential library in Machine Learning, because the unimaginable amounts of data must be handled**."
   ]
  },
  {
   "cell_type": "markdown",
   "metadata": {},
   "source": [
    "- Advantages of implementing Machine Learning model by using Numpy<br/><br/>\n",
    "    - Not only Numpy can deal with the massive amount of multidimensional arrays,  \n",
    "      but it also shows the fast speed of calculation and the high efficiency in memory use.\n",
    "    - We can easily use mathematical functions that Numpy provides.\n",
    "    - Numpy can be linked with other important libraries for Machine Learning like Tensorflow.\n",
    "    - It is an open source library that we can use without any cost."
   ]
  },
  {
   "cell_type": "markdown",
   "metadata": {},
   "source": [
    "- The list of Machine Learning models to be implemented by using Numpy<br/><br/>\n",
    "    - K-means \n",
    "    - KNN \n",
    "    - Linear Regression (Option)\n"
   ]
  },
  {
   "cell_type": "markdown",
   "metadata": {
    "id": "YD5cELN5vik0"
   },
   "source": [
    "## [ 3. Index ]\n",
    "\n",
    "### B. Linear Regression sample problem\n",
    "### C. K-NN sample problem\n",
    "### D. K-Means sample problem"
   ]
  }
 ],
 "metadata": {
  "colab": {
   "name": "Implementing Machine Learning Models.ipynb",
   "private_outputs": true,
   "provenance": []
  },
  "kernelspec": {
   "display_name": "python3",
   "language": "python",
   "name": "python3"
  },
  "language_info": {
   "codemirror_mode": {
    "name": "ipython",
    "version": 3
   },
   "file_extension": ".py",
   "mimetype": "text/x-python",
   "name": "python",
   "nbconvert_exporter": "python",
   "pygments_lexer": "ipython3",
   "version": "3.6.8"
  }
 },
 "nbformat": 4,
 "nbformat_minor": 1
}
