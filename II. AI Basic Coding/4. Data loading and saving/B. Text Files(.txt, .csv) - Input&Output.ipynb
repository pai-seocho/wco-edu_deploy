{
 "cells": [
  {
   "cell_type": "markdown",
   "metadata": {
    "id": "7bxgJleAF7L6",
    "scrolled": true
   },
   "source": [
    "# B. Text Files(`.txt`, `.csv`) - Input/Output\n",
    "\n",
    "**`.txt`** and **`.csv`** are the two most commonly used text file formats that we're likely to deal with on daily basis.<br>\n",
    "Python provides many useful tools you can use when reading and writing text files or dealing with its data so that we can reduce the burden of our daily work.<br>\n",
    "In section 1, we'll be learning how to handle data in `.txt` and `.csv` files.\n",
    "\n",
    "## _Objective_\n",
    "1. **`.txt` file**: Understanding Data I/O(Input/Output) for `.txt`files.\n",
    "2. **`.csv` file**: Understanding Data I/O(Input/Output) for `.csv`files."
   ]
  },
  {
   "cell_type": "markdown",
   "metadata": {
    "id": "Gkj-I1c3c0-V"
   },
   "source": [
    "# [1. Text File I/O with Python] \n",
    "\n",
    "First off, Python provides a number of built-in functions for reading and writing text files. \n",
    "Let's read and write a file using them."
   ]
  },
  {
   "cell_type": "markdown",
   "metadata": {
    "id": "17bUb_Hkc0-W"
   },
   "source": [
    "## 1. Python `.txt`\n",
    "\n",
    "- First of all, you need to open a file you're going to work on. Use `open()` function to open a file by passing the `filename` and setting the `file opening mode`.<br><br>\n",
    "\n",
    "- The file opening mode literally refers to in which mode you're going to open the file, and here is the list of all available options. <br>\n",
    "\n",
    "> |File opening mode|Description|\n",
    "|:---:|:---|\n",
    "|r|Read - opens a file in read-only (Default value)|\n",
    "|w|Write - opens a file for write-only|\n",
    "|a|Append - opens a file for appending |\n",
    "\n",
    "\n",
    "<br><br>\n",
    "- When opening a file, you can use a function `open()` as follows. \n",
    " \n",
    "> ```variable = open(filename, mode)```\n",
    "\n",
    "\n",
    "※ Once opened with `open()`, the file must be closed by `.close()` at the end. \n",
    "\n",
    "※ Alternatively, you can open a file using `with` statement. It automatically creates a block for the file opened and doesn't require the use of `.close` at the end. "
   ]
  },
  {
   "cell_type": "markdown",
   "metadata": {
    "id": "_at58J-_c0-X"
   },
   "source": [
    "### (1) Reading a `.txt` file \n",
    "In order to read a file, you have to open a `.txt` file in read-only mode as <code>open(file_to_read, **r**)</code>.<br>Thereafter, three different methods come under consideration for reading the file."
   ]
  },
  {
   "cell_type": "markdown",
   "metadata": {
    "id": "DKLz0ekZ5Jp6"
   },
   "source": [
    "#### Method 1 - `.read()`\n",
    "\n",
    "- `.read()` reads the entire contents of the file into a string."
   ]
  },
  {
   "cell_type": "code",
   "execution_count": 1,
   "metadata": {
    "id": "KLlzMUkzc0-Y",
    "outputId": "3067a545-9bb1-4a3c-8e89-2042fcf89f66",
    "scrolled": true
   },
   "outputs": [
    {
     "name": "stdout",
     "output_type": "stream",
     "text": [
      "This is example of txt file! first line\n",
      "This is example of txt file! second line\n",
      "This is example of txt file! third line\n",
      "This is example of txt file! fourth line\n"
     ]
    }
   ],
   "source": [
    "# Reading a file in a child directory\n",
    "with open('./data/text/txt_example.txt', 'r') as file:\n",
    "    data = file.read()\n",
    "print(data)"
   ]
  },
  {
   "cell_type": "code",
   "execution_count": 4,
   "metadata": {
    "id": "V2ncHo93c0-e",
    "outputId": "d938b8ab-216e-4eb9-8062-654e9fa297de"
   },
   "outputs": [
    {
     "data": {
      "text/plain": [
       "201"
      ]
     },
     "execution_count": 4,
     "metadata": {},
     "output_type": "execute_result"
    }
   ],
   "source": [
    "# Check the length of the file contents\n",
    "len(data)"
   ]
  },
  {
   "cell_type": "code",
   "execution_count": 5,
   "metadata": {},
   "outputs": [
    {
     "data": {
      "text/plain": [
       "str"
      ]
     },
     "execution_count": 5,
     "metadata": {},
     "output_type": "execute_result"
    }
   ],
   "source": [
    "type(data)"
   ]
  },
  {
   "cell_type": "markdown",
   "metadata": {
    "id": "kivV8dZ3c0-g"
   },
   "source": [
    "- Since the entire contents of the file is returned as a string, there is no differentiation between non-strings, strings, newline escape and spaces.\n",
    "\n",
    "<br><br><br>"
   ]
  },
  {
   "cell_type": "markdown",
   "metadata": {
    "id": "m6tU_QdIc0-h"
   },
   "source": [
    "#### Method 2 - `.readline()`\n",
    "- `.readline()` reads a text file line by line and returns a single line per execution.\n",
    "- Each line is separated by a newline escape(**\\n**)"
   ]
  },
  {
   "cell_type": "code",
   "execution_count": 42,
   "metadata": {
    "id": "ywXoczySc0-i",
    "outputId": "67ec77d8-355d-442c-b139-062904ebbf7f",
    "scrolled": false
   },
   "outputs": [
    {
     "data": {
      "text/plain": [
       "'This is example of txt file! first line\\n'"
      ]
     },
     "execution_count": 42,
     "metadata": {},
     "output_type": "execute_result"
    }
   ],
   "source": [
    "file = open('./data/text/txt_example.txt', 'r')\n",
    "file.readline()"
   ]
  },
  {
   "cell_type": "markdown",
   "metadata": {
    "id": "FEggTzzIc0-k"
   },
   "source": [
    "Let's execute one more `.readline()`."
   ]
  },
  {
   "cell_type": "code",
   "execution_count": 43,
   "metadata": {
    "id": "Cef6xrWzc0-l",
    "outputId": "981b06ec-8a59-42ef-b5c8-35135864568a",
    "scrolled": true
   },
   "outputs": [
    {
     "data": {
      "text/plain": [
       "'This is example of txt file! second line\\n'"
      ]
     },
     "execution_count": 43,
     "metadata": {},
     "output_type": "execute_result"
    }
   ],
   "source": [
    "file.readline()"
   ]
  },
  {
   "cell_type": "markdown",
   "metadata": {
    "id": "xauiKaRKc0-r"
   },
   "source": [
    "In case you want to read the file line by line yet print the entire contents at a single execution, you can proceed it by using a loop."
   ]
  },
  {
   "cell_type": "code",
   "execution_count": 47,
   "metadata": {
    "id": "JcCnOr6Cc0-o"
   },
   "outputs": [],
   "source": [
    "file.close()"
   ]
  },
  {
   "cell_type": "code",
   "execution_count": 48,
   "metadata": {
    "id": "LibjinYtc0-w",
    "outputId": "2ab4f451-4536-46ef-e552-87cf27d8fbb7"
   },
   "outputs": [
    {
     "name": "stdout",
     "output_type": "stream",
     "text": [
      "This is example of txt file! first line\n",
      "\n",
      "This is example of txt file! second line\n",
      "\n",
      "This is example of txt file! third line\n",
      "\n",
      "This is example of txt file! fourth line\n",
      "\n"
     ]
    }
   ],
   "source": [
    "with open('./data/text/txt_example.txt', 'r') as file:\n",
    "    while True:\n",
    "        line = file.readline()\n",
    "        if not line: \n",
    "            break\n",
    "        print(line)"
   ]
  },
  {
   "cell_type": "markdown",
   "metadata": {
    "id": "H9tL7F6oc0-z"
   },
   "source": [
    "<br><br><br><br>\n",
    "\n",
    "\n",
    "### Method 3 - `.readlines()`\n",
    "\n",
    "- `.readlines()` reads and returns a list of lines from the stream.\n"
   ]
  },
  {
   "cell_type": "code",
   "execution_count": 2,
   "metadata": {
    "id": "k4T_8O_9c0-z",
    "outputId": "c3b53a10-ee6f-424f-bb54-8a99fe238809",
    "scrolled": false
   },
   "outputs": [
    {
     "name": "stdout",
     "output_type": "stream",
     "text": [
      "['This is example of txt file! first line\\n', 'This is example of txt file! second line\\n', 'This is example of txt file! third line\\n', 'This is example of txt file! fourth line']\n",
      "\n",
      "\n",
      "`.readlines()` returned the entire contents at a single execution\n",
      "\n",
      "\n",
      "Now, we're going to print the contents line by line using a for loop.\n",
      "\n",
      "\n",
      "This is example of txt file! first line\n",
      "\n",
      "This is example of txt file! second line\n",
      "\n",
      "This is example of txt file! third line\n",
      "\n",
      "This is example of txt file! fourth line\n"
     ]
    }
   ],
   "source": [
    "with open('./data/text/txt_example.txt', 'r') as file:\n",
    "    lines = file.readlines()\n",
    "    print(lines)\n",
    "    print(\"\\n\\n`.readlines()` returned the entire contents at a single execution\\n\\n\")\n",
    "    print(\"Now, we're going to print the contents line by line using a for loop.\\n\\n\")\n",
    "    for line in lines:\n",
    "        print(line)"
   ]
  },
  {
   "cell_type": "markdown",
   "metadata": {
    "id": "DX0wfzQ4c0-3"
   },
   "source": [
    "### (2) Writing a file\n",
    "\n",
    "In addition to reading a text file, you can also write a file using Python.<br>In order to do so, you need to open a file in write-only mode as \n",
    "1. <code>open(file_to_write, 'w')</code>, or \n",
    "2. <code>with open(file_to_write, 'w') as file</code>\n",
    "\n",
    "\n"
   ]
  },
  {
   "cell_type": "markdown",
   "metadata": {
    "id": "IsKZSMilOGhy"
   },
   "source": [
    "Let's create a file to write and save a text in it. "
   ]
  },
  {
   "cell_type": "code",
   "execution_count": 11,
   "metadata": {
    "id": "GKDmhavQc0-3"
   },
   "outputs": [],
   "source": [
    "with open('./data/text/txt_write.txt','w') as file: # txt_write.txt is the file you'll be writing on\n",
    "    data = \"Write a new text!\"\n",
    "    file.write(data) # the string in `data` is written to the file."
   ]
  },
  {
   "cell_type": "markdown",
   "metadata": {
    "id": "nsyww-s-c0-6"
   },
   "source": [
    "Let's read what's written to the file."
   ]
  },
  {
   "cell_type": "code",
   "execution_count": 12,
   "metadata": {
    "id": "tGU34jktc0-6",
    "outputId": "e23b9a34-6b46-41d3-f4c1-ce932c436dde"
   },
   "outputs": [
    {
     "name": "stdout",
     "output_type": "stream",
     "text": [
      "Write a new text!\n"
     ]
    }
   ],
   "source": [
    "with open('./data/text/txt_write.txt', 'r') as file:\n",
    "    data = file.read()\n",
    "    print(data)"
   ]
  },
  {
   "cell_type": "markdown",
   "metadata": {
    "id": "5qQh5z4Kc0--"
   },
   "source": [
    "If you want to append new data append to the end of an existing file, open the file in append-only mode. <br>\n",
    "we'll be add more data to `txt_sample.txt` and save it. <br>\n",
    "\n",
    "Syntax for append mode: ```file_object = open(file_directory, 'a')```"
   ]
  },
  {
   "cell_type": "code",
   "execution_count": 13,
   "metadata": {
    "id": "m4yjWN6Hc0-_"
   },
   "outputs": [],
   "source": [
    "with open('./data/text/txt_example.txt','a') as file:\n",
    "    data = \"This is example of txt file! fourth line\"\n",
    "    file.write(data)"
   ]
  },
  {
   "cell_type": "markdown",
   "metadata": {
    "id": "zElUEDZRc0_C"
   },
   "source": [
    "Let's check the newly saved content."
   ]
  },
  {
   "cell_type": "code",
   "execution_count": 3,
   "metadata": {
    "id": "NpNImpiBc0_D",
    "outputId": "4951a506-2879-449a-b8b3-020aaa4f6670",
    "scrolled": false
   },
   "outputs": [
    {
     "name": "stdout",
     "output_type": "stream",
     "text": [
      "This is example of txt file! first line\n",
      "This is example of txt file! second line\n",
      "This is example of txt file! third line\n",
      "This is example of txt file! fourth line\n"
     ]
    }
   ],
   "source": [
    "with open('./data/text/txt_example.txt', 'r') as file:\n",
    "    data = file.read()\n",
    "    print(data)"
   ]
  },
  {
   "cell_type": "markdown",
   "metadata": {
    "id": "l9mWa1AFc0_I"
   },
   "source": [
    "You can see that \"This is example of txt file! fourth line\" has been added to the end of the file."
   ]
  },
  {
   "cell_type": "markdown",
   "metadata": {
    "id": "5t5G1D7Qc0_I"
   },
   "source": [
    "### (5) pickle\n",
    "\n",
    "The `pickle` module implements binary protocols for serializing and de-serializing a Python object structure.<br>\n",
    "With pickle, you can input and output even data structures like **lists and classes**.<br>\n",
    "To see how it works, we will first import `pickle` and create a list."
   ]
  },
  {
   "cell_type": "code",
   "execution_count": 15,
   "metadata": {
    "id": "jgwdjWC2c0_J"
   },
   "outputs": [],
   "source": [
    "import pickle\n",
    "sample_list = ['a', 'b', 'c']"
   ]
  },
  {
   "cell_type": "markdown",
   "metadata": {
    "id": "4nh3kf2pc0_M"
   },
   "source": [
    "Now let's save the list data type using `pickle`.<br>\n",
    "When saving or loading data with pickle, you must enter `wb` or `rb` as the argument of the `open()`."
   ]
  },
  {
   "cell_type": "code",
   "execution_count": 16,
   "metadata": {
    "id": "lHEtLxh4c0_N"
   },
   "outputs": [],
   "source": [
    "with open('list.txt', 'wb') as f:\n",
    "    pickle.dump(list,f) # `pickle.dump()` takes 2 objects,an object to be pickled and the file the object will be saved to. "
   ]
  },
  {
   "cell_type": "markdown",
   "metadata": {
    "id": "j1lKfBbZc0_R"
   },
   "source": [
    "Let's load the txt file you just saved."
   ]
  },
  {
   "cell_type": "code",
   "execution_count": 17,
   "metadata": {
    "id": "nU8QL30Hc0_R",
    "outputId": "345e15cf-d148-4aa1-8c26-1abd081873f3"
   },
   "outputs": [
    {
     "name": "stdout",
     "output_type": "stream",
     "text": [
      "<class 'list'>\n"
     ]
    },
    {
     "data": {
      "text/plain": [
       "list"
      ]
     },
     "execution_count": 17,
     "metadata": {},
     "output_type": "execute_result"
    }
   ],
   "source": [
    "with open('list.txt', 'rb') as f:\n",
    "    data = pickle.load(f) # `pickle.load()` reads a single line from the contents stream.\n",
    "print(data)\n",
    "data"
   ]
  },
  {
   "cell_type": "markdown",
   "metadata": {
    "id": "ft6j8bWkc0_T"
   },
   "source": [
    "## 2. Python `.csv`\n",
    "- `csv` stands for comma-separated values, in which every value is separated by a comma.<br>\n",
    "- You can load csv files to Python using a built-in library `csv`."
   ]
  },
  {
   "cell_type": "markdown",
   "metadata": {
    "id": "bu-Ww5ldc0_U"
   },
   "source": [
    "### (1) Loading a csv file\n",
    " You can load a csv file using the `.reader()` method of the `csv` library. It converts text data into a csv-reader object. "
   ]
  },
  {
   "cell_type": "code",
   "execution_count": 18,
   "metadata": {
    "id": "Jio1IN6oc0_V"
   },
   "outputs": [],
   "source": [
    "# importing csv library\n",
    "import csv"
   ]
  },
  {
   "cell_type": "markdown",
   "metadata": {
    "id": "4Bvln9fhc0_X"
   },
   "source": [
    "Let's read the following tabular data from a csv file.\n"
   ]
  },
  {
   "cell_type": "markdown",
   "metadata": {
    "id": "GTdWCSt3c0_Y"
   },
   "source": [
    "Open the csv file in read-only mode ('r') and pass the file object into `.reader()`.<br>\n",
    "In this step, each line of the csv-reader object will be printed in the form of a list."
   ]
  },
  {
   "cell_type": "code",
   "execution_count": 19,
   "metadata": {
    "id": "q-gnMfFOc0_Y",
    "outputId": "95f76e53-fcee-4db4-a937-4b3ea772acac",
    "scrolled": false
   },
   "outputs": [
    {
     "name": "stdout",
     "output_type": "stream",
     "text": [
      "['john', 'male', '23', 'data analyst']\n",
      "['jake', 'male', '23', 'teacher']\n",
      "['sally', 'female', '22', 'police officer']\n",
      "['brian', 'male', '27', 'dancer']\n",
      "['elise', 'female', '24', 'singer']\n",
      "['elise', 'female', '24', 'singer']\n"
     ]
    }
   ],
   "source": [
    "with open('./data/text/csv_example.csv','r',encoding='utf-8-sig') as file:\n",
    "    lines = csv.reader(file)\n",
    "    for line in lines:\n",
    "        print(line)"
   ]
  },
  {
   "cell_type": "markdown",
   "metadata": {
    "id": "nLiVq-A8c0_b"
   },
   "source": [
    "You can see that csv.reader() has read the csv file by listing each line."
   ]
  },
  {
   "cell_type": "markdown",
   "metadata": {
    "id": "BRlhy35Ic0_c"
   },
   "source": [
    "### (2) How to edit and save a csv file\n",
    "\n",
    "\n",
    "The `csv`'s `.writer()` converts the current working file to a csv-writer object which you can write and save data to.<br>\n",
    "Let's append a list row to a csv-writer object using `.writerow()` "
   ]
  },
  {
   "cell_type": "code",
   "execution_count": 20,
   "metadata": {
    "id": "FjoB95YJc0_c"
   },
   "outputs": [],
   "source": [
    "with open('./data/text/csv_example.csv', 'a', newline = '') as file:\n",
    "    writer = csv.writer(file)\n",
    "    writer.writerow(['elise', 'female', 24, 'singer']) # writing a row to the `writer` object."
   ]
  },
  {
   "cell_type": "markdown",
   "metadata": {
    "id": "oXPc4USSc0_g"
   },
   "source": [
    "Let's check the line you just wrote to the writer object."
   ]
  },
  {
   "cell_type": "code",
   "execution_count": 21,
   "metadata": {
    "id": "JrkPUasjc0_h",
    "outputId": "eb8fb6fb-c7e1-4097-b820-24f309cf5fdb",
    "scrolled": true
   },
   "outputs": [
    {
     "name": "stdout",
     "output_type": "stream",
     "text": [
      "['john', 'male', '23', 'data analyst']\n",
      "['jake', 'male', '23', 'teacher']\n",
      "['sally', 'female', '22', 'police officer']\n",
      "['brian', 'male', '27', 'dancer']\n",
      "['elise', 'female', '24', 'singer']\n",
      "['elise', 'female', '24', 'singer']\n",
      "['elise', 'female', '24', 'singer']\n"
     ]
    }
   ],
   "source": [
    "with open('./data/text/csv_example.csv','r',encoding='utf-8-sig') as file:\n",
    "    lines = csv.reader(file)\n",
    "    for line in lines:\n",
    "        print(line)"
   ]
  },
  {
   "cell_type": "markdown",
   "metadata": {
    "id": "1n4x9Es2c0_k"
   },
   "source": [
    "You can see a new line is added to the existing data table."
   ]
  },
  {
   "cell_type": "markdown",
   "metadata": {
    "id": "nMFEI34vF7L9"
   },
   "source": [
    "# [2. Text Data I/O with Numpy]"
   ]
  },
  {
   "cell_type": "markdown",
   "metadata": {
    "id": "jLPthbuic0_m"
   },
   "source": [
    "`Numpy` provides the number of tools to manipulate text data.<br>"
   ]
  },
  {
   "cell_type": "markdown",
   "metadata": {
    "id": "M2um2qu_c0_m"
   },
   "source": [
    "## 1. Numpy `.txt`"
   ]
  },
  {
   "cell_type": "markdown",
   "metadata": {
    "id": "Laso_vKIc0_n"
   },
   "source": [
    "### (1) Saving a `.txt` file with Numpy"
   ]
  },
  {
   "cell_type": "code",
   "execution_count": 22,
   "metadata": {
    "id": "Am8FvA05c0_n"
   },
   "outputs": [],
   "source": [
    "# import Numpy\n",
    "import numpy as np"
   ]
  },
  {
   "cell_type": "markdown",
   "metadata": {
    "id": "9iE5odd4c0_t"
   },
   "source": [
    "Create a Numpy array named simple_array<br>\n",
    "You can use `np.savetxt()` for saving a text file. We're going to save a text file under a name `write_numpy`"
   ]
  },
  {
   "cell_type": "code",
   "execution_count": 23,
   "metadata": {
    "id": "mHbSkYMUc0_u"
   },
   "outputs": [],
   "source": [
    "simple_array = np.array([1,2,3,4,5])\n",
    "np.savetxt('./data/text/write_numpy.txt',simple_array)"
   ]
  },
  {
   "cell_type": "markdown",
   "metadata": {
    "id": "jEEk9IbLc0_y"
   },
   "source": [
    "### (2) Loading a `.txt` file with Numpy\n",
    "The saved text file can be loaded by `np.loadtxt()`."
   ]
  },
  {
   "cell_type": "code",
   "execution_count": 24,
   "metadata": {
    "id": "p9BX0Dj5c0_y",
    "outputId": "d4797470-6adc-4346-d514-5a11c4579a2c"
   },
   "outputs": [
    {
     "name": "stdout",
     "output_type": "stream",
     "text": [
      "[1. 2. 3. 4. 5.]\n"
     ]
    }
   ],
   "source": [
    "load_array = np.loadtxt('./data/text/write_numpy.txt')\n",
    "print(load_array)"
   ]
  },
  {
   "cell_type": "code",
   "execution_count": 25,
   "metadata": {},
   "outputs": [
    {
     "data": {
      "text/plain": [
       "15.0"
      ]
     },
     "execution_count": 25,
     "metadata": {},
     "output_type": "execute_result"
    }
   ],
   "source": [
    "sum(load_array)"
   ]
  },
  {
   "cell_type": "markdown",
   "metadata": {
    "id": "-hcJJHWoc0_2"
   },
   "source": [
    "## 2. Numpy `.csv`"
   ]
  },
  {
   "cell_type": "markdown",
   "metadata": {
    "id": "BhyANmHhc0_2"
   },
   "source": [
    "### (1) Saving a `csv` file with Numpy"
   ]
  },
  {
   "cell_type": "markdown",
   "metadata": {
    "id": "ptyofMRzc0_3"
   },
   "source": [
    "Import the `random` library to create random arrays.<br>\n",
    "Create an array in order to save to a file."
   ]
  },
  {
   "cell_type": "code",
   "execution_count": 26,
   "metadata": {
    "id": "ipYxBKZbc0_4",
    "outputId": "b109f403-37b8-4912-e265-b171eec05c30",
    "scrolled": true
   },
   "outputs": [
    {
     "name": "stdout",
     "output_type": "stream",
     "text": [
      "[[1361. 1021. 1710.]\n",
      " [1438. 1176. 1003.]\n",
      " [1815. 1938. 1725.]\n",
      " [1862. 1748. 1333.]\n",
      " [1081. 1001. 1790.]]\n"
     ]
    }
   ],
   "source": [
    "import random\n",
    "random_array = np.zeros((5,3))\n",
    "for i in range(5):\n",
    "    for j in range(3):\n",
    "        random_array[i][j] = random.randint(1000,2000)\n",
    "print(random_array)"
   ]
  },
  {
   "cell_type": "markdown",
   "metadata": {
    "id": "0bA9eJm1c0_6"
   },
   "source": [
    "Use `.savetxt()` to save it as a csv file."
   ]
  },
  {
   "cell_type": "code",
   "execution_count": 27,
   "metadata": {
    "id": "ugukttQyc0_7"
   },
   "outputs": [],
   "source": [
    "np.savetxt('./data/text/random_array.txt',random_array, delimiter=',')"
   ]
  },
  {
   "cell_type": "markdown",
   "metadata": {
    "id": "548BiBpEc1AB"
   },
   "source": [
    "The saved file `random_array.txt` will look like the following."
   ]
  },
  {
   "cell_type": "markdown",
   "metadata": {
    "id": "s-ueZ7Mdc1AC"
   },
   "source": [
    "### (2) Loading csv file with Numpy\n",
    "Use `.loadtxt()` to read csv files."
   ]
  },
  {
   "cell_type": "code",
   "execution_count": 28,
   "metadata": {
    "id": "rs6LgEhOc1AD",
    "outputId": "9f81fc05-325b-4bf7-84a0-0bc186f702c8",
    "scrolled": false
   },
   "outputs": [
    {
     "name": "stdout",
     "output_type": "stream",
     "text": [
      "[[1361. 1021. 1710.]\n",
      " [1438. 1176. 1003.]\n",
      " [1815. 1938. 1725.]\n",
      " [1862. 1748. 1333.]\n",
      " [1081. 1001. 1790.]]\n"
     ]
    }
   ],
   "source": [
    "random_array = np.loadtxt('./data/text/random_array.txt',\n",
    "                          dtype='float',delimiter=',')\n",
    "print(random_array)"
   ]
  },
  {
   "cell_type": "markdown",
   "metadata": {
    "id": "UZT0DM9nc1AG"
   },
   "source": [
    "You can see that the comma separated data from a csv file are loaded as an array with Numpy."
   ]
  },
  {
   "cell_type": "markdown",
   "metadata": {
    "id": "MBt0-l-pc1AH"
   },
   "source": [
    "# [3. Text Data I/O with Pandas]\n",
    "\n",
    "The last part of this session is on how to input and output data using Pandas.<br>"
   ]
  },
  {
   "cell_type": "markdown",
   "metadata": {
    "id": "D6a2kPPWc1AH"
   },
   "source": [
    "## 1. Pandas `.txt` & `.csv`\n",
    "\n",
    "Pandas provides tools to read tabular text data (mainly `.csv`) as a DataFrame.<br>"
   ]
  },
  {
   "cell_type": "markdown",
   "metadata": {
    "id": "bSDFYMmLc1AI"
   },
   "source": [
    "### (1) How to load csv file with Pandas\n",
    "`.read_csv()` reads a comma-separated values (csv) file and returns it as two-dimensional data structure with labeled axes (DataFrame)."
   ]
  },
  {
   "cell_type": "code",
   "execution_count": 29,
   "metadata": {
    "id": "ybu9WCRZc1AJ",
    "outputId": "7be03d71-8dda-47c7-fe9a-103a5a54caeb"
   },
   "outputs": [
    {
     "data": {
      "text/html": [
       "<div>\n",
       "<style scoped>\n",
       "    .dataframe tbody tr th:only-of-type {\n",
       "        vertical-align: middle;\n",
       "    }\n",
       "\n",
       "    .dataframe tbody tr th {\n",
       "        vertical-align: top;\n",
       "    }\n",
       "\n",
       "    .dataframe thead th {\n",
       "        text-align: right;\n",
       "    }\n",
       "</style>\n",
       "<table border=\"1\" class=\"dataframe\">\n",
       "  <thead>\n",
       "    <tr style=\"text-align: right;\">\n",
       "      <th></th>\n",
       "      <th>name</th>\n",
       "      <th>sex</th>\n",
       "      <th>age</th>\n",
       "      <th>salary</th>\n",
       "    </tr>\n",
       "  </thead>\n",
       "  <tbody>\n",
       "    <tr>\n",
       "      <th>0</th>\n",
       "      <td>john</td>\n",
       "      <td>male</td>\n",
       "      <td>23</td>\n",
       "      <td>data analyst</td>\n",
       "    </tr>\n",
       "    <tr>\n",
       "      <th>1</th>\n",
       "      <td>jake</td>\n",
       "      <td>male</td>\n",
       "      <td>23</td>\n",
       "      <td>teacher</td>\n",
       "    </tr>\n",
       "    <tr>\n",
       "      <th>2</th>\n",
       "      <td>sally</td>\n",
       "      <td>female</td>\n",
       "      <td>22</td>\n",
       "      <td>police officer</td>\n",
       "    </tr>\n",
       "    <tr>\n",
       "      <th>3</th>\n",
       "      <td>brian</td>\n",
       "      <td>male</td>\n",
       "      <td>27</td>\n",
       "      <td>dancer</td>\n",
       "    </tr>\n",
       "  </tbody>\n",
       "</table>\n",
       "</div>"
      ],
      "text/plain": [
       "    name     sex  age          salary\n",
       "0   john    male   23    data analyst\n",
       "1   jake    male   23         teacher\n",
       "2  sally  female   22  police officer\n",
       "3  brian    male   27          dancer"
      ]
     },
     "execution_count": 29,
     "metadata": {},
     "output_type": "execute_result"
    }
   ],
   "source": [
    "import pandas as pd \n",
    "data = pd.read_csv(\"./data/text/pandas_csv_example.csv\")\n",
    "data"
   ]
  },
  {
   "cell_type": "markdown",
   "metadata": {
    "id": "nuGcImuKc1AM"
   },
   "source": [
    "※ **Pandas does not distinguish whether the file format is `.txt` or `.csv`.**<br>"
   ]
  },
  {
   "cell_type": "code",
   "execution_count": 30,
   "metadata": {
    "id": "-cOHn1gCc1AM",
    "outputId": "5da62ef1-aa64-47f8-f51b-9af23b4b8639",
    "scrolled": true
   },
   "outputs": [
    {
     "data": {
      "text/html": [
       "<div>\n",
       "<style scoped>\n",
       "    .dataframe tbody tr th:only-of-type {\n",
       "        vertical-align: middle;\n",
       "    }\n",
       "\n",
       "    .dataframe tbody tr th {\n",
       "        vertical-align: top;\n",
       "    }\n",
       "\n",
       "    .dataframe thead th {\n",
       "        text-align: right;\n",
       "    }\n",
       "</style>\n",
       "<table border=\"1\" class=\"dataframe\">\n",
       "  <thead>\n",
       "    <tr style=\"text-align: right;\">\n",
       "      <th></th>\n",
       "      <th>name</th>\n",
       "      <th>sex</th>\n",
       "      <th>age</th>\n",
       "      <th>salary</th>\n",
       "    </tr>\n",
       "  </thead>\n",
       "  <tbody>\n",
       "    <tr>\n",
       "      <th>0</th>\n",
       "      <td>john</td>\n",
       "      <td>male</td>\n",
       "      <td>23</td>\n",
       "      <td>data analyst</td>\n",
       "    </tr>\n",
       "    <tr>\n",
       "      <th>1</th>\n",
       "      <td>jake</td>\n",
       "      <td>male</td>\n",
       "      <td>23</td>\n",
       "      <td>teacher</td>\n",
       "    </tr>\n",
       "    <tr>\n",
       "      <th>2</th>\n",
       "      <td>sally</td>\n",
       "      <td>female</td>\n",
       "      <td>22</td>\n",
       "      <td>police officer</td>\n",
       "    </tr>\n",
       "    <tr>\n",
       "      <th>3</th>\n",
       "      <td>brian</td>\n",
       "      <td>male</td>\n",
       "      <td>27</td>\n",
       "      <td>dancer</td>\n",
       "    </tr>\n",
       "  </tbody>\n",
       "</table>\n",
       "</div>"
      ],
      "text/plain": [
       "    name     sex  age          salary\n",
       "0   john    male   23    data analyst\n",
       "1   jake    male   23         teacher\n",
       "2  sally  female   22  police officer\n",
       "3  brian    male   27          dancer"
      ]
     },
     "execution_count": 30,
     "metadata": {},
     "output_type": "execute_result"
    }
   ],
   "source": [
    "data = pd.read_csv(\"./data/text/pandas_txt_example.txt\", delimiter='\\t')\n",
    "data"
   ]
  },
  {
   "cell_type": "markdown",
   "metadata": {
    "id": "mVYzxVEOc1AR"
   },
   "source": [
    "By passing `delimiter='\\t'`, `.read_csv()` reads the tab-delimited txt file `pandas_txt_example.txt` and displays the data in a DataFrame."
   ]
  },
  {
   "cell_type": "markdown",
   "metadata": {
    "id": "Ei-SN2XBc1AS"
   },
   "source": [
    "If you want to read by adding new column labels to a file without column labels, you can add them manually by passing a list of column labels to the `names` keyword in `.read_csv()`."
   ]
  },
  {
   "cell_type": "code",
   "execution_count": 31,
   "metadata": {
    "id": "6hOYAo2gc1AS",
    "outputId": "8c198003-aef6-4a55-e130-6314e3c3d4ae",
    "scrolled": false
   },
   "outputs": [
    {
     "data": {
      "text/html": [
       "<div>\n",
       "<style scoped>\n",
       "    .dataframe tbody tr th:only-of-type {\n",
       "        vertical-align: middle;\n",
       "    }\n",
       "\n",
       "    .dataframe tbody tr th {\n",
       "        vertical-align: top;\n",
       "    }\n",
       "\n",
       "    .dataframe thead th {\n",
       "        text-align: right;\n",
       "    }\n",
       "</style>\n",
       "<table border=\"1\" class=\"dataframe\">\n",
       "  <thead>\n",
       "    <tr style=\"text-align: right;\">\n",
       "      <th></th>\n",
       "      <th>A</th>\n",
       "      <th>B</th>\n",
       "      <th>C</th>\n",
       "      <th>D</th>\n",
       "    </tr>\n",
       "  </thead>\n",
       "  <tbody>\n",
       "    <tr>\n",
       "      <th>0</th>\n",
       "      <td>john</td>\n",
       "      <td>male</td>\n",
       "      <td>23</td>\n",
       "      <td>data analyst</td>\n",
       "    </tr>\n",
       "    <tr>\n",
       "      <th>1</th>\n",
       "      <td>jake</td>\n",
       "      <td>male</td>\n",
       "      <td>23</td>\n",
       "      <td>teacher</td>\n",
       "    </tr>\n",
       "    <tr>\n",
       "      <th>2</th>\n",
       "      <td>sally</td>\n",
       "      <td>female</td>\n",
       "      <td>22</td>\n",
       "      <td>police officer</td>\n",
       "    </tr>\n",
       "    <tr>\n",
       "      <th>3</th>\n",
       "      <td>brian</td>\n",
       "      <td>male</td>\n",
       "      <td>27</td>\n",
       "      <td>dancer</td>\n",
       "    </tr>\n",
       "    <tr>\n",
       "      <th>4</th>\n",
       "      <td>elise</td>\n",
       "      <td>female</td>\n",
       "      <td>24</td>\n",
       "      <td>singer</td>\n",
       "    </tr>\n",
       "    <tr>\n",
       "      <th>5</th>\n",
       "      <td>elise</td>\n",
       "      <td>female</td>\n",
       "      <td>24</td>\n",
       "      <td>singer</td>\n",
       "    </tr>\n",
       "    <tr>\n",
       "      <th>6</th>\n",
       "      <td>elise</td>\n",
       "      <td>female</td>\n",
       "      <td>24</td>\n",
       "      <td>singer</td>\n",
       "    </tr>\n",
       "  </tbody>\n",
       "</table>\n",
       "</div>"
      ],
      "text/plain": [
       "       A       B   C               D\n",
       "0   john    male  23    data analyst\n",
       "1   jake    male  23         teacher\n",
       "2  sally  female  22  police officer\n",
       "3  brian    male  27          dancer\n",
       "4  elise  female  24          singer\n",
       "5  elise  female  24          singer\n",
       "6  elise  female  24          singer"
      ]
     },
     "execution_count": 31,
     "metadata": {},
     "output_type": "execute_result"
    }
   ],
   "source": [
    "data = pd.read_csv(\"./data/text/csv_example.csv\", names=['A','B','C','D'])\n",
    "data"
   ]
  },
  {
   "cell_type": "markdown",
   "metadata": {
    "id": "zlMTeWTcc1AY"
   },
   "source": [
    "By passing a list of column labels to `names` when reading a csv file with `.read_csv()`, you can see that the new DataFrame is created with the user-defined column labels in place."
   ]
  },
  {
   "cell_type": "markdown",
   "metadata": {
    "id": "GhSlIH85c1AZ"
   },
   "source": [
    "### (2) How to save a csv file with Pandas\n",
    "The `.to_csv()` method writes a DataFrame object to a comma-separated values (csv) file."
   ]
  },
  {
   "cell_type": "code",
   "execution_count": 32,
   "metadata": {
    "id": "CLEujEJ-c1Aa",
    "outputId": "bea627e6-ecb1-40f4-8b3c-02a719cea0b9"
   },
   "outputs": [
    {
     "data": {
      "text/html": [
       "<div>\n",
       "<style scoped>\n",
       "    .dataframe tbody tr th:only-of-type {\n",
       "        vertical-align: middle;\n",
       "    }\n",
       "\n",
       "    .dataframe tbody tr th {\n",
       "        vertical-align: top;\n",
       "    }\n",
       "\n",
       "    .dataframe thead th {\n",
       "        text-align: right;\n",
       "    }\n",
       "</style>\n",
       "<table border=\"1\" class=\"dataframe\">\n",
       "  <thead>\n",
       "    <tr style=\"text-align: right;\">\n",
       "      <th></th>\n",
       "      <th>A</th>\n",
       "      <th>B</th>\n",
       "      <th>C</th>\n",
       "      <th>D</th>\n",
       "    </tr>\n",
       "  </thead>\n",
       "  <tbody>\n",
       "    <tr>\n",
       "      <th>0</th>\n",
       "      <td>18</td>\n",
       "      <td>13</td>\n",
       "      <td>19</td>\n",
       "      <td>16</td>\n",
       "    </tr>\n",
       "    <tr>\n",
       "      <th>1</th>\n",
       "      <td>0</td>\n",
       "      <td>17</td>\n",
       "      <td>0</td>\n",
       "      <td>16</td>\n",
       "    </tr>\n",
       "    <tr>\n",
       "      <th>2</th>\n",
       "      <td>4</td>\n",
       "      <td>15</td>\n",
       "      <td>11</td>\n",
       "      <td>16</td>\n",
       "    </tr>\n",
       "    <tr>\n",
       "      <th>3</th>\n",
       "      <td>6</td>\n",
       "      <td>6</td>\n",
       "      <td>19</td>\n",
       "      <td>1</td>\n",
       "    </tr>\n",
       "    <tr>\n",
       "      <th>4</th>\n",
       "      <td>5</td>\n",
       "      <td>17</td>\n",
       "      <td>2</td>\n",
       "      <td>5</td>\n",
       "    </tr>\n",
       "  </tbody>\n",
       "</table>\n",
       "</div>"
      ],
      "text/plain": [
       "    A   B   C   D\n",
       "0  18  13  19  16\n",
       "1   0  17   0  16\n",
       "2   4  15  11  16\n",
       "3   6   6  19   1\n",
       "4   5  17   2   5"
      ]
     },
     "execution_count": 32,
     "metadata": {},
     "output_type": "execute_result"
    }
   ],
   "source": [
    "df = pd.DataFrame(np.random.randint(0,20, size=(5,4)),\n",
    "                  columns=['A','B','C','D'])\n",
    "df"
   ]
  },
  {
   "cell_type": "code",
   "execution_count": 37,
   "metadata": {
    "id": "lewcT3B4c1Ae"
   },
   "outputs": [],
   "source": [
    "df.to_csv(\"./data/text/to_csv_example.csv\", index = False) # saving the DataFrame to a csv file; by setting 'index = False', the row names or row labels will not be included in the csv file."
   ]
  },
  {
   "cell_type": "markdown",
   "metadata": {
    "id": "uJstgP6xc1Ai"
   },
   "source": [
    "The file `to_csv_example.csv` will look as the following when opened."
   ]
  },
  {
   "cell_type": "code",
   "execution_count": 36,
   "metadata": {},
   "outputs": [
    {
     "data": {
      "text/html": [
       "<div>\n",
       "<style scoped>\n",
       "    .dataframe tbody tr th:only-of-type {\n",
       "        vertical-align: middle;\n",
       "    }\n",
       "\n",
       "    .dataframe tbody tr th {\n",
       "        vertical-align: top;\n",
       "    }\n",
       "\n",
       "    .dataframe thead th {\n",
       "        text-align: right;\n",
       "    }\n",
       "</style>\n",
       "<table border=\"1\" class=\"dataframe\">\n",
       "  <thead>\n",
       "    <tr style=\"text-align: right;\">\n",
       "      <th></th>\n",
       "      <th>A</th>\n",
       "      <th>B</th>\n",
       "      <th>C</th>\n",
       "      <th>D</th>\n",
       "    </tr>\n",
       "  </thead>\n",
       "  <tbody>\n",
       "    <tr>\n",
       "      <th>0</th>\n",
       "      <td>18</td>\n",
       "      <td>13</td>\n",
       "      <td>19</td>\n",
       "      <td>16</td>\n",
       "    </tr>\n",
       "    <tr>\n",
       "      <th>1</th>\n",
       "      <td>0</td>\n",
       "      <td>17</td>\n",
       "      <td>0</td>\n",
       "      <td>16</td>\n",
       "    </tr>\n",
       "    <tr>\n",
       "      <th>2</th>\n",
       "      <td>4</td>\n",
       "      <td>15</td>\n",
       "      <td>11</td>\n",
       "      <td>16</td>\n",
       "    </tr>\n",
       "    <tr>\n",
       "      <th>3</th>\n",
       "      <td>6</td>\n",
       "      <td>6</td>\n",
       "      <td>19</td>\n",
       "      <td>1</td>\n",
       "    </tr>\n",
       "    <tr>\n",
       "      <th>4</th>\n",
       "      <td>5</td>\n",
       "      <td>17</td>\n",
       "      <td>2</td>\n",
       "      <td>5</td>\n",
       "    </tr>\n",
       "  </tbody>\n",
       "</table>\n",
       "</div>"
      ],
      "text/plain": [
       "    A   B   C   D\n",
       "0  18  13  19  16\n",
       "1   0  17   0  16\n",
       "2   4  15  11  16\n",
       "3   6   6  19   1\n",
       "4   5  17   2   5"
      ]
     },
     "execution_count": 36,
     "metadata": {},
     "output_type": "execute_result"
    }
   ],
   "source": [
    "pd.read_csv(\"./data/text/to_csv_example.csv\") # opening the file you just wrote."
   ]
  }
 ],
 "metadata": {
  "colab": {
   "collapsed_sections": [
    "Ogrrzdw8F7L-",
    "8SO3JN_zF7Ma",
    "xtKhM9-9F7Mg",
    "ok6GtGgzF7Mt",
    "_LYX9p_gF7NC",
    "zD6wCrC1F7NN",
    "fMRVmGMlF7NY",
    "g7IXuy0XF7Nc",
    "RiUBl_BGF7Ng",
    "ziETakfhF7N0",
    "5Y8QhuACF7N9",
    "KHz4hp2DF7OG",
    "h4MX1JgTF7OQ",
    "MUamdvetF7Oa",
    "mu3RgvOEF7Of",
    "dXf7tcqPF7On",
    "LRgy96saF7O6",
    "PPwIqaaGeGu9",
    "qOhWUhQ9dzNe",
    "odmb9Jt8F7PH",
    "d_y8FZ4yF7PU",
    "UFAnpQJFF7PW",
    "mo85CGQBF7PY",
    "mKwyZJF8F7Pf",
    "hwt2XQqxF7Pk",
    "tkXZ_a3EF7Ps"
   ],
   "name": "1_텍스트 파일(txt, csv) 입출력.ipynb의 사본",
   "provenance": [],
   "toc_visible": true
  },
  "kernelspec": {
   "display_name": "Python 3",
   "language": "python",
   "name": "python3"
  },
  "language_info": {
   "codemirror_mode": {
    "name": "ipython",
    "version": 3
   },
   "file_extension": ".py",
   "mimetype": "text/x-python",
   "name": "python",
   "nbconvert_exporter": "python",
   "pygments_lexer": "ipython3",
   "version": "3.8.3"
  },
  "toc": {
   "base_numbering": 1,
   "nav_menu": {},
   "number_sections": false,
   "sideBar": true,
   "skip_h1_title": false,
   "title_cell": "Table of Contents",
   "title_sidebar": "Contents",
   "toc_cell": false,
   "toc_position": {
    "height": "326.341px",
    "left": "23px",
    "top": "109.777px",
    "width": "323.014px"
   },
   "toc_section_display": true,
   "toc_window_display": true
  },
  "varInspector": {
   "cols": {
    "lenName": 16,
    "lenType": 16,
    "lenVar": 40
   },
   "kernels_config": {
    "python": {
     "delete_cmd_postfix": "",
     "delete_cmd_prefix": "del ",
     "library": "var_list.py",
     "varRefreshCmd": "print(var_dic_list())"
    },
    "r": {
     "delete_cmd_postfix": ") ",
     "delete_cmd_prefix": "rm(",
     "library": "var_list.r",
     "varRefreshCmd": "cat(var_dic_list()) "
    }
   },
   "types_to_exclude": [
    "module",
    "function",
    "builtin_function_or_method",
    "instance",
    "_Feature"
   ],
   "window_display": false
  }
 },
 "nbformat": 4,
 "nbformat_minor": 1
}
