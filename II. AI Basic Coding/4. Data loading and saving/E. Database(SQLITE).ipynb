{
 "cells": [
  {
   "cell_type": "markdown",
   "metadata": {
    "id": "7c0DOLb3MqwR"
   },
   "source": [
    "# **E. Database(SQLITE)**\n",
    "\n",
    "In this section, we're going to learn what database is and how to work with a database in Python.\n"
   ]
  },
  {
   "cell_type": "markdown",
   "metadata": {
    "id": "3A5caCqIMj8y"
   },
   "source": [
    "\n",
    "## _Objective_\n",
    "1. **Database**: Understanding what Database is\n",
    "2. **Database practice with SQLite3**: Practising working with database in Python"
   ]
  },
  {
   "cell_type": "markdown",
   "metadata": {
    "id": "TaTqyGgtKFmM"
   },
   "source": [
    "# [1. Database]\n",
    "\n",
    "We're in the era of big data, it has become a crucial task to pull data from a database or push data into the database,  \n",
    "and process it in the appropriate form for data analysis.<br>\n",
    "First, let's find out what a database is.\n"
   ]
  },
  {
   "cell_type": "markdown",
   "metadata": {},
   "source": [
    "<img src = 'https://imgur.com/KPX8DXj.jpg' align=left width=200 height=200/>"
   ]
  },
  {
   "cell_type": "markdown",
   "metadata": {
    "id": "9bmRRZpAKFmO"
   },
   "source": [
    "## 1. What is Database?"
   ]
  },
  {
   "cell_type": "markdown",
   "metadata": {
    "id": "kvD_oLa_KFmO"
   },
   "source": [
    "### (1) Definition\n",
    "\n",
    "A database is a space in an integrated environment where duplicate-free data are stored at the disposal of multiple users, typically within an organization."
   ]
  },
  {
   "cell_type": "markdown",
   "metadata": {
    "id": "JeFCE3LnKFmP"
   },
   "source": [
    "## 2. Structure of Database\n",
    "The database has a similar structure to DataFrame for being a tabular object.<br>\n",
    "Let's take a closer look at the structure of the database by comparing it to DataFrames."
   ]
  },
  {
   "cell_type": "markdown",
   "metadata": {},
   "source": [
    "<img src= 'https://imgur.com/b6edS7y.jpg' align=left width=600 height=600 />"
   ]
  },
  {
   "cell_type": "markdown",
   "metadata": {
    "id": "XdvffC4rKFmQ"
   },
   "source": [
    "### (1) Relation\n",
    "In DataFrame, data are tabulated and managed in tabular order.<br>\n",
    "Data stored in a database are also managed in tabular order, and the data table is called a **`relation`** in the database."
   ]
  },
  {
   "cell_type": "markdown",
   "metadata": {
    "id": "jZJalbt5KFmR"
   },
   "source": [
    "### (2) Attributes\n",
    "\n",
    "In relational databases, attributes are the describing characteristics or properties  \n",
    "that define all data values pertaining to a certain category applied to all cells of a column.\n",
    "\n",
    "In DataFrames, attributes are often referred to as **Column** or **Variable**."
   ]
  },
  {
   "cell_type": "markdown",
   "metadata": {
    "id": "7J6dRDlwKFmR"
   },
   "source": [
    "### (3) Tuples\n",
    "\n",
    "any single row representing a single entity is called a **tuple** or **record** in the database.\n"
   ]
  },
  {
   "cell_type": "markdown",
   "metadata": {
    "id": "EgB7KMFJKFmS"
   },
   "source": [
    "# [2. Database Practice with SQLite]\n",
    "SQLite is a database management system like MySQL or PostgreSQL, but it is not a server, but a lightweight database.<br>\n",
    "Let's practice SQLite to manipulate databases in Python."
   ]
  },
  {
   "cell_type": "markdown",
   "metadata": {
    "id": "y82foDkVKFmT"
   },
   "source": [
    "## 1. Creating Database"
   ]
  },
  {
   "cell_type": "markdown",
   "metadata": {
    "id": "dkqB4tjJKFmT"
   },
   "source": [
    "### (1) CREATE relation"
   ]
  },
  {
   "cell_type": "markdown",
   "metadata": {
    "id": "qst6oIBIKFmU"
   },
   "source": [
    "First, import a library `sqlite3` for implementation of a database."
   ]
  },
  {
   "cell_type": "code",
   "execution_count": 1,
   "metadata": {
    "id": "Y3x3Dr0KKFmU"
   },
   "outputs": [],
   "source": [
    "import sqlite3"
   ]
  },
  {
   "cell_type": "markdown",
   "metadata": {
    "id": "ql0QxRglKFmZ"
   },
   "source": [
    "With connect(), you can create a temporary database in memory and objectify it."
   ]
  },
  {
   "cell_type": "code",
   "execution_count": 2,
   "metadata": {
    "id": "78Ei5OnmKFma"
   },
   "outputs": [],
   "source": [
    "conn = sqlite3.connect(\":memory:\")"
   ]
  },
  {
   "cell_type": "markdown",
   "metadata": {
    "id": "IfqSUdJTKFmc"
   },
   "source": [
    "With `.cursor()`, you can create a cursor on the connected database object."
   ]
  },
  {
   "cell_type": "code",
   "execution_count": 3,
   "metadata": {
    "id": "k7d0dBfTKFmd"
   },
   "outputs": [],
   "source": [
    "cur = conn.cursor()"
   ]
  },
  {
   "cell_type": "markdown",
   "metadata": {
    "id": "DN5dkt7iKFmf"
   },
   "source": [
    "Specify the attributes of the relation to be created."
   ]
  },
  {
   "cell_type": "code",
   "execution_count": 4,
   "metadata": {
    "id": "gtN9YkrFKFmf"
   },
   "outputs": [],
   "source": [
    "query = \"\"\"\n",
    "CREATE TABLE student\n",
    "(Name VARCHAR(20), Age INTEGER, Sex Varchar(10));\n",
    "\"\"\""
   ]
  },
  {
   "cell_type": "markdown",
   "metadata": {
    "id": "Heo_k_L3KFmj",
    "scrolled": true
   },
   "source": [
    "With `.execute()`, you can create a relation."
   ]
  },
  {
   "cell_type": "code",
   "execution_count": 5,
   "metadata": {
    "id": "cCJ-FNqgKFmk",
    "outputId": "cb7dfba1-2fc0-4cff-9ac7-ae0acb923d3d",
    "scrolled": true
   },
   "outputs": [
    {
     "data": {
      "text/plain": [
       "<sqlite3.Cursor at 0x28d03444b90>"
      ]
     },
     "execution_count": 5,
     "metadata": {},
     "output_type": "execute_result"
    }
   ],
   "source": [
    "conn.execute(query)"
   ]
  },
  {
   "cell_type": "markdown",
   "metadata": {
    "id": "AfcZ5y1sKFmn"
   },
   "source": [
    "Check the type of the `conn` object."
   ]
  },
  {
   "cell_type": "code",
   "execution_count": 6,
   "metadata": {
    "id": "8-xFxVF_KFmo",
    "outputId": "d1b691f4-a5c9-4f8f-f76e-5c0c78969d1f"
   },
   "outputs": [
    {
     "data": {
      "text/plain": [
       "sqlite3.Connection"
      ]
     },
     "execution_count": 6,
     "metadata": {},
     "output_type": "execute_result"
    }
   ],
   "source": [
    "type(conn)"
   ]
  },
  {
   "cell_type": "markdown",
   "metadata": {
    "id": "7io5uWgPKFmq"
   },
   "source": [
    "### (2) INSERT data"
   ]
  },
  {
   "cell_type": "markdown",
   "metadata": {
    "id": "e6lYnofqKFmq"
   },
   "source": [
    "First, specify the tuples to be inserted into the relation."
   ]
  },
  {
   "cell_type": "code",
   "execution_count": 7,
   "metadata": {
    "id": "kf7FhAw2KFmr"
   },
   "outputs": [],
   "source": [
    "form = \"INSERT INTO student VALUES(?, ?, ?)\"\n",
    "data = [('Jake', 20, 'Male'),\n",
    "        ('Anna', 23, 'Femlae'),\n",
    "        ('Peter', 21, 'Male')]"
   ]
  },
  {
   "cell_type": "markdown",
   "metadata": {
    "id": "5nCmwGTsKFmt"
   },
   "source": [
    "You can insert data using the `conn.executemany()` method."
   ]
  },
  {
   "cell_type": "code",
   "execution_count": 8,
   "metadata": {
    "id": "mU9Oe36MKFmt",
    "outputId": "63759e96-891b-4749-db92-d11ae7b517ce"
   },
   "outputs": [
    {
     "data": {
      "text/plain": [
       "<sqlite3.Cursor at 0x28d03444ab0>"
      ]
     },
     "execution_count": 8,
     "metadata": {},
     "output_type": "execute_result"
    }
   ],
   "source": [
    "conn.executemany(form, data)"
   ]
  },
  {
   "cell_type": "markdown",
   "metadata": {
    "id": "GkS0MPm4KFmw"
   },
   "source": [
    "Save the changes with the `conn.commit()` method."
   ]
  },
  {
   "cell_type": "code",
   "execution_count": 9,
   "metadata": {
    "id": "EtGxanHQKFmw"
   },
   "outputs": [],
   "source": [
    "conn.commit()"
   ]
  },
  {
   "cell_type": "markdown",
   "metadata": {
    "id": "JgnhxIaMKFm0"
   },
   "source": [
    "## 2. DataFrame <-> Database\n",
    "You can use Pandas to read the database and convert it to DataFrame."
   ]
  },
  {
   "cell_type": "markdown",
   "metadata": {
    "id": "QnuqrZ5KKFm0"
   },
   "source": [
    "### (1) Read Database with Pandas"
   ]
  },
  {
   "cell_type": "markdown",
   "metadata": {
    "id": "qtEaBhFLKFm1"
   },
   "source": [
    "Import modules for the conversion of the database."
   ]
  },
  {
   "cell_type": "code",
   "execution_count": 10,
   "metadata": {
    "id": "GKGX4Ve9KFm1"
   },
   "outputs": [],
   "source": [
    "import pandas as pd\n",
    "import pandas.io.sql as sql"
   ]
  },
  {
   "cell_type": "markdown",
   "metadata": {
    "id": "6cPQ9xDOKFm4",
    "scrolled": true
   },
   "source": [
    "Once the libraries are imported, you can load and read a database object as DataFrame using `.read_sql()`."
   ]
  },
  {
   "cell_type": "code",
   "execution_count": 11,
   "metadata": {
    "id": "9Vx7CsDOKFm5",
    "outputId": "e8af35e6-ac98-4e6e-a84c-f70677f42898",
    "scrolled": false
   },
   "outputs": [
    {
     "data": {
      "text/html": [
       "<div>\n",
       "<style scoped>\n",
       "    .dataframe tbody tr th:only-of-type {\n",
       "        vertical-align: middle;\n",
       "    }\n",
       "\n",
       "    .dataframe tbody tr th {\n",
       "        vertical-align: top;\n",
       "    }\n",
       "\n",
       "    .dataframe thead th {\n",
       "        text-align: right;\n",
       "    }\n",
       "</style>\n",
       "<table border=\"1\" class=\"dataframe\">\n",
       "  <thead>\n",
       "    <tr style=\"text-align: right;\">\n",
       "      <th></th>\n",
       "      <th>Name</th>\n",
       "      <th>Age</th>\n",
       "      <th>Sex</th>\n",
       "    </tr>\n",
       "  </thead>\n",
       "  <tbody>\n",
       "    <tr>\n",
       "      <th>0</th>\n",
       "      <td>Jake</td>\n",
       "      <td>20</td>\n",
       "      <td>Male</td>\n",
       "    </tr>\n",
       "    <tr>\n",
       "      <th>1</th>\n",
       "      <td>Anna</td>\n",
       "      <td>23</td>\n",
       "      <td>Femlae</td>\n",
       "    </tr>\n",
       "    <tr>\n",
       "      <th>2</th>\n",
       "      <td>Peter</td>\n",
       "      <td>21</td>\n",
       "      <td>Male</td>\n",
       "    </tr>\n",
       "  </tbody>\n",
       "</table>\n",
       "</div>"
      ],
      "text/plain": [
       "    Name  Age     Sex\n",
       "0   Jake   20    Male\n",
       "1   Anna   23  Femlae\n",
       "2  Peter   21    Male"
      ]
     },
     "execution_count": 11,
     "metadata": {},
     "output_type": "execute_result"
    }
   ],
   "source": [
    "pd.read_sql('select * from student', conn)"
   ]
  },
  {
   "cell_type": "markdown",
   "metadata": {
    "id": "8mMYvyhfKFm7"
   },
   "source": [
    "### (2) Converting Database to DataFrame"
   ]
  },
  {
   "cell_type": "markdown",
   "metadata": {
    "id": "lLeSk2JAKFm8"
   },
   "source": [
    "By assigning the object created by `.read_sql()` to a variable, you can manipulate data from the database in the same way as data in DataFrame."
   ]
  },
  {
   "cell_type": "code",
   "execution_count": 12,
   "metadata": {
    "id": "DAxi0bQ-KFm8",
    "outputId": "5da50ffa-640d-4c2a-923f-c2b14d888a60",
    "scrolled": true
   },
   "outputs": [
    {
     "data": {
      "text/html": [
       "<div>\n",
       "<style scoped>\n",
       "    .dataframe tbody tr th:only-of-type {\n",
       "        vertical-align: middle;\n",
       "    }\n",
       "\n",
       "    .dataframe tbody tr th {\n",
       "        vertical-align: top;\n",
       "    }\n",
       "\n",
       "    .dataframe thead th {\n",
       "        text-align: right;\n",
       "    }\n",
       "</style>\n",
       "<table border=\"1\" class=\"dataframe\">\n",
       "  <thead>\n",
       "    <tr style=\"text-align: right;\">\n",
       "      <th></th>\n",
       "      <th>Name</th>\n",
       "      <th>Age</th>\n",
       "      <th>Sex</th>\n",
       "    </tr>\n",
       "  </thead>\n",
       "  <tbody>\n",
       "    <tr>\n",
       "      <th>0</th>\n",
       "      <td>Jake</td>\n",
       "      <td>20</td>\n",
       "      <td>Male</td>\n",
       "    </tr>\n",
       "    <tr>\n",
       "      <th>1</th>\n",
       "      <td>Anna</td>\n",
       "      <td>23</td>\n",
       "      <td>Femlae</td>\n",
       "    </tr>\n",
       "    <tr>\n",
       "      <th>2</th>\n",
       "      <td>Peter</td>\n",
       "      <td>21</td>\n",
       "      <td>Male</td>\n",
       "    </tr>\n",
       "  </tbody>\n",
       "</table>\n",
       "</div>"
      ],
      "text/plain": [
       "    Name  Age     Sex\n",
       "0   Jake   20    Male\n",
       "1   Anna   23  Femlae\n",
       "2  Peter   21    Male"
      ]
     },
     "execution_count": 12,
     "metadata": {},
     "output_type": "execute_result"
    }
   ],
   "source": [
    "df = pd.read_sql('select * from student', conn)\n",
    "df"
   ]
  },
  {
   "cell_type": "markdown",
   "metadata": {
    "id": "F5T2351WKFm-"
   },
   "source": [
    "### (3) Converting DataFrame to Databse \n",
    "The `.to_sql()` method converts a DataFrame object to a database object."
   ]
  },
  {
   "cell_type": "markdown",
   "metadata": {
    "id": "JWSzue84KFm_"
   },
   "source": [
    "Create an in-memory database engine.<br>\n",
    "※In-memory database: A database management system installed and operated on main memory for computer data storage."
   ]
  },
  {
   "cell_type": "markdown",
   "metadata": {},
   "source": [
    "`SQLAlchemy` is the Python SQL library that gives application developers the full power and flexibility of SQL.<br>\n",
    "Let's import `SQLAlchemy`'s `.create_engine()` to produce an engine object accessing a database based on a URL."
   ]
  },
  {
   "cell_type": "code",
   "execution_count": 13,
   "metadata": {
    "id": "sDm3w5i6KFm_"
   },
   "outputs": [],
   "source": [
    "from sqlalchemy import create_engine\n",
    "engine = create_engine('sqlite://', echo=False)"
   ]
  },
  {
   "cell_type": "markdown",
   "metadata": {
    "id": "GGqXJN8zKFnB"
   },
   "source": [
    "Convert `df` to a database named `student`."
   ]
  },
  {
   "cell_type": "code",
   "execution_count": 14,
   "metadata": {
    "id": "43JDW4bTKFnB"
   },
   "outputs": [],
   "source": [
    "df.to_sql('student', con=engine)"
   ]
  },
  {
   "cell_type": "markdown",
   "metadata": {
    "id": "MUdxDTcIKFnE"
   },
   "source": [
    "You can access the database using `.execute()` and `.fetchall()`."
   ]
  },
  {
   "cell_type": "code",
   "execution_count": 15,
   "metadata": {
    "id": "ewbUt6J-KFnE",
    "outputId": "ae0be2d8-b4ab-4405-a234-18264afcf1dc"
   },
   "outputs": [
    {
     "data": {
      "text/plain": [
       "[(0, 'Jake', 20, 'Male'), (1, 'Anna', 23, 'Femlae'), (2, 'Peter', 21, 'Male')]"
      ]
     },
     "execution_count": 15,
     "metadata": {},
     "output_type": "execute_result"
    }
   ],
   "source": [
    "engine.execute(\"SELECT * FROM student\").fetchall()"
   ]
  },
  {
   "cell_type": "markdown",
   "metadata": {
    "id": "vyRX0ok8KFnG"
   },
   "source": [
    "## 3. Database Manipulation\n",
    "\n",
    "Data can be manipulated in the form of a relation or of a DataFrame.<br>\n",
    "Let's learn by comparing the two methods."
   ]
  },
  {
   "cell_type": "markdown",
   "metadata": {
    "id": "zAyDLOEvKFnH"
   },
   "source": [
    "### (1) SELECT Name"
   ]
  },
  {
   "cell_type": "markdown",
   "metadata": {
    "id": "YwLQENBhKFnI",
    "scrolled": false
   },
   "source": [
    "#### Data of a person named 'Jake'"
   ]
  },
  {
   "cell_type": "code",
   "execution_count": 16,
   "metadata": {
    "id": "Isfwl-z3KFnI",
    "outputId": "2ba74837-6b75-41c2-fc49-869b39fa7818",
    "scrolled": true
   },
   "outputs": [
    {
     "data": {
      "text/html": [
       "<div>\n",
       "<style scoped>\n",
       "    .dataframe tbody tr th:only-of-type {\n",
       "        vertical-align: middle;\n",
       "    }\n",
       "\n",
       "    .dataframe tbody tr th {\n",
       "        vertical-align: top;\n",
       "    }\n",
       "\n",
       "    .dataframe thead th {\n",
       "        text-align: right;\n",
       "    }\n",
       "</style>\n",
       "<table border=\"1\" class=\"dataframe\">\n",
       "  <thead>\n",
       "    <tr style=\"text-align: right;\">\n",
       "      <th></th>\n",
       "      <th>Name</th>\n",
       "      <th>Age</th>\n",
       "      <th>Sex</th>\n",
       "    </tr>\n",
       "  </thead>\n",
       "  <tbody>\n",
       "    <tr>\n",
       "      <th>0</th>\n",
       "      <td>Jake</td>\n",
       "      <td>20</td>\n",
       "      <td>Male</td>\n",
       "    </tr>\n",
       "  </tbody>\n",
       "</table>\n",
       "</div>"
      ],
      "text/plain": [
       "   Name  Age   Sex\n",
       "0  Jake   20  Male"
      ]
     },
     "execution_count": 16,
     "metadata": {},
     "output_type": "execute_result"
    }
   ],
   "source": [
    "#SQL\n",
    "pd.read_sql('select * from student where student.Name=\"Jake\"', conn)"
   ]
  },
  {
   "cell_type": "code",
   "execution_count": 17,
   "metadata": {
    "id": "dh36jCxJKFnL",
    "outputId": "d8e8281c-8d50-4701-98dc-e678190fe475"
   },
   "outputs": [
    {
     "data": {
      "text/html": [
       "<div>\n",
       "<style scoped>\n",
       "    .dataframe tbody tr th:only-of-type {\n",
       "        vertical-align: middle;\n",
       "    }\n",
       "\n",
       "    .dataframe tbody tr th {\n",
       "        vertical-align: top;\n",
       "    }\n",
       "\n",
       "    .dataframe thead th {\n",
       "        text-align: right;\n",
       "    }\n",
       "</style>\n",
       "<table border=\"1\" class=\"dataframe\">\n",
       "  <thead>\n",
       "    <tr style=\"text-align: right;\">\n",
       "      <th></th>\n",
       "      <th>Name</th>\n",
       "      <th>Age</th>\n",
       "      <th>Sex</th>\n",
       "    </tr>\n",
       "  </thead>\n",
       "  <tbody>\n",
       "    <tr>\n",
       "      <th>0</th>\n",
       "      <td>Jake</td>\n",
       "      <td>20</td>\n",
       "      <td>Male</td>\n",
       "    </tr>\n",
       "  </tbody>\n",
       "</table>\n",
       "</div>"
      ],
      "text/plain": [
       "   Name  Age   Sex\n",
       "0  Jake   20  Male"
      ]
     },
     "execution_count": 17,
     "metadata": {},
     "output_type": "execute_result"
    }
   ],
   "source": [
    "#Pandas\n",
    "df[df.Name == 'Jake']"
   ]
  },
  {
   "cell_type": "markdown",
   "metadata": {
    "id": "FqX2CWq0KFnN"
   },
   "source": [
    "### (2) SELECT Age"
   ]
  },
  {
   "cell_type": "markdown",
   "metadata": {
    "id": "Zy36qL2-KFnN"
   },
   "source": [
    "#### Data of people over the age of 21"
   ]
  },
  {
   "cell_type": "code",
   "execution_count": 18,
   "metadata": {
    "id": "atV4sr6HKFnO",
    "outputId": "bdf97c81-e79c-4f39-cdba-1a714b7932d7",
    "scrolled": false
   },
   "outputs": [
    {
     "data": {
      "text/html": [
       "<div>\n",
       "<style scoped>\n",
       "    .dataframe tbody tr th:only-of-type {\n",
       "        vertical-align: middle;\n",
       "    }\n",
       "\n",
       "    .dataframe tbody tr th {\n",
       "        vertical-align: top;\n",
       "    }\n",
       "\n",
       "    .dataframe thead th {\n",
       "        text-align: right;\n",
       "    }\n",
       "</style>\n",
       "<table border=\"1\" class=\"dataframe\">\n",
       "  <thead>\n",
       "    <tr style=\"text-align: right;\">\n",
       "      <th></th>\n",
       "      <th>Name</th>\n",
       "      <th>Age</th>\n",
       "      <th>Sex</th>\n",
       "    </tr>\n",
       "  </thead>\n",
       "  <tbody>\n",
       "    <tr>\n",
       "      <th>0</th>\n",
       "      <td>Anna</td>\n",
       "      <td>23</td>\n",
       "      <td>Femlae</td>\n",
       "    </tr>\n",
       "  </tbody>\n",
       "</table>\n",
       "</div>"
      ],
      "text/plain": [
       "   Name  Age     Sex\n",
       "0  Anna   23  Femlae"
      ]
     },
     "execution_count": 18,
     "metadata": {},
     "output_type": "execute_result"
    }
   ],
   "source": [
    "#SQL\n",
    "pd.read_sql('select * from student where Age>21', conn)"
   ]
  },
  {
   "cell_type": "code",
   "execution_count": 19,
   "metadata": {
    "id": "USmh7pTbKFnQ",
    "outputId": "e03c1cf3-f129-43db-d47d-16967df6e387"
   },
   "outputs": [
    {
     "data": {
      "text/html": [
       "<div>\n",
       "<style scoped>\n",
       "    .dataframe tbody tr th:only-of-type {\n",
       "        vertical-align: middle;\n",
       "    }\n",
       "\n",
       "    .dataframe tbody tr th {\n",
       "        vertical-align: top;\n",
       "    }\n",
       "\n",
       "    .dataframe thead th {\n",
       "        text-align: right;\n",
       "    }\n",
       "</style>\n",
       "<table border=\"1\" class=\"dataframe\">\n",
       "  <thead>\n",
       "    <tr style=\"text-align: right;\">\n",
       "      <th></th>\n",
       "      <th>Name</th>\n",
       "      <th>Age</th>\n",
       "      <th>Sex</th>\n",
       "    </tr>\n",
       "  </thead>\n",
       "  <tbody>\n",
       "    <tr>\n",
       "      <th>1</th>\n",
       "      <td>Anna</td>\n",
       "      <td>23</td>\n",
       "      <td>Femlae</td>\n",
       "    </tr>\n",
       "  </tbody>\n",
       "</table>\n",
       "</div>"
      ],
      "text/plain": [
       "   Name  Age     Sex\n",
       "1  Anna   23  Femlae"
      ]
     },
     "execution_count": 19,
     "metadata": {},
     "output_type": "execute_result"
    }
   ],
   "source": [
    "#Pandas\n",
    "df[df.Age>21]"
   ]
  },
  {
   "cell_type": "markdown",
   "metadata": {
    "id": "qzmKCSdmKFnS"
   },
   "source": [
    "### (3) SELECT Sex"
   ]
  },
  {
   "cell_type": "markdown",
   "metadata": {
    "id": "87B3ZuocKFnT"
   },
   "source": [
    "#### Data of all men"
   ]
  },
  {
   "cell_type": "code",
   "execution_count": 20,
   "metadata": {
    "id": "NC6JvCFfKFnT",
    "outputId": "2a2d3a3a-7878-40bc-c34b-2fa6cb89b9d8",
    "scrolled": false
   },
   "outputs": [
    {
     "data": {
      "text/html": [
       "<div>\n",
       "<style scoped>\n",
       "    .dataframe tbody tr th:only-of-type {\n",
       "        vertical-align: middle;\n",
       "    }\n",
       "\n",
       "    .dataframe tbody tr th {\n",
       "        vertical-align: top;\n",
       "    }\n",
       "\n",
       "    .dataframe thead th {\n",
       "        text-align: right;\n",
       "    }\n",
       "</style>\n",
       "<table border=\"1\" class=\"dataframe\">\n",
       "  <thead>\n",
       "    <tr style=\"text-align: right;\">\n",
       "      <th></th>\n",
       "      <th>Name</th>\n",
       "      <th>Age</th>\n",
       "      <th>Sex</th>\n",
       "    </tr>\n",
       "  </thead>\n",
       "  <tbody>\n",
       "    <tr>\n",
       "      <th>0</th>\n",
       "      <td>Jake</td>\n",
       "      <td>20</td>\n",
       "      <td>Male</td>\n",
       "    </tr>\n",
       "    <tr>\n",
       "      <th>1</th>\n",
       "      <td>Peter</td>\n",
       "      <td>21</td>\n",
       "      <td>Male</td>\n",
       "    </tr>\n",
       "  </tbody>\n",
       "</table>\n",
       "</div>"
      ],
      "text/plain": [
       "    Name  Age   Sex\n",
       "0   Jake   20  Male\n",
       "1  Peter   21  Male"
      ]
     },
     "execution_count": 20,
     "metadata": {},
     "output_type": "execute_result"
    }
   ],
   "source": [
    "#SQL\n",
    "pd.read_sql('select * from student where Sex=\"Male\"', conn)"
   ]
  },
  {
   "cell_type": "code",
   "execution_count": 21,
   "metadata": {
    "id": "vz4ZXGePKFnV",
    "outputId": "ee67e635-0c6b-48aa-8e56-e586cb609b3b",
    "scrolled": true
   },
   "outputs": [
    {
     "data": {
      "text/html": [
       "<div>\n",
       "<style scoped>\n",
       "    .dataframe tbody tr th:only-of-type {\n",
       "        vertical-align: middle;\n",
       "    }\n",
       "\n",
       "    .dataframe tbody tr th {\n",
       "        vertical-align: top;\n",
       "    }\n",
       "\n",
       "    .dataframe thead th {\n",
       "        text-align: right;\n",
       "    }\n",
       "</style>\n",
       "<table border=\"1\" class=\"dataframe\">\n",
       "  <thead>\n",
       "    <tr style=\"text-align: right;\">\n",
       "      <th></th>\n",
       "      <th>Name</th>\n",
       "      <th>Age</th>\n",
       "      <th>Sex</th>\n",
       "    </tr>\n",
       "  </thead>\n",
       "  <tbody>\n",
       "    <tr>\n",
       "      <th>0</th>\n",
       "      <td>Jake</td>\n",
       "      <td>20</td>\n",
       "      <td>Male</td>\n",
       "    </tr>\n",
       "    <tr>\n",
       "      <th>2</th>\n",
       "      <td>Peter</td>\n",
       "      <td>21</td>\n",
       "      <td>Male</td>\n",
       "    </tr>\n",
       "  </tbody>\n",
       "</table>\n",
       "</div>"
      ],
      "text/plain": [
       "    Name  Age   Sex\n",
       "0   Jake   20  Male\n",
       "2  Peter   21  Male"
      ]
     },
     "execution_count": 21,
     "metadata": {},
     "output_type": "execute_result"
    }
   ],
   "source": [
    "#Pandas\n",
    "df[df.Sex=='Male']"
   ]
  }
 ],
 "metadata": {
  "colab": {
   "collapsed_sections": [
    "Ogrrzdw8F7L-",
    "8SO3JN_zF7Ma",
    "xtKhM9-9F7Mg",
    "ok6GtGgzF7Mt",
    "_LYX9p_gF7NC",
    "zD6wCrC1F7NN",
    "fMRVmGMlF7NY",
    "g7IXuy0XF7Nc",
    "RiUBl_BGF7Ng",
    "ziETakfhF7N0",
    "5Y8QhuACF7N9",
    "KHz4hp2DF7OG",
    "h4MX1JgTF7OQ",
    "MUamdvetF7Oa",
    "mu3RgvOEF7Of",
    "dXf7tcqPF7On",
    "LRgy96saF7O6",
    "PPwIqaaGeGu9",
    "qOhWUhQ9dzNe",
    "odmb9Jt8F7PH",
    "d_y8FZ4yF7PU",
    "UFAnpQJFF7PW",
    "mo85CGQBF7PY",
    "mKwyZJF8F7Pf",
    "hwt2XQqxF7Pk",
    "tkXZ_a3EF7Ps"
   ],
   "name": "4_데이터베이스(SQLITE).ipynb",
   "provenance": [],
   "toc_visible": true
  },
  "kernelspec": {
   "display_name": "Python 3",
   "language": "python",
   "name": "python3"
  },
  "language_info": {
   "codemirror_mode": {
    "name": "ipython",
    "version": 3
   },
   "file_extension": ".py",
   "mimetype": "text/x-python",
   "name": "python",
   "nbconvert_exporter": "python",
   "pygments_lexer": "ipython3",
   "version": "3.8.3"
  },
  "toc": {
   "base_numbering": 1,
   "nav_menu": {},
   "number_sections": false,
   "sideBar": true,
   "skip_h1_title": false,
   "title_cell": "Table of Contents",
   "title_sidebar": "Contents",
   "toc_cell": false,
   "toc_position": {
    "height": "calc(100% - 180px)",
    "left": "10px",
    "top": "150px",
    "width": "313.815px"
   },
   "toc_section_display": true,
   "toc_window_display": true
  },
  "varInspector": {
   "cols": {
    "lenName": 16,
    "lenType": 16,
    "lenVar": 40
   },
   "kernels_config": {
    "python": {
     "delete_cmd_postfix": "",
     "delete_cmd_prefix": "del ",
     "library": "var_list.py",
     "varRefreshCmd": "print(var_dic_list())"
    },
    "r": {
     "delete_cmd_postfix": ") ",
     "delete_cmd_prefix": "rm(",
     "library": "var_list.r",
     "varRefreshCmd": "cat(var_dic_list()) "
    }
   },
   "types_to_exclude": [
    "module",
    "function",
    "builtin_function_or_method",
    "instance",
    "_Feature"
   ],
   "window_display": false
  }
 },
 "nbformat": 4,
 "nbformat_minor": 1
}
