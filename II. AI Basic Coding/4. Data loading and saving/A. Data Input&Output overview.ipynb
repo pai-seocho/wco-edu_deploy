{
 "cells": [
  {
   "cell_type": "markdown",
   "metadata": {},
   "source": [
    "<i><b>Public AI</b></i>\n",
    "<br>\n",
    "### **&nbsp;&nbsp;Chapter 5. Data loading and saving**\n",
    "# Section 0. Data Input and Output Overview"
   ]
  },
  {
   "cell_type": "markdown",
   "metadata": {},
   "source": [
    "<hr>"
   ]
  },
  {
   "cell_type": "markdown",
   "metadata": {},
   "source": [
    "## [1. What is data input and output?]\n",
    "\n",
    "Data input&output refers to reading and writing data to a file. \n"
   ]
  },
  {
   "cell_type": "markdown",
   "metadata": {},
   "source": [
    "- <b>Data input</b>: loading data from external files to internal programs.\n",
    "- <b>Data output</b>: saving internal program data in a file for external use.<br>\n",
    "<img src=\"https://imgur.com/UvNesY4.png\" align=left width=\"300\" height=\"300\"><br>"
   ]
  },
  {
   "cell_type": "markdown",
   "metadata": {},
   "source": [
    "We call those actions Data input and output."
   ]
  },
  {
   "cell_type": "markdown",
   "metadata": {},
   "source": [
    "<br>"
   ]
  },
  {
   "cell_type": "markdown",
   "metadata": {},
   "source": [
    "## [2. Forms of data input and output]\n",
    ": There are 3 forms of data input and output. ```r```, ```w```, and ```a```.\n",
    "\n",
    "|   Forms  | Mode| Description|\n",
    "|:-------:|:-------:|:---------------------------------------------------------:|\n",
    "| ```r``` | Read mode   | reads contents of a file. If the file doesn't exist, an error will occur.|\n",
    "| ```w``` | Write mode  | writes contents to a file, If the file doesn't exist, a new file will be created. |  \n",
    "| ```a``` | Append mode | appends new contents to the end of the existing file. If the file doesn't exist, a new file will be created.|"
   ]
  },
  {
   "cell_type": "markdown",
   "metadata": {},
   "source": [
    "- You can use a function `open()` to load data from a file as follows. <br>\n",
    "   `open('directory of the file to be opened', 'r, w or a')`"
   ]
  },
  {
   "cell_type": "markdown",
   "metadata": {},
   "source": [
    "<br>"
   ]
  },
  {
   "cell_type": "markdown",
   "metadata": {},
   "source": [
    "## [3. Types of file formats]\n",
    ": Python supports various data file formats as shown below.\n",
    "- Text(.txt, .csv)\n",
    "- JSON\n",
    "- XML\n",
    "- HTML\n",
    "- SQL"
   ]
  },
  {
   "cell_type": "markdown",
   "metadata": {},
   "source": [
    "### Text(.txt, .csv)"
   ]
  },
  {
   "cell_type": "markdown",
   "metadata": {},
   "source": [
    "<b>txt</b>: a type of files that saves input data as a single string.  \n",
    "<b>csv(comma-separated values)</b>: a delimited text file that uses a comma to separate values saving each value as a string."
   ]
  },
  {
   "cell_type": "markdown",
   "metadata": {},
   "source": [
    "### JSON(JavaScript Object Notation)"
   ]
  },
  {
   "cell_type": "markdown",
   "metadata": {},
   "source": [
    "JSON is Key-value pair data.  \n",
    "It is an easy language that can be understood by humans and machines."
   ]
  },
  {
   "cell_type": "markdown",
   "metadata": {},
   "source": [
    "### XML(EXtensible Markup Language)"
   ]
  },
  {
   "cell_type": "markdown",
   "metadata": {},
   "source": [
    "XML is an extensible markup language used for sharing information between application."
   ]
  },
  {
   "cell_type": "markdown",
   "metadata": {},
   "source": [
    "### HTML(HyperText Markup Language)"
   ]
  },
  {
   "cell_type": "markdown",
   "metadata": {},
   "source": [
    "HTML is a markup language used for designing and drawing layout of a web-page."
   ]
  },
  {
   "cell_type": "markdown",
   "metadata": {},
   "source": [
    "### SQL"
   ]
  },
  {
   "cell_type": "markdown",
   "metadata": {},
   "source": [
    "SQL is a query language designed to manage data in RDBMS."
   ]
  },
  {
   "cell_type": "markdown",
   "metadata": {},
   "source": [
    "<br>"
   ]
  },
  {
   "cell_type": "markdown",
   "metadata": {},
   "source": [
    "## [4. Index]\n",
    "\n",
    "### B. Text Files(.txt, .csv) - Input&Output\n",
    "### C. JSON Files - Input&Output\n",
    "### D. XML, HTML\n",
    "### E. Database(SQLITE)"
   ]
  },
  {
   "cell_type": "markdown",
   "metadata": {},
   "source": [
    "#  \n",
    "\n",
    "---\n",
    "\n",
    "    Copyright(c) 2021 by Public AI. All rights reserved.\n",
    "    Writen by PAI, last updated on 2021/01/07\n",
    "---"
   ]
  }
 ],
 "metadata": {
  "kernelspec": {
   "display_name": "Python 3",
   "language": "python",
   "name": "python3"
  },
  "language_info": {
   "codemirror_mode": {
    "name": "ipython",
    "version": 3
   },
   "file_extension": ".py",
   "mimetype": "text/x-python",
   "name": "python",
   "nbconvert_exporter": "python",
   "pygments_lexer": "ipython3",
   "version": "3.8.3"
  }
 },
 "nbformat": 4,
 "nbformat_minor": 4
}
