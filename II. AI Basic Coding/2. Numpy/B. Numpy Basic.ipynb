{
 "cells": [
  {
   "cell_type": "markdown",
   "metadata": {
    "id": "tC2Ek5GX41JS"
   },
   "source": [
    "# B. Numpy Basic\n"
   ]
  },
  {
   "cell_type": "markdown",
   "metadata": {},
   "source": [
    "\n",
    "**Numpy** is one of the Python's most used packages for data-handling. It allows you to manipulate data efficiently by providing high-performance multidimensional array objects with the operation tools.\n",
    "\n",
    "A `Numpy array` is **an n-dimensional data structure** that allows you to process data much faster and more efficiently than lists.\n",
    "\n",
    "In this section, we will be looking at how to process data using Numpy.\n",
    "\n"
   ]
  },
  {
   "cell_type": "markdown",
   "metadata": {
    "id": "-ivBUD0Fa5KZ"
   },
   "source": [
    "### _Objective_\n",
    "1. **Importing Numpy** : Learning how to import Numpy and use it for data processing.\n",
    "2. **Comparing Numpy Arrays with Lists** : Understanding the examples of Numpy indexing, aggregate operation, element-wise operation."
   ]
  },
  {
   "cell_type": "markdown",
   "metadata": {
    "id": "dEtXe7DXa-P3"
   },
   "source": [
    "# \\[1. Importing Numpy\\]\n",
    "\n",
    "Since `Numpy` is not a Python built-in package, it requires a separate installation from an external source. In case you don't have Numpy on your computer, proceed the installation using `pip` command and import it to the current working file. \n",
    "\n"
   ]
  },
  {
   "cell_type": "code",
   "execution_count": 1,
   "metadata": {
    "executionInfo": {
     "elapsed": 802,
     "status": "ok",
     "timestamp": 1604026809721,
     "user": {
      "displayName": "Minseo Kim",
      "photoUrl": "",
      "userId": "13585292405465288254"
     },
     "user_tz": -540
    },
    "id": "8haRCcip41JT"
   },
   "outputs": [],
   "source": [
    "import numpy as np"
   ]
  },
  {
   "cell_type": "markdown",
   "metadata": {
    "id": "RsL-P-_TYZBL"
   },
   "source": [
    "Once Numpy is imported to the current file, create an array using **`np.array()`**. "
   ]
  },
  {
   "cell_type": "code",
   "execution_count": 2,
   "metadata": {
    "colab": {
     "base_uri": "https://localhost:8080/"
    },
    "executionInfo": {
     "elapsed": 655,
     "status": "ok",
     "timestamp": 1604026810148,
     "user": {
      "displayName": "Minseo Kim",
      "photoUrl": "",
      "userId": "13585292405465288254"
     },
     "user_tz": -540
    },
    "id": "5E5gRXV4YZBM",
    "outputId": "0ea5e6b0-3ce8-4f6e-accb-a055181c6611"
   },
   "outputs": [
    {
     "name": "stdout",
     "output_type": "stream",
     "text": [
      "<class 'numpy.ndarray'>\n"
     ]
    }
   ],
   "source": [
    "np_array = np.array([10, 12])\n",
    "print(type(np_array))"
   ]
  },
  {
   "cell_type": "markdown",
   "metadata": {},
   "source": [
    "Now, you know the basic concept of Numpy and the array. We'll cover the entire section with a number of examples based on the following example data."
   ]
  },
  {
   "cell_type": "markdown",
   "metadata": {
    "id": "7t4m-iaH41JY"
   },
   "source": [
    "\n",
    "Example 1. Numpy arrays and Python lists show similarities and differences in the aspect of their functionality. Therefore, we'll be looking at how the same tasks are performed differently in each.<br>\n",
    "\n",
    "### Example Data) Grade reports of 6 students in Science, English and Math\n",
    "\n",
    "\n",
    "\n",
    "| StudentID | Science | English | Math | \n",
    "|  ----   | --- |---| --- |\n",
    "|0 |80 |92 |70 |\n",
    "|1 |91 |75 |90|\n",
    "|2 |86 |76 |42 |\n",
    "|3 |77 |92 |52 |\n",
    "|4 |75 |85 |85 | \n",
    "|5 |96 |90 |95 |"
   ]
  },
  {
   "cell_type": "markdown",
   "metadata": {
    "id": "RnsbqM5U41JZ"
   },
   "source": [
    "First off, you need to create a list and a Numpy array for the example data. Let's do it as follows."
   ]
  },
  {
   "cell_type": "code",
   "execution_count": 3,
   "metadata": {
    "executionInfo": {
     "elapsed": 808,
     "status": "ok",
     "timestamp": 1604026810872,
     "user": {
      "displayName": "Minseo Kim",
      "photoUrl": "",
      "userId": "13585292405465288254"
     },
     "user_tz": -540
    },
    "id": "Y3HMTSxm41JZ"
   },
   "outputs": [],
   "source": [
    "# The scores of 6 students in a list\n",
    "\n",
    "scores_list = [\n",
    "    [80, 92, 70],\n",
    "    [91, 75, 90],\n",
    "    [86, 96, 42],\n",
    "    [77, 92, 52],\n",
    "    [75, 85, 85],\n",
    "    [96, 90, 95]\n",
    "]\n",
    "\n",
    "# The scores of 6 students in a Numpy array.\n",
    "\n",
    "scores_np = np.array([\n",
    "    [80, 92, 70],\n",
    "    [91, 75, 90],\n",
    "    [86, 96, 42],\n",
    "    [77, 92, 52],\n",
    "    [75, 85, 85],\n",
    "    [96, 90, 95]\n",
    "])"
   ]
  },
  {
   "cell_type": "markdown",
   "metadata": {
    "id": "KA149G9fYZBS"
   },
   "source": [
    "<hr>\n",
    "\n",
    "# \\[2. Numpy Array vs Python List\\]\n",
    "\n",
    "Numpy arrays are seemingly quite similar to Python lists.\n",
    "So, we will be looking at each data structure's performance on\n",
    "- **indexing**\n",
    "- **aggregate operation**\n",
    "- **elementwise operation**\n",
    "\n",
    " "
   ]
  },
  {
   "cell_type": "markdown",
   "metadata": {
    "id": "3VYICmUI7E9c"
   },
   "source": [
    "## 1. Indexing\n",
    "- Let's compare Numpy array indexing with list indexing and see the difference in performance."
   ]
  },
  {
   "cell_type": "markdown",
   "metadata": {
    "id": "XQM8v73N41Jc"
   },
   "source": [
    "### (1) Performance of student 1"
   ]
  },
  {
   "cell_type": "markdown",
   "metadata": {
    "id": "oJf4KsCV41Jd"
   },
   "source": [
    "#### `list`"
   ]
  },
  {
   "cell_type": "code",
   "execution_count": 5,
   "metadata": {
    "colab": {
     "base_uri": "https://localhost:8080/"
    },
    "executionInfo": {
     "elapsed": 832,
     "status": "ok",
     "timestamp": 1604026811798,
     "user": {
      "displayName": "Minseo Kim",
      "photoUrl": "",
      "userId": "13585292405465288254"
     },
     "user_tz": -540
    },
    "id": "wyueDBad41Je",
    "outputId": "13bbf9fd-84c7-44d2-88ff-0835f16d0c6a"
   },
   "outputs": [
    {
     "data": {
      "text/plain": [
       "[80, 92, 70]"
      ]
     },
     "execution_count": 5,
     "metadata": {
      "tags": []
     },
     "output_type": "execute_result"
    }
   ],
   "source": [
    "scores_list[0]"
   ]
  },
  {
   "cell_type": "markdown",
   "metadata": {
    "id": "mwMxpCpK41Jj"
   },
   "source": [
    "#### `np.array`"
   ]
  },
  {
   "cell_type": "code",
   "execution_count": 6,
   "metadata": {
    "colab": {
     "base_uri": "https://localhost:8080/"
    },
    "executionInfo": {
     "elapsed": 978,
     "status": "ok",
     "timestamp": 1604026812708,
     "user": {
      "displayName": "Minseo Kim",
      "photoUrl": "",
      "userId": "13585292405465288254"
     },
     "user_tz": -540
    },
    "id": "d71cywer41Jk",
    "outputId": "b6f6b16f-0025-47a5-c08b-ba75513bb554"
   },
   "outputs": [
    {
     "data": {
      "text/plain": [
       "array([80, 92, 70])"
      ]
     },
     "execution_count": 6,
     "metadata": {
      "tags": []
     },
     "output_type": "execute_result"
    }
   ],
   "source": [
    "scores_np[0]"
   ]
  },
  {
   "cell_type": "markdown",
   "metadata": {
    "id": "-qeQzOx941Jn"
   },
   "source": [
    "### (2) Performance of student 1, 2, and 3"
   ]
  },
  {
   "cell_type": "markdown",
   "metadata": {
    "id": "gaLXVhQY41Jo"
   },
   "source": [
    "#### `list`"
   ]
  },
  {
   "cell_type": "code",
   "execution_count": 7,
   "metadata": {
    "colab": {
     "base_uri": "https://localhost:8080/"
    },
    "executionInfo": {
     "elapsed": 579,
     "status": "ok",
     "timestamp": 1604026813602,
     "user": {
      "displayName": "Minseo Kim",
      "photoUrl": "",
      "userId": "13585292405465288254"
     },
     "user_tz": -540
    },
    "id": "rkO3x4ut41Jp",
    "outputId": "51a3350a-d241-4a2d-8165-f582c0df4945"
   },
   "outputs": [
    {
     "data": {
      "text/plain": [
       "[[91, 75, 90], [86, 96, 42], [77, 92, 52]]"
      ]
     },
     "execution_count": 7,
     "metadata": {
      "tags": []
     },
     "output_type": "execute_result"
    }
   ],
   "source": [
    "scores_list[1:4] # accessing a subset of the list"
   ]
  },
  {
   "cell_type": "markdown",
   "metadata": {
    "id": "Sy-RQUx541Js"
   },
   "source": [
    "#### `np.array`"
   ]
  },
  {
   "cell_type": "code",
   "execution_count": 8,
   "metadata": {
    "colab": {
     "base_uri": "https://localhost:8080/"
    },
    "executionInfo": {
     "elapsed": 767,
     "status": "ok",
     "timestamp": 1604026814428,
     "user": {
      "displayName": "Minseo Kim",
      "photoUrl": "",
      "userId": "13585292405465288254"
     },
     "user_tz": -540
    },
    "id": "FrcfLudV41Jt",
    "outputId": "3505e0bc-c32a-4d27-f000-18d1651962ae"
   },
   "outputs": [
    {
     "data": {
      "text/plain": [
       "array([[91, 75, 90],\n",
       "       [86, 96, 42],\n",
       "       [77, 92, 52]])"
      ]
     },
     "execution_count": 8,
     "metadata": {
      "tags": []
     },
     "output_type": "execute_result"
    }
   ],
   "source": [
    "scores_np[1:4] # accessing a subset of the list"
   ]
  },
  {
   "cell_type": "markdown",
   "metadata": {
    "id": "oA8PiL6w41Jw"
   },
   "source": [
    "So far, the difference between Numpy arrays and Python lists is barely visible.\n",
    "We've seen that the syntax of list indexing and Numpy array indexing is quite the same.\n",
    "\n",
    "Now, let's dive more into the indexing to get scores of particular students in arbitrary order."
   ]
  },
  {
   "cell_type": "markdown",
   "metadata": {
    "id": "ekeF6D1Di5Uj"
   },
   "source": [
    "### (3) Performance of students 0, 4 and 1"
   ]
  },
  {
   "cell_type": "markdown",
   "metadata": {
    "id": "0fzk_7_Q41Jx"
   },
   "source": [
    "#### `list`"
   ]
  },
  {
   "cell_type": "code",
   "execution_count": 4,
   "metadata": {
    "id": "Xtg2kX1W41Jx",
    "outputId": "6e26cf11-7a26-444d-f158-e170e6ca504a"
   },
   "outputs": [
    {
     "ename": "TypeError",
     "evalue": "list indices must be integers or slices, not list",
     "output_type": "error",
     "traceback": [
      "\u001b[1;31m---------------------------------------------------------------------------\u001b[0m",
      "\u001b[1;31mTypeError\u001b[0m                                 Traceback (most recent call last)",
      "\u001b[1;32m<ipython-input-4-3ad7e1a3c5cf>\u001b[0m in \u001b[0;36m<module>\u001b[1;34m()\u001b[0m\n\u001b[1;32m----> 1\u001b[1;33m \u001b[0mscores_list\u001b[0m\u001b[1;33m[\u001b[0m\u001b[1;33m[\u001b[0m\u001b[1;36m0\u001b[0m\u001b[1;33m,\u001b[0m\u001b[1;36m4\u001b[0m\u001b[1;33m,\u001b[0m\u001b[1;36m1\u001b[0m\u001b[1;33m]\u001b[0m\u001b[1;33m]\u001b[0m \u001b[1;31m# TypeError\u001b[0m\u001b[1;33m\u001b[0m\u001b[0m\n\u001b[0m",
      "\u001b[1;31mTypeError\u001b[0m: list indices must be integers or slices, not list"
     ]
    }
   ],
   "source": [
    "scores_list[[0,4,1]] # TypeError"
   ]
  },
  {
   "cell_type": "markdown",
   "metadata": {
    "id": "SI8gOXuF41J2"
   },
   "source": [
    "You cannot get the desired scores since accessing multiple **non-sequential** rows at once is not supported in list. Instead, each student's scores must be accessed separately and then aggregated into a new list object as shown below."
   ]
  },
  {
   "cell_type": "code",
   "execution_count": 5,
   "metadata": {
    "colab": {
     "base_uri": "https://localhost:8080/"
    },
    "executionInfo": {
     "elapsed": 863,
     "status": "ok",
     "timestamp": 1604026839249,
     "user": {
      "displayName": "Minseo Kim",
      "photoUrl": "",
      "userId": "13585292405465288254"
     },
     "user_tz": -540
    },
    "id": "wm6TPrqx41J2",
    "outputId": "fcb3ce45-2902-4ac5-db6a-79eaca413b77"
   },
   "outputs": [
    {
     "data": {
      "text/plain": [
       "[[80, 92, 70], [75, 85, 85], [91, 75, 90]]"
      ]
     },
     "execution_count": 5,
     "metadata": {},
     "output_type": "execute_result"
    }
   ],
   "source": [
    "[scores_list[0],scores_list[4],scores_list[1]]"
   ]
  },
  {
   "cell_type": "markdown",
   "metadata": {
    "id": "CeSDL1Bi41J5"
   },
   "source": [
    "#### `np.array`\n",
    "On the other hand, you can perform the same task on a Numpy array, simply by inserting row indices to the index brackets **`[]`**."
   ]
  },
  {
   "cell_type": "code",
   "execution_count": null,
   "metadata": {
    "id": "pvLsMgqY41J6",
    "outputId": "9a1dfcfe-e964-43d6-83a0-1ba638992f6c"
   },
   "outputs": [
    {
     "data": {
      "text/plain": [
       "array([[80, 92, 70],\n",
       "       [75, 85, 85],\n",
       "       [96, 90, 95]])"
      ]
     },
     "execution_count": 10,
     "metadata": {
      "tags": []
     },
     "output_type": "execute_result"
    }
   ],
   "source": [
    "scores_np[[0,4,1]] "
   ]
  },
  {
   "cell_type": "markdown",
   "metadata": {
    "id": "YjG0UpEI41J9"
   },
   "source": [
    "Now, let's take a look at how to select scores according to **subject names.**<br>\n",
    "First, we'll get the entire scores achieved in science. "
   ]
  },
  {
   "cell_type": "code",
   "execution_count": null,
   "metadata": {
    "collapsed": true,
    "id": "XKEMTGiRr0sS"
   },
   "outputs": [],
   "source": [
    "### (4) Science scores of all students"
   ]
  },
  {
   "cell_type": "markdown",
   "metadata": {
    "id": "nhtvxKlm41J-"
   },
   "source": [
    "#### `list`"
   ]
  },
  {
   "cell_type": "markdown",
   "metadata": {
    "id": "RVe6d8o7YZBr"
   },
   "source": [
    "When selecting data from a Python list, you first have to access rows for each student and then select the first element in each row to get the science score of each student.\n",
    "So, let's create an empty list `science_scores` first to collect science scores using a `for` loop."
   ]
  },
  {
   "cell_type": "code",
   "execution_count": 6,
   "metadata": {
    "id": "rQBnNQCN41J_",
    "outputId": "d13a3cf4-9874-46c5-93c5-5cd52f64a4e9"
   },
   "outputs": [
    {
     "name": "stdout",
     "output_type": "stream",
     "text": [
      "Achievement in Science = [80, 91, 86, 77, 75, 96]\n"
     ]
    }
   ],
   "source": [
    "science_scores = [] # creating an empty list to collect science grades\n",
    "\n",
    "for student_number, score in enumerate(scores_list):\n",
    "    science_scores.append(score[0])\n",
    "\n",
    "print('Achievement in Science =', science_scores)"
   ]
  },
  {
   "cell_type": "markdown",
   "metadata": {
    "id": "2h3FJIMf41KE"
   },
   "source": [
    "#### `np.array`"
   ]
  },
  {
   "cell_type": "markdown",
   "metadata": {
    "id": "D_QL3OoLYZBu"
   },
   "source": [
    "In a 2-dimensional Numpy array, we can select data in 2 ways, over a specific row, either row-wise (axis = 0) and column-wise (axis = 1), or both. The syntax for Numpy array indexing is **`np.ndarray[row_index, column_index]`**. <br>Note that the indexing is zero-based.\n",
    "\n",
    "Since we're reviewing all students' science scores, we'll be accessing **every row** by inserting a colon(**`:`**) for row_index.<br>\n",
    "Then, for column_index, we only need to look at the column of science scores, the first column. So, we'll enter 0(**zero-based**) to the column_index.<br>\n",
    "After all, the code for viewing all students' science scores will be written as  **`scores_np[:, 0]`** indicating first column of every row."
   ]
  },
  {
   "cell_type": "code",
   "execution_count": null,
   "metadata": {
    "id": "V3TLDygh41KF",
    "outputId": "9997928c-90b6-4f14-bd2b-da55e57c33d0"
   },
   "outputs": [
    {
     "data": {
      "text/plain": [
       "array([80, 91, 86, 77, 75, 96])"
      ]
     },
     "execution_count": 12,
     "metadata": {
      "tags": []
     },
     "output_type": "execute_result"
    }
   ],
   "source": [
    "scores_np[:,0] "
   ]
  },
  {
   "cell_type": "markdown",
   "metadata": {
    "id": "P6hah_RL7tsr"
   },
   "source": [
    "## 2. Aggregate Operation\n",
    "- Let's compare aggregate operations on lists and Numpy arrays."
   ]
  },
  {
   "cell_type": "markdown",
   "metadata": {
    "id": "WclA6xCo41KL"
   },
   "source": [
    "### (1) Total score for each student"
   ]
  },
  {
   "cell_type": "markdown",
   "metadata": {
    "id": "gV8RlNjy41KN"
   },
   "source": [
    "#### `list`"
   ]
  },
  {
   "cell_type": "markdown",
   "metadata": {
    "id": "FHu8V3WMYZBx"
   },
   "source": [
    "In case of using a list, you need to create an empty list, `total_scores` in this case. Then, access the row of each student, sum up all row elements to get the total scores of students and finally append it to `total_scores`. Since there are 6 students, use a `for` loop to get a list of total scores for 6 students at the end."
   ]
  },
  {
   "cell_type": "code",
   "execution_count": null,
   "metadata": {
    "colab": {
     "base_uri": "https://localhost:8080/",
     "height": 33
    },
    "executionInfo": {
     "elapsed": 604,
     "status": "ok",
     "timestamp": 1551680921249,
     "user": {
      "displayName": "최선열",
      "photoUrl": "",
      "userId": "00663027191814710813"
     },
     "user_tz": -540
    },
    "id": "ZrM8ejyX41KO",
    "outputId": "0fee3abe-7754-4dce-d21f-0d3b67207394"
   },
   "outputs": [
    {
     "data": {
      "text/plain": [
       "[242, 256, 224, 221, 245, 281]"
      ]
     },
     "execution_count": 13,
     "metadata": {
      "tags": []
     },
     "output_type": "execute_result"
    }
   ],
   "source": [
    "total_scores = [] # creating an empty list to collect the total score of each student\n",
    "\n",
    "for score in scores_list:\n",
    "    total_score = sum(score) # calculating the total score of each student\n",
    "    total_scores.append(total_score) \n",
    "    \n",
    "total_scores"
   ]
  },
  {
   "cell_type": "markdown",
   "metadata": {
    "id": "cuICBqHQ41KR"
   },
   "source": [
    "#### `np.array`\n",
    "On Numpy arrays, however, you only need a single line of code to perform the same task."
   ]
  },
  {
   "cell_type": "code",
   "execution_count": 7,
   "metadata": {
    "colab": {
     "base_uri": "https://localhost:8080/",
     "height": 33
    },
    "executionInfo": {
     "elapsed": 366,
     "status": "ok",
     "timestamp": 1551680921532,
     "user": {
      "displayName": "최선열",
      "photoUrl": "",
      "userId": "00663027191814710813"
     },
     "user_tz": -540
    },
    "id": "cB_spmLn41KR",
    "outputId": "2e1c7d5b-bb59-4362-cff4-ab0b311d2f9b"
   },
   "outputs": [
    {
     "data": {
      "text/plain": [
       "array([242, 256, 224, 221, 245, 281])"
      ]
     },
     "execution_count": 7,
     "metadata": {},
     "output_type": "execute_result"
    }
   ],
   "source": [
    "scores_np.sum(axis=1) # calculating each student's total score using a single line of code with Numpy "
   ]
  },
  {
   "cell_type": "markdown",
   "metadata": {
    "id": "SE6lfxpFHGFf"
   },
   "source": [
    "## 3. Element-wise Operations on Numpy Arrays and Python Lists.\n",
    "\n",
    "+ An `elementwise operation` refers to a task operated on one element at a time and is supported on Numpy arrays.\n"
   ]
  },
  {
   "cell_type": "markdown",
   "metadata": {
    "id": "nPK9uNkf41Kc"
   },
   "source": [
    "### (1) Grade deduction table by student "
   ]
  },
  {
   "cell_type": "markdown",
   "metadata": {
    "id": "rpCDFzYT41Kd"
   },
   "source": [
    "#### `list`\n",
    "Let's assume that you want to calculate how many points student missed in each exam by subtracting student scores from the highest possible score set at 100.<br>\n",
    "When using a list, you have to create an empty list `miss_scores`, access `scores_list` by row and then by element to perform the subtraction. Then again, you append each result to `miss-scores`."
   ]
  },
  {
   "cell_type": "code",
   "execution_count": 1,
   "metadata": {
    "id": "BulmSv-U41Kd",
    "outputId": "d83c1893-bdc4-433a-b0b8-d46a880c3a87"
   },
   "outputs": [
    {
     "ename": "NameError",
     "evalue": "name 'scores_list' is not defined",
     "output_type": "error",
     "traceback": [
      "\u001b[1;31m---------------------------------------------------------------------------\u001b[0m",
      "\u001b[1;31mNameError\u001b[0m                                 Traceback (most recent call last)",
      "\u001b[1;32m<ipython-input-1-22775d81307c>\u001b[0m in \u001b[0;36m<module>\u001b[1;34m\u001b[0m\n\u001b[0;32m      1\u001b[0m \u001b[0mmiss_scores\u001b[0m \u001b[1;33m=\u001b[0m \u001b[1;33m[\u001b[0m\u001b[1;33m]\u001b[0m\u001b[1;33m\u001b[0m\u001b[1;33m\u001b[0m\u001b[0m\n\u001b[0;32m      2\u001b[0m \u001b[1;33m\u001b[0m\u001b[0m\n\u001b[1;32m----> 3\u001b[1;33m \u001b[1;32mfor\u001b[0m \u001b[0mscores\u001b[0m \u001b[1;32min\u001b[0m \u001b[0mscores_list\u001b[0m\u001b[1;33m:\u001b[0m\u001b[1;33m\u001b[0m\u001b[1;33m\u001b[0m\u001b[0m\n\u001b[0m\u001b[0;32m      4\u001b[0m     \u001b[0mmiss_score\u001b[0m \u001b[1;33m=\u001b[0m \u001b[1;33m[\u001b[0m\u001b[1;33m]\u001b[0m\u001b[1;33m\u001b[0m\u001b[1;33m\u001b[0m\u001b[0m\n\u001b[0;32m      5\u001b[0m     \u001b[1;32mfor\u001b[0m \u001b[0mscore\u001b[0m \u001b[1;32min\u001b[0m \u001b[0mscores\u001b[0m\u001b[1;33m:\u001b[0m\u001b[1;33m\u001b[0m\u001b[1;33m\u001b[0m\u001b[0m\n",
      "\u001b[1;31mNameError\u001b[0m: name 'scores_list' is not defined"
     ]
    }
   ],
   "source": [
    "miss_scores = []\n",
    "\n",
    "for scores in scores_list:\n",
    "    miss_score = []\n",
    "    for score in scores:\n",
    "        miss = 100-score # subtracting `score` from 100 to calculate how many points are missed\n",
    "        miss_score.append(miss)\n",
    "    miss_scores.append(miss_score)\n",
    "miss_scores"
   ]
  },
  {
   "cell_type": "markdown",
   "metadata": {
    "id": "je_PNQWT41Kh"
   },
   "source": [
    "#### `np.array`\n",
    "Unlike Python lists, you again only need a single line of code to perform the same task on a Numpy array by **subtracting the array as a whole from 100** which is expressed as **`100 - scores_np`**. The subtraction will automatically be applied to every array element."
   ]
  },
  {
   "cell_type": "code",
   "execution_count": null,
   "metadata": {
    "id": "HamucM7141Kh",
    "outputId": "c0b6a0f7-27a9-4723-dbb3-ea8fe919b22e"
   },
   "outputs": [
    {
     "data": {
      "text/plain": [
       "array([[20,  8, 30],\n",
       "       [ 9, 25, 10],\n",
       "       [14,  4, 58],\n",
       "       [23,  8, 48],\n",
       "       [25, 15, 15],\n",
       "       [ 4, 10,  5]])"
      ]
     },
     "execution_count": 16,
     "metadata": {
      "tags": []
     },
     "output_type": "execute_result"
    }
   ],
   "source": [
    "100 - scores_np"
   ]
  },
  {
   "cell_type": "markdown",
   "metadata": {
    "id": "LbUtF67_YZB7"
   },
   "source": [
    "Even though Numpy Arrays look similar to Python lists, they have the advantage of being compatible with various operations with simpler code. Not only does it save time and burden in writing code, but the actual operation time is also much faster, and that’s how Numpy has become the package widely used for dealing with large data sets."
   ]
  }
 ],
 "metadata": {
  "colab": {
   "collapsed_sections": [
    "7t4m-iaH41JY",
    "XQM8v73N41Jc",
    "oJf4KsCV41Jd",
    "mwMxpCpK41Jj",
    "-qeQzOx941Jn",
    "gaLXVhQY41Jo",
    "Sy-RQUx541Js",
    "oA8PiL6w41Jw",
    "0fzk_7_Q41Jx",
    "CeSDL1Bi41J5",
    "YjG0UpEI41J9",
    "nhtvxKlm41J-",
    "2h3FJIMf41KE",
    "WclA6xCo41KL",
    "gV8RlNjy41KN",
    "cuICBqHQ41KR",
    "nZmEqP3h41KU",
    "Xx6FY3za41KU",
    "ChYDn5Fe41KY",
    "nPK9uNkf41Kc",
    "rpCDFzYT41Kd",
    "je_PNQWT41Kh",
    "r3TjL9Bt41Kk",
    "A2y1KKmU41Km",
    "Bsys2oiG41Kp"
   ],
   "name": "1_Numpy Overview.ipynb",
   "provenance": []
  },
  "kernelspec": {
   "display_name": "Python 3",
   "language": "python",
   "name": "python3"
  },
  "language_info": {
   "codemirror_mode": {
    "name": "ipython",
    "version": 3
   },
   "file_extension": ".py",
   "mimetype": "text/x-python",
   "name": "python",
   "nbconvert_exporter": "python",
   "pygments_lexer": "ipython3",
   "version": "3.7.0"
  },
  "toc": {
   "base_numbering": 1,
   "nav_menu": {},
   "number_sections": false,
   "sideBar": true,
   "skip_h1_title": false,
   "title_cell": "Table of Contents",
   "title_sidebar": "Contents",
   "toc_cell": false,
   "toc_position": {
    "height": "calc(100% - 180px)",
    "left": "10px",
    "top": "150px",
    "width": "338.841px"
   },
   "toc_section_display": true,
   "toc_window_display": true
  },
  "varInspector": {
   "cols": {
    "lenName": 16,
    "lenType": 16,
    "lenVar": 40
   },
   "kernels_config": {
    "python": {
     "delete_cmd_postfix": "",
     "delete_cmd_prefix": "del ",
     "library": "var_list.py",
     "varRefreshCmd": "print(var_dic_list())"
    },
    "r": {
     "delete_cmd_postfix": ") ",
     "delete_cmd_prefix": "rm(",
     "library": "var_list.r",
     "varRefreshCmd": "cat(var_dic_list()) "
    }
   },
   "types_to_exclude": [
    "module",
    "function",
    "builtin_function_or_method",
    "instance",
    "_Feature"
   ],
   "window_display": false
  }
 },
 "nbformat": 4,
 "nbformat_minor": 1
}
