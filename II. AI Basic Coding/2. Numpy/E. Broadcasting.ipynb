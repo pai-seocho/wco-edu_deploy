{
 "cells": [
  {
   "cell_type": "markdown",
   "metadata": {
    "id": "o_fIYu-76fZg"
   },
   "source": [
    "# E. Broadcasting\n",
    "\n",
    "When dealing with Numpy arrays, there are times when you have to perform arithmetic operations on arrays of different shapes.\n",
    "\n",
    "Let's assume there are two Numpy arrays you would perform an arithmetic operation on. One is of shape (4, 2), and the other one is of shape (2, &nbsp;). In this case, the operation must be performed in the way that the second array, <code>(2,&nbsp;)</code>, is used on every row of the first array.\n",
    "\n",
    "\n",
    "\n",
    "<!-- ![image.png](attachment:image.png)\n",
    "  (a) Column-wise block-striped and (b) row-wise block-striped decompositions of the matrix (Wittaya Chantamas and Johnnie Warren Baker 2010, p. 6)\n",
    " -->\n",
    "\n",
    "In this section, we'll be discussing **Broadcasting** that enables arithmetic operations between arrays with different dimension\n",
    "\n"
   ]
  },
  {
   "cell_type": "markdown",
   "metadata": {},
   "source": [
    "\n",
    "### _Objective_\n",
    "1. Broadcasting: Understanding **Broadcasting** for arithmetic operations between arrays with different dimension"
   ]
  },
  {
   "cell_type": "markdown",
   "metadata": {
    "id": "umooUWNc65nO"
   },
   "source": [
    "## 1. Broadcasting\n",
    "\n",
    "The term **\"broadcasting\"** describes how numpy treats arrays with different shapes during arithmetic operations. The array with the less axes is considered a smaller array, and the other one is a larger array. Numpy expands the domain of operations over arrays by **adjusting the shape of the smaller array to that of the larger array** or **reshaping both arrays to the level of operation-compatible**.\n",
    "\n",
    "\n",
    "Then, how does **broadcasting** happen? It consists of two steps.\n",
    "1. axes are added to the smaller array to match the number of dimensions of the larger array until `smaller_array.ndim == larger_array.ndim`\n",
    "\n",
    "2. The smaller array loops over these new axes to match the full shape of the larger array."
   ]
  },
  {
   "cell_type": "code",
   "execution_count": null,
   "metadata": {
    "collapsed": true,
    "id": "BDp6_1OJ65nO"
   },
   "outputs": [],
   "source": [
    "import numpy as np"
   ]
  },
  {
   "cell_type": "markdown",
   "metadata": {
    "id": "IZ0-NnpZ65nS"
   },
   "source": [
    "### (1) Broadcasting Examples"
   ]
  },
  {
   "cell_type": "markdown",
   "metadata": {
    "id": "6IJBbYhd65nT"
   },
   "source": [
    "<Example 1> <br><img src='https://imgur.com/Q5DLh1m.jpg' align=left />"
   ]
  },
  {
   "cell_type": "markdown",
   "metadata": {
    "id": "FRACX9m065nU"
   },
   "source": [
    "The above figure shows a 1-dimensional array  `[0, 1, 2]` and a scalar `5`.\n",
    "During the operation, the scalar `5` acts as though it was converted to `[5, 5, 5]` of shape (3, &nbsp;), and the addition results in `[5, 6, 7]`.\n",
    "\n"
   ]
  },
  {
   "cell_type": "code",
   "execution_count": null,
   "metadata": {
    "id": "T8gzcZzC65nU",
    "outputId": "dabc2762-8517-4a9c-f71b-4c22f00a25c8"
   },
   "outputs": [
    {
     "data": {
      "text/plain": [
       "array([0, 1, 2])"
      ]
     },
     "execution_count": 2,
     "metadata": {
      "tags": []
     },
     "output_type": "execute_result"
    }
   ],
   "source": [
    "A = np.arange(3)\n",
    "A"
   ]
  },
  {
   "cell_type": "code",
   "execution_count": null,
   "metadata": {
    "id": "JiP243tK65nZ",
    "outputId": "a92667e8-21bb-4cc9-937c-8e0c34f6b672",
    "scrolled": true
   },
   "outputs": [
    {
     "data": {
      "text/plain": [
       "array([5, 6, 7])"
      ]
     },
     "execution_count": 3,
     "metadata": {
      "tags": []
     },
     "output_type": "execute_result"
    }
   ],
   "source": [
    "A + 5"
   ]
  },
  {
   "cell_type": "markdown",
   "metadata": {
    "id": "iIyWbC0I65nb"
   },
   "source": [
    "You can see the scalar 5 is added to every elements of `A`."
   ]
  },
  {
   "cell_type": "markdown",
   "metadata": {
    "id": "tm2oK5Hc65nc"
   },
   "source": [
    "<Example 2> <br><img src='https://imgur.com/vRwGp0E.jpg' align=left />"
   ]
  },
  {
   "cell_type": "markdown",
   "metadata": {
    "id": "modgVoPi65nc"
   },
   "source": [
    "The following example is a bit more complicated. It is an operation between a 1-dimensional array and a 2-dimensional array. The smaller array of shape (3,&nbsp; &nbsp;) is first converted to a 2-dimensional, of shape (1, 3) and adjusts the number of rows to 3, ultimately performing as a `(3, 3)-array` during the operation as below.   <br>\n",
    "> `[[0, 1, 2],` <br>\n",
    "&nbsp;&nbsp;`[0, 1, 2],` <br>\n",
    "&nbsp;&nbsp;`[0, 1, 2]]` "
   ]
  },
  {
   "cell_type": "code",
   "execution_count": null,
   "metadata": {
    "id": "Y2FXB_gS65nd",
    "outputId": "86b3f775-f229-4bdd-cfaf-d346318498b9"
   },
   "outputs": [
    {
     "name": "stdout",
     "output_type": "stream",
     "text": [
      "(3, 3)\n"
     ]
    },
    {
     "data": {
      "text/plain": [
       "array([[1., 1., 1.],\n",
       "       [1., 1., 1.],\n",
       "       [1., 1., 1.]])"
      ]
     },
     "execution_count": 4,
     "metadata": {
      "tags": []
     },
     "output_type": "execute_result"
    }
   ],
   "source": [
    "A = np.ones((3,3))\n",
    "print(A.shape)\n",
    "A"
   ]
  },
  {
   "cell_type": "code",
   "execution_count": null,
   "metadata": {
    "id": "wG0Qyo9i65ng",
    "outputId": "fcc22014-86cd-4926-c38a-1964302cb0b2"
   },
   "outputs": [
    {
     "name": "stdout",
     "output_type": "stream",
     "text": [
      "(3,)\n"
     ]
    },
    {
     "data": {
      "text/plain": [
       "array([0, 1, 2])"
      ]
     },
     "execution_count": 5,
     "metadata": {
      "tags": []
     },
     "output_type": "execute_result"
    }
   ],
   "source": [
    "B = np.arange(3)\n",
    "print(B.shape)\n",
    "B"
   ]
  },
  {
   "cell_type": "code",
   "execution_count": null,
   "metadata": {
    "id": "sZ5OOs0165ni",
    "outputId": "71ebf608-283d-43d9-e332-8fb0295603e3",
    "scrolled": false
   },
   "outputs": [
    {
     "data": {
      "text/plain": [
       "array([[1., 2., 3.],\n",
       "       [1., 2., 3.],\n",
       "       [1., 2., 3.]])"
      ]
     },
     "execution_count": 6,
     "metadata": {
      "tags": []
     },
     "output_type": "execute_result"
    }
   ],
   "source": [
    "A + B"
   ]
  },
  {
   "cell_type": "markdown",
   "metadata": {
    "id": "J8SUT3mU65nk"
   },
   "source": [
    "You can see the smaller array `B` is broadcast across the larger array `A` during the operation."
   ]
  },
  {
   "cell_type": "markdown",
   "metadata": {
    "id": "wXaagbZU65nl"
   },
   "source": [
    "<Example 3> <br><img src='https://imgur.com/Uy0BPLN.jpg' align=left />"
   ]
  },
  {
   "cell_type": "markdown",
   "metadata": {
    "id": "xLY43Lxq65nl"
   },
   "source": [
    "The last example is adding `[[0], [1], [2]]` to  `[0,1,2]`.  "
   ]
  },
  {
   "cell_type": "markdown",
   "metadata": {
    "id": "e_MB0fJv65nm"
   },
   "source": [
    "np.arange(3).reshape((3, 1)), (`[[0], [1], [2]]`), assigned to `A` is a 2-dimensional array of shape (3, 1).<br>\n",
    "np.arange(3), `[0, 1, 2]`, assigned to `B` is a 1-dimensional array of shape(3,&nbsp; &nbsp;)."
   ]
  },
  {
   "cell_type": "code",
   "execution_count": null,
   "metadata": {
    "collapsed": true,
    "id": "Gw5bGtUN65nm"
   },
   "outputs": [],
   "source": [
    "A = np.arange(3).reshape((3,1))\n",
    "B = np.arange(3)"
   ]
  },
  {
   "cell_type": "code",
   "execution_count": null,
   "metadata": {
    "id": "x-1joZqy65no",
    "outputId": "d69eaeb4-25ba-47d2-8dd1-d0fdad277829",
    "scrolled": true
   },
   "outputs": [
    {
     "name": "stdout",
     "output_type": "stream",
     "text": [
      "(3, 1)\n"
     ]
    },
    {
     "data": {
      "text/plain": [
       "array([[0],\n",
       "       [1],\n",
       "       [2]])"
      ]
     },
     "execution_count": 8,
     "metadata": {
      "tags": []
     },
     "output_type": "execute_result"
    }
   ],
   "source": [
    "print(A.shape)\n",
    "A"
   ]
  },
  {
   "cell_type": "code",
   "execution_count": null,
   "metadata": {
    "id": "w_ymSoxh65nq",
    "outputId": "5b0e8d4c-3d84-47ad-9210-a684d3a659e0",
    "scrolled": false
   },
   "outputs": [
    {
     "name": "stdout",
     "output_type": "stream",
     "text": [
      "(3,)\n"
     ]
    },
    {
     "data": {
      "text/plain": [
       "array([0, 1, 2])"
      ]
     },
     "execution_count": 9,
     "metadata": {
      "tags": []
     },
     "output_type": "execute_result"
    }
   ],
   "source": [
    "print(B.shape)\n",
    "B"
   ]
  },
  {
   "cell_type": "code",
   "execution_count": null,
   "metadata": {
    "id": "zjkvT7uT65ns",
    "outputId": "83e75ca5-1157-466a-96e3-86929e1fd253",
    "scrolled": true
   },
   "outputs": [
    {
     "name": "stdout",
     "output_type": "stream",
     "text": [
      "A.ndim 2\n",
      "B.ndim 1\n"
     ]
    }
   ],
   "source": [
    "print('A.ndim', A.ndim)\n",
    "print('B.ndim', B.ndim)"
   ]
  },
  {
   "cell_type": "markdown",
   "metadata": {
    "id": "lroWBt7c65nu"
   },
   "source": [
    "`A` and `B` are of different number of dimensions, rows and columns. How would the arrays be transformed then?\n",
    "\n",
    "First, the array that needs to increase the number of dimensions pushes `elements per axis` value one by one to the right and add a new axis on the very left.\n",
    "In other words, in the shape of the smaller array, (3,&nbsp; &nbsp;), 3 is pushed to the right past a comma, and a new axis is added to the left side, becoming a shape of (1,3).<br>\n",
    "\n",
    "Now, since the two arrays are of the same number of dimensions but different number of rows and columns, they need to be reshaped to become operation-compatible, fitting the number of rows and columns to that of each other. Consequently, they act as **`arrays of shape (3, 3)`** during the operation."
   ]
  },
  {
   "cell_type": "code",
   "execution_count": null,
   "metadata": {
    "id": "vEQ8xwB765nx",
    "outputId": "e67e65c5-b6c7-40bd-d2a1-fafea3db3504"
   },
   "outputs": [
    {
     "data": {
      "text/plain": [
       "array([[0, 1, 2],\n",
       "       [1, 2, 3],\n",
       "       [2, 3, 4]])"
      ]
     },
     "execution_count": 11,
     "metadata": {
      "tags": []
     },
     "output_type": "execute_result"
    }
   ],
   "source": [
    "result = A + B\n",
    "result"
   ]
  },
  {
   "cell_type": "code",
   "execution_count": null,
   "metadata": {
    "id": "61LM9-iX65n0",
    "outputId": "02aa9bac-2c7e-476c-c06e-6491b415c883",
    "scrolled": true
   },
   "outputs": [
    {
     "data": {
      "text/plain": [
       "(3, 3)"
      ]
     },
     "execution_count": 12,
     "metadata": {
      "tags": []
     },
     "output_type": "execute_result"
    }
   ],
   "source": [
    "result.shape"
   ]
  },
  {
   "cell_type": "markdown",
   "metadata": {
    "id": "EExW1Uww65n2"
   },
   "source": [
    "### (2) Rules of Broadcasting"
   ]
  },
  {
   "cell_type": "markdown",
   "metadata": {
    "id": "ljmE6zv165n3"
   },
   "source": [
    "As you can see, Numpy enhances the efficiency of arithmetic operations between arrays of different shapes by **broadcasting**.\n",
    "\n",
    "Though, broadcasting is helpful only if certain conditions on arrays are met, and here are some rules of Broadcasting.\n",
    "\n",
    "- Rule 1. If two arrays for arithmetic operations are of different dimensions, add a new axis on the left of the smaller array by pushing `elements per axis` to the right.\n",
    "> Example: Converting (3,&nbsp;&nbsp;) to (1,3)\n",
    "<br>\n",
    "- Rule 2. If the lengths of two \n",
    "arrays is neither the same on any axis nor is the length 1, broadcasting won't be working on these arrays.\n",
    "> Example: If you try to add the arrays of shape `(2,3)` and `(3,2)` together, an error is returned.\n",
    "<br><br>\n",
    "\n",
    "- Rule 3. If two arrays do not have the same length on any axis but an axis of length 1, the array with the length of 1 expands to the length of another array on the corresponding axis.\n",
    "> Example: Since the lengths of `A`, of shape (1, 3),and `B`, of (3, 1), do not match on any axis, both `A` and `B` expand to the shape (3, 3), axis = 0 of `A` becoming 3 as well as axis = 1 of `B` becoming 3.\n",
    " \n",
    "\n",
    "You can visit the link below to find out more on Rules of Broadcasting \n",
    "\n",
    "**[Rules of Broadcasting](https://jakevdp.github.io/PythonDataScienceHandbook/02.05-computation-on-arrays-broadcasting.html#Rules-of-Broadcasting)**\n"
   ]
  },
  {
   "cell_type": "markdown",
   "metadata": {
    "id": "Lqp5c99t65n4"
   },
   "source": [
    "We've already witnessed the validity of Rule 1 and 2, so let's take a look at how Rule 3 applies."
   ]
  },
  {
   "cell_type": "code",
   "execution_count": null,
   "metadata": {
    "collapsed": true,
    "id": "9XVClXYZ65n4"
   },
   "outputs": [],
   "source": [
    "A = np.arange(6)"
   ]
  },
  {
   "cell_type": "code",
   "execution_count": null,
   "metadata": {
    "id": "nk119IQZ65n6",
    "outputId": "35b5127c-b374-436e-eda6-756ea3297d8b"
   },
   "outputs": [
    {
     "ename": "ValueError",
     "evalue": "operands could not be broadcast together with shapes (2,3) (3,2) ",
     "output_type": "error",
     "traceback": [
      "\u001b[1;31m---------------------------------------------------------------------------\u001b[0m",
      "\u001b[1;31mValueError\u001b[0m                                Traceback (most recent call last)",
      "\u001b[1;32m<ipython-input-15-90438c08293f>\u001b[0m in \u001b[0;36m<module>\u001b[1;34m\u001b[0m\n\u001b[1;32m----> 1\u001b[1;33m \u001b[0mA\u001b[0m\u001b[1;33m.\u001b[0m\u001b[0mreshape\u001b[0m\u001b[1;33m(\u001b[0m\u001b[1;36m2\u001b[0m\u001b[1;33m,\u001b[0m\u001b[1;36m3\u001b[0m\u001b[1;33m)\u001b[0m \u001b[1;33m+\u001b[0m \u001b[0mA\u001b[0m\u001b[1;33m.\u001b[0m\u001b[0mreshape\u001b[0m\u001b[1;33m(\u001b[0m\u001b[1;36m3\u001b[0m\u001b[1;33m,\u001b[0m\u001b[1;36m2\u001b[0m\u001b[1;33m)\u001b[0m\u001b[1;33m\u001b[0m\u001b[1;33m\u001b[0m\u001b[0m\n\u001b[0m",
      "\u001b[1;31mValueError\u001b[0m: operands could not be broadcast together with shapes (2,3) (3,2) "
     ]
    }
   ],
   "source": [
    "A.reshape(2,3) + A.reshape(3,2)"
   ]
  },
  {
   "cell_type": "markdown",
   "metadata": {
    "id": "nJ8pocOx65n8"
   },
   "source": [
    "Since the lengths of two arrays are neither the same on any axis nor 1, it returns an error."
   ]
  },
  {
   "cell_type": "code",
   "execution_count": null,
   "metadata": {},
   "outputs": [],
   "source": []
  }
 ],
 "metadata": {
  "colab": {
   "collapsed_sections": [],
   "name": "4_Broadcasting(최종).ipynb",
   "provenance": [
    {
     "file_id": "1O1uMWfMXsyUkhCYpS2n6w92ggqge8DRN",
     "timestamp": 1604303300239
    }
   ]
  },
  "kernelspec": {
   "display_name": "Python 3",
   "language": "python",
   "name": "python3"
  },
  "language_info": {
   "codemirror_mode": {
    "name": "ipython",
    "version": 3
   },
   "file_extension": ".py",
   "mimetype": "text/x-python",
   "name": "python",
   "nbconvert_exporter": "python",
   "pygments_lexer": "ipython3",
   "version": "3.7.0"
  },
  "toc": {
   "base_numbering": 1,
   "nav_menu": {},
   "number_sections": false,
   "sideBar": true,
   "skip_h1_title": false,
   "title_cell": "Table of Contents",
   "title_sidebar": "Contents",
   "toc_cell": false,
   "toc_position": {
    "height": "calc(100% - 180px)",
    "left": "10px",
    "top": "150px",
    "width": "236.833px"
   },
   "toc_section_display": true,
   "toc_window_display": true
  }
 },
 "nbformat": 4,
 "nbformat_minor": 1
}
