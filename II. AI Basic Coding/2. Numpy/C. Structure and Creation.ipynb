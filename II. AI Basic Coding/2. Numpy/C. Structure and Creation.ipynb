{
 "cells": [
  {
   "cell_type": "markdown",
   "metadata": {
    "id": "dx6VQXFIJTYy"
   },
   "source": [
    "# C. Structure and Creation\n",
    "\n",
    "A `Numpy array` is the most basic data structure available when it comes to handling data with Numpy.\n",
    "Numpy provides a variety of vectorized functions and attributes, and Numpy arrays enable the use of Numpy functionality in an easy and quick way. \n",
    "Therefore, it is important to understand the structure of Numpy arrays to maximize utility of `Numpy`.\n",
    "\n",
    "In lesson C, we'll cover the basic attributes of a Numpy array, `value`, `shape` and `dtype` and learn how to creat the arrays based on these attributes. \n"
   ]
  },
  {
   "cell_type": "markdown",
   "metadata": {
    "id": "sb4PyVz1XbCI"
   },
   "source": [
    "### _Objective_\n",
    "1. **Numpy Array Attributes**: Understanding structure of Numpy arrays and the attributes(`value`, `shape`, `dtype`, etc) \n",
    "2. **Numpy Array Creation**: Understanding how to create Numpy arrays "
   ]
  },
  {
   "cell_type": "code",
   "execution_count": null,
   "metadata": {
    "collapsed": true,
    "id": "QafQCnsuJTY0"
   },
   "outputs": [],
   "source": [
    "import numpy as np # importing Numpy"
   ]
  },
  {
   "cell_type": "markdown",
   "metadata": {
    "id": "o8MdmdUkJTY3"
   },
   "source": [
    "# \\[1. Structure of Numpy Arrays\\]\n",
    "\n",
    "When creating a Numpy array, you need to set the values for elements, **shape** of the array. To note is, all elements of a Numpy array must be of the same data type. \n",
    "\n",
    "Then, let's take a closer look at the important features of Numpy arrays, **shape** and **data type**."
   ]
  },
  {
   "cell_type": "markdown",
   "metadata": {
    "id": "HjKYGaAUJTaj"
   },
   "source": [
    "## 1. Data Type\n",
    "\n",
    "+ As mentioned in Basic Python, the variable type is automatically identified and set after a value is assigned to a variable, and a variable accepts values of any data types.\n",
    "\n",
    "+ In contrast, Numpy arrays are homogeneous and only accept values of the **same data type** for elements. "
   ]
  },
  {
   "cell_type": "markdown",
   "metadata": {
    "id": "HzIQi04rJTak"
   },
   "source": [
    "### (1) Data types of list elements and Numpy array elements"
   ]
  },
  {
   "cell_type": "markdown",
   "metadata": {
    "id": "vy6fPm8OJTau"
   },
   "source": [
    "A Python list is heterogeneous and accepts values of any data types. For instance, you can create a list composed of a string, integer, and a floating-point number."
   ]
  },
  {
   "cell_type": "code",
   "execution_count": null,
   "metadata": {
    "id": "-4uwutzHJTan",
    "outputId": "40d23558-e9ae-41d1-dacc-4bbf4570c506"
   },
   "outputs": [
    {
     "data": {
      "text/plain": [
       "[1, 1.2, False]"
      ]
     },
     "execution_count": 2,
     "metadata": {
      "tags": []
     },
     "output_type": "execute_result"
    }
   ],
   "source": [
    "# List\n",
    "A_ = [1,1.2,False]\n",
    "A_"
   ]
  },
  {
   "cell_type": "markdown",
   "metadata": {
    "id": "_66ATY4BJTal"
   },
   "source": [
    "On the other hand, a Numpy array is homogenous and only accepts the values of a single data type for elements. For instance, if you convert the list of three integers and a Boolean, `[1, 1, 2, False]`, to a Numpy array, the Boolean `False` will automatically be converted to an integer `0`.\n"
   ]
  },
  {
   "cell_type": "code",
   "execution_count": null,
   "metadata": {
    "id": "WnusSgqxJTav",
    "outputId": "73daa6bc-13d9-4c65-d837-5beb43518483",
    "scrolled": true
   },
   "outputs": [
    {
     "data": {
      "text/plain": [
       "array([1. , 1.2, 0. ])"
      ]
     },
     "execution_count": 3,
     "metadata": {
      "tags": []
     },
     "output_type": "execute_result"
    }
   ],
   "source": [
    "# Numpy array\n",
    "A = np.array([1,1.2,False])\n",
    "A"
   ]
  },
  {
   "cell_type": "markdown",
   "metadata": {
    "id": "SFbGSW_2JTcA"
   },
   "source": [
    "### (2) **Type Casting** -  Data type conversion\n",
    "You can use **`.astype(target_datatype)`** to manually convert a data type to a specified data type."
   ]
  },
  {
   "cell_type": "code",
   "execution_count": null,
   "metadata": {
    "id": "8AgAyhrRJTb3",
    "outputId": "41ad63e5-6cc8-4d5a-c58b-20160fd61a1b"
   },
   "outputs": [
    {
     "data": {
      "text/plain": [
       "array([0, 1, 2, 3, 4, 5])"
      ]
     },
     "execution_count": 4,
     "metadata": {
      "tags": []
     },
     "output_type": "execute_result"
    }
   ],
   "source": [
    "A = np.array([0,1,2,3,4,5])\n",
    "A"
   ]
  },
  {
   "cell_type": "code",
   "execution_count": null,
   "metadata": {
    "id": "wrtRyX18JTcC",
    "outputId": "ea8f67ea-63c2-40fb-fd3c-d8990ecee82e"
   },
   "outputs": [
    {
     "data": {
      "text/plain": [
       "array([0., 1., 2., 3., 4., 5.])"
      ]
     },
     "execution_count": 5,
     "metadata": {
      "tags": []
     },
     "output_type": "execute_result"
    }
   ],
   "source": [
    "# Converting integers to floating-point numbers \n",
    "A.astype(np.float) "
   ]
  },
  {
   "cell_type": "code",
   "execution_count": null,
   "metadata": {
    "id": "BE9YSFiYJTcH",
    "outputId": "46d3d1cd-c289-4c78-bdcc-275ba1933be4"
   },
   "outputs": [
    {
     "data": {
      "text/plain": [
       "array([False,  True,  True,  True,  True,  True])"
      ]
     },
     "execution_count": 6,
     "metadata": {
      "tags": []
     },
     "output_type": "execute_result"
    }
   ],
   "source": [
    "# Converting integers to Boolean\n",
    "A.astype(np.bool)"
   ]
  },
  {
   "cell_type": "markdown",
   "metadata": {
    "id": "EuFX48LDJTa4"
   },
   "source": [
    "### (3) Data type of Numpy array elements\n",
    "You can use `.dtype` to check the data type of given array elements.\n"
   ]
  },
  {
   "cell_type": "markdown",
   "metadata": {
    "id": "DpXYaAyGJTa7"
   },
   "source": [
    "#### Boolean array"
   ]
  },
  {
   "cell_type": "code",
   "execution_count": null,
   "metadata": {
    "id": "SqBKtLIYJTa-",
    "outputId": "70a5af68-efeb-4cb3-b148-27d08ebacb0d"
   },
   "outputs": [
    {
     "data": {
      "text/plain": [
       "array([ True, False])"
      ]
     },
     "execution_count": 7,
     "metadata": {
      "tags": []
     },
     "output_type": "execute_result"
    }
   ],
   "source": [
    "A = np.array([True,False])\n",
    "A"
   ]
  },
  {
   "cell_type": "code",
   "execution_count": null,
   "metadata": {
    "id": "iypCiKgkJTbF",
    "outputId": "452e8ba2-5dc7-4bbf-bbb9-01b5293f405b"
   },
   "outputs": [
    {
     "data": {
      "text/plain": [
       "dtype('bool')"
      ]
     },
     "execution_count": 8,
     "metadata": {
      "tags": []
     },
     "output_type": "execute_result"
    }
   ],
   "source": [
    "A.dtype"
   ]
  },
  {
   "cell_type": "markdown",
   "metadata": {
    "id": "hTtaYiYNJTbN"
   },
   "source": [
    "#### int array"
   ]
  },
  {
   "cell_type": "code",
   "execution_count": null,
   "metadata": {
    "id": "yN8EGcWUJTbO",
    "outputId": "67dec292-3222-453a-b817-9105b29f6d10"
   },
   "outputs": [
    {
     "data": {
      "text/plain": [
       "array([1, 2, 3])"
      ]
     },
     "execution_count": 9,
     "metadata": {
      "tags": []
     },
     "output_type": "execute_result"
    }
   ],
   "source": [
    "A = np.array([1,2,3])\n",
    "A"
   ]
  },
  {
   "cell_type": "code",
   "execution_count": null,
   "metadata": {
    "id": "EASeV6hAJTbT",
    "outputId": "f82e7a1c-b8c6-4edc-f046-9dc1ddce36cb"
   },
   "outputs": [
    {
     "data": {
      "text/plain": [
       "dtype('int32')"
      ]
     },
     "execution_count": 10,
     "metadata": {
      "tags": []
     },
     "output_type": "execute_result"
    }
   ],
   "source": [
    "A.dtype"
   ]
  },
  {
   "cell_type": "markdown",
   "metadata": {
    "id": "pT2GWVTsJTY4"
   },
   "source": [
    "## 2. Shape\n",
    "\n",
    "+ In Numpy, **shape** means the dimensional shape of the array.\n",
    "\n",
    "+ You can use \n",
    " - **`.shape`** to check the dimensional shape in terms of the number of dimensions as well as the length of each dimension; \n",
    " - **`.ndim`** to check the number of dimensions; \n",
    " - **`.size`** to check the total number of elements in an array."
   ]
  },
  {
   "cell_type": "markdown",
   "metadata": {
    "id": "aIgW-QwyJTZc"
   },
   "source": [
    "### (1) Shape of a Numpy array\n",
    "\n",
    "When creating a Numpy array, the number of elements constituting each axis must be the same. For instance, for a (5, 5) array, each row must consist of 5 elements, and columns must also be of 5. Unless this condition is satisfied, it will return an error."
   ]
  },
  {
   "cell_type": "code",
   "execution_count": null,
   "metadata": {
    "colab": {
     "base_uri": "https://localhost:8080/",
     "height": 316
    },
    "executionInfo": {
     "elapsed": 1057,
     "status": "error",
     "timestamp": 1603780786736,
     "user": {
      "displayName": "Minseo Kim",
      "photoUrl": "",
      "userId": "13585292405465288254"
     },
     "user_tz": -540
    },
    "id": "prgNgM_3JTZo",
    "outputId": "a991a235-712c-4eaa-f2df-893d91c4a757"
   },
   "outputs": [
    {
     "ename": "ValueError",
     "evalue": "ignored",
     "output_type": "error",
     "traceback": [
      "\u001b[0;31m---------------------------------------------------------------------------\u001b[0m",
      "\u001b[0;31mTypeError\u001b[0m                                 Traceback (most recent call last)",
      "\u001b[0;31mTypeError\u001b[0m: int() argument must be a string, a bytes-like object or a number, not 'list'",
      "\nThe above exception was the direct cause of the following exception:\n",
      "\u001b[0;31mValueError\u001b[0m                                Traceback (most recent call last)",
      "\u001b[0;32m<ipython-input-7-1e9d6b05bcd3>\u001b[0m in \u001b[0;36m<module>\u001b[0;34m()\u001b[0m\n\u001b[1;32m      3\u001b[0m     \u001b[0;34m[\u001b[0m\u001b[0;36m2\u001b[0m\u001b[0;34m,\u001b[0m\u001b[0;36m3\u001b[0m\u001b[0;34m,\u001b[0m\u001b[0;36m4\u001b[0m\u001b[0;34m,\u001b[0m\u001b[0;36m5\u001b[0m\u001b[0;34m]\u001b[0m\u001b[0;34m,\u001b[0m \u001b[0;31m# size of 4\u001b[0m\u001b[0;34m\u001b[0m\u001b[0;34m\u001b[0m\u001b[0m\n\u001b[1;32m      4\u001b[0m     \u001b[0;34m[\u001b[0m\u001b[0;36m3\u001b[0m\u001b[0;34m,\u001b[0m\u001b[0;36m4\u001b[0m\u001b[0;34m,\u001b[0m\u001b[0;36m5\u001b[0m\u001b[0;34m,\u001b[0m\u001b[0;36m6\u001b[0m\u001b[0;34m,\u001b[0m\u001b[0;36m7\u001b[0m\u001b[0;34m]\u001b[0m \u001b[0;31m# size of 5\u001b[0m\u001b[0;34m\u001b[0m\u001b[0;34m\u001b[0m\u001b[0m\n\u001b[0;32m----> 5\u001b[0;31m ],dtype=np.int64)\n\u001b[0m\u001b[1;32m      6\u001b[0m \u001b[0mA\u001b[0m\u001b[0;34m\u001b[0m\u001b[0;34m\u001b[0m\u001b[0m\n",
      "\u001b[0;31mValueError\u001b[0m: setting an array element with a sequence."
     ]
    }
   ],
   "source": [
    "A = np.array([\n",
    "    [1,2,3,4,5], # row 0 with 5 elements\n",
    "    [2,3,4,5], # row 1 with 4 elements\n",
    "    [3,4,5,6,7] # row 2 with 5 elements\n",
    "],dtype=np.int64)\n",
    "A"
   ]
  },
  {
   "cell_type": "code",
   "execution_count": null,
   "metadata": {
    "colab": {
     "base_uri": "https://localhost:8080/",
     "height": 71
    },
    "executionInfo": {
     "elapsed": 1325,
     "status": "ok",
     "timestamp": 1603780791468,
     "user": {
      "displayName": "Minseo Kim",
      "photoUrl": "",
      "userId": "13585292405465288254"
     },
     "user_tz": -540
    },
    "id": "QeQUD7dqLthb",
    "outputId": "1a58f483-0cd1-44fe-a8a2-9d3fcc4d5b67"
   },
   "outputs": [
    {
     "data": {
      "text/plain": [
       "array([[1, 2, 3, 4, 5],\n",
       "       [2, 3, 4, 5, 6],\n",
       "       [3, 4, 5, 6, 7]])"
      ]
     },
     "execution_count": 8,
     "metadata": {
      "tags": []
     },
     "output_type": "execute_result"
    }
   ],
   "source": [
    "B = np.array([\n",
    "    [1,2,3,4,5], # row 0 with 5 elements\n",
    "    [2,3,4,5,6], # row 1 with 5 elements\n",
    "    [3,4,5,6,7] # row 2 with 5 elements\n",
    "    ],dtype=np.int64)\n",
    "B"
   ]
  },
  {
   "cell_type": "markdown",
   "metadata": {
    "id": "FVDh_cdNLthd"
   },
   "source": [
    "You can check the number of elements in each dimension with `.shape`."
   ]
  },
  {
   "cell_type": "code",
   "execution_count": null,
   "metadata": {
    "id": "qson3asjLthe",
    "outputId": "12b8b943-7b8e-484b-fae4-02689d4e1031"
   },
   "outputs": [
    {
     "data": {
      "text/plain": [
       "(3, 5)"
      ]
     },
     "execution_count": 14,
     "metadata": {
      "tags": []
     },
     "output_type": "execute_result"
    }
   ],
   "source": [
    "B.shape"
   ]
  },
  {
   "cell_type": "markdown",
   "metadata": {
    "id": "m0BTSA3ALthg"
   },
   "source": [
    "The above tuple contains two comma-separated elements. Here, the number of tuple elements tells how many dimensions the array object has. You can see 2 values, `3 and 5`, in the tuple, and it shows the array is 2-dimensional. In addition, each number corresponds the number of elements on each axis, so, `B` has 3 elements on axis 0 and 5 elements on axis 1.\n",
    "\n",
    "Here is the convention to follow for shape of Numpy arrays:\n",
    "- For 1D-array, `.shape` returns a tuple with only 1 element (i.e. (n,)).\n",
    "- For 2D-array, `.shape` returns a tuple with 2 elements (i.e. (n,m)).\n",
    "- For 3D-array, `.shape` returns a tuple with 3 elements (i.e. (n,m,k)).\n",
    "- For 4D-array, `.shape` returns a tuple with 4 elements (i.e. (n,m,k,j)).\n",
    "\n",
    "You can check the total number of elements within a Numpy array regardless of the number of dimensions, you can use **`.size`** to check it.\n"
   ]
  },
  {
   "cell_type": "code",
   "execution_count": null,
   "metadata": {
    "colab": {
     "base_uri": "https://localhost:8080/",
     "height": 35
    },
    "executionInfo": {
     "elapsed": 1043,
     "status": "ok",
     "timestamp": 1603780794386,
     "user": {
      "displayName": "Minseo Kim",
      "photoUrl": "",
      "userId": "13585292405465288254"
     },
     "user_tz": -540
    },
    "id": "pkVmzH1LLthg",
    "outputId": "cf3a47e2-22d8-46e8-83ac-9711ccce8f10"
   },
   "outputs": [
    {
     "data": {
      "text/plain": [
       "15"
      ]
     },
     "execution_count": 9,
     "metadata": {
      "tags": []
     },
     "output_type": "execute_result"
    }
   ],
   "source": [
    "B.size"
   ]
  },
  {
   "cell_type": "markdown",
   "metadata": {
    "id": "rxCrKYzVJTY4"
   },
   "source": [
    "### (2) Dimension\n",
    "\n",
    "A Numpy array is an n-dimensional data structure and can take a variety of forms for shape. You can set the number of dimensions of the array by layering square brackets `[]`.\n"
   ]
  },
  {
   "cell_type": "markdown",
   "metadata": {
    "id": "UzXQc0VyLthj"
   },
   "source": [
    "#### 1-dimensional array `(n,)` \n",
    "\n",
    "A one-dimensional array is called a **`vector`**. In a vector, the elements are enclosed only with a pair of **`[]`**."
   ]
  },
  {
   "cell_type": "code",
   "execution_count": null,
   "metadata": {
    "id": "ij-aqTb9JTY5",
    "outputId": "b770b13c-2928-4f0e-944c-b6fb9f76d901"
   },
   "outputs": [
    {
     "data": {
      "text/plain": [
       "array([1, 2, 3, 4, 5])"
      ]
     },
     "execution_count": 16,
     "metadata": {
      "tags": []
     },
     "output_type": "execute_result"
    }
   ],
   "source": [
    "A_1D = np.array([1,2,3,4,5])\n",
    "A_1D"
   ]
  },
  {
   "cell_type": "code",
   "execution_count": null,
   "metadata": {
    "id": "Mo5SsrRdJTY_",
    "outputId": "5ffa05c2-7527-4f20-9c9d-f30b34ac3cfa",
    "scrolled": true
   },
   "outputs": [
    {
     "data": {
      "text/plain": [
       "1"
      ]
     },
     "execution_count": 17,
     "metadata": {
      "tags": []
     },
     "output_type": "execute_result"
    }
   ],
   "source": [
    "A_1D.ndim # number of dimensions"
   ]
  },
  {
   "cell_type": "code",
   "execution_count": null,
   "metadata": {
    "id": "ZvISGHiBLthn",
    "outputId": "486cb3aa-6471-4768-c004-5dd3556e17fc",
    "scrolled": true
   },
   "outputs": [
    {
     "data": {
      "text/plain": [
       "(5,)"
      ]
     },
     "execution_count": 18,
     "metadata": {
      "tags": []
     },
     "output_type": "execute_result"
    }
   ],
   "source": [
    "A_1D.shape"
   ]
  },
  {
   "cell_type": "code",
   "execution_count": null,
   "metadata": {
    "id": "8bUYutbBLthp",
    "outputId": "84d9e5e9-b3ca-4c1c-e4c1-a8fb2decdc80",
    "scrolled": true
   },
   "outputs": [
    {
     "data": {
      "text/plain": [
       "5"
      ]
     },
     "execution_count": 19,
     "metadata": {
      "tags": []
     },
     "output_type": "execute_result"
    }
   ],
   "source": [
    "A_1D.size"
   ]
  },
  {
   "cell_type": "markdown",
   "metadata": {
    "id": "3_pFKUXOJTZJ"
   },
   "source": [
    "#### 2-dimensional array `(n, m)`"
   ]
  },
  {
   "cell_type": "markdown",
   "metadata": {
    "id": "UBClW6yyLths"
   },
   "source": [
    "A 2-dimensional array is called a `matrix`. A matrix consists of rows and columns and can be created by enclosing elements in two layers of square brackets as **`np.array([[elements]])`**.\n"
   ]
  },
  {
   "cell_type": "code",
   "execution_count": null,
   "metadata": {
    "id": "IeFEV_18JTZK",
    "outputId": "6a54eef8-826d-4072-ae68-c3401f6fb434"
   },
   "outputs": [
    {
     "data": {
      "text/plain": [
       "array([[1, 2, 3, 4, 5],\n",
       "       [2, 3, 4, 5, 6],\n",
       "       [3, 4, 5, 6, 7]], dtype=int64)"
      ]
     },
     "execution_count": 20,
     "metadata": {
      "tags": []
     },
     "output_type": "execute_result"
    }
   ],
   "source": [
    "B_2D = np.array([\n",
    "    [1,2,3,4,5],\n",
    "    [2,3,4,5,6],\n",
    "    [3,4,5,6,7]\n",
    "],dtype=np.int64)\n",
    "B_2D"
   ]
  },
  {
   "cell_type": "code",
   "execution_count": null,
   "metadata": {
    "id": "2QeoBad6JTZP",
    "outputId": "30f1b427-92f8-462e-b6b3-f2230bf5e207",
    "scrolled": true
   },
   "outputs": [
    {
     "data": {
      "text/plain": [
       "2"
      ]
     },
     "execution_count": 21,
     "metadata": {
      "tags": []
     },
     "output_type": "execute_result"
    }
   ],
   "source": [
    "B_2D.ndim # checking the array dimension"
   ]
  },
  {
   "cell_type": "code",
   "execution_count": null,
   "metadata": {
    "id": "cKkkvLhsLthx",
    "outputId": "b9bd332d-e665-4764-c744-aa5486751a7e",
    "scrolled": true
   },
   "outputs": [
    {
     "data": {
      "text/plain": [
       "(3, 5)"
      ]
     },
     "execution_count": 22,
     "metadata": {
      "tags": []
     },
     "output_type": "execute_result"
    }
   ],
   "source": [
    "B_2D.shape"
   ]
  },
  {
   "cell_type": "code",
   "execution_count": null,
   "metadata": {
    "id": "SySQRp4NLthz",
    "outputId": "e3174dc2-2619-4819-8da4-36b7dfb2ac7f",
    "scrolled": true
   },
   "outputs": [
    {
     "data": {
      "text/plain": [
       "15"
      ]
     },
     "execution_count": 23,
     "metadata": {
      "tags": []
     },
     "output_type": "execute_result"
    }
   ],
   "source": [
    "B_2D.size"
   ]
  },
  {
   "cell_type": "markdown",
   "metadata": {
    "id": "PYNPvYTLJTZt"
   },
   "source": [
    "#### 3-dimensional array `(n, m, d)`\n",
    "\n",
    "In mathematics, an array of three or more dimensions are generally regarded as a **tensor or a multidimensional matrix**. A 3-dimensional array is created by enclosing elements in three layers of square brackets. \n"
   ]
  },
  {
   "cell_type": "code",
   "execution_count": null,
   "metadata": {
    "id": "olBIKFq8JTZu",
    "outputId": "14c1425d-4ffb-4703-b622-32c020728840"
   },
   "outputs": [
    {
     "data": {
      "text/plain": [
       "array([[[1, 2, 3, 4, 5],\n",
       "        [2, 3, 4, 5, 6],\n",
       "        [3, 4, 5, 6, 7]],\n",
       "\n",
       "       [[1, 2, 3, 4, 5],\n",
       "        [2, 3, 4, 5, 6],\n",
       "        [3, 4, 5, 6, 7]]])"
      ]
     },
     "execution_count": 24,
     "metadata": {
      "tags": []
     },
     "output_type": "execute_result"
    }
   ],
   "source": [
    "C_3D = np.array([\n",
    "    [\n",
    "        [1,2,3,4,5],\n",
    "        [2,3,4,5,6],\n",
    "        [3,4,5,6,7]\n",
    "    ],\n",
    "    [\n",
    "        [1,2,3,4,5],\n",
    "        [2,3,4,5,6],\n",
    "        [3,4,5,6,7]\n",
    "    ]\n",
    "])\n",
    "C_3D"
   ]
  },
  {
   "cell_type": "code",
   "execution_count": null,
   "metadata": {
    "id": "E9qbtxDgJTZ3",
    "outputId": "d5289b87-35ad-446f-d460-bdeb53f470c7"
   },
   "outputs": [
    {
     "data": {
      "text/plain": [
       "3"
      ]
     },
     "execution_count": 25,
     "metadata": {
      "tags": []
     },
     "output_type": "execute_result"
    }
   ],
   "source": [
    "C_3D.ndim # what dimensional is the array?"
   ]
  },
  {
   "cell_type": "code",
   "execution_count": null,
   "metadata": {
    "id": "DiUYWofQJTZ7",
    "outputId": "55cf0e8b-fd65-407c-c6b5-93696f185d2d"
   },
   "outputs": [
    {
     "data": {
      "text/plain": [
       "(2, 3, 5)"
      ]
     },
     "execution_count": 26,
     "metadata": {
      "tags": []
     },
     "output_type": "execute_result"
    }
   ],
   "source": [
    "C_3D.shape # 2x3x5"
   ]
  },
  {
   "cell_type": "code",
   "execution_count": null,
   "metadata": {
    "id": "Vn9Pq4xbJTZ_",
    "outputId": "fff58cc3-a5be-455e-e6b7-0659c2289953"
   },
   "outputs": [
    {
     "data": {
      "text/plain": [
       "30"
      ]
     },
     "execution_count": 27,
     "metadata": {
      "tags": []
     },
     "output_type": "execute_result"
    }
   ],
   "source": [
    "C_3D.size  # 2x3x5 = 15 is the total number of elements the array has"
   ]
  },
  {
   "cell_type": "markdown",
   "metadata": {
    "id": "ILKxtM3YLtiB"
   },
   "source": [
    "### (3) Axis"
   ]
  },
  {
   "cell_type": "markdown",
   "metadata": {
    "id": "bXRWPDgZLtiC"
   },
   "source": [
    "A Numpy array is a n-dimensional data structure composed of n-axes.\n",
    "Since Numpy enables not only element-wise operations but axis-wise operations such as data aggregation and addition, it is crucial to understand the concept of **axis** before we move on to axis-wise operations.\n",
    "To note is, Numpy follows the rule of zero-base indexing and axes are likewise indexed from 0. "
   ]
  },
  {
   "cell_type": "markdown",
   "metadata": {
    "id": "bPoA3o4fLtiC"
   },
   "source": [
    "#### Axis in 1-dimensional arrays\n",
    "\n"
   ]
  },
  {
   "cell_type": "markdown",
   "metadata": {
    "id": "W1PwN3FuLtiG"
   },
   "source": [
    "![1d](https://user-images.githubusercontent.com/71862853/97671398-80694d00-1acb-11eb-823d-9a665c8eebc3.PNG)"
   ]
  },
  {
   "cell_type": "markdown",
   "metadata": {
    "id": "Jjd93RZZLtiG"
   },
   "source": [
    "A 1-dimensional array has only 1 axis, and the axis is **'axis 0'**.<br>\n",
    "The above array is of shape (4, ), that says the array consists 1 axis of 4 elements. "
   ]
  },
  {
   "cell_type": "code",
   "execution_count": null,
   "metadata": {
    "colab": {
     "base_uri": "https://localhost:8080/",
     "height": 169
    },
    "executionInfo": {
     "elapsed": 1138,
     "status": "error",
     "timestamp": 1604042027467,
     "user": {
      "displayName": "Minseo Kim",
      "photoUrl": "",
      "userId": "13585292405465288254"
     },
     "user_tz": -540
    },
    "id": "qCbMQXdqLtiC",
    "outputId": "df814567-327a-487e-f271-2d4b45cfe7c2"
   },
   "outputs": [
    {
     "ename": "NameError",
     "evalue": "ignored",
     "output_type": "error",
     "traceback": [
      "\u001b[0;31m---------------------------------------------------------------------------\u001b[0m",
      "\u001b[0;31mNameError\u001b[0m                                 Traceback (most recent call last)",
      "\u001b[0;32m<ipython-input-1-97df4b408ef8>\u001b[0m in \u001b[0;36m<module>\u001b[0;34m()\u001b[0m\n\u001b[0;32m----> 1\u001b[0;31m \u001b[0mA\u001b[0m \u001b[0;34m=\u001b[0m \u001b[0mnp\u001b[0m\u001b[0;34m.\u001b[0m\u001b[0marray\u001b[0m\u001b[0;34m(\u001b[0m\u001b[0;34m[\u001b[0m\u001b[0;36m1\u001b[0m\u001b[0;34m,\u001b[0m  \u001b[0;36m2\u001b[0m\u001b[0;34m,\u001b[0m  \u001b[0;36m3\u001b[0m\u001b[0;34m,\u001b[0m  \u001b[0;36m4\u001b[0m\u001b[0;34m,\u001b[0m  \u001b[0;36m5\u001b[0m\u001b[0;34m,\u001b[0m  \u001b[0;36m6\u001b[0m\u001b[0;34m]\u001b[0m\u001b[0;34m)\u001b[0m\u001b[0;34m\u001b[0m\u001b[0;34m\u001b[0m\u001b[0m\n\u001b[0m",
      "\u001b[0;31mNameError\u001b[0m: name 'np' is not defined"
     ]
    }
   ],
   "source": [
    "A = np.array([2, 5, 6, 9])"
   ]
  },
  {
   "cell_type": "code",
   "execution_count": null,
   "metadata": {
    "colab": {
     "base_uri": "https://localhost:8080/",
     "height": 169
    },
    "executionInfo": {
     "elapsed": 1121,
     "status": "error",
     "timestamp": 1604042027472,
     "user": {
      "displayName": "Minseo Kim",
      "photoUrl": "",
      "userId": "13585292405465288254"
     },
     "user_tz": -540
    },
    "id": "Xl5cN-UHLtiE",
    "outputId": "9f463d93-24c6-45f4-ee48-b847fa5def01"
   },
   "outputs": [
    {
     "ename": "NameError",
     "evalue": "ignored",
     "output_type": "error",
     "traceback": [
      "\u001b[0;31m---------------------------------------------------------------------------\u001b[0m",
      "\u001b[0;31mNameError\u001b[0m                                 Traceback (most recent call last)",
      "\u001b[0;32m<ipython-input-2-d5a4efdcb733>\u001b[0m in \u001b[0;36m<module>\u001b[0;34m()\u001b[0m\n\u001b[0;32m----> 1\u001b[0;31m \u001b[0mA\u001b[0m\u001b[0;34m.\u001b[0m\u001b[0mshape\u001b[0m\u001b[0;34m\u001b[0m\u001b[0;34m\u001b[0m\u001b[0m\n\u001b[0m",
      "\u001b[0;31mNameError\u001b[0m: name 'A' is not defined"
     ]
    }
   ],
   "source": [
    "A.shape"
   ]
  },
  {
   "cell_type": "markdown",
   "metadata": {
    "id": "GuYz-VqZLtiG"
   },
   "source": [
    "#### Axes of a 2-dimensional array"
   ]
  },
  {
   "cell_type": "markdown",
   "metadata": {
    "id": "qZCN61T1LtiH"
   },
   "source": [
    "\n",
    "![2d](https://user-images.githubusercontent.com/71862853/97675103-0c7e7300-1ad2-11eb-9fec-75b5ba72388f.PNG)<br>A 2-dimensional array `A` is of shape (2, 3).<br>\n",
    "For a 2-dimensional array, the tuple for array shape takes two comma-separated values, and each refers to the number of elements on each axis, `(axis_0, axis_1)`. In this case, `A` consists of 2 rows `(axis = 0)` and 3 columns`(axis = 1)`.\n",
    "\n"
   ]
  },
  {
   "cell_type": "code",
   "execution_count": null,
   "metadata": {
    "colab": {
     "base_uri": "https://localhost:8080/",
     "height": 186
    },
    "executionInfo": {
     "elapsed": 785,
     "status": "error",
     "timestamp": 1604045594268,
     "user": {
      "displayName": "Minseo Kim",
      "photoUrl": "",
      "userId": "13585292405465288254"
     },
     "user_tz": -540
    },
    "id": "YGuZiZR8LtiH",
    "outputId": "9acb0c49-161c-4eef-bcbf-cfa861a8591b"
   },
   "outputs": [
    {
     "ename": "NameError",
     "evalue": "ignored",
     "output_type": "error",
     "traceback": [
      "\u001b[0;31m---------------------------------------------------------------------------\u001b[0m",
      "\u001b[0;31mNameError\u001b[0m                                 Traceback (most recent call last)",
      "\u001b[0;32m<ipython-input-3-5b7743910b62>\u001b[0m in \u001b[0;36m<module>\u001b[0;34m()\u001b[0m\n\u001b[0;32m----> 1\u001b[0;31m \u001b[0mA\u001b[0m \u001b[0;34m=\u001b[0m \u001b[0mnp\u001b[0m\u001b[0;34m.\u001b[0m\u001b[0marray\u001b[0m\u001b[0;34m(\u001b[0m\u001b[0;34m[\u001b[0m\u001b[0;34m[\u001b[0m\u001b[0;36m3.5\u001b[0m\u001b[0;34m,\u001b[0m \u001b[0;36m4.0\u001b[0m\u001b[0;34m,\u001b[0m \u001b[0;36m6.5\u001b[0m\u001b[0;34m]\u001b[0m\u001b[0;34m,\u001b[0m \u001b[0;34m[\u001b[0m\u001b[0;36m.4\u001b[0m\u001b[0;34m,\u001b[0m \u001b[0;36m.9\u001b[0m\u001b[0;34m,\u001b[0m \u001b[0;36m4.7\u001b[0m\u001b[0;34m]\u001b[0m\u001b[0;34m]\u001b[0m\u001b[0;34m)\u001b[0m\u001b[0;34m\u001b[0m\u001b[0;34m\u001b[0m\u001b[0m\n\u001b[0m\u001b[1;32m      2\u001b[0m \u001b[0mA\u001b[0m\u001b[0;34m\u001b[0m\u001b[0;34m\u001b[0m\u001b[0m\n",
      "\u001b[0;31mNameError\u001b[0m: name 'np' is not defined"
     ]
    }
   ],
   "source": [
    "A = np.array([[3.5, 4.0, 6.5], [.4, .9, 4.7]])\n",
    "A"
   ]
  },
  {
   "cell_type": "code",
   "execution_count": null,
   "metadata": {
    "id": "r54t001hLtiJ",
    "outputId": "20a91203-5f91-4787-ec12-f2278d809e6e"
   },
   "outputs": [
    {
     "data": {
      "text/plain": [
       "(2, 3)"
      ]
     },
     "execution_count": 31,
     "metadata": {
      "tags": []
     },
     "output_type": "execute_result"
    }
   ],
   "source": [
    "A.shape"
   ]
  },
  {
   "cell_type": "markdown",
   "metadata": {
    "id": "26bQpGvVLtiM"
   },
   "source": [
    "#### Axes of a 3-dimensional array"
   ]
  },
  {
   "cell_type": "markdown",
   "metadata": {
    "id": "Jfo38O4MLtiM"
   },
   "source": [
    "\n",
    "![3d](https://user-images.githubusercontent.com/71862853/97675954-469c4480-1ad3-11eb-935a-1ca750940a45.PNG)\n",
    "\n",
    "A 3-dimensional array `A` is of shape (4, 3, 2).<br>\n",
    "For a 3-dimensional array, the tuple for array shape takes 3 comma-separated values, and each refers to the number of elements on the corresponding axis from axis 0 to axis 2, `(axis_0, axis_1, axis2)` in this case. 'A' consists of 4 rows`(axis = 0)` and 3 columns`(axis = 1)` in a depth of 2(axis = 2). \n",
    "\n"
   ]
  },
  {
   "cell_type": "code",
   "execution_count": null,
   "metadata": {
    "id": "UpeoyCyJLtiN",
    "outputId": "725795d1-822c-46b0-9b75-6c6ff35f81cb"
   },
   "outputs": [
    {
     "data": {
      "text/plain": [
       "array([[[1, 2, 3],\n",
       "        [4, 5, 6]],\n",
       "\n",
       "       [[1, 2, 3],\n",
       "        [4, 5, 6]]])"
      ]
     },
     "execution_count": 32,
     "metadata": {
      "tags": []
     },
     "output_type": "execute_result"
    }
   ],
   "source": [
    "A = np.array([[[1,2,3], [4,5,6]], [[1,2,3], [4,5,6]]])\n",
    "A"
   ]
  },
  {
   "cell_type": "code",
   "execution_count": null,
   "metadata": {
    "id": "18EKnA_9LtiO",
    "outputId": "392b7dd5-0bdc-47b7-a4be-1d480b161714"
   },
   "outputs": [
    {
     "data": {
      "text/plain": [
       "(2, 2, 3)"
      ]
     },
     "execution_count": 33,
     "metadata": {
      "tags": []
     },
     "output_type": "execute_result"
    }
   ],
   "source": [
    "A.shape"
   ]
  },
  {
   "cell_type": "markdown",
   "metadata": {
    "id": "ym0Rs3d0JTcM"
   },
   "source": [
    "# \\[2. Creating Numpy Arrays\\]\n",
    "\n",
    "There are many ways to create a Numpy Array. It can be created by taking data from other data structures or by setting its configuration manually."
   ]
  },
  {
   "cell_type": "markdown",
   "metadata": {
    "id": "yY_HlZpXXTfT"
   },
   "source": [
    "## 1. Creating an Array based on Other Data Structures \n",
    "\n",
    "You can create a new Numpy array by using data sets of other data structures such as of existing lists or tuples.\n",
    "\n"
   ]
  },
  {
   "cell_type": "markdown",
   "metadata": {
    "id": "QyiuDMSoJTcN"
   },
   "source": [
    "\n",
    "### (1) Creating an Array using existing lists or tuples - `np.array()`\n",
    "\n",
    "This is the most basic way of creating an array with Numpy by converting a list or tuple into an array."
   ]
  },
  {
   "cell_type": "code",
   "execution_count": null,
   "metadata": {
    "id": "QvYxjiv8JTcO",
    "outputId": "7503879a-cdfd-4454-a8e4-9c10224d650f"
   },
   "outputs": [
    {
     "data": {
      "text/plain": [
       "array([1, 2, 3, 4, 5])"
      ]
     },
     "execution_count": 34,
     "metadata": {
      "tags": []
     },
     "output_type": "execute_result"
    }
   ],
   "source": [
    "A = np.array([1,2,3,4,5])\n",
    "A"
   ]
  },
  {
   "cell_type": "markdown",
   "metadata": {
    "id": "0hoTKsdaJTcd"
   },
   "source": [
    "### (2) Copying an existing Array - `np.copy()`\n",
    "\n",
    "Suppose you want to make a copy of `A`."
   ]
  },
  {
   "cell_type": "code",
   "execution_count": null,
   "metadata": {
    "id": "UHEBQX2hJTci",
    "outputId": "11005144-423a-4a98-b09d-215b235d8f84"
   },
   "outputs": [
    {
     "data": {
      "text/plain": [
       "array([1, 2, 3, 4, 5])"
      ]
     },
     "execution_count": 35,
     "metadata": {
      "tags": []
     },
     "output_type": "execute_result"
    }
   ],
   "source": [
    "A = np.array([1,2,3,4,5])\n",
    "A"
   ]
  },
  {
   "cell_type": "markdown",
   "metadata": {
    "id": "d0IiUgmBLtiZ"
   },
   "source": [
    "So, you create `B` as below. In that case, `B` is not taking a different memory space from `A`. Instead, `B` is just pointing to the same memory address as `A`.  "
   ]
  },
  {
   "cell_type": "code",
   "execution_count": null,
   "metadata": {
    "id": "UFWbzHGxJTcn",
    "outputId": "9aceec38-2597-437f-de18-873c98379112"
   },
   "outputs": [
    {
     "name": "stdout",
     "output_type": "stream",
     "text": [
      "2573078041184\n",
      "2573078041184\n"
     ]
    }
   ],
   "source": [
    "B = A\n",
    "print(id(B))\n",
    "print(id(A))"
   ]
  },
  {
   "cell_type": "markdown",
   "metadata": {
    "id": "cnEqFDsJJTdB"
   },
   "source": [
    "Then, what should you do if you want to create an array that only copies the values of `A` but not the memory address so that the copied one acts like a completely different variable from `A`?<br>\n",
    "For that, you can use the `.copy()` method."
   ]
  },
  {
   "cell_type": "code",
   "execution_count": 1,
   "metadata": {
    "id": "VYIh3GJWJTdC",
    "outputId": "66598915-df61-40c0-a38b-6f83d527435f"
   },
   "outputs": [
    {
     "ename": "NameError",
     "evalue": "name 'np' is not defined",
     "output_type": "error",
     "traceback": [
      "\u001b[1;31m---------------------------------------------------------------------------\u001b[0m",
      "\u001b[1;31mNameError\u001b[0m                                 Traceback (most recent call last)",
      "\u001b[1;32m<ipython-input-1-63af03b17797>\u001b[0m in \u001b[0;36m<module>\u001b[1;34m()\u001b[0m\n\u001b[1;32m----> 1\u001b[1;33m \u001b[0mA\u001b[0m \u001b[1;33m=\u001b[0m \u001b[0mnp\u001b[0m\u001b[1;33m.\u001b[0m\u001b[0marray\u001b[0m\u001b[1;33m(\u001b[0m\u001b[1;33m[\u001b[0m\u001b[1;36m1\u001b[0m\u001b[1;33m,\u001b[0m\u001b[1;36m2\u001b[0m\u001b[1;33m,\u001b[0m\u001b[1;36m3\u001b[0m\u001b[1;33m,\u001b[0m\u001b[1;36m4\u001b[0m\u001b[1;33m,\u001b[0m\u001b[1;36m5\u001b[0m\u001b[1;33m]\u001b[0m\u001b[1;33m)\u001b[0m\u001b[1;33m\u001b[0m\u001b[0m\n\u001b[0m\u001b[0;32m      2\u001b[0m \u001b[0mA\u001b[0m\u001b[1;33m\u001b[0m\u001b[0m\n",
      "\u001b[1;31mNameError\u001b[0m: name 'np' is not defined"
     ]
    }
   ],
   "source": [
    "A = np.array([1,2,3,4,5])\n",
    "A"
   ]
  },
  {
   "cell_type": "code",
   "execution_count": 2,
   "metadata": {
    "id": "bAlULnxVJTdG",
    "outputId": "de940f6b-e78b-4168-9914-7c08b397fb4e"
   },
   "outputs": [
    {
     "ename": "NameError",
     "evalue": "name 'A' is not defined",
     "output_type": "error",
     "traceback": [
      "\u001b[1;31m---------------------------------------------------------------------------\u001b[0m",
      "\u001b[1;31mNameError\u001b[0m                                 Traceback (most recent call last)",
      "\u001b[1;32m<ipython-input-2-114b3f177921>\u001b[0m in \u001b[0;36m<module>\u001b[1;34m()\u001b[0m\n\u001b[1;32m----> 1\u001b[1;33m \u001b[0mB\u001b[0m \u001b[1;33m=\u001b[0m \u001b[0mA\u001b[0m\u001b[1;33m.\u001b[0m\u001b[0mcopy\u001b[0m\u001b[1;33m(\u001b[0m\u001b[1;33m)\u001b[0m \u001b[1;31m# copying and saving features of `A` in `B`\u001b[0m\u001b[1;33m\u001b[0m\u001b[0m\n\u001b[0m\u001b[0;32m      2\u001b[0m \u001b[0mprint\u001b[0m\u001b[1;33m(\u001b[0m\u001b[0mid\u001b[0m\u001b[1;33m(\u001b[0m\u001b[0mB\u001b[0m\u001b[1;33m)\u001b[0m\u001b[1;33m)\u001b[0m\u001b[1;33m\u001b[0m\u001b[0m\n\u001b[0;32m      3\u001b[0m \u001b[0mprint\u001b[0m\u001b[1;33m(\u001b[0m\u001b[0mid\u001b[0m\u001b[1;33m(\u001b[0m\u001b[0mA\u001b[0m\u001b[1;33m)\u001b[0m\u001b[1;33m)\u001b[0m \u001b[1;31m# 'A' and `B` stored in different memory addresses\u001b[0m\u001b[1;33m\u001b[0m\u001b[0m\n",
      "\u001b[1;31mNameError\u001b[0m: name 'A' is not defined"
     ]
    }
   ],
   "source": [
    "B = A.copy() # copying and saving features of `A` in `B`\n",
    "print(id(B))\n",
    "print(id(A)) # 'A' and `B` stored in different memory addresses"
   ]
  },
  {
   "cell_type": "code",
   "execution_count": 3,
   "metadata": {
    "id": "6ywARThuJTdK",
    "outputId": "692cf505-f8f8-4403-f298-f03981f16e5e"
   },
   "outputs": [
    {
     "ename": "NameError",
     "evalue": "name 'B' is not defined",
     "output_type": "error",
     "traceback": [
      "\u001b[1;31m---------------------------------------------------------------------------\u001b[0m",
      "\u001b[1;31mNameError\u001b[0m                                 Traceback (most recent call last)",
      "\u001b[1;32m<ipython-input-3-0bdb07fedf5f>\u001b[0m in \u001b[0;36m<module>\u001b[1;34m()\u001b[0m\n\u001b[1;32m----> 1\u001b[1;33m \u001b[0mB\u001b[0m\u001b[1;33m[\u001b[0m\u001b[1;36m0\u001b[0m\u001b[1;33m]\u001b[0m \u001b[1;33m=\u001b[0m \u001b[1;36m0\u001b[0m \u001b[1;31m# any change in `B` wouldn't affect `A`\u001b[0m\u001b[1;33m\u001b[0m\u001b[0m\n\u001b[0m",
      "\u001b[1;31mNameError\u001b[0m: name 'B' is not defined"
     ]
    }
   ],
   "source": [
    "B[0] = 0 # any change in `B` wouldn't affect `A`"
   ]
  },
  {
   "cell_type": "code",
   "execution_count": null,
   "metadata": {
    "id": "xP0avpKiJTdN",
    "outputId": "d41138fb-3029-4734-9cf7-bccdf0692412"
   },
   "outputs": [
    {
     "data": {
      "text/plain": [
       "array([1, 2, 3, 4, 5])"
      ]
     },
     "execution_count": 40,
     "metadata": {
      "tags": []
     },
     "output_type": "execute_result"
    }
   ],
   "source": [
    "A # `A` stays unchanged"
   ]
  },
  {
   "cell_type": "markdown",
   "metadata": {
    "id": "ZETabvc0cEq0"
   },
   "source": [
    "<br>\n",
    "\n",
    "## 2. Creating an Array by Setting Configuration\n",
    "\n",
    "+ You can create a Numpy array by manually setting the values, the shape, and the data type.\n",
    "\n",
    "+ You can create a Numpy array, all elements of which are the same.\n",
    "\n",
    "+ You can create a Numpy array by only copying the shape of an existing array, but with different values.\n",
    "\n",
    "+ You can set the values of the elements at equal intervals."
   ]
  },
  {
   "cell_type": "markdown",
   "metadata": {
    "id": "6SFPWskvJTdT"
   },
   "source": [
    "### (1) Creating an arrays filled with a single value: \n",
    "- `np.zeros()`&nbsp;&nbsp; - a Numpy array with zeros.\n",
    "- `np.ones()`&nbsp;&nbsp; - a Numpy array with ones.\n",
    "- `np.full()` - a Numpy array with a given fill_value.\n",
    "\n",
    "When using the above methods, the value for the array elements are preset. So, you should only specify the `shape` and `dtype` attributes."
   ]
  },
  {
   "cell_type": "code",
   "execution_count": null,
   "metadata": {
    "id": "b5Ziq7cHJTdU",
    "outputId": "e6ad6100-f06f-471c-94e5-27c65a440100"
   },
   "outputs": [
    {
     "data": {
      "text/plain": [
       "array([[0., 0.],\n",
       "       [0., 0.],\n",
       "       [0., 0.]])"
      ]
     },
     "execution_count": 41,
     "metadata": {
      "tags": []
     },
     "output_type": "execute_result"
    }
   ],
   "source": [
    "# Creating a matrix of 3 rows and 2 columns filled with 0\n",
    "A = np.zeros(shape=(3,2), dtype=np.float64)\n",
    "A"
   ]
  },
  {
   "cell_type": "code",
   "execution_count": null,
   "metadata": {
    "id": "j0pqN1X1JTdX",
    "outputId": "5baeb37f-cc4b-4844-d227-4c66a75c558d"
   },
   "outputs": [
    {
     "data": {
      "text/plain": [
       "array([[1., 1.],\n",
       "       [1., 1.],\n",
       "       [1., 1.]])"
      ]
     },
     "execution_count": 42,
     "metadata": {
      "tags": []
     },
     "output_type": "execute_result"
    }
   ],
   "source": [
    "# Creating a matrix of 3 rows and 2 columns filled with 1\n",
    "A = np.ones(shape=(3,2), dtype=np.float64)\n",
    "A"
   ]
  },
  {
   "cell_type": "code",
   "execution_count": null,
   "metadata": {
    "id": "mHLCzgmGJTda",
    "outputId": "85b79c60-7467-4088-fa40-3f21366d1e92"
   },
   "outputs": [
    {
     "data": {
      "text/plain": [
       "array([[3., 3.],\n",
       "       [3., 3.],\n",
       "       [3., 3.]])"
      ]
     },
     "execution_count": 43,
     "metadata": {
      "tags": []
     },
     "output_type": "execute_result"
    }
   ],
   "source": [
    "# Creating a matrix of 3 rows and 2 columns filled with 3 in a floating-point \n",
    "A = np.full(shape=(3,2), fill_value=3., dtype=np.float64)\n",
    "A"
   ]
  },
  {
   "cell_type": "markdown",
   "metadata": {
    "id": "RR8tPo1EJTdi"
   },
   "source": [
    "### (2) Creating an array of pre-set shape and values.\n",
    "- `np.zeros_like()`&nbsp; &nbsp;\n",
    "- `np.ones_like()`&nbsp; &nbsp;\n",
    "- `np.full_like()`&nbsp;\n",
    "\n",
    "With the given array shape, you can create an array filled with a single desired value by using the above methods. \n"
   ]
  },
  {
   "cell_type": "code",
   "execution_count": null,
   "metadata": {
    "colab": {
     "base_uri": "https://localhost:8080/",
     "height": 33
    },
    "executionInfo": {
     "elapsed": 823,
     "status": "ok",
     "timestamp": 1551246684793,
     "user": {
      "displayName": "최선열",
      "photoUrl": "",
      "userId": "00663027191814710813"
     },
     "user_tz": -540
    },
    "id": "iJhXJer8JTdj",
    "outputId": "ee54ca08-5dcc-44f8-f139-1a6a6311b00a"
   },
   "outputs": [
    {
     "data": {
      "text/plain": [
       "array([1, 2, 3, 4, 5])"
      ]
     },
     "execution_count": 44,
     "metadata": {
      "tags": []
     },
     "output_type": "execute_result"
    }
   ],
   "source": [
    "A = np.array([1,2,3,4,5])\n",
    "A"
   ]
  },
  {
   "cell_type": "code",
   "execution_count": null,
   "metadata": {
    "colab": {
     "base_uri": "https://localhost:8080/",
     "height": 33
    },
    "executionInfo": {
     "elapsed": 692,
     "status": "ok",
     "timestamp": 1551246711813,
     "user": {
      "displayName": "최선열",
      "photoUrl": "",
      "userId": "00663027191814710813"
     },
     "user_tz": -540
    },
    "id": "lShdPcX5JTdl",
    "outputId": "a01ae018-83f8-4559-a623-ec1ecc35617d"
   },
   "outputs": [
    {
     "data": {
      "text/plain": [
       "array([0, 0, 0, 0, 0])"
      ]
     },
     "execution_count": 45,
     "metadata": {
      "tags": []
     },
     "output_type": "execute_result"
    }
   ],
   "source": [
    "# Creating an array of shape `A` filled with 0\n",
    "np.zeros_like(A, dtype=np.int) "
   ]
  },
  {
   "cell_type": "code",
   "execution_count": null,
   "metadata": {
    "id": "haaqzV67JTdn",
    "outputId": "ba5f3ccb-f476-40ed-dd40-8d8b6b102a8b"
   },
   "outputs": [
    {
     "data": {
      "text/plain": [
       "array([1, 1, 1, 1, 1])"
      ]
     },
     "execution_count": 46,
     "metadata": {
      "tags": []
     },
     "output_type": "execute_result"
    }
   ],
   "source": [
    "# Creating an array of shape `A` filled with 1\n",
    "np.ones_like(A, dtype=np.int) "
   ]
  },
  {
   "cell_type": "code",
   "execution_count": null,
   "metadata": {
    "id": "5KJnr4IQJTdp",
    "outputId": "e2b51270-11c6-40ea-d419-6ed3c01c0395"
   },
   "outputs": [
    {
     "data": {
      "text/plain": [
       "array([13, 13, 13, 13, 13])"
      ]
     },
     "execution_count": 47,
     "metadata": {
      "tags": []
     },
     "output_type": "execute_result"
    }
   ],
   "source": [
    "# Creating an array of shape `A` filled with 13\n",
    "np.full_like(A, fill_value=13, dtype=np.int) "
   ]
  },
  {
   "cell_type": "markdown",
   "metadata": {
    "id": "BLH0P5TxJTds"
   },
   "source": [
    "### (3) Creating an array of values over a specified interval: \n",
    "- `np.linspace()`\n",
    "- `np.arange()`\n",
    "\n",
    "With Numpy, you can create an array with numbers at a specified interval.<br> \n",
    "For instance, You can create an array consisting of consecutive values from 1 to 10 at regular intervals, using the following Numpy functions. \n",
    "\n",
    "* `np.linspace()` - to create an array consisting of evenly spaced numbers **over a specified interval**.\n",
    "\n",
    "\n",
    "* `np.arange()` - to create an array consisting of evenly spaced numbers **within a given interval**.\n",
    "<br><br><br>\n",
    "\n",
    "\n"
   ]
  },
  {
   "cell_type": "code",
   "execution_count": null,
   "metadata": {
    "id": "vmlAdrogJTdt",
    "outputId": "c0b9dc0a-61e2-43f4-e8fb-af7c7f717c64"
   },
   "outputs": [
    {
     "data": {
      "text/plain": [
       "array([ 1. ,  1.5,  2. ,  2.5,  3. ,  3.5,  4. ,  4.5,  5. ,  5.5,  6. ,\n",
       "        6.5,  7. ,  7.5,  8. ,  8.5,  9. ,  9.5, 10. ])"
      ]
     },
     "execution_count": 48,
     "metadata": {
      "tags": []
     },
     "output_type": "execute_result"
    }
   ],
   "source": [
    "np.linspace(start=1,stop=10, num=19) # generating 19 values from 1(inclusive) to 10(exclusive) at equal intervals"
   ]
  },
  {
   "cell_type": "code",
   "execution_count": null,
   "metadata": {
    "id": "nt5clvfEJTdy",
    "outputId": "7591fbc0-72f9-417a-b995-e1cd32ad58d9"
   },
   "outputs": [
    {
     "data": {
      "text/plain": [
       "array([1. , 1.5, 2. , 2.5, 3. , 3.5, 4. , 4.5, 5. , 5.5, 6. , 6.5, 7. ,\n",
       "       7.5, 8. , 8.5, 9. , 9.5])"
      ]
     },
     "execution_count": 49,
     "metadata": {
      "tags": []
     },
     "output_type": "execute_result"
    }
   ],
   "source": [
    "np.arange(1,10,0.5) # generating values from 1(inclusive) to 10(exclusive) in every 0.5"
   ]
  }
 ],
 "metadata": {
  "colab": {
   "collapsed_sections": [],
   "name": "2. Structure and Creation.ipynb",
   "provenance": []
  },
  "kernelspec": {
   "display_name": "Python 3",
   "language": "python",
   "name": "python3"
  },
  "language_info": {
   "codemirror_mode": {
    "name": "ipython",
    "version": 3
   },
   "file_extension": ".py",
   "mimetype": "text/x-python",
   "name": "python",
   "nbconvert_exporter": "python",
   "pygments_lexer": "ipython3",
   "version": "3.7.0"
  },
  "toc": {
   "base_numbering": 1,
   "nav_menu": {},
   "number_sections": false,
   "sideBar": true,
   "skip_h1_title": false,
   "title_cell": "Table of Contents",
   "title_sidebar": "Contents",
   "toc_cell": false,
   "toc_position": {
    "height": "calc(100% - 180px)",
    "left": "10px",
    "top": "150px",
    "width": "322.878px"
   },
   "toc_section_display": true,
   "toc_window_display": true
  }
 },
 "nbformat": 4,
 "nbformat_minor": 1
}
