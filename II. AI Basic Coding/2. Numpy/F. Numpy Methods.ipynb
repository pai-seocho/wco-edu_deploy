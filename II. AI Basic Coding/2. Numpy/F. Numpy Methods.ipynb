{
 "cells": [
  {
   "cell_type": "markdown",
   "metadata": {
    "id": "o_fIYu-76fZg"
   },
   "source": [
    "# F. Numpy Methods\n",
    "\n",
    "So far, we've witnessed how Numpy lightens the burden of data handling in so many ways. On top of that, there is one more powerful feature of Numpy we haven't spoken about yet. In basic Python, it was said that you have to use either while or for loop to perform elementwise arithmetic operations on iterables. However, using Numpy allows you to do the same task only with a single functional set of code, and these single functional sets of code are called `universal functions` or `UFuncs`\n",
    "\n",
    "So, in this section, we will be learning about `Universal Functions`.\n",
    "\n",
    "### _Objective_\n",
    "1. **Numpy Method** : Understanding how `universal functions` simplify operations on arrays."
   ]
  },
  {
   "cell_type": "code",
   "execution_count": 1,
   "metadata": {
    "collapsed": true,
    "executionInfo": {
     "elapsed": 1197,
     "status": "ok",
     "timestamp": 1604331972082,
     "user": {
      "displayName": "Minseo Kim",
      "photoUrl": "",
      "userId": "13585292405465288254"
     },
     "user_tz": -540
    },
    "id": "pa-8gyc06fZi"
   },
   "outputs": [],
   "source": [
    "import numpy as np"
   ]
  },
  {
   "cell_type": "markdown",
   "metadata": {
    "id": "KAARuJghaxD3"
   },
   "source": [
    "# \\[1. Elementwise Operations\\] "
   ]
  },
  {
   "cell_type": "markdown",
   "metadata": {
    "id": "Un_wfQ1XaxD4"
   },
   "source": [
    "You can perform the following types of elementwise operations with Numpy. \n",
    "\n",
    "1. Operations on array elements.\n",
    "2. Operations between arrays of the same shape. \n",
    "3. Operations between arrays and scalars.\n",
    "4. Operations between arrays of different shapes.\n",
    " \n",
    "\n",
    "Let's see how the elementwise operations including the four basic arithmetic operations(+,-,*, /) are run on Numpy arrays.\n"
   ]
  },
  {
   "cell_type": "markdown",
   "metadata": {
    "id": "lEnhdkxYaxD4"
   },
   "source": [
    "## 1. Operations on Array Elements.\n",
    "\n",
    "+ You can manipulate values in a Numpy array using the following Numpy methods.\n"
   ]
  },
  {
   "cell_type": "markdown",
   "metadata": {
    "id": "ZLssDEjraxD5"
   },
   "source": [
    "Let's create a vector that contains values between 1(inclusive) and 5(exclusive) at the interval of 0.5. Then, get sine, exponential and logarithm of the given values. "
   ]
  },
  {
   "cell_type": "code",
   "execution_count": null,
   "metadata": {
    "colab": {
     "base_uri": "https://localhost:8080/",
     "height": 33
    },
    "executionInfo": {
     "elapsed": 549,
     "status": "ok",
     "timestamp": 1551670426787,
     "user": {
      "displayName": "최선열",
      "photoUrl": "",
      "userId": "00663027191814710813"
     },
     "user_tz": -540
    },
    "id": "UlM_BP7Go33U",
    "outputId": "98f70245-1054-4076-b00b-62d88d120edc",
    "scrolled": true
   },
   "outputs": [
    {
     "data": {
      "text/plain": [
       "array([1. , 1.5, 2. , 2.5, 3. , 3.5, 4. , 4.5])"
      ]
     },
     "execution_count": 2,
     "metadata": {
      "tags": []
     },
     "output_type": "execute_result"
    }
   ],
   "source": [
    "A = np.arange(1,5,0.5)\n",
    "A"
   ]
  },
  {
   "cell_type": "markdown",
   "metadata": {
    "id": "uEy7k9kEo33q"
   },
   "source": [
    "### (1) `.sin()`\n",
    "`.sin()` returns the sine of each element of the given array."
   ]
  },
  {
   "cell_type": "code",
   "execution_count": null,
   "metadata": {
    "id": "GeSrDKCjo33u",
    "outputId": "5c2d7229-4321-41c3-c34f-cda1d8331ee2"
   },
   "outputs": [
    {
     "data": {
      "text/plain": [
       "array([ 0.84147098,  0.99749499,  0.90929743,  0.59847214,  0.14112001,\n",
       "       -0.35078323, -0.7568025 , -0.97753012])"
      ]
     },
     "execution_count": 3,
     "metadata": {
      "tags": []
     },
     "output_type": "execute_result"
    }
   ],
   "source": [
    "np.sin(A)"
   ]
  },
  {
   "cell_type": "markdown",
   "metadata": {
    "id": "OHqLD8J0o34D"
   },
   "source": [
    "### (2) `.exp()`\n",
    "\n",
    "`.exp()` returns the exponential of each element of the given array."
   ]
  },
  {
   "cell_type": "code",
   "execution_count": null,
   "metadata": {
    "id": "Gz0NEygzo34H",
    "outputId": "6d93cdfd-e6aa-47a2-e7ed-f4ba9056b063",
    "scrolled": true
   },
   "outputs": [
    {
     "data": {
      "text/plain": [
       "array([ 2.71828183,  4.48168907,  7.3890561 , 12.18249396, 20.08553692,\n",
       "       33.11545196, 54.59815003, 90.0171313 ])"
      ]
     },
     "execution_count": 4,
     "metadata": {
      "tags": []
     },
     "output_type": "execute_result"
    }
   ],
   "source": [
    "np.exp(A)"
   ]
  },
  {
   "cell_type": "markdown",
   "metadata": {
    "id": "fdd6QGXzo34a"
   },
   "source": [
    "### (3) `.log()`\n",
    "\n",
    "`.log()` returns the logarithm of each element of the given array."
   ]
  },
  {
   "cell_type": "code",
   "execution_count": null,
   "metadata": {
    "id": "qVXog9rXo34e",
    "outputId": "7ad9ebc4-ce3e-44e0-ee9f-fd9445a16bd8"
   },
   "outputs": [
    {
     "data": {
      "text/plain": [
       "array([0.        , 0.40546511, 0.69314718, 0.91629073, 1.09861229,\n",
       "       1.25276297, 1.38629436, 1.5040774 ])"
      ]
     },
     "execution_count": 5,
     "metadata": {
      "tags": []
     },
     "output_type": "execute_result"
    }
   ],
   "source": [
    "np.log(A)"
   ]
  },
  {
   "cell_type": "markdown",
   "metadata": {
    "id": "kM10JUhYo346"
   },
   "source": [
    "### (4) `.matmul()`\n",
    "\n",
    "`.matmul()` returns the matrix product of two given arrays. "
   ]
  },
  {
   "cell_type": "code",
   "execution_count": null,
   "metadata": {
    "collapsed": true,
    "id": "u1O_Wbiso34-"
   },
   "outputs": [],
   "source": [
    "W = np.array([\n",
    "    [1,2,3],\n",
    "    [2,3,4],\n",
    "    [3,4,5]\n",
    "])\n",
    "X = np.array([\n",
    "    [1],\n",
    "    [2],\n",
    "    [3],\n",
    "])\n"
   ]
  },
  {
   "cell_type": "code",
   "execution_count": null,
   "metadata": {
    "id": "t0euU9NKo35U",
    "outputId": "b1d9831f-91f3-49de-9006-4cc070bec1b3"
   },
   "outputs": [
    {
     "data": {
      "text/plain": [
       "array([[14],\n",
       "       [20],\n",
       "       [26]])"
      ]
     },
     "execution_count": 7,
     "metadata": {
      "tags": []
     },
     "output_type": "execute_result"
    }
   ],
   "source": [
    "np.matmul(W,X)"
   ]
  },
  {
   "cell_type": "markdown",
   "metadata": {
    "id": "t6f6gwAQTgPP"
   },
   "source": [
    "Let's have a look in more detail at how we came to this result.<br>\n",
    "`1*1 + 2*2 + 3*3 = 14`<br>\n",
    "`2*1 + 3*2 + 4*3 = 20`<br>\n",
    "`3*1 + 4*2 + 5*3 = 26` <br>\n"
   ]
  },
  {
   "cell_type": "markdown",
   "metadata": {
    "id": "-xLXSgg4O6Rd"
   },
   "source": [
    "# \\[2. Aggregate Operations\\]\n",
    "\n",
    "Numpy provides a number of methods that perform aggregate operations along the specified axis. These methods return an array if an axis is specified to be removed, or a scalar otherwise."
   ]
  },
  {
   "cell_type": "markdown",
   "metadata": {
    "id": "34r66vr2O6Re"
   },
   "source": [
    "#### Example Data)  mid-term and final report card of class 1. \n",
    "\n",
    "We will use the student report cards for the following examples. "
   ]
  },
  {
   "cell_type": "code",
   "execution_count": null,
   "metadata": {
    "colab": {
     "base_uri": "https://localhost:8080/",
     "height": 228
    },
    "executionInfo": {
     "elapsed": 375,
     "status": "ok",
     "timestamp": 1551671291404,
     "user": {
      "displayName": "최선열",
      "photoUrl": "",
      "userId": "00663027191814710813"
     },
     "user_tz": -540
    },
    "id": "WrSWb4HgO6Rf",
    "outputId": "08a25e9e-2e34-4884-b203-7536c019feac"
   },
   "outputs": [
    {
     "data": {
      "text/plain": [
       "(6, 5)"
      ]
     },
     "execution_count": 29,
     "metadata": {
      "tags": []
     },
     "output_type": "execute_result"
    }
   ],
   "source": [
    "midterm_scores = np.array([\n",
    "    [80,92,70,65,92],\n",
    "    [91,75,90,68,85],\n",
    "    [86,76,42,72,88],\n",
    "    [77,92,52,60,80],\n",
    "    [75,85,85,92,95],\n",
    "    [96,90,95,81,72]\n",
    "])\n",
    "\n",
    "final_scores = np.array([\n",
    "    [85,95,90,66,93],\n",
    "    [93,70,80,60,81],\n",
    "    [89,78,55,75,80],\n",
    "    [80,94,59,72,90],\n",
    "    [70,82,81,95,72],\n",
    "    [90,76,93,82,89]\n",
    "])\n",
    "final_scores.shape"
   ]
  },
  {
   "cell_type": "markdown",
   "metadata": {
    "id": "VvG4A6wBnv_e"
   },
   "source": [
    "## 1. Numpy Methods for Aggregate Operations."
   ]
  },
  {
   "cell_type": "markdown",
   "metadata": {
    "id": "ElsyQ5ceO6Se"
   },
   "source": [
    "### (1) np.sum()\n",
    "`.sum()` calculates the total sum of an array."
   ]
  },
  {
   "cell_type": "markdown",
   "metadata": {
    "id": "ezAJDAl3nv_f"
   },
   "source": [
    "#### Total score in the midterm exam."
   ]
  },
  {
   "cell_type": "code",
   "execution_count": null,
   "metadata": {
    "id": "SJ5EWT9vnv_g",
    "outputId": "71f09a57-dd08-4da0-f60a-f8ee5a25b4bf"
   },
   "outputs": [
    {
     "data": {
      "text/plain": [
       "2399"
      ]
     },
     "execution_count": 34,
     "metadata": {
      "tags": []
     },
     "output_type": "execute_result"
    }
   ],
   "source": [
    "midterm_scores.sum()"
   ]
  },
  {
   "cell_type": "markdown",
   "metadata": {
    "id": "Q_rae7innv_k"
   },
   "source": [
    "#### Total score of student 0"
   ]
  },
  {
   "cell_type": "code",
   "execution_count": null,
   "metadata": {
    "id": "MV8lp6Fhnv_k",
    "outputId": "a0ecf72b-993d-4cad-f1e0-344ce9f7acc7",
    "scrolled": true
   },
   "outputs": [
    {
     "data": {
      "text/plain": [
       "399"
      ]
     },
     "execution_count": 32,
     "metadata": {
      "tags": []
     },
     "output_type": "execute_result"
    }
   ],
   "source": [
    "midterm_scores[0,:].sum()"
   ]
  },
  {
   "cell_type": "markdown",
   "metadata": {
    "id": "M1nhRjsbO6Rl"
   },
   "source": [
    "### (2) np.mean()\n",
    "`.mean()` calculates the average value of an array."
   ]
  },
  {
   "cell_type": "markdown",
   "metadata": {
    "id": "0gqbVpDtnv_p"
   },
   "source": [
    "#### Average score in the midterm"
   ]
  },
  {
   "cell_type": "code",
   "execution_count": null,
   "metadata": {
    "id": "L7YAyDE3O6Rn",
    "outputId": "314997bf-5d82-4513-f24b-fbfdba4a9439",
    "scrolled": true
   },
   "outputs": [
    {
     "data": {
      "text/plain": [
       "79.96666666666667"
      ]
     },
     "execution_count": 38,
     "metadata": {
      "tags": []
     },
     "output_type": "execute_result"
    }
   ],
   "source": [
    "midterm_scores.mean()"
   ]
  },
  {
   "cell_type": "markdown",
   "metadata": {
    "id": "iLO1p_M9nv_t"
   },
   "source": [
    "#### Average score of student 4 in the midterm"
   ]
  },
  {
   "cell_type": "code",
   "execution_count": null,
   "metadata": {
    "colab": {
     "base_uri": "https://localhost:8080/",
     "height": 33
    },
    "executionInfo": {
     "elapsed": 662,
     "status": "ok",
     "timestamp": 1551672127626,
     "user": {
      "displayName": "최선열",
      "photoUrl": "",
      "userId": "00663027191814710813"
     },
     "user_tz": -540
    },
    "id": "Oe4Raong3aMq",
    "outputId": "57ab87df-eb5b-41f5-8ed4-8aab11e9c4df"
   },
   "outputs": [
    {
     "data": {
      "text/plain": [
       "86.4"
      ]
     },
     "execution_count": 41,
     "metadata": {
      "tags": []
     },
     "output_type": "execute_result"
    }
   ],
   "source": [
    "midterm_scores[4,:].mean()"
   ]
  },
  {
   "cell_type": "markdown",
   "metadata": {
    "id": "KSsgDO9Tnv_x"
   },
   "source": [
    "### (3) np.max()\n",
    "`.max()`returns the maximum value in an array."
   ]
  },
  {
   "cell_type": "markdown",
   "metadata": {
    "id": "uoUd49B3nv_x"
   },
   "source": [
    " #### Top score in the final exam"
   ]
  },
  {
   "cell_type": "code",
   "execution_count": null,
   "metadata": {
    "id": "bCsU5lscnv_y",
    "outputId": "ea3f4b53-d957-492b-b6bb-502aa82fe4ad",
    "scrolled": true
   },
   "outputs": [
    {
     "data": {
      "text/plain": [
       "95"
      ]
     },
     "execution_count": 42,
     "metadata": {
      "tags": []
     },
     "output_type": "execute_result"
    }
   ],
   "source": [
    "final_scores.max()"
   ]
  },
  {
   "cell_type": "markdown",
   "metadata": {
    "id": "4k-S8_Q5nv_5"
   },
   "source": [
    "#### Highest score of student 2 in the final exam"
   ]
  },
  {
   "cell_type": "code",
   "execution_count": null,
   "metadata": {
    "id": "Qn5qzVddnv_6",
    "outputId": "e2c7a640-ebbb-412e-dbd9-448bf682ed74",
    "scrolled": true
   },
   "outputs": [
    {
     "data": {
      "text/plain": [
       "89"
      ]
     },
     "execution_count": 45,
     "metadata": {
      "tags": []
     },
     "output_type": "execute_result"
    }
   ],
   "source": [
    "final_scores[2,:].max()"
   ]
  },
  {
   "cell_type": "markdown",
   "metadata": {
    "id": "e2dgm5kpnv_9"
   },
   "source": [
    "### (4) np.min()\n",
    "`.min()`returns the minimum value in an array."
   ]
  },
  {
   "cell_type": "markdown",
   "metadata": {
    "id": "FZdk9FEZnv_-"
   },
   "source": [
    " #### Lowest score in the final exam "
   ]
  },
  {
   "cell_type": "code",
   "execution_count": null,
   "metadata": {
    "id": "XhfFRw4Mnv_-",
    "outputId": "084b0887-bf8c-49a8-ec13-3a484d81a726",
    "scrolled": true
   },
   "outputs": [
    {
     "data": {
      "text/plain": [
       "55"
      ]
     },
     "execution_count": 46,
     "metadata": {
      "tags": []
     },
     "output_type": "execute_result"
    }
   ],
   "source": [
    "final_scores.min()"
   ]
  },
  {
   "cell_type": "markdown",
   "metadata": {
    "id": "rE9UJUcknwAC"
   },
   "source": [
    "#### Lowest score of student 3 in the final exam"
   ]
  },
  {
   "cell_type": "code",
   "execution_count": null,
   "metadata": {
    "id": "y83uiTonnwAC",
    "outputId": "e6a76099-8a66-4bc5-cc3b-408b5bed7e67",
    "scrolled": true
   },
   "outputs": [
    {
     "data": {
      "text/plain": [
       "59"
      ]
     },
     "execution_count": 48,
     "metadata": {
      "tags": []
     },
     "output_type": "execute_result"
    }
   ],
   "source": [
    "final_scores[3,:].min()"
   ]
  },
  {
   "cell_type": "markdown",
   "metadata": {
    "id": "IulIrwBlnwAF"
   },
   "source": [
    "### (5) np.std()\n",
    "`.std()` returns the standard deviation, a measure of the spread of a distribution, of the array elements."
   ]
  },
  {
   "cell_type": "markdown",
   "metadata": {
    "id": "GZmmuoCcnwAF"
   },
   "source": [
    "#### The standard deviation of scores in the midterm exam"
   ]
  },
  {
   "cell_type": "code",
   "execution_count": null,
   "metadata": {
    "id": "U35n88bInwAG",
    "outputId": "4d1e01ae-4d5c-4921-b120-c9168b5182a7",
    "scrolled": true
   },
   "outputs": [
    {
     "data": {
      "text/plain": [
       "13.011490648226621"
      ]
     },
     "execution_count": 50,
     "metadata": {
      "tags": []
     },
     "output_type": "execute_result"
    }
   ],
   "source": [
    "midterm_scores.std() "
   ]
  },
  {
   "cell_type": "markdown",
   "metadata": {
    "id": "t5Ncp9PcnwAJ"
   },
   "source": [
    "### (6) np.stack()\n",
    "`np.stack()` joins a sequence of arrays along a new axis. Note that the stacked array has one more dimension than before."
   ]
  },
  {
   "cell_type": "markdown",
   "metadata": {
    "id": "Dy_uopNbnwAJ"
   },
   "source": [
    "#### Joining midterm and final exam scores into a new array"
   ]
  },
  {
   "cell_type": "code",
   "execution_count": null,
   "metadata": {
    "colab": {
     "base_uri": "https://localhost:8080/",
     "height": 228
    },
    "executionInfo": {
     "elapsed": 375,
     "status": "ok",
     "timestamp": 1551671291404,
     "user": {
      "displayName": "최선열",
      "photoUrl": "",
      "userId": "00663027191814710813"
     },
     "user_tz": -540
    },
    "id": "QQY0Ejj8nwAK",
    "outputId": "08a25e9e-2e34-4884-b203-7536c019feac",
    "scrolled": false
   },
   "outputs": [
    {
     "name": "stdout",
     "output_type": "stream",
     "text": [
      "(2, 6, 5)\n"
     ]
    },
    {
     "data": {
      "text/plain": [
       "array([[[80, 92, 70, 65, 92],\n",
       "        [91, 75, 90, 68, 85],\n",
       "        [86, 76, 42, 72, 88],\n",
       "        [77, 92, 52, 60, 80],\n",
       "        [75, 85, 85, 92, 95],\n",
       "        [96, 90, 95, 81, 72]],\n",
       "\n",
       "       [[85, 95, 90, 66, 93],\n",
       "        [93, 70, 80, 60, 81],\n",
       "        [89, 78, 55, 75, 80],\n",
       "        [80, 94, 59, 72, 90],\n",
       "        [70, 82, 81, 95, 72],\n",
       "        [90, 76, 93, 82, 89]]])"
      ]
     },
     "execution_count": 51,
     "metadata": {
      "tags": []
     },
     "output_type": "execute_result"
    }
   ],
   "source": [
    "scores = np.stack([midterm_scores,final_scores])\n",
    "print(scores.shape)\n",
    "scores"
   ]
  },
  {
   "cell_type": "markdown",
   "metadata": {
    "id": "KALm-dei5SbX"
   },
   "source": [
    "The shape of the stacked array indicates\n",
    "\n",
    "- 2 on axis = 0 : Exams (midterm, final)\n",
    "- 6 on axis = 1 : Students (6 students in total)\n",
    "- 5 on axis = 2 : Subjects (5 subjects)"
   ]
  },
  {
   "cell_type": "markdown",
   "metadata": {
    "id": "pA-6TrXpnwAN"
   },
   "source": [
    "### (7) np.all()\n",
    "`.all()` tests whether or not all array elements alongside the given axis are true It returns 'True' if all elements are true, or 'False' otherwise."
   ]
  },
  {
   "cell_type": "markdown",
   "metadata": {
    "id": "BLekpexOnwAO"
   },
   "source": [
    "#### Checking who scored 90 or higher in both English exams."
   ]
  },
  {
   "cell_type": "markdown",
   "metadata": {
    "id": "YG6qc5qLnwAO"
   },
   "source": [
    "In order to apply `np.all()` based on the **exams**, we're going to set axis = 0 as an argument."
   ]
  },
  {
   "cell_type": "code",
   "execution_count": null,
   "metadata": {
    "id": "8UJnoWAynwAP",
    "outputId": "8de8f9ff-9c40-4378-e4ca-7a7265edd031",
    "scrolled": false
   },
   "outputs": [
    {
     "data": {
      "text/plain": [
       "array([ True, False, False,  True, False, False])"
      ]
     },
     "execution_count": 53,
     "metadata": {
      "tags": []
     },
     "output_type": "execute_result"
    }
   ],
   "source": [
    "np.all(scores[:,:,1]>=90, axis=0)"
   ]
  },
  {
   "cell_type": "markdown",
   "metadata": {
    "id": "6NlptvmYnwAT"
   },
   "source": [
    "Only student 0 and 4 scored 90 or higher in both English exams."
   ]
  },
  {
   "cell_type": "markdown",
   "metadata": {
    "id": "dRSytJM5nwAU"
   },
   "source": [
    "### (8) np.any()\n",
    "`np.any` returns `True` if any array element on the given axis s true, and `False` otherwise.\n",
    "\n",
    "When `np.any()` is used on two arrays, it proceeds an element-wise comparison of two arrays returning `True` if there is any matching pair."
   ]
  },
  {
   "cell_type": "markdown",
   "metadata": {
    "id": "_wy8Ghh6nwAU"
   },
   "source": [
    "#### Students with a score of 50 or less in both Math exams"
   ]
  },
  {
   "cell_type": "markdown",
   "metadata": {
    "id": "tzsvnb_SnwAV"
   },
   "source": [
    "Set `axis = 0` to see how students performed in both exams."
   ]
  },
  {
   "cell_type": "code",
   "execution_count": null,
   "metadata": {
    "id": "7i8iYTrWnwAW",
    "outputId": "8a2d8ae1-b29f-44f6-82c2-f3f2cc879ffe"
   },
   "outputs": [
    {
     "data": {
      "text/plain": [
       "array([False, False,  True, False, False, False])"
      ]
     },
     "execution_count": 26,
     "metadata": {
      "tags": []
     },
     "output_type": "execute_result"
    }
   ],
   "source": [
    "np.any(scores[:,:,2]<=50, axis=0)"
   ]
  },
  {
   "cell_type": "markdown",
   "metadata": {
    "id": "lSelvPOInwAZ"
   },
   "source": [
    "Student 2 scored 50 or less twice in a row."
   ]
  },
  {
   "cell_type": "markdown",
   "metadata": {
    "id": "Rto6OgKOnwAa"
   },
   "source": [
    "### (9) np.unique()\n",
    "\n",
    "`.unique()` returns the **unique elements** of an array. "
   ]
  },
  {
   "cell_type": "markdown",
   "metadata": {
    "id": "WKyF4dB1nwAa"
   },
   "source": [
    "#### Finding the unique exam scores "
   ]
  },
  {
   "cell_type": "code",
   "execution_count": null,
   "metadata": {
    "id": "QTKG985YnwAb",
    "outputId": "d3385775-3a81-4653-f759-c558af8fe32e"
   },
   "outputs": [
    {
     "data": {
      "text/plain": [
       "array([42, 52, 55, 59, 60, 65, 66, 68, 70, 72, 75, 76, 77, 78, 80, 81, 82,\n",
       "       85, 86, 88, 89, 90, 91, 92, 93, 94, 95, 96])"
      ]
     },
     "execution_count": 55,
     "metadata": {
      "tags": []
     },
     "output_type": "execute_result"
    }
   ],
   "source": [
    "np.unique(scores)"
   ]
  },
  {
   "cell_type": "code",
   "execution_count": null,
   "metadata": {
    "collapsed": true,
    "id": "U66NpKWLnwAe"
   },
   "outputs": [],
   "source": [
    "Only the unique exam scores are returned after duplicates."
   ]
  }
 ],
 "metadata": {
  "colab": {
   "collapsed_sections": [],
   "name": "5_수치 연산을 위한 유용한 메서드(최종).ipynb",
   "provenance": [
    {
     "file_id": "1wZxaDHl8Joz9tHs59tew0t13j7kXqJQ6",
     "timestamp": 1604331741751
    }
   ]
  },
  "kernelspec": {
   "display_name": "Python 3",
   "language": "python",
   "name": "python3"
  },
  "language_info": {
   "codemirror_mode": {
    "name": "ipython",
    "version": 3
   },
   "file_extension": ".py",
   "mimetype": "text/x-python",
   "name": "python",
   "nbconvert_exporter": "python",
   "pygments_lexer": "ipython3",
   "version": "3.7.0"
  },
  "toc": {
   "base_numbering": 1,
   "nav_menu": {},
   "number_sections": false,
   "sideBar": true,
   "skip_h1_title": false,
   "title_cell": "Table of Contents",
   "title_sidebar": "Contents",
   "toc_cell": false,
   "toc_position": {
    "height": "calc(100% - 180px)",
    "left": "10px",
    "top": "150px",
    "width": "315.819px"
   },
   "toc_section_display": true,
   "toc_window_display": true
  }
 },
 "nbformat": 4,
 "nbformat_minor": 1
}
