{
 "cells": [
  {
   "cell_type": "markdown",
   "metadata": {
    "id": "gfmhEM-5jS5j"
   },
   "source": [
    "# D. Methods on Pandas DataFrame\n",
    "\n",
    "We've looked at the basic data structures of pandas and learned how to deal with axis-wise data processing on DataFrame objects.\n",
    "Pandas provides so many easy-to-use and powerful data manipulation operations for DataFrame objects. Therefore, we'll be discussing what they are and how they can be used to make the data processing phase less tedious and less burdensome.\n",
    "\n",
    "### _Objective_\n",
    "1. **Pandas operations on DataFrame**: Understanding the basic axis-wise operations you can use on DataFrame objects. \n",
    "2. **Non-pandas operations on DataFrame with `apply()`&`map()`**: Understanding the concepts of `.apply()` and `.map()` for implementing non-pandas and user-defined operations to DataFrame."
   ]
  },
  {
   "cell_type": "code",
   "execution_count": 1,
   "metadata": {
    "id": "XkK-MjMxjS5k"
   },
   "outputs": [],
   "source": [
    "import pandas as pd\n",
    "import numpy as np"
   ]
  },
  {
   "cell_type": "markdown",
   "metadata": {
    "id": "Rg9TEPR8jS5o"
   },
   "source": [
    "# \\[1. Basic Pandas Operations on DataFrame\\]\n",
    "\n",
    "Pandas supports axis-wise operations for DataFrame objects."
   ]
  },
  {
   "cell_type": "markdown",
   "metadata": {
    "id": "P7pueSi-lge5"
   },
   "source": [
    "#### Example Data) Report cards\n",
    "\n",
    "|Class   | Last Name | First Name| History | English | Math | Social Studies | Science |\n",
    "|----| --- | ----   | --- |---| --- | --- | --- |\n",
    "|1 | Smith | John |80 |92 |70 | 65 | 92 |\n",
    "|1 | Schafer | Elise |91 |75 |90 | 68 | 85 | \n",
    "|2 | Zimmermann | Kate |86 |76 |42 | 72 | 88 |\n",
    "|2 | Mendoza | James |77 |92 |52 | 60 | 80 |\n",
    "|3 | Park | Jay |75 |85 |85 | 92 | 95 |\n",
    "|3 | Delcourt | Emma |96 |90 |95 | 81 | 72 |\n",
    "|4 | Thompson | Sarah |91 |81 |92 | 81 | 73 |"
   ]
  },
  {
   "cell_type": "code",
   "execution_count": 2,
   "metadata": {
    "colab": {
     "base_uri": "https://localhost:8080/",
     "height": 372
    },
    "id": "WP3XnugUlo6d",
    "outputId": "79b55b6a-468a-4cd3-8673-df176ef4bb51"
   },
   "outputs": [
    {
     "data": {
      "text/html": [
       "<div>\n",
       "<style scoped>\n",
       "    .dataframe tbody tr th:only-of-type {\n",
       "        vertical-align: middle;\n",
       "    }\n",
       "\n",
       "    .dataframe tbody tr th {\n",
       "        vertical-align: top;\n",
       "    }\n",
       "\n",
       "    .dataframe thead th {\n",
       "        text-align: right;\n",
       "    }\n",
       "</style>\n",
       "<table border=\"1\" class=\"dataframe\">\n",
       "  <thead>\n",
       "    <tr style=\"text-align: right;\">\n",
       "      <th></th>\n",
       "      <th>class</th>\n",
       "      <th>l_name</th>\n",
       "      <th>f_name</th>\n",
       "      <th>history</th>\n",
       "      <th>english</th>\n",
       "      <th>math</th>\n",
       "      <th>social_studies</th>\n",
       "      <th>science</th>\n",
       "    </tr>\n",
       "  </thead>\n",
       "  <tbody>\n",
       "    <tr>\n",
       "      <th>0</th>\n",
       "      <td>1</td>\n",
       "      <td>Smith</td>\n",
       "      <td>John</td>\n",
       "      <td>80</td>\n",
       "      <td>92</td>\n",
       "      <td>70</td>\n",
       "      <td>65</td>\n",
       "      <td>92</td>\n",
       "    </tr>\n",
       "    <tr>\n",
       "      <th>1</th>\n",
       "      <td>1</td>\n",
       "      <td>Schafer</td>\n",
       "      <td>Elise</td>\n",
       "      <td>91</td>\n",
       "      <td>75</td>\n",
       "      <td>90</td>\n",
       "      <td>68</td>\n",
       "      <td>85</td>\n",
       "    </tr>\n",
       "    <tr>\n",
       "      <th>2</th>\n",
       "      <td>2</td>\n",
       "      <td>Zimmermann</td>\n",
       "      <td>Kate</td>\n",
       "      <td>86</td>\n",
       "      <td>76</td>\n",
       "      <td>42</td>\n",
       "      <td>72</td>\n",
       "      <td>88</td>\n",
       "    </tr>\n",
       "    <tr>\n",
       "      <th>3</th>\n",
       "      <td>2</td>\n",
       "      <td>Mendoza</td>\n",
       "      <td>James</td>\n",
       "      <td>77</td>\n",
       "      <td>92</td>\n",
       "      <td>52</td>\n",
       "      <td>60</td>\n",
       "      <td>80</td>\n",
       "    </tr>\n",
       "    <tr>\n",
       "      <th>4</th>\n",
       "      <td>3</td>\n",
       "      <td>Park</td>\n",
       "      <td>Jay</td>\n",
       "      <td>75</td>\n",
       "      <td>85</td>\n",
       "      <td>85</td>\n",
       "      <td>92</td>\n",
       "      <td>95</td>\n",
       "    </tr>\n",
       "    <tr>\n",
       "      <th>5</th>\n",
       "      <td>3</td>\n",
       "      <td>Delcourt</td>\n",
       "      <td>Emma</td>\n",
       "      <td>96</td>\n",
       "      <td>90</td>\n",
       "      <td>95</td>\n",
       "      <td>81</td>\n",
       "      <td>72</td>\n",
       "    </tr>\n",
       "    <tr>\n",
       "      <th>6</th>\n",
       "      <td>4</td>\n",
       "      <td>Thompson</td>\n",
       "      <td>Sarah</td>\n",
       "      <td>91</td>\n",
       "      <td>81</td>\n",
       "      <td>92</td>\n",
       "      <td>81</td>\n",
       "      <td>73</td>\n",
       "    </tr>\n",
       "  </tbody>\n",
       "</table>\n",
       "</div>"
      ],
      "text/plain": [
       "  class      l_name f_name  history  english  math  social_studies  science\n",
       "0     1       Smith   John       80       92    70              65       92\n",
       "1     1     Schafer  Elise       91       75    90              68       85\n",
       "2     2  Zimmermann   Kate       86       76    42              72       88\n",
       "3     2     Mendoza  James       77       92    52              60       80\n",
       "4     3        Park    Jay       75       85    85              92       95\n",
       "5     3    Delcourt   Emma       96       90    95              81       72\n",
       "6     4    Thompson  Sarah       91       81    92              81       73"
      ]
     },
     "execution_count": 2,
     "metadata": {},
     "output_type": "execute_result"
    }
   ],
   "source": [
    "columns = [\"class\",\"l_name\", \"f_name\", \"history\", \"english\", \"math\", \"social_studies\", \"science\"]\n",
    "scores = [[\"1\", \"Smith\", \"John\", 80, 92, 70, 65, 92],\n",
    "          [\"1\", \"Schafer\", \"Elise\", 91, 75, 90, 68, 85],\n",
    "          [\"2\", \"Zimmermann\", \"Kate\", 86, 76, 42, 72, 88],\n",
    "          [\"2\", \"Mendoza\", \"James\", 77, 92, 52, 60, 80],\n",
    "          [\"3\", \"Park\", \"Jay\", 75, 85, 85, 92, 95],\n",
    "          [\"3\", \"Delcourt\", \"Emma\", 96, 90, 95, 81, 72],\n",
    "          [\"4\", \"Thompson\", \"Sarah\", 91, 81, 92, 81, 73]]\n",
    "df = pd.DataFrame(scores,columns=columns)\n",
    "df"
   ]
  },
  {
   "cell_type": "markdown",
   "metadata": {
    "id": "zvhVLeZZIhGW"
   },
   "source": [
    "## 1. Row-wise Operations (axis = 0)\n",
    "\n",
    "A row-wise operation on a DataFrame runs across the rows of selected columns."
   ]
  },
  {
   "cell_type": "markdown",
   "metadata": {
    "id": "mYixdLOLYTU1"
   },
   "source": [
    "### (1) Descriptive statistics over rows\n",
    "\n",
    "pandas provides `.sum()`, `.mean()`, `.std()`, `.max()`, `min()` for axis-wise descriptive statistics. By default, the `axis` keyword is set to `0` (axis = 0) for row-wise operations, and the operations run downwards across rows of selected columns."
   ]
  },
  {
   "cell_type": "code",
   "execution_count": 3,
   "metadata": {
    "colab": {
     "base_uri": "https://localhost:8080/",
     "height": 44
    },
    "id": "x3mmbPTlYTU2",
    "outputId": "65045c43-cca5-4c89-e28d-86740bae8ddd",
    "scrolled": true
   },
   "outputs": [
    {
     "data": {
      "text/plain": [
       "596"
      ]
     },
     "execution_count": 3,
     "metadata": {},
     "output_type": "execute_result"
    }
   ],
   "source": [
    "# Total scores achieved in history\n",
    "df.history.sum() # returning the total after adding up all values of the `history` column."
   ]
  },
  {
   "cell_type": "code",
   "execution_count": 4,
   "metadata": {
    "id": "RG2WVMKHIhGZ",
    "outputId": "35276d7f-5234-48d4-808f-468d35dd2032"
   },
   "outputs": [
    {
     "data": {
      "text/plain": [
       "85.14285714285714"
      ]
     },
     "execution_count": 4,
     "metadata": {},
     "output_type": "execute_result"
    }
   ],
   "source": [
    "# Average score in history\n",
    "df.history.mean() # the average score in `history`  "
   ]
  },
  {
   "cell_type": "code",
   "execution_count": 5,
   "metadata": {
    "colab": {
     "base_uri": "https://localhost:8080/",
     "height": 44
    },
    "id": "Q16jUk-WYTU5",
    "outputId": "25d01a2f-a18a-422f-def5-04db0d0477d6"
   },
   "outputs": [
    {
     "data": {
      "text/plain": [
       "96"
      ]
     },
     "execution_count": 5,
     "metadata": {},
     "output_type": "execute_result"
    }
   ],
   "source": [
    "# Highest score in History\n",
    "df.history.max()"
   ]
  },
  {
   "cell_type": "code",
   "execution_count": 6,
   "metadata": {
    "colab": {
     "base_uri": "https://localhost:8080/",
     "height": 44
    },
    "id": "O6wm3pnYYTU7",
    "outputId": "823eb2e5-07a5-4c9c-e268-72961110a42d"
   },
   "outputs": [
    {
     "data": {
      "text/plain": [
       "75"
      ]
     },
     "execution_count": 6,
     "metadata": {},
     "output_type": "execute_result"
    }
   ],
   "source": [
    "# lowest score in History\n",
    "df.history.min()"
   ]
  },
  {
   "cell_type": "code",
   "execution_count": 7,
   "metadata": {
    "colab": {
     "base_uri": "https://localhost:8080/",
     "height": 44
    },
    "id": "0j3vUao5YTVD",
    "outputId": "ae61d60d-2ca4-46de-bef4-06d17d1f8559",
    "scrolled": true
   },
   "outputs": [
    {
     "data": {
      "text/plain": [
       "7.988086367179802"
      ]
     },
     "execution_count": 7,
     "metadata": {},
     "output_type": "execute_result"
    }
   ],
   "source": [
    "# Standard deviation of scores in history\n",
    "df.history.std()"
   ]
  },
  {
   "cell_type": "markdown",
   "metadata": {
    "id": "Jgild2_vIhGl"
   },
   "source": [
    "### (2) Pandas operations between columns"
   ]
  },
  {
   "cell_type": "markdown",
   "metadata": {
    "id": "3KSjG7RPIhGm"
   },
   "source": [
    "Here, pandas supports and allows operations between columns. <br>\n",
    "Let's calculate the mean values between two selected columns. In this example, we'll look at each student's average score from math and English combined. The result will be stored in `mean_2`."
   ]
  },
  {
   "cell_type": "code",
   "execution_count": 8,
   "metadata": {
    "id": "lBu4aS_SIhGm",
    "outputId": "a0da369e-d63e-4f3a-e330-ede2cda8da61",
    "scrolled": true
   },
   "outputs": [
    {
     "data": {
      "text/html": [
       "<div>\n",
       "<style scoped>\n",
       "    .dataframe tbody tr th:only-of-type {\n",
       "        vertical-align: middle;\n",
       "    }\n",
       "\n",
       "    .dataframe tbody tr th {\n",
       "        vertical-align: top;\n",
       "    }\n",
       "\n",
       "    .dataframe thead th {\n",
       "        text-align: right;\n",
       "    }\n",
       "</style>\n",
       "<table border=\"1\" class=\"dataframe\">\n",
       "  <thead>\n",
       "    <tr style=\"text-align: right;\">\n",
       "      <th></th>\n",
       "      <th>class</th>\n",
       "      <th>l_name</th>\n",
       "      <th>f_name</th>\n",
       "      <th>history</th>\n",
       "      <th>english</th>\n",
       "      <th>math</th>\n",
       "      <th>social_studies</th>\n",
       "      <th>science</th>\n",
       "      <th>mean_2</th>\n",
       "    </tr>\n",
       "  </thead>\n",
       "  <tbody>\n",
       "    <tr>\n",
       "      <th>0</th>\n",
       "      <td>1</td>\n",
       "      <td>Smith</td>\n",
       "      <td>John</td>\n",
       "      <td>80</td>\n",
       "      <td>92</td>\n",
       "      <td>70</td>\n",
       "      <td>65</td>\n",
       "      <td>92</td>\n",
       "      <td>81.0</td>\n",
       "    </tr>\n",
       "    <tr>\n",
       "      <th>1</th>\n",
       "      <td>1</td>\n",
       "      <td>Schafer</td>\n",
       "      <td>Elise</td>\n",
       "      <td>91</td>\n",
       "      <td>75</td>\n",
       "      <td>90</td>\n",
       "      <td>68</td>\n",
       "      <td>85</td>\n",
       "      <td>82.5</td>\n",
       "    </tr>\n",
       "    <tr>\n",
       "      <th>2</th>\n",
       "      <td>2</td>\n",
       "      <td>Zimmermann</td>\n",
       "      <td>Kate</td>\n",
       "      <td>86</td>\n",
       "      <td>76</td>\n",
       "      <td>42</td>\n",
       "      <td>72</td>\n",
       "      <td>88</td>\n",
       "      <td>59.0</td>\n",
       "    </tr>\n",
       "    <tr>\n",
       "      <th>3</th>\n",
       "      <td>2</td>\n",
       "      <td>Mendoza</td>\n",
       "      <td>James</td>\n",
       "      <td>77</td>\n",
       "      <td>92</td>\n",
       "      <td>52</td>\n",
       "      <td>60</td>\n",
       "      <td>80</td>\n",
       "      <td>72.0</td>\n",
       "    </tr>\n",
       "    <tr>\n",
       "      <th>4</th>\n",
       "      <td>3</td>\n",
       "      <td>Park</td>\n",
       "      <td>Jay</td>\n",
       "      <td>75</td>\n",
       "      <td>85</td>\n",
       "      <td>85</td>\n",
       "      <td>92</td>\n",
       "      <td>95</td>\n",
       "      <td>85.0</td>\n",
       "    </tr>\n",
       "    <tr>\n",
       "      <th>5</th>\n",
       "      <td>3</td>\n",
       "      <td>Delcourt</td>\n",
       "      <td>Emma</td>\n",
       "      <td>96</td>\n",
       "      <td>90</td>\n",
       "      <td>95</td>\n",
       "      <td>81</td>\n",
       "      <td>72</td>\n",
       "      <td>92.5</td>\n",
       "    </tr>\n",
       "    <tr>\n",
       "      <th>6</th>\n",
       "      <td>4</td>\n",
       "      <td>Thompson</td>\n",
       "      <td>Sarah</td>\n",
       "      <td>91</td>\n",
       "      <td>81</td>\n",
       "      <td>92</td>\n",
       "      <td>81</td>\n",
       "      <td>73</td>\n",
       "      <td>86.5</td>\n",
       "    </tr>\n",
       "  </tbody>\n",
       "</table>\n",
       "</div>"
      ],
      "text/plain": [
       "  class      l_name f_name  history  english  math  social_studies  science  \\\n",
       "0     1       Smith   John       80       92    70              65       92   \n",
       "1     1     Schafer  Elise       91       75    90              68       85   \n",
       "2     2  Zimmermann   Kate       86       76    42              72       88   \n",
       "3     2     Mendoza  James       77       92    52              60       80   \n",
       "4     3        Park    Jay       75       85    85              92       95   \n",
       "5     3    Delcourt   Emma       96       90    95              81       72   \n",
       "6     4    Thompson  Sarah       91       81    92              81       73   \n",
       "\n",
       "   mean_2  \n",
       "0    81.0  \n",
       "1    82.5  \n",
       "2    59.0  \n",
       "3    72.0  \n",
       "4    85.0  \n",
       "5    92.5  \n",
       "6    86.5  "
      ]
     },
     "execution_count": 8,
     "metadata": {},
     "output_type": "execute_result"
    }
   ],
   "source": [
    "# Each student's average score in English and math combined \n",
    "df[\"mean_2\"] = (df.english + df.math)/2\n",
    "df"
   ]
  },
  {
   "cell_type": "markdown",
   "metadata": {
    "id": "ce9pK3LmIhGo"
   },
   "source": [
    "### (3) Adding new columns to DataFrame\n",
    "There are many ways to create new columns to existing DataFrame. First, we can use DataFrame indexing to create a new column in DataFrame and set it to default values with the following syntax.\n",
    "> df[col_name] = value\n",
    "\n",
    "It creates a new column `col_name` in DataFrame `df` and sets the default value for the entire column to `value`.\n",
    "\n"
   ]
  },
  {
   "cell_type": "markdown",
   "metadata": {
    "id": "yAWvQUdLIhGp"
   },
   "source": [
    "Let's create a column 'pass' with a default value `True`."
   ]
  },
  {
   "cell_type": "code",
   "execution_count": 9,
   "metadata": {
    "id": "Gr4gXaHKIhGp",
    "outputId": "a34f52c6-3374-419e-d818-8da0c217f7d8"
   },
   "outputs": [
    {
     "data": {
      "text/html": [
       "<div>\n",
       "<style scoped>\n",
       "    .dataframe tbody tr th:only-of-type {\n",
       "        vertical-align: middle;\n",
       "    }\n",
       "\n",
       "    .dataframe tbody tr th {\n",
       "        vertical-align: top;\n",
       "    }\n",
       "\n",
       "    .dataframe thead th {\n",
       "        text-align: right;\n",
       "    }\n",
       "</style>\n",
       "<table border=\"1\" class=\"dataframe\">\n",
       "  <thead>\n",
       "    <tr style=\"text-align: right;\">\n",
       "      <th></th>\n",
       "      <th>class</th>\n",
       "      <th>l_name</th>\n",
       "      <th>f_name</th>\n",
       "      <th>history</th>\n",
       "      <th>english</th>\n",
       "      <th>math</th>\n",
       "      <th>social_studies</th>\n",
       "      <th>science</th>\n",
       "      <th>mean_2</th>\n",
       "      <th>pass</th>\n",
       "    </tr>\n",
       "  </thead>\n",
       "  <tbody>\n",
       "    <tr>\n",
       "      <th>0</th>\n",
       "      <td>1</td>\n",
       "      <td>Smith</td>\n",
       "      <td>John</td>\n",
       "      <td>80</td>\n",
       "      <td>92</td>\n",
       "      <td>70</td>\n",
       "      <td>65</td>\n",
       "      <td>92</td>\n",
       "      <td>81.0</td>\n",
       "      <td>True</td>\n",
       "    </tr>\n",
       "    <tr>\n",
       "      <th>1</th>\n",
       "      <td>1</td>\n",
       "      <td>Schafer</td>\n",
       "      <td>Elise</td>\n",
       "      <td>91</td>\n",
       "      <td>75</td>\n",
       "      <td>90</td>\n",
       "      <td>68</td>\n",
       "      <td>85</td>\n",
       "      <td>82.5</td>\n",
       "      <td>True</td>\n",
       "    </tr>\n",
       "    <tr>\n",
       "      <th>2</th>\n",
       "      <td>2</td>\n",
       "      <td>Zimmermann</td>\n",
       "      <td>Kate</td>\n",
       "      <td>86</td>\n",
       "      <td>76</td>\n",
       "      <td>42</td>\n",
       "      <td>72</td>\n",
       "      <td>88</td>\n",
       "      <td>59.0</td>\n",
       "      <td>True</td>\n",
       "    </tr>\n",
       "    <tr>\n",
       "      <th>3</th>\n",
       "      <td>2</td>\n",
       "      <td>Mendoza</td>\n",
       "      <td>James</td>\n",
       "      <td>77</td>\n",
       "      <td>92</td>\n",
       "      <td>52</td>\n",
       "      <td>60</td>\n",
       "      <td>80</td>\n",
       "      <td>72.0</td>\n",
       "      <td>True</td>\n",
       "    </tr>\n",
       "    <tr>\n",
       "      <th>4</th>\n",
       "      <td>3</td>\n",
       "      <td>Park</td>\n",
       "      <td>Jay</td>\n",
       "      <td>75</td>\n",
       "      <td>85</td>\n",
       "      <td>85</td>\n",
       "      <td>92</td>\n",
       "      <td>95</td>\n",
       "      <td>85.0</td>\n",
       "      <td>True</td>\n",
       "    </tr>\n",
       "    <tr>\n",
       "      <th>5</th>\n",
       "      <td>3</td>\n",
       "      <td>Delcourt</td>\n",
       "      <td>Emma</td>\n",
       "      <td>96</td>\n",
       "      <td>90</td>\n",
       "      <td>95</td>\n",
       "      <td>81</td>\n",
       "      <td>72</td>\n",
       "      <td>92.5</td>\n",
       "      <td>True</td>\n",
       "    </tr>\n",
       "    <tr>\n",
       "      <th>6</th>\n",
       "      <td>4</td>\n",
       "      <td>Thompson</td>\n",
       "      <td>Sarah</td>\n",
       "      <td>91</td>\n",
       "      <td>81</td>\n",
       "      <td>92</td>\n",
       "      <td>81</td>\n",
       "      <td>73</td>\n",
       "      <td>86.5</td>\n",
       "      <td>True</td>\n",
       "    </tr>\n",
       "  </tbody>\n",
       "</table>\n",
       "</div>"
      ],
      "text/plain": [
       "  class      l_name f_name  history  english  math  social_studies  science  \\\n",
       "0     1       Smith   John       80       92    70              65       92   \n",
       "1     1     Schafer  Elise       91       75    90              68       85   \n",
       "2     2  Zimmermann   Kate       86       76    42              72       88   \n",
       "3     2     Mendoza  James       77       92    52              60       80   \n",
       "4     3        Park    Jay       75       85    85              92       95   \n",
       "5     3    Delcourt   Emma       96       90    95              81       72   \n",
       "6     4    Thompson  Sarah       91       81    92              81       73   \n",
       "\n",
       "   mean_2  pass  \n",
       "0    81.0  True  \n",
       "1    82.5  True  \n",
       "2    59.0  True  \n",
       "3    72.0  True  \n",
       "4    85.0  True  \n",
       "5    92.5  True  \n",
       "6    86.5  True  "
      ]
     },
     "execution_count": 9,
     "metadata": {},
     "output_type": "execute_result"
    }
   ],
   "source": [
    "# The value of every element in `pass` is `True`\n",
    "df[\"pass\"] = True\n",
    "df"
   ]
  },
  {
   "cell_type": "markdown",
   "metadata": {
    "id": "cu6_fUFTIhGr"
   },
   "source": [
    "Or, you can assign different values to each element."
   ]
  },
  {
   "cell_type": "code",
   "execution_count": 10,
   "metadata": {
    "id": "a-qNjJi6IhGs",
    "outputId": "f7445ac3-972a-4c76-c75a-c77438e621f0",
    "scrolled": true
   },
   "outputs": [
    {
     "data": {
      "text/html": [
       "<div>\n",
       "<style scoped>\n",
       "    .dataframe tbody tr th:only-of-type {\n",
       "        vertical-align: middle;\n",
       "    }\n",
       "\n",
       "    .dataframe tbody tr th {\n",
       "        vertical-align: top;\n",
       "    }\n",
       "\n",
       "    .dataframe thead th {\n",
       "        text-align: right;\n",
       "    }\n",
       "</style>\n",
       "<table border=\"1\" class=\"dataframe\">\n",
       "  <thead>\n",
       "    <tr style=\"text-align: right;\">\n",
       "      <th></th>\n",
       "      <th>class</th>\n",
       "      <th>l_name</th>\n",
       "      <th>f_name</th>\n",
       "      <th>history</th>\n",
       "      <th>english</th>\n",
       "      <th>math</th>\n",
       "      <th>social_studies</th>\n",
       "      <th>science</th>\n",
       "      <th>mean_2</th>\n",
       "      <th>pass</th>\n",
       "      <th>pass_fail</th>\n",
       "    </tr>\n",
       "  </thead>\n",
       "  <tbody>\n",
       "    <tr>\n",
       "      <th>0</th>\n",
       "      <td>1</td>\n",
       "      <td>Smith</td>\n",
       "      <td>John</td>\n",
       "      <td>80</td>\n",
       "      <td>92</td>\n",
       "      <td>70</td>\n",
       "      <td>65</td>\n",
       "      <td>92</td>\n",
       "      <td>81.0</td>\n",
       "      <td>True</td>\n",
       "      <td>True</td>\n",
       "    </tr>\n",
       "    <tr>\n",
       "      <th>1</th>\n",
       "      <td>1</td>\n",
       "      <td>Schafer</td>\n",
       "      <td>Elise</td>\n",
       "      <td>91</td>\n",
       "      <td>75</td>\n",
       "      <td>90</td>\n",
       "      <td>68</td>\n",
       "      <td>85</td>\n",
       "      <td>82.5</td>\n",
       "      <td>True</td>\n",
       "      <td>True</td>\n",
       "    </tr>\n",
       "    <tr>\n",
       "      <th>2</th>\n",
       "      <td>2</td>\n",
       "      <td>Zimmermann</td>\n",
       "      <td>Kate</td>\n",
       "      <td>86</td>\n",
       "      <td>76</td>\n",
       "      <td>42</td>\n",
       "      <td>72</td>\n",
       "      <td>88</td>\n",
       "      <td>59.0</td>\n",
       "      <td>True</td>\n",
       "      <td>False</td>\n",
       "    </tr>\n",
       "    <tr>\n",
       "      <th>3</th>\n",
       "      <td>2</td>\n",
       "      <td>Mendoza</td>\n",
       "      <td>James</td>\n",
       "      <td>77</td>\n",
       "      <td>92</td>\n",
       "      <td>52</td>\n",
       "      <td>60</td>\n",
       "      <td>80</td>\n",
       "      <td>72.0</td>\n",
       "      <td>True</td>\n",
       "      <td>False</td>\n",
       "    </tr>\n",
       "    <tr>\n",
       "      <th>4</th>\n",
       "      <td>3</td>\n",
       "      <td>Park</td>\n",
       "      <td>Jay</td>\n",
       "      <td>75</td>\n",
       "      <td>85</td>\n",
       "      <td>85</td>\n",
       "      <td>92</td>\n",
       "      <td>95</td>\n",
       "      <td>85.0</td>\n",
       "      <td>True</td>\n",
       "      <td>True</td>\n",
       "    </tr>\n",
       "    <tr>\n",
       "      <th>5</th>\n",
       "      <td>3</td>\n",
       "      <td>Delcourt</td>\n",
       "      <td>Emma</td>\n",
       "      <td>96</td>\n",
       "      <td>90</td>\n",
       "      <td>95</td>\n",
       "      <td>81</td>\n",
       "      <td>72</td>\n",
       "      <td>92.5</td>\n",
       "      <td>True</td>\n",
       "      <td>True</td>\n",
       "    </tr>\n",
       "    <tr>\n",
       "      <th>6</th>\n",
       "      <td>4</td>\n",
       "      <td>Thompson</td>\n",
       "      <td>Sarah</td>\n",
       "      <td>91</td>\n",
       "      <td>81</td>\n",
       "      <td>92</td>\n",
       "      <td>81</td>\n",
       "      <td>73</td>\n",
       "      <td>86.5</td>\n",
       "      <td>True</td>\n",
       "      <td>True</td>\n",
       "    </tr>\n",
       "  </tbody>\n",
       "</table>\n",
       "</div>"
      ],
      "text/plain": [
       "  class      l_name f_name  history  english  math  social_studies  science  \\\n",
       "0     1       Smith   John       80       92    70              65       92   \n",
       "1     1     Schafer  Elise       91       75    90              68       85   \n",
       "2     2  Zimmermann   Kate       86       76    42              72       88   \n",
       "3     2     Mendoza  James       77       92    52              60       80   \n",
       "4     3        Park    Jay       75       85    85              92       95   \n",
       "5     3    Delcourt   Emma       96       90    95              81       72   \n",
       "6     4    Thompson  Sarah       91       81    92              81       73   \n",
       "\n",
       "   mean_2  pass  pass_fail  \n",
       "0    81.0  True       True  \n",
       "1    82.5  True       True  \n",
       "2    59.0  True      False  \n",
       "3    72.0  True      False  \n",
       "4    85.0  True       True  \n",
       "5    92.5  True       True  \n",
       "6    86.5  True       True  "
      ]
     },
     "execution_count": 10,
     "metadata": {},
     "output_type": "execute_result"
    }
   ],
   "source": [
    "df[\"pass_fail\"] = [True, True, False, False, True, True, True] # assigning different values to each element of the new column `pass_fail`\n",
    "df\n"
   ]
  },
  {
   "cell_type": "markdown",
   "metadata": {
    "id": "-Qegd_KUIhGu"
   },
   "source": [
    "### (4) Deleting columns\n",
    "There are two methods for removing columns from DataFrame. The first method is  using `del` keyword for a delete of a single column, and the second method is `.drop()` for removing multiple columns."
   ]
  },
  {
   "cell_type": "markdown",
   "metadata": {
    "id": "846dL5-WIhGu"
   },
   "source": [
    "Let's delete the column `mean_2` using **`del`**."
   ]
  },
  {
   "cell_type": "code",
   "execution_count": 11,
   "metadata": {
    "id": "rBpMax5VIhGv",
    "outputId": "5bec5fcb-bfeb-4914-9879-ac3be13ae5dd",
    "scrolled": false
   },
   "outputs": [
    {
     "data": {
      "text/html": [
       "<div>\n",
       "<style scoped>\n",
       "    .dataframe tbody tr th:only-of-type {\n",
       "        vertical-align: middle;\n",
       "    }\n",
       "\n",
       "    .dataframe tbody tr th {\n",
       "        vertical-align: top;\n",
       "    }\n",
       "\n",
       "    .dataframe thead th {\n",
       "        text-align: right;\n",
       "    }\n",
       "</style>\n",
       "<table border=\"1\" class=\"dataframe\">\n",
       "  <thead>\n",
       "    <tr style=\"text-align: right;\">\n",
       "      <th></th>\n",
       "      <th>class</th>\n",
       "      <th>l_name</th>\n",
       "      <th>f_name</th>\n",
       "      <th>history</th>\n",
       "      <th>english</th>\n",
       "      <th>math</th>\n",
       "      <th>social_studies</th>\n",
       "      <th>science</th>\n",
       "      <th>pass</th>\n",
       "      <th>pass_fail</th>\n",
       "    </tr>\n",
       "  </thead>\n",
       "  <tbody>\n",
       "    <tr>\n",
       "      <th>0</th>\n",
       "      <td>1</td>\n",
       "      <td>Smith</td>\n",
       "      <td>John</td>\n",
       "      <td>80</td>\n",
       "      <td>92</td>\n",
       "      <td>70</td>\n",
       "      <td>65</td>\n",
       "      <td>92</td>\n",
       "      <td>True</td>\n",
       "      <td>True</td>\n",
       "    </tr>\n",
       "    <tr>\n",
       "      <th>1</th>\n",
       "      <td>1</td>\n",
       "      <td>Schafer</td>\n",
       "      <td>Elise</td>\n",
       "      <td>91</td>\n",
       "      <td>75</td>\n",
       "      <td>90</td>\n",
       "      <td>68</td>\n",
       "      <td>85</td>\n",
       "      <td>True</td>\n",
       "      <td>True</td>\n",
       "    </tr>\n",
       "    <tr>\n",
       "      <th>2</th>\n",
       "      <td>2</td>\n",
       "      <td>Zimmermann</td>\n",
       "      <td>Kate</td>\n",
       "      <td>86</td>\n",
       "      <td>76</td>\n",
       "      <td>42</td>\n",
       "      <td>72</td>\n",
       "      <td>88</td>\n",
       "      <td>True</td>\n",
       "      <td>False</td>\n",
       "    </tr>\n",
       "    <tr>\n",
       "      <th>3</th>\n",
       "      <td>2</td>\n",
       "      <td>Mendoza</td>\n",
       "      <td>James</td>\n",
       "      <td>77</td>\n",
       "      <td>92</td>\n",
       "      <td>52</td>\n",
       "      <td>60</td>\n",
       "      <td>80</td>\n",
       "      <td>True</td>\n",
       "      <td>False</td>\n",
       "    </tr>\n",
       "    <tr>\n",
       "      <th>4</th>\n",
       "      <td>3</td>\n",
       "      <td>Park</td>\n",
       "      <td>Jay</td>\n",
       "      <td>75</td>\n",
       "      <td>85</td>\n",
       "      <td>85</td>\n",
       "      <td>92</td>\n",
       "      <td>95</td>\n",
       "      <td>True</td>\n",
       "      <td>True</td>\n",
       "    </tr>\n",
       "    <tr>\n",
       "      <th>5</th>\n",
       "      <td>3</td>\n",
       "      <td>Delcourt</td>\n",
       "      <td>Emma</td>\n",
       "      <td>96</td>\n",
       "      <td>90</td>\n",
       "      <td>95</td>\n",
       "      <td>81</td>\n",
       "      <td>72</td>\n",
       "      <td>True</td>\n",
       "      <td>True</td>\n",
       "    </tr>\n",
       "    <tr>\n",
       "      <th>6</th>\n",
       "      <td>4</td>\n",
       "      <td>Thompson</td>\n",
       "      <td>Sarah</td>\n",
       "      <td>91</td>\n",
       "      <td>81</td>\n",
       "      <td>92</td>\n",
       "      <td>81</td>\n",
       "      <td>73</td>\n",
       "      <td>True</td>\n",
       "      <td>True</td>\n",
       "    </tr>\n",
       "  </tbody>\n",
       "</table>\n",
       "</div>"
      ],
      "text/plain": [
       "  class      l_name f_name  history  english  math  social_studies  science  \\\n",
       "0     1       Smith   John       80       92    70              65       92   \n",
       "1     1     Schafer  Elise       91       75    90              68       85   \n",
       "2     2  Zimmermann   Kate       86       76    42              72       88   \n",
       "3     2     Mendoza  James       77       92    52              60       80   \n",
       "4     3        Park    Jay       75       85    85              92       95   \n",
       "5     3    Delcourt   Emma       96       90    95              81       72   \n",
       "6     4    Thompson  Sarah       91       81    92              81       73   \n",
       "\n",
       "   pass  pass_fail  \n",
       "0  True       True  \n",
       "1  True       True  \n",
       "2  True      False  \n",
       "3  True      False  \n",
       "4  True       True  \n",
       "5  True       True  \n",
       "6  True       True  "
      ]
     },
     "execution_count": 11,
     "metadata": {},
     "output_type": "execute_result"
    }
   ],
   "source": [
    "del df['mean_2']\n",
    "df"
   ]
  },
  {
   "cell_type": "markdown",
   "metadata": {
    "id": "u8i7rK4-IhG3"
   },
   "source": [
    "Let's remove two columns `pass` and `pass_fail` at one go, using **`.drop()`**."
   ]
  },
  {
   "cell_type": "code",
   "execution_count": 12,
   "metadata": {
    "id": "jeTOoznDIhG3",
    "outputId": "782874e7-8178-4827-f725-b152ee118eda",
    "scrolled": true
   },
   "outputs": [
    {
     "data": {
      "text/html": [
       "<div>\n",
       "<style scoped>\n",
       "    .dataframe tbody tr th:only-of-type {\n",
       "        vertical-align: middle;\n",
       "    }\n",
       "\n",
       "    .dataframe tbody tr th {\n",
       "        vertical-align: top;\n",
       "    }\n",
       "\n",
       "    .dataframe thead th {\n",
       "        text-align: right;\n",
       "    }\n",
       "</style>\n",
       "<table border=\"1\" class=\"dataframe\">\n",
       "  <thead>\n",
       "    <tr style=\"text-align: right;\">\n",
       "      <th></th>\n",
       "      <th>class</th>\n",
       "      <th>l_name</th>\n",
       "      <th>f_name</th>\n",
       "      <th>history</th>\n",
       "      <th>english</th>\n",
       "      <th>math</th>\n",
       "      <th>social_studies</th>\n",
       "      <th>science</th>\n",
       "    </tr>\n",
       "  </thead>\n",
       "  <tbody>\n",
       "    <tr>\n",
       "      <th>0</th>\n",
       "      <td>1</td>\n",
       "      <td>Smith</td>\n",
       "      <td>John</td>\n",
       "      <td>80</td>\n",
       "      <td>92</td>\n",
       "      <td>70</td>\n",
       "      <td>65</td>\n",
       "      <td>92</td>\n",
       "    </tr>\n",
       "    <tr>\n",
       "      <th>1</th>\n",
       "      <td>1</td>\n",
       "      <td>Schafer</td>\n",
       "      <td>Elise</td>\n",
       "      <td>91</td>\n",
       "      <td>75</td>\n",
       "      <td>90</td>\n",
       "      <td>68</td>\n",
       "      <td>85</td>\n",
       "    </tr>\n",
       "    <tr>\n",
       "      <th>2</th>\n",
       "      <td>2</td>\n",
       "      <td>Zimmermann</td>\n",
       "      <td>Kate</td>\n",
       "      <td>86</td>\n",
       "      <td>76</td>\n",
       "      <td>42</td>\n",
       "      <td>72</td>\n",
       "      <td>88</td>\n",
       "    </tr>\n",
       "    <tr>\n",
       "      <th>3</th>\n",
       "      <td>2</td>\n",
       "      <td>Mendoza</td>\n",
       "      <td>James</td>\n",
       "      <td>77</td>\n",
       "      <td>92</td>\n",
       "      <td>52</td>\n",
       "      <td>60</td>\n",
       "      <td>80</td>\n",
       "    </tr>\n",
       "    <tr>\n",
       "      <th>4</th>\n",
       "      <td>3</td>\n",
       "      <td>Park</td>\n",
       "      <td>Jay</td>\n",
       "      <td>75</td>\n",
       "      <td>85</td>\n",
       "      <td>85</td>\n",
       "      <td>92</td>\n",
       "      <td>95</td>\n",
       "    </tr>\n",
       "    <tr>\n",
       "      <th>5</th>\n",
       "      <td>3</td>\n",
       "      <td>Delcourt</td>\n",
       "      <td>Emma</td>\n",
       "      <td>96</td>\n",
       "      <td>90</td>\n",
       "      <td>95</td>\n",
       "      <td>81</td>\n",
       "      <td>72</td>\n",
       "    </tr>\n",
       "    <tr>\n",
       "      <th>6</th>\n",
       "      <td>4</td>\n",
       "      <td>Thompson</td>\n",
       "      <td>Sarah</td>\n",
       "      <td>91</td>\n",
       "      <td>81</td>\n",
       "      <td>92</td>\n",
       "      <td>81</td>\n",
       "      <td>73</td>\n",
       "    </tr>\n",
       "  </tbody>\n",
       "</table>\n",
       "</div>"
      ],
      "text/plain": [
       "  class      l_name f_name  history  english  math  social_studies  science\n",
       "0     1       Smith   John       80       92    70              65       92\n",
       "1     1     Schafer  Elise       91       75    90              68       85\n",
       "2     2  Zimmermann   Kate       86       76    42              72       88\n",
       "3     2     Mendoza  James       77       92    52              60       80\n",
       "4     3        Park    Jay       75       85    85              92       95\n",
       "5     3    Delcourt   Emma       96       90    95              81       72\n",
       "6     4    Thompson  Sarah       91       81    92              81       73"
      ]
     },
     "execution_count": 12,
     "metadata": {},
     "output_type": "execute_result"
    }
   ],
   "source": [
    "df = df.drop(columns=[\"pass\",\"pass_fail\"])\n",
    "df"
   ]
  },
  {
   "cell_type": "markdown",
   "metadata": {
    "id": "AAPQneS8IhG5"
   },
   "source": [
    "## 1. Column-wise Operations (axis = 1)\n"
   ]
  },
  {
   "cell_type": "markdown",
   "metadata": {
    "id": "Vj0T-QFmYTUs"
   },
   "source": [
    "### (1) Descriptive statistics over columns\n",
    "\n",
    "The descriptive statistics such as `.sum()`, `.mean()`, `.std()`, `.max()`, `.min()` can be also applied over columns with the `axis` keyword set to 1 as `axis = 1`. It will then return statistics of each row.\n",
    "\n"
   ]
  },
  {
   "cell_type": "code",
   "execution_count": 13,
   "metadata": {
    "colab": {
     "base_uri": "https://localhost:8080/",
     "height": 44
    },
    "id": "EcE8RxbjIhG6",
    "outputId": "65045c43-cca5-4c89-e28d-86740bae8ddd"
   },
   "outputs": [
    {
     "data": {
      "text/plain": [
       "0    399\n",
       "1    409\n",
       "2    364\n",
       "3    361\n",
       "4    432\n",
       "5    434\n",
       "6    418\n",
       "dtype: int64"
      ]
     },
     "execution_count": 13,
     "metadata": {},
     "output_type": "execute_result"
    }
   ],
   "source": [
    "# Total score of each student\n",
    "df.iloc[:,2:].sum(axis=1)"
   ]
  },
  {
   "cell_type": "code",
   "execution_count": 14,
   "metadata": {
    "id": "fGf5ZBFfIhG8",
    "outputId": "0115f2e2-535f-400f-f7e8-4468836dd3a8",
    "scrolled": false
   },
   "outputs": [
    {
     "data": {
      "text/plain": [
       "0    79.8\n",
       "1    81.8\n",
       "2    72.8\n",
       "3    72.2\n",
       "4    86.4\n",
       "5    86.8\n",
       "6    83.6\n",
       "dtype: float64"
      ]
     },
     "execution_count": 14,
     "metadata": {},
     "output_type": "execute_result"
    }
   ],
   "source": [
    "# Average score of each student\n",
    "df.iloc[:,2:].mean(axis=1)"
   ]
  },
  {
   "cell_type": "code",
   "execution_count": 15,
   "metadata": {
    "colab": {
     "base_uri": "https://localhost:8080/",
     "height": 44
    },
    "id": "qCmWnXN0IhG-",
    "outputId": "25d01a2f-a18a-422f-def5-04db0d0477d6"
   },
   "outputs": [
    {
     "data": {
      "text/plain": [
       "0    92\n",
       "1    91\n",
       "2    88\n",
       "3    92\n",
       "4    95\n",
       "5    96\n",
       "6    92\n",
       "dtype: int64"
      ]
     },
     "execution_count": 15,
     "metadata": {},
     "output_type": "execute_result"
    }
   ],
   "source": [
    "# Highest score from each student\n",
    "df.iloc[:,2:].max(axis=1)"
   ]
  },
  {
   "cell_type": "code",
   "execution_count": 16,
   "metadata": {
    "colab": {
     "base_uri": "https://localhost:8080/",
     "height": 44
    },
    "id": "3IICJmb4IhHB",
    "outputId": "823eb2e5-07a5-4c9c-e268-72961110a42d"
   },
   "outputs": [
    {
     "data": {
      "text/plain": [
       "0    65\n",
       "1    68\n",
       "2    42\n",
       "3    52\n",
       "4    75\n",
       "5    72\n",
       "6    73\n",
       "dtype: int64"
      ]
     },
     "execution_count": 16,
     "metadata": {},
     "output_type": "execute_result"
    }
   ],
   "source": [
    "# Lowest score from each student\n",
    "df.iloc[:,2:].min(axis=1)"
   ]
  },
  {
   "cell_type": "code",
   "execution_count": 17,
   "metadata": {
    "colab": {
     "base_uri": "https://localhost:8080/",
     "height": 44
    },
    "id": "D5G99_sZIhHF",
    "outputId": "ae61d60d-2ca4-46de-bef4-06d17d1f8559",
    "scrolled": false
   },
   "outputs": [
    {
     "data": {
      "text/plain": [
       "0    12.377399\n",
       "1     9.984989\n",
       "2    18.471600\n",
       "3    16.068603\n",
       "4     7.733046\n",
       "5    10.183320\n",
       "6     7.924645\n",
       "dtype: float64"
      ]
     },
     "execution_count": 17,
     "metadata": {},
     "output_type": "execute_result"
    }
   ],
   "source": [
    "# Standard deviation of each student's scores\n",
    "df.iloc[:,2:].std(axis=1)"
   ]
  },
  {
   "cell_type": "markdown",
   "metadata": {
    "id": "skaLK_psIhHH"
   },
   "source": [
    "### (2) Pandas operations between rows\n",
    "Just as column-to-column operations, you can perform row-to-row operations on DataFrames.<br>\n",
    "Let's select two columns and apply standard arithmetic operations to those selected rows."
   ]
  },
  {
   "cell_type": "code",
   "execution_count": 18,
   "metadata": {
    "id": "Iokri8g2IhHH",
    "outputId": "0397c4cc-d5ee-4dda-dbf5-b8852160be2d",
    "scrolled": true
   },
   "outputs": [
    {
     "data": {
      "text/html": [
       "<div>\n",
       "<style scoped>\n",
       "    .dataframe tbody tr th:only-of-type {\n",
       "        vertical-align: middle;\n",
       "    }\n",
       "\n",
       "    .dataframe tbody tr th {\n",
       "        vertical-align: top;\n",
       "    }\n",
       "\n",
       "    .dataframe thead th {\n",
       "        text-align: right;\n",
       "    }\n",
       "</style>\n",
       "<table border=\"1\" class=\"dataframe\">\n",
       "  <thead>\n",
       "    <tr style=\"text-align: right;\">\n",
       "      <th></th>\n",
       "      <th>class</th>\n",
       "      <th>l_name</th>\n",
       "      <th>f_name</th>\n",
       "      <th>history</th>\n",
       "      <th>english</th>\n",
       "      <th>math</th>\n",
       "      <th>social_studies</th>\n",
       "      <th>science</th>\n",
       "    </tr>\n",
       "  </thead>\n",
       "  <tbody>\n",
       "    <tr>\n",
       "      <th>0</th>\n",
       "      <td>1</td>\n",
       "      <td>Smith</td>\n",
       "      <td>John</td>\n",
       "      <td>80</td>\n",
       "      <td>92</td>\n",
       "      <td>70</td>\n",
       "      <td>65</td>\n",
       "      <td>92</td>\n",
       "    </tr>\n",
       "    <tr>\n",
       "      <th>1</th>\n",
       "      <td>1</td>\n",
       "      <td>Schafer</td>\n",
       "      <td>Elise</td>\n",
       "      <td>91</td>\n",
       "      <td>75</td>\n",
       "      <td>90</td>\n",
       "      <td>68</td>\n",
       "      <td>85</td>\n",
       "    </tr>\n",
       "    <tr>\n",
       "      <th>2</th>\n",
       "      <td>2</td>\n",
       "      <td>Zimmermann</td>\n",
       "      <td>Kate</td>\n",
       "      <td>86</td>\n",
       "      <td>76</td>\n",
       "      <td>42</td>\n",
       "      <td>72</td>\n",
       "      <td>88</td>\n",
       "    </tr>\n",
       "    <tr>\n",
       "      <th>3</th>\n",
       "      <td>2</td>\n",
       "      <td>Mendoza</td>\n",
       "      <td>James</td>\n",
       "      <td>77</td>\n",
       "      <td>92</td>\n",
       "      <td>52</td>\n",
       "      <td>60</td>\n",
       "      <td>80</td>\n",
       "    </tr>\n",
       "    <tr>\n",
       "      <th>4</th>\n",
       "      <td>3</td>\n",
       "      <td>Park</td>\n",
       "      <td>Jay</td>\n",
       "      <td>75</td>\n",
       "      <td>85</td>\n",
       "      <td>85</td>\n",
       "      <td>92</td>\n",
       "      <td>95</td>\n",
       "    </tr>\n",
       "    <tr>\n",
       "      <th>5</th>\n",
       "      <td>3</td>\n",
       "      <td>Delcourt</td>\n",
       "      <td>Emma</td>\n",
       "      <td>96</td>\n",
       "      <td>90</td>\n",
       "      <td>95</td>\n",
       "      <td>81</td>\n",
       "      <td>72</td>\n",
       "    </tr>\n",
       "    <tr>\n",
       "      <th>6</th>\n",
       "      <td>4</td>\n",
       "      <td>Thompson</td>\n",
       "      <td>Sarah</td>\n",
       "      <td>91</td>\n",
       "      <td>81</td>\n",
       "      <td>92</td>\n",
       "      <td>81</td>\n",
       "      <td>73</td>\n",
       "    </tr>\n",
       "  </tbody>\n",
       "</table>\n",
       "</div>"
      ],
      "text/plain": [
       "  class      l_name f_name  history  english  math  social_studies  science\n",
       "0     1       Smith   John       80       92    70              65       92\n",
       "1     1     Schafer  Elise       91       75    90              68       85\n",
       "2     2  Zimmermann   Kate       86       76    42              72       88\n",
       "3     2     Mendoza  James       77       92    52              60       80\n",
       "4     3        Park    Jay       75       85    85              92       95\n",
       "5     3    Delcourt   Emma       96       90    95              81       72\n",
       "6     4    Thompson  Sarah       91       81    92              81       73"
      ]
     },
     "execution_count": 18,
     "metadata": {},
     "output_type": "execute_result"
    }
   ],
   "source": [
    "df"
   ]
  },
  {
   "cell_type": "code",
   "execution_count": 19,
   "metadata": {
    "id": "1O4zHEhGIhHJ",
    "outputId": "b46bcb68-3de5-4cbb-905c-7dfae1c0514c",
    "scrolled": true
   },
   "outputs": [
    {
     "data": {
      "text/plain": [
       "history            14\n",
       "english           -17\n",
       "math               38\n",
       "social_studies      8\n",
       "science             5\n",
       "dtype: object"
      ]
     },
     "execution_count": 19,
     "metadata": {},
     "output_type": "execute_result"
    }
   ],
   "source": [
    "df.loc[1,\"history\":\"science\"] - df.loc[3,\"history\":\"science\"] # Difference between two students' scores in history and science"
   ]
  },
  {
   "cell_type": "markdown",
   "metadata": {
    "id": "SDHNSIFjjS6M"
   },
   "source": [
    "### (3) Adding new rows to DataFrame\n",
    "\n",
    "There are two ways to add a new row to DataFrame.\n",
    "1. Assigning values to the DataFrame with the new row name in square brackets `[]` as `.loc[row_name]`\n",
    "2. Passing a dictionary to `.append()`"
   ]
  },
  {
   "cell_type": "markdown",
   "metadata": {
    "id": "mkTSdazIIhHM"
   },
   "source": [
    "We've just found out Mina's exam scores had been left out of the student report cards and decided to add her scores to the existing DataFrame."
   ]
  },
  {
   "cell_type": "markdown",
   "metadata": {
    "id": "Y0YlWZ810KU0"
   },
   "source": [
    "By the first method, you should first create a list on her information and scores as `[\"4\", \"Myeong\", \"Mina\", 95, 83, 85, 87, 80]` and assign it to the new row `7` as follows."
   ]
  },
  {
   "cell_type": "code",
   "execution_count": 20,
   "metadata": {
    "id": "eSGPebGcIhHN",
    "outputId": "9348225a-f842-488f-dc5c-8f14142f7267",
    "scrolled": true
   },
   "outputs": [
    {
     "data": {
      "text/html": [
       "<div>\n",
       "<style scoped>\n",
       "    .dataframe tbody tr th:only-of-type {\n",
       "        vertical-align: middle;\n",
       "    }\n",
       "\n",
       "    .dataframe tbody tr th {\n",
       "        vertical-align: top;\n",
       "    }\n",
       "\n",
       "    .dataframe thead th {\n",
       "        text-align: right;\n",
       "    }\n",
       "</style>\n",
       "<table border=\"1\" class=\"dataframe\">\n",
       "  <thead>\n",
       "    <tr style=\"text-align: right;\">\n",
       "      <th></th>\n",
       "      <th>class</th>\n",
       "      <th>l_name</th>\n",
       "      <th>f_name</th>\n",
       "      <th>history</th>\n",
       "      <th>english</th>\n",
       "      <th>math</th>\n",
       "      <th>social_studies</th>\n",
       "      <th>science</th>\n",
       "    </tr>\n",
       "  </thead>\n",
       "  <tbody>\n",
       "    <tr>\n",
       "      <th>0</th>\n",
       "      <td>1</td>\n",
       "      <td>Smith</td>\n",
       "      <td>John</td>\n",
       "      <td>80</td>\n",
       "      <td>92</td>\n",
       "      <td>70</td>\n",
       "      <td>65</td>\n",
       "      <td>92</td>\n",
       "    </tr>\n",
       "    <tr>\n",
       "      <th>1</th>\n",
       "      <td>1</td>\n",
       "      <td>Schafer</td>\n",
       "      <td>Elise</td>\n",
       "      <td>91</td>\n",
       "      <td>75</td>\n",
       "      <td>90</td>\n",
       "      <td>68</td>\n",
       "      <td>85</td>\n",
       "    </tr>\n",
       "    <tr>\n",
       "      <th>2</th>\n",
       "      <td>2</td>\n",
       "      <td>Zimmermann</td>\n",
       "      <td>Kate</td>\n",
       "      <td>86</td>\n",
       "      <td>76</td>\n",
       "      <td>42</td>\n",
       "      <td>72</td>\n",
       "      <td>88</td>\n",
       "    </tr>\n",
       "    <tr>\n",
       "      <th>3</th>\n",
       "      <td>2</td>\n",
       "      <td>Mendoza</td>\n",
       "      <td>James</td>\n",
       "      <td>77</td>\n",
       "      <td>92</td>\n",
       "      <td>52</td>\n",
       "      <td>60</td>\n",
       "      <td>80</td>\n",
       "    </tr>\n",
       "    <tr>\n",
       "      <th>4</th>\n",
       "      <td>3</td>\n",
       "      <td>Park</td>\n",
       "      <td>Jay</td>\n",
       "      <td>75</td>\n",
       "      <td>85</td>\n",
       "      <td>85</td>\n",
       "      <td>92</td>\n",
       "      <td>95</td>\n",
       "    </tr>\n",
       "    <tr>\n",
       "      <th>5</th>\n",
       "      <td>3</td>\n",
       "      <td>Delcourt</td>\n",
       "      <td>Emma</td>\n",
       "      <td>96</td>\n",
       "      <td>90</td>\n",
       "      <td>95</td>\n",
       "      <td>81</td>\n",
       "      <td>72</td>\n",
       "    </tr>\n",
       "    <tr>\n",
       "      <th>6</th>\n",
       "      <td>4</td>\n",
       "      <td>Thompson</td>\n",
       "      <td>Sarah</td>\n",
       "      <td>91</td>\n",
       "      <td>81</td>\n",
       "      <td>92</td>\n",
       "      <td>81</td>\n",
       "      <td>73</td>\n",
       "    </tr>\n",
       "    <tr>\n",
       "      <th>7</th>\n",
       "      <td>4</td>\n",
       "      <td>Myeong</td>\n",
       "      <td>Mina</td>\n",
       "      <td>95</td>\n",
       "      <td>83</td>\n",
       "      <td>85</td>\n",
       "      <td>87</td>\n",
       "      <td>0</td>\n",
       "    </tr>\n",
       "  </tbody>\n",
       "</table>\n",
       "</div>"
      ],
      "text/plain": [
       "  class      l_name f_name  history  english  math  social_studies  science\n",
       "0     1       Smith   John       80       92    70              65       92\n",
       "1     1     Schafer  Elise       91       75    90              68       85\n",
       "2     2  Zimmermann   Kate       86       76    42              72       88\n",
       "3     2     Mendoza  James       77       92    52              60       80\n",
       "4     3        Park    Jay       75       85    85              92       95\n",
       "5     3    Delcourt   Emma       96       90    95              81       72\n",
       "6     4    Thompson  Sarah       91       81    92              81       73\n",
       "7     4      Myeong   Mina       95       83    85              87        0"
      ]
     },
     "execution_count": 20,
     "metadata": {},
     "output_type": "execute_result"
    }
   ],
   "source": [
    "# A new row, row 7\n",
    "df.loc[\"7\"] = [\"4\", \"Myeong\", \"Mina\", 95, 83, 85, 87, 0]\n",
    "df"
   ]
  },
  {
   "cell_type": "markdown",
   "metadata": {
    "id": "OhjKB5f0IhHQ"
   },
   "source": [
    "Or, you can use  `.append()`. In this case, we have to create a dictionary on details about her."
   ]
  },
  {
   "cell_type": "code",
   "execution_count": 21,
   "metadata": {
    "id": "kRycE2keIhHQ",
    "outputId": "1adbb4f5-6123-4248-f0ed-6329d136636d"
   },
   "outputs": [
    {
     "data": {
      "text/html": [
       "<div>\n",
       "<style scoped>\n",
       "    .dataframe tbody tr th:only-of-type {\n",
       "        vertical-align: middle;\n",
       "    }\n",
       "\n",
       "    .dataframe tbody tr th {\n",
       "        vertical-align: top;\n",
       "    }\n",
       "\n",
       "    .dataframe thead th {\n",
       "        text-align: right;\n",
       "    }\n",
       "</style>\n",
       "<table border=\"1\" class=\"dataframe\">\n",
       "  <thead>\n",
       "    <tr style=\"text-align: right;\">\n",
       "      <th></th>\n",
       "      <th>class</th>\n",
       "      <th>l_name</th>\n",
       "      <th>f_name</th>\n",
       "      <th>history</th>\n",
       "      <th>english</th>\n",
       "      <th>math</th>\n",
       "      <th>social_studies</th>\n",
       "      <th>science</th>\n",
       "    </tr>\n",
       "  </thead>\n",
       "  <tbody>\n",
       "    <tr>\n",
       "      <th>0</th>\n",
       "      <td>1</td>\n",
       "      <td>Smith</td>\n",
       "      <td>John</td>\n",
       "      <td>80</td>\n",
       "      <td>92</td>\n",
       "      <td>70</td>\n",
       "      <td>65</td>\n",
       "      <td>92</td>\n",
       "    </tr>\n",
       "    <tr>\n",
       "      <th>1</th>\n",
       "      <td>1</td>\n",
       "      <td>Schafer</td>\n",
       "      <td>Elise</td>\n",
       "      <td>91</td>\n",
       "      <td>75</td>\n",
       "      <td>90</td>\n",
       "      <td>68</td>\n",
       "      <td>85</td>\n",
       "    </tr>\n",
       "    <tr>\n",
       "      <th>2</th>\n",
       "      <td>2</td>\n",
       "      <td>Zimmermann</td>\n",
       "      <td>Kate</td>\n",
       "      <td>86</td>\n",
       "      <td>76</td>\n",
       "      <td>42</td>\n",
       "      <td>72</td>\n",
       "      <td>88</td>\n",
       "    </tr>\n",
       "    <tr>\n",
       "      <th>3</th>\n",
       "      <td>2</td>\n",
       "      <td>Mendoza</td>\n",
       "      <td>James</td>\n",
       "      <td>77</td>\n",
       "      <td>92</td>\n",
       "      <td>52</td>\n",
       "      <td>60</td>\n",
       "      <td>80</td>\n",
       "    </tr>\n",
       "    <tr>\n",
       "      <th>4</th>\n",
       "      <td>3</td>\n",
       "      <td>Park</td>\n",
       "      <td>Jay</td>\n",
       "      <td>75</td>\n",
       "      <td>85</td>\n",
       "      <td>85</td>\n",
       "      <td>92</td>\n",
       "      <td>95</td>\n",
       "    </tr>\n",
       "    <tr>\n",
       "      <th>5</th>\n",
       "      <td>3</td>\n",
       "      <td>Delcourt</td>\n",
       "      <td>Emma</td>\n",
       "      <td>96</td>\n",
       "      <td>90</td>\n",
       "      <td>95</td>\n",
       "      <td>81</td>\n",
       "      <td>72</td>\n",
       "    </tr>\n",
       "    <tr>\n",
       "      <th>6</th>\n",
       "      <td>4</td>\n",
       "      <td>Thompson</td>\n",
       "      <td>Sarah</td>\n",
       "      <td>91</td>\n",
       "      <td>81</td>\n",
       "      <td>92</td>\n",
       "      <td>81</td>\n",
       "      <td>73</td>\n",
       "    </tr>\n",
       "    <tr>\n",
       "      <th>7</th>\n",
       "      <td>4</td>\n",
       "      <td>Myeong</td>\n",
       "      <td>Mina</td>\n",
       "      <td>95</td>\n",
       "      <td>83</td>\n",
       "      <td>85</td>\n",
       "      <td>87</td>\n",
       "      <td>0</td>\n",
       "    </tr>\n",
       "    <tr>\n",
       "      <th>8</th>\n",
       "      <td>4</td>\n",
       "      <td>Valenti</td>\n",
       "      <td>Michael</td>\n",
       "      <td>95</td>\n",
       "      <td>70</td>\n",
       "      <td>82</td>\n",
       "      <td>91</td>\n",
       "      <td>75</td>\n",
       "    </tr>\n",
       "  </tbody>\n",
       "</table>\n",
       "</div>"
      ],
      "text/plain": [
       "  class      l_name   f_name  history  english  math  social_studies  science\n",
       "0     1       Smith     John       80       92    70              65       92\n",
       "1     1     Schafer    Elise       91       75    90              68       85\n",
       "2     2  Zimmermann     Kate       86       76    42              72       88\n",
       "3     2     Mendoza    James       77       92    52              60       80\n",
       "4     3        Park      Jay       75       85    85              92       95\n",
       "5     3    Delcourt     Emma       96       90    95              81       72\n",
       "6     4    Thompson    Sarah       91       81    92              81       73\n",
       "7     4      Myeong     Mina       95       83    85              87        0\n",
       "8     4     Valenti  Michael       95       70    82              91       75"
      ]
     },
     "execution_count": 21,
     "metadata": {},
     "output_type": "execute_result"
    }
   ],
   "source": [
    "df.append({\n",
    "    \"class\": \"4\",\n",
    "    \"l_name\": \"Valenti\",\n",
    "    \"f_name\": \"Michael\",\n",
    "    \"history\": 95,\n",
    "    \"english\": 70,\n",
    "    \"math\": 82,\n",
    "    \"social_studies\": 91,\n",
    "    \"science\": 75\n",
    "},ignore_index=True)"
   ]
  },
  {
   "cell_type": "markdown",
   "metadata": {
    "id": "wYf9fuVRIhHU"
   },
   "source": [
    "### (4) Deleting rows\n",
    "\n",
    "Use `.drop()` to delete rows from DataFrame."
   ]
  },
  {
   "cell_type": "markdown",
   "metadata": {},
   "source": [
    "#### Deleting a single row"
   ]
  },
  {
   "cell_type": "code",
   "execution_count": 22,
   "metadata": {
    "id": "uU2xClhhIhHU",
    "outputId": "7e0d5951-3dd2-42f2-f6a1-2b086378a28a",
    "scrolled": false
   },
   "outputs": [
    {
     "data": {
      "text/html": [
       "<div>\n",
       "<style scoped>\n",
       "    .dataframe tbody tr th:only-of-type {\n",
       "        vertical-align: middle;\n",
       "    }\n",
       "\n",
       "    .dataframe tbody tr th {\n",
       "        vertical-align: top;\n",
       "    }\n",
       "\n",
       "    .dataframe thead th {\n",
       "        text-align: right;\n",
       "    }\n",
       "</style>\n",
       "<table border=\"1\" class=\"dataframe\">\n",
       "  <thead>\n",
       "    <tr style=\"text-align: right;\">\n",
       "      <th></th>\n",
       "      <th>class</th>\n",
       "      <th>l_name</th>\n",
       "      <th>f_name</th>\n",
       "      <th>history</th>\n",
       "      <th>english</th>\n",
       "      <th>math</th>\n",
       "      <th>social_studies</th>\n",
       "      <th>science</th>\n",
       "    </tr>\n",
       "  </thead>\n",
       "  <tbody>\n",
       "    <tr>\n",
       "      <th>1</th>\n",
       "      <td>1</td>\n",
       "      <td>Schafer</td>\n",
       "      <td>Elise</td>\n",
       "      <td>91</td>\n",
       "      <td>75</td>\n",
       "      <td>90</td>\n",
       "      <td>68</td>\n",
       "      <td>85</td>\n",
       "    </tr>\n",
       "    <tr>\n",
       "      <th>2</th>\n",
       "      <td>2</td>\n",
       "      <td>Zimmermann</td>\n",
       "      <td>Kate</td>\n",
       "      <td>86</td>\n",
       "      <td>76</td>\n",
       "      <td>42</td>\n",
       "      <td>72</td>\n",
       "      <td>88</td>\n",
       "    </tr>\n",
       "    <tr>\n",
       "      <th>3</th>\n",
       "      <td>2</td>\n",
       "      <td>Mendoza</td>\n",
       "      <td>James</td>\n",
       "      <td>77</td>\n",
       "      <td>92</td>\n",
       "      <td>52</td>\n",
       "      <td>60</td>\n",
       "      <td>80</td>\n",
       "    </tr>\n",
       "    <tr>\n",
       "      <th>4</th>\n",
       "      <td>3</td>\n",
       "      <td>Park</td>\n",
       "      <td>Jay</td>\n",
       "      <td>75</td>\n",
       "      <td>85</td>\n",
       "      <td>85</td>\n",
       "      <td>92</td>\n",
       "      <td>95</td>\n",
       "    </tr>\n",
       "    <tr>\n",
       "      <th>5</th>\n",
       "      <td>3</td>\n",
       "      <td>Delcourt</td>\n",
       "      <td>Emma</td>\n",
       "      <td>96</td>\n",
       "      <td>90</td>\n",
       "      <td>95</td>\n",
       "      <td>81</td>\n",
       "      <td>72</td>\n",
       "    </tr>\n",
       "    <tr>\n",
       "      <th>6</th>\n",
       "      <td>4</td>\n",
       "      <td>Thompson</td>\n",
       "      <td>Sarah</td>\n",
       "      <td>91</td>\n",
       "      <td>81</td>\n",
       "      <td>92</td>\n",
       "      <td>81</td>\n",
       "      <td>73</td>\n",
       "    </tr>\n",
       "    <tr>\n",
       "      <th>7</th>\n",
       "      <td>4</td>\n",
       "      <td>Myeong</td>\n",
       "      <td>Mina</td>\n",
       "      <td>95</td>\n",
       "      <td>83</td>\n",
       "      <td>85</td>\n",
       "      <td>87</td>\n",
       "      <td>0</td>\n",
       "    </tr>\n",
       "  </tbody>\n",
       "</table>\n",
       "</div>"
      ],
      "text/plain": [
       "  class      l_name f_name  history  english  math  social_studies  science\n",
       "1     1     Schafer  Elise       91       75    90              68       85\n",
       "2     2  Zimmermann   Kate       86       76    42              72       88\n",
       "3     2     Mendoza  James       77       92    52              60       80\n",
       "4     3        Park    Jay       75       85    85              92       95\n",
       "5     3    Delcourt   Emma       96       90    95              81       72\n",
       "6     4    Thompson  Sarah       91       81    92              81       73\n",
       "7     4      Myeong   Mina       95       83    85              87        0"
      ]
     },
     "execution_count": 22,
     "metadata": {},
     "output_type": "execute_result"
    }
   ],
   "source": [
    "df_del = df.drop(index=0)\n",
    "df_del"
   ]
  },
  {
   "cell_type": "markdown",
   "metadata": {
    "id": "5t21BWcdIhHY"
   },
   "source": [
    "**Deleting multiple rows** "
   ]
  },
  {
   "cell_type": "code",
   "execution_count": 23,
   "metadata": {
    "id": "RC_eR0kLIhHY",
    "outputId": "08b36b90-e71b-41ff-9663-9138392e5ab2",
    "scrolled": false
   },
   "outputs": [
    {
     "data": {
      "text/html": [
       "<div>\n",
       "<style scoped>\n",
       "    .dataframe tbody tr th:only-of-type {\n",
       "        vertical-align: middle;\n",
       "    }\n",
       "\n",
       "    .dataframe tbody tr th {\n",
       "        vertical-align: top;\n",
       "    }\n",
       "\n",
       "    .dataframe thead th {\n",
       "        text-align: right;\n",
       "    }\n",
       "</style>\n",
       "<table border=\"1\" class=\"dataframe\">\n",
       "  <thead>\n",
       "    <tr style=\"text-align: right;\">\n",
       "      <th></th>\n",
       "      <th>class</th>\n",
       "      <th>l_name</th>\n",
       "      <th>f_name</th>\n",
       "      <th>history</th>\n",
       "      <th>english</th>\n",
       "      <th>math</th>\n",
       "      <th>social_studies</th>\n",
       "      <th>science</th>\n",
       "    </tr>\n",
       "  </thead>\n",
       "  <tbody>\n",
       "    <tr>\n",
       "      <th>0</th>\n",
       "      <td>1</td>\n",
       "      <td>Smith</td>\n",
       "      <td>John</td>\n",
       "      <td>80</td>\n",
       "      <td>92</td>\n",
       "      <td>70</td>\n",
       "      <td>65</td>\n",
       "      <td>92</td>\n",
       "    </tr>\n",
       "    <tr>\n",
       "      <th>2</th>\n",
       "      <td>2</td>\n",
       "      <td>Zimmermann</td>\n",
       "      <td>Kate</td>\n",
       "      <td>86</td>\n",
       "      <td>76</td>\n",
       "      <td>42</td>\n",
       "      <td>72</td>\n",
       "      <td>88</td>\n",
       "    </tr>\n",
       "    <tr>\n",
       "      <th>3</th>\n",
       "      <td>2</td>\n",
       "      <td>Mendoza</td>\n",
       "      <td>James</td>\n",
       "      <td>77</td>\n",
       "      <td>92</td>\n",
       "      <td>52</td>\n",
       "      <td>60</td>\n",
       "      <td>80</td>\n",
       "    </tr>\n",
       "    <tr>\n",
       "      <th>5</th>\n",
       "      <td>3</td>\n",
       "      <td>Delcourt</td>\n",
       "      <td>Emma</td>\n",
       "      <td>96</td>\n",
       "      <td>90</td>\n",
       "      <td>95</td>\n",
       "      <td>81</td>\n",
       "      <td>72</td>\n",
       "    </tr>\n",
       "    <tr>\n",
       "      <th>6</th>\n",
       "      <td>4</td>\n",
       "      <td>Thompson</td>\n",
       "      <td>Sarah</td>\n",
       "      <td>91</td>\n",
       "      <td>81</td>\n",
       "      <td>92</td>\n",
       "      <td>81</td>\n",
       "      <td>73</td>\n",
       "    </tr>\n",
       "    <tr>\n",
       "      <th>7</th>\n",
       "      <td>4</td>\n",
       "      <td>Myeong</td>\n",
       "      <td>Mina</td>\n",
       "      <td>95</td>\n",
       "      <td>83</td>\n",
       "      <td>85</td>\n",
       "      <td>87</td>\n",
       "      <td>0</td>\n",
       "    </tr>\n",
       "  </tbody>\n",
       "</table>\n",
       "</div>"
      ],
      "text/plain": [
       "  class      l_name f_name  history  english  math  social_studies  science\n",
       "0     1       Smith   John       80       92    70              65       92\n",
       "2     2  Zimmermann   Kate       86       76    42              72       88\n",
       "3     2     Mendoza  James       77       92    52              60       80\n",
       "5     3    Delcourt   Emma       96       90    95              81       72\n",
       "6     4    Thompson  Sarah       91       81    92              81       73\n",
       "7     4      Myeong   Mina       95       83    85              87        0"
      ]
     },
     "execution_count": 23,
     "metadata": {},
     "output_type": "execute_result"
    }
   ],
   "source": [
    "# Deleting row 1 and 4\n",
    "df_del = df.drop(index=[1,4])\n",
    "df_del"
   ]
  },
  {
   "cell_type": "markdown",
   "metadata": {
    "id": "aqcd2jNkYTVw"
   },
   "source": [
    "# \\[2. Dataframe Manipulation\\]\n",
    "\n",
    "+ In addition to pandas functions and methods, there are other types of functions such as user-defined functions and non-pandas functions you can use on DataFrame. These functions can be performed both axis-wise and element-wise operations with `.apply()` or `.applymap()`.\n",
    "\n",
    "+ User-defined functions can be applied **axis-wise** on DataFrame with `.apply()`.\n",
    "\n",
    "+ Or, if you want to apply user-defined function to every element of a DataFrame, use `.applymap()`.\n",
    "\n",
    "+ In Series, you should use `map()` and `.apply()` for applying user-defined functions element-wise.\n",
    "\n",
    "+ Pandas provides `.transpose()` for a row-column swap."
   ]
  },
  {
   "cell_type": "markdown",
   "metadata": {
    "id": "WgmCWY9cIhHe"
   },
   "source": [
    "## 1. Apply & Map "
   ]
  },
  {
   "cell_type": "code",
   "execution_count": 24,
   "metadata": {
    "colab": {
     "base_uri": "https://localhost:8080/",
     "height": 580
    },
    "id": "IFJGBUzTYTVx",
    "outputId": "ccb03d81-3f8f-4e10-bfd6-787bdd1eaaf2",
    "scrolled": true
   },
   "outputs": [
    {
     "data": {
      "text/html": [
       "<div>\n",
       "<style scoped>\n",
       "    .dataframe tbody tr th:only-of-type {\n",
       "        vertical-align: middle;\n",
       "    }\n",
       "\n",
       "    .dataframe tbody tr th {\n",
       "        vertical-align: top;\n",
       "    }\n",
       "\n",
       "    .dataframe thead th {\n",
       "        text-align: right;\n",
       "    }\n",
       "</style>\n",
       "<table border=\"1\" class=\"dataframe\">\n",
       "  <thead>\n",
       "    <tr style=\"text-align: right;\">\n",
       "      <th></th>\n",
       "      <th>history</th>\n",
       "      <th>english</th>\n",
       "      <th>math</th>\n",
       "      <th>social_studies</th>\n",
       "      <th>science</th>\n",
       "    </tr>\n",
       "  </thead>\n",
       "  <tbody>\n",
       "    <tr>\n",
       "      <th>0</th>\n",
       "      <td>80</td>\n",
       "      <td>92</td>\n",
       "      <td>70</td>\n",
       "      <td>65</td>\n",
       "      <td>92</td>\n",
       "    </tr>\n",
       "    <tr>\n",
       "      <th>1</th>\n",
       "      <td>91</td>\n",
       "      <td>75</td>\n",
       "      <td>90</td>\n",
       "      <td>68</td>\n",
       "      <td>85</td>\n",
       "    </tr>\n",
       "    <tr>\n",
       "      <th>2</th>\n",
       "      <td>86</td>\n",
       "      <td>76</td>\n",
       "      <td>42</td>\n",
       "      <td>72</td>\n",
       "      <td>88</td>\n",
       "    </tr>\n",
       "    <tr>\n",
       "      <th>3</th>\n",
       "      <td>77</td>\n",
       "      <td>92</td>\n",
       "      <td>52</td>\n",
       "      <td>60</td>\n",
       "      <td>80</td>\n",
       "    </tr>\n",
       "    <tr>\n",
       "      <th>4</th>\n",
       "      <td>75</td>\n",
       "      <td>85</td>\n",
       "      <td>85</td>\n",
       "      <td>92</td>\n",
       "      <td>95</td>\n",
       "    </tr>\n",
       "    <tr>\n",
       "      <th>5</th>\n",
       "      <td>96</td>\n",
       "      <td>90</td>\n",
       "      <td>95</td>\n",
       "      <td>81</td>\n",
       "      <td>72</td>\n",
       "    </tr>\n",
       "    <tr>\n",
       "      <th>6</th>\n",
       "      <td>91</td>\n",
       "      <td>81</td>\n",
       "      <td>92</td>\n",
       "      <td>81</td>\n",
       "      <td>73</td>\n",
       "    </tr>\n",
       "    <tr>\n",
       "      <th>7</th>\n",
       "      <td>95</td>\n",
       "      <td>83</td>\n",
       "      <td>85</td>\n",
       "      <td>87</td>\n",
       "      <td>0</td>\n",
       "    </tr>\n",
       "  </tbody>\n",
       "</table>\n",
       "</div>"
      ],
      "text/plain": [
       "   history  english  math  social_studies  science\n",
       "0       80       92    70              65       92\n",
       "1       91       75    90              68       85\n",
       "2       86       76    42              72       88\n",
       "3       77       92    52              60       80\n",
       "4       75       85    85              92       95\n",
       "5       96       90    95              81       72\n",
       "6       91       81    92              81       73\n",
       "7       95       83    85              87        0"
      ]
     },
     "execution_count": 24,
     "metadata": {},
     "output_type": "execute_result"
    }
   ],
   "source": [
    "lecture_df = df[[\"history\", \"english\", \"math\", \"social_studies\", \"science\"]]\n",
    "lecture_df"
   ]
  },
  {
   "cell_type": "markdown",
   "metadata": {
    "id": "1KjiHxVsYTV0"
   },
   "source": [
    "### (1) Applying a user-defined function across the rows (axis = 0)"
   ]
  },
  {
   "cell_type": "markdown",
   "metadata": {
    "id": "pPvye_5EEbY-"
   },
   "source": [
    "\n",
    "![](https://cdn.shortpixel.ai/spai/w_750+q_lossy+ret_img+to_webp/https://www.sharpsightlabs.com/wp-content/uploads/2018/10/np-sum-axis0-example.png)"
   ]
  },
  {
   "cell_type": "code",
   "execution_count": 25,
   "metadata": {
    "colab": {
     "base_uri": "https://localhost:8080/",
     "height": 174
    },
    "id": "NgEROM96YTV2",
    "outputId": "f71e9bf3-7208-426c-babf-ebce32479241"
   },
   "outputs": [
    {
     "data": {
      "text/plain": [
       "history           easy\n",
       "english           easy\n",
       "math              hard\n",
       "social_studies    hard\n",
       "science           hard\n",
       "dtype: object"
      ]
     },
     "execution_count": 25,
     "metadata": {},
     "output_type": "execute_result"
    }
   ],
   "source": [
    "# Rating the difficulty level of each exam\n",
    "# Subjects with an average score of 80 or higher will be rated as 'easy', otherwise 'hard'\n",
    "lecture_df.apply(lambda x : \"easy\" if x.mean()>80 else \"hard\", axis=0)"
   ]
  },
  {
   "cell_type": "markdown",
   "metadata": {
    "id": "KeV3LAZlYTV2"
   },
   "source": [
    "### (2) Applying a user-defined function across the columns (axis = 1)"
   ]
  },
  {
   "cell_type": "markdown",
   "metadata": {
    "id": "D8XziPSrEUdB"
   },
   "source": [
    "![](https://cdn.shortpixel.ai/spai/w_563+q_lossy+ret_img+to_webp/https://www.sharpsightlabs.com/wp-content/uploads/2018/10/np-sum-axis1-example_v2.png)"
   ]
  },
  {
   "cell_type": "code",
   "execution_count": 26,
   "metadata": {
    "colab": {
     "base_uri": "https://localhost:8080/",
     "height": 226
    },
    "id": "KlzybZ3iYTV0",
    "outputId": "0bfde2d5-3741-4adb-e537-e45792d3b21d"
   },
   "outputs": [
    {
     "data": {
      "text/plain": [
       "0    fail\n",
       "1    pass\n",
       "2    fail\n",
       "3    fail\n",
       "4    pass\n",
       "5    pass\n",
       "6    pass\n",
       "7    fail\n",
       "dtype: object"
      ]
     },
     "execution_count": 26,
     "metadata": {},
     "output_type": "execute_result"
    }
   ],
   "source": [
    "# Students with an average over 80 will be graded `pass`, otherwise `fail`\n",
    "lecture_df.apply(lambda x : \"pass\" if x.mean()>80 else \"fail\", axis=1)"
   ]
  },
  {
   "cell_type": "markdown",
   "metadata": {
    "id": "VJLvK84MYTV4"
   },
   "source": [
    "### (3) Element-wise operation of a user-defined function on DataFrame"
   ]
  },
  {
   "cell_type": "code",
   "execution_count": 27,
   "metadata": {
    "colab": {
     "base_uri": "https://localhost:8080/",
     "height": 372
    },
    "id": "D08JTijaYTV4",
    "outputId": "e8d576f5-ded7-474e-f00e-d454133626b5"
   },
   "outputs": [
    {
     "data": {
      "text/html": [
       "<div>\n",
       "<style scoped>\n",
       "    .dataframe tbody tr th:only-of-type {\n",
       "        vertical-align: middle;\n",
       "    }\n",
       "\n",
       "    .dataframe tbody tr th {\n",
       "        vertical-align: top;\n",
       "    }\n",
       "\n",
       "    .dataframe thead th {\n",
       "        text-align: right;\n",
       "    }\n",
       "</style>\n",
       "<table border=\"1\" class=\"dataframe\">\n",
       "  <thead>\n",
       "    <tr style=\"text-align: right;\">\n",
       "      <th></th>\n",
       "      <th>history</th>\n",
       "      <th>english</th>\n",
       "      <th>math</th>\n",
       "      <th>social_studies</th>\n",
       "      <th>science</th>\n",
       "    </tr>\n",
       "  </thead>\n",
       "  <tbody>\n",
       "    <tr>\n",
       "      <th>0</th>\n",
       "      <td>Fail</td>\n",
       "      <td>Pass</td>\n",
       "      <td>Fail</td>\n",
       "      <td>Fail</td>\n",
       "      <td>Pass</td>\n",
       "    </tr>\n",
       "    <tr>\n",
       "      <th>1</th>\n",
       "      <td>Pass</td>\n",
       "      <td>Fail</td>\n",
       "      <td>Pass</td>\n",
       "      <td>Fail</td>\n",
       "      <td>Pass</td>\n",
       "    </tr>\n",
       "    <tr>\n",
       "      <th>2</th>\n",
       "      <td>Pass</td>\n",
       "      <td>Fail</td>\n",
       "      <td>Fail</td>\n",
       "      <td>Fail</td>\n",
       "      <td>Pass</td>\n",
       "    </tr>\n",
       "    <tr>\n",
       "      <th>3</th>\n",
       "      <td>Fail</td>\n",
       "      <td>Pass</td>\n",
       "      <td>Fail</td>\n",
       "      <td>Fail</td>\n",
       "      <td>Fail</td>\n",
       "    </tr>\n",
       "    <tr>\n",
       "      <th>4</th>\n",
       "      <td>Fail</td>\n",
       "      <td>Pass</td>\n",
       "      <td>Pass</td>\n",
       "      <td>Pass</td>\n",
       "      <td>Pass</td>\n",
       "    </tr>\n",
       "    <tr>\n",
       "      <th>5</th>\n",
       "      <td>Pass</td>\n",
       "      <td>Pass</td>\n",
       "      <td>Pass</td>\n",
       "      <td>Pass</td>\n",
       "      <td>Fail</td>\n",
       "    </tr>\n",
       "    <tr>\n",
       "      <th>6</th>\n",
       "      <td>Pass</td>\n",
       "      <td>Pass</td>\n",
       "      <td>Pass</td>\n",
       "      <td>Pass</td>\n",
       "      <td>Fail</td>\n",
       "    </tr>\n",
       "    <tr>\n",
       "      <th>7</th>\n",
       "      <td>Pass</td>\n",
       "      <td>Pass</td>\n",
       "      <td>Pass</td>\n",
       "      <td>Pass</td>\n",
       "      <td>Fail</td>\n",
       "    </tr>\n",
       "  </tbody>\n",
       "</table>\n",
       "</div>"
      ],
      "text/plain": [
       "  history english  math social_studies science\n",
       "0    Fail    Pass  Fail           Fail    Pass\n",
       "1    Pass    Fail  Pass           Fail    Pass\n",
       "2    Pass    Fail  Fail           Fail    Pass\n",
       "3    Fail    Pass  Fail           Fail    Fail\n",
       "4    Fail    Pass  Pass           Pass    Pass\n",
       "5    Pass    Pass  Pass           Pass    Fail\n",
       "6    Pass    Pass  Pass           Pass    Fail\n",
       "7    Pass    Pass  Pass           Pass    Fail"
      ]
     },
     "execution_count": 27,
     "metadata": {},
     "output_type": "execute_result"
    }
   ],
   "source": [
    "# Courses will be graded `pass` for scores over 80, otherwise `fail` \n",
    "lecture_df.applymap(lambda x : \"Pass\" if x>80 else \"Fail\")"
   ]
  },
  {
   "cell_type": "markdown",
   "metadata": {
    "id": "XqVzynSJYTV7"
   },
   "source": [
    "### (4) Element-wise operation of a user-defined function on Series"
   ]
  },
  {
   "cell_type": "code",
   "execution_count": 28,
   "metadata": {
    "colab": {
     "base_uri": "https://localhost:8080/",
     "height": 226
    },
    "id": "CFgZ_C2dYTV7",
    "outputId": "d0189f67-0a95-4f55-e34b-00d2f8976ce3",
    "scrolled": true
   },
   "outputs": [
    {
     "data": {
      "text/plain": [
       "0    70\n",
       "1    90\n",
       "2    42\n",
       "3    52\n",
       "4    85\n",
       "5    95\n",
       "6    92\n",
       "7    85\n",
       "Name: math, dtype: int64"
      ]
     },
     "execution_count": 28,
     "metadata": {},
     "output_type": "execute_result"
    }
   ],
   "source": [
    "math_score = lecture_df.math\n",
    "math_score"
   ]
  },
  {
   "cell_type": "code",
   "execution_count": 29,
   "metadata": {
    "id": "SG4BkIaIIhHv",
    "outputId": "a67c70de-101c-4acf-dec0-f14664e6fb52",
    "scrolled": false
   },
   "outputs": [
    {
     "data": {
      "text/plain": [
       "0    fail\n",
       "1    pass\n",
       "2    fail\n",
       "3    fail\n",
       "4    pass\n",
       "5    pass\n",
       "6    pass\n",
       "7    pass\n",
       "Name: math, dtype: object"
      ]
     },
     "execution_count": 29,
     "metadata": {},
     "output_type": "execute_result"
    }
   ],
   "source": [
    "# Math scores over 80 will be graded `pass`, otherwise `fail`\n",
    "math_score.apply(lambda x : \"pass\" if x > 80 else \"fail\")"
   ]
  },
  {
   "cell_type": "code",
   "execution_count": 30,
   "metadata": {
    "id": "pUcHgjPOVdBx"
   },
   "outputs": [
    {
     "data": {
      "text/plain": [
       "0    fail\n",
       "1    pass\n",
       "2    fail\n",
       "3    fail\n",
       "4    pass\n",
       "5    pass\n",
       "6    pass\n",
       "7    pass\n",
       "Name: math, dtype: object"
      ]
     },
     "execution_count": 30,
     "metadata": {},
     "output_type": "execute_result"
    }
   ],
   "source": [
    "# A math score over 80 will be graded `pass`, otherwise `fail`\n",
    "x = math_score.map(lambda x : \"pass\" if x>80 else \"fail\")\n",
    "x"
   ]
  },
  {
   "cell_type": "markdown",
   "metadata": {
    "id": "dWfEFmRSIhH0"
   },
   "source": [
    "You can see both `.map()` and `.apply()` can be used on pandas Series for element-wise operations.<br>The only difference is, `.map()` can take a dictionary as an argument while `.apply()` can't."
   ]
  },
  {
   "cell_type": "code",
   "execution_count": 31,
   "metadata": {
    "id": "5apOykoUIhH0",
    "outputId": "18662540-d03d-46ff-dac3-f8a36b168eb8"
   },
   "outputs": [
    {
     "data": {
      "text/plain": [
       "0    NaN\n",
       "1    NaN\n",
       "2    NaN\n",
       "3    NaN\n",
       "4    NaN\n",
       "5    NaN\n",
       "6    NaN\n",
       "7    NaN\n",
       "Name: math, dtype: object"
      ]
     },
     "execution_count": 31,
     "metadata": {},
     "output_type": "execute_result"
    }
   ],
   "source": [
    "x.map({\"Fail\":\"See you again next semester\",\n",
    "       \"Pass\":\"You may go on another adventure\"})"
   ]
  },
  {
   "cell_type": "markdown",
   "metadata": {
    "id": "E0pzBcsSIhH2"
   },
   "source": [
    "## 2. Transposing DataFrame\n",
    "\n",
    "Pandas provides `.transpose()` to change the axis order.\n",
    "Since a DataFrame object is two-dimensional with only rows and columns, `.transpose()` simply transposes rows and columns, in which case `.transpose()` can be used as an alias `.T`."
   ]
  },
  {
   "cell_type": "code",
   "execution_count": 3,
   "metadata": {
    "id": "9e-eHQSHIhH3",
    "outputId": "885ecf2c-da92-4f0f-f580-efd59a82e11a",
    "scrolled": true
   },
   "outputs": [
    {
     "data": {
      "text/html": [
       "<div>\n",
       "<style scoped>\n",
       "    .dataframe tbody tr th:only-of-type {\n",
       "        vertical-align: middle;\n",
       "    }\n",
       "\n",
       "    .dataframe tbody tr th {\n",
       "        vertical-align: top;\n",
       "    }\n",
       "\n",
       "    .dataframe thead th {\n",
       "        text-align: right;\n",
       "    }\n",
       "</style>\n",
       "<table border=\"1\" class=\"dataframe\">\n",
       "  <thead>\n",
       "    <tr style=\"text-align: right;\">\n",
       "      <th></th>\n",
       "      <th>0</th>\n",
       "      <th>1</th>\n",
       "      <th>2</th>\n",
       "      <th>3</th>\n",
       "      <th>4</th>\n",
       "      <th>5</th>\n",
       "      <th>6</th>\n",
       "    </tr>\n",
       "  </thead>\n",
       "  <tbody>\n",
       "    <tr>\n",
       "      <th>class</th>\n",
       "      <td>1</td>\n",
       "      <td>1</td>\n",
       "      <td>2</td>\n",
       "      <td>2</td>\n",
       "      <td>3</td>\n",
       "      <td>3</td>\n",
       "      <td>4</td>\n",
       "    </tr>\n",
       "    <tr>\n",
       "      <th>l_name</th>\n",
       "      <td>Smith</td>\n",
       "      <td>Schafer</td>\n",
       "      <td>Zimmermann</td>\n",
       "      <td>Mendoza</td>\n",
       "      <td>Park</td>\n",
       "      <td>Delcourt</td>\n",
       "      <td>Thompson</td>\n",
       "    </tr>\n",
       "    <tr>\n",
       "      <th>f_name</th>\n",
       "      <td>John</td>\n",
       "      <td>Elise</td>\n",
       "      <td>Kate</td>\n",
       "      <td>James</td>\n",
       "      <td>Jay</td>\n",
       "      <td>Emma</td>\n",
       "      <td>Sarah</td>\n",
       "    </tr>\n",
       "    <tr>\n",
       "      <th>history</th>\n",
       "      <td>80</td>\n",
       "      <td>91</td>\n",
       "      <td>86</td>\n",
       "      <td>77</td>\n",
       "      <td>75</td>\n",
       "      <td>96</td>\n",
       "      <td>91</td>\n",
       "    </tr>\n",
       "    <tr>\n",
       "      <th>english</th>\n",
       "      <td>92</td>\n",
       "      <td>75</td>\n",
       "      <td>76</td>\n",
       "      <td>92</td>\n",
       "      <td>85</td>\n",
       "      <td>90</td>\n",
       "      <td>81</td>\n",
       "    </tr>\n",
       "    <tr>\n",
       "      <th>math</th>\n",
       "      <td>70</td>\n",
       "      <td>90</td>\n",
       "      <td>42</td>\n",
       "      <td>52</td>\n",
       "      <td>85</td>\n",
       "      <td>95</td>\n",
       "      <td>92</td>\n",
       "    </tr>\n",
       "    <tr>\n",
       "      <th>social_studies</th>\n",
       "      <td>65</td>\n",
       "      <td>68</td>\n",
       "      <td>72</td>\n",
       "      <td>60</td>\n",
       "      <td>92</td>\n",
       "      <td>81</td>\n",
       "      <td>81</td>\n",
       "    </tr>\n",
       "    <tr>\n",
       "      <th>science</th>\n",
       "      <td>92</td>\n",
       "      <td>85</td>\n",
       "      <td>88</td>\n",
       "      <td>80</td>\n",
       "      <td>95</td>\n",
       "      <td>72</td>\n",
       "      <td>73</td>\n",
       "    </tr>\n",
       "  </tbody>\n",
       "</table>\n",
       "</div>"
      ],
      "text/plain": [
       "                    0        1           2        3     4         5         6\n",
       "class               1        1           2        2     3         3         4\n",
       "l_name          Smith  Schafer  Zimmermann  Mendoza  Park  Delcourt  Thompson\n",
       "f_name           John    Elise        Kate    James   Jay      Emma     Sarah\n",
       "history            80       91          86       77    75        96        91\n",
       "english            92       75          76       92    85        90        81\n",
       "math               70       90          42       52    85        95        92\n",
       "social_studies     65       68          72       60    92        81        81\n",
       "science            92       85          88       80    95        72        73"
      ]
     },
     "execution_count": 3,
     "metadata": {},
     "output_type": "execute_result"
    }
   ],
   "source": [
    "transposed_df = df.T\n",
    "transposed_df"
   ]
  },
  {
   "cell_type": "markdown",
   "metadata": {
    "id": "r3JOfDIXIhH6"
   },
   "source": [
    "You can see that it only transposed index and columns without any change in the content of the DataFrame."
   ]
  }
 ],
 "metadata": {
  "colab": {
   "collapsed_sections": [],
   "name": "3_DataFrame에 다양한 연산 적용하기(완료).ipynb의 사본",
   "provenance": [
    {
     "file_id": "1QYPE02MtfGEP3GzB-k0UP5zhPmEhrgIk",
     "timestamp": 1604479921669
    }
   ],
   "toc_visible": true
  },
  "kernelspec": {
   "display_name": "Python 3",
   "language": "python",
   "name": "python3"
  },
  "language_info": {
   "codemirror_mode": {
    "name": "ipython",
    "version": 3
   },
   "file_extension": ".py",
   "mimetype": "text/x-python",
   "name": "python",
   "nbconvert_exporter": "python",
   "pygments_lexer": "ipython3",
   "version": "3.7.0"
  },
  "toc": {
   "base_numbering": 1,
   "nav_menu": {},
   "number_sections": false,
   "sideBar": true,
   "skip_h1_title": false,
   "title_cell": "Table of Contents",
   "title_sidebar": "Contents",
   "toc_cell": false,
   "toc_position": {
    "height": "calc(100% - 180px)",
    "left": "10px",
    "top": "150px",
    "width": "341.306px"
   },
   "toc_section_display": true,
   "toc_window_display": true
  }
 },
 "nbformat": 4,
 "nbformat_minor": 1
}
