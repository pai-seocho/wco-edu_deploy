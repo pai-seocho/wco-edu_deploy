{
 "cells": [
  {
   "cell_type": "markdown",
   "metadata": {
    "id": "gfmhEM-5jS5j"
   },
   "source": [
    "# C. Pandas DataFrame\n",
    "\n",
    "Pandas DataFrame is a 2-dimensional data structure composed of two axes (rows & columns), and you would often face the situation to process data along a specific axis. Here, what makes pandas so useful is that it provides functionality to deal with such situations. Thus, it is crucial to know pandas well enough to the point of becoming confident with axis-wise data processing.<br>\n",
    "In order to drive our confidence in pandas, we'll be looking at methods for indexing, slicing and subsetting DataFrames.\n",
    "\n",
    "### _Objective_\n",
    "\n",
    "1. **Data selection based on columns**: Understanding how to select specific data from a DataFrame based on columns\n",
    "\n",
    "2. **Data selection based on rows**: Understanding how to select specific data from a DataFrame based on rows"
   ]
  },
  {
   "cell_type": "code",
   "execution_count": 3,
   "metadata": {
    "id": "XkK-MjMxjS5k"
   },
   "outputs": [],
   "source": [
    "import pandas as pd\n",
    "import numpy as np"
   ]
  },
  {
   "cell_type": "markdown",
   "metadata": {
    "id": "P7pueSi-lge5"
   },
   "source": [
    "#### Example Data) Students' Report Cards"
   ]
  },
  {
   "cell_type": "code",
   "execution_count": 4,
   "metadata": {
    "colab": {
     "base_uri": "https://localhost:8080/",
     "height": 115
    },
    "executionInfo": {
     "elapsed": 394,
     "status": "ok",
     "timestamp": 1551674327102,
     "user": {
      "displayName": "최선열",
      "photoUrl": "",
      "userId": "00663027191814710813"
     },
     "user_tz": -540
    },
    "id": "WP3XnugUlo6d",
    "outputId": "57af637b-8218-496a-b953-aa728e6983af"
   },
   "outputs": [
    {
     "data": {
      "text/html": [
       "<div>\n",
       "<style scoped>\n",
       "    .dataframe tbody tr th:only-of-type {\n",
       "        vertical-align: middle;\n",
       "    }\n",
       "\n",
       "    .dataframe tbody tr th {\n",
       "        vertical-align: top;\n",
       "    }\n",
       "\n",
       "    .dataframe thead th {\n",
       "        text-align: right;\n",
       "    }\n",
       "</style>\n",
       "<table border=\"1\" class=\"dataframe\">\n",
       "  <thead>\n",
       "    <tr style=\"text-align: right;\">\n",
       "      <th></th>\n",
       "      <th>class</th>\n",
       "      <th>l_name</th>\n",
       "      <th>f_name</th>\n",
       "      <th>history</th>\n",
       "      <th>english</th>\n",
       "      <th>math</th>\n",
       "      <th>social_studies</th>\n",
       "      <th>science</th>\n",
       "    </tr>\n",
       "  </thead>\n",
       "  <tbody>\n",
       "    <tr>\n",
       "      <th>0</th>\n",
       "      <td>1</td>\n",
       "      <td>Smith</td>\n",
       "      <td>John</td>\n",
       "      <td>80</td>\n",
       "      <td>92</td>\n",
       "      <td>70</td>\n",
       "      <td>65</td>\n",
       "      <td>92</td>\n",
       "    </tr>\n",
       "    <tr>\n",
       "      <th>1</th>\n",
       "      <td>1</td>\n",
       "      <td>Schafer</td>\n",
       "      <td>Elise</td>\n",
       "      <td>91</td>\n",
       "      <td>75</td>\n",
       "      <td>90</td>\n",
       "      <td>68</td>\n",
       "      <td>85</td>\n",
       "    </tr>\n",
       "    <tr>\n",
       "      <th>2</th>\n",
       "      <td>2</td>\n",
       "      <td>Zimmermann</td>\n",
       "      <td>Kate</td>\n",
       "      <td>86</td>\n",
       "      <td>76</td>\n",
       "      <td>42</td>\n",
       "      <td>72</td>\n",
       "      <td>88</td>\n",
       "    </tr>\n",
       "    <tr>\n",
       "      <th>3</th>\n",
       "      <td>2</td>\n",
       "      <td>Mendoza</td>\n",
       "      <td>James</td>\n",
       "      <td>77</td>\n",
       "      <td>92</td>\n",
       "      <td>52</td>\n",
       "      <td>60</td>\n",
       "      <td>80</td>\n",
       "    </tr>\n",
       "    <tr>\n",
       "      <th>4</th>\n",
       "      <td>3</td>\n",
       "      <td>Park</td>\n",
       "      <td>Jay</td>\n",
       "      <td>75</td>\n",
       "      <td>85</td>\n",
       "      <td>85</td>\n",
       "      <td>92</td>\n",
       "      <td>95</td>\n",
       "    </tr>\n",
       "    <tr>\n",
       "      <th>5</th>\n",
       "      <td>3</td>\n",
       "      <td>Randow</td>\n",
       "      <td>Emma</td>\n",
       "      <td>96</td>\n",
       "      <td>90</td>\n",
       "      <td>95</td>\n",
       "      <td>81</td>\n",
       "      <td>72</td>\n",
       "    </tr>\n",
       "    <tr>\n",
       "      <th>6</th>\n",
       "      <td>4</td>\n",
       "      <td>Thompson</td>\n",
       "      <td>Sarah</td>\n",
       "      <td>91</td>\n",
       "      <td>81</td>\n",
       "      <td>92</td>\n",
       "      <td>81</td>\n",
       "      <td>73</td>\n",
       "    </tr>\n",
       "  </tbody>\n",
       "</table>\n",
       "</div>"
      ],
      "text/plain": [
       "  class      l_name f_name  history  english  math  social_studies  science\n",
       "0     1       Smith   John       80       92    70              65       92\n",
       "1     1     Schafer  Elise       91       75    90              68       85\n",
       "2     2  Zimmermann   Kate       86       76    42              72       88\n",
       "3     2     Mendoza  James       77       92    52              60       80\n",
       "4     3        Park    Jay       75       85    85              92       95\n",
       "5     3      Randow   Emma       96       90    95              81       72\n",
       "6     4    Thompson  Sarah       91       81    92              81       73"
      ]
     },
     "execution_count": 4,
     "metadata": {},
     "output_type": "execute_result"
    }
   ],
   "source": [
    "columns = [\"class\",\"l_name\", \"f_name\", \"history\", \"english\", \"math\", \"social_studies\", \"science\"]\n",
    "scores = [[\"1\", \"Smith\", \"John\", 80, 92, 70, 65, 92],\n",
    "          [\"1\", \"Schafer\", \"Elise\", 91, 75, 90, 68, 85],\n",
    "          [\"2\", \"Zimmermann\", \"Kate\", 86, 76, 42, 72, 88],\n",
    "          [\"2\", \"Mendoza\", \"James\", 77, 92, 52, 60, 80],\n",
    "          [\"3\", \"Park\", \"Jay\", 75, 85, 85, 92, 95],\n",
    "          [\"3\", \"Randow\", \"Emma\", 96, 90, 95, 81, 72],\n",
    "          [\"4\", \"Thompson\", \"Sarah\", 91, 81, 92, 81, 73]]\n",
    "\n",
    "df = pd.DataFrame(scores,columns=columns)\n",
    "df"
   ]
  },
  {
   "cell_type": "markdown",
   "metadata": {
    "id": "Rg9TEPR8jS5o"
   },
   "source": [
    "# \\[1. DataFrame Indexing, Slicing and Subsetting based on Columns\\]\n",
    "\n",
    "Let's look at how to select a subset of a DataFrame based on columns."
   ]
  },
  {
   "cell_type": "markdown",
   "metadata": {
    "id": "Arf8vqDqjS5x"
   },
   "source": [
    "### (1) Selecting a single column\n",
    "\n",
    "To select a single column, insert the column name into square brackets <code>[&nbsp;]</code> or use a dot operator as **`df_name.column_name`**.\n",
    "\n",
    "*&nbsp;Note that `df` stands for DataFrame."
   ]
  },
  {
   "cell_type": "code",
   "execution_count": 5,
   "metadata": {
    "cellView": "both",
    "colab": {
     "base_uri": "https://localhost:8080/",
     "height": 33
    },
    "executionInfo": {
     "elapsed": 684,
     "status": "ok",
     "timestamp": 1551674329123,
     "user": {
      "displayName": "최선열",
      "photoUrl": "",
      "userId": "00663027191814710813"
     },
     "user_tz": -540
    },
    "id": "4VDSeR7jjS50",
    "outputId": "ec26255a-793f-4295-9617-79c62d490c10"
   },
   "outputs": [
    {
     "data": {
      "text/plain": [
       "0    80\n",
       "1    91\n",
       "2    86\n",
       "3    77\n",
       "4    75\n",
       "5    96\n",
       "6    91\n",
       "Name: history, dtype: int64"
      ]
     },
     "execution_count": 5,
     "metadata": {},
     "output_type": "execute_result"
    }
   ],
   "source": [
    "# Selecting the entire column for history scores\n",
    "df['history'] "
   ]
  },
  {
   "cell_type": "code",
   "execution_count": 6,
   "metadata": {
    "colab": {
     "base_uri": "https://localhost:8080/",
     "height": 33
    },
    "executionInfo": {
     "elapsed": 513,
     "status": "ok",
     "timestamp": 1551674329403,
     "user": {
      "displayName": "최선열",
      "photoUrl": "",
      "userId": "00663027191814710813"
     },
     "user_tz": -540
    },
    "id": "O513g6Q9jS57",
    "outputId": "1bbcdadd-b9ca-4f25-d170-28e80f496056",
    "scrolled": true
   },
   "outputs": [
    {
     "data": {
      "text/plain": [
       "0    80\n",
       "1    91\n",
       "2    86\n",
       "3    77\n",
       "4    75\n",
       "5    96\n",
       "6    91\n",
       "Name: history, dtype: int64"
      ]
     },
     "execution_count": 6,
     "metadata": {},
     "output_type": "execute_result"
    }
   ],
   "source": [
    "# Selecting the entire column for history scores using a dot operator\n",
    "df.history"
   ]
  },
  {
   "cell_type": "markdown",
   "metadata": {
    "id": "P1K-kJ-cV9zS"
   },
   "source": [
    "To select multiple columns, pass a list of column names to the square brackets <code>[&nbsp;&nbsp;]</code>."
   ]
  },
  {
   "cell_type": "code",
   "execution_count": 5,
   "metadata": {
    "id": "H-NGQD3YV9zT",
    "outputId": "7916fc88-a493-4475-82ec-e36b95671a8b",
    "scrolled": false
   },
   "outputs": [
    {
     "data": {
      "text/html": [
       "<div>\n",
       "<style scoped>\n",
       "    .dataframe tbody tr th:only-of-type {\n",
       "        vertical-align: middle;\n",
       "    }\n",
       "\n",
       "    .dataframe tbody tr th {\n",
       "        vertical-align: top;\n",
       "    }\n",
       "\n",
       "    .dataframe thead th {\n",
       "        text-align: right;\n",
       "    }\n",
       "</style>\n",
       "<table border=\"1\" class=\"dataframe\">\n",
       "  <thead>\n",
       "    <tr style=\"text-align: right;\">\n",
       "      <th></th>\n",
       "      <th>history</th>\n",
       "      <th>english</th>\n",
       "      <th>math</th>\n",
       "    </tr>\n",
       "  </thead>\n",
       "  <tbody>\n",
       "    <tr>\n",
       "      <th>0</th>\n",
       "      <td>80</td>\n",
       "      <td>92</td>\n",
       "      <td>70</td>\n",
       "    </tr>\n",
       "    <tr>\n",
       "      <th>1</th>\n",
       "      <td>91</td>\n",
       "      <td>75</td>\n",
       "      <td>90</td>\n",
       "    </tr>\n",
       "    <tr>\n",
       "      <th>2</th>\n",
       "      <td>86</td>\n",
       "      <td>76</td>\n",
       "      <td>42</td>\n",
       "    </tr>\n",
       "    <tr>\n",
       "      <th>3</th>\n",
       "      <td>77</td>\n",
       "      <td>92</td>\n",
       "      <td>52</td>\n",
       "    </tr>\n",
       "    <tr>\n",
       "      <th>4</th>\n",
       "      <td>75</td>\n",
       "      <td>85</td>\n",
       "      <td>85</td>\n",
       "    </tr>\n",
       "    <tr>\n",
       "      <th>5</th>\n",
       "      <td>96</td>\n",
       "      <td>90</td>\n",
       "      <td>95</td>\n",
       "    </tr>\n",
       "    <tr>\n",
       "      <th>6</th>\n",
       "      <td>91</td>\n",
       "      <td>81</td>\n",
       "      <td>92</td>\n",
       "    </tr>\n",
       "  </tbody>\n",
       "</table>\n",
       "</div>"
      ],
      "text/plain": [
       "   history  english  math\n",
       "0       80       92    70\n",
       "1       91       75    90\n",
       "2       86       76    42\n",
       "3       77       92    52\n",
       "4       75       85    85\n",
       "5       96       90    95\n",
       "6       91       81    92"
      ]
     },
     "execution_count": 5,
     "metadata": {},
     "output_type": "execute_result"
    }
   ],
   "source": [
    "df[[\"history\",\"english\",\"math\"]] "
   ]
  },
  {
   "cell_type": "markdown",
   "metadata": {
    "id": "rFfcJ3zwYTVF"
   },
   "source": [
    "### (2) Searching for unique values\n",
    "\n",
    "- `.unique()` returns a list of unique values in the selected column.\n",
    "\n",
    "- `.value_counts()` returns the frequency of each unique value in the selected column.\n"
   ]
  },
  {
   "cell_type": "markdown",
   "metadata": {
    "id": "ngrtg5CLV9zX"
   },
   "source": [
    "#### `.unique()`"
   ]
  },
  {
   "cell_type": "code",
   "execution_count": 6,
   "metadata": {
    "colab": {
     "base_uri": "https://localhost:8080/",
     "height": 44
    },
    "id": "gDfvJSpEYTVJ",
    "outputId": "12bc002f-8c80-4133-9e7f-15f54f59d94a",
    "scrolled": false
   },
   "outputs": [
    {
     "data": {
      "text/plain": [
       "array(['1', '2', '3', '4'], dtype=object)"
      ]
     },
     "execution_count": 6,
     "metadata": {},
     "output_type": "execute_result"
    }
   ],
   "source": [
    "df.loc[:, 'class'].unique() # checking the unique values from the `class` column"
   ]
  },
  {
   "cell_type": "markdown",
   "metadata": {
    "id": "rkLbZ_QWV9za"
   },
   "source": [
    "#### `.value_counts()`"
   ]
  },
  {
   "cell_type": "code",
   "execution_count": 7,
   "metadata": {
    "id": "0DU8QA2OYTVG",
    "outputId": "a2d0c2e2-2283-46ab-9859-30c9f428925b"
   },
   "outputs": [
    {
     "data": {
      "text/plain": [
       "1    2\n",
       "3    2\n",
       "2    2\n",
       "4    1\n",
       "Name: class, dtype: int64"
      ]
     },
     "execution_count": 7,
     "metadata": {},
     "output_type": "execute_result"
    }
   ],
   "source": [
    "df.loc[:, 'class'].value_counts() # checking how many times each unique value appeared in the `class` column"
   ]
  },
  {
   "cell_type": "markdown",
   "metadata": {
    "id": "0uP1eEwOYTVN"
   },
   "source": [
    "### (3) Sorting a DataFrame by column labels ** - `.sort_index()`** \n",
    "\n",
    "`.sort_index()` basically sorts DataFrame objects by labels along a specific axis. By passing `axis = 1` to the method, you can sort a DataFrame object based on column labels."
   ]
  },
  {
   "cell_type": "markdown",
   "metadata": {
    "id": "pLuyQzWwV9ze"
   },
   "source": [
    "#### `.sort_index(axis=1)`"
   ]
  },
  {
   "cell_type": "code",
   "execution_count": 1,
   "metadata": {
    "colab": {
     "base_uri": "https://localhost:8080/",
     "height": 372
    },
    "id": "wCKKtGhmYTVT",
    "outputId": "37a8c8ee-cd57-4fc1-e6b8-b699d8e8796f",
    "scrolled": true
   },
   "outputs": [
    {
     "ename": "NameError",
     "evalue": "name 'df' is not defined",
     "output_type": "error",
     "traceback": [
      "\u001b[1;31m---------------------------------------------------------------------------\u001b[0m",
      "\u001b[1;31mNameError\u001b[0m                                 Traceback (most recent call last)",
      "\u001b[1;32m<ipython-input-1-32791db02011>\u001b[0m in \u001b[0;36m<module>\u001b[1;34m()\u001b[0m\n\u001b[0;32m      1\u001b[0m \u001b[1;31m# Rearranging the student report cards by column labels in ascending order\u001b[0m\u001b[1;33m\u001b[0m\u001b[1;33m\u001b[0m\u001b[0m\n\u001b[1;32m----> 2\u001b[1;33m \u001b[0mdf\u001b[0m\u001b[1;33m.\u001b[0m\u001b[0msort_index\u001b[0m\u001b[1;33m(\u001b[0m\u001b[0maxis\u001b[0m\u001b[1;33m=\u001b[0m\u001b[1;36m1\u001b[0m\u001b[1;33m)\u001b[0m\u001b[1;33m\u001b[0m\u001b[0m\n\u001b[0m",
      "\u001b[1;31mNameError\u001b[0m: name 'df' is not defined"
     ]
    }
   ],
   "source": [
    "# Rearranging the student report cards by column labels in ascending order \n",
    "df.sort_index(axis=1)"
   ]
  },
  {
   "cell_type": "markdown",
   "metadata": {
    "id": "HW3YwlhOYTVW"
   },
   "source": [
    "### (4) Sorting by the values with **`.sort_values()`** \n",
    "\n",
    "Sort by the values along either axis.\n",
    "\n",
    "A DataFrame object can be sorted not only by labels, but also by values along a specific axis with `.sort_values()`. By default, this method rearranges the DataFrame in ascending order."
   ]
  },
  {
   "cell_type": "markdown",
   "metadata": {
    "id": "muVyMt8LV9zh"
   },
   "source": [
    "#### `.sort_values()`"
   ]
  },
  {
   "cell_type": "code",
   "execution_count": 9,
   "metadata": {
    "colab": {
     "base_uri": "https://localhost:8080/",
     "height": 372
    },
    "id": "vPjC_5lcYTVW",
    "outputId": "e2f58601-7e94-4bde-f398-bccb0950f8dc"
   },
   "outputs": [
    {
     "data": {
      "text/html": [
       "<div>\n",
       "<style scoped>\n",
       "    .dataframe tbody tr th:only-of-type {\n",
       "        vertical-align: middle;\n",
       "    }\n",
       "\n",
       "    .dataframe tbody tr th {\n",
       "        vertical-align: top;\n",
       "    }\n",
       "\n",
       "    .dataframe thead th {\n",
       "        text-align: right;\n",
       "    }\n",
       "</style>\n",
       "<table border=\"1\" class=\"dataframe\">\n",
       "  <thead>\n",
       "    <tr style=\"text-align: right;\">\n",
       "      <th></th>\n",
       "      <th>class</th>\n",
       "      <th>l_name</th>\n",
       "      <th>f_name</th>\n",
       "      <th>history</th>\n",
       "      <th>english</th>\n",
       "      <th>math</th>\n",
       "      <th>social_studies</th>\n",
       "      <th>science</th>\n",
       "    </tr>\n",
       "  </thead>\n",
       "  <tbody>\n",
       "    <tr>\n",
       "      <th>4</th>\n",
       "      <td>3</td>\n",
       "      <td>Park</td>\n",
       "      <td>Jay</td>\n",
       "      <td>75</td>\n",
       "      <td>85</td>\n",
       "      <td>85</td>\n",
       "      <td>92</td>\n",
       "      <td>95</td>\n",
       "    </tr>\n",
       "    <tr>\n",
       "      <th>3</th>\n",
       "      <td>2</td>\n",
       "      <td>Mendoza</td>\n",
       "      <td>James</td>\n",
       "      <td>77</td>\n",
       "      <td>92</td>\n",
       "      <td>52</td>\n",
       "      <td>60</td>\n",
       "      <td>80</td>\n",
       "    </tr>\n",
       "    <tr>\n",
       "      <th>0</th>\n",
       "      <td>1</td>\n",
       "      <td>Smith</td>\n",
       "      <td>John</td>\n",
       "      <td>80</td>\n",
       "      <td>92</td>\n",
       "      <td>70</td>\n",
       "      <td>65</td>\n",
       "      <td>92</td>\n",
       "    </tr>\n",
       "    <tr>\n",
       "      <th>2</th>\n",
       "      <td>2</td>\n",
       "      <td>Zimmermann</td>\n",
       "      <td>Kate</td>\n",
       "      <td>86</td>\n",
       "      <td>76</td>\n",
       "      <td>42</td>\n",
       "      <td>72</td>\n",
       "      <td>88</td>\n",
       "    </tr>\n",
       "    <tr>\n",
       "      <th>1</th>\n",
       "      <td>1</td>\n",
       "      <td>Schafer</td>\n",
       "      <td>Elise</td>\n",
       "      <td>91</td>\n",
       "      <td>75</td>\n",
       "      <td>90</td>\n",
       "      <td>68</td>\n",
       "      <td>85</td>\n",
       "    </tr>\n",
       "    <tr>\n",
       "      <th>6</th>\n",
       "      <td>4</td>\n",
       "      <td>Thompson</td>\n",
       "      <td>Sarah</td>\n",
       "      <td>91</td>\n",
       "      <td>81</td>\n",
       "      <td>92</td>\n",
       "      <td>81</td>\n",
       "      <td>73</td>\n",
       "    </tr>\n",
       "    <tr>\n",
       "      <th>5</th>\n",
       "      <td>3</td>\n",
       "      <td>Randow</td>\n",
       "      <td>Emma</td>\n",
       "      <td>96</td>\n",
       "      <td>90</td>\n",
       "      <td>95</td>\n",
       "      <td>81</td>\n",
       "      <td>72</td>\n",
       "    </tr>\n",
       "  </tbody>\n",
       "</table>\n",
       "</div>"
      ],
      "text/plain": [
       "  class      l_name f_name  history  english  math  social_studies  science\n",
       "4     3        Park    Jay       75       85    85              92       95\n",
       "3     2     Mendoza  James       77       92    52              60       80\n",
       "0     1       Smith   John       80       92    70              65       92\n",
       "2     2  Zimmermann   Kate       86       76    42              72       88\n",
       "1     1     Schafer  Elise       91       75    90              68       85\n",
       "6     4    Thompson  Sarah       91       81    92              81       73\n",
       "5     3      Randow   Emma       96       90    95              81       72"
      ]
     },
     "execution_count": 9,
     "metadata": {},
     "output_type": "execute_result"
    }
   ],
   "source": [
    "df.sort_values('history') # DataFrame rows sorted in ascending order by the history score "
   ]
  },
  {
   "cell_type": "markdown",
   "metadata": {
    "id": "U0o9VeN6YTVs"
   },
   "source": [
    "### (5) Iterating over DataFrame columns - **`.iteritems()`**\n",
    "\n",
    "`.iteritems()` Iterates over the DataFrame columns, returning a tuple with the column name and the content as a Series."
   ]
  },
  {
   "cell_type": "markdown",
   "metadata": {
    "id": "wHUIPnKhV9zk"
   },
   "source": [
    "#### `.iteritems()`"
   ]
  },
  {
   "cell_type": "code",
   "execution_count": 9,
   "metadata": {
    "colab": {
     "base_uri": "https://localhost:8080/",
     "height": 252
    },
    "id": "DrtdhXT6YTVt",
    "outputId": "1b058ade-5c31-457e-e59c-dae867d2c0bf",
    "scrolled": true
   },
   "outputs": [
    {
     "name": "stdout",
     "output_type": "stream",
     "text": [
      "Column Name: class \n",
      " Column Number: 0\n",
      "0    1\n",
      "1    1\n",
      "2    2\n",
      "3    2\n",
      "4    3\n",
      "5    3\n",
      "6    4\n",
      "Name: class, dtype: object\n",
      "\n",
      "\n",
      "Column Name: l_name \n",
      " Column Number: 1\n",
      "0         Smith\n",
      "1       Schafer\n",
      "2    Zimmermann\n",
      "3       Mendoza\n",
      "4          Park\n",
      "5        Randow\n",
      "6      Thompson\n",
      "Name: l_name, dtype: object\n",
      "\n",
      "\n"
     ]
    }
   ],
   "source": [
    "col_num = 0\n",
    "for idx, col in df.iteritems():\n",
    "    if col_num == 2: # terminates the iteration when `col_num` reaches 2\n",
    "        break \n",
    "    print(\"Column Name:\", idx, \"\\n\", \"Column Number:\", col_num)\n",
    "    print(col)\n",
    "    print(\"\\n\")\n",
    "    col_num += 1\n",
    "    "
   ]
  },
  {
   "cell_type": "markdown",
   "metadata": {
    "id": "utoM1O3dV9zm"
   },
   "source": [
    "# \\[2. DataFrame Indexing, Slicing and Subsetting based on Rows\\]\n",
    "\n",
    "Let's learn how you can select a subset of a DataFrame based on rows."
   ]
  },
  {
   "cell_type": "markdown",
   "metadata": {
    "id": "0IExEfhVV9zn"
   },
   "source": [
    "Before going on row selection, you can check or rename rows of a DataFrame object by passing a list of new row labels to `.index`. Here, the new label list must be of the same length as the given DataFrame. \n"
   ]
  },
  {
   "cell_type": "code",
   "execution_count": 11,
   "metadata": {
    "id": "INb9RAlUV9zo",
    "outputId": "3d05f703-3172-468b-fada-21ede1a11fc4",
    "scrolled": true
   },
   "outputs": [
    {
     "data": {
      "text/html": [
       "<div>\n",
       "<style scoped>\n",
       "    .dataframe tbody tr th:only-of-type {\n",
       "        vertical-align: middle;\n",
       "    }\n",
       "\n",
       "    .dataframe tbody tr th {\n",
       "        vertical-align: top;\n",
       "    }\n",
       "\n",
       "    .dataframe thead th {\n",
       "        text-align: right;\n",
       "    }\n",
       "</style>\n",
       "<table border=\"1\" class=\"dataframe\">\n",
       "  <thead>\n",
       "    <tr style=\"text-align: right;\">\n",
       "      <th></th>\n",
       "      <th>class</th>\n",
       "      <th>l_name</th>\n",
       "      <th>f_name</th>\n",
       "      <th>history</th>\n",
       "      <th>english</th>\n",
       "      <th>math</th>\n",
       "      <th>social_studies</th>\n",
       "      <th>science</th>\n",
       "    </tr>\n",
       "  </thead>\n",
       "  <tbody>\n",
       "    <tr>\n",
       "      <th>a</th>\n",
       "      <td>1</td>\n",
       "      <td>Smith</td>\n",
       "      <td>John</td>\n",
       "      <td>80</td>\n",
       "      <td>92</td>\n",
       "      <td>70</td>\n",
       "      <td>65</td>\n",
       "      <td>92</td>\n",
       "    </tr>\n",
       "    <tr>\n",
       "      <th>b</th>\n",
       "      <td>1</td>\n",
       "      <td>Schafer</td>\n",
       "      <td>Elise</td>\n",
       "      <td>91</td>\n",
       "      <td>75</td>\n",
       "      <td>90</td>\n",
       "      <td>68</td>\n",
       "      <td>85</td>\n",
       "    </tr>\n",
       "    <tr>\n",
       "      <th>c</th>\n",
       "      <td>2</td>\n",
       "      <td>Zimmermann</td>\n",
       "      <td>Kate</td>\n",
       "      <td>86</td>\n",
       "      <td>76</td>\n",
       "      <td>42</td>\n",
       "      <td>72</td>\n",
       "      <td>88</td>\n",
       "    </tr>\n",
       "    <tr>\n",
       "      <th>d</th>\n",
       "      <td>2</td>\n",
       "      <td>Mendoza</td>\n",
       "      <td>James</td>\n",
       "      <td>77</td>\n",
       "      <td>92</td>\n",
       "      <td>52</td>\n",
       "      <td>60</td>\n",
       "      <td>80</td>\n",
       "    </tr>\n",
       "    <tr>\n",
       "      <th>e</th>\n",
       "      <td>3</td>\n",
       "      <td>Park</td>\n",
       "      <td>Jay</td>\n",
       "      <td>75</td>\n",
       "      <td>85</td>\n",
       "      <td>85</td>\n",
       "      <td>92</td>\n",
       "      <td>95</td>\n",
       "    </tr>\n",
       "    <tr>\n",
       "      <th>f</th>\n",
       "      <td>3</td>\n",
       "      <td>Randow</td>\n",
       "      <td>Emma</td>\n",
       "      <td>96</td>\n",
       "      <td>90</td>\n",
       "      <td>95</td>\n",
       "      <td>81</td>\n",
       "      <td>72</td>\n",
       "    </tr>\n",
       "    <tr>\n",
       "      <th>g</th>\n",
       "      <td>4</td>\n",
       "      <td>Thompson</td>\n",
       "      <td>Sarah</td>\n",
       "      <td>91</td>\n",
       "      <td>81</td>\n",
       "      <td>92</td>\n",
       "      <td>81</td>\n",
       "      <td>73</td>\n",
       "    </tr>\n",
       "  </tbody>\n",
       "</table>\n",
       "</div>"
      ],
      "text/plain": [
       "  class      l_name f_name  history  english  math  social_studies  science\n",
       "a     1       Smith   John       80       92    70              65       92\n",
       "b     1     Schafer  Elise       91       75    90              68       85\n",
       "c     2  Zimmermann   Kate       86       76    42              72       88\n",
       "d     2     Mendoza  James       77       92    52              60       80\n",
       "e     3        Park    Jay       75       85    85              92       95\n",
       "f     3      Randow   Emma       96       90    95              81       72\n",
       "g     4    Thompson  Sarah       91       81    92              81       73"
      ]
     },
     "execution_count": 11,
     "metadata": {},
     "output_type": "execute_result"
    }
   ],
   "source": [
    "# Let's change row labels as follows.\n",
    "df.index = [\"a\", \"b\", \"c\", \"d\", \"e\", \"f\", \"g\"]\n",
    "df"
   ]
  },
  {
   "cell_type": "markdown",
   "metadata": {
    "id": "gmMr2MwqV9zn"
   },
   "source": [
    "### (1) Selecting rows -  **`.loc[]`**  "
   ]
  },
  {
   "cell_type": "markdown",
   "metadata": {
    "id": "TBhMLlxsV9zq"
   },
   "source": [
    "**`loc`** is a label-based indexer. If you want select rows by labels, use `.loc[]`.<br>\n",
    "\n",
    "For a single-row selection, use **`df.loc[row_name]`** to get the entire row as a Series."
   ]
  },
  {
   "cell_type": "code",
   "execution_count": 12,
   "metadata": {
    "colab": {
     "base_uri": "https://localhost:8080/",
     "height": 33
    },
    "executionInfo": {
     "elapsed": 679,
     "status": "ok",
     "timestamp": 1551674330273,
     "user": {
      "displayName": "최선열",
      "photoUrl": "",
      "userId": "00663027191814710813"
     },
     "user_tz": -540
    },
    "id": "Vzf0EHEAjS6D",
    "outputId": "9762763b-f37f-4426-a497-06a52bf3b9ac"
   },
   "outputs": [
    {
     "data": {
      "text/plain": [
       "class                 1\n",
       "l_name            Smith\n",
       "f_name             John\n",
       "history              80\n",
       "english              92\n",
       "math                 70\n",
       "social_studies       65\n",
       "science              92\n",
       "Name: a, dtype: object"
      ]
     },
     "execution_count": 12,
     "metadata": {},
     "output_type": "execute_result"
    }
   ],
   "source": [
    "# Select row 'a'\n",
    "df.loc[\"a\"]"
   ]
  },
  {
   "cell_type": "markdown",
   "metadata": {
    "id": "WyqOU3J7V9zu"
   },
   "source": [
    "To select multiple rows, pass the list of row labels to **`df[]`**. It will then return a subset of the DataFrame as a DataFrame."
   ]
  },
  {
   "cell_type": "code",
   "execution_count": 13,
   "metadata": {
    "id": "yaT84fKbV9zu",
    "outputId": "eab75598-98f5-4780-c628-bf0ba8019b0a"
   },
   "outputs": [
    {
     "data": {
      "text/html": [
       "<div>\n",
       "<style scoped>\n",
       "    .dataframe tbody tr th:only-of-type {\n",
       "        vertical-align: middle;\n",
       "    }\n",
       "\n",
       "    .dataframe tbody tr th {\n",
       "        vertical-align: top;\n",
       "    }\n",
       "\n",
       "    .dataframe thead th {\n",
       "        text-align: right;\n",
       "    }\n",
       "</style>\n",
       "<table border=\"1\" class=\"dataframe\">\n",
       "  <thead>\n",
       "    <tr style=\"text-align: right;\">\n",
       "      <th></th>\n",
       "      <th>class</th>\n",
       "      <th>l_name</th>\n",
       "      <th>f_name</th>\n",
       "      <th>history</th>\n",
       "      <th>english</th>\n",
       "      <th>math</th>\n",
       "      <th>social_studies</th>\n",
       "      <th>science</th>\n",
       "    </tr>\n",
       "  </thead>\n",
       "  <tbody>\n",
       "    <tr>\n",
       "      <th>a</th>\n",
       "      <td>1</td>\n",
       "      <td>Smith</td>\n",
       "      <td>John</td>\n",
       "      <td>80</td>\n",
       "      <td>92</td>\n",
       "      <td>70</td>\n",
       "      <td>65</td>\n",
       "      <td>92</td>\n",
       "    </tr>\n",
       "    <tr>\n",
       "      <th>b</th>\n",
       "      <td>1</td>\n",
       "      <td>Schafer</td>\n",
       "      <td>Elise</td>\n",
       "      <td>91</td>\n",
       "      <td>75</td>\n",
       "      <td>90</td>\n",
       "      <td>68</td>\n",
       "      <td>85</td>\n",
       "    </tr>\n",
       "  </tbody>\n",
       "</table>\n",
       "</div>"
      ],
      "text/plain": [
       "  class   l_name f_name  history  english  math  social_studies  science\n",
       "a     1    Smith   John       80       92    70              65       92\n",
       "b     1  Schafer  Elise       91       75    90              68       85"
      ]
     },
     "execution_count": 13,
     "metadata": {},
     "output_type": "execute_result"
    }
   ],
   "source": [
    "# Get row 'a' and 'b'\n",
    "\n",
    "df.loc[[\"a\", \"b\"]]"
   ]
  },
  {
   "cell_type": "markdown",
   "metadata": {
    "id": "YzKx11qnV9zw"
   },
   "source": [
    "You can range rows for the selection of multiple consecutive rows."
   ]
  },
  {
   "cell_type": "code",
   "execution_count": 14,
   "metadata": {
    "id": "97WxNZBrV9zx",
    "outputId": "70a89ee9-92b9-4605-e4f1-6285abb9af82",
    "scrolled": true
   },
   "outputs": [
    {
     "data": {
      "text/html": [
       "<div>\n",
       "<style scoped>\n",
       "    .dataframe tbody tr th:only-of-type {\n",
       "        vertical-align: middle;\n",
       "    }\n",
       "\n",
       "    .dataframe tbody tr th {\n",
       "        vertical-align: top;\n",
       "    }\n",
       "\n",
       "    .dataframe thead th {\n",
       "        text-align: right;\n",
       "    }\n",
       "</style>\n",
       "<table border=\"1\" class=\"dataframe\">\n",
       "  <thead>\n",
       "    <tr style=\"text-align: right;\">\n",
       "      <th></th>\n",
       "      <th>class</th>\n",
       "      <th>l_name</th>\n",
       "      <th>f_name</th>\n",
       "      <th>history</th>\n",
       "      <th>english</th>\n",
       "      <th>math</th>\n",
       "      <th>social_studies</th>\n",
       "      <th>science</th>\n",
       "    </tr>\n",
       "  </thead>\n",
       "  <tbody>\n",
       "    <tr>\n",
       "      <th>a</th>\n",
       "      <td>1</td>\n",
       "      <td>Smith</td>\n",
       "      <td>John</td>\n",
       "      <td>80</td>\n",
       "      <td>92</td>\n",
       "      <td>70</td>\n",
       "      <td>65</td>\n",
       "      <td>92</td>\n",
       "    </tr>\n",
       "    <tr>\n",
       "      <th>b</th>\n",
       "      <td>1</td>\n",
       "      <td>Schafer</td>\n",
       "      <td>Elise</td>\n",
       "      <td>91</td>\n",
       "      <td>75</td>\n",
       "      <td>90</td>\n",
       "      <td>68</td>\n",
       "      <td>85</td>\n",
       "    </tr>\n",
       "    <tr>\n",
       "      <th>c</th>\n",
       "      <td>2</td>\n",
       "      <td>Zimmermann</td>\n",
       "      <td>Kate</td>\n",
       "      <td>86</td>\n",
       "      <td>76</td>\n",
       "      <td>42</td>\n",
       "      <td>72</td>\n",
       "      <td>88</td>\n",
       "    </tr>\n",
       "  </tbody>\n",
       "</table>\n",
       "</div>"
      ],
      "text/plain": [
       "  class      l_name f_name  history  english  math  social_studies  science\n",
       "a     1       Smith   John       80       92    70              65       92\n",
       "b     1     Schafer  Elise       91       75    90              68       85\n",
       "c     2  Zimmermann   Kate       86       76    42              72       88"
      ]
     },
     "execution_count": 14,
     "metadata": {},
     "output_type": "execute_result"
    }
   ],
   "source": [
    "# Get the entire elements rows from 'a'(inclusive) to c(inclusive)\n",
    "df.loc[\"a\":\"c\"]"
   ]
  },
  {
   "cell_type": "markdown",
   "metadata": {
    "id": "WNW20ceLV9zz"
   },
   "source": [
    "What if you want to select sets of data by both row and column labels?\n",
    "\n",
    "You can simply pass the row and column labels of interest to the loc indexer."
   ]
  },
  {
   "cell_type": "code",
   "execution_count": 15,
   "metadata": {
    "id": "BIJ8hJ0sV9zz",
    "outputId": "78d23f60-fd5e-4b24-ede9-9e639fb4efa2"
   },
   "outputs": [
    {
     "data": {
      "text/html": [
       "<div>\n",
       "<style scoped>\n",
       "    .dataframe tbody tr th:only-of-type {\n",
       "        vertical-align: middle;\n",
       "    }\n",
       "\n",
       "    .dataframe tbody tr th {\n",
       "        vertical-align: top;\n",
       "    }\n",
       "\n",
       "    .dataframe thead th {\n",
       "        text-align: right;\n",
       "    }\n",
       "</style>\n",
       "<table border=\"1\" class=\"dataframe\">\n",
       "  <thead>\n",
       "    <tr style=\"text-align: right;\">\n",
       "      <th></th>\n",
       "      <th>l_name</th>\n",
       "      <th>history</th>\n",
       "      <th>english</th>\n",
       "      <th>math</th>\n",
       "    </tr>\n",
       "  </thead>\n",
       "  <tbody>\n",
       "    <tr>\n",
       "      <th>a</th>\n",
       "      <td>Smith</td>\n",
       "      <td>80</td>\n",
       "      <td>92</td>\n",
       "      <td>70</td>\n",
       "    </tr>\n",
       "    <tr>\n",
       "      <th>b</th>\n",
       "      <td>Schafer</td>\n",
       "      <td>91</td>\n",
       "      <td>75</td>\n",
       "      <td>90</td>\n",
       "    </tr>\n",
       "  </tbody>\n",
       "</table>\n",
       "</div>"
      ],
      "text/plain": [
       "    l_name  history  english  math\n",
       "a    Smith       80       92    70\n",
       "b  Schafer       91       75    90"
      ]
     },
     "execution_count": 15,
     "metadata": {},
     "output_type": "execute_result"
    }
   ],
   "source": [
    "df.loc[[\"a\",\"b\"], # selecting values in row a and b\n",
    "       [\"l_name\",\"history\",\"english\",\"math\"]] # of column `l_name`, `history`, `english` and `math`."
   ]
  },
  {
   "cell_type": "markdown",
   "metadata": {
    "id": "8wiUqigbV9z3"
   },
   "source": [
    "if you are selecting all instead of specifying certain labels along an axis, use a colon(**`:`**) to indicate `all`."
   ]
  },
  {
   "cell_type": "code",
   "execution_count": 10,
   "metadata": {
    "id": "JnpbujIuV9z3",
    "outputId": "f671d60a-1777-4ed5-a58b-74db0e2c74b8"
   },
   "outputs": [
    {
     "data": {
      "text/plain": [
       "0    80\n",
       "1    91\n",
       "2    86\n",
       "3    77\n",
       "4    75\n",
       "5    96\n",
       "6    91\n",
       "Name: history, dtype: int64"
      ]
     },
     "execution_count": 10,
     "metadata": {},
     "output_type": "execute_result"
    }
   ],
   "source": [
    "df.loc[:,\"history\"] #  selecting values in the history column of all rows."
   ]
  },
  {
   "cell_type": "markdown",
   "metadata": {
    "id": "tqAfV0yPV9z5"
   },
   "source": [
    "### (2) Accessing/Selecting rows by positional values - **`.iloc[]`**\n",
    "`iloc` is a position-based indexer."
   ]
  },
  {
   "cell_type": "code",
   "execution_count": 17,
   "metadata": {
    "id": "0R6bigoHV9z5",
    "outputId": "e6f36bb9-6666-47f6-cbba-0afc7c57dfae"
   },
   "outputs": [
    {
     "data": {
      "text/plain": [
       "class                 1\n",
       "l_name            Smith\n",
       "f_name             John\n",
       "history              80\n",
       "english              92\n",
       "math                 70\n",
       "social_studies       65\n",
       "science              92\n",
       "Name: a, dtype: object"
      ]
     },
     "execution_count": 17,
     "metadata": {},
     "output_type": "execute_result"
    }
   ],
   "source": [
    "# Get 0th row.\n",
    "df.iloc[0]"
   ]
  },
  {
   "cell_type": "markdown",
   "metadata": {
    "id": "2OKrTXYpV9z7"
   },
   "source": [
    "Get the last row of the DataFrame by negative indexing. Since negative indexing proceeds backwards from the end to the beginning of an object, starting from -1, the last row can be taken with index  `-1`. "
   ]
  },
  {
   "cell_type": "code",
   "execution_count": 11,
   "metadata": {
    "id": "V0vetdyoV9z8",
    "outputId": "28e1807f-a9a1-4228-ae33-1d4189c11fdc"
   },
   "outputs": [
    {
     "data": {
      "text/plain": [
       "class                    4\n",
       "l_name            Thompson\n",
       "f_name               Sarah\n",
       "history                 91\n",
       "english                 81\n",
       "math                    92\n",
       "social_studies          81\n",
       "science                 73\n",
       "Name: 6, dtype: object"
      ]
     },
     "execution_count": 11,
     "metadata": {},
     "output_type": "execute_result"
    }
   ],
   "source": [
    "df.iloc[-1]"
   ]
  },
  {
   "cell_type": "markdown",
   "metadata": {
    "id": "V3PKUAoTV9z-"
   },
   "source": [
    "You can range the positional numbers of multiple consecutive rows to be accessed."
   ]
  },
  {
   "cell_type": "code",
   "execution_count": 12,
   "metadata": {
    "id": "L5alnR47V9z_",
    "outputId": "52ac7661-3e30-4c94-9a60-cda4f6965b78"
   },
   "outputs": [
    {
     "data": {
      "text/html": [
       "<div>\n",
       "<style scoped>\n",
       "    .dataframe tbody tr th:only-of-type {\n",
       "        vertical-align: middle;\n",
       "    }\n",
       "\n",
       "    .dataframe tbody tr th {\n",
       "        vertical-align: top;\n",
       "    }\n",
       "\n",
       "    .dataframe thead th {\n",
       "        text-align: right;\n",
       "    }\n",
       "</style>\n",
       "<table border=\"1\" class=\"dataframe\">\n",
       "  <thead>\n",
       "    <tr style=\"text-align: right;\">\n",
       "      <th></th>\n",
       "      <th>class</th>\n",
       "      <th>l_name</th>\n",
       "      <th>f_name</th>\n",
       "      <th>history</th>\n",
       "      <th>english</th>\n",
       "      <th>math</th>\n",
       "      <th>social_studies</th>\n",
       "      <th>science</th>\n",
       "    </tr>\n",
       "  </thead>\n",
       "  <tbody>\n",
       "    <tr>\n",
       "      <th>1</th>\n",
       "      <td>1</td>\n",
       "      <td>Schafer</td>\n",
       "      <td>Elise</td>\n",
       "      <td>91</td>\n",
       "      <td>75</td>\n",
       "      <td>90</td>\n",
       "      <td>68</td>\n",
       "      <td>85</td>\n",
       "    </tr>\n",
       "    <tr>\n",
       "      <th>2</th>\n",
       "      <td>2</td>\n",
       "      <td>Zimmermann</td>\n",
       "      <td>Kate</td>\n",
       "      <td>86</td>\n",
       "      <td>76</td>\n",
       "      <td>42</td>\n",
       "      <td>72</td>\n",
       "      <td>88</td>\n",
       "    </tr>\n",
       "  </tbody>\n",
       "</table>\n",
       "</div>"
      ],
      "text/plain": [
       "  class      l_name f_name  history  english  math  social_studies  science\n",
       "1     1     Schafer  Elise       91       75    90              68       85\n",
       "2     2  Zimmermann   Kate       86       76    42              72       88"
      ]
     },
     "execution_count": 12,
     "metadata": {},
     "output_type": "execute_result"
    }
   ],
   "source": [
    "# Access all values from row 1 up to row 3. Note that the endpoint, row 3 in this case, is exclusive when indexing with `iloc`\n",
    "df.iloc[1:3] "
   ]
  },
  {
   "cell_type": "markdown",
   "metadata": {
    "id": "aGWijPfYV90B"
   },
   "source": [
    "If you want to select values in specific rows of specific columns with `iloc`, you can do the following.<br>\n",
    "+ `df.iloc[row_numbers, column_numbers]`"
   ]
  },
  {
   "cell_type": "code",
   "execution_count": 20,
   "metadata": {
    "id": "9zq8MOFRV90B",
    "outputId": "af8ee749-48f6-4b10-a127-028f009aa57e"
   },
   "outputs": [
    {
     "data": {
      "text/html": [
       "<div>\n",
       "<style scoped>\n",
       "    .dataframe tbody tr th:only-of-type {\n",
       "        vertical-align: middle;\n",
       "    }\n",
       "\n",
       "    .dataframe tbody tr th {\n",
       "        vertical-align: top;\n",
       "    }\n",
       "\n",
       "    .dataframe thead th {\n",
       "        text-align: right;\n",
       "    }\n",
       "</style>\n",
       "<table border=\"1\" class=\"dataframe\">\n",
       "  <thead>\n",
       "    <tr style=\"text-align: right;\">\n",
       "      <th></th>\n",
       "      <th>class</th>\n",
       "      <th>l_name</th>\n",
       "    </tr>\n",
       "  </thead>\n",
       "  <tbody>\n",
       "    <tr>\n",
       "      <th>b</th>\n",
       "      <td>1</td>\n",
       "      <td>Schafer</td>\n",
       "    </tr>\n",
       "    <tr>\n",
       "      <th>c</th>\n",
       "      <td>2</td>\n",
       "      <td>Zimmermann</td>\n",
       "    </tr>\n",
       "  </tbody>\n",
       "</table>\n",
       "</div>"
      ],
      "text/plain": [
       "  class      l_name\n",
       "b     1     Schafer\n",
       "c     2  Zimmermann"
      ]
     },
     "execution_count": 20,
     "metadata": {},
     "output_type": "execute_result"
    }
   ],
   "source": [
    "df.iloc[1:3,0:2] # values in column 0 and 1 from row 1 to 3 "
   ]
  },
  {
   "cell_type": "markdown",
   "metadata": {
    "id": "3Cggo6--jS7-"
   },
   "source": [
    "### (3) Selecting by conditions (Boolean / Logical Indexing) - **`loc`**\n",
    "In addition to labels or position-based data indexing, there is an additional indexing method that uses actual values of datasets, and the method is called **`Boolean indexing`**. In Boolean indexing, we use a Boolean vector to filter data."
   ]
  },
  {
   "cell_type": "code",
   "execution_count": 21,
   "metadata": {
    "id": "jVmDu2lNV90F",
    "outputId": "001fc737-70ca-4fd2-80e6-baa944740678"
   },
   "outputs": [
    {
     "data": {
      "text/html": [
       "<div>\n",
       "<style scoped>\n",
       "    .dataframe tbody tr th:only-of-type {\n",
       "        vertical-align: middle;\n",
       "    }\n",
       "\n",
       "    .dataframe tbody tr th {\n",
       "        vertical-align: top;\n",
       "    }\n",
       "\n",
       "    .dataframe thead th {\n",
       "        text-align: right;\n",
       "    }\n",
       "</style>\n",
       "<table border=\"1\" class=\"dataframe\">\n",
       "  <thead>\n",
       "    <tr style=\"text-align: right;\">\n",
       "      <th></th>\n",
       "      <th>class</th>\n",
       "      <th>l_name</th>\n",
       "      <th>f_name</th>\n",
       "      <th>history</th>\n",
       "      <th>english</th>\n",
       "      <th>math</th>\n",
       "      <th>social_studies</th>\n",
       "      <th>science</th>\n",
       "    </tr>\n",
       "  </thead>\n",
       "  <tbody>\n",
       "    <tr>\n",
       "      <th>b</th>\n",
       "      <td>1</td>\n",
       "      <td>Schafer</td>\n",
       "      <td>Elise</td>\n",
       "      <td>91</td>\n",
       "      <td>75</td>\n",
       "      <td>90</td>\n",
       "      <td>68</td>\n",
       "      <td>85</td>\n",
       "    </tr>\n",
       "    <tr>\n",
       "      <th>c</th>\n",
       "      <td>2</td>\n",
       "      <td>Zimmermann</td>\n",
       "      <td>Kate</td>\n",
       "      <td>86</td>\n",
       "      <td>76</td>\n",
       "      <td>42</td>\n",
       "      <td>72</td>\n",
       "      <td>88</td>\n",
       "    </tr>\n",
       "    <tr>\n",
       "      <th>f</th>\n",
       "      <td>3</td>\n",
       "      <td>Randow</td>\n",
       "      <td>Emma</td>\n",
       "      <td>96</td>\n",
       "      <td>90</td>\n",
       "      <td>95</td>\n",
       "      <td>81</td>\n",
       "      <td>72</td>\n",
       "    </tr>\n",
       "    <tr>\n",
       "      <th>g</th>\n",
       "      <td>4</td>\n",
       "      <td>Thompson</td>\n",
       "      <td>Sarah</td>\n",
       "      <td>91</td>\n",
       "      <td>81</td>\n",
       "      <td>92</td>\n",
       "      <td>81</td>\n",
       "      <td>73</td>\n",
       "    </tr>\n",
       "  </tbody>\n",
       "</table>\n",
       "</div>"
      ],
      "text/plain": [
       "  class      l_name f_name  history  english  math  social_studies  science\n",
       "b     1     Schafer  Elise       91       75    90              68       85\n",
       "c     2  Zimmermann   Kate       86       76    42              72       88\n",
       "f     3      Randow   Emma       96       90    95              81       72\n",
       "g     4    Thompson  Sarah       91       81    92              81       73"
      ]
     },
     "execution_count": 21,
     "metadata": {},
     "output_type": "execute_result"
    }
   ],
   "source": [
    "# Selecting students with a history score of 80 or higher\n",
    "df.loc[df.history > 80]"
   ]
  },
  {
   "cell_type": "code",
   "execution_count": 22,
   "metadata": {
    "id": "Nvb-OWc4V90K",
    "outputId": "b5400744-b61d-4227-8451-71e4749a1f47",
    "scrolled": true
   },
   "outputs": [
    {
     "data": {
      "text/html": [
       "<div>\n",
       "<style scoped>\n",
       "    .dataframe tbody tr th:only-of-type {\n",
       "        vertical-align: middle;\n",
       "    }\n",
       "\n",
       "    .dataframe tbody tr th {\n",
       "        vertical-align: top;\n",
       "    }\n",
       "\n",
       "    .dataframe thead th {\n",
       "        text-align: right;\n",
       "    }\n",
       "</style>\n",
       "<table border=\"1\" class=\"dataframe\">\n",
       "  <thead>\n",
       "    <tr style=\"text-align: right;\">\n",
       "      <th></th>\n",
       "      <th>l_name</th>\n",
       "      <th>math</th>\n",
       "    </tr>\n",
       "  </thead>\n",
       "  <tbody>\n",
       "    <tr>\n",
       "      <th>b</th>\n",
       "      <td>Schafer</td>\n",
       "      <td>90</td>\n",
       "    </tr>\n",
       "    <tr>\n",
       "      <th>c</th>\n",
       "      <td>Zimmermann</td>\n",
       "      <td>42</td>\n",
       "    </tr>\n",
       "    <tr>\n",
       "      <th>f</th>\n",
       "      <td>Randow</td>\n",
       "      <td>95</td>\n",
       "    </tr>\n",
       "    <tr>\n",
       "      <th>g</th>\n",
       "      <td>Thompson</td>\n",
       "      <td>92</td>\n",
       "    </tr>\n",
       "  </tbody>\n",
       "</table>\n",
       "</div>"
      ],
      "text/plain": [
       "       l_name  math\n",
       "b     Schafer    90\n",
       "c  Zimmermann    42\n",
       "f      Randow    95\n",
       "g    Thompson    92"
      ]
     },
     "execution_count": 22,
     "metadata": {},
     "output_type": "execute_result"
    }
   ],
   "source": [
    "#  Last names and the math scores of students with a history score of 80 or higher\n",
    "df.loc[(df.history > 80),[\"l_name\",\"math\"]]"
   ]
  },
  {
   "cell_type": "markdown",
   "metadata": {
    "id": "j9UNfFJRV90M"
   },
   "source": [
    "### (4) Sorting a DataFrame by on row labels - **`.sort_index()`** \n",
    "\n",
    "`.sort_index()` sorts a DataFrame object by labels along a specific axis, and along rows by default(axis = 0)."
   ]
  },
  {
   "cell_type": "markdown",
   "metadata": {
    "id": "KBnNvH-CV90M"
   },
   "source": [
    "#### `.sort_index(axis=0)`"
   ]
  },
  {
   "cell_type": "code",
   "execution_count": 23,
   "metadata": {
    "colab": {
     "base_uri": "https://localhost:8080/",
     "height": 580
    },
    "id": "0fvPd0seYTVO",
    "outputId": "dcc6a52c-69c3-491a-9dfc-6a283ff9bcd3",
    "scrolled": true
   },
   "outputs": [
    {
     "data": {
      "text/html": [
       "<div>\n",
       "<style scoped>\n",
       "    .dataframe tbody tr th:only-of-type {\n",
       "        vertical-align: middle;\n",
       "    }\n",
       "\n",
       "    .dataframe tbody tr th {\n",
       "        vertical-align: top;\n",
       "    }\n",
       "\n",
       "    .dataframe thead th {\n",
       "        text-align: right;\n",
       "    }\n",
       "</style>\n",
       "<table border=\"1\" class=\"dataframe\">\n",
       "  <thead>\n",
       "    <tr style=\"text-align: right;\">\n",
       "      <th></th>\n",
       "      <th>class</th>\n",
       "      <th>l_name</th>\n",
       "      <th>f_name</th>\n",
       "      <th>history</th>\n",
       "      <th>english</th>\n",
       "      <th>math</th>\n",
       "      <th>social_studies</th>\n",
       "      <th>science</th>\n",
       "    </tr>\n",
       "  </thead>\n",
       "  <tbody>\n",
       "    <tr>\n",
       "      <th>a</th>\n",
       "      <td>2</td>\n",
       "      <td>Zimmermann</td>\n",
       "      <td>Kate</td>\n",
       "      <td>86</td>\n",
       "      <td>76</td>\n",
       "      <td>42</td>\n",
       "      <td>72</td>\n",
       "      <td>88</td>\n",
       "    </tr>\n",
       "    <tr>\n",
       "      <th>b</th>\n",
       "      <td>1</td>\n",
       "      <td>Schafer</td>\n",
       "      <td>Elise</td>\n",
       "      <td>91</td>\n",
       "      <td>75</td>\n",
       "      <td>90</td>\n",
       "      <td>68</td>\n",
       "      <td>85</td>\n",
       "    </tr>\n",
       "    <tr>\n",
       "      <th>c</th>\n",
       "      <td>1</td>\n",
       "      <td>Smith</td>\n",
       "      <td>John</td>\n",
       "      <td>80</td>\n",
       "      <td>92</td>\n",
       "      <td>70</td>\n",
       "      <td>65</td>\n",
       "      <td>92</td>\n",
       "    </tr>\n",
       "    <tr>\n",
       "      <th>d</th>\n",
       "      <td>2</td>\n",
       "      <td>Mendoza</td>\n",
       "      <td>James</td>\n",
       "      <td>77</td>\n",
       "      <td>92</td>\n",
       "      <td>52</td>\n",
       "      <td>60</td>\n",
       "      <td>80</td>\n",
       "    </tr>\n",
       "    <tr>\n",
       "      <th>e</th>\n",
       "      <td>3</td>\n",
       "      <td>Park</td>\n",
       "      <td>Jay</td>\n",
       "      <td>75</td>\n",
       "      <td>85</td>\n",
       "      <td>85</td>\n",
       "      <td>92</td>\n",
       "      <td>95</td>\n",
       "    </tr>\n",
       "    <tr>\n",
       "      <th>f</th>\n",
       "      <td>4</td>\n",
       "      <td>Thompson</td>\n",
       "      <td>Sarah</td>\n",
       "      <td>91</td>\n",
       "      <td>81</td>\n",
       "      <td>92</td>\n",
       "      <td>81</td>\n",
       "      <td>73</td>\n",
       "    </tr>\n",
       "    <tr>\n",
       "      <th>g</th>\n",
       "      <td>3</td>\n",
       "      <td>Randow</td>\n",
       "      <td>Emma</td>\n",
       "      <td>96</td>\n",
       "      <td>90</td>\n",
       "      <td>95</td>\n",
       "      <td>81</td>\n",
       "      <td>72</td>\n",
       "    </tr>\n",
       "  </tbody>\n",
       "</table>\n",
       "</div>"
      ],
      "text/plain": [
       "  class      l_name f_name  history  english  math  social_studies  science\n",
       "a     2  Zimmermann   Kate       86       76    42              72       88\n",
       "b     1     Schafer  Elise       91       75    90              68       85\n",
       "c     1       Smith   John       80       92    70              65       92\n",
       "d     2     Mendoza  James       77       92    52              60       80\n",
       "e     3        Park    Jay       75       85    85              92       95\n",
       "f     4    Thompson  Sarah       91       81    92              81       73\n",
       "g     3      Randow   Emma       96       90    95              81       72"
      ]
     },
     "execution_count": 23,
     "metadata": {},
     "output_type": "execute_result"
    }
   ],
   "source": [
    "df.index = ['c', 'b', 'a', 'd', 'e', 'g', 'f'] # row labels are shuffled.\n",
    "df.sort_index() # and sorted."
   ]
  },
  {
   "cell_type": "code",
   "execution_count": 24,
   "metadata": {
    "colab": {
     "base_uri": "https://localhost:8080/",
     "height": 372
    },
    "id": "V4gaZxkwYTVR",
    "outputId": "fe4a9ee9-e907-40a9-d5b7-84f01c827d8f",
    "scrolled": false
   },
   "outputs": [
    {
     "data": {
      "text/html": [
       "<div>\n",
       "<style scoped>\n",
       "    .dataframe tbody tr th:only-of-type {\n",
       "        vertical-align: middle;\n",
       "    }\n",
       "\n",
       "    .dataframe tbody tr th {\n",
       "        vertical-align: top;\n",
       "    }\n",
       "\n",
       "    .dataframe thead th {\n",
       "        text-align: right;\n",
       "    }\n",
       "</style>\n",
       "<table border=\"1\" class=\"dataframe\">\n",
       "  <thead>\n",
       "    <tr style=\"text-align: right;\">\n",
       "      <th></th>\n",
       "      <th>class</th>\n",
       "      <th>l_name</th>\n",
       "      <th>f_name</th>\n",
       "      <th>history</th>\n",
       "      <th>english</th>\n",
       "      <th>math</th>\n",
       "      <th>social_studies</th>\n",
       "      <th>science</th>\n",
       "    </tr>\n",
       "  </thead>\n",
       "  <tbody>\n",
       "    <tr>\n",
       "      <th>g</th>\n",
       "      <td>3</td>\n",
       "      <td>Randow</td>\n",
       "      <td>Emma</td>\n",
       "      <td>96</td>\n",
       "      <td>90</td>\n",
       "      <td>95</td>\n",
       "      <td>81</td>\n",
       "      <td>72</td>\n",
       "    </tr>\n",
       "    <tr>\n",
       "      <th>f</th>\n",
       "      <td>4</td>\n",
       "      <td>Thompson</td>\n",
       "      <td>Sarah</td>\n",
       "      <td>91</td>\n",
       "      <td>81</td>\n",
       "      <td>92</td>\n",
       "      <td>81</td>\n",
       "      <td>73</td>\n",
       "    </tr>\n",
       "    <tr>\n",
       "      <th>e</th>\n",
       "      <td>3</td>\n",
       "      <td>Park</td>\n",
       "      <td>Jay</td>\n",
       "      <td>75</td>\n",
       "      <td>85</td>\n",
       "      <td>85</td>\n",
       "      <td>92</td>\n",
       "      <td>95</td>\n",
       "    </tr>\n",
       "    <tr>\n",
       "      <th>d</th>\n",
       "      <td>2</td>\n",
       "      <td>Mendoza</td>\n",
       "      <td>James</td>\n",
       "      <td>77</td>\n",
       "      <td>92</td>\n",
       "      <td>52</td>\n",
       "      <td>60</td>\n",
       "      <td>80</td>\n",
       "    </tr>\n",
       "    <tr>\n",
       "      <th>c</th>\n",
       "      <td>1</td>\n",
       "      <td>Smith</td>\n",
       "      <td>John</td>\n",
       "      <td>80</td>\n",
       "      <td>92</td>\n",
       "      <td>70</td>\n",
       "      <td>65</td>\n",
       "      <td>92</td>\n",
       "    </tr>\n",
       "    <tr>\n",
       "      <th>b</th>\n",
       "      <td>1</td>\n",
       "      <td>Schafer</td>\n",
       "      <td>Elise</td>\n",
       "      <td>91</td>\n",
       "      <td>75</td>\n",
       "      <td>90</td>\n",
       "      <td>68</td>\n",
       "      <td>85</td>\n",
       "    </tr>\n",
       "    <tr>\n",
       "      <th>a</th>\n",
       "      <td>2</td>\n",
       "      <td>Zimmermann</td>\n",
       "      <td>Kate</td>\n",
       "      <td>86</td>\n",
       "      <td>76</td>\n",
       "      <td>42</td>\n",
       "      <td>72</td>\n",
       "      <td>88</td>\n",
       "    </tr>\n",
       "  </tbody>\n",
       "</table>\n",
       "</div>"
      ],
      "text/plain": [
       "  class      l_name f_name  history  english  math  social_studies  science\n",
       "g     3      Randow   Emma       96       90    95              81       72\n",
       "f     4    Thompson  Sarah       91       81    92              81       73\n",
       "e     3        Park    Jay       75       85    85              92       95\n",
       "d     2     Mendoza  James       77       92    52              60       80\n",
       "c     1       Smith   John       80       92    70              65       92\n",
       "b     1     Schafer  Elise       91       75    90              68       85\n",
       "a     2  Zimmermann   Kate       86       76    42              72       88"
      ]
     },
     "execution_count": 24,
     "metadata": {},
     "output_type": "execute_result"
    }
   ],
   "source": [
    "# Sorting a DataFrame by row labels in descending order \n",
    "df.sort_index(ascending = False)"
   ]
  },
  {
   "cell_type": "markdown",
   "metadata": {
    "id": "WwKrfthKYTVi"
   },
   "source": [
    "### (5) Iterating over DataFrame rows - **`.iterrows()`**\n",
    "\n",
    "`.iterrows()` Iterate over DataFrame rows as (index, Series) pairs, returning a tuple of each row label and the content as a Series.\n"
   ]
  },
  {
   "cell_type": "markdown",
   "metadata": {
    "id": "w-k_1ti-V90R"
   },
   "source": [
    "#### `.iterrows()`"
   ]
  },
  {
   "cell_type": "code",
   "execution_count": 25,
   "metadata": {
    "colab": {
     "base_uri": "https://localhost:8080/",
     "height": 1890
    },
    "id": "GkuCGOKRYTVj",
    "outputId": "12acc9c6-e28d-48ef-bd41-a0db5c938d0f"
   },
   "outputs": [
    {
     "name": "stdout",
     "output_type": "stream",
     "text": [
      "  class      l_name f_name  history  english  math  social_studies  science\n",
      "c     1       Smith   John       80       92    70              65       92\n",
      "b     1     Schafer  Elise       91       75    90              68       85\n",
      "a     2  Zimmermann   Kate       86       76    42              72       88\n",
      "d     2     Mendoza  James       77       92    52              60       80\n",
      "e     3        Park    Jay       75       85    85              92       95\n",
      "g     3      Randow   Emma       96       90    95              81       72\n",
      "f     4    Thompson  Sarah       91       81    92              81       73 \n",
      "\n",
      "row name :  c\n",
      "class                 1\n",
      "l_name            Smith\n",
      "f_name             John\n",
      "history              80\n",
      "english              92\n",
      "math                 70\n",
      "social_studies       65\n",
      "science              92\n",
      "Name: c, dtype: object\n",
      "row name :  b\n",
      "class                   1\n",
      "l_name            Schafer\n",
      "f_name              Elise\n",
      "history                91\n",
      "english                75\n",
      "math                   90\n",
      "social_studies         68\n",
      "science                85\n",
      "Name: b, dtype: object\n",
      "row name :  a\n",
      "class                      2\n",
      "l_name            Zimmermann\n",
      "f_name                  Kate\n",
      "history                   86\n",
      "english                   76\n",
      "math                      42\n",
      "social_studies            72\n",
      "science                   88\n",
      "Name: a, dtype: object\n",
      "row name :  d\n",
      "class                   2\n",
      "l_name            Mendoza\n",
      "f_name              James\n",
      "history                77\n",
      "english                92\n",
      "math                   52\n",
      "social_studies         60\n",
      "science                80\n",
      "Name: d, dtype: object\n",
      "row name :  e\n",
      "class                3\n",
      "l_name            Park\n",
      "f_name             Jay\n",
      "history             75\n",
      "english             85\n",
      "math                85\n",
      "social_studies      92\n",
      "science             95\n",
      "Name: e, dtype: object\n",
      "row name :  g\n",
      "class                  3\n",
      "l_name            Randow\n",
      "f_name              Emma\n",
      "history               96\n",
      "english               90\n",
      "math                  95\n",
      "social_studies        81\n",
      "science               72\n",
      "Name: g, dtype: object\n",
      "row name :  f\n",
      "class                    4\n",
      "l_name            Thompson\n",
      "f_name               Sarah\n",
      "history                 91\n",
      "english                 81\n",
      "math                    92\n",
      "social_studies          81\n",
      "science                 73\n",
      "Name: f, dtype: object\n"
     ]
    }
   ],
   "source": [
    "print(df,'\\n')\n",
    "for idx, row in df.iterrows():\n",
    "    print(\"row name : \", idx)\n",
    "    print(row)"
   ]
  }
 ],
 "metadata": {
  "colab": {
   "collapsed_sections": [],
   "name": "2_Pandas DataFrame(완료).ipynb의 사본",
   "provenance": [
    {
     "file_id": "1TNQdOLb1-0wVqPkXHRNSwWbnia2Xg0By",
     "timestamp": 1604390599435
    }
   ],
   "toc_visible": true
  },
  "kernelspec": {
   "display_name": "Python 3",
   "language": "python",
   "name": "python3"
  },
  "language_info": {
   "codemirror_mode": {
    "name": "ipython",
    "version": 3
   },
   "file_extension": ".py",
   "mimetype": "text/x-python",
   "name": "python",
   "nbconvert_exporter": "python",
   "pygments_lexer": "ipython3",
   "version": "3.7.0"
  },
  "toc": {
   "base_numbering": 1,
   "nav_menu": {},
   "number_sections": false,
   "sideBar": true,
   "skip_h1_title": false,
   "title_cell": "Table of Contents",
   "title_sidebar": "Contents",
   "toc_cell": false,
   "toc_position": {
    "height": "calc(100% - 180px)",
    "left": "10px",
    "top": "150px",
    "width": "341.306px"
   },
   "toc_section_display": true,
   "toc_window_display": true
  }
 },
 "nbformat": 4,
 "nbformat_minor": 1
}
