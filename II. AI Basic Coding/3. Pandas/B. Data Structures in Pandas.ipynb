{
 "cells": [
  {
   "cell_type": "markdown",
   "metadata": {
    "id": "dx6VQXFIJTYy"
   },
   "source": [
    "# B. Data Structures in Pandas\n",
    "\n",
    "Pandas is a Python package which offers powerful, expressive and flexible data structures and tools in data science. It makes data manipulation and analysis much easier than when not used.\n",
    "\n",
    "In this lesson, we will be starting from a quick overview of the fundamental data structures in pandas, `Series` and `DataFrame`.\n",
    "\n",
    "\n",
    "### _Objective_\n",
    "1. **Series** : Understanding how to create Series objects with pandas \n",
    "2. **DataFrame** : Understanding how to create DataFrame objects with pandas "
   ]
  },
  {
   "cell_type": "markdown",
   "metadata": {
    "id": "XyEiw8KidAlQ"
   },
   "source": [
    "Throughout the lesson, you'll be learning about pandas data structures using the following example data."
   ]
  },
  {
   "cell_type": "markdown",
   "metadata": {
    "id": "55Ys3aJTdAlR"
   },
   "source": [
    "#### Example Data) Report cards\n",
    "\n",
    "|Class   | Last Name | First Name| History | English | Math | Social Studies | Science |\n",
    "|----| --- | ----   | --- |---| --- | --- | --- |\n",
    "|1 | Smith | John |80 |92 |70 | 65 | 92 |\n",
    "|1 | Schafer | Elise |91 |75 |90 | 68 | 85 | \n",
    "|2 | Zimmermann | Kate |86 |76 |42 | 72 | 88 |\n",
    "|2 | Mendoza | James |77 |92 |52 | 60 | 80 |\n",
    "|3 | Park | Jay |75 |85 |85 | 92 | 95 |\n",
    "|3 | Delcourt | Emma |96 |90 |95 | 81 | 72 |\n",
    "|4 | Thompson | Sarah |91 |81 |92 | 81 | 73 |"
   ]
  },
  {
   "cell_type": "markdown",
   "metadata": {
    "id": "MgSUOZ3MdAlR"
   },
   "source": [
    "# \\[1. Pandas Series\\]\n",
    "\n",
    "`Series` is a one-dimensional data structure in pandas and resembles one-dimensional Numpy arrays in many aspects. "
   ]
  },
  {
   "cell_type": "markdown",
   "metadata": {
    "id": "z67xlQ6edAlS"
   },
   "source": [
    "## 1. Creating a Pandas Series\n",
    "+ When it comes to creating a Series, there are many options available. One of the simplest ways is to use other existing Python containers."
   ]
  },
  {
   "cell_type": "markdown",
   "metadata": {
    "id": "TQgXfos0dAlS"
   },
   "source": [
    "Since pandas is not a built-in library, you need to import it to the current working file before working with it. You can import `pandas` under the full name `pandas` or an alias `pd`.\n",
    "In convention, the use of `pd` is preferred."
   ]
  },
  {
   "cell_type": "code",
   "execution_count": 2,
   "metadata": {
    "id": "QafQCnsuJTY0"
   },
   "outputs": [],
   "source": [
    "import pandas as pd\n",
    "import numpy as np"
   ]
  },
  {
   "cell_type": "markdown",
   "metadata": {
    "id": "bvlF84j8dAlW"
   },
   "source": [
    "### (1) Pandas Series from a list"
   ]
  },
  {
   "cell_type": "markdown",
   "metadata": {
    "id": "V-FvAQR3dAlX"
   },
   "source": [
    "Let's create a list for students' performance in the history exam."
   ]
  },
  {
   "cell_type": "code",
   "execution_count": 3,
   "metadata": {
    "id": "Wv3MdFx7dAlX"
   },
   "outputs": [],
   "source": [
    "score_list = [80,91,86,77,75,96,91]"
   ]
  },
  {
   "cell_type": "markdown",
   "metadata": {
    "id": "JbnC15eKdAlZ"
   },
   "source": [
    "`.Series()` is a pandas method that converts the input data into a pandas Series."
   ]
  },
  {
   "cell_type": "code",
   "execution_count": 4,
   "metadata": {
    "id": "6_QyaurddAla",
    "outputId": "7c38c649-18dc-4750-e9b9-b7edb7da26cb"
   },
   "outputs": [
    {
     "data": {
      "text/plain": [
       "0    80\n",
       "1    91\n",
       "2    86\n",
       "3    77\n",
       "4    75\n",
       "5    96\n",
       "6    91\n",
       "dtype: int64"
      ]
     },
     "execution_count": 4,
     "metadata": {},
     "output_type": "execute_result"
    }
   ],
   "source": [
    "language_score = pd.Series(score_list)\n",
    "language_score"
   ]
  },
  {
   "cell_type": "markdown",
   "metadata": {
    "id": "ftXMXhTSdAlc"
   },
   "source": [
    "### (2) Pandas Series from a Numpy array."
   ]
  },
  {
   "cell_type": "markdown",
   "metadata": {
    "id": "KsrojD0jdAld"
   },
   "source": [
    "`.Series()` can also convert a one-dimensional Numpy array into a pandas Series"
   ]
  },
  {
   "cell_type": "code",
   "execution_count": 5,
   "metadata": {
    "id": "rjMjOJOKdAld",
    "outputId": "a7658b42-ea69-48e4-addb-33efebfa62f6"
   },
   "outputs": [
    {
     "data": {
      "text/plain": [
       "0    80\n",
       "1    91\n",
       "2    86\n",
       "3    77\n",
       "4    75\n",
       "5    96\n",
       "6    91\n",
       "dtype: int32"
      ]
     },
     "execution_count": 5,
     "metadata": {},
     "output_type": "execute_result"
    }
   ],
   "source": [
    "values = np.array([80,91,86,77, 75,96,91])\n",
    "language_score = pd.Series(values)\n",
    "language_score"
   ]
  },
  {
   "cell_type": "markdown",
   "metadata": {
    "id": "_sJCeUIkdAlf"
   },
   "source": [
    "### (3) Pandas Series from a Dictionary\n",
    "Once a Python dictionary is passed to `pd.Series()`, pandas will automatically recognize the dictionary keys as Index values and dictionary values as elements of the Series."
   ]
  },
  {
   "cell_type": "code",
   "execution_count": 6,
   "metadata": {
    "id": "Yt7ZjV6SdAlg",
    "outputId": "4a9ffa82-deff-41e1-a596-10b02d6965b2"
   },
   "outputs": [
    {
     "data": {
      "text/plain": [
       "John     80\n",
       "Elise    91\n",
       "Kate     86\n",
       "James    77\n",
       "Jay      75\n",
       "Emma     96\n",
       "Sarah    91\n",
       "dtype: int64"
      ]
     },
     "execution_count": 6,
     "metadata": {},
     "output_type": "execute_result"
    }
   ],
   "source": [
    "score_dict = {\n",
    "    \"John\":80,\n",
    "    \"Elise\":91,\n",
    "    \"Kate\":86,\n",
    "    \"James\":77,\n",
    "    \"Jay\":75,\n",
    "    \"Emma\":96,\n",
    "    \"Sarah\":91\n",
    "}\n",
    "language_score = pd.Series(score_dict)\n",
    "language_score"
   ]
  },
  {
   "cell_type": "markdown",
   "metadata": {
    "id": "7oRQyF4JdAli"
   },
   "source": [
    "## 2. Attributes of Pandas Series\n",
    "A basic pandas Series is composed of \n",
    "\n",
    "- `values` - elements\n",
    "- `index` -  label of an element \n",
    "- `name` - axis names\n",
    "\n",
    "Let's take a closer look at each attribute."
   ]
  },
  {
   "cell_type": "markdown",
   "metadata": {
    "id": "tJ7q-Z_RdAlj"
   },
   "source": [
    "### (1) `values` in a Series"
   ]
  },
  {
   "cell_type": "markdown",
   "metadata": {
    "id": "zj6e-dzJdAlj"
   },
   "source": [
    "In Series, a value means **the unique value of each element**.\n",
    "To get values, use `.values` which will then return the result in a Numpy array regardless of which data type is used."
   ]
  },
  {
   "cell_type": "code",
   "execution_count": 7,
   "metadata": {
    "id": "RK9OKjIKdAlk",
    "outputId": "ba30447d-e3ef-4ff3-80a4-12136a0dc6f8"
   },
   "outputs": [
    {
     "data": {
      "text/plain": [
       "array([80, 91, 86, 77, 75, 96, 91], dtype=int64)"
      ]
     },
     "execution_count": 7,
     "metadata": {},
     "output_type": "execute_result"
    }
   ],
   "source": [
    "language_score.values"
   ]
  },
  {
   "cell_type": "markdown",
   "metadata": {
    "id": "o3e6MJEwdAln"
   },
   "source": [
    "If you only want to check the data type of the given data, use `.dtype`"
   ]
  },
  {
   "cell_type": "code",
   "execution_count": 7,
   "metadata": {
    "id": "wI7otbNUdAlo",
    "outputId": "0f35870c-b5fd-4fc9-e0a8-a86dd7cf2b84"
   },
   "outputs": [
    {
     "data": {
      "text/plain": [
       "dtype('int64')"
      ]
     },
     "execution_count": 7,
     "metadata": {},
     "output_type": "execute_result"
    }
   ],
   "source": [
    "language_score.dtype"
   ]
  },
  {
   "cell_type": "markdown",
   "metadata": {
    "id": "56lkuht3dAlq"
   },
   "source": [
    "If you want to generate the summary statistics (or descriptive statistics) of the Series provided, use `.describe()`.\n",
    "\n",
    "\n"
   ]
  },
  {
   "cell_type": "markdown",
   "metadata": {
    "id": "PJjiIx12ug5A"
   },
   "source": [
    "For numeric data, `.describe()` will show the following statistics.\n",
    "- `count`(Count number of non-NA/null observations)\n",
    "- `mean`(Mean of the values.)\n",
    "- `std`(Standard deviation of the observations)\n",
    "- `min`(Minimum of the values in the Series object)\n",
    "- `25%`(1st quartile)\n",
    "- `50%`(2nd quartile, median)\n",
    "- `75%`(3rd quartile)\n",
    "- `max`(Maximum of the values in the Series object.) "
   ]
  },
  {
   "cell_type": "code",
   "execution_count": 8,
   "metadata": {
    "id": "o2hjwqEzdAlr",
    "outputId": "e0edbff5-7869-49bb-8ffa-906435dac670"
   },
   "outputs": [
    {
     "data": {
      "text/plain": [
       "count     7.000000\n",
       "mean     85.142857\n",
       "std       7.988086\n",
       "min      75.000000\n",
       "25%      78.500000\n",
       "50%      86.000000\n",
       "75%      91.000000\n",
       "max      96.000000\n",
       "dtype: float64"
      ]
     },
     "execution_count": 8,
     "metadata": {},
     "output_type": "execute_result"
    }
   ],
   "source": [
    "language_score.describe()"
   ]
  },
  {
   "cell_type": "markdown",
   "metadata": {
    "id": "iP1Ta4sWdAlt"
   },
   "source": [
    "For object data such as strings and timestamps, `.describe()` can only summarize \n",
    "\n",
    "- `count` (Count number of non-NA/null observations)\n",
    "- `unique` (Number of unique values in a Series)\n",
    "- `top` (The most common value in a Series)\n",
    "- `freq` (Frequency of the most common value)"
   ]
  },
  {
   "cell_type": "code",
   "execution_count": 9,
   "metadata": {
    "id": "5zmWHwj0dAlt",
    "outputId": "e4a5d6a5-8134-4def-d2c1-a4e3e565e386"
   },
   "outputs": [
    {
     "data": {
      "text/plain": [
       "count        7\n",
       "unique       7\n",
       "top       John\n",
       "freq         1\n",
       "dtype: object"
      ]
     },
     "execution_count": 9,
     "metadata": {},
     "output_type": "execute_result"
    }
   ],
   "source": [
    "pd.Series([\"John\",\"Elise\",\"Kate\",\"James\",\"Jay\",\"Emma\",\"Sarah\"]).describe()"
   ]
  },
  {
   "cell_type": "markdown",
   "metadata": {
    "id": "bLj8YY7IdAlx"
   },
   "source": [
    "### (2) `Index` of pandas Series\n",
    "\n",
    "Index is the label of each element in a Series. The Index values need not be unique but must be hashable and of the same length as the data. That is, if a Series consists of 8 elements, there must be 8 index values as well.<br> By default, the index values are RangeIndex(0, 1, ..., n). However, if you have particular index values in your mind, you can use your own-defined index values by assigning them to the `index` keyword inside `.Series()`."
   ]
  },
  {
   "cell_type": "code",
   "execution_count": 10,
   "metadata": {
    "id": "DUukOG0KdAl4",
    "outputId": "2da7fa48-25ee-4147-f041-d13ad2af81a4"
   },
   "outputs": [
    {
     "data": {
      "text/plain": [
       "John     80\n",
       "Elise    91\n",
       "Kate     86\n",
       "James    77\n",
       "Jay      75\n",
       "Emma     96\n",
       "Sarah    91\n",
       "dtype: int64"
      ]
     },
     "execution_count": 10,
     "metadata": {},
     "output_type": "execute_result"
    }
   ],
   "source": [
    "language_score = pd.Series([80,91,86,77,75,96,91],\n",
    "                    index=[\"John\",\"Elise\",\"Kate\",\"James\", \"Jay\",\"Emma\",\"Sarah\"])\n",
    "language_score"
   ]
  },
  {
   "cell_type": "markdown",
   "metadata": {
    "id": "og0RpkcEdAl8"
   },
   "source": [
    "If you want to check the index values of a Series, use `.index`"
   ]
  },
  {
   "cell_type": "code",
   "execution_count": 11,
   "metadata": {
    "id": "rk05fNlldAl8",
    "outputId": "3b52ca9a-cf66-425e-a3f7-75e0e514a246"
   },
   "outputs": [
    {
     "data": {
      "text/plain": [
       "Index(['John', 'Elise', 'Kate', 'James', 'Jay', 'Emma', 'Sarah'], dtype='object')"
      ]
     },
     "execution_count": 11,
     "metadata": {},
     "output_type": "execute_result"
    }
   ],
   "source": [
    "language_score.index"
   ]
  },
  {
   "cell_type": "markdown",
   "metadata": {
    "id": "JvEnGvFFdAl-"
   },
   "source": [
    "For Series indexing, you can use the syntax of Numpy array indexing by inserting index values between two square brackets. Let's assume you want to see John's langauge score. In this case, his name `John` is the index for his language score. So, the code for the access to his language score will be written as `language_score[\"John\"]`."
   ]
  },
  {
   "cell_type": "code",
   "execution_count": 12,
   "metadata": {
    "id": "ZAScLgk-dAl_",
    "outputId": "89b169fd-87f3-44ce-8c94-6799f6c5cd49"
   },
   "outputs": [
    {
     "data": {
      "text/plain": [
       "80"
      ]
     },
     "execution_count": 12,
     "metadata": {},
     "output_type": "execute_result"
    }
   ],
   "source": [
    "language_score[\"John\"]"
   ]
  },
  {
   "cell_type": "markdown",
   "metadata": {
    "id": "uk3RsR8DdAmB"
   },
   "source": [
    "Alternatively, you can use a <code>dot operator(**.**)</code> which you insert between the name of a Series and the index to be accessed to. In this case, a dot between `language_score` and `John` gives you the access to John's score in `language score`."
   ]
  },
  {
   "cell_type": "code",
   "execution_count": 13,
   "metadata": {
    "id": "6xkJWQU6dAmB",
    "outputId": "3374210e-9057-4639-e1af-a9b0cf04cab8"
   },
   "outputs": [
    {
     "data": {
      "text/plain": [
       "80"
      ]
     },
     "execution_count": 13,
     "metadata": {},
     "output_type": "execute_result"
    }
   ],
   "source": [
    "language_score.John"
   ]
  },
  {
   "cell_type": "markdown",
   "metadata": {
    "id": "mKWiw8QEdAmD"
   },
   "source": [
    "### (3) `name` of a Series\n",
    "\n",
    "You can give a Series a name. This is especially helpful when you have to deal with multiple Series objects at the same time. <br>\n",
    "Note that it is not the the same as the variable name. "
   ]
  },
  {
   "cell_type": "code",
   "execution_count": 8,
   "metadata": {
    "colab": {
     "base_uri": "https://localhost:8080/",
     "height": 222
    },
    "executionInfo": {
     "elapsed": 866,
     "status": "error",
     "timestamp": 1604374633450,
     "user": {
      "displayName": "Minseo Kim",
      "photoUrl": "",
      "userId": "13585292405465288254"
     },
     "user_tz": -540
    },
    "id": "vUMcMgebdAmD",
    "outputId": "ea737dec-0082-458f-b654-f69ac6b1691c"
   },
   "outputs": [
    {
     "data": {
      "text/plain": [
       "John     80\n",
       "Elise    91\n",
       "Kate     86\n",
       "James    77\n",
       "Jay      75\n",
       "Emma     96\n",
       "Sarah    91\n",
       "Name: History, dtype: int64"
      ]
     },
     "execution_count": 8,
     "metadata": {},
     "output_type": "execute_result"
    }
   ],
   "source": [
    "language_score = pd.Series([80,91,86,77,75,96,91],\n",
    "                    index=[\"John\",\"Elise\",\"Kate\",\"James\",\"Jay\",\"Emma\",\"Sarah\"],\n",
    "                    name=\"History\")\n",
    "language_score \n",
    "\n",
    "# Here, the variable of the Series object is named `language_score` while the Series itself is named `History`"
   ]
  },
  {
   "cell_type": "markdown",
   "metadata": {
    "id": "xFp5XteCdAmG"
   },
   "source": [
    "----\n",
    "\n",
    "# \\[2. Pandas DataFrame\\]\n",
    "While pandas Series displays only one-dimensional data, pandas DataFrame displays data over two-dimensions like 2-dimensional Numpy arrays. This being so, pandas DataFrame is heterogeneous and can display **a collection of multiple Series objects of different data types**. \n"
   ]
  },
  {
   "cell_type": "markdown",
   "metadata": {
    "id": "NgkeQGAqdAmG"
   },
   "source": [
    "## 1. Creating a DataFrame\n",
    "\n",
    "Pandas DataFrame is a 2-dimensional data matrix.<br>Like for Series, you can utilize list, dict, np.array, and other Python data structures for creating DataFrame objects."
   ]
  },
  {
   "cell_type": "markdown",
   "metadata": {
    "id": "aqOhwrN4dAmG"
   },
   "source": [
    "### (1) Pandas DataFrame from a list\n",
    "\n",
    "`.DataFrame()` is a method that converts input data to a DataFrame.<br><br>\n",
    "\n",
    "You can pass lists, or a collection of lists to `.DataFrame()` to create a DataFrame."
   ]
  },
  {
   "cell_type": "code",
   "execution_count": 15,
   "metadata": {
    "id": "MJ8MTKyhdAmH",
    "outputId": "a22e08a2-928c-4780-9e68-fa8e84f99ad4",
    "scrolled": true
   },
   "outputs": [
    {
     "data": {
      "text/html": [
       "<div>\n",
       "<style scoped>\n",
       "    .dataframe tbody tr th:only-of-type {\n",
       "        vertical-align: middle;\n",
       "    }\n",
       "\n",
       "    .dataframe tbody tr th {\n",
       "        vertical-align: top;\n",
       "    }\n",
       "\n",
       "    .dataframe thead th {\n",
       "        text-align: right;\n",
       "    }\n",
       "</style>\n",
       "<table border=\"1\" class=\"dataframe\">\n",
       "  <thead>\n",
       "    <tr style=\"text-align: right;\">\n",
       "      <th></th>\n",
       "      <th>0</th>\n",
       "      <th>1</th>\n",
       "      <th>2</th>\n",
       "      <th>3</th>\n",
       "      <th>4</th>\n",
       "      <th>5</th>\n",
       "      <th>6</th>\n",
       "      <th>7</th>\n",
       "    </tr>\n",
       "  </thead>\n",
       "  <tbody>\n",
       "    <tr>\n",
       "      <th>0</th>\n",
       "      <td>1</td>\n",
       "      <td>SmithJohn</td>\n",
       "      <td>80</td>\n",
       "      <td>92</td>\n",
       "      <td>70</td>\n",
       "      <td>65</td>\n",
       "      <td>92</td>\n",
       "      <td>NaN</td>\n",
       "    </tr>\n",
       "    <tr>\n",
       "      <th>1</th>\n",
       "      <td>1</td>\n",
       "      <td>Schafer</td>\n",
       "      <td>Elise</td>\n",
       "      <td>91</td>\n",
       "      <td>75</td>\n",
       "      <td>90</td>\n",
       "      <td>68</td>\n",
       "      <td>85.0</td>\n",
       "    </tr>\n",
       "    <tr>\n",
       "      <th>2</th>\n",
       "      <td>2</td>\n",
       "      <td>Zimmermann</td>\n",
       "      <td>Kate</td>\n",
       "      <td>86</td>\n",
       "      <td>76</td>\n",
       "      <td>42</td>\n",
       "      <td>72</td>\n",
       "      <td>88.0</td>\n",
       "    </tr>\n",
       "    <tr>\n",
       "      <th>3</th>\n",
       "      <td>2</td>\n",
       "      <td>Mendoza</td>\n",
       "      <td>James</td>\n",
       "      <td>77</td>\n",
       "      <td>92</td>\n",
       "      <td>52</td>\n",
       "      <td>60</td>\n",
       "      <td>80.0</td>\n",
       "    </tr>\n",
       "    <tr>\n",
       "      <th>4</th>\n",
       "      <td>3</td>\n",
       "      <td>Park</td>\n",
       "      <td>Jay</td>\n",
       "      <td>75</td>\n",
       "      <td>85</td>\n",
       "      <td>85</td>\n",
       "      <td>92</td>\n",
       "      <td>95.0</td>\n",
       "    </tr>\n",
       "    <tr>\n",
       "      <th>5</th>\n",
       "      <td>3</td>\n",
       "      <td>Delcourt</td>\n",
       "      <td>Emma</td>\n",
       "      <td>96</td>\n",
       "      <td>90</td>\n",
       "      <td>95</td>\n",
       "      <td>81</td>\n",
       "      <td>72.0</td>\n",
       "    </tr>\n",
       "    <tr>\n",
       "      <th>6</th>\n",
       "      <td>4</td>\n",
       "      <td>Thompson</td>\n",
       "      <td>Sarah</td>\n",
       "      <td>91</td>\n",
       "      <td>81</td>\n",
       "      <td>92</td>\n",
       "      <td>81</td>\n",
       "      <td>73.0</td>\n",
       "    </tr>\n",
       "  </tbody>\n",
       "</table>\n",
       "</div>"
      ],
      "text/plain": [
       "   0           1      2   3   4   5   6     7\n",
       "0  1   SmithJohn     80  92  70  65  92   NaN\n",
       "1  1     Schafer  Elise  91  75  90  68  85.0\n",
       "2  2  Zimmermann   Kate  86  76  42  72  88.0\n",
       "3  2     Mendoza  James  77  92  52  60  80.0\n",
       "4  3        Park    Jay  75  85  85  92  95.0\n",
       "5  3    Delcourt   Emma  96  90  95  81  72.0\n",
       "6  4    Thompson  Sarah  91  81  92  81  73.0"
      ]
     },
     "execution_count": 15,
     "metadata": {},
     "output_type": "execute_result"
    }
   ],
   "source": [
    "scores = [[\"1\",\"Smith\"\"John\",80,92,70,65,92],\n",
    "          [\"1\",\"Schafer\", \"Elise\",91,75,90,68,85],\n",
    "          [\"2\",\"Zimmermann\", \"Kate\",86,76,42,72,88],\n",
    "          [\"2\",\"Mendoza\", \"James\",77,92,52,60,80],\n",
    "          [\"3\",\"Park\", \"Jay\",75,85,85,92,95],\n",
    "          [\"3\",\"Delcourt\", \"Emma\",96,90,95,81,72],\n",
    "          [\"4\",\"Thompson\", \"Sarah\",91,81,92,81,73]]\n",
    "\n",
    "df = pd.DataFrame(scores)\n",
    "df"
   ]
  },
  {
   "cell_type": "markdown",
   "metadata": {
    "id": "RoL4b_D8dAmJ"
   },
   "source": [
    "### (2) Pandas DataFrame from a Numpy array\n",
    "\n",
    "Likewise, `.DataFrame()` covnerts Numpy arrays to a DataFrame.\n"
   ]
  },
  {
   "cell_type": "code",
   "execution_count": 16,
   "metadata": {
    "id": "4wolU0sIdAmK",
    "outputId": "e47e552b-d167-4e83-b9aa-e9818b4ded88"
   },
   "outputs": [
    {
     "data": {
      "text/html": [
       "<div>\n",
       "<style scoped>\n",
       "    .dataframe tbody tr th:only-of-type {\n",
       "        vertical-align: middle;\n",
       "    }\n",
       "\n",
       "    .dataframe tbody tr th {\n",
       "        vertical-align: top;\n",
       "    }\n",
       "\n",
       "    .dataframe thead th {\n",
       "        text-align: right;\n",
       "    }\n",
       "</style>\n",
       "<table border=\"1\" class=\"dataframe\">\n",
       "  <thead>\n",
       "    <tr style=\"text-align: right;\">\n",
       "      <th></th>\n",
       "      <th>0</th>\n",
       "    </tr>\n",
       "  </thead>\n",
       "  <tbody>\n",
       "    <tr>\n",
       "      <th>0</th>\n",
       "      <td>[1, SmithJohn, 80, 92, 70, 65, 92]</td>\n",
       "    </tr>\n",
       "    <tr>\n",
       "      <th>1</th>\n",
       "      <td>[1, Schafer, Elise, 91, 75, 90, 68, 85]</td>\n",
       "    </tr>\n",
       "    <tr>\n",
       "      <th>2</th>\n",
       "      <td>[2, Zimmermann, Kate, 86, 76, 42, 72, 88]</td>\n",
       "    </tr>\n",
       "    <tr>\n",
       "      <th>3</th>\n",
       "      <td>[2, Mendoza, James, 77, 92, 52, 60, 80]</td>\n",
       "    </tr>\n",
       "    <tr>\n",
       "      <th>4</th>\n",
       "      <td>[3, Park, Jay, 75, 85, 85, 92, 95]</td>\n",
       "    </tr>\n",
       "    <tr>\n",
       "      <th>5</th>\n",
       "      <td>[3, Delcourt, Emma, 96, 90, 95, 81, 72]</td>\n",
       "    </tr>\n",
       "    <tr>\n",
       "      <th>6</th>\n",
       "      <td>[4, Thompson, Sarah, 91, 81, 92, 81, 73]</td>\n",
       "    </tr>\n",
       "  </tbody>\n",
       "</table>\n",
       "</div>"
      ],
      "text/plain": [
       "                                           0\n",
       "0         [1, SmithJohn, 80, 92, 70, 65, 92]\n",
       "1    [1, Schafer, Elise, 91, 75, 90, 68, 85]\n",
       "2  [2, Zimmermann, Kate, 86, 76, 42, 72, 88]\n",
       "3    [2, Mendoza, James, 77, 92, 52, 60, 80]\n",
       "4         [3, Park, Jay, 75, 85, 85, 92, 95]\n",
       "5    [3, Delcourt, Emma, 96, 90, 95, 81, 72]\n",
       "6   [4, Thompson, Sarah, 91, 81, 92, 81, 73]"
      ]
     },
     "execution_count": 16,
     "metadata": {},
     "output_type": "execute_result"
    }
   ],
   "source": [
    "scores = np.array([[\"1\",\"Smith\"\"John\",80,92,70,65,92],\n",
    "          [\"1\",\"Schafer\", \"Elise\",91,75,90,68,85],\n",
    "          [\"2\",\"Zimmermann\", \"Kate\",86,76,42,72,88],\n",
    "          [\"2\",\"Mendoza\", \"James\",77,92,52,60,80],\n",
    "          [\"3\",\"Park\", \"Jay\",75,85,85,92,95],\n",
    "          [\"3\",\"Delcourt\", \"Emma\",96,90,95,81,72],\n",
    "          [\"4\",\"Thompson\", \"Sarah\",91,81,92,81,73]])\n",
    "df = pd.DataFrame(scores)\n",
    "df"
   ]
  },
  {
   "cell_type": "markdown",
   "metadata": {
    "id": "fcEj7eGJdAmL"
   },
   "source": [
    "### (3) Pandas DataFrame from a Dictionary\n",
    "\n",
    "`.DataFrame()` converts an input dictionary to a DataFrame by grouping dictionary keys as column labels and dictionary values as the element values."
   ]
  },
  {
   "cell_type": "code",
   "execution_count": 17,
   "metadata": {
    "id": "k9u2emBddAmM",
    "outputId": "c03bf591-67fd-43b3-9821-5b8b344fa9d7",
    "scrolled": true
   },
   "outputs": [
    {
     "data": {
      "text/html": [
       "<div>\n",
       "<style scoped>\n",
       "    .dataframe tbody tr th:only-of-type {\n",
       "        vertical-align: middle;\n",
       "    }\n",
       "\n",
       "    .dataframe tbody tr th {\n",
       "        vertical-align: top;\n",
       "    }\n",
       "\n",
       "    .dataframe thead th {\n",
       "        text-align: right;\n",
       "    }\n",
       "</style>\n",
       "<table border=\"1\" class=\"dataframe\">\n",
       "  <thead>\n",
       "    <tr style=\"text-align: right;\">\n",
       "      <th></th>\n",
       "      <th>A</th>\n",
       "      <th>B</th>\n",
       "      <th>C</th>\n",
       "      <th>D</th>\n",
       "      <th>E</th>\n",
       "      <th>F</th>\n",
       "      <th>G</th>\n",
       "      <th>H</th>\n",
       "    </tr>\n",
       "  </thead>\n",
       "  <tbody>\n",
       "    <tr>\n",
       "      <th>0</th>\n",
       "      <td>1</td>\n",
       "      <td>Smith</td>\n",
       "      <td>John</td>\n",
       "      <td>80</td>\n",
       "      <td>92</td>\n",
       "      <td>70</td>\n",
       "      <td>65</td>\n",
       "      <td>92</td>\n",
       "    </tr>\n",
       "    <tr>\n",
       "      <th>1</th>\n",
       "      <td>1</td>\n",
       "      <td>Schafer</td>\n",
       "      <td>Elise</td>\n",
       "      <td>91</td>\n",
       "      <td>75</td>\n",
       "      <td>90</td>\n",
       "      <td>68</td>\n",
       "      <td>85</td>\n",
       "    </tr>\n",
       "    <tr>\n",
       "      <th>2</th>\n",
       "      <td>2</td>\n",
       "      <td>Zimmermann</td>\n",
       "      <td>Kate</td>\n",
       "      <td>86</td>\n",
       "      <td>76</td>\n",
       "      <td>42</td>\n",
       "      <td>72</td>\n",
       "      <td>88</td>\n",
       "    </tr>\n",
       "    <tr>\n",
       "      <th>3</th>\n",
       "      <td>2</td>\n",
       "      <td>Mendoza</td>\n",
       "      <td>James</td>\n",
       "      <td>77</td>\n",
       "      <td>92</td>\n",
       "      <td>52</td>\n",
       "      <td>60</td>\n",
       "      <td>80</td>\n",
       "    </tr>\n",
       "    <tr>\n",
       "      <th>4</th>\n",
       "      <td>3</td>\n",
       "      <td>Park</td>\n",
       "      <td>Jay</td>\n",
       "      <td>75</td>\n",
       "      <td>85</td>\n",
       "      <td>85</td>\n",
       "      <td>92</td>\n",
       "      <td>95</td>\n",
       "    </tr>\n",
       "    <tr>\n",
       "      <th>5</th>\n",
       "      <td>3</td>\n",
       "      <td>Delcourt</td>\n",
       "      <td>Emma</td>\n",
       "      <td>96</td>\n",
       "      <td>90</td>\n",
       "      <td>95</td>\n",
       "      <td>81</td>\n",
       "      <td>72</td>\n",
       "    </tr>\n",
       "    <tr>\n",
       "      <th>6</th>\n",
       "      <td>4</td>\n",
       "      <td>Thompson</td>\n",
       "      <td>Sarah</td>\n",
       "      <td>91</td>\n",
       "      <td>81</td>\n",
       "      <td>92</td>\n",
       "      <td>81</td>\n",
       "      <td>73</td>\n",
       "    </tr>\n",
       "  </tbody>\n",
       "</table>\n",
       "</div>"
      ],
      "text/plain": [
       "   A           B      C   D   E   F   G   H\n",
       "0  1       Smith   John  80  92  70  65  92\n",
       "1  1     Schafer  Elise  91  75  90  68  85\n",
       "2  2  Zimmermann   Kate  86  76  42  72  88\n",
       "3  2     Mendoza  James  77  92  52  60  80\n",
       "4  3        Park    Jay  75  85  85  92  95\n",
       "5  3    Delcourt   Emma  96  90  95  81  72\n",
       "6  4    Thompson  Sarah  91  81  92  81  73"
      ]
     },
     "execution_count": 17,
     "metadata": {},
     "output_type": "execute_result"
    }
   ],
   "source": [
    "scores = {\n",
    "    \"A\" :[\"1\",\"1\",\"2\",\"2\",\"3\",\"3\",\"4\"],\n",
    "    \"B\" :[\"Smith\", \"Schafer\", \"Zimmermann\", \"Mendoza\", \"Park\", \"Delcourt\", \"Thompson\"],\n",
    "    \"C\":[\"John\",\"Elise\",\"Kate\",\"James\",\"Jay\",\"Emma\",\"Sarah\"],\n",
    "    \"D\":[80,91,86,77,75,96,91],\n",
    "    \"E\":[92,75,76,92,85,90,81],\n",
    "    \"F\":[70,90,42,52,85,95,92],\n",
    "    \"G\":[65,68,72,60,92,81,81],\n",
    "    \"H\":[92,85,88,80,95,72,73]\n",
    "}\n",
    "df = pd.DataFrame(scores) \n",
    "df"
   ]
  },
  {
   "cell_type": "markdown",
   "metadata": {
    "id": "EWyPfG-4dAmO"
   },
   "source": [
    "## 2. Attributes of Pandas DataFrame\n",
    "\n",
    "A DataFrame consists of \n",
    "- `values` - elements\n",
    "- `index and columns` - labels in each dimension\n",
    "\n",
    "Let's take a look at each of these attributes.\n"
   ]
  },
  {
   "cell_type": "markdown",
   "metadata": {
    "id": "iOGNFgTDdAmO"
   },
   "source": [
    "### (1) `Values` in  a DataFrame"
   ]
  },
  {
   "cell_type": "markdown",
   "metadata": {
    "id": "yYuUHttLdAmO"
   },
   "source": [
    "`.values` shows all values in the DataFrame provided.  \n"
   ]
  },
  {
   "cell_type": "code",
   "execution_count": 18,
   "metadata": {
    "id": "e6pmQHGmdAmP",
    "outputId": "dcbf5d0c-c2c3-4982-8951-679ec957ff55"
   },
   "outputs": [
    {
     "data": {
      "text/plain": [
       "array([['1', 'Smith', 'John', 80, 92, 70, 65, 92],\n",
       "       ['1', 'Schafer', 'Elise', 91, 75, 90, 68, 85],\n",
       "       ['2', 'Zimmermann', 'Kate', 86, 76, 42, 72, 88],\n",
       "       ['2', 'Mendoza', 'James', 77, 92, 52, 60, 80],\n",
       "       ['3', 'Park', 'Jay', 75, 85, 85, 92, 95],\n",
       "       ['3', 'Delcourt', 'Emma', 96, 90, 95, 81, 72],\n",
       "       ['4', 'Thompson', 'Sarah', 91, 81, 92, 81, 73]], dtype=object)"
      ]
     },
     "execution_count": 18,
     "metadata": {},
     "output_type": "execute_result"
    }
   ],
   "source": [
    "df.values"
   ]
  },
  {
   "cell_type": "markdown",
   "metadata": {
    "id": "IzACd_GqdAmR"
   },
   "source": [
    "To get general information about a DataFrame, `.info()` shows a concise summary of a DataFrame. The summary information includes columns, data type of each colum, non-null values and memory usage."
   ]
  },
  {
   "cell_type": "code",
   "execution_count": 19,
   "metadata": {
    "id": "4j7kexrhdAmR",
    "outputId": "eea1d9e5-31ec-433b-ab28-19d467de563a"
   },
   "outputs": [
    {
     "name": "stdout",
     "output_type": "stream",
     "text": [
      "<class 'pandas.core.frame.DataFrame'>\n",
      "RangeIndex: 7 entries, 0 to 6\n",
      "Data columns (total 8 columns):\n",
      " #   Column  Non-Null Count  Dtype \n",
      "---  ------  --------------  ----- \n",
      " 0   A       7 non-null      object\n",
      " 1   B       7 non-null      object\n",
      " 2   C       7 non-null      object\n",
      " 3   D       7 non-null      int64 \n",
      " 4   E       7 non-null      int64 \n",
      " 5   F       7 non-null      int64 \n",
      " 6   G       7 non-null      int64 \n",
      " 7   H       7 non-null      int64 \n",
      "dtypes: int64(5), object(3)\n",
      "memory usage: 576.0+ bytes\n"
     ]
    }
   ],
   "source": [
    "df.info()"
   ]
  },
  {
   "cell_type": "markdown",
   "metadata": {
    "id": "49gZniIbdAmT"
   },
   "source": [
    "For the statistical summary of a DataFrame, `.describe()` returns descriptive statistics on your data. Since the data type of some columns such as 'class', 'first_name' and 'last_name' are strings, the statistical summary on these will not be displayed."
   ]
  },
  {
   "cell_type": "code",
   "execution_count": 9,
   "metadata": {
    "id": "4Ax6x4NVdAmT",
    "outputId": "26e9946c-c470-40d3-f68c-87c30aead71e",
    "scrolled": true
   },
   "outputs": [
    {
     "ename": "NameError",
     "evalue": "name 'df' is not defined",
     "output_type": "error",
     "traceback": [
      "\u001b[1;31m---------------------------------------------------------------------------\u001b[0m",
      "\u001b[1;31mNameError\u001b[0m                                 Traceback (most recent call last)",
      "\u001b[1;32m<ipython-input-9-ea8415b8a3ee>\u001b[0m in \u001b[0;36m<module>\u001b[1;34m()\u001b[0m\n\u001b[1;32m----> 1\u001b[1;33m \u001b[0mdf\u001b[0m\u001b[1;33m.\u001b[0m\u001b[0mdescribe\u001b[0m\u001b[1;33m(\u001b[0m\u001b[1;33m)\u001b[0m\u001b[1;33m\u001b[0m\u001b[0m\n\u001b[0m",
      "\u001b[1;31mNameError\u001b[0m: name 'df' is not defined"
     ]
    }
   ],
   "source": [
    "df.describe()"
   ]
  },
  {
   "cell_type": "markdown",
   "metadata": {
    "id": "zs2CfF8GdAmW"
   },
   "source": [
    "### (2) Index for rows and columns of a DataFrame\n",
    "\n",
    "A DataFrame is a 2-dimensional object with rows and columns. The row indices can be fetched by `.index` and column indices by `.columns`.\n",
    "\n",
    "- Row indices = `.index`\n",
    "- Column indices = `.columns` \n",
    "\n",
    "The above methods can also be used to rename the corresponding indices."
   ]
  },
  {
   "cell_type": "markdown",
   "metadata": {
    "id": "LsmVZT_OdAmW"
   },
   "source": [
    "#### Row index / Row names"
   ]
  },
  {
   "cell_type": "code",
   "execution_count": 21,
   "metadata": {
    "id": "6vIysphxdAmX",
    "outputId": "3b3cd11d-246a-4b6f-cf7e-b2aa7a928a31",
    "scrolled": false
   },
   "outputs": [
    {
     "data": {
      "text/plain": [
       "RangeIndex(start=0, stop=7, step=1)"
      ]
     },
     "execution_count": 21,
     "metadata": {},
     "output_type": "execute_result"
    }
   ],
   "source": [
    "df.index"
   ]
  },
  {
   "cell_type": "markdown",
   "metadata": {
    "id": "rUk4pkh8dAmY"
   },
   "source": [
    "Rename row indices as follows."
   ]
  },
  {
   "cell_type": "code",
   "execution_count": 22,
   "metadata": {
    "id": "IjRJSsSFdAmZ",
    "outputId": "e2620398-ecf6-4403-e347-56f2921f17e2",
    "scrolled": false
   },
   "outputs": [
    {
     "data": {
      "text/plain": [
       "Index(['row1', 'row2', 'row4', 'row5', 'row6', 'row7', 'row8'], dtype='object')"
      ]
     },
     "execution_count": 22,
     "metadata": {},
     "output_type": "execute_result"
    }
   ],
   "source": [
    "row_index = [\"row1\",\"row2\",\"row3\",\"row4\",\"row5\",\"row6\",\"row7\"]\n",
    "df.index = row_index\n",
    "df.index"
   ]
  },
  {
   "cell_type": "markdown",
   "metadata": {
    "id": "o89ROb7ZdAmb"
   },
   "source": [
    "#### Column index / Column names"
   ]
  },
  {
   "cell_type": "code",
   "execution_count": 23,
   "metadata": {
    "id": "VcXJ-1KOdAmb",
    "outputId": "c543ca7a-7834-4d3a-ec2d-43a45c2f8122",
    "scrolled": true
   },
   "outputs": [
    {
     "data": {
      "text/plain": [
       "Index(['A', 'B', 'C', 'D', 'E', 'F', 'G', 'H'], dtype='object')"
      ]
     },
     "execution_count": 23,
     "metadata": {},
     "output_type": "execute_result"
    }
   ],
   "source": [
    "df.columns # getting column names"
   ]
  },
  {
   "cell_type": "markdown",
   "metadata": {
    "id": "J7aA_QxjdAmd"
   },
   "source": [
    "Rename column indices as follows."
   ]
  },
  {
   "cell_type": "code",
   "execution_count": 24,
   "metadata": {
    "id": "QR5iKKp7dAme",
    "outputId": "2bc6e315-7ba5-4f57-ee3e-a276e3c3a496"
   },
   "outputs": [
    {
     "data": {
      "text/plain": [
       "Index(['col1', 'col2', 'col3', 'col4', 'col5', 'col6', 'col7', 'col8'], dtype='object')"
      ]
     },
     "execution_count": 24,
     "metadata": {},
     "output_type": "execute_result"
    }
   ],
   "source": [
    "col_index = [\"col1\",\"col2\",\"col3\",\"col4\",\"col5\",\"col6\",\"col7\", \"col8\"]\n",
    "df.columns = col_index\n",
    "df.columns"
   ]
  },
  {
   "cell_type": "code",
   "execution_count": 25,
   "metadata": {
    "id": "8Fqv684ddAmg",
    "outputId": "e0621b98-6f9f-41de-aed2-1f1b4a32aa37"
   },
   "outputs": [
    {
     "data": {
      "text/html": [
       "<div>\n",
       "<style scoped>\n",
       "    .dataframe tbody tr th:only-of-type {\n",
       "        vertical-align: middle;\n",
       "    }\n",
       "\n",
       "    .dataframe tbody tr th {\n",
       "        vertical-align: top;\n",
       "    }\n",
       "\n",
       "    .dataframe thead th {\n",
       "        text-align: right;\n",
       "    }\n",
       "</style>\n",
       "<table border=\"1\" class=\"dataframe\">\n",
       "  <thead>\n",
       "    <tr style=\"text-align: right;\">\n",
       "      <th></th>\n",
       "      <th>col1</th>\n",
       "      <th>col2</th>\n",
       "      <th>col3</th>\n",
       "      <th>col4</th>\n",
       "      <th>col5</th>\n",
       "      <th>col6</th>\n",
       "      <th>col7</th>\n",
       "      <th>col8</th>\n",
       "    </tr>\n",
       "  </thead>\n",
       "  <tbody>\n",
       "    <tr>\n",
       "      <th>row1</th>\n",
       "      <td>1</td>\n",
       "      <td>Smith</td>\n",
       "      <td>John</td>\n",
       "      <td>80</td>\n",
       "      <td>92</td>\n",
       "      <td>70</td>\n",
       "      <td>65</td>\n",
       "      <td>92</td>\n",
       "    </tr>\n",
       "    <tr>\n",
       "      <th>row2</th>\n",
       "      <td>1</td>\n",
       "      <td>Schafer</td>\n",
       "      <td>Elise</td>\n",
       "      <td>91</td>\n",
       "      <td>75</td>\n",
       "      <td>90</td>\n",
       "      <td>68</td>\n",
       "      <td>85</td>\n",
       "    </tr>\n",
       "    <tr>\n",
       "      <th>row4</th>\n",
       "      <td>2</td>\n",
       "      <td>Zimmermann</td>\n",
       "      <td>Kate</td>\n",
       "      <td>86</td>\n",
       "      <td>76</td>\n",
       "      <td>42</td>\n",
       "      <td>72</td>\n",
       "      <td>88</td>\n",
       "    </tr>\n",
       "    <tr>\n",
       "      <th>row5</th>\n",
       "      <td>2</td>\n",
       "      <td>Mendoza</td>\n",
       "      <td>James</td>\n",
       "      <td>77</td>\n",
       "      <td>92</td>\n",
       "      <td>52</td>\n",
       "      <td>60</td>\n",
       "      <td>80</td>\n",
       "    </tr>\n",
       "    <tr>\n",
       "      <th>row6</th>\n",
       "      <td>3</td>\n",
       "      <td>Park</td>\n",
       "      <td>Jay</td>\n",
       "      <td>75</td>\n",
       "      <td>85</td>\n",
       "      <td>85</td>\n",
       "      <td>92</td>\n",
       "      <td>95</td>\n",
       "    </tr>\n",
       "    <tr>\n",
       "      <th>row7</th>\n",
       "      <td>3</td>\n",
       "      <td>Delcourt</td>\n",
       "      <td>Emma</td>\n",
       "      <td>96</td>\n",
       "      <td>90</td>\n",
       "      <td>95</td>\n",
       "      <td>81</td>\n",
       "      <td>72</td>\n",
       "    </tr>\n",
       "    <tr>\n",
       "      <th>row8</th>\n",
       "      <td>4</td>\n",
       "      <td>Thompson</td>\n",
       "      <td>Sarah</td>\n",
       "      <td>91</td>\n",
       "      <td>81</td>\n",
       "      <td>92</td>\n",
       "      <td>81</td>\n",
       "      <td>73</td>\n",
       "    </tr>\n",
       "  </tbody>\n",
       "</table>\n",
       "</div>"
      ],
      "text/plain": [
       "     col1        col2   col3  col4  col5  col6  col7  col8\n",
       "row1    1       Smith   John    80    92    70    65    92\n",
       "row2    1     Schafer  Elise    91    75    90    68    85\n",
       "row4    2  Zimmermann   Kate    86    76    42    72    88\n",
       "row5    2     Mendoza  James    77    92    52    60    80\n",
       "row6    3        Park    Jay    75    85    85    92    95\n",
       "row7    3    Delcourt   Emma    96    90    95    81    72\n",
       "row8    4    Thompson  Sarah    91    81    92    81    73"
      ]
     },
     "execution_count": 25,
     "metadata": {},
     "output_type": "execute_result"
    }
   ],
   "source": [
    "df"
   ]
  }
 ],
 "metadata": {
  "colab": {
   "collapsed_sections": [],
   "name": "1_Data Structures in Pandas(최종).ipynb의 사본",
   "provenance": [
    {
     "file_id": "1vSfCxlsFaP3_UiTdKOuS5dRSi7jwOnWN",
     "timestamp": 1604377348208
    }
   ]
  },
  "kernelspec": {
   "display_name": "Python 3",
   "language": "python",
   "name": "python3"
  },
  "language_info": {
   "codemirror_mode": {
    "name": "ipython",
    "version": 3
   },
   "file_extension": ".py",
   "mimetype": "text/x-python",
   "name": "python",
   "nbconvert_exporter": "python",
   "pygments_lexer": "ipython3",
   "version": "3.7.0"
  },
  "toc": {
   "base_numbering": 1,
   "nav_menu": {},
   "number_sections": false,
   "sideBar": true,
   "skip_h1_title": false,
   "title_cell": "Table of Contents",
   "title_sidebar": "Contents",
   "toc_cell": false,
   "toc_position": {
    "height": "calc(100% - 180px)",
    "left": "10px",
    "top": "150px",
    "width": "315.806px"
   },
   "toc_section_display": true,
   "toc_window_display": true
  }
 },
 "nbformat": 4,
 "nbformat_minor": 1
}
