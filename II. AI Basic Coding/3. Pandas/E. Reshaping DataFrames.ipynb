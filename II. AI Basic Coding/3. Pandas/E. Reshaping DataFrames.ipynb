{
 "cells": [
  {
   "cell_type": "markdown",
   "metadata": {
    "id": "TgfXFug0dXid"
   },
   "source": [
    "# E. Reshaping DataFrames\n",
    "\n",
    "While working on pandas DataFrame, there are times you have to reshape it by joining it with another DataFrame or summarizing it. In this section, we will be looking at some useful pandas methods used for reshaping DataFrames.\n",
    "\n",
    "### _Objective_\n",
    "1. **Joining DataFrames**: Understanding how to join multiple 2-dimensional datasets.\n",
    "3. **Summarizing a DataFrame** : Understanding how to summarize data by `.groupby()` and `.pivot_table()`."
   ]
  },
  {
   "cell_type": "code",
   "execution_count": 1,
   "metadata": {
    "collapsed": true,
    "id": "mmbYcuRqdXih"
   },
   "outputs": [],
   "source": [
    "import pandas as pd\n",
    "import numpy as np"
   ]
  },
  {
   "cell_type": "markdown",
   "metadata": {
    "id": "n77vWIOldXix"
   },
   "source": [
    "<br><br>\n",
    "\n",
    "# \\[1. Joining DataFrames\\]\n",
    "\n",
    "Joining or merging DataFrames is one of the core data processing processes you need to deal with for data analysis and machine learning tasks. Pandas provides various tools for combining multiple Series or DataFrame objects along a specific axis.\n",
    "\n",
    "Pandas provides two methods for combining two datasets(or DataFrames), which are `.merge()` and `.concat()`.\n",
    "\n",
    "+ `.merge()` : merges DataFrames with database-style join such as inner join, outer join, left join, right join.\n",
    "\n",
    "+ `.concat()` : concatenates two or more DataFrames/Series objects over a specified axis.\n",
    "\n",
    "As a Python beginner, data merge or data concatenation may sound very vague. So, let's take a look at each of these in more detail with some intuitive examples."
   ]
  },
  {
   "cell_type": "markdown",
   "metadata": {
    "id": "q732gVe1dXi0"
   },
   "source": [
    "### Example Data) Book Database\n",
    "\n",
    "We'll be creating two datasets for a book database, one on authors and the other on readers. Then, let's see how the datasets can be joined together."
   ]
  },
  {
   "cell_type": "markdown",
   "metadata": {
    "id": "oj7tGAPodXi3"
   },
   "source": [
    "#### Dataset on authors and books"
   ]
  },
  {
   "cell_type": "code",
   "execution_count": 2,
   "metadata": {
    "id": "7t3nHz0odXi5",
    "outputId": "aaba9f11-07c0-4d5a-c133-3be45182f450"
   },
   "outputs": [
    {
     "data": {
      "text/html": [
       "<div>\n",
       "<style scoped>\n",
       "    .dataframe tbody tr th:only-of-type {\n",
       "        vertical-align: middle;\n",
       "    }\n",
       "\n",
       "    .dataframe tbody tr th {\n",
       "        vertical-align: top;\n",
       "    }\n",
       "\n",
       "    .dataframe thead th {\n",
       "        text-align: right;\n",
       "    }\n",
       "</style>\n",
       "<table border=\"1\" class=\"dataframe\">\n",
       "  <thead>\n",
       "    <tr style=\"text-align: right;\">\n",
       "      <th></th>\n",
       "      <th>author</th>\n",
       "      <th>book</th>\n",
       "    </tr>\n",
       "  </thead>\n",
       "  <tbody>\n",
       "    <tr>\n",
       "      <th>0</th>\n",
       "      <td>Yuval Noah Harari</td>\n",
       "      <td>Sapiens</td>\n",
       "    </tr>\n",
       "    <tr>\n",
       "      <th>1</th>\n",
       "      <td>Yuval Noah Harari</td>\n",
       "      <td>Homo Deus</td>\n",
       "    </tr>\n",
       "    <tr>\n",
       "      <th>2</th>\n",
       "      <td>Yuval Noah Harari</td>\n",
       "      <td>Money: Vintage Minis</td>\n",
       "    </tr>\n",
       "    <tr>\n",
       "      <th>3</th>\n",
       "      <td>Bernard Werber</td>\n",
       "      <td>The Ants trilogy</td>\n",
       "    </tr>\n",
       "    <tr>\n",
       "      <th>4</th>\n",
       "      <td>Bernard Werber</td>\n",
       "      <td>Angels cycle</td>\n",
       "    </tr>\n",
       "    <tr>\n",
       "      <th>5</th>\n",
       "      <td>Bernard Werber</td>\n",
       "      <td>Le Jour des fourmis</td>\n",
       "    </tr>\n",
       "    <tr>\n",
       "      <th>6</th>\n",
       "      <td>Bernard Werber</td>\n",
       "      <td>Demain les Chats</td>\n",
       "    </tr>\n",
       "  </tbody>\n",
       "</table>\n",
       "</div>"
      ],
      "text/plain": [
       "              author                  book\n",
       "0  Yuval Noah Harari               Sapiens\n",
       "1  Yuval Noah Harari             Homo Deus\n",
       "2  Yuval Noah Harari  Money: Vintage Minis\n",
       "3     Bernard Werber      The Ants trilogy\n",
       "4     Bernard Werber          Angels cycle\n",
       "5     Bernard Werber   Le Jour des fourmis\n",
       "6     Bernard Werber      Demain les Chats"
      ]
     },
     "metadata": {},
     "output_type": "display_data"
    }
   ],
   "source": [
    "authors = [\n",
    "    [\"Yuval Noah Harari\",\"Sapiens\"],\n",
    "    [\"Yuval Noah Harari\",\"Homo Deus\"],\n",
    "    [\"Yuval Noah Harari\",\"Money: Vintage Minis\"],\n",
    "    [\"Bernard Werber\",\"The Ants trilogy\"],\n",
    "    [\"Bernard Werber\",\"Angels cycle\"],\n",
    "    [\"Bernard Werber\",\"Le Jour des fourmis\"],\n",
    "    [\"Bernard Werber\",\"Demain les Chats\"]\n",
    "]\n",
    "author_df = pd.DataFrame(authors,columns=[\"author\",'book'])\n",
    "display(author_df)"
   ]
  },
  {
   "cell_type": "markdown",
   "metadata": {
    "id": "LAYsykjQdXjH"
   },
   "source": [
    "#### Dataset on readers and books"
   ]
  },
  {
   "cell_type": "code",
   "execution_count": 3,
   "metadata": {
    "collapsed": true,
    "id": "s2tdG6b9dXjI"
   },
   "outputs": [],
   "source": [
    "readers = [\n",
    "    [\"John\",\"Demain les Chats\"],\n",
    "    [\"John\",\"Rebecca\"],\n",
    "    [\"John\",\"The Ants trilogy\"],\n",
    "    [\"Kate\",\"Homo Deus\"],\n",
    "    [\"Sarah\",\"Homo Deus\"],\n",
    "    [\"Sarah\",\"Sapiens\"],\n",
    "    [\"James\",\"Le Jour des fourmis\"],\n",
    "    [\"James\",\"The Ants trilogy\"],\n",
    "    [\"Elise\",\"Rebecca\"],\n",
    "    [\"Elise\",\"Sapiens\"],\n",
    "]\n",
    "\n",
    "reader_df = pd.DataFrame(readers,columns=[\"reader\",'book'])"
   ]
  },
  {
   "cell_type": "markdown",
   "metadata": {
    "id": "R2q9WD7ydXjP"
   },
   "source": [
    "<br>\n",
    "\n",
    "## 1. **`.Merge()`**\n",
    "\n",
    "+ `.merge()` is one of the pandas data combination tools that joins two or more DataFrames into a single DataFrame based on common columns or indices\n",
    "\n",
    "+ There are different types of merges available in pandas depending on how you want the data to be merged, and you can set the type to `how` keyword.\n",
    "\n",
    " - **left** - uses only keys from left frame, similar to a SQL left outer join; preserves key order.\n",
    "\n",
    " - **right** - uses only keys from right frame, similar to a SQL right outer join; preserves key order.\n",
    "\n",
    " - **outer** - uses union of keys from both frames, similar to a SQL full outer join; sorts keys lexicographically.\n",
    "\n",
    " - **inner** - uses intersection of keys from both frames, similar to a SQL inner join; preserves the order of the left keys.\n",
    "\n",
    " - ![](https://shanelynnwebsite-mid9n9g1q9y8tt.netdna-ssl.com/wp-content/uploads/2017/03/join-types-merge-names.jpg)"
   ]
  },
  {
   "cell_type": "markdown",
   "metadata": {
    "id": "A7WiWU8SdXjQ"
   },
   "source": [
    "### (1) Inner merge\n",
    "\n",
    "Inner merge refers to merging only the common values existing in both the left and right DataFrames.\n",
    "Despite “inner” merge is the default merge type, it can explicitly be specified by passing  \"`how = inner`\" to `.merge()`. If you want to merge datasets based on specific columns or rows, pass the corresponding column/row names to `on` keyword.<br>\n",
    "Note that the column/row name to be passed to `on` must be found in both DataFrames."
   ]
  },
  {
   "cell_type": "code",
   "execution_count": 4,
   "metadata": {
    "id": "GLgnPM6GdXjR",
    "outputId": "212fe382-efa3-407b-cca8-4d8104f76c51"
   },
   "outputs": [
    {
     "data": {
      "text/html": [
       "<div>\n",
       "<style scoped>\n",
       "    .dataframe tbody tr th:only-of-type {\n",
       "        vertical-align: middle;\n",
       "    }\n",
       "\n",
       "    .dataframe tbody tr th {\n",
       "        vertical-align: top;\n",
       "    }\n",
       "\n",
       "    .dataframe thead th {\n",
       "        text-align: right;\n",
       "    }\n",
       "</style>\n",
       "<table border=\"1\" class=\"dataframe\">\n",
       "  <thead>\n",
       "    <tr style=\"text-align: right;\">\n",
       "      <th></th>\n",
       "      <th>author</th>\n",
       "      <th>book</th>\n",
       "      <th>reader</th>\n",
       "    </tr>\n",
       "  </thead>\n",
       "  <tbody>\n",
       "    <tr>\n",
       "      <th>0</th>\n",
       "      <td>Yuval Noah Harari</td>\n",
       "      <td>Sapiens</td>\n",
       "      <td>Sarah</td>\n",
       "    </tr>\n",
       "    <tr>\n",
       "      <th>1</th>\n",
       "      <td>Yuval Noah Harari</td>\n",
       "      <td>Sapiens</td>\n",
       "      <td>Elise</td>\n",
       "    </tr>\n",
       "    <tr>\n",
       "      <th>2</th>\n",
       "      <td>Yuval Noah Harari</td>\n",
       "      <td>Homo Deus</td>\n",
       "      <td>Kate</td>\n",
       "    </tr>\n",
       "    <tr>\n",
       "      <th>3</th>\n",
       "      <td>Yuval Noah Harari</td>\n",
       "      <td>Homo Deus</td>\n",
       "      <td>Sarah</td>\n",
       "    </tr>\n",
       "    <tr>\n",
       "      <th>4</th>\n",
       "      <td>Bernard Werber</td>\n",
       "      <td>The Ants trilogy</td>\n",
       "      <td>John</td>\n",
       "    </tr>\n",
       "    <tr>\n",
       "      <th>5</th>\n",
       "      <td>Bernard Werber</td>\n",
       "      <td>The Ants trilogy</td>\n",
       "      <td>James</td>\n",
       "    </tr>\n",
       "    <tr>\n",
       "      <th>6</th>\n",
       "      <td>Bernard Werber</td>\n",
       "      <td>Le Jour des fourmis</td>\n",
       "      <td>James</td>\n",
       "    </tr>\n",
       "    <tr>\n",
       "      <th>7</th>\n",
       "      <td>Bernard Werber</td>\n",
       "      <td>Demain les Chats</td>\n",
       "      <td>John</td>\n",
       "    </tr>\n",
       "  </tbody>\n",
       "</table>\n",
       "</div>"
      ],
      "text/plain": [
       "              author                 book reader\n",
       "0  Yuval Noah Harari              Sapiens  Sarah\n",
       "1  Yuval Noah Harari              Sapiens  Elise\n",
       "2  Yuval Noah Harari            Homo Deus   Kate\n",
       "3  Yuval Noah Harari            Homo Deus  Sarah\n",
       "4     Bernard Werber     The Ants trilogy   John\n",
       "5     Bernard Werber     The Ants trilogy  James\n",
       "6     Bernard Werber  Le Jour des fourmis  James\n",
       "7     Bernard Werber     Demain les Chats   John"
      ]
     },
     "execution_count": 4,
     "metadata": {},
     "output_type": "execute_result"
    }
   ],
   "source": [
    "pd.merge(left = author_df, right = reader_df, on=\"book\", how='inner')"
   ]
  },
  {
   "cell_type": "markdown",
   "metadata": {
    "id": "G4f1ceqJdXjX"
   },
   "source": [
    "### (2) Outer merge\n",
    "\n",
    "Outer merge refers to merging two datasets regardless of the presence of common variables. In an outer merge, all rows and columns from both datasets are retained, and in case there is no matching variable, the variable will be filled with `NaN` values."
   ]
  },
  {
   "cell_type": "code",
   "execution_count": 5,
   "metadata": {
    "id": "Q1nYsdRsdXjX",
    "outputId": "bacc37dd-9e78-4f14-fcb2-a3e16cf2d572"
   },
   "outputs": [
    {
     "data": {
      "text/html": [
       "<div>\n",
       "<style scoped>\n",
       "    .dataframe tbody tr th:only-of-type {\n",
       "        vertical-align: middle;\n",
       "    }\n",
       "\n",
       "    .dataframe tbody tr th {\n",
       "        vertical-align: top;\n",
       "    }\n",
       "\n",
       "    .dataframe thead th {\n",
       "        text-align: right;\n",
       "    }\n",
       "</style>\n",
       "<table border=\"1\" class=\"dataframe\">\n",
       "  <thead>\n",
       "    <tr style=\"text-align: right;\">\n",
       "      <th></th>\n",
       "      <th>author</th>\n",
       "      <th>book</th>\n",
       "      <th>reader</th>\n",
       "    </tr>\n",
       "  </thead>\n",
       "  <tbody>\n",
       "    <tr>\n",
       "      <th>0</th>\n",
       "      <td>Yuval Noah Harari</td>\n",
       "      <td>Sapiens</td>\n",
       "      <td>Sarah</td>\n",
       "    </tr>\n",
       "    <tr>\n",
       "      <th>1</th>\n",
       "      <td>Yuval Noah Harari</td>\n",
       "      <td>Sapiens</td>\n",
       "      <td>Elise</td>\n",
       "    </tr>\n",
       "    <tr>\n",
       "      <th>2</th>\n",
       "      <td>Yuval Noah Harari</td>\n",
       "      <td>Homo Deus</td>\n",
       "      <td>Kate</td>\n",
       "    </tr>\n",
       "    <tr>\n",
       "      <th>3</th>\n",
       "      <td>Yuval Noah Harari</td>\n",
       "      <td>Homo Deus</td>\n",
       "      <td>Sarah</td>\n",
       "    </tr>\n",
       "    <tr>\n",
       "      <th>4</th>\n",
       "      <td>Yuval Noah Harari</td>\n",
       "      <td>Money: Vintage Minis</td>\n",
       "      <td>NaN</td>\n",
       "    </tr>\n",
       "    <tr>\n",
       "      <th>5</th>\n",
       "      <td>Bernard Werber</td>\n",
       "      <td>The Ants trilogy</td>\n",
       "      <td>John</td>\n",
       "    </tr>\n",
       "    <tr>\n",
       "      <th>6</th>\n",
       "      <td>Bernard Werber</td>\n",
       "      <td>The Ants trilogy</td>\n",
       "      <td>James</td>\n",
       "    </tr>\n",
       "    <tr>\n",
       "      <th>7</th>\n",
       "      <td>Bernard Werber</td>\n",
       "      <td>Angels cycle</td>\n",
       "      <td>NaN</td>\n",
       "    </tr>\n",
       "    <tr>\n",
       "      <th>8</th>\n",
       "      <td>Bernard Werber</td>\n",
       "      <td>Le Jour des fourmis</td>\n",
       "      <td>James</td>\n",
       "    </tr>\n",
       "    <tr>\n",
       "      <th>9</th>\n",
       "      <td>Bernard Werber</td>\n",
       "      <td>Demain les Chats</td>\n",
       "      <td>John</td>\n",
       "    </tr>\n",
       "    <tr>\n",
       "      <th>10</th>\n",
       "      <td>NaN</td>\n",
       "      <td>Rebecca</td>\n",
       "      <td>John</td>\n",
       "    </tr>\n",
       "    <tr>\n",
       "      <th>11</th>\n",
       "      <td>NaN</td>\n",
       "      <td>Rebecca</td>\n",
       "      <td>Elise</td>\n",
       "    </tr>\n",
       "  </tbody>\n",
       "</table>\n",
       "</div>"
      ],
      "text/plain": [
       "               author                  book reader\n",
       "0   Yuval Noah Harari               Sapiens  Sarah\n",
       "1   Yuval Noah Harari               Sapiens  Elise\n",
       "2   Yuval Noah Harari             Homo Deus   Kate\n",
       "3   Yuval Noah Harari             Homo Deus  Sarah\n",
       "4   Yuval Noah Harari  Money: Vintage Minis    NaN\n",
       "5      Bernard Werber      The Ants trilogy   John\n",
       "6      Bernard Werber      The Ants trilogy  James\n",
       "7      Bernard Werber          Angels cycle    NaN\n",
       "8      Bernard Werber   Le Jour des fourmis  James\n",
       "9      Bernard Werber      Demain les Chats   John\n",
       "10                NaN               Rebecca   John\n",
       "11                NaN               Rebecca  Elise"
      ]
     },
     "execution_count": 5,
     "metadata": {},
     "output_type": "execute_result"
    }
   ],
   "source": [
    "df = pd.merge(author_df, reader_df, on = \"book\",how = 'outer')\n",
    "df"
   ]
  },
  {
   "cell_type": "markdown",
   "metadata": {
    "id": "krosRGAMdXjc"
   },
   "source": [
    "In the above DataFrame, `NaN` stands for \"Not a Number\" meaning 'a missing value'. If you want to remove rows and columns with NaN values, use `.dropna()`."
   ]
  },
  {
   "cell_type": "code",
   "execution_count": 6,
   "metadata": {
    "id": "4P3SY5pndXjd",
    "outputId": "63364d29-0af9-46fb-ce24-25802751a076"
   },
   "outputs": [
    {
     "data": {
      "text/html": [
       "<div>\n",
       "<style scoped>\n",
       "    .dataframe tbody tr th:only-of-type {\n",
       "        vertical-align: middle;\n",
       "    }\n",
       "\n",
       "    .dataframe tbody tr th {\n",
       "        vertical-align: top;\n",
       "    }\n",
       "\n",
       "    .dataframe thead th {\n",
       "        text-align: right;\n",
       "    }\n",
       "</style>\n",
       "<table border=\"1\" class=\"dataframe\">\n",
       "  <thead>\n",
       "    <tr style=\"text-align: right;\">\n",
       "      <th></th>\n",
       "      <th>author</th>\n",
       "      <th>book</th>\n",
       "      <th>reader</th>\n",
       "    </tr>\n",
       "  </thead>\n",
       "  <tbody>\n",
       "    <tr>\n",
       "      <th>0</th>\n",
       "      <td>Yuval Noah Harari</td>\n",
       "      <td>Sapiens</td>\n",
       "      <td>Sarah</td>\n",
       "    </tr>\n",
       "    <tr>\n",
       "      <th>1</th>\n",
       "      <td>Yuval Noah Harari</td>\n",
       "      <td>Sapiens</td>\n",
       "      <td>Elise</td>\n",
       "    </tr>\n",
       "    <tr>\n",
       "      <th>2</th>\n",
       "      <td>Yuval Noah Harari</td>\n",
       "      <td>Homo Deus</td>\n",
       "      <td>Kate</td>\n",
       "    </tr>\n",
       "    <tr>\n",
       "      <th>3</th>\n",
       "      <td>Yuval Noah Harari</td>\n",
       "      <td>Homo Deus</td>\n",
       "      <td>Sarah</td>\n",
       "    </tr>\n",
       "    <tr>\n",
       "      <th>5</th>\n",
       "      <td>Bernard Werber</td>\n",
       "      <td>The Ants trilogy</td>\n",
       "      <td>John</td>\n",
       "    </tr>\n",
       "    <tr>\n",
       "      <th>6</th>\n",
       "      <td>Bernard Werber</td>\n",
       "      <td>The Ants trilogy</td>\n",
       "      <td>James</td>\n",
       "    </tr>\n",
       "    <tr>\n",
       "      <th>8</th>\n",
       "      <td>Bernard Werber</td>\n",
       "      <td>Le Jour des fourmis</td>\n",
       "      <td>James</td>\n",
       "    </tr>\n",
       "    <tr>\n",
       "      <th>9</th>\n",
       "      <td>Bernard Werber</td>\n",
       "      <td>Demain les Chats</td>\n",
       "      <td>John</td>\n",
       "    </tr>\n",
       "  </tbody>\n",
       "</table>\n",
       "</div>"
      ],
      "text/plain": [
       "              author                 book reader\n",
       "0  Yuval Noah Harari              Sapiens  Sarah\n",
       "1  Yuval Noah Harari              Sapiens  Elise\n",
       "2  Yuval Noah Harari            Homo Deus   Kate\n",
       "3  Yuval Noah Harari            Homo Deus  Sarah\n",
       "5     Bernard Werber     The Ants trilogy   John\n",
       "6     Bernard Werber     The Ants trilogy  James\n",
       "8     Bernard Werber  Le Jour des fourmis  James\n",
       "9     Bernard Werber     Demain les Chats   John"
      ]
     },
     "execution_count": 6,
     "metadata": {},
     "output_type": "execute_result"
    }
   ],
   "source": [
    "# Removing rows with missing values\n",
    "df.dropna()"
   ]
  },
  {
   "cell_type": "markdown",
   "metadata": {
    "id": "A8iQoBMbdXji"
   },
   "source": [
    "Alternatively, you can replace NA/NaN values with another value with <code>.fillna()</code>.\n",
    "\n"
   ]
  },
  {
   "cell_type": "code",
   "execution_count": 7,
   "metadata": {
    "id": "O2QyzBfOdXjj",
    "outputId": "401f10e1-d1ea-4a16-c59b-7d2002e7b035"
   },
   "outputs": [
    {
     "data": {
      "text/html": [
       "<div>\n",
       "<style scoped>\n",
       "    .dataframe tbody tr th:only-of-type {\n",
       "        vertical-align: middle;\n",
       "    }\n",
       "\n",
       "    .dataframe tbody tr th {\n",
       "        vertical-align: top;\n",
       "    }\n",
       "\n",
       "    .dataframe thead th {\n",
       "        text-align: right;\n",
       "    }\n",
       "</style>\n",
       "<table border=\"1\" class=\"dataframe\">\n",
       "  <thead>\n",
       "    <tr style=\"text-align: right;\">\n",
       "      <th></th>\n",
       "      <th>author</th>\n",
       "      <th>book</th>\n",
       "      <th>reader</th>\n",
       "    </tr>\n",
       "  </thead>\n",
       "  <tbody>\n",
       "    <tr>\n",
       "      <th>0</th>\n",
       "      <td>Yuval Noah Harari</td>\n",
       "      <td>Sapiens</td>\n",
       "      <td>Sarah</td>\n",
       "    </tr>\n",
       "    <tr>\n",
       "      <th>1</th>\n",
       "      <td>Yuval Noah Harari</td>\n",
       "      <td>Sapiens</td>\n",
       "      <td>Elise</td>\n",
       "    </tr>\n",
       "    <tr>\n",
       "      <th>2</th>\n",
       "      <td>Yuval Noah Harari</td>\n",
       "      <td>Homo Deus</td>\n",
       "      <td>Kate</td>\n",
       "    </tr>\n",
       "    <tr>\n",
       "      <th>3</th>\n",
       "      <td>Yuval Noah Harari</td>\n",
       "      <td>Homo Deus</td>\n",
       "      <td>Sarah</td>\n",
       "    </tr>\n",
       "    <tr>\n",
       "      <th>4</th>\n",
       "      <td>Yuval Noah Harari</td>\n",
       "      <td>Money: Vintage Minis</td>\n",
       "      <td></td>\n",
       "    </tr>\n",
       "    <tr>\n",
       "      <th>5</th>\n",
       "      <td>Bernard Werber</td>\n",
       "      <td>The Ants trilogy</td>\n",
       "      <td>John</td>\n",
       "    </tr>\n",
       "    <tr>\n",
       "      <th>6</th>\n",
       "      <td>Bernard Werber</td>\n",
       "      <td>The Ants trilogy</td>\n",
       "      <td>James</td>\n",
       "    </tr>\n",
       "    <tr>\n",
       "      <th>7</th>\n",
       "      <td>Bernard Werber</td>\n",
       "      <td>Angels cycle</td>\n",
       "      <td></td>\n",
       "    </tr>\n",
       "    <tr>\n",
       "      <th>8</th>\n",
       "      <td>Bernard Werber</td>\n",
       "      <td>Le Jour des fourmis</td>\n",
       "      <td>James</td>\n",
       "    </tr>\n",
       "    <tr>\n",
       "      <th>9</th>\n",
       "      <td>Bernard Werber</td>\n",
       "      <td>Demain les Chats</td>\n",
       "      <td>John</td>\n",
       "    </tr>\n",
       "    <tr>\n",
       "      <th>10</th>\n",
       "      <td></td>\n",
       "      <td>Rebecca</td>\n",
       "      <td>John</td>\n",
       "    </tr>\n",
       "    <tr>\n",
       "      <th>11</th>\n",
       "      <td></td>\n",
       "      <td>Rebecca</td>\n",
       "      <td>Elise</td>\n",
       "    </tr>\n",
       "  </tbody>\n",
       "</table>\n",
       "</div>"
      ],
      "text/plain": [
       "               author                  book reader\n",
       "0   Yuval Noah Harari               Sapiens  Sarah\n",
       "1   Yuval Noah Harari               Sapiens  Elise\n",
       "2   Yuval Noah Harari             Homo Deus   Kate\n",
       "3   Yuval Noah Harari             Homo Deus  Sarah\n",
       "4   Yuval Noah Harari  Money: Vintage Minis       \n",
       "5      Bernard Werber      The Ants trilogy   John\n",
       "6      Bernard Werber      The Ants trilogy  James\n",
       "7      Bernard Werber          Angels cycle       \n",
       "8      Bernard Werber   Le Jour des fourmis  James\n",
       "9      Bernard Werber      Demain les Chats   John\n",
       "10                                  Rebecca   John\n",
       "11                                  Rebecca  Elise"
      ]
     },
     "execution_count": 7,
     "metadata": {},
     "output_type": "execute_result"
    }
   ],
   "source": [
    "# Replacing `NaN` with blanks\n",
    "df.fillna(value=\"\")"
   ]
  },
  {
   "cell_type": "markdown",
   "metadata": {
    "id": "C-qaU1QNdXjn"
   },
   "source": [
    "### (3) Left merge\n",
    "\n",
    "**Left merge** keeps all rows and columns of the left DataFrame. The merged dataset contains all from the left dataset and only those from the right dataset that have a matching value in the common column with the left dataset. Elements without any matching values will be filled with `NaN` values.\n",
    "\n",
    "In the example below, information on readers of `Money: Vintage Minis` and `Angels cycle` is missing in reader_df and hence filled with `NaN`."
   ]
  },
  {
   "cell_type": "code",
   "execution_count": 8,
   "metadata": {
    "id": "iU83rFOqdXjo",
    "outputId": "d3c7600a-fe0b-4544-cd88-8abc2f3bad7f",
    "scrolled": true
   },
   "outputs": [
    {
     "data": {
      "text/html": [
       "<div>\n",
       "<style scoped>\n",
       "    .dataframe tbody tr th:only-of-type {\n",
       "        vertical-align: middle;\n",
       "    }\n",
       "\n",
       "    .dataframe tbody tr th {\n",
       "        vertical-align: top;\n",
       "    }\n",
       "\n",
       "    .dataframe thead th {\n",
       "        text-align: right;\n",
       "    }\n",
       "</style>\n",
       "<table border=\"1\" class=\"dataframe\">\n",
       "  <thead>\n",
       "    <tr style=\"text-align: right;\">\n",
       "      <th></th>\n",
       "      <th>author</th>\n",
       "      <th>book</th>\n",
       "      <th>reader</th>\n",
       "    </tr>\n",
       "  </thead>\n",
       "  <tbody>\n",
       "    <tr>\n",
       "      <th>0</th>\n",
       "      <td>Yuval Noah Harari</td>\n",
       "      <td>Sapiens</td>\n",
       "      <td>Sarah</td>\n",
       "    </tr>\n",
       "    <tr>\n",
       "      <th>1</th>\n",
       "      <td>Yuval Noah Harari</td>\n",
       "      <td>Sapiens</td>\n",
       "      <td>Elise</td>\n",
       "    </tr>\n",
       "    <tr>\n",
       "      <th>2</th>\n",
       "      <td>Yuval Noah Harari</td>\n",
       "      <td>Homo Deus</td>\n",
       "      <td>Kate</td>\n",
       "    </tr>\n",
       "    <tr>\n",
       "      <th>3</th>\n",
       "      <td>Yuval Noah Harari</td>\n",
       "      <td>Homo Deus</td>\n",
       "      <td>Sarah</td>\n",
       "    </tr>\n",
       "    <tr>\n",
       "      <th>4</th>\n",
       "      <td>Yuval Noah Harari</td>\n",
       "      <td>Money: Vintage Minis</td>\n",
       "      <td>NaN</td>\n",
       "    </tr>\n",
       "    <tr>\n",
       "      <th>5</th>\n",
       "      <td>Bernard Werber</td>\n",
       "      <td>The Ants trilogy</td>\n",
       "      <td>John</td>\n",
       "    </tr>\n",
       "    <tr>\n",
       "      <th>6</th>\n",
       "      <td>Bernard Werber</td>\n",
       "      <td>The Ants trilogy</td>\n",
       "      <td>James</td>\n",
       "    </tr>\n",
       "    <tr>\n",
       "      <th>7</th>\n",
       "      <td>Bernard Werber</td>\n",
       "      <td>Angels cycle</td>\n",
       "      <td>NaN</td>\n",
       "    </tr>\n",
       "    <tr>\n",
       "      <th>8</th>\n",
       "      <td>Bernard Werber</td>\n",
       "      <td>Le Jour des fourmis</td>\n",
       "      <td>James</td>\n",
       "    </tr>\n",
       "    <tr>\n",
       "      <th>9</th>\n",
       "      <td>Bernard Werber</td>\n",
       "      <td>Demain les Chats</td>\n",
       "      <td>John</td>\n",
       "    </tr>\n",
       "  </tbody>\n",
       "</table>\n",
       "</div>"
      ],
      "text/plain": [
       "              author                  book reader\n",
       "0  Yuval Noah Harari               Sapiens  Sarah\n",
       "1  Yuval Noah Harari               Sapiens  Elise\n",
       "2  Yuval Noah Harari             Homo Deus   Kate\n",
       "3  Yuval Noah Harari             Homo Deus  Sarah\n",
       "4  Yuval Noah Harari  Money: Vintage Minis    NaN\n",
       "5     Bernard Werber      The Ants trilogy   John\n",
       "6     Bernard Werber      The Ants trilogy  James\n",
       "7     Bernard Werber          Angels cycle    NaN\n",
       "8     Bernard Werber   Le Jour des fourmis  James\n",
       "9     Bernard Werber      Demain les Chats   John"
      ]
     },
     "execution_count": 8,
     "metadata": {},
     "output_type": "execute_result"
    }
   ],
   "source": [
    "pd.merge(author_df, reader_df, how='left')"
   ]
  },
  {
   "cell_type": "markdown",
   "metadata": {
    "id": "on6dbBxgdXjs"
   },
   "source": [
    "### (4) Right merge"
   ]
  },
  {
   "cell_type": "markdown",
   "metadata": {
    "id": "8BcgDPSbdXjt"
   },
   "source": [
    "**`Right join`** is the opposite of left join. It means the two DataFrames are merged based on the right dataset keeping every row from it, with `NaNs` where there are no matching join variables from the left DataFrame.\n",
    "\n",
    "The information on the author of \"Rebecca\" is not present in the left DataFrame and is thus filled with `NaN`."
   ]
  },
  {
   "cell_type": "code",
   "execution_count": 9,
   "metadata": {
    "id": "Tk5TfJ5_dXju",
    "outputId": "f14128c3-5a5e-4446-ab82-9bbaa6df1c65"
   },
   "outputs": [
    {
     "data": {
      "text/html": [
       "<div>\n",
       "<style scoped>\n",
       "    .dataframe tbody tr th:only-of-type {\n",
       "        vertical-align: middle;\n",
       "    }\n",
       "\n",
       "    .dataframe tbody tr th {\n",
       "        vertical-align: top;\n",
       "    }\n",
       "\n",
       "    .dataframe thead th {\n",
       "        text-align: right;\n",
       "    }\n",
       "</style>\n",
       "<table border=\"1\" class=\"dataframe\">\n",
       "  <thead>\n",
       "    <tr style=\"text-align: right;\">\n",
       "      <th></th>\n",
       "      <th>author</th>\n",
       "      <th>book</th>\n",
       "      <th>reader</th>\n",
       "    </tr>\n",
       "  </thead>\n",
       "  <tbody>\n",
       "    <tr>\n",
       "      <th>0</th>\n",
       "      <td>Bernard Werber</td>\n",
       "      <td>Demain les Chats</td>\n",
       "      <td>John</td>\n",
       "    </tr>\n",
       "    <tr>\n",
       "      <th>1</th>\n",
       "      <td>NaN</td>\n",
       "      <td>Rebecca</td>\n",
       "      <td>John</td>\n",
       "    </tr>\n",
       "    <tr>\n",
       "      <th>2</th>\n",
       "      <td>NaN</td>\n",
       "      <td>Rebecca</td>\n",
       "      <td>Elise</td>\n",
       "    </tr>\n",
       "    <tr>\n",
       "      <th>3</th>\n",
       "      <td>Bernard Werber</td>\n",
       "      <td>The Ants trilogy</td>\n",
       "      <td>John</td>\n",
       "    </tr>\n",
       "    <tr>\n",
       "      <th>4</th>\n",
       "      <td>Bernard Werber</td>\n",
       "      <td>The Ants trilogy</td>\n",
       "      <td>James</td>\n",
       "    </tr>\n",
       "    <tr>\n",
       "      <th>5</th>\n",
       "      <td>Yuval Noah Harari</td>\n",
       "      <td>Homo Deus</td>\n",
       "      <td>Kate</td>\n",
       "    </tr>\n",
       "    <tr>\n",
       "      <th>6</th>\n",
       "      <td>Yuval Noah Harari</td>\n",
       "      <td>Homo Deus</td>\n",
       "      <td>Sarah</td>\n",
       "    </tr>\n",
       "    <tr>\n",
       "      <th>7</th>\n",
       "      <td>Yuval Noah Harari</td>\n",
       "      <td>Sapiens</td>\n",
       "      <td>Sarah</td>\n",
       "    </tr>\n",
       "    <tr>\n",
       "      <th>8</th>\n",
       "      <td>Yuval Noah Harari</td>\n",
       "      <td>Sapiens</td>\n",
       "      <td>Elise</td>\n",
       "    </tr>\n",
       "    <tr>\n",
       "      <th>9</th>\n",
       "      <td>Bernard Werber</td>\n",
       "      <td>Le Jour des fourmis</td>\n",
       "      <td>James</td>\n",
       "    </tr>\n",
       "  </tbody>\n",
       "</table>\n",
       "</div>"
      ],
      "text/plain": [
       "              author                 book reader\n",
       "0     Bernard Werber     Demain les Chats   John\n",
       "1                NaN              Rebecca   John\n",
       "2                NaN              Rebecca  Elise\n",
       "3     Bernard Werber     The Ants trilogy   John\n",
       "4     Bernard Werber     The Ants trilogy  James\n",
       "5  Yuval Noah Harari            Homo Deus   Kate\n",
       "6  Yuval Noah Harari            Homo Deus  Sarah\n",
       "7  Yuval Noah Harari              Sapiens  Sarah\n",
       "8  Yuval Noah Harari              Sapiens  Elise\n",
       "9     Bernard Werber  Le Jour des fourmis  James"
      ]
     },
     "execution_count": 9,
     "metadata": {},
     "output_type": "execute_result"
    }
   ],
   "source": [
    "pd.merge(author_df, reader_df, how='right')"
   ]
  },
  {
   "cell_type": "markdown",
   "metadata": {
    "id": "Ik50_Y3xdXjy"
   },
   "source": [
    "## 2. Concat\n",
    "\n",
    "`.concat()` allows you to stack a DataFrame to other existing DataFrames in a specific direction, either downwards or sideways."
   ]
  },
  {
   "cell_type": "markdown",
   "metadata": {
    "id": "Slk9Fs4MdXj0"
   },
   "source": [
    "### (1) Concatenating DataFrames along rows - `axis = 0`"
   ]
  },
  {
   "cell_type": "code",
   "execution_count": 10,
   "metadata": {
    "collapsed": true,
    "id": "RtOZNjxEdXj0"
   },
   "outputs": [],
   "source": [
    "df1 = pd.DataFrame([81,82,83,80],columns=[\"score\"])\n",
    "df2 = pd.DataFrame([90,91,80,75],columns=[\"score\"])\n",
    "result_df = pd.concat([df1,df2],axis=0)"
   ]
  },
  {
   "cell_type": "markdown",
   "metadata": {
    "id": "TG9uH5ADdXj5"
   },
   "source": [
    "Let's look at the index values of the concatenated DataFrame"
   ]
  },
  {
   "cell_type": "code",
   "execution_count": 11,
   "metadata": {
    "id": "lzpcxYo5dXj6",
    "outputId": "72da92a7-3382-4fb2-a372-e91aa440b282",
    "scrolled": true
   },
   "outputs": [
    {
     "data": {
      "text/html": [
       "<div>\n",
       "<style scoped>\n",
       "    .dataframe tbody tr th:only-of-type {\n",
       "        vertical-align: middle;\n",
       "    }\n",
       "\n",
       "    .dataframe tbody tr th {\n",
       "        vertical-align: top;\n",
       "    }\n",
       "\n",
       "    .dataframe thead th {\n",
       "        text-align: right;\n",
       "    }\n",
       "</style>\n",
       "<table border=\"1\" class=\"dataframe\">\n",
       "  <thead>\n",
       "    <tr style=\"text-align: right;\">\n",
       "      <th></th>\n",
       "      <th>score</th>\n",
       "    </tr>\n",
       "  </thead>\n",
       "  <tbody>\n",
       "    <tr>\n",
       "      <th>0</th>\n",
       "      <td>81</td>\n",
       "    </tr>\n",
       "    <tr>\n",
       "      <th>1</th>\n",
       "      <td>82</td>\n",
       "    </tr>\n",
       "    <tr>\n",
       "      <th>2</th>\n",
       "      <td>83</td>\n",
       "    </tr>\n",
       "    <tr>\n",
       "      <th>3</th>\n",
       "      <td>80</td>\n",
       "    </tr>\n",
       "    <tr>\n",
       "      <th>0</th>\n",
       "      <td>90</td>\n",
       "    </tr>\n",
       "    <tr>\n",
       "      <th>1</th>\n",
       "      <td>91</td>\n",
       "    </tr>\n",
       "    <tr>\n",
       "      <th>2</th>\n",
       "      <td>80</td>\n",
       "    </tr>\n",
       "    <tr>\n",
       "      <th>3</th>\n",
       "      <td>75</td>\n",
       "    </tr>\n",
       "  </tbody>\n",
       "</table>\n",
       "</div>"
      ],
      "text/plain": [
       "   score\n",
       "0     81\n",
       "1     82\n",
       "2     83\n",
       "3     80\n",
       "0     90\n",
       "1     91\n",
       "2     80\n",
       "3     75"
      ]
     },
     "execution_count": 11,
     "metadata": {},
     "output_type": "execute_result"
    }
   ],
   "source": [
    "result_df"
   ]
  },
  {
   "cell_type": "markdown",
   "metadata": {
    "id": "pBv6sssYdXj_"
   },
   "source": [
    "Since the new DataFrame has duplicated index values, you can reset them with `reset_index()`."
   ]
  },
  {
   "cell_type": "code",
   "execution_count": 12,
   "metadata": {
    "collapsed": true,
    "id": "xLkBO7DcdXkA"
   },
   "outputs": [],
   "source": [
    "result_df.reset_index(drop=True, inplace=True)"
   ]
  },
  {
   "cell_type": "markdown",
   "metadata": {
    "id": "tIJbFnAidXkE"
   },
   "source": [
    "By passing `inplace = True`, you can modify an existing DataFrame with the desired operation and does it `in place`, that is on the original data frame."
   ]
  },
  {
   "cell_type": "code",
   "execution_count": 13,
   "metadata": {
    "id": "3k6eY7zFdXkF",
    "outputId": "361da2b4-5d23-465f-c3ae-0acdcc7d34d8",
    "scrolled": true
   },
   "outputs": [
    {
     "data": {
      "text/html": [
       "<div>\n",
       "<style scoped>\n",
       "    .dataframe tbody tr th:only-of-type {\n",
       "        vertical-align: middle;\n",
       "    }\n",
       "\n",
       "    .dataframe tbody tr th {\n",
       "        vertical-align: top;\n",
       "    }\n",
       "\n",
       "    .dataframe thead th {\n",
       "        text-align: right;\n",
       "    }\n",
       "</style>\n",
       "<table border=\"1\" class=\"dataframe\">\n",
       "  <thead>\n",
       "    <tr style=\"text-align: right;\">\n",
       "      <th></th>\n",
       "      <th>score</th>\n",
       "    </tr>\n",
       "  </thead>\n",
       "  <tbody>\n",
       "    <tr>\n",
       "      <th>0</th>\n",
       "      <td>81</td>\n",
       "    </tr>\n",
       "    <tr>\n",
       "      <th>1</th>\n",
       "      <td>82</td>\n",
       "    </tr>\n",
       "    <tr>\n",
       "      <th>2</th>\n",
       "      <td>83</td>\n",
       "    </tr>\n",
       "    <tr>\n",
       "      <th>3</th>\n",
       "      <td>80</td>\n",
       "    </tr>\n",
       "    <tr>\n",
       "      <th>4</th>\n",
       "      <td>90</td>\n",
       "    </tr>\n",
       "    <tr>\n",
       "      <th>5</th>\n",
       "      <td>91</td>\n",
       "    </tr>\n",
       "    <tr>\n",
       "      <th>6</th>\n",
       "      <td>80</td>\n",
       "    </tr>\n",
       "    <tr>\n",
       "      <th>7</th>\n",
       "      <td>75</td>\n",
       "    </tr>\n",
       "  </tbody>\n",
       "</table>\n",
       "</div>"
      ],
      "text/plain": [
       "   score\n",
       "0     81\n",
       "1     82\n",
       "2     83\n",
       "3     80\n",
       "4     90\n",
       "5     91\n",
       "6     80\n",
       "7     75"
      ]
     },
     "execution_count": 13,
     "metadata": {},
     "output_type": "execute_result"
    }
   ],
   "source": [
    "result_df"
   ]
  },
  {
   "cell_type": "markdown",
   "metadata": {
    "id": "7JcwOE7ndXkJ"
   },
   "source": [
    "### (2) Concatenating DataFrames along columns - `axis = 1`\n"
   ]
  },
  {
   "cell_type": "code",
   "execution_count": 14,
   "metadata": {
    "id": "VD__5_rbdXkK",
    "outputId": "bedb3748-b196-49da-aa9b-2bafef8a1641",
    "scrolled": true
   },
   "outputs": [
    {
     "data": {
      "text/html": [
       "<div>\n",
       "<style scoped>\n",
       "    .dataframe tbody tr th:only-of-type {\n",
       "        vertical-align: middle;\n",
       "    }\n",
       "\n",
       "    .dataframe tbody tr th {\n",
       "        vertical-align: top;\n",
       "    }\n",
       "\n",
       "    .dataframe thead th {\n",
       "        text-align: right;\n",
       "    }\n",
       "</style>\n",
       "<table border=\"1\" class=\"dataframe\">\n",
       "  <thead>\n",
       "    <tr style=\"text-align: right;\">\n",
       "      <th></th>\n",
       "      <th>english_score</th>\n",
       "      <th>math_score</th>\n",
       "    </tr>\n",
       "  </thead>\n",
       "  <tbody>\n",
       "    <tr>\n",
       "      <th>0</th>\n",
       "      <td>81</td>\n",
       "      <td>90</td>\n",
       "    </tr>\n",
       "    <tr>\n",
       "      <th>1</th>\n",
       "      <td>82</td>\n",
       "      <td>91</td>\n",
       "    </tr>\n",
       "    <tr>\n",
       "      <th>2</th>\n",
       "      <td>83</td>\n",
       "      <td>80</td>\n",
       "    </tr>\n",
       "    <tr>\n",
       "      <th>3</th>\n",
       "      <td>80</td>\n",
       "      <td>75</td>\n",
       "    </tr>\n",
       "  </tbody>\n",
       "</table>\n",
       "</div>"
      ],
      "text/plain": [
       "   english_score  math_score\n",
       "0             81          90\n",
       "1             82          91\n",
       "2             83          80\n",
       "3             80          75"
      ]
     },
     "execution_count": 14,
     "metadata": {},
     "output_type": "execute_result"
    }
   ],
   "source": [
    "df1 = pd.DataFrame([81,82,83,80],columns=[\"english_score\"])\n",
    "df2 = pd.DataFrame([90,91,80,75],columns=[\"math_score\"])\n",
    "pd.concat([df1,df2],axis=1)"
   ]
  },
  {
   "cell_type": "markdown",
   "metadata": {
    "id": "P1AnmMa5dXkN"
   },
   "source": [
    "Although the columns to be concatenated are of the same name, they are not joined downwards. Instead, with `axis=1`, the concatenation is performed sideways."
   ]
  },
  {
   "cell_type": "code",
   "execution_count": 15,
   "metadata": {
    "id": "0TYFHHA5dXkO",
    "outputId": "3a9c2725-9cfb-4c19-f98d-dcfd99df92f2"
   },
   "outputs": [
    {
     "data": {
      "text/html": [
       "<div>\n",
       "<style scoped>\n",
       "    .dataframe tbody tr th:only-of-type {\n",
       "        vertical-align: middle;\n",
       "    }\n",
       "\n",
       "    .dataframe tbody tr th {\n",
       "        vertical-align: top;\n",
       "    }\n",
       "\n",
       "    .dataframe thead th {\n",
       "        text-align: right;\n",
       "    }\n",
       "</style>\n",
       "<table border=\"1\" class=\"dataframe\">\n",
       "  <thead>\n",
       "    <tr style=\"text-align: right;\">\n",
       "      <th></th>\n",
       "      <th>score</th>\n",
       "      <th>score</th>\n",
       "    </tr>\n",
       "  </thead>\n",
       "  <tbody>\n",
       "    <tr>\n",
       "      <th>0</th>\n",
       "      <td>81</td>\n",
       "      <td>90</td>\n",
       "    </tr>\n",
       "    <tr>\n",
       "      <th>1</th>\n",
       "      <td>82</td>\n",
       "      <td>91</td>\n",
       "    </tr>\n",
       "    <tr>\n",
       "      <th>2</th>\n",
       "      <td>83</td>\n",
       "      <td>80</td>\n",
       "    </tr>\n",
       "    <tr>\n",
       "      <th>3</th>\n",
       "      <td>80</td>\n",
       "      <td>75</td>\n",
       "    </tr>\n",
       "  </tbody>\n",
       "</table>\n",
       "</div>"
      ],
      "text/plain": [
       "   score  score\n",
       "0     81     90\n",
       "1     82     91\n",
       "2     83     80\n",
       "3     80     75"
      ]
     },
     "execution_count": 15,
     "metadata": {},
     "output_type": "execute_result"
    }
   ],
   "source": [
    "df1 = pd.DataFrame([81,82,83,80],columns=[\"score\"])\n",
    "df2 = pd.DataFrame([90,91,80,75],columns=[\"score\"])\n",
    "pd.concat([df1,df2],axis=1)"
   ]
  },
  {
   "cell_type": "markdown",
   "metadata": {
    "id": "pGcBzg3OdXkW"
   },
   "source": [
    "<br><br>\n",
    "\n",
    "# \\[2. Summarizing DataFrames\\]\n",
    "\n",
    "There are two well-known pandas methods for summarising DataFrames. \n",
    "\n",
    "1. `.groupby()`to group DataFrame using a mapper or by a Series of columns.\n",
    "\n",
    "2. `.pivot_table()` to group DataFrame by multilevel index in a spreadsheet-style pivot table."
   ]
  },
  {
   "cell_type": "markdown",
   "metadata": {
    "id": "ODPOU79fdXkX"
   },
   "source": [
    "####  Example Data) Student report cards"
   ]
  },
  {
   "cell_type": "code",
   "execution_count": 16,
   "metadata": {
    "id": "qm7VimRNdXkY",
    "outputId": "90b41dc3-a298-42cf-e8ea-6ced56628581"
   },
   "outputs": [
    {
     "data": {
      "text/html": [
       "<div>\n",
       "<style scoped>\n",
       "    .dataframe tbody tr th:only-of-type {\n",
       "        vertical-align: middle;\n",
       "    }\n",
       "\n",
       "    .dataframe tbody tr th {\n",
       "        vertical-align: top;\n",
       "    }\n",
       "\n",
       "    .dataframe thead th {\n",
       "        text-align: right;\n",
       "    }\n",
       "</style>\n",
       "<table border=\"1\" class=\"dataframe\">\n",
       "  <thead>\n",
       "    <tr style=\"text-align: right;\">\n",
       "      <th></th>\n",
       "      <th>class</th>\n",
       "      <th>l_name</th>\n",
       "      <th>f_name</th>\n",
       "      <th>history</th>\n",
       "      <th>english</th>\n",
       "      <th>math</th>\n",
       "      <th>social_studies</th>\n",
       "      <th>science</th>\n",
       "    </tr>\n",
       "  </thead>\n",
       "  <tbody>\n",
       "    <tr>\n",
       "      <th>0</th>\n",
       "      <td>1</td>\n",
       "      <td>Smith</td>\n",
       "      <td>John</td>\n",
       "      <td>80</td>\n",
       "      <td>92</td>\n",
       "      <td>70</td>\n",
       "      <td>65</td>\n",
       "      <td>92</td>\n",
       "    </tr>\n",
       "    <tr>\n",
       "      <th>1</th>\n",
       "      <td>1</td>\n",
       "      <td>Schafer</td>\n",
       "      <td>Elise</td>\n",
       "      <td>91</td>\n",
       "      <td>75</td>\n",
       "      <td>90</td>\n",
       "      <td>68</td>\n",
       "      <td>85</td>\n",
       "    </tr>\n",
       "    <tr>\n",
       "      <th>2</th>\n",
       "      <td>2</td>\n",
       "      <td>Zimmermann</td>\n",
       "      <td>Kate</td>\n",
       "      <td>86</td>\n",
       "      <td>76</td>\n",
       "      <td>42</td>\n",
       "      <td>72</td>\n",
       "      <td>88</td>\n",
       "    </tr>\n",
       "    <tr>\n",
       "      <th>3</th>\n",
       "      <td>2</td>\n",
       "      <td>Mendoza</td>\n",
       "      <td>James</td>\n",
       "      <td>77</td>\n",
       "      <td>92</td>\n",
       "      <td>52</td>\n",
       "      <td>60</td>\n",
       "      <td>80</td>\n",
       "    </tr>\n",
       "    <tr>\n",
       "      <th>4</th>\n",
       "      <td>3</td>\n",
       "      <td>Park</td>\n",
       "      <td>Jay</td>\n",
       "      <td>75</td>\n",
       "      <td>85</td>\n",
       "      <td>85</td>\n",
       "      <td>92</td>\n",
       "      <td>95</td>\n",
       "    </tr>\n",
       "    <tr>\n",
       "      <th>5</th>\n",
       "      <td>3</td>\n",
       "      <td>Delcourt</td>\n",
       "      <td>Emma</td>\n",
       "      <td>96</td>\n",
       "      <td>90</td>\n",
       "      <td>95</td>\n",
       "      <td>81</td>\n",
       "      <td>72</td>\n",
       "    </tr>\n",
       "    <tr>\n",
       "      <th>6</th>\n",
       "      <td>4</td>\n",
       "      <td>Thompson</td>\n",
       "      <td>Sarah</td>\n",
       "      <td>91</td>\n",
       "      <td>81</td>\n",
       "      <td>92</td>\n",
       "      <td>81</td>\n",
       "      <td>73</td>\n",
       "    </tr>\n",
       "  </tbody>\n",
       "</table>\n",
       "</div>"
      ],
      "text/plain": [
       "  class      l_name f_name  history  english  math  social_studies  science\n",
       "0     1       Smith   John       80       92    70              65       92\n",
       "1     1     Schafer  Elise       91       75    90              68       85\n",
       "2     2  Zimmermann   Kate       86       76    42              72       88\n",
       "3     2     Mendoza  James       77       92    52              60       80\n",
       "4     3        Park    Jay       75       85    85              92       95\n",
       "5     3    Delcourt   Emma       96       90    95              81       72\n",
       "6     4    Thompson  Sarah       91       81    92              81       73"
      ]
     },
     "execution_count": 16,
     "metadata": {},
     "output_type": "execute_result"
    }
   ],
   "source": [
    "columns = [\"class\",\"l_name\", \"f_name\", \"history\", \"english\", \"math\", \"social_studies\", \"science\"]\n",
    "scores = [[\"1\", \"Smith\", \"John\", 80, 92, 70, 65, 92],\n",
    "          [\"1\", \"Schafer\", \"Elise\", 91, 75, 90, 68, 85],\n",
    "          [\"2\", \"Zimmermann\", \"Kate\", 86, 76, 42, 72, 88],\n",
    "          [\"2\", \"Mendoza\", \"James\", 77, 92, 52, 60, 80],\n",
    "          [\"3\", \"Park\", \"Jay\", 75, 85, 85, 92, 95],\n",
    "          [\"3\", \"Delcourt\", \"Emma\", 96, 90, 95, 81, 72],\n",
    "          [\"4\", \"Thompson\", \"Sarah\", 91, 81, 92, 81, 73]]\n",
    "df = pd.DataFrame(scores,columns=columns)\n",
    "df"
   ]
  },
  {
   "cell_type": "markdown",
   "metadata": {
    "id": "8um2SElGdXkc"
   },
   "source": [
    "\n",
    "## 1. `.groupby()`\n",
    "`.groupby()` splits data into groups based on certain criteria and returns a groupby object that contains the grouped data. <br>\n",
    "GroupBy objects can be returned by groupby calls."
   ]
  },
  {
   "cell_type": "markdown",
   "metadata": {
    "id": "kzD3-cwodXkc"
   },
   "source": [
    "### (1) Calling groupby objects"
   ]
  },
  {
   "cell_type": "markdown",
   "metadata": {
    "id": "QAyG5tuUdXkd"
   },
   "source": [
    "Let's create a `groupby` object by grouping the example data on `class`."
   ]
  },
  {
   "cell_type": "code",
   "execution_count": 17,
   "metadata": {
    "id": "witjxyM-dXke",
    "outputId": "2941c6f9-6316-4db7-e157-7734334dcefa"
   },
   "outputs": [
    {
     "data": {
      "text/plain": [
       "<pandas.core.groupby.generic.DataFrameGroupBy object at 0x7f8668d120b8>"
      ]
     },
     "execution_count": 17,
     "metadata": {},
     "output_type": "execute_result"
    }
   ],
   "source": [
    "df.groupby(['class'])"
   ]
  },
  {
   "cell_type": "markdown",
   "metadata": {
    "id": "VEaGKC8RdXki"
   },
   "source": [
    "`.groupby()` on a DataFrame returns a `DataFrameGroupBy` object. The `DataFrameGroupBy` object can be called by a `for` loop."
   ]
  },
  {
   "cell_type": "code",
   "execution_count": 18,
   "metadata": {
    "id": "wbzsZxNgdXki",
    "outputId": "3d3cee23-4966-46bb-effa-f68a5829cd27"
   },
   "outputs": [
    {
     "name": "stdout",
     "output_type": "stream",
     "text": [
      "class number :  1\n"
     ]
    },
    {
     "data": {
      "text/html": [
       "<div>\n",
       "<style scoped>\n",
       "    .dataframe tbody tr th:only-of-type {\n",
       "        vertical-align: middle;\n",
       "    }\n",
       "\n",
       "    .dataframe tbody tr th {\n",
       "        vertical-align: top;\n",
       "    }\n",
       "\n",
       "    .dataframe thead th {\n",
       "        text-align: right;\n",
       "    }\n",
       "</style>\n",
       "<table border=\"1\" class=\"dataframe\">\n",
       "  <thead>\n",
       "    <tr style=\"text-align: right;\">\n",
       "      <th></th>\n",
       "      <th>class</th>\n",
       "      <th>l_name</th>\n",
       "      <th>f_name</th>\n",
       "      <th>history</th>\n",
       "      <th>english</th>\n",
       "      <th>math</th>\n",
       "      <th>social_studies</th>\n",
       "      <th>science</th>\n",
       "    </tr>\n",
       "  </thead>\n",
       "  <tbody>\n",
       "    <tr>\n",
       "      <th>0</th>\n",
       "      <td>1</td>\n",
       "      <td>Smith</td>\n",
       "      <td>John</td>\n",
       "      <td>80</td>\n",
       "      <td>92</td>\n",
       "      <td>70</td>\n",
       "      <td>65</td>\n",
       "      <td>92</td>\n",
       "    </tr>\n",
       "    <tr>\n",
       "      <th>1</th>\n",
       "      <td>1</td>\n",
       "      <td>Schafer</td>\n",
       "      <td>Elise</td>\n",
       "      <td>91</td>\n",
       "      <td>75</td>\n",
       "      <td>90</td>\n",
       "      <td>68</td>\n",
       "      <td>85</td>\n",
       "    </tr>\n",
       "  </tbody>\n",
       "</table>\n",
       "</div>"
      ],
      "text/plain": [
       "  class   l_name f_name  history  english  math  social_studies  science\n",
       "0     1    Smith   John       80       92    70              65       92\n",
       "1     1  Schafer  Elise       91       75    90              68       85"
      ]
     },
     "metadata": {},
     "output_type": "display_data"
    },
    {
     "name": "stdout",
     "output_type": "stream",
     "text": [
      "----\n",
      "\n",
      "class number :  2\n"
     ]
    },
    {
     "data": {
      "text/html": [
       "<div>\n",
       "<style scoped>\n",
       "    .dataframe tbody tr th:only-of-type {\n",
       "        vertical-align: middle;\n",
       "    }\n",
       "\n",
       "    .dataframe tbody tr th {\n",
       "        vertical-align: top;\n",
       "    }\n",
       "\n",
       "    .dataframe thead th {\n",
       "        text-align: right;\n",
       "    }\n",
       "</style>\n",
       "<table border=\"1\" class=\"dataframe\">\n",
       "  <thead>\n",
       "    <tr style=\"text-align: right;\">\n",
       "      <th></th>\n",
       "      <th>class</th>\n",
       "      <th>l_name</th>\n",
       "      <th>f_name</th>\n",
       "      <th>history</th>\n",
       "      <th>english</th>\n",
       "      <th>math</th>\n",
       "      <th>social_studies</th>\n",
       "      <th>science</th>\n",
       "    </tr>\n",
       "  </thead>\n",
       "  <tbody>\n",
       "    <tr>\n",
       "      <th>2</th>\n",
       "      <td>2</td>\n",
       "      <td>Zimmermann</td>\n",
       "      <td>Kate</td>\n",
       "      <td>86</td>\n",
       "      <td>76</td>\n",
       "      <td>42</td>\n",
       "      <td>72</td>\n",
       "      <td>88</td>\n",
       "    </tr>\n",
       "    <tr>\n",
       "      <th>3</th>\n",
       "      <td>2</td>\n",
       "      <td>Mendoza</td>\n",
       "      <td>James</td>\n",
       "      <td>77</td>\n",
       "      <td>92</td>\n",
       "      <td>52</td>\n",
       "      <td>60</td>\n",
       "      <td>80</td>\n",
       "    </tr>\n",
       "  </tbody>\n",
       "</table>\n",
       "</div>"
      ],
      "text/plain": [
       "  class      l_name f_name  history  english  math  social_studies  science\n",
       "2     2  Zimmermann   Kate       86       76    42              72       88\n",
       "3     2     Mendoza  James       77       92    52              60       80"
      ]
     },
     "metadata": {},
     "output_type": "display_data"
    },
    {
     "name": "stdout",
     "output_type": "stream",
     "text": [
      "----\n",
      "\n",
      "class number :  3\n"
     ]
    },
    {
     "data": {
      "text/html": [
       "<div>\n",
       "<style scoped>\n",
       "    .dataframe tbody tr th:only-of-type {\n",
       "        vertical-align: middle;\n",
       "    }\n",
       "\n",
       "    .dataframe tbody tr th {\n",
       "        vertical-align: top;\n",
       "    }\n",
       "\n",
       "    .dataframe thead th {\n",
       "        text-align: right;\n",
       "    }\n",
       "</style>\n",
       "<table border=\"1\" class=\"dataframe\">\n",
       "  <thead>\n",
       "    <tr style=\"text-align: right;\">\n",
       "      <th></th>\n",
       "      <th>class</th>\n",
       "      <th>l_name</th>\n",
       "      <th>f_name</th>\n",
       "      <th>history</th>\n",
       "      <th>english</th>\n",
       "      <th>math</th>\n",
       "      <th>social_studies</th>\n",
       "      <th>science</th>\n",
       "    </tr>\n",
       "  </thead>\n",
       "  <tbody>\n",
       "    <tr>\n",
       "      <th>4</th>\n",
       "      <td>3</td>\n",
       "      <td>Park</td>\n",
       "      <td>Jay</td>\n",
       "      <td>75</td>\n",
       "      <td>85</td>\n",
       "      <td>85</td>\n",
       "      <td>92</td>\n",
       "      <td>95</td>\n",
       "    </tr>\n",
       "    <tr>\n",
       "      <th>5</th>\n",
       "      <td>3</td>\n",
       "      <td>Delcourt</td>\n",
       "      <td>Emma</td>\n",
       "      <td>96</td>\n",
       "      <td>90</td>\n",
       "      <td>95</td>\n",
       "      <td>81</td>\n",
       "      <td>72</td>\n",
       "    </tr>\n",
       "  </tbody>\n",
       "</table>\n",
       "</div>"
      ],
      "text/plain": [
       "  class    l_name f_name  history  english  math  social_studies  science\n",
       "4     3      Park    Jay       75       85    85              92       95\n",
       "5     3  Delcourt   Emma       96       90    95              81       72"
      ]
     },
     "metadata": {},
     "output_type": "display_data"
    },
    {
     "name": "stdout",
     "output_type": "stream",
     "text": [
      "----\n",
      "\n",
      "class number :  4\n"
     ]
    },
    {
     "data": {
      "text/html": [
       "<div>\n",
       "<style scoped>\n",
       "    .dataframe tbody tr th:only-of-type {\n",
       "        vertical-align: middle;\n",
       "    }\n",
       "\n",
       "    .dataframe tbody tr th {\n",
       "        vertical-align: top;\n",
       "    }\n",
       "\n",
       "    .dataframe thead th {\n",
       "        text-align: right;\n",
       "    }\n",
       "</style>\n",
       "<table border=\"1\" class=\"dataframe\">\n",
       "  <thead>\n",
       "    <tr style=\"text-align: right;\">\n",
       "      <th></th>\n",
       "      <th>class</th>\n",
       "      <th>l_name</th>\n",
       "      <th>f_name</th>\n",
       "      <th>history</th>\n",
       "      <th>english</th>\n",
       "      <th>math</th>\n",
       "      <th>social_studies</th>\n",
       "      <th>science</th>\n",
       "    </tr>\n",
       "  </thead>\n",
       "  <tbody>\n",
       "    <tr>\n",
       "      <th>6</th>\n",
       "      <td>4</td>\n",
       "      <td>Thompson</td>\n",
       "      <td>Sarah</td>\n",
       "      <td>91</td>\n",
       "      <td>81</td>\n",
       "      <td>92</td>\n",
       "      <td>81</td>\n",
       "      <td>73</td>\n",
       "    </tr>\n",
       "  </tbody>\n",
       "</table>\n",
       "</div>"
      ],
      "text/plain": [
       "  class    l_name f_name  history  english  math  social_studies  science\n",
       "6     4  Thompson  Sarah       91       81    92              81       73"
      ]
     },
     "metadata": {},
     "output_type": "display_data"
    },
    {
     "name": "stdout",
     "output_type": "stream",
     "text": [
      "----\n",
      "\n"
     ]
    }
   ],
   "source": [
    "for class_name, class_df in df.groupby(['class']):\n",
    "    print(\"class number : \",class_name)\n",
    "    display(class_df)\n",
    "    print('----\\n')"
   ]
  },
  {
   "cell_type": "markdown",
   "metadata": {
    "id": "mYQnRurGdXkm"
   },
   "source": [
    "### (2) Aggregate operation on groupby objects\n",
    "\n",
    "`.groupby()` supports a variety of methods for aggregate operations. If you want to calculate the average score in each subject by class, apply `.mean()` to the groupby object. "
   ]
  },
  {
   "cell_type": "code",
   "execution_count": 19,
   "metadata": {
    "id": "OSpsWU35dXkn",
    "outputId": "a113815f-c8c8-4b70-feee-e4f0756ce0d9"
   },
   "outputs": [
    {
     "data": {
      "text/html": [
       "<div>\n",
       "<style scoped>\n",
       "    .dataframe tbody tr th:only-of-type {\n",
       "        vertical-align: middle;\n",
       "    }\n",
       "\n",
       "    .dataframe tbody tr th {\n",
       "        vertical-align: top;\n",
       "    }\n",
       "\n",
       "    .dataframe thead th {\n",
       "        text-align: right;\n",
       "    }\n",
       "</style>\n",
       "<table border=\"1\" class=\"dataframe\">\n",
       "  <thead>\n",
       "    <tr style=\"text-align: right;\">\n",
       "      <th></th>\n",
       "      <th>history</th>\n",
       "      <th>english</th>\n",
       "      <th>math</th>\n",
       "      <th>social_studies</th>\n",
       "      <th>science</th>\n",
       "    </tr>\n",
       "    <tr>\n",
       "      <th>class</th>\n",
       "      <th></th>\n",
       "      <th></th>\n",
       "      <th></th>\n",
       "      <th></th>\n",
       "      <th></th>\n",
       "    </tr>\n",
       "  </thead>\n",
       "  <tbody>\n",
       "    <tr>\n",
       "      <th>1</th>\n",
       "      <td>85.5</td>\n",
       "      <td>83.5</td>\n",
       "      <td>80.0</td>\n",
       "      <td>66.5</td>\n",
       "      <td>88.5</td>\n",
       "    </tr>\n",
       "    <tr>\n",
       "      <th>2</th>\n",
       "      <td>81.5</td>\n",
       "      <td>84.0</td>\n",
       "      <td>47.0</td>\n",
       "      <td>66.0</td>\n",
       "      <td>84.0</td>\n",
       "    </tr>\n",
       "    <tr>\n",
       "      <th>3</th>\n",
       "      <td>85.5</td>\n",
       "      <td>87.5</td>\n",
       "      <td>90.0</td>\n",
       "      <td>86.5</td>\n",
       "      <td>83.5</td>\n",
       "    </tr>\n",
       "    <tr>\n",
       "      <th>4</th>\n",
       "      <td>91.0</td>\n",
       "      <td>81.0</td>\n",
       "      <td>92.0</td>\n",
       "      <td>81.0</td>\n",
       "      <td>73.0</td>\n",
       "    </tr>\n",
       "  </tbody>\n",
       "</table>\n",
       "</div>"
      ],
      "text/plain": [
       "       history  english  math  social_studies  science\n",
       "class                                                 \n",
       "1         85.5     83.5  80.0            66.5     88.5\n",
       "2         81.5     84.0  47.0            66.0     84.0\n",
       "3         85.5     87.5  90.0            86.5     83.5\n",
       "4         91.0     81.0  92.0            81.0     73.0"
      ]
     },
     "execution_count": 19,
     "metadata": {},
     "output_type": "execute_result"
    }
   ],
   "source": [
    "# The average score in each subject by class\n",
    "df.groupby(\"class\").mean() "
   ]
  },
  {
   "cell_type": "code",
   "execution_count": 20,
   "metadata": {
    "id": "YcGWfC3MdXkr",
    "outputId": "26f6e851-8fc7-47c9-b6e0-96a02fcdb5d4",
    "scrolled": true
   },
   "outputs": [
    {
     "data": {
      "text/plain": [
       "class\n",
       "1    85.5\n",
       "2    81.5\n",
       "3    85.5\n",
       "4    91.0\n",
       "Name: history, dtype: float64"
      ]
     },
     "execution_count": 20,
     "metadata": {},
     "output_type": "execute_result"
    }
   ],
   "source": [
    "# Average score in History by class \n",
    "df.groupby(\"class\")[\"history\"].mean()"
   ]
  },
  {
   "cell_type": "markdown",
   "metadata": {
    "id": "CwOlMMTydXkw"
   },
   "source": [
    "The following methods are supported on groupby objects.\n",
    "\n",
    "| Method Name | Description |\n",
    "| ----  | ---- |\n",
    "| .count | Number of records in the group |\n",
    "| .mean  | Average value in the group |\n",
    "| .min   | Minimum value in the group|\n",
    "| .max   | Maximum value in the group|\n",
    "| .quantile | Quartile in the group |\n",
    "| .sum   | Sum of the group data |\n",
    "| .std   | Standard deviation of the group data |"
   ]
  },
  {
   "cell_type": "markdown",
   "metadata": {
    "id": "XGQlsXRAdXkx"
   },
   "source": [
    "\n",
    "## 2. `.pivot_table()`\n",
    "\n",
    "\n",
    "+ Pivot table is one of the most powerful and useful tools in data analytics for data summarization."
   ]
  },
  {
   "cell_type": "code",
   "execution_count": 21,
   "metadata": {
    "id": "KcyL4Gh4dXky",
    "outputId": "23e315c1-5e69-4ee9-ae75-44e73b836c80"
   },
   "outputs": [
    {
     "data": {
      "text/html": [
       "<div>\n",
       "<style scoped>\n",
       "    .dataframe tbody tr th:only-of-type {\n",
       "        vertical-align: middle;\n",
       "    }\n",
       "\n",
       "    .dataframe tbody tr th {\n",
       "        vertical-align: top;\n",
       "    }\n",
       "\n",
       "    .dataframe thead th {\n",
       "        text-align: right;\n",
       "    }\n",
       "</style>\n",
       "<table border=\"1\" class=\"dataframe\">\n",
       "  <thead>\n",
       "    <tr style=\"text-align: right;\">\n",
       "      <th></th>\n",
       "      <th>class</th>\n",
       "      <th>l_name</th>\n",
       "      <th>f_name</th>\n",
       "      <th>history</th>\n",
       "      <th>english</th>\n",
       "      <th>math</th>\n",
       "      <th>social_studies</th>\n",
       "      <th>science</th>\n",
       "      <th>gender</th>\n",
       "    </tr>\n",
       "  </thead>\n",
       "  <tbody>\n",
       "    <tr>\n",
       "      <th>0</th>\n",
       "      <td>1</td>\n",
       "      <td>Smith</td>\n",
       "      <td>John</td>\n",
       "      <td>80</td>\n",
       "      <td>92</td>\n",
       "      <td>70</td>\n",
       "      <td>65</td>\n",
       "      <td>92</td>\n",
       "      <td>Male</td>\n",
       "    </tr>\n",
       "    <tr>\n",
       "      <th>1</th>\n",
       "      <td>1</td>\n",
       "      <td>Schafer</td>\n",
       "      <td>Elise</td>\n",
       "      <td>91</td>\n",
       "      <td>75</td>\n",
       "      <td>90</td>\n",
       "      <td>68</td>\n",
       "      <td>85</td>\n",
       "      <td>Female</td>\n",
       "    </tr>\n",
       "    <tr>\n",
       "      <th>2</th>\n",
       "      <td>2</td>\n",
       "      <td>Zimmermann</td>\n",
       "      <td>Kate</td>\n",
       "      <td>86</td>\n",
       "      <td>76</td>\n",
       "      <td>42</td>\n",
       "      <td>72</td>\n",
       "      <td>88</td>\n",
       "      <td>Female</td>\n",
       "    </tr>\n",
       "    <tr>\n",
       "      <th>3</th>\n",
       "      <td>2</td>\n",
       "      <td>Mendoza</td>\n",
       "      <td>James</td>\n",
       "      <td>77</td>\n",
       "      <td>92</td>\n",
       "      <td>52</td>\n",
       "      <td>60</td>\n",
       "      <td>80</td>\n",
       "      <td>Male</td>\n",
       "    </tr>\n",
       "    <tr>\n",
       "      <th>4</th>\n",
       "      <td>3</td>\n",
       "      <td>Park</td>\n",
       "      <td>Jay</td>\n",
       "      <td>75</td>\n",
       "      <td>85</td>\n",
       "      <td>85</td>\n",
       "      <td>92</td>\n",
       "      <td>95</td>\n",
       "      <td>Male</td>\n",
       "    </tr>\n",
       "    <tr>\n",
       "      <th>5</th>\n",
       "      <td>3</td>\n",
       "      <td>Delcourt</td>\n",
       "      <td>Emma</td>\n",
       "      <td>96</td>\n",
       "      <td>90</td>\n",
       "      <td>95</td>\n",
       "      <td>81</td>\n",
       "      <td>72</td>\n",
       "      <td>Female</td>\n",
       "    </tr>\n",
       "    <tr>\n",
       "      <th>6</th>\n",
       "      <td>4</td>\n",
       "      <td>Thompson</td>\n",
       "      <td>Sarah</td>\n",
       "      <td>91</td>\n",
       "      <td>81</td>\n",
       "      <td>92</td>\n",
       "      <td>81</td>\n",
       "      <td>73</td>\n",
       "      <td>Female</td>\n",
       "    </tr>\n",
       "  </tbody>\n",
       "</table>\n",
       "</div>"
      ],
      "text/plain": [
       "  class      l_name f_name  history  english  math  social_studies  science  \\\n",
       "0     1       Smith   John       80       92    70              65       92   \n",
       "1     1     Schafer  Elise       91       75    90              68       85   \n",
       "2     2  Zimmermann   Kate       86       76    42              72       88   \n",
       "3     2     Mendoza  James       77       92    52              60       80   \n",
       "4     3        Park    Jay       75       85    85              92       95   \n",
       "5     3    Delcourt   Emma       96       90    95              81       72   \n",
       "6     4    Thompson  Sarah       91       81    92              81       73   \n",
       "\n",
       "   gender  \n",
       "0    Male  \n",
       "1  Female  \n",
       "2  Female  \n",
       "3    Male  \n",
       "4    Male  \n",
       "5  Female  \n",
       "6  Female  "
      ]
     },
     "execution_count": 21,
     "metadata": {},
     "output_type": "execute_result"
    }
   ],
   "source": [
    "# Let's find out the average score in History by gender for each class\n",
    "df[\"gender\"] = [\"Male\",\"Female\",\"Female\",\"Male\",\"Male\",\"Female\",\"Female\"]\n",
    "df"
   ]
  },
  {
   "cell_type": "markdown",
   "metadata": {
    "id": "LWsFxIbxdXk2"
   },
   "source": [
    "### (1) Creating a pivot table\n",
    "\n",
    "\n",
    "When creating a pivot table, it is important to know which column values are to be used as the row and column index.\n",
    "\n",
    "For instance, if you want to see the average score of each class on the history by gender, set `value`, `index`, `columns`, `aggfunc` as follows."
   ]
  },
  {
   "cell_type": "code",
   "execution_count": 22,
   "metadata": {
    "id": "fzip12I_dXk3",
    "outputId": "4670b9ab-9a96-4ee1-870d-37bf80b38329"
   },
   "outputs": [
    {
     "data": {
      "text/html": [
       "<div>\n",
       "<style scoped>\n",
       "    .dataframe tbody tr th:only-of-type {\n",
       "        vertical-align: middle;\n",
       "    }\n",
       "\n",
       "    .dataframe tbody tr th {\n",
       "        vertical-align: top;\n",
       "    }\n",
       "\n",
       "    .dataframe thead tr th {\n",
       "        text-align: left;\n",
       "    }\n",
       "\n",
       "    .dataframe thead tr:last-of-type th {\n",
       "        text-align: right;\n",
       "    }\n",
       "</style>\n",
       "<table border=\"1\" class=\"dataframe\">\n",
       "  <thead>\n",
       "    <tr>\n",
       "      <th></th>\n",
       "      <th colspan=\"2\" halign=\"left\">history</th>\n",
       "    </tr>\n",
       "    <tr>\n",
       "      <th>gender</th>\n",
       "      <th>Female</th>\n",
       "      <th>Male</th>\n",
       "    </tr>\n",
       "    <tr>\n",
       "      <th>class</th>\n",
       "      <th></th>\n",
       "      <th></th>\n",
       "    </tr>\n",
       "  </thead>\n",
       "  <tbody>\n",
       "    <tr>\n",
       "      <th>1</th>\n",
       "      <td>91.0</td>\n",
       "      <td>80.0</td>\n",
       "    </tr>\n",
       "    <tr>\n",
       "      <th>2</th>\n",
       "      <td>86.0</td>\n",
       "      <td>77.0</td>\n",
       "    </tr>\n",
       "    <tr>\n",
       "      <th>3</th>\n",
       "      <td>96.0</td>\n",
       "      <td>75.0</td>\n",
       "    </tr>\n",
       "    <tr>\n",
       "      <th>4</th>\n",
       "      <td>91.0</td>\n",
       "      <td>NaN</td>\n",
       "    </tr>\n",
       "  </tbody>\n",
       "</table>\n",
       "</div>"
      ],
      "text/plain": [
       "       history      \n",
       "gender  Female  Male\n",
       "class               \n",
       "1         91.0  80.0\n",
       "2         86.0  77.0\n",
       "3         96.0  75.0\n",
       "4         91.0   NaN"
      ]
     },
     "execution_count": 22,
     "metadata": {},
     "output_type": "execute_result"
    }
   ],
   "source": [
    "df.pivot_table(index=[\"class\"], columns=[\"gender\"], values=[\"history\"], aggfunc = 'mean')"
   ]
  },
  {
   "cell_type": "markdown",
   "metadata": {
    "id": "3vVkdslKdXk7"
   },
   "source": [
    "### (2) Aggfunc in pivot-table\n",
    "\n",
    "By default, `aggfunc` is set to `mean`. When using other aggregate operations, pass other keywords such as `sum`, `count`, `unique`, etc.\n",
    "\n"
   ]
  },
  {
   "cell_type": "code",
   "execution_count": 23,
   "metadata": {
    "id": "yIxULWuhdXk7",
    "outputId": "498c6ee3-2f7a-4114-a9b4-a64adf7877be"
   },
   "outputs": [
    {
     "data": {
      "text/html": [
       "<div>\n",
       "<style scoped>\n",
       "    .dataframe tbody tr th:only-of-type {\n",
       "        vertical-align: middle;\n",
       "    }\n",
       "\n",
       "    .dataframe tbody tr th {\n",
       "        vertical-align: top;\n",
       "    }\n",
       "\n",
       "    .dataframe thead tr th {\n",
       "        text-align: left;\n",
       "    }\n",
       "\n",
       "    .dataframe thead tr:last-of-type th {\n",
       "        text-align: right;\n",
       "    }\n",
       "</style>\n",
       "<table border=\"1\" class=\"dataframe\">\n",
       "  <thead>\n",
       "    <tr>\n",
       "      <th></th>\n",
       "      <th colspan=\"2\" halign=\"left\">history</th>\n",
       "    </tr>\n",
       "    <tr>\n",
       "      <th>gender</th>\n",
       "      <th>Female</th>\n",
       "      <th>Male</th>\n",
       "    </tr>\n",
       "    <tr>\n",
       "      <th>class</th>\n",
       "      <th></th>\n",
       "      <th></th>\n",
       "    </tr>\n",
       "  </thead>\n",
       "  <tbody>\n",
       "    <tr>\n",
       "      <th>1</th>\n",
       "      <td>1.0</td>\n",
       "      <td>1.0</td>\n",
       "    </tr>\n",
       "    <tr>\n",
       "      <th>2</th>\n",
       "      <td>1.0</td>\n",
       "      <td>1.0</td>\n",
       "    </tr>\n",
       "    <tr>\n",
       "      <th>3</th>\n",
       "      <td>1.0</td>\n",
       "      <td>1.0</td>\n",
       "    </tr>\n",
       "    <tr>\n",
       "      <th>4</th>\n",
       "      <td>1.0</td>\n",
       "      <td>NaN</td>\n",
       "    </tr>\n",
       "  </tbody>\n",
       "</table>\n",
       "</div>"
      ],
      "text/plain": [
       "       history     \n",
       "gender  Female Male\n",
       "class              \n",
       "1          1.0  1.0\n",
       "2          1.0  1.0\n",
       "3          1.0  1.0\n",
       "4          1.0  NaN"
      ]
     },
     "execution_count": 23,
     "metadata": {},
     "output_type": "execute_result"
    }
   ],
   "source": [
    "df.pivot_table(index=[\"class\"],\n",
    "               columns=[\"gender\"],\n",
    "               values=[\"history\"],\n",
    "               aggfunc=\"count\")"
   ]
  },
  {
   "cell_type": "markdown",
   "metadata": {
    "id": "HIJV5E-mdXk_"
   },
   "source": [
    "### (3) Creating a pivot table in multilevel index"
   ]
  },
  {
   "cell_type": "markdown",
   "metadata": {
    "id": "PpP7gkl6dXlA"
   },
   "source": [
    "If you want to summarize data based on values of multiple columns, you can simply pass a list of columns of interest to the `values` parameter. It will then return a pivot table in multilevel index.\n"
   ]
  },
  {
   "cell_type": "code",
   "execution_count": 24,
   "metadata": {
    "id": "if_vEB8LdXlA",
    "outputId": "a91b2927-97da-4cc1-b240-c4d61a485cfd"
   },
   "outputs": [
    {
     "data": {
      "text/html": [
       "<div>\n",
       "<style scoped>\n",
       "    .dataframe tbody tr th:only-of-type {\n",
       "        vertical-align: middle;\n",
       "    }\n",
       "\n",
       "    .dataframe tbody tr th {\n",
       "        vertical-align: top;\n",
       "    }\n",
       "\n",
       "    .dataframe thead tr th {\n",
       "        text-align: left;\n",
       "    }\n",
       "\n",
       "    .dataframe thead tr:last-of-type th {\n",
       "        text-align: right;\n",
       "    }\n",
       "</style>\n",
       "<table border=\"1\" class=\"dataframe\">\n",
       "  <thead>\n",
       "    <tr>\n",
       "      <th></th>\n",
       "      <th colspan=\"2\" halign=\"left\">english</th>\n",
       "      <th colspan=\"2\" halign=\"left\">history</th>\n",
       "      <th colspan=\"2\" halign=\"left\">math</th>\n",
       "    </tr>\n",
       "    <tr>\n",
       "      <th>gender</th>\n",
       "      <th>Female</th>\n",
       "      <th>Male</th>\n",
       "      <th>Female</th>\n",
       "      <th>Male</th>\n",
       "      <th>Female</th>\n",
       "      <th>Male</th>\n",
       "    </tr>\n",
       "    <tr>\n",
       "      <th>class</th>\n",
       "      <th></th>\n",
       "      <th></th>\n",
       "      <th></th>\n",
       "      <th></th>\n",
       "      <th></th>\n",
       "      <th></th>\n",
       "    </tr>\n",
       "  </thead>\n",
       "  <tbody>\n",
       "    <tr>\n",
       "      <th>1</th>\n",
       "      <td>1.0</td>\n",
       "      <td>1.0</td>\n",
       "      <td>1.0</td>\n",
       "      <td>1.0</td>\n",
       "      <td>1.0</td>\n",
       "      <td>1.0</td>\n",
       "    </tr>\n",
       "    <tr>\n",
       "      <th>2</th>\n",
       "      <td>1.0</td>\n",
       "      <td>1.0</td>\n",
       "      <td>1.0</td>\n",
       "      <td>1.0</td>\n",
       "      <td>1.0</td>\n",
       "      <td>1.0</td>\n",
       "    </tr>\n",
       "    <tr>\n",
       "      <th>3</th>\n",
       "      <td>1.0</td>\n",
       "      <td>1.0</td>\n",
       "      <td>1.0</td>\n",
       "      <td>1.0</td>\n",
       "      <td>1.0</td>\n",
       "      <td>1.0</td>\n",
       "    </tr>\n",
       "    <tr>\n",
       "      <th>4</th>\n",
       "      <td>1.0</td>\n",
       "      <td>NaN</td>\n",
       "      <td>1.0</td>\n",
       "      <td>NaN</td>\n",
       "      <td>1.0</td>\n",
       "      <td>NaN</td>\n",
       "    </tr>\n",
       "  </tbody>\n",
       "</table>\n",
       "</div>"
      ],
      "text/plain": [
       "       english      history        math     \n",
       "gender  Female Male  Female Male Female Male\n",
       "class                                       \n",
       "1          1.0  1.0     1.0  1.0    1.0  1.0\n",
       "2          1.0  1.0     1.0  1.0    1.0  1.0\n",
       "3          1.0  1.0     1.0  1.0    1.0  1.0\n",
       "4          1.0  NaN     1.0  NaN    1.0  NaN"
      ]
     },
     "execution_count": 24,
     "metadata": {},
     "output_type": "execute_result"
    }
   ],
   "source": [
    "df.pivot_table(values=[\"history\", \"english\", \"math\"],\n",
    "               index=[\"class\"],\n",
    "               columns=[\"gender\"],\n",
    "               aggfunc=\"count\")"
   ]
  }
 ],
 "metadata": {
  "colab": {
   "collapsed_sections": [],
   "name": "4_Combining Data with Pandas(완료).ipynb의 사본",
   "provenance": [
    {
     "file_id": "1MG-LO-t1wnirKAOd4ZZZ9Htup3UM0COO",
     "timestamp": 1604546365647
    }
   ]
  },
  "kernelspec": {
   "display_name": "Python 3",
   "language": "python",
   "name": "python3"
  },
  "language_info": {
   "codemirror_mode": {
    "name": "ipython",
    "version": 3
   },
   "file_extension": ".py",
   "mimetype": "text/x-python",
   "name": "python",
   "nbconvert_exporter": "python",
   "pygments_lexer": "ipython3",
   "version": "3.7.0"
  },
  "toc": {
   "base_numbering": 1,
   "nav_menu": {},
   "number_sections": false,
   "sideBar": true,
   "skip_h1_title": false,
   "title_cell": "Table of Contents",
   "title_sidebar": "Contents",
   "toc_cell": false,
   "toc_position": {
    "height": "calc(100% - 180px)",
    "left": "10px",
    "top": "150px",
    "width": "341.328px"
   },
   "toc_section_display": true,
   "toc_window_display": true
  }
 },
 "nbformat": 4,
 "nbformat_minor": 1
}
