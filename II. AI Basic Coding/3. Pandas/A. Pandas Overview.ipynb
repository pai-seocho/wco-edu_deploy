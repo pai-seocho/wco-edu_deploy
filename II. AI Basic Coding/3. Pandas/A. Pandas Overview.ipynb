{
 "cells": [
  {
   "cell_type": "markdown",
   "metadata": {},
   "source": [
    "# A. Pandas Overview"
   ]
  },
  {
   "cell_type": "markdown",
   "metadata": {},
   "source": [
    "<br><br>\n",
    "\n",
    "## \\[ 1. What is Pandas? \\]\n",
    "\n"
   ]
  },
  {
   "cell_type": "markdown",
   "metadata": {},
   "source": [
    "<img src=\"https://imgur.com/5awL2jv.jpg\" align=left width=\"300\" height=\"250\">"
   ]
  },
  {
   "cell_type": "markdown",
   "metadata": {},
   "source": [
    "<img src=\"https://imgur.com/uD67SSr.jpg\" align=left width=\"300\" height=\"250\">"
   ]
  },
  {
   "cell_type": "markdown",
   "metadata": {
    "collapsed": true
   },
   "source": [
    "Pandas is an open source library for collecting and analyzing data in Python.\n",
    "\n",
    "Nowadays, data processing became a very important step in a data science task even though this step alone can take up around 70% to 80% of a data scientist's time on a project.\n",
    "\n",
    "For that reason, we can say that pandas is an essential tool for carrying out data science tasks.\n",
    "\n",
    "The official website : https://pandas.pydata.org/ <br/>\n",
    "The official documents : https://pandas.pydata.org/docs/"
   ]
  },
  {
   "cell_type": "markdown",
   "metadata": {},
   "source": [
    "## \\[ 2. Advantages of Pandas \\]"
   ]
  },
  {
   "cell_type": "markdown",
   "metadata": {},
   "source": [
    "In this part, we are going to learn about the advantages of using pandas"
   ]
  },
  {
   "cell_type": "markdown",
   "metadata": {},
   "source": [
    "<img src=\"https://imgur.com/4u0gebN.png\" align=left style=\"width:250px; height:150px;\">"
   ]
  },
  {
   "cell_type": "markdown",
   "metadata": {},
   "source": [
    "1. We can easily handle data tables through a variety of statistical functions and methods. <br/><br>\n",
    "Data tables in pandas may be similar to Excel. The amount of data it can process is, however, matchless to the performance of Excel."
   ]
  },
  {
   "cell_type": "markdown",
   "metadata": {},
   "source": [
    "<img src=\"https://imgur.com/N3NwwHo.jpg\" align=left style=\"width:250px; height:150px;\">"
   ]
  },
  {
   "cell_type": "markdown",
   "metadata": {},
   "source": [
    "2. Pandas provides a data structure called DataFrame. <br/><br/>\n",
    "Pandas DataFrame objects allow us to quickly and efficiently manipulate data with some useful features for data merge, data division, etc."
   ]
  },
  {
   "cell_type": "markdown",
   "metadata": {},
   "source": [
    "<img src=\"https://imgur.com/obWccmc.png\" align=left style=\"width:250px; height:150px;\">"
   ]
  },
  {
   "cell_type": "markdown",
   "metadata": {},
   "source": [
    "3. Pandas is a Python package and thus compatible with Tensorflow. <br/><br/>\n",
    "Tensorflow is one of the core libraries for developing AI, and its compatibility with pandas makes the data science process much more effective and efficient."
   ]
  },
  {
   "cell_type": "markdown",
   "metadata": {},
   "source": [
    "## \\[ 3. Index \\]"
   ]
  },
  {
   "cell_type": "markdown",
   "metadata": {},
   "source": [
    "### B. Data Structures in Pandas"
   ]
  },
  {
   "cell_type": "markdown",
   "metadata": {},
   "source": [
    "### C. Pandas DataFrame"
   ]
  },
  {
   "cell_type": "markdown",
   "metadata": {},
   "source": [
    "### D. Methods on pandas DataFrame"
   ]
  },
  {
   "cell_type": "markdown",
   "metadata": {},
   "source": [
    "### E. Reshaping DataFrames"
   ]
  }
 ],
 "metadata": {
  "kernelspec": {
   "display_name": "python3",
   "language": "python",
   "name": "python3"
  },
  "language_info": {
   "codemirror_mode": {
    "name": "ipython",
    "version": 3
   },
   "file_extension": ".py",
   "mimetype": "text/x-python",
   "name": "python",
   "nbconvert_exporter": "python",
   "pygments_lexer": "ipython3",
   "version": "3.6.8"
  }
 },
 "nbformat": 4,
 "nbformat_minor": 2
}
