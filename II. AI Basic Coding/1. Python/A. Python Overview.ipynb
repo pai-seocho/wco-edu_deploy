{
 "cells": [
  {
   "cell_type": "markdown",
   "metadata": {},
   "source": [
    "# A. Python Overview"
   ]
  },
  {
   "cell_type": "markdown",
   "metadata": {},
   "source": [
    "## [ 1. What is Python? ]"
   ]
  },
  {
   "cell_type": "markdown",
   "metadata": {},
   "source": [
    "<img src=\"https://i.imgur.com/aYaXGHZ.png\" align=left width=\"400\" height=\"450\">"
   ]
  },
  {
   "cell_type": "markdown",
   "metadata": {},
   "source": [
    "**Python** is an interpreter language developed by Guido Van Rossum in 1991,<br/>\n",
    "and it is also one of the famous open software.\n",
    "\n",
    "Python is a good programming language for beginners,<br/>\n",
    "because it is relatively easier than other computer languages to learn and its graphic process is simple.\n",
    "\n",
    "Additionally, Python can be supported on most operating systems(OS) such as Windows, Linux and Mac.<br/>\n",
    "In other words, it has great compatibility and scalability"
   ]
  },
  {
   "cell_type": "markdown",
   "metadata": {},
   "source": [
    "## [ 2. Characteristics of Python ]"
   ]
  },
  {
   "cell_type": "markdown",
   "metadata": {},
   "source": [
    "1. Readability and maintainability : Developers usually spend more time on reading their codes than on writing.\n",
    "2. An interpreter language : We can write and compile Python codes at the same time. \n",
    "3. A dynamically typed language : Types of variables are pre-fixed or pre-defined, and variable types are mutable. \n",
    "4. A glue language: it is easy to integrate Python programs to other programs written in other programming languages.\n",
    "5. The rich environment: On top of built-in libraries, Python supports many other external libraries that should be installed using the package manager."
   ]
  },
  {
   "cell_type": "markdown",
   "metadata": {},
   "source": [
    "## [ 3. Misunderstandings about Python ]\n",
    ": Is Python slow?"
   ]
  },
  {
   "cell_type": "markdown",
   "metadata": {},
   "source": [
    "<img src=\"https://imgur.com/JqQCO1U.png\" align=left width=500 height=\"550\">"
   ]
  },
  {
   "cell_type": "markdown",
   "metadata": {},
   "source": [
    "1. The strength of Python is not <b>the speed of programs</b>, but it is <b>the speed of humans</b>.\n",
    "2. However, in terms of the speed of programs, it is not slow either.\n",
    "3. Development time is the biggest cost.\n",
    "4. Python is an efficient language if we can use it properly in the right place at the right time."
   ]
  },
  {
   "cell_type": "markdown",
   "metadata": {},
   "source": [
    "## [ 4.  How to install Python and required libraries? (Anaconda) ]"
   ]
  },
  {
   "cell_type": "markdown",
   "metadata": {},
   "source": [
    "### 1. Download Anaconda individual edition (https://www.anaconda.com/products/individual)\n",
    "<img src=\"https://i.imgur.com/lcNJg1K.png\" align=left width=\"600\" height=\"300\">"
   ]
  },
  {
   "cell_type": "markdown",
   "metadata": {},
   "source": [
    "- Download the installation file that has the same OS setting as your PC"
   ]
  },
  {
   "cell_type": "markdown",
   "metadata": {},
   "source": [
    "### 2. Run the file and progress the installation in order.\n",
    "![](https://docs.anaconda.com/_images/osx-install-type.png)"
   ]
  },
  {
   "cell_type": "markdown",
   "metadata": {},
   "source": [
    "### 3. Install required libraries.\n",
    "\n",
    "This time, let's look at two ways to install the required libraries required for programming development through Python."
   ]
  },
  {
   "cell_type": "markdown",
   "metadata": {},
   "source": [
    "#### (1) install from cmd or terminal window \n",
    "\n",
    "In Windows, you can use the search bar by clicking the window icon on the left side of the menu at the bottom. Enter `cmd` and click on what appears to open the terminal.\n",
    "\n",
    "On a Mac, you can click the magnifying glass icon in the menu bar to open the search box. Then, enter `terminal` to enter the terminal window.\n",
    "\n",
    "Libraries can be downloaded by typing ```pip``` commands in the cmd or terminal screen like next examples."
   ]
  },
  {
   "cell_type": "markdown",
   "metadata": {},
   "source": [
    "<b>Install numpy</b>  \n",
    "`pip install numpy`"
   ]
  },
  {
   "cell_type": "markdown",
   "metadata": {},
   "source": [
    "<b>Install matplotlib</b>  \n",
    "`pip install matplotlib`"
   ]
  },
  {
   "cell_type": "markdown",
   "metadata": {},
   "source": [
    "<b>Install pandas</b>  \n",
    "`pip install pandas`"
   ]
  },
  {
   "cell_type": "markdown",
   "metadata": {},
   "source": [
    "<b>Install scikit-learn</b>  \n",
    "`pip install scikit-learn`"
   ]
  },
  {
   "cell_type": "markdown",
   "metadata": {},
   "source": [
    "#### (2) Install libraries in Jupyter notebook\n",
    "You can also install libraries in Jupyter notebook after installing `Anaconda`.\n",
    "The way of installation is basically the same, but you must add `!` at the beginning.\n",
    "\n",
    "Here's how to install the library in Jupyter Notebook."
   ]
  },
  {
   "cell_type": "code",
   "execution_count": null,
   "metadata": {},
   "outputs": [],
   "source": [
    "# Install numpy\n",
    "!pip install numpy"
   ]
  },
  {
   "cell_type": "code",
   "execution_count": null,
   "metadata": {},
   "outputs": [],
   "source": [
    "# Install matplotlib\n",
    "!pip install matplotlib"
   ]
  },
  {
   "cell_type": "code",
   "execution_count": null,
   "metadata": {},
   "outputs": [],
   "source": [
    "# Install pandas\n",
    "!pip install pandas"
   ]
  },
  {
   "cell_type": "code",
   "execution_count": null,
   "metadata": {},
   "outputs": [],
   "source": [
    "# Install scikit-learn\n",
    "!pip install scikit-learn"
   ]
  },
  {
   "cell_type": "markdown",
   "metadata": {},
   "source": [
    "## [ 5. How to run Python? ]"
   ]
  },
  {
   "cell_type": "markdown",
   "metadata": {},
   "source": [
    "### (1) Running from console"
   ]
  },
  {
   "cell_type": "markdown",
   "metadata": {},
   "source": [
    "1. Run Python directly from the console<br>\n",
    "<img src=\"https://i.imgur.com/0rHUO6Q.png\" align=left width=\"350\" height=\"120\">"
   ]
  },
  {
   "cell_type": "markdown",
   "metadata": {},
   "source": [
    "2. When you have something to check in Python <br>\n",
    "<img src=\"https://i.imgur.com/DZYBj5N.png\" align=left width=\"550\" height=\"120\">"
   ]
  },
  {
   "cell_type": "markdown",
   "metadata": {},
   "source": [
    "### (2) Running in the interpreter"
   ]
  },
  {
   "cell_type": "markdown",
   "metadata": {},
   "source": [
    "<pre>  <img src=\"https://i.imgur.com/ymSKXCm.png\" align=left width=500 height=400></pre>"
   ]
  },
  {
   "cell_type": "markdown",
   "metadata": {},
   "source": [
    "* What is an Interpreter language?\n",
    "    - It is a computer program or environment that directly executes source codes of a programming language.\n",
    "    - Since there is no compilation, there is no separate compilation time, so it can be executed immediately."
   ]
  },
  {
   "cell_type": "markdown",
   "metadata": {},
   "source": [
    "### (3) Running Python in the IPython"
   ]
  },
  {
   "cell_type": "markdown",
   "metadata": {},
   "source": [
    "<pre>  <img src=\"https://i.imgur.com/VNRkKAs.png\" align=left width=500 height=400></pre>\n",
    "<pre>  <img src=\"https://i.imgur.com/eYY1YQQ.png\" align=left width=500 height=200></pre>"
   ]
  },
  {
   "cell_type": "markdown",
   "metadata": {},
   "source": [
    " - In addition to the Python execution function, it provides various functions such as console operation function and magic method."
   ]
  },
  {
   "cell_type": "markdown",
   "metadata": {},
   "source": [
    "## [ 6. Index ]\n",
    "\n",
    "### B. Variables and operations in Python\n",
    "### C. Data structures in Python\n",
    "### D. Control Statements in Python\n",
    "### E. Functions and packages in Python\n",
    "### F. Classes and inheritance in Python"
   ]
  },
  {
   "cell_type": "code",
   "execution_count": null,
   "metadata": {},
   "outputs": [],
   "source": []
  }
 ],
 "metadata": {
  "kernelspec": {
   "display_name": "Python 3",
   "language": "python",
   "name": "python3"
  },
  "language_info": {
   "codemirror_mode": {
    "name": "ipython",
    "version": 3
   },
   "file_extension": ".py",
   "mimetype": "text/x-python",
   "name": "python",
   "nbconvert_exporter": "python",
   "pygments_lexer": "ipython3",
   "version": "3.8.3"
  }
 },
 "nbformat": 4,
 "nbformat_minor": 4
}
