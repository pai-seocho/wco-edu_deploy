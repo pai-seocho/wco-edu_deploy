{
 "cells": [
  {
   "cell_type": "markdown",
   "metadata": {
    "colab_type": "text",
    "id": "LhspHc8sjh-3"
   },
   "source": [
    "# C. Data Structure\n",
    "\n",
    "\n",
    "In the previous lesson, it was said that computers can store and process many types of data. Since the amount of data a computer processes is huge, data should be stored efficiently for a timely access and process. In order to achieve it, we use something called \"Data structures\". So, let us go through the topics we should cover about Python data structures. "
   ]
  },
  {
   "cell_type": "markdown",
   "metadata": {},
   "source": [
    "### _Objectives_\n",
    "1. **Data Structures**: Understanding each type of data structure and learning how to handle it."
   ]
  },
  {
   "cell_type": "markdown",
   "metadata": {},
   "source": [
    "<img src=\"https://imgur.com/koS7UJA.jpg\" align=left width=\"700\" height=\"600\">"
   ]
  },
  {
   "cell_type": "markdown",
   "metadata": {
    "colab_type": "text",
    "id": "4-2_P87pjh-4"
   },
   "source": [
    "# \\[1. List\\]\n",
    "\n",
    "Python List is one of the data structures which is a mutable or changeable and ordered sequence of elements."
   ]
  },
  {
   "cell_type": "markdown",
   "metadata": {
    "colab_type": "text",
    "id": "O_jKkSbOmNbb"
   },
   "source": [
    "## 1. Characteristics and Operations \n",
    "\n",
    "+ In Python, a list is created by placing all the elements inside square brackets (`[]`), separated by commas.  \n",
    "\n",
    "+ A list is an ordered sequence of elements with each element associated with a positional number called **'index'**. Python uses zero-based indexing and indices function as indicators used for accessing specific elements.\n",
    "\n",
    "+ On top of that, Python provides a number of built-in functions and methods for list manipulation. They are `index()`, `append()`, `insert()`, `extend()`, `remove()`,`pop()`, etc."
   ]
  },
  {
   "cell_type": "markdown",
   "metadata": {
    "colab_type": "text",
    "id": "cfL3qccYjh-6"
   },
   "source": [
    "### (1) Creating a list\n",
    "In Python, You can create a list by **<code>[ ]</code>** or **<code>list()</code>**. List can hold values of any data type with each value separated by commas."
   ]
  },
  {
   "cell_type": "code",
   "execution_count": 1,
   "metadata": {
    "colab": {
     "base_uri": "https://localhost:8080/",
     "height": 34
    },
    "colab_type": "code",
    "executionInfo": {
     "elapsed": 722,
     "status": "ok",
     "timestamp": 1550744632159,
     "user": {
      "displayName": "최선열",
      "photoUrl": "",
      "userId": "00663027191814710813"
     },
     "user_tz": -540
    },
    "id": "ITeAnf9cjh-7",
    "outputId": "65e28c87-7b71-4196-efc6-b41373a62846"
   },
   "outputs": [
    {
     "data": {
      "text/plain": [
       "[]"
      ]
     },
     "execution_count": 1,
     "metadata": {},
     "output_type": "execute_result"
    }
   ],
   "source": [
    "lst0 = [] # creating an empty list\n",
    "lst0 = list()\n",
    "lst0"
   ]
  },
  {
   "cell_type": "code",
   "execution_count": 2,
   "metadata": {
    "colab": {},
    "colab_type": "code",
    "id": "1CXzvmCMjh_C",
    "outputId": "6b30f168-c9c2-4c79-f034-95a4554dcf10"
   },
   "outputs": [
    {
     "data": {
      "text/plain": [
       "[1, 2, 3, 4, 5]"
      ]
     },
     "execution_count": 2,
     "metadata": {},
     "output_type": "execute_result"
    }
   ],
   "source": [
    "lst1 = [1,2,3,4,5] # creating a list of multiple values\n",
    "lst1"
   ]
  },
  {
   "cell_type": "code",
   "execution_count": 3,
   "metadata": {
    "colab": {},
    "colab_type": "code",
    "id": "YSUqEzObjh_F",
    "outputId": "fd8e817a-a91d-4a99-c950-a5ec1d7b11a5"
   },
   "outputs": [
    {
     "data": {
      "text/plain": [
       "[1, 2, 3, 5.5, 'str1']"
      ]
     },
     "execution_count": 3,
     "metadata": {},
     "output_type": "execute_result"
    }
   ],
   "source": [
    "lst2 = [1,2,3,5.5,\"str1\"] # list of a string and 5 integers\n",
    "lst2"
   ]
  },
  {
   "cell_type": "code",
   "execution_count": 4,
   "metadata": {
    "colab": {},
    "colab_type": "code",
    "id": "NkpcTnFBjh_I",
    "outputId": "6afa62e9-ea41-4dac-88c2-e497e9df4173"
   },
   "outputs": [
    {
     "data": {
      "text/plain": [
       "[1, 2, 3, 4, [1, 2, 3, 5.5, 'str1']]"
      ]
     },
     "execution_count": 4,
     "metadata": {},
     "output_type": "execute_result"
    }
   ],
   "source": [
    "var1 = 1 # creating a list containing variables and numbers\n",
    "lst3 = [var1, 2,3,4, lst2]\n",
    "lst3"
   ]
  },
  {
   "cell_type": "markdown",
   "metadata": {
    "colab_type": "text",
    "id": "bqGuQhskjh_L"
   },
   "source": [
    "### (2) List Indexing \n",
    "\n",
    "A list is an ordered sequence of elements, and each element is associated with an index. You can select or access each element value by referencing its index in <code>[&nbsp;].</code> <br>\n",
    "Note that Python uses zero-based indexing, whereby the first element is associated with the index value 0.\n",
    "\n",
    "The syntax of list indexing is the same as that of tuple and strings indexing.\n"
   ]
  },
  {
   "cell_type": "code",
   "execution_count": 5,
   "metadata": {
    "colab": {},
    "colab_type": "code",
    "id": "2lSOEhYNjh_M"
   },
   "outputs": [],
   "source": [
    "lst = [1,2,3,4,5]"
   ]
  },
  {
   "cell_type": "code",
   "execution_count": 6,
   "metadata": {
    "colab": {},
    "colab_type": "code",
    "id": "l5G3kqpYjh_R",
    "outputId": "30f901fd-ad46-4135-e32f-e3158393813d"
   },
   "outputs": [
    {
     "data": {
      "text/plain": [
       "3"
      ]
     },
     "execution_count": 6,
     "metadata": {},
     "output_type": "execute_result"
    }
   ],
   "source": [
    "# accessing the element of the index value of 2 in Ist \n",
    "lst[2]"
   ]
  },
  {
   "cell_type": "code",
   "execution_count": 7,
   "metadata": {
    "colab": {},
    "colab_type": "code",
    "id": "kwVKZeCljh_V",
    "outputId": "3a148d0f-0b6e-4b07-8014-a2b5c2157de2",
    "scrolled": true
   },
   "outputs": [
    {
     "data": {
      "text/plain": [
       "5"
      ]
     },
     "execution_count": 7,
     "metadata": {},
     "output_type": "execute_result"
    }
   ],
   "source": [
    "# Python supports negative indexing proceeding backwards from the last element to the first element of a list.\n",
    "# In negative indexing, the first index value -1 is linked to the last element of the list, -2 to the second last element and so on.\n",
    "lst[-1] "
   ]
  },
  {
   "cell_type": "code",
   "execution_count": 8,
   "metadata": {
    "colab": {},
    "colab_type": "code",
    "id": "5lB5FgLkjh_b",
    "outputId": "e00d90ce-cf91-4393-90b3-b9129d09b4e9"
   },
   "outputs": [
    {
     "data": {
      "text/plain": [
       "[2, 3, 4]"
      ]
     },
     "execution_count": 8,
     "metadata": {},
     "output_type": "execute_result"
    }
   ],
   "source": [
    "# Selecting a range of elements in a list using a colon (:)\n",
    "# Accessing the list elements of index 1(inclusive) to 4 (exclusive)\n",
    "lst[1:4] # the number on the left indicates the starting index (inclusive) and that on the right is where the access ceases."
   ]
  },
  {
   "cell_type": "code",
   "execution_count": 9,
   "metadata": {
    "colab": {},
    "colab_type": "code",
    "id": "8OGKuieUjh_f",
    "outputId": "3bcc6229-adf3-4473-be3b-d1444f2b8015"
   },
   "outputs": [
    {
     "data": {
      "text/plain": [
       "[4, 5]"
      ]
     },
     "execution_count": 9,
     "metadata": {},
     "output_type": "execute_result"
    }
   ],
   "source": [
    "# Accessing the list starting at index 3 to the end\n",
    "lst[3:]"
   ]
  },
  {
   "cell_type": "code",
   "execution_count": 10,
   "metadata": {
    "colab": {},
    "colab_type": "code",
    "id": "gtGF4G0Ajh_i",
    "outputId": "0458c58b-8b55-4f46-bdfc-6cf46f101b87",
    "scrolled": true
   },
   "outputs": [
    {
     "data": {
      "text/plain": [
       "[1, 3, 5]"
      ]
     },
     "execution_count": 10,
     "metadata": {},
     "output_type": "execute_result"
    }
   ],
   "source": [
    "# You can insert an argument for \"step\" to determine the amount by which the index increases, defaults to 1. \n",
    "# If `step` is a negative number, the list slicing proceeds in reverse order.\n",
    "\n",
    "lst[0:5:2] # accessing every second element of lst"
   ]
  },
  {
   "cell_type": "code",
   "execution_count": 11,
   "metadata": {},
   "outputs": [
    {
     "data": {
      "text/plain": [
       "True"
      ]
     },
     "execution_count": 11,
     "metadata": {},
     "output_type": "execute_result"
    }
   ],
   "source": [
    "# `in` operator checks if the given value exists in the list\n",
    "1 in lst"
   ]
  },
  {
   "cell_type": "markdown",
   "metadata": {
    "colab_type": "text",
    "id": "9d1n-Bhfjh_5"
   },
   "source": [
    "### (3) Modifying lists\n",
    "Python list is a mutable, which says the elements can be modified using index values."
   ]
  },
  {
   "cell_type": "code",
   "execution_count": 12,
   "metadata": {
    "colab": {},
    "colab_type": "code",
    "id": "yNspDyB5jh_6",
    "outputId": "40824599-feb8-4a1a-d89f-dbf3c306a69f"
   },
   "outputs": [
    {
     "data": {
      "text/plain": [
       "[1, 2, 6, 4, 5]"
      ]
     },
     "execution_count": 12,
     "metadata": {},
     "output_type": "execute_result"
    }
   ],
   "source": [
    "# Changing the third element of lst to 6\n",
    "lst = [1,2,3,4,5]\n",
    "lst[2] = 6\n",
    "lst"
   ]
  },
  {
   "cell_type": "markdown",
   "metadata": {
    "colab_type": "text",
    "id": "yDCwVbVXjh__"
   },
   "source": [
    "If a list is too long, it will be difficult to find the index of elements we want to access. In that case, you can use `.index()` to find the index of the value of interest at its first occurrence.\n"
   ]
  },
  {
   "cell_type": "code",
   "execution_count": 13,
   "metadata": {
    "colab": {},
    "colab_type": "code",
    "id": "QG6Q_M0njiAA",
    "outputId": "48810762-b7e7-4ffb-c998-fce4b9cd507a"
   },
   "outputs": [
    {
     "data": {
      "text/plain": [
       "3"
      ]
     },
     "execution_count": 13,
     "metadata": {},
     "output_type": "execute_result"
    }
   ],
   "source": [
    "lst = [1,2,3,4,5]\n",
    "lst.index(4) # searching for the index where a value 4 appears for the first time."
   ]
  },
  {
   "cell_type": "code",
   "execution_count": 14,
   "metadata": {
    "colab": {},
    "colab_type": "code",
    "id": "67-Z5W8xjiAC",
    "outputId": "33cb87f7-f00f-46d7-8eb9-332d52afc005"
   },
   "outputs": [
    {
     "ename": "ValueError",
     "evalue": "7 is not in list",
     "output_type": "error",
     "traceback": [
      "\u001b[1;31m---------------------------------------------------------------------------\u001b[0m",
      "\u001b[1;31mValueError\u001b[0m                                Traceback (most recent call last)",
      "\u001b[1;32m<ipython-input-14-8002c654c4f7>\u001b[0m in \u001b[0;36m<module>\u001b[1;34m()\u001b[0m\n\u001b[1;32m----> 1\u001b[1;33m \u001b[0mlst\u001b[0m\u001b[1;33m.\u001b[0m\u001b[0mindex\u001b[0m\u001b[1;33m(\u001b[0m\u001b[1;36m7\u001b[0m\u001b[1;33m)\u001b[0m \u001b[1;31m# ValueError occurs if the desired value is not in the list.\u001b[0m\u001b[1;33m\u001b[0m\u001b[0m\n\u001b[0m",
      "\u001b[1;31mValueError\u001b[0m: 7 is not in list"
     ]
    }
   ],
   "source": [
    "lst.index(7) # ValueError occurs if the desired value is not in the list."
   ]
  },
  {
   "cell_type": "markdown",
   "metadata": {
    "colab_type": "text",
    "id": "Cv92CuJwjh_t"
   },
   "source": [
    "### (4) Adding elements to a list\n",
    "In Python, there are times you need to add new elements to somewhere in a list, to the end, beginning, or to the middle. In that regard, Python provides three different methods, which are `append()`, `extend()`, and `insert()`. Let's look at how each of them works."
   ]
  },
  {
   "cell_type": "code",
   "execution_count": null,
   "metadata": {
    "colab": {},
    "colab_type": "code",
    "id": "2J5fWLZ8jh_u"
   },
   "outputs": [],
   "source": [
    "lst = [1,2,3,4,5]"
   ]
  },
  {
   "cell_type": "markdown",
   "metadata": {},
   "source": [
    "`.Append()` - adds its argument as a single element to the end of a list. The length(size) of the list increases by one"
   ]
  },
  {
   "cell_type": "code",
   "execution_count": 15,
   "metadata": {
    "colab": {},
    "colab_type": "code",
    "id": "iWhaAkZujh_y",
    "outputId": "f6886f30-c46e-4417-e539-ebca333ce52c"
   },
   "outputs": [
    {
     "data": {
      "text/plain": [
       "[1, 2, 3, 4, 5, 6]"
      ]
     },
     "execution_count": 15,
     "metadata": {},
     "output_type": "execute_result"
    }
   ],
   "source": [
    "# Adding a new value to the end of a list\n",
    "lst.append(6)\n",
    "lst"
   ]
  },
  {
   "cell_type": "code",
   "execution_count": 16,
   "metadata": {},
   "outputs": [
    {
     "data": {
      "text/plain": [
       "[1, 2, 3, 4, 5, 6, [1, 2]]"
      ]
     },
     "execution_count": 16,
     "metadata": {},
     "output_type": "execute_result"
    }
   ],
   "source": [
    "# Adding a new list to the end of a list\n",
    "lst.append([1,2])\n",
    "lst"
   ]
  },
  {
   "cell_type": "markdown",
   "metadata": {},
   "source": [
    "`.extend()` - iterates over its argument and adding each element to the list and extending the list. The length of the list increases by number of elements in its argument."
   ]
  },
  {
   "cell_type": "code",
   "execution_count": 17,
   "metadata": {},
   "outputs": [
    {
     "data": {
      "text/plain": [
       "[1, 2, 3, 4, 5, 6, [1, 2], 1, 2]"
      ]
     },
     "execution_count": 17,
     "metadata": {},
     "output_type": "execute_result"
    }
   ],
   "source": [
    "# Adding two values to the end of lst\n",
    "lst.extend([1,2])\n",
    "lst"
   ]
  },
  {
   "cell_type": "markdown",
   "metadata": {},
   "source": [
    "`.insert()`- inserts new elements at a specified position within the given list. The length of the list increases by one."
   ]
  },
  {
   "cell_type": "code",
   "execution_count": 18,
   "metadata": {
    "colab": {},
    "colab_type": "code",
    "id": "TBNrIygQjh_2",
    "outputId": "bfdebedd-b87f-4dfe-ce1d-43ce4293386a"
   },
   "outputs": [
    {
     "data": {
      "text/plain": [
       "[1, 2, 2.5, 2.5, 3, 4, 5, 6, [1, 2], 1, 2]"
      ]
     },
     "execution_count": 18,
     "metadata": {},
     "output_type": "execute_result"
    }
   ],
   "source": [
    "# Inserting a value to the specific position of the list \n",
    "# In this case, we're inserting a float, 2.5, to the position of index 2 of the list. \n",
    "lst.insert(2,2.5)\n",
    "lst.insert(2,2.5)\n",
    "lst"
   ]
  },
  {
   "cell_type": "markdown",
   "metadata": {
    "colab_type": "text",
    "id": "C7RSOSW7jiAF"
   },
   "source": [
    "### (5) Removing elements from a list\n",
    "You can delete list elements using **`del`**, **`.remove()`** or **`.pop`**."
   ]
  },
  {
   "cell_type": "markdown",
   "metadata": {},
   "source": [
    "`del` - removes the element at a specific index"
   ]
  },
  {
   "cell_type": "code",
   "execution_count": 19,
   "metadata": {
    "colab": {},
    "colab_type": "code",
    "id": "o4vCsWXMjiAG",
    "outputId": "37fd97a1-c72c-4069-afb0-be7ca327781e"
   },
   "outputs": [
    {
     "data": {
      "text/plain": [
       "[2, 3, 4, 5]"
      ]
     },
     "execution_count": 19,
     "metadata": {},
     "output_type": "execute_result"
    }
   ],
   "source": [
    "lst = [1,2,3,4,5]\n",
    "del lst[0] # removing by referring to the index value\n",
    "lst"
   ]
  },
  {
   "cell_type": "markdown",
   "metadata": {},
   "source": [
    "`.remove()` - removes the first matching value, not a specific index"
   ]
  },
  {
   "cell_type": "code",
   "execution_count": 20,
   "metadata": {
    "colab": {},
    "colab_type": "code",
    "id": "dvliFynIjiAK",
    "outputId": "62225537-1bcf-42b1-de47-514147af77ac"
   },
   "outputs": [
    {
     "data": {
      "text/plain": [
       "[1, 2, 3, 5]"
      ]
     },
     "execution_count": 20,
     "metadata": {},
     "output_type": "execute_result"
    }
   ],
   "source": [
    "lst = [1,2,3,4,5] \n",
    "lst.remove(4) # removing an element by referring to the value to be removed\n",
    "lst"
   ]
  },
  {
   "cell_type": "code",
   "execution_count": 21,
   "metadata": {
    "colab": {},
    "colab_type": "code",
    "id": "SLqRsPU8jiAM",
    "outputId": "0415e903-0fc5-4ecc-bae7-0715136607d4",
    "scrolled": true
   },
   "outputs": [
    {
     "ename": "ValueError",
     "evalue": "list.remove(x): x not in list",
     "output_type": "error",
     "traceback": [
      "\u001b[1;31m---------------------------------------------------------------------------\u001b[0m",
      "\u001b[1;31mValueError\u001b[0m                                Traceback (most recent call last)",
      "\u001b[1;32m<ipython-input-21-9df397e14df2>\u001b[0m in \u001b[0;36m<module>\u001b[1;34m()\u001b[0m\n\u001b[1;32m----> 1\u001b[1;33m \u001b[0mlst\u001b[0m\u001b[1;33m.\u001b[0m\u001b[0mremove\u001b[0m\u001b[1;33m(\u001b[0m\u001b[1;36m0\u001b[0m\u001b[1;33m)\u001b[0m\u001b[1;33m\u001b[0m\u001b[0m\n\u001b[0m\u001b[0;32m      2\u001b[0m \u001b[0mlst\u001b[0m \u001b[1;31m# ValueError if the given value is not in the list\u001b[0m\u001b[1;33m\u001b[0m\u001b[0m\n",
      "\u001b[1;31mValueError\u001b[0m: list.remove(x): x not in list"
     ]
    }
   ],
   "source": [
    "lst.remove(0)\n",
    "lst # ValueError if the given value is not in the list"
   ]
  },
  {
   "cell_type": "markdown",
   "metadata": {},
   "source": [
    "`.pop()` - removes the element at a specific index and returns the deleted value."
   ]
  },
  {
   "cell_type": "code",
   "execution_count": 22,
   "metadata": {},
   "outputs": [
    {
     "data": {
      "text/plain": [
       "3"
      ]
     },
     "execution_count": 22,
     "metadata": {},
     "output_type": "execute_result"
    }
   ],
   "source": [
    "lst.pop(2) # returns the element of the index to be removed"
   ]
  },
  {
   "cell_type": "code",
   "execution_count": 23,
   "metadata": {},
   "outputs": [
    {
     "data": {
      "text/plain": [
       "[1, 2, 5]"
      ]
     },
     "execution_count": 23,
     "metadata": {},
     "output_type": "execute_result"
    }
   ],
   "source": [
    "lst"
   ]
  },
  {
   "cell_type": "markdown",
   "metadata": {
    "colab_type": "text",
    "id": "3FZFW8bOmYAg"
   },
   "source": [
    "\n",
    "## 2. List Operators and Functions\n",
    "\n",
    "+ You can use operators on lists just as on strings or integers\n",
    "+  `+` and `*` operators extend a list and `zip` aggregates elements of two lists.\n",
    "+ you can also use other built-in functions such as `len()` to measure the length of a list or `sorted()` to sort elements of a list\n"
   ]
  },
  {
   "cell_type": "markdown",
   "metadata": {
    "colab_type": "text",
    "id": "sFcHvi_wjiAS"
   },
   "source": [
    "### (1) Addition(`+`)\n",
    "\n",
    "The `+` operator creates a new list by concatenating the given lists"
   ]
  },
  {
   "cell_type": "code",
   "execution_count": 24,
   "metadata": {
    "colab": {
     "base_uri": "https://localhost:8080/",
     "height": 34
    },
    "colab_type": "code",
    "executionInfo": {
     "elapsed": 897,
     "status": "ok",
     "timestamp": 1550745908881,
     "user": {
      "displayName": "최선열",
      "photoUrl": "",
      "userId": "00663027191814710813"
     },
     "user_tz": -540
    },
    "id": "S-Egw1fjjiAS",
    "outputId": "bcefc2e2-f0c0-458d-e814-7806da57f364"
   },
   "outputs": [
    {
     "data": {
      "text/plain": [
       "[1, 2, 3, 4, 5, 6, 7, 8, 9, 10]"
      ]
     },
     "execution_count": 24,
     "metadata": {},
     "output_type": "execute_result"
    }
   ],
   "source": [
    "lst1 = [1,2,3,4,5]\n",
    "lst2 = [6,7,8,9,10]\n",
    "lst1 + lst2 "
   ]
  },
  {
   "cell_type": "markdown",
   "metadata": {
    "colab_type": "text",
    "id": "JgVOLR6FjiAW"
   },
   "source": [
    "### (2)Multiplication(`*`) \n",
    "\n",
    "The `*` operator creates a new list by repeating the given list for the given number of times"
   ]
  },
  {
   "cell_type": "code",
   "execution_count": 25,
   "metadata": {
    "colab": {
     "base_uri": "https://localhost:8080/",
     "height": 34
    },
    "colab_type": "code",
    "executionInfo": {
     "elapsed": 561,
     "status": "ok",
     "timestamp": 1550745920135,
     "user": {
      "displayName": "최선열",
      "photoUrl": "",
      "userId": "00663027191814710813"
     },
     "user_tz": -540
    },
    "id": "F6Nr4xxVjiAX",
    "outputId": "e392619f-5124-4fd8-d2ee-636559fd2b08",
    "scrolled": true
   },
   "outputs": [
    {
     "data": {
      "text/plain": [
       "[1, 2, 3, 4, 5, 1, 2, 3, 4, 5, 1, 2, 3, 4, 5]"
      ]
     },
     "execution_count": 25,
     "metadata": {},
     "output_type": "execute_result"
    }
   ],
   "source": [
    "lst1 * 3"
   ]
  },
  {
   "cell_type": "markdown",
   "metadata": {
    "colab_type": "text",
    "id": "O2TjhcJXjiAa"
   },
   "source": [
    "### (3) Joining two lists - **`zip()`**\n",
    "\n",
    "The `zip()` function returns a zip object, which is an iterator of tuples where the first elements of the given lists are paired together, and then the second elements, and so forth."
   ]
  },
  {
   "cell_type": "code",
   "execution_count": 26,
   "metadata": {
    "colab": {
     "base_uri": "https://localhost:8080/",
     "height": 34
    },
    "colab_type": "code",
    "executionInfo": {
     "elapsed": 639,
     "status": "ok",
     "timestamp": 1550745927966,
     "user": {
      "displayName": "최선열",
      "photoUrl": "",
      "userId": "00663027191814710813"
     },
     "user_tz": -540
    },
    "id": "GG1aTJ1ZjiAa",
    "outputId": "d3f442fa-295a-4b53-db0f-f453e1ffbcb7"
   },
   "outputs": [
    {
     "data": {
      "text/plain": [
       "[(1, 'a'), (2, 'b'), (3, 'c'), (4, 'd'), (5, 'e')]"
      ]
     },
     "execution_count": 26,
     "metadata": {},
     "output_type": "execute_result"
    }
   ],
   "source": [
    "lst1 = [1,2,3,4,5]\n",
    "lst2 = [\"a\",\"b\",\"c\",\"d\",\"e\"]\n",
    "list(zip(lst1,lst2))"
   ]
  },
  {
   "cell_type": "markdown",
   "metadata": {
    "colab_type": "text",
    "id": "9K-Vzw7NjiBd"
   },
   "source": [
    "### (4) Checking the length of a list - **`len()`**\n",
    "**`len()`** returns the number of elements in a list\n",
    "."
   ]
  },
  {
   "cell_type": "code",
   "execution_count": 27,
   "metadata": {
    "colab": {},
    "colab_type": "code",
    "id": "9TWLamzbjiBd",
    "outputId": "380034d5-a7a0-4f67-ec6c-85954cc7618b"
   },
   "outputs": [
    {
     "data": {
      "text/plain": [
       "5"
      ]
     },
     "execution_count": 27,
     "metadata": {},
     "output_type": "execute_result"
    }
   ],
   "source": [
    "lst = [1,2,3,4,5]\n",
    "len(lst)"
   ]
  },
  {
   "cell_type": "markdown",
   "metadata": {
    "colab_type": "text",
    "id": "MxdmKAgajiBh"
   },
   "source": [
    "### (5) Sorting list elements - **`sorted()`**\n",
    "**`sorted()`** sorts the given list elements in a specific order, typically either in ascending or descending order."
   ]
  },
  {
   "cell_type": "code",
   "execution_count": 28,
   "metadata": {
    "colab": {},
    "colab_type": "code",
    "id": "viHkwWTHjiBi",
    "outputId": "4a7f3060-4794-46b3-fd8d-969399a0b67f"
   },
   "outputs": [],
   "source": [
    "lst = [1,3,2,4,5]"
   ]
  },
  {
   "cell_type": "code",
   "execution_count": 29,
   "metadata": {},
   "outputs": [
    {
     "data": {
      "text/plain": [
       "[1, 2, 3, 4, 5]"
      ]
     },
     "execution_count": 29,
     "metadata": {},
     "output_type": "execute_result"
    }
   ],
   "source": [
    "# Sorting list elements in ascending order (Default)\n",
    "sorted(lst)"
   ]
  },
  {
   "cell_type": "code",
   "execution_count": 30,
   "metadata": {
    "colab": {},
    "colab_type": "code",
    "id": "V2h3lsyGjiBn",
    "outputId": "051b1050-f337-491a-ebf3-b24077342e2a",
    "scrolled": true
   },
   "outputs": [
    {
     "data": {
      "text/plain": [
       "[5, 4, 3, 2, 1]"
      ]
     },
     "execution_count": 30,
     "metadata": {},
     "output_type": "execute_result"
    }
   ],
   "source": [
    "# Sorting list elements in descending order \n",
    "sorted(lst,reverse=True)"
   ]
  },
  {
   "cell_type": "markdown",
   "metadata": {},
   "source": [
    "<hr>"
   ]
  },
  {
   "cell_type": "markdown",
   "metadata": {
    "colab_type": "text",
    "id": "X5IVPTZbjiAd"
   },
   "source": [
    "# \\[2. Tuple\\]\n",
    "\n",
    "\n",
    "A **`tuple`** is a data structure that contains an ordered collection of comma-separated elements just as Python lists. However, It is **immutable(unchangeable)** and thus less flexible than lists."
   ]
  },
  {
   "cell_type": "markdown",
   "metadata": {
    "colab_type": "text",
    "id": "RSwiIbB0px9u"
   },
   "source": [
    "## 1. Characteristics and Operations\n",
    "\n",
    "+ A tuple is created by placing elements between in **`( )`** or **`tuple()`**.\n",
    "\n",
    "+ A tuple is a sequence of values with index values."
   ]
  },
  {
   "cell_type": "markdown",
   "metadata": {
    "colab_type": "text",
    "id": "MCMFFUZ7jiAe"
   },
   "source": [
    "### (1) Creating a tuple"
   ]
  },
  {
   "cell_type": "code",
   "execution_count": 31,
   "metadata": {
    "colab": {},
    "colab_type": "code",
    "id": "sgmAIck_jiAg",
    "outputId": "0ca1395b-5704-4989-99b3-44b0c74dabee"
   },
   "outputs": [
    {
     "data": {
      "text/plain": [
       "()"
      ]
     },
     "execution_count": 31,
     "metadata": {},
     "output_type": "execute_result"
    }
   ],
   "source": [
    "tpl = () # creating an empty tuple\n",
    "tpl = tuple()\n",
    "tpl"
   ]
  },
  {
   "cell_type": "code",
   "execution_count": 32,
   "metadata": {
    "colab": {},
    "colab_type": "code",
    "id": "NYLDQJ3ejiAj",
    "outputId": "0142eebe-2e97-423b-da06-913ba75d690d"
   },
   "outputs": [
    {
     "data": {
      "text/plain": [
       "(1, 2, 3, 4, 5)"
      ]
     },
     "execution_count": 32,
     "metadata": {},
     "output_type": "execute_result"
    }
   ],
   "source": [
    "tpl = (1,2,3,4,5) # creating a tuple of five elements.\n",
    "tpl"
   ]
  },
  {
   "cell_type": "code",
   "execution_count": 33,
   "metadata": {
    "colab": {},
    "colab_type": "code",
    "id": "XWvSi-USjiAl",
    "outputId": "74bae380-90c2-4d2f-e0fb-3ba079d65404"
   },
   "outputs": [
    {
     "data": {
      "text/plain": [
       "(1, 2, 3, 5.5, 'str1')"
      ]
     },
     "execution_count": 33,
     "metadata": {},
     "output_type": "execute_result"
    }
   ],
   "source": [
    "tpl = (1,2,3,5.5,\"str1\") # creating a tuple of five numbers and a string\n",
    "tpl"
   ]
  },
  {
   "cell_type": "code",
   "execution_count": 34,
   "metadata": {
    "colab": {},
    "colab_type": "code",
    "id": "N0YtV0MqjiAp",
    "outputId": "02fe86e8-7a4d-412a-bba6-8f155bbd250d"
   },
   "outputs": [
    {
     "data": {
      "text/plain": [
       "(1, 2, 3, 4, (1, 2, 3, 5.5, 'str1'))"
      ]
     },
     "execution_count": 34,
     "metadata": {},
     "output_type": "execute_result"
    }
   ],
   "source": [
    "var_1 = 1 \n",
    "tpl_1 = (var_1, 2,3,4, tpl) # creating a tuple of three numbers and two variables\n",
    "tpl_1"
   ]
  },
  {
   "cell_type": "markdown",
   "metadata": {
    "colab_type": "text",
    "id": "qq0MrpV2jiAs"
   },
   "source": [
    "### (2) Tuple Indexing\n",
    "\n",
    "The syntax of tuple indexing is the same as that of list and strings."
   ]
  },
  {
   "cell_type": "markdown",
   "metadata": {},
   "source": [
    "### (3) Modifying tuples - Not Supported!\n",
    "\n",
    "A tuple is an immutable data structure and doesn't allow any change in its content once created. An attempt for any modification will raise an error as what you see in the example below."
   ]
  },
  {
   "cell_type": "code",
   "execution_count": 35,
   "metadata": {},
   "outputs": [
    {
     "ename": "TypeError",
     "evalue": "'tuple' object does not support item assignment",
     "output_type": "error",
     "traceback": [
      "\u001b[1;31m---------------------------------------------------------------------------\u001b[0m",
      "\u001b[1;31mTypeError\u001b[0m                                 Traceback (most recent call last)",
      "\u001b[1;32m<ipython-input-35-fca413491aaa>\u001b[0m in \u001b[0;36m<module>\u001b[1;34m()\u001b[0m\n\u001b[0;32m      1\u001b[0m \u001b[0mtpl\u001b[0m\u001b[1;33m=\u001b[0m \u001b[1;33m(\u001b[0m\u001b[1;36m1\u001b[0m\u001b[1;33m,\u001b[0m\u001b[1;36m2\u001b[0m\u001b[1;33m,\u001b[0m\u001b[1;36m3\u001b[0m\u001b[1;33m,\u001b[0m\u001b[1;36m4\u001b[0m\u001b[1;33m,\u001b[0m\u001b[1;36m5\u001b[0m\u001b[1;33m)\u001b[0m\u001b[1;33m\u001b[0m\u001b[0m\n\u001b[1;32m----> 2\u001b[1;33m \u001b[0mtpl\u001b[0m\u001b[1;33m[\u001b[0m\u001b[1;36m2\u001b[0m\u001b[1;33m]\u001b[0m \u001b[1;33m=\u001b[0m \u001b[1;36m6\u001b[0m \u001b[1;31m# attempt to change the third element to 6\u001b[0m\u001b[1;33m\u001b[0m\u001b[0m\n\u001b[0m",
      "\u001b[1;31mTypeError\u001b[0m: 'tuple' object does not support item assignment"
     ]
    }
   ],
   "source": [
    "tpl= (1,2,3,4,5)\n",
    "tpl[2] = 6 # attempt to change the third element to 6"
   ]
  },
  {
   "cell_type": "markdown",
   "metadata": {
    "colab_type": "text",
    "id": "ikuyJLfdqaCN"
   },
   "source": [
    "## 2. Tuple Operators and Functions\n",
    "\n",
    "+ Operators on tuples work in the same way as on lists\n"
   ]
  },
  {
   "cell_type": "markdown",
   "metadata": {
    "colab_type": "text",
    "id": "-C_Pxk-1rjss"
   },
   "source": [
    "# \\[3. Set \\]\n",
    "\n",
    "A **`set`** is one of the Python data structure that contains an unordered collection of unique values. As a collection of unique values, a set does not accept any duplicates. "
   ]
  },
  {
   "cell_type": "markdown",
   "metadata": {
    "colab_type": "text",
    "id": "4zvkNV4FsVkH"
   },
   "source": [
    "## Characteristics and operations\n",
    "\n",
    "+ A set is used as a means of avoiding data redundancy as it does not allow duplicates. <br> \n",
    "\n",
    "+ Being an unordered collection of unique values, set elements are unindexed and unable to be accessed in the way we access list or tuple elements."
   ]
  },
  {
   "cell_type": "markdown",
   "metadata": {
    "colab_type": "text",
    "id": "3fO0qx23rjss"
   },
   "source": [
    "### (1) Creating a set\n",
    "\n",
    "A set is created by wrapping comma-separated unique values with curly brackets **`{ }`** or by the set notation `set()`. Sets accept values of or in any data type or structure except for Python list."
   ]
  },
  {
   "cell_type": "code",
   "execution_count": 36,
   "metadata": {
    "colab": {},
    "colab_type": "code",
    "id": "8LnegsKzrjsu",
    "outputId": "f80c2f44-b7a4-45d4-97cf-7e7738506038"
   },
   "outputs": [
    {
     "data": {
      "text/plain": [
       "set()"
      ]
     },
     "execution_count": 36,
     "metadata": {},
     "output_type": "execute_result"
    }
   ],
   "source": [
    "set0 = set() # creating an empty set\n",
    "set0"
   ]
  },
  {
   "cell_type": "code",
   "execution_count": 37,
   "metadata": {
    "colab": {},
    "colab_type": "code",
    "id": "-yPx_ykMrjs2",
    "outputId": "8af04021-6716-4f62-80c6-c22e975722e0"
   },
   "outputs": [
    {
     "data": {
      "text/plain": [
       "{1, 2, '2', 3, 'text'}"
      ]
     },
     "execution_count": 37,
     "metadata": {},
     "output_type": "execute_result"
    }
   ],
   "source": [
    "set1 = {1,1,2,\"2\",\"text\",\"text\",3} # creating a set for unique integers and strings\n",
    "set1"
   ]
  },
  {
   "cell_type": "code",
   "execution_count": 38,
   "metadata": {
    "colab": {},
    "colab_type": "code",
    "id": "xf5FnEu3rjs6",
    "outputId": "e552bb5e-fe87-4e65-bcdf-f619b4376514"
   },
   "outputs": [
    {
     "ename": "TypeError",
     "evalue": "unhashable type: 'list'",
     "output_type": "error",
     "traceback": [
      "\u001b[1;31m---------------------------------------------------------------------------\u001b[0m",
      "\u001b[1;31mTypeError\u001b[0m                                 Traceback (most recent call last)",
      "\u001b[1;32m<ipython-input-38-e3a9df630187>\u001b[0m in \u001b[0;36m<module>\u001b[1;34m()\u001b[0m\n\u001b[1;32m----> 1\u001b[1;33m \u001b[0mset2\u001b[0m \u001b[1;33m=\u001b[0m \u001b[1;33m{\u001b[0m\u001b[1;36m1\u001b[0m\u001b[1;33m,\u001b[0m\u001b[1;36m2\u001b[0m\u001b[1;33m,\u001b[0m\u001b[1;33m[\u001b[0m\u001b[1;36m1\u001b[0m\u001b[1;33m,\u001b[0m\u001b[1;36m2\u001b[0m\u001b[1;33m,\u001b[0m\u001b[1;36m3\u001b[0m\u001b[1;33m]\u001b[0m\u001b[1;33m}\u001b[0m \u001b[1;31m# a set does not accept a list in it.\u001b[0m\u001b[1;33m\u001b[0m\u001b[0m\n\u001b[0m",
      "\u001b[1;31mTypeError\u001b[0m: unhashable type: 'list'"
     ]
    }
   ],
   "source": [
    "set2 = {1,2,[1,2,3]} # a set does not accept a list in it."
   ]
  },
  {
   "cell_type": "code",
   "execution_count": 39,
   "metadata": {
    "colab": {},
    "colab_type": "code",
    "id": "9Q8VZsnyrjs8"
   },
   "outputs": [
    {
     "data": {
      "text/plain": [
       "{(1, 2, 3), 1, 2}"
      ]
     },
     "execution_count": 39,
     "metadata": {},
     "output_type": "execute_result"
    }
   ],
   "source": [
    "set2 = {1,2,(1,2,3)} # the order of tuple elements is different from the order in which they were entered \n",
    "set2"
   ]
  },
  {
   "cell_type": "markdown",
   "metadata": {
    "colab_type": "text",
    "id": "nSTDk8oLrjs-"
   },
   "source": [
    "### (2) Accessing set elements\n",
    "Set elements are unindexed, and the conventional indexing syntax is not supported on sets. Instead, you can check whether a specific value exists in a set using `in` operator."
   ]
  },
  {
   "cell_type": "code",
   "execution_count": 40,
   "metadata": {
    "colab": {},
    "colab_type": "code",
    "id": "cXTBAflzrjs_",
    "outputId": "2138e79b-6b72-445d-bb47-e37eb71a2668",
    "scrolled": true
   },
   "outputs": [
    {
     "ename": "TypeError",
     "evalue": "'set' object does not support indexing",
     "output_type": "error",
     "traceback": [
      "\u001b[1;31m---------------------------------------------------------------------------\u001b[0m",
      "\u001b[1;31mTypeError\u001b[0m                                 Traceback (most recent call last)",
      "\u001b[1;32m<ipython-input-40-16f053df1b94>\u001b[0m in \u001b[0;36m<module>\u001b[1;34m()\u001b[0m\n\u001b[0;32m      1\u001b[0m \u001b[0mset1\u001b[0m \u001b[1;33m=\u001b[0m \u001b[1;33m{\u001b[0m\u001b[1;36m1\u001b[0m\u001b[1;33m,\u001b[0m\u001b[1;36m1\u001b[0m\u001b[1;33m,\u001b[0m\u001b[1;36m2\u001b[0m\u001b[1;33m,\u001b[0m\u001b[1;34m\"2\"\u001b[0m\u001b[1;33m,\u001b[0m\u001b[1;34m\"text\"\u001b[0m\u001b[1;33m,\u001b[0m\u001b[1;34m\"text\"\u001b[0m\u001b[1;33m,\u001b[0m\u001b[1;36m3\u001b[0m\u001b[1;33m}\u001b[0m\u001b[1;33m\u001b[0m\u001b[0m\n\u001b[1;32m----> 2\u001b[1;33m \u001b[0mset1\u001b[0m\u001b[1;33m[\u001b[0m\u001b[1;36m0\u001b[0m\u001b[1;33m]\u001b[0m \u001b[1;31m# set indexing - not supported!\u001b[0m\u001b[1;33m\u001b[0m\u001b[0m\n\u001b[0m",
      "\u001b[1;31mTypeError\u001b[0m: 'set' object does not support indexing"
     ]
    }
   ],
   "source": [
    "set1 = {1,1,2,\"2\",\"text\",\"text\",3} \n",
    "set1[0] # set indexing - not supported!"
   ]
  },
  {
   "cell_type": "code",
   "execution_count": 41,
   "metadata": {
    "colab": {},
    "colab_type": "code",
    "id": "8p_Eh9Hxrjsz",
    "outputId": "5def5138-34ac-4213-a2a7-a3a9e87723e9"
   },
   "outputs": [
    {
     "name": "stdout",
     "output_type": "stream",
     "text": [
      "6 in set1? False\n",
      "1 in set1? True\n"
     ]
    }
   ],
   "source": [
    "set1 = {1,2,3,4,5} # checking the existence of a specific value\n",
    "print('6 in set1?', 6 in set1)\n",
    "print('1 in set1?', 1 in set1)"
   ]
  },
  {
   "cell_type": "markdown",
   "metadata": {
    "colab_type": "text",
    "id": "Ocrq_mXLrjtD"
   },
   "source": [
    "### (3) Adding new elements to a set\n",
    "\n",
    "You can add new elements using `add()` or `update()` depending on the number of elements to be added"
   ]
  },
  {
   "cell_type": "code",
   "execution_count": 42,
   "metadata": {
    "colab": {},
    "colab_type": "code",
    "id": "N6ypY1F7rjtD"
   },
   "outputs": [],
   "source": [
    "set1 = {1,2,3,4,5}"
   ]
  },
  {
   "cell_type": "code",
   "execution_count": 43,
   "metadata": {
    "colab": {},
    "colab_type": "code",
    "id": "dCSaYNCCrjtG",
    "outputId": "ec165b29-1b0c-47d6-ac57-d19d27500e90"
   },
   "outputs": [
    {
     "data": {
      "text/plain": [
       "{1, 2, 3, 4, 5, 6}"
      ]
     },
     "execution_count": 43,
     "metadata": {},
     "output_type": "execute_result"
    }
   ],
   "source": [
    "set1.add(6) # adding a single element to an existing set\n",
    "set1"
   ]
  },
  {
   "cell_type": "code",
   "execution_count": 44,
   "metadata": {
    "colab": {},
    "colab_type": "code",
    "id": "ulMSGt7OrjtJ",
    "outputId": "caca8868-9c08-4a2d-9c4e-be39a4382043"
   },
   "outputs": [
    {
     "data": {
      "text/plain": [
       "{1, 2, 3, 4, 5, 6, 7, 8, 9}"
      ]
     },
     "execution_count": 44,
     "metadata": {},
     "output_type": "execute_result"
    }
   ],
   "source": [
    "set1.update({7,8,9}) # adding two or more elements to an existing set\n",
    "set1"
   ]
  },
  {
   "cell_type": "markdown",
   "metadata": {
    "colab_type": "text",
    "id": "kvRNvCOXrjtL"
   },
   "source": [
    "### (4) Removing elements from a set\n",
    "You can remove set elements using `remove()`"
   ]
  },
  {
   "cell_type": "code",
   "execution_count": 45,
   "metadata": {
    "colab": {},
    "colab_type": "code",
    "id": "FdEZSiLLrjtM"
   },
   "outputs": [],
   "source": [
    "set1 = {1,2,3,4,5}"
   ]
  },
  {
   "cell_type": "code",
   "execution_count": 46,
   "metadata": {
    "colab": {},
    "colab_type": "code",
    "id": "jzWceUxirjtO",
    "outputId": "ebfff0c7-9f01-4856-8f0f-407974f5b6d4"
   },
   "outputs": [
    {
     "data": {
      "text/plain": [
       "{1, 2, 3, 5}"
      ]
     },
     "execution_count": 46,
     "metadata": {},
     "output_type": "execute_result"
    }
   ],
   "source": [
    "set1.remove(4) # removing 4 from set1\n",
    "set1"
   ]
  },
  {
   "cell_type": "code",
   "execution_count": 47,
   "metadata": {},
   "outputs": [
    {
     "ename": "KeyError",
     "evalue": "6",
     "output_type": "error",
     "traceback": [
      "\u001b[1;31m---------------------------------------------------------------------------\u001b[0m",
      "\u001b[1;31mKeyError\u001b[0m                                  Traceback (most recent call last)",
      "\u001b[1;32m<ipython-input-47-04545998e99f>\u001b[0m in \u001b[0;36m<module>\u001b[1;34m()\u001b[0m\n\u001b[1;32m----> 1\u001b[1;33m \u001b[0mset1\u001b[0m\u001b[1;33m.\u001b[0m\u001b[0mremove\u001b[0m\u001b[1;33m(\u001b[0m\u001b[1;36m6\u001b[0m\u001b[1;33m)\u001b[0m \u001b[1;31m# returns an error unless the value `6` is not in set1\u001b[0m\u001b[1;33m\u001b[0m\u001b[0m\n\u001b[0m\u001b[0;32m      2\u001b[0m \u001b[0mset1\u001b[0m\u001b[1;33m\u001b[0m\u001b[0m\n",
      "\u001b[1;31mKeyError\u001b[0m: 6"
     ]
    }
   ],
   "source": [
    "set1.remove(6) # returns an error unless the value `6` is not in set1\n",
    "set1"
   ]
  },
  {
   "cell_type": "markdown",
   "metadata": {
    "colab_type": "text",
    "id": "BgGx8MUFrjtf"
   },
   "source": [
    "## 2. Set Operations and Functions\n",
    "\n",
    "\n",
    "+ A set, as the name suggests, support following set operations.\n",
    "\n",
    "| Operation | Description |\n",
    "| --- | --- |\n",
    "|  $&$    | Intersection - elements that exist in both set |\n",
    "|  $|$   | Union - elements from both sets excluding duplicates |\n",
    "|  $A-B$ | Difference - elements in A that are not in B |\n",
    "|  $^$   | symmetric difference - elements in either A or B, but not in their intersection|"
   ]
  },
  {
   "cell_type": "code",
   "execution_count": 48,
   "metadata": {
    "id": "OXj-nwx1rjth"
   },
   "outputs": [],
   "source": [
    "A = {1,2,3,5}\n",
    "B = {3,5,6,8,9}"
   ]
  },
  {
   "cell_type": "markdown",
   "metadata": {
    "id": "VLBp7J_qrjtl"
   },
   "source": [
    "### (1) Intersection\n",
    "- returns a set of unique values that are in set A **and** set B\n",
    " \n"
   ]
  },
  {
   "cell_type": "code",
   "execution_count": 49,
   "metadata": {
    "colab": {
     "base_uri": "https://localhost:8080/",
     "height": 34
    },
    "executionInfo": {
     "elapsed": 1099,
     "status": "ok",
     "timestamp": 1602829269410,
     "user": {
      "displayName": "Minseo Kim",
      "photoUrl": "",
      "userId": "13585292405465288254"
     },
     "user_tz": -540
    },
    "id": "aDn4E_uhrjtn",
    "outputId": "5dacee45-eab6-4b03-f07b-5c9c46c42e1e"
   },
   "outputs": [
    {
     "data": {
      "text/plain": [
       "{3, 5}"
      ]
     },
     "execution_count": 49,
     "metadata": {},
     "output_type": "execute_result"
    }
   ],
   "source": [
    "A & B"
   ]
  },
  {
   "cell_type": "markdown",
   "metadata": {
    "id": "VOlsJMK7rjtq"
   },
   "source": [
    "### (2) Union\n",
    "- returns a set of unique values that are either in set A **or** set B, including the intersection"
   ]
  },
  {
   "cell_type": "code",
   "execution_count": 50,
   "metadata": {
    "colab": {
     "base_uri": "https://localhost:8080/",
     "height": 34
    },
    "executionInfo": {
     "elapsed": 1123,
     "status": "ok",
     "timestamp": 1602829321311,
     "user": {
      "displayName": "Minseo Kim",
      "photoUrl": "",
      "userId": "13585292405465288254"
     },
     "user_tz": -540
    },
    "id": "ddiZtJnzrjts",
    "outputId": "ad4181c0-8c74-4b1a-8e0f-332694a9400b"
   },
   "outputs": [
    {
     "data": {
      "text/plain": [
       "{1, 2, 3, 5, 6, 8, 9}"
      ]
     },
     "execution_count": 50,
     "metadata": {},
     "output_type": "execute_result"
    }
   ],
   "source": [
    "A | B"
   ]
  },
  {
   "cell_type": "markdown",
   "metadata": {
    "id": "KctDKtHfrjtt"
   },
   "source": [
    "### (3) Difference\n",
    "- returns a set of unique values that are in set A but not in set B"
   ]
  },
  {
   "cell_type": "code",
   "execution_count": 51,
   "metadata": {
    "colab": {
     "base_uri": "https://localhost:8080/",
     "height": 34
    },
    "executionInfo": {
     "elapsed": 1027,
     "status": "ok",
     "timestamp": 1602829491216,
     "user": {
      "displayName": "Minseo Kim",
      "photoUrl": "",
      "userId": "13585292405465288254"
     },
     "user_tz": -540
    },
    "id": "fJ4rl-EQrjtv",
    "outputId": "58b5acc4-54e8-4fb9-d9cc-653ea7e1018e"
   },
   "outputs": [
    {
     "data": {
      "text/plain": [
       "{1, 2}"
      ]
     },
     "execution_count": 51,
     "metadata": {},
     "output_type": "execute_result"
    }
   ],
   "source": [
    "A - B"
   ]
  },
  {
   "cell_type": "markdown",
   "metadata": {
    "id": "qCZ4ygxErjty"
   },
   "source": [
    "### (4) Symmetric difference\n",
    "- returns a set of unique values that are in either of set A or set B, excluding intersection"
   ]
  },
  {
   "cell_type": "code",
   "execution_count": 52,
   "metadata": {
    "colab": {
     "base_uri": "https://localhost:8080/",
     "height": 34
    },
    "executionInfo": {
     "elapsed": 959,
     "status": "ok",
     "timestamp": 1602830108934,
     "user": {
      "displayName": "Minseo Kim",
      "photoUrl": "",
      "userId": "13585292405465288254"
     },
     "user_tz": -540
    },
    "id": "sFHlfS4Wrjtz",
    "outputId": "44bd7320-4886-4e2e-86a9-4cffc06d5cbc"
   },
   "outputs": [
    {
     "data": {
      "text/plain": [
       "{1, 2, 6, 8, 9}"
      ]
     },
     "execution_count": 52,
     "metadata": {},
     "output_type": "execute_result"
    }
   ],
   "source": [
    "A ^ B"
   ]
  },
  {
   "cell_type": "code",
   "execution_count": 53,
   "metadata": {
    "colab": {
     "base_uri": "https://localhost:8080/",
     "height": 34
    },
    "executionInfo": {
     "elapsed": 962,
     "status": "ok",
     "timestamp": 1602830109682,
     "user": {
      "displayName": "Minseo Kim",
      "photoUrl": "",
      "userId": "13585292405465288254"
     },
     "user_tz": -540
    },
    "id": "R8hLsgUTrjur",
    "outputId": "d02ad859-ce70-4d04-e344-9651e2c64fbf"
   },
   "outputs": [
    {
     "data": {
      "text/plain": [
       "5"
      ]
     },
     "execution_count": 53,
     "metadata": {},
     "output_type": "execute_result"
    }
   ],
   "source": [
    "set1 = {1,2,3,4,5}\n",
    "len(set1)"
   ]
  },
  {
   "cell_type": "markdown",
   "metadata": {},
   "source": [
    "### (5) Finding the length of a set - `len()`\n",
    "\n",
    "**`len()`** returns the number of elements in a set."
   ]
  },
  {
   "cell_type": "code",
   "execution_count": 54,
   "metadata": {
    "colab": {},
    "colab_type": "code",
    "id": "R8hLsgUTrjur",
    "outputId": "0f79441e-85b5-470d-d913-706342f77feb"
   },
   "outputs": [
    {
     "data": {
      "text/plain": [
       "5"
      ]
     },
     "execution_count": 54,
     "metadata": {},
     "output_type": "execute_result"
    }
   ],
   "source": [
    "set1 = {1,2,3,4,5}\n",
    "len(set1)"
   ]
  },
  {
   "cell_type": "markdown",
   "metadata": {},
   "source": [
    "### (6) Sorting set elements - **`sorted()`**\n",
    "\n",
    "Despite a set is an unordered and unindexed collection of unique values, set elements can be sorted using **`sorted()`**, which then returns a sorted list of the given set in a specific order."
   ]
  },
  {
   "cell_type": "code",
   "execution_count": 55,
   "metadata": {
    "colab": {},
    "colab_type": "code",
    "id": "Gj7vf3Xfrjuy",
    "outputId": "8071efdd-a6ea-4d7b-9749-6665d1c725fe"
   },
   "outputs": [
    {
     "data": {
      "text/plain": [
       "[1, 2, 3, 4, 5]"
      ]
     },
     "execution_count": 55,
     "metadata": {},
     "output_type": "execute_result"
    }
   ],
   "source": [
    "set1 = {1,2,3,4,5}\n",
    "sorted(set1) "
   ]
  },
  {
   "cell_type": "markdown",
   "metadata": {
    "colab_type": "text",
    "id": "vwbbtYVhrjt1"
   },
   "source": [
    "# \\[4. Dictionary\\]\n",
    "Dictionary(abbr. Dict) is one of the Python data structures that stores **key/value** pairs\n"
   ]
  },
  {
   "cell_type": "markdown",
   "metadata": {
    "colab_type": "text",
    "id": "YBtyyIHts96x"
   },
   "source": [
    "## 1. Creating a Dictionary\n",
    "\n",
    "+ A dictionary is created with **`{'key':'value'}`** or **`dict()`**.\n",
    "\n",
    "+ A dictionary is an unordered collection of key-value pairs. A dictionary key functions as an identifier of the associated value, and a dictionary value can be searched by its key.\n",
    "\n",
    "+ A dictionary can store data of any type. \n",
    "\n",
    "+ A dictionary does not accept duplicates for its keys\n",
    "\n",
    "+ Keys in a dictionary can be of **any data type**.\n",
    "\n"
   ]
  },
  {
   "cell_type": "markdown",
   "metadata": {
    "colab_type": "text",
    "id": "LdrsWe3Trjt3"
   },
   "source": [
    "### (1) Creating a dictionary\n",
    "\n",
    "A dictionary consists of **key**/**value** pairs and can be created by `{'key': 'value'}` or `dict({'key': 'value})`."
   ]
  },
  {
   "cell_type": "code",
   "execution_count": 56,
   "metadata": {
    "colab": {},
    "colab_type": "code",
    "id": "OqPMKt2Frjt4",
    "outputId": "ea091847-6dfb-4abc-a974-1699d8581131",
    "scrolled": true
   },
   "outputs": [
    {
     "data": {
      "text/plain": [
       "{}"
      ]
     },
     "execution_count": 56,
     "metadata": {},
     "output_type": "execute_result"
    }
   ],
   "source": [
    "dict0 = {} # creating an empty dictionary\n",
    "dict0 = dict()\n",
    "dict0"
   ]
  },
  {
   "cell_type": "code",
   "execution_count": 57,
   "metadata": {},
   "outputs": [
    {
     "data": {
      "text/plain": [
       "{'1': 2}"
      ]
     },
     "execution_count": 57,
     "metadata": {},
     "output_type": "execute_result"
    }
   ],
   "source": [
    "dict1 = dict({\"1\": 2})\n",
    "dict1"
   ]
  },
  {
   "cell_type": "code",
   "execution_count": 58,
   "metadata": {
    "colab": {},
    "colab_type": "code",
    "id": "EQ0Uw8tUrjt6",
    "outputId": "5c5e5a9d-17d8-49b6-e534-e050fc669d20"
   },
   "outputs": [
    {
     "data": {
      "text/plain": [
       "{'1': 'a', '2': 'b', '3': 1, 'c': 'test'}"
      ]
     },
     "execution_count": 58,
     "metadata": {},
     "output_type": "execute_result"
    }
   ],
   "source": [
    "dict1 = {'1':'a', \n",
    "        '2':'b',\n",
    "        '3':1,\n",
    "        'c':'test'} # creating a dictionary of four key/value pairs\n",
    "dict1"
   ]
  },
  {
   "cell_type": "code",
   "execution_count": 59,
   "metadata": {
    "colab": {},
    "colab_type": "code",
    "id": "xTf6d5qJrjt9",
    "outputId": "2385eb68-e887-4576-efbd-7cda78cce4e8"
   },
   "outputs": [
    {
     "data": {
      "text/plain": [
       "{'1': 'a', '2': [1, 2, 3, 4], '3': (1, 2, 3), 'c': {1: '1', 2: '2'}}"
      ]
     },
     "execution_count": 59,
     "metadata": {},
     "output_type": "execute_result"
    }
   ],
   "source": [
    "dict1 = {'1':'a', \n",
    "        '2':[1,2,3,4],\n",
    "        '3':(1,2,3),\n",
    "        'c':{1:'1',2:'2'}} # a dictionary accepts other data structures such as lists, tuples, dictionaries, etc.\n",
    "dict1"
   ]
  },
  {
   "cell_type": "markdown",
   "metadata": {
    "colab_type": "text",
    "id": "-z70LSQrrjuD"
   },
   "source": [
    "### (2) Dictionary Indexing\n",
    " \n",
    "Values in a dictionary are associated with key values instead of index and can be accessed by its key."
   ]
  },
  {
   "cell_type": "code",
   "execution_count": 60,
   "metadata": {
    "colab": {},
    "colab_type": "code",
    "id": "G5iA8FW7rjuD"
   },
   "outputs": [],
   "source": [
    "dict1 = {\"1\":\"a\",\n",
    "         \"2\":\"b\",\n",
    "         \"3\": 4}"
   ]
  },
  {
   "cell_type": "code",
   "execution_count": 61,
   "metadata": {
    "colab": {},
    "colab_type": "code",
    "id": "Tb1EjM8urjuF",
    "outputId": "1855f6bf-1199-4f4d-c246-9a8a55d8b320"
   },
   "outputs": [
    {
     "data": {
      "text/plain": [
       "'a'"
      ]
     },
     "execution_count": 61,
     "metadata": {},
     "output_type": "execute_result"
    }
   ],
   "source": [
    "dict1['1'] # searching for a value of the key \"1\""
   ]
  },
  {
   "cell_type": "code",
   "execution_count": 62,
   "metadata": {
    "colab": {},
    "colab_type": "code",
    "id": "64Ot5SN6rjuH",
    "outputId": "b8b731b3-b33d-4ad7-af77-9384b1a9bbb6",
    "scrolled": true
   },
   "outputs": [
    {
     "ename": "KeyError",
     "evalue": "3",
     "output_type": "error",
     "traceback": [
      "\u001b[1;31m---------------------------------------------------------------------------\u001b[0m",
      "\u001b[1;31mKeyError\u001b[0m                                  Traceback (most recent call last)",
      "\u001b[1;32m<ipython-input-62-dbc08283848c>\u001b[0m in \u001b[0;36m<module>\u001b[1;34m()\u001b[0m\n\u001b[1;32m----> 1\u001b[1;33m \u001b[0mdict1\u001b[0m\u001b[1;33m[\u001b[0m\u001b[1;36m3\u001b[0m\u001b[1;33m]\u001b[0m \u001b[1;31m# the keys are strings while the argument is a number\u001b[0m\u001b[1;33m\u001b[0m\u001b[0m\n\u001b[0m",
      "\u001b[1;31mKeyError\u001b[0m: 3"
     ]
    }
   ],
   "source": [
    "dict1[3] # the keys are strings while the argument is a number"
   ]
  },
  {
   "cell_type": "markdown",
   "metadata": {},
   "source": [
    "Using `in`, you can check whether or not the given key value exists in the dictionary."
   ]
  },
  {
   "cell_type": "code",
   "execution_count": 63,
   "metadata": {
    "colab": {},
    "colab_type": "code",
    "id": "lsYVTS-rrjuK",
    "outputId": "688d084a-bdb5-42cd-b12e-a4051bfda2d1"
   },
   "outputs": [
    {
     "data": {
      "text/plain": [
       "True"
      ]
     },
     "execution_count": 63,
     "metadata": {},
     "output_type": "execute_result"
    }
   ],
   "source": [
    "\"1\" in dict1"
   ]
  },
  {
   "cell_type": "code",
   "execution_count": 64,
   "metadata": {
    "colab": {},
    "colab_type": "code",
    "id": "SY4SAKcjrjuN",
    "outputId": "273041d4-fe5d-4058-90c4-4142f934b00a"
   },
   "outputs": [
    {
     "data": {
      "text/plain": [
       "False"
      ]
     },
     "execution_count": 64,
     "metadata": {},
     "output_type": "execute_result"
    }
   ],
   "source": [
    "3 in dict1 "
   ]
  },
  {
   "cell_type": "markdown",
   "metadata": {},
   "source": [
    "If there is a list of values in the dictionary, the element at a specific position in the list can be accessed by index."
   ]
  },
  {
   "cell_type": "code",
   "execution_count": 65,
   "metadata": {
    "colab": {},
    "colab_type": "code",
    "id": "UBLfcxrArjuB",
    "outputId": "531f023b-5acc-4371-8818-6642e4419d0a"
   },
   "outputs": [
    {
     "data": {
      "text/plain": [
       "1"
      ]
     },
     "execution_count": 65,
     "metadata": {},
     "output_type": "execute_result"
    }
   ],
   "source": [
    "dict1 = {'1':'a',\n",
    "        '2':[1,2,3,4],\n",
    "        '3':(1,2,3),\n",
    "        'c':{1:'1',2:'2'}}\n",
    "dict1['2'][0] # getting the value at index 0 from the list whose key value is '2' in dict1"
   ]
  },
  {
   "cell_type": "markdown",
   "metadata": {
    "colab_type": "text",
    "id": "sNK1rVz7rjuQ"
   },
   "source": [
    "### (3) Modification of a dictionary"
   ]
  },
  {
   "cell_type": "code",
   "execution_count": 66,
   "metadata": {
    "colab": {},
    "colab_type": "code",
    "id": "PUnEi2dLrjuR"
   },
   "outputs": [],
   "source": [
    "dict2 = {\"1\":\"a\",\"2\":\"b\",\"3\":\"4\"}"
   ]
  },
  {
   "cell_type": "code",
   "execution_count": 67,
   "metadata": {
    "colab": {},
    "colab_type": "code",
    "id": "6uoWdskYrjuS",
    "outputId": "13078601-4aba-49ae-85ac-54faaf82fea7"
   },
   "outputs": [
    {
     "data": {
      "text/plain": [
       "{'1': 'a', '2': 'b', '3': '4', '4': 'hello'}"
      ]
     },
     "execution_count": 67,
     "metadata": {},
     "output_type": "execute_result"
    }
   ],
   "source": [
    "dict2['4'] = 'hello' # adding a value \"hello\" of a key '4' in dict2\n",
    "dict2"
   ]
  },
  {
   "cell_type": "code",
   "execution_count": 68,
   "metadata": {
    "colab": {},
    "colab_type": "code",
    "id": "hBHb50AMrjuV",
    "outputId": "022ba3b8-03c9-4a2c-befd-7adb51e553cd"
   },
   "outputs": [
    {
     "data": {
      "text/plain": [
       "{'1': 10, '2': 'b', '3': '4', '4': 'hello'}"
      ]
     },
     "execution_count": 68,
     "metadata": {},
     "output_type": "execute_result"
    }
   ],
   "source": [
    "dict2['1'] = 10 # changing the value of the key '1' from 'a' to 10\n",
    "dict2"
   ]
  },
  {
   "cell_type": "markdown",
   "metadata": {
    "colab_type": "text",
    "id": "DG1zYzLdrjue"
   },
   "source": [
    "### (4) Removing dictionary elements\n",
    "\n",
    " You can delete the value in the Dictionary with `del`."
   ]
  },
  {
   "cell_type": "code",
   "execution_count": 69,
   "metadata": {
    "colab": {},
    "colab_type": "code",
    "id": "ivlhq3j3rjuf"
   },
   "outputs": [],
   "source": [
    "dict2 = {\"1\":\"a\",\"2\":\"b\",\"3\":\"4\"}"
   ]
  },
  {
   "cell_type": "code",
   "execution_count": 70,
   "metadata": {
    "colab": {},
    "colab_type": "code",
    "id": "J1RFPxXyrjui",
    "outputId": "1bede146-efa2-4828-95fe-9483480b9811"
   },
   "outputs": [
    {
     "data": {
      "text/plain": [
       "{'2': 'b', '3': '4'}"
      ]
     },
     "execution_count": 70,
     "metadata": {},
     "output_type": "execute_result"
    }
   ],
   "source": [
    "del dict2['1'] # using `del` to remove a key/value pair of the key value '1'\n",
    "dict2"
   ]
  },
  {
   "cell_type": "markdown",
   "metadata": {
    "colab_type": "text",
    "id": "7_WJAZ6WnL0d"
   },
   "source": [
    "\n",
    "## 2. Dictionary Operators and Functions\n",
    "\n",
    "+ Python dictionary objects do not support `+`, `*` and `zip()`.\n",
    "+ `len()` counts the number of dictionary key/value pairs(length), and `sorted()` sorts key values in a specific order."
   ]
  },
  {
   "cell_type": "markdown",
   "metadata": {
    "colab_type": "text",
    "id": "XjCjiuJYrjur"
   },
   "source": [
    "### (1) Checking the size with `len()`\n",
    "- `len()` returns how many **keys** are in a Dictionary."
   ]
  },
  {
   "cell_type": "code",
   "execution_count": 71,
   "metadata": {
    "colab": {},
    "colab_type": "code",
    "id": "Mr5V47xJrjut",
    "outputId": "c0debb69-7e05-46a8-aafb-a585deb3f58d"
   },
   "outputs": [
    {
     "data": {
      "text/plain": [
       "2"
      ]
     },
     "execution_count": 71,
     "metadata": {},
     "output_type": "execute_result"
    }
   ],
   "source": [
    "dict1 = {1:2,2:[3,4,5]}\n",
    "len(dict1)"
   ]
  },
  {
   "cell_type": "markdown",
   "metadata": {
    "colab_type": "text",
    "id": "Gk-kc-whrjuy"
   },
   "source": [
    "### (2) sorting with `sorted()`\n",
    "\n",
    "- `sorted()` sorts dictionary **keys** only, returning a list for the sorted keys value."
   ]
  },
  {
   "cell_type": "code",
   "execution_count": 72,
   "metadata": {
    "colab": {},
    "colab_type": "code",
    "id": "EtZ9reMVrju3",
    "outputId": "6b85b7c0-18d5-4186-9a01-8a220a37a184"
   },
   "outputs": [
    {
     "data": {
      "text/plain": [
       "[2, 1]"
      ]
     },
     "execution_count": 72,
     "metadata": {},
     "output_type": "execute_result"
    }
   ],
   "source": [
    "dict1 = {1:2,2:[3,4,5]}\n",
    "sorted(dict1,reverse=True)"
   ]
  }
 ],
 "metadata": {
  "colab": {
   "collapsed_sections": [
    "cfL3qccYjh-6",
    "bqGuQhskjh_L",
    "Cv92CuJwjh_t",
    "9d1n-Bhfjh_5",
    "C7RSOSW7jiAF",
    "sFcHvi_wjiAS",
    "JgVOLR6FjiAW",
    "O2TjhcJXjiAa",
    "MCMFFUZ7jiAe",
    "qq0MrpV2jiAs",
    "jQdrBJ9kjiBN",
    "lMXUQ3scjiBV",
    "ZdrjqjhajiBZ",
    "9K-Vzw7NjiBd",
    "MxdmKAgajiBh"
   ],
   "name": "3_Python의 자료구조(1) List와 Tuple.ipynb",
   "provenance": [],
   "toc_visible": true,
   "version": "0.3.2"
  },
  "kernelspec": {
   "display_name": "Python 3",
   "language": "python",
   "name": "python3"
  },
  "language_info": {
   "codemirror_mode": {
    "name": "ipython",
    "version": 3
   },
   "file_extension": ".py",
   "mimetype": "text/x-python",
   "name": "python",
   "nbconvert_exporter": "python",
   "pygments_lexer": "ipython3",
   "version": "3.7.0"
  },
  "toc": {
   "base_numbering": 1,
   "nav_menu": {},
   "number_sections": false,
   "sideBar": true,
   "skip_h1_title": false,
   "title_cell": "Table of Contents",
   "title_sidebar": "Contents",
   "toc_cell": false,
   "toc_position": {
    "height": "calc(100% - 180px)",
    "left": "10px",
    "top": "150px",
    "width": "311.306px"
   },
   "toc_section_display": true,
   "toc_window_display": true
  },
  "varInspector": {
   "cols": {
    "lenName": 16,
    "lenType": 16,
    "lenVar": 40
   },
   "kernels_config": {
    "python": {
     "delete_cmd_postfix": "",
     "delete_cmd_prefix": "del ",
     "library": "var_list.py",
     "varRefreshCmd": "print(var_dic_list())"
    },
    "r": {
     "delete_cmd_postfix": ") ",
     "delete_cmd_prefix": "rm(",
     "library": "var_list.r",
     "varRefreshCmd": "cat(var_dic_list()) "
    }
   },
   "types_to_exclude": [
    "module",
    "function",
    "builtin_function_or_method",
    "instance",
    "_Feature"
   ],
   "window_display": false
  }
 },
 "nbformat": 4,
 "nbformat_minor": 2
}
