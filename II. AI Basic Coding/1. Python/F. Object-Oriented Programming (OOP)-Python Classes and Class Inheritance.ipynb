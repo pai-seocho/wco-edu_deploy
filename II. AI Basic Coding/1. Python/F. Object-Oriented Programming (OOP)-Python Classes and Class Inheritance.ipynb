{
 "cells": [
  {
   "cell_type": "markdown",
   "metadata": {},
   "source": [
    "# F. Object-Oriented Programming (OOP) - Python Classes and Class Inheritance \n",
    "\n",
    "A class is a code template for creating objects. In python, a class is defined by the `class` keyword at the beginning, and an object consists of member variables and behaves associated with those variables. This may sound vague. So, in this section, we will take a look at the definition, characteristics of Python classes, objects and then class inheritance."
   ]
  },
  {
   "cell_type": "markdown",
   "metadata": {},
   "source": [
    "### _Objective_\n",
    "1. **Class**: Understanding the definition and characteristics of classes, instances and the other  OOP tools in Python.\n",
    "2. **Class Inheritance**: Understanding how to use class inheritance to write a code in a more efficient manner"
   ]
  },
  {
   "cell_type": "markdown",
   "metadata": {},
   "source": [
    "# \\[1. Class and Instances\\]\n",
    "\n",
    "A class is a code template for creating objects and consists of `attributes` and `methods`. An attribute in a class works similarly to a Python variable as a value holder, and a method works as a Python function as it performs a certain task.<br>\n",
    "Once a class is defined, you can create objects based on the functionality of the defined class, and that individual object of a certain class is called an instance.\n",
    "<br>\n",
    "Keep that in mind that attributes are like variables and methods are like functions."
   ]
  },
  {
   "cell_type": "markdown",
   "metadata": {},
   "source": [
    "## 1. Structure of Python Classes\n"
   ]
  },
  {
   "cell_type": "markdown",
   "metadata": {},
   "source": [
    "Let's create a Python class to see the structure."
   ]
  },
  {
   "cell_type": "markdown",
   "metadata": {},
   "source": [
    "### (1) Defining a class"
   ]
  },
  {
   "cell_type": "markdown",
   "metadata": {},
   "source": [
    "Defining a class starts with the `class` keyword. Then, it is followed by the class name and a colon (`:`). The colon creates a block for the class from the next line and there you can define the functionality of the class. Note that a class name conventionally starts with a capital letter.<br><br>\n",
    "To help better understanding, we'll create a class named `Wizard`."
   ]
  },
  {
   "cell_type": "code",
   "execution_count": 1,
   "metadata": {
    "collapsed": true
   },
   "outputs": [],
   "source": [
    "class Wizard:\n",
    "    pass"
   ]
  },
  {
   "cell_type": "markdown",
   "metadata": {},
   "source": [
    "`Wizard` is now created."
   ]
  },
  {
   "cell_type": "code",
   "execution_count": 2,
   "metadata": {
    "scrolled": true
   },
   "outputs": [
    {
     "data": {
      "text/plain": [
       "__main__.Wizard"
      ]
     },
     "execution_count": 2,
     "metadata": {},
     "output_type": "execute_result"
    }
   ],
   "source": [
    "Wizard"
   ]
  },
  {
   "cell_type": "markdown",
   "metadata": {},
   "source": [
    "### (2) Class attributes\n",
    "\n",
    "Class attributes are Python variables that belong to a class. they are defined outside the class constructor(which you will learn later in this lesson) and shared by all objects of that class.<br>\n",
    "Here, let's assume that there are some wizard practicing witchcraft with a magic wand. So let's add `Magic wand` to a class attribute `weapon` within the `Wizard` class."
   ]
  },
  {
   "cell_type": "code",
   "execution_count": 3,
   "metadata": {
    "collapsed": true
   },
   "outputs": [],
   "source": [
    "class Wizard:\n",
    "    weapon = \"Magic wand\""
   ]
  },
  {
   "cell_type": "markdown",
   "metadata": {},
   "source": [
    "When calling or accessing a class attribute, you have to prefix the class name to indicate you're accessing that certain class. The presence of a dot between the class name and the class attribute name denotes that you're accessing that certain attribute of the class.\n",
    "Let's call the `weapon` from the `Wizard` class."
   ]
  },
  {
   "cell_type": "code",
   "execution_count": 4,
   "metadata": {
    "scrolled": false
   },
   "outputs": [
    {
     "data": {
      "text/plain": [
       "'Magic wand'"
      ]
     },
     "execution_count": 4,
     "metadata": {},
     "output_type": "execute_result"
    }
   ],
   "source": [
    "Wizard.weapon # every instance of the `Wizard` class has a `Magic wand` as a weapon."
   ]
  },
  {
   "cell_type": "markdown",
   "metadata": {},
   "source": [
    "### (3) Instance attributes\n",
    "As mentioned above, an instance is an object created based on a certain class. \n",
    "An instance attribute refers to the unique variables of the instance that are, unlike class attributes, not shared with other instances.<br>\n",
    "Instance attributes can be defined **inside the 'constructor' method**, `__init__(self,..)`, of the certain class and accessed only in the scope of its instances. Since values for instance attributes are not shared between instances, each instance stores its own unique values for the same instance attributes.\n",
    "\n",
    "#### Constructor\n",
    "A **`Constructor`** is a special type of methods which is automatically called at the creation of each instance. <br>\n",
    "Every constructor takes `self` as the first parameter to implicitly refer to the instance itself. When you call an instance, you need not pass an argument to the `self` parameter. \n",
    "  "
   ]
  },
  {
   "cell_type": "code",
   "execution_count": 5,
   "metadata": {
    "collapsed": true
   },
   "outputs": [],
   "source": [
    "class Wizard:\n",
    "    weapon = \"Magic wand\"\n",
    "    \n",
    "    def __init__(self, name, sex, year): # constructor\n",
    "        self.name = name # instance attribute\n",
    "        self.sex = sex # instance attribute\n",
    "        self.year = year # instance attribute"
   ]
  },
  {
   "cell_type": "markdown",
   "metadata": {},
   "source": [
    "Now, we can store the name, sex, and birth year of every object that shares the `Wizard` class. "
   ]
  },
  {
   "cell_type": "code",
   "execution_count": 6,
   "metadata": {
    "collapsed": true
   },
   "outputs": [],
   "source": [
    "my_wizard = Wizard('magician1', 'male', '2020') # `self` takes the instance `is my_wizard `. The input arguments are passed to `name`, `sex`, and `year` respectively"
   ]
  },
  {
   "cell_type": "markdown",
   "metadata": {},
   "source": [
    "The instance attributes of `my_wizard` is as follows."
   ]
  },
  {
   "cell_type": "code",
   "execution_count": 7,
   "metadata": {
    "scrolled": false
   },
   "outputs": [
    {
     "name": "stdout",
     "output_type": "stream",
     "text": [
      "magician1\n",
      "male\n",
      "2020\n"
     ]
    }
   ],
   "source": [
    "print(my_wizard.name)\n",
    "print(my_wizard.sex)\n",
    "print(my_wizard.year)"
   ]
  },
  {
   "cell_type": "markdown",
   "metadata": {},
   "source": [
    "my_wizard contains information about magician, a male character created in 2020."
   ]
  },
  {
   "cell_type": "code",
   "execution_count": 8,
   "metadata": {
    "collapsed": true
   },
   "outputs": [],
   "source": [
    "my_wizard2 = Wizard('magician2', 'female', '2020')"
   ]
  },
  {
   "cell_type": "code",
   "execution_count": 9,
   "metadata": {
    "scrolled": false
   },
   "outputs": [
    {
     "name": "stdout",
     "output_type": "stream",
     "text": [
      "magician2\n",
      "female\n",
      "2020\n"
     ]
    }
   ],
   "source": [
    "print(my_wizard2.name)\n",
    "print(my_wizard2.sex)\n",
    "print(my_wizard2.year)"
   ]
  },
  {
   "cell_type": "markdown",
   "metadata": {},
   "source": [
    "my_wizard2 on magician 2 contains information. The magician 2 is a female character created in 2020. \n",
    "Both magician 1 and 2 use a magic wand as a weapon, and here, the magic wand is a class attribute of the `Wizard` class."
   ]
  },
  {
   "cell_type": "code",
   "execution_count": 10,
   "metadata": {},
   "outputs": [
    {
     "data": {
      "text/plain": [
       "'Magic wand'"
      ]
     },
     "execution_count": 10,
     "metadata": {},
     "output_type": "execute_result"
    }
   ],
   "source": [
    "my_wizard.weapon"
   ]
  },
  {
   "cell_type": "code",
   "execution_count": 11,
   "metadata": {
    "scrolled": true
   },
   "outputs": [
    {
     "data": {
      "text/plain": [
       "'Magic wand'"
      ]
     },
     "execution_count": 11,
     "metadata": {},
     "output_type": "execute_result"
    }
   ],
   "source": [
    "my_wizard2.weapon"
   ]
  },
  {
   "cell_type": "markdown",
   "metadata": {},
   "source": [
    "### (4) Class methods\n",
    "\n",
    "A **`Method`** is a `function` defined inside a class block and can only be used for instances that share that certain class. <br> \n",
    "Wizard is a class for objects with witchcraft, and its objects must have recovery skills for health and mana. <br>\n",
    "Let's create two class methods for each in `Wizard`."
   ]
  },
  {
   "cell_type": "code",
   "execution_count": 12,
   "metadata": {
    "collapsed": true
   },
   "outputs": [],
   "source": [
    "class Wizard:\n",
    "    weapon = \"Magic wand\"\n",
    "    def __init__(self, name, sex, date):\n",
    "        self.name = name\n",
    "        self.sex = sex\n",
    "        self.date = date\n",
    "        \n",
    "    @staticmethod #  @staticmethod to denote a class method that doesn't take a compulsory parameter\n",
    "    def health():\n",
    "        print(f\"{Wizard.weapon} can recover health\")\n",
    "        \n",
    "    @classmethod  #  @classmethod to denote a class method that takes compulsory parameters with `cls` as the first parameter.\n",
    "    def mana(cls):\n",
    "        print(f\"{cls.weapon} can recover mana\")"
   ]
  },
  {
   "cell_type": "code",
   "execution_count": 13,
   "metadata": {},
   "outputs": [
    {
     "name": "stdout",
     "output_type": "stream",
     "text": [
      "Magic wand can recover health\n"
     ]
    }
   ],
   "source": [
    "Wizard.health()"
   ]
  },
  {
   "cell_type": "code",
   "execution_count": 14,
   "metadata": {},
   "outputs": [
    {
     "name": "stdout",
     "output_type": "stream",
     "text": [
      "Magic wand can recover mana\n"
     ]
    }
   ],
   "source": [
    "Wizard.mana()"
   ]
  },
  {
   "cell_type": "markdown",
   "metadata": {},
   "source": [
    "As you can see from above, there are two types of methods in a class, a static method and a class method. The difference is `@classmethod` can access or modify  the class state while a static method can't."
   ]
  },
  {
   "cell_type": "markdown",
   "metadata": {},
   "source": [
    "### (5) Instance methods\n",
    "\n",
    "Instance methods are the methods that can only be used in instances of the class where the methods are defined.\n",
    "The characteristic of the instance depends on what kind of skills each magician learns.\n",
    "Let's grant magician1 a skill named `fire ball`.\n"
   ]
  },
  {
   "cell_type": "code",
   "execution_count": 15,
   "metadata": {
    "collapsed": true
   },
   "outputs": [],
   "source": [
    "class Wizard:\n",
    "    weapon = \"Magic wand\"\n",
    "    def __init__(self, name, sex, date):\n",
    "        self.name = name\n",
    "        self.sex = sex\n",
    "        self.date = date\n",
    "    @staticmethod\n",
    "    def health():\n",
    "        print(f\"{Wizard.weapon} can recover health\")\n",
    "    @classmethod \n",
    "    def mana(cls):\n",
    "        print(f\"{cls.weapon} can recover mana\")\n",
    "    \n",
    "    def fireball(self):\n",
    "        print(f\"{self.name} learned skill 'fire ball'\")"
   ]
  },
  {
   "cell_type": "code",
   "execution_count": 16,
   "metadata": {
    "collapsed": true
   },
   "outputs": [],
   "source": [
    "my_wizard = Wizard('magician1', 'male', '2020')"
   ]
  },
  {
   "cell_type": "code",
   "execution_count": 17,
   "metadata": {},
   "outputs": [
    {
     "name": "stdout",
     "output_type": "stream",
     "text": [
      "magician1 learned skill 'fire ball'\n"
     ]
    }
   ],
   "source": [
    "my_wizard.fireball()"
   ]
  },
  {
   "cell_type": "markdown",
   "metadata": {},
   "source": [
    "# \\[2. Class Inheritance\\]\n",
    "\n",
    "To avoid writing the same lines of code between classes again and again, you can use a feature of Python class called `class inheritance`. As the name indicates, it is a feature that enables a class to inherit from another class for code reusability and readability. The class being inherited from is called a parent class and the class that inherits from a parent class is a child class. A parent class shares its properties and functionalities with the child class."
   ]
  },
  {
   "cell_type": "markdown",
   "metadata": {},
   "source": [
    "## 1. Class Inheritance from a Parent Class\n",
    "\n",
    "+ Python classes use class inheritance to increase code reusability.\n",
    "+ Amongst many Python classes, the `object` class is the fundamental class in Python providing a lot of functionalities, and all classes in Python 3 inherit from `object`. "
   ]
  },
  {
   "cell_type": "markdown",
   "metadata": {},
   "source": [
    "### Example) Creating a class by game character\n",
    "\n",
    "We're creating classes each for knight, wizard and archer, and they contain exactly the same methods."
   ]
  },
  {
   "cell_type": "code",
   "execution_count": 18,
   "metadata": {
    "collapsed": true
   },
   "outputs": [],
   "source": [
    "# If not using class inheritance,\n",
    "class Knight:\n",
    "    def move(self): \n",
    "        print(\"You can move.\")\n",
    "        \n",
    "    def attack(self, food):\n",
    "        print(\"Attack the enemy.\")\n",
    "\n",
    "class Wizard:\n",
    "    def move(self): \n",
    "        print(\"You can move.\")\n",
    "        \n",
    "    def attack(self, food):\n",
    "        print(\"Attack the enemy.\")\n",
    "\n",
    "class Archer:\n",
    "    def move(self): \n",
    "        print(\"You can move.\")\n",
    "        \n",
    "    def attack(self, food):\n",
    "        print(\"Attack the enemy.\")"
   ]
  },
  {
   "cell_type": "markdown",
   "metadata": {},
   "source": [
    "In order to prevent duplicate code, we're going to define the repetitive methods in a new class named `Person` and make `Knight`, `Archer`, and `Wizard` inherit from `Person`."
   ]
  },
  {
   "cell_type": "code",
   "execution_count": 19,
   "metadata": {
    "collapsed": true
   },
   "outputs": [],
   "source": [
    "# Defining `the parent class `Person`\n",
    "class Person():\n",
    "    def move(self): \n",
    "        print(\"You can move.\")"
   ]
  },
  {
   "cell_type": "markdown",
   "metadata": {},
   "source": [
    "Once `Person` is defined, we're going to create child classes that will inherit from `Person`."
   ]
  },
  {
   "cell_type": "code",
   "execution_count": 20,
   "metadata": {
    "collapsed": true
   },
   "outputs": [],
   "source": [
    "# Class inheritance from `person`\n",
    "class Knight(Person):\n",
    "    def sword(self):\n",
    "        print(\"The sword is available.\")\n",
    "        \n",
    "class Wizard(Person):\n",
    "    def magic_wand(self):\n",
    "        print(\"The magic wand is available.\")\n",
    "    \n",
    "class Archer(Person):\n",
    "    def bow(self):\n",
    "        print(\"The bow is available.\")"
   ]
  },
  {
   "cell_type": "markdown",
   "metadata": {},
   "source": [
    "## 2. Inheriting Methods from the Parent Class\n",
    "\n",
    "+ A child class inherits the entire set of methods from the parent class.\n",
    "+ In case you define a method in a child class under the same name as a method name in the parent class, the method will perform the task defined in the child class, and it is called overriding. In a nutshell, overriding means replacing the implementation of a method defined in a parent class to the new one in the child class. "
   ]
  },
  {
   "cell_type": "markdown",
   "metadata": {},
   "source": [
    "### (1) Inheritance\n",
    "A child class that inherits from a parent class will receive the methods defined in the parent class.\n",
    "Let's create a new instance using `Knight` class."
   ]
  },
  {
   "cell_type": "code",
   "execution_count": 21,
   "metadata": {
    "collapsed": true
   },
   "outputs": [],
   "source": [
    "my_knight = Knight()"
   ]
  },
  {
   "cell_type": "code",
   "execution_count": 22,
   "metadata": {
    "scrolled": true
   },
   "outputs": [
    {
     "name": "stdout",
     "output_type": "stream",
     "text": [
      "You can move.\n"
     ]
    }
   ],
   "source": [
    "my_knight.move() "
   ]
  },
  {
   "cell_type": "markdown",
   "metadata": {},
   "source": [
    "You can see that the instance defined based on the child class inherits and uses `.move()` defined in the parent class `Person`."
   ]
  },
  {
   "cell_type": "markdown",
   "metadata": {},
   "source": [
    "### (2) Overriding\n",
    "\n",
    "When a method in a child class is defined under the same name as that in the parent class, that from the parent class will be overridden by the functionality of the new method in the child class."
   ]
  },
  {
   "cell_type": "code",
   "execution_count": 23,
   "metadata": {
    "collapsed": true
   },
   "outputs": [],
   "source": [
    "# Parent class\n",
    "class Person:\n",
    "    def move(self):\n",
    "        print(\"You can move.\")\n",
    "# Child class\n",
    "class Archer(Person):\n",
    "    def move(self):\n",
    "        print(\"You can climb a tree.\")"
   ]
  },
  {
   "cell_type": "code",
   "execution_count": 24,
   "metadata": {
    "scrolled": true
   },
   "outputs": [
    {
     "name": "stdout",
     "output_type": "stream",
     "text": [
      "You can climb a tree.\n"
     ]
    }
   ],
   "source": [
    "my_archer = Archer()\n",
    "my_archer.move()"
   ]
  }
 ],
 "metadata": {
  "kernelspec": {
   "display_name": "Python 3",
   "language": "python",
   "name": "python3"
  },
  "language_info": {
   "codemirror_mode": {
    "name": "ipython",
    "version": 3
   },
   "file_extension": ".py",
   "mimetype": "text/x-python",
   "name": "python",
   "nbconvert_exporter": "python",
   "pygments_lexer": "ipython3",
   "version": "3.7.0"
  },
  "toc": {
   "base_numbering": 1,
   "nav_menu": {},
   "number_sections": false,
   "sideBar": true,
   "skip_h1_title": false,
   "title_cell": "Table of Contents",
   "title_sidebar": "Contents",
   "toc_cell": false,
   "toc_position": {
    "height": "calc(100% - 180px)",
    "left": "10px",
    "top": "150px",
    "width": "341.302px"
   },
   "toc_section_display": true,
   "toc_window_display": true
  },
  "varInspector": {
   "cols": {
    "lenName": 16,
    "lenType": 16,
    "lenVar": 40
   },
   "kernels_config": {
    "python": {
     "delete_cmd_postfix": "",
     "delete_cmd_prefix": "del ",
     "library": "var_list.py",
     "varRefreshCmd": "print(var_dic_list())"
    },
    "r": {
     "delete_cmd_postfix": ") ",
     "delete_cmd_prefix": "rm(",
     "library": "var_list.r",
     "varRefreshCmd": "cat(var_dic_list()) "
    }
   },
   "types_to_exclude": [
    "module",
    "function",
    "builtin_function_or_method",
    "instance",
    "_Feature"
   ],
   "window_display": false
  }
 },
 "nbformat": 4,
 "nbformat_minor": 2
}
