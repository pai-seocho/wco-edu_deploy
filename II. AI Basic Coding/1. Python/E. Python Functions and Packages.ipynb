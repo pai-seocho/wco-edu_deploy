{
 "cells": [
  {
   "cell_type": "markdown",
   "metadata": {
    "colab_type": "text",
    "id": "gylcBRjAuJwh"
   },
   "source": [
    "# E. Python Functions and Packages\n",
    "\n",
    "\n",
    "In programming, there are times when same lines of code repeatedly appear so that you find it tedious and burdensome. To avoid such inefficient moments, Python provides a bunch of great tools. They are **functions** for code-reuse, and **packages** which are collections of functions. Once you learn when and how to use functions and packages, you will be able to manage your workload much smarter than when not using them. \n",
    "So, in this lesson, we will focus on understanding the concepts and the use of functions and packages.\n"
   ]
  },
  {
   "cell_type": "markdown",
   "metadata": {},
   "source": [
    "### _Objective_\n",
    "1. **Python functions**: Understanding what functions are and how to use them. <br>\n",
    "2. **Python packages**: Understanding what packages are and how to use them. <br>"
   ]
  },
  {
   "cell_type": "markdown",
   "metadata": {
    "colab_type": "text",
    "id": "PhwLa--puJwi"
   },
   "source": [
    "# \\[1. Python Functions\\]\n",
    "\n",
    "In Python, a function is a group of related statements that performs a specific task. A Python function is similar to functions in mathematics in many aspects as it takes an input `x`, processes it through a function `f` and returns an output `f(x)` just as in math. Though, input and output to a Python function are optional while it's not the case in math."
   ]
  },
  {
   "cell_type": "markdown",
   "metadata": {
    "colab_type": "text",
    "id": "2lpkoeG9uJwj"
   },
   "source": [
    "## 1. Creating a Function\n",
    "\n",
    "+ Creating a function is often referred to as **`'defining a function'`**.\n",
    "+ In Python, A keyword `def` is used to mark the start of the function and followed with the function name as the block name.\n",
    "+ Input parameters and return values can be defined in a function (optional)."
   ]
  },
  {
   "cell_type": "markdown",
   "metadata": {
    "colab_type": "text",
    "id": "mVFGxufsuJwj"
   },
   "source": [
    "### (1) [Practice] Defining a function\n",
    "\n",
    "Before we move onto defining a function, let's have a look at what a function is made of and how it looks."
   ]
  },
  {
   "cell_type": "markdown",
   "metadata": {},
   "source": [
    "+ `add` - Function name (**required**) \n",
    "+ `a, b` - Parameters (input)(*optional*)\n",
    "+ `return` - Return statement (Output) (*optional*)"
   ]
  },
  {
   "cell_type": "code",
   "execution_count": 1,
   "metadata": {
    "collapsed": true
   },
   "outputs": [],
   "source": [
    "def add(a, b):\n",
    "    result = a + b\n",
    "    return result"
   ]
  },
  {
   "cell_type": "markdown",
   "metadata": {},
   "source": [
    "In the above function, the function was named `add` after the `def` keyword. The function name serves as an identifier for later use.\n",
    "Then, two parameters, `a` and `b`, are defined, by which the function can take two input values.\n",
    "In the second line, the two input values, `a` and `b`, are added and stored to the variable `result`.\n",
    "In the last line, the `return` keyword indicates that the function will return an output value, `result` in this case, when executed."
   ]
  },
  {
   "cell_type": "markdown",
   "metadata": {},
   "source": [
    "### (2) Calling a function\n",
    "Let's call the function we've just created."
   ]
  },
  {
   "cell_type": "code",
   "execution_count": 2,
   "metadata": {
    "colab": {
     "base_uri": "https://localhost:8080/",
     "height": 34
    },
    "colab_type": "code",
    "collapsed": true,
    "executionInfo": {
     "elapsed": 984,
     "status": "ok",
     "timestamp": 1550800502984,
     "user": {
      "displayName": "최선열",
      "photoUrl": "",
      "userId": "00663027191814710813"
     },
     "user_tz": -540
    },
    "id": "Y_JWvAojuJwo",
    "outputId": "a49a41f5-ecc1-4902-9352-763f57c57758"
   },
   "outputs": [],
   "source": [
    "y = add(3,5) # passing two integers, 3 and 5, to 'a' and 'b' respectively"
   ]
  },
  {
   "cell_type": "markdown",
   "metadata": {},
   "source": [
    "The `add()` function took 3 and 5 as input values and returned 8 as the output value.\n",
    "The values inserted to parameters, 3 and 5, are called **arguments**. A function caller returns an error when no arguments are inserted to a function with parameters."
   ]
  },
  {
   "cell_type": "code",
   "execution_count": 3,
   "metadata": {},
   "outputs": [
    {
     "ename": "TypeError",
     "evalue": "add() missing 2 required positional arguments: 'a' and 'b'",
     "output_type": "error",
     "traceback": [
      "\u001b[0;31m---------------------------------------------------------------------------\u001b[0m",
      "\u001b[0;31mTypeError\u001b[0m                                 Traceback (most recent call last)",
      "\u001b[0;32m<ipython-input-3-d5d29de3ed94>\u001b[0m in \u001b[0;36m<module>\u001b[0;34m\u001b[0m\n\u001b[0;32m----> 1\u001b[0;31m \u001b[0madd\u001b[0m\u001b[0;34m(\u001b[0m\u001b[0;34m)\u001b[0m\u001b[0;34m\u001b[0m\u001b[0;34m\u001b[0m\u001b[0m\n\u001b[0m",
      "\u001b[0;31mTypeError\u001b[0m: add() missing 2 required positional arguments: 'a' and 'b'"
     ]
    }
   ],
   "source": [
    "add()"
   ]
  },
  {
   "cell_type": "markdown",
   "metadata": {
    "colab_type": "text",
    "id": "3HmlT-zNuJwu"
   },
   "source": [
    "### (3) Functions based on parameters and return values\n",
    "The `add` function takes arguments and returns an output value.\n",
    "If you intend not to define any of them, just leave parameters and the `return` statement out of the function."
   ]
  },
  {
   "cell_type": "markdown",
   "metadata": {
    "colab_type": "text",
    "id": "2Upmg5J8uJwu"
   },
   "source": [
    "#### 1. Function with no parameters and return value"
   ]
  },
  {
   "cell_type": "code",
   "execution_count": 4,
   "metadata": {
    "colab": {},
    "colab_type": "code",
    "id": "M95YhRmBuJwv",
    "outputId": "e3a5d4b6-91c3-478b-cf57-e150732237d0"
   },
   "outputs": [
    {
     "name": "stdout",
     "output_type": "stream",
     "text": [
      "Meow\n"
     ]
    }
   ],
   "source": [
    "def make_a_sound(): # defining a function without a parameter\n",
    "    print(\"Meow\")  # function without a return value but a print statement.\n",
    "    \n",
    "\n",
    "y = make_a_sound()# calling the function"
   ]
  },
  {
   "cell_type": "markdown",
   "metadata": {},
   "source": [
    "Even though `make_a_sound()` prints `Meow`, the printed value is not the value the function returns as the function did not have a return statement. Therefore, `y` will not be holding any value even after the execution."
   ]
  },
  {
   "cell_type": "code",
   "execution_count": 5,
   "metadata": {
    "colab": {},
    "colab_type": "code",
    "collapsed": true,
    "id": "OYLrtnAjuJwz"
   },
   "outputs": [],
   "source": [
    "y # returns nothing(`None`) indicating there is no returned value stored in `y`"
   ]
  },
  {
   "cell_type": "markdown",
   "metadata": {
    "colab_type": "text",
    "id": "CCTPOlXNuJw2"
   },
   "source": [
    "#### 2. Python function with no parameters "
   ]
  },
  {
   "cell_type": "code",
   "execution_count": 6,
   "metadata": {
    "colab": {},
    "colab_type": "code",
    "collapsed": true,
    "id": "zngDFR76uJw2"
   },
   "outputs": [],
   "source": [
    "def agree(): # defining a function named `agree` with no parameter\n",
    "    return True # but a return value\n",
    "\n",
    "y = agree() # calling the `agree` function"
   ]
  },
  {
   "cell_type": "code",
   "execution_count": 7,
   "metadata": {
    "colab": {},
    "colab_type": "code",
    "id": "KBOgEylruJw5",
    "outputId": "6ca85116-1c2d-4243-97d4-39460390a03c"
   },
   "outputs": [
    {
     "data": {
      "text/plain": [
       "True"
      ]
     },
     "execution_count": 7,
     "metadata": {},
     "output_type": "execute_result"
    }
   ],
   "source": [
    "y"
   ]
  },
  {
   "cell_type": "markdown",
   "metadata": {
    "colab_type": "text",
    "id": "qSnYnh4luJw-"
   },
   "source": [
    "#### 3. Python function with no return statement"
   ]
  },
  {
   "cell_type": "code",
   "execution_count": 8,
   "metadata": {
    "colab": {},
    "colab_type": "code",
    "id": "FwbJQlXcuJw_",
    "outputId": "49ff3707-f828-4618-bfd0-0ab516cc8d1e"
   },
   "outputs": [
    {
     "name": "stdout",
     "output_type": "stream",
     "text": [
      "Hello, John\n"
     ]
    }
   ],
   "source": [
    "def hello_by(name): # defining a function named `hello_by` with a parameter\n",
    "    print(\"Hello, {}\".format(name)) # print statement without a return value\n",
    "\n",
    "y = hello_by(\"John\") # calling the function"
   ]
  },
  {
   "cell_type": "markdown",
   "metadata": {
    "colab_type": "text",
    "id": "WReA62p3uJxC"
   },
   "source": [
    "## 2. Types of Python Functions\n",
    "\n",
    "+ In addition to user-defined functions as what you've created earlier in this lesson, Python supports **built-in functions** as well as **anonymous functions**."
   ]
  },
  {
   "cell_type": "markdown",
   "metadata": {
    "colab_type": "text",
    "id": "xREZ5KJ8uJxC"
   },
   "source": [
    "### (1) Built-in functions\n",
    "Python provides a number of **built-in functions**. Built-in functions are automatically installed on your computer in ready-to-use mode when installing Python."
   ]
  },
  {
   "cell_type": "markdown",
   "metadata": {
    "colab_type": "text",
    "id": "z-fWdiacuJxD"
   },
   "source": [
    "#### 1. `sum()` -  adds up input values."
   ]
  },
  {
   "cell_type": "code",
   "execution_count": 9,
   "metadata": {
    "colab": {},
    "colab_type": "code",
    "id": "2IL9m-4iuJxE",
    "outputId": "ad9721e3-b228-442f-88e8-62ea465eea61"
   },
   "outputs": [
    {
     "data": {
      "text/plain": [
       "15"
      ]
     },
     "execution_count": 9,
     "metadata": {},
     "output_type": "execute_result"
    }
   ],
   "source": [
    "lst1 = [1,2,3,4,5]\n",
    "sum(lst1) # "
   ]
  },
  {
   "cell_type": "markdown",
   "metadata": {
    "colab_type": "text",
    "id": "eAU6C2JFuJxI"
   },
   "source": [
    "#### 2. `max()` - returns the maximum value of the input values."
   ]
  },
  {
   "cell_type": "code",
   "execution_count": 10,
   "metadata": {
    "colab": {},
    "colab_type": "code",
    "id": "_x6OsVZOuJxI",
    "outputId": "7fadc5b9-2514-4848-8afb-c31a602392ae"
   },
   "outputs": [
    {
     "data": {
      "text/plain": [
       "5"
      ]
     },
     "execution_count": 10,
     "metadata": {},
     "output_type": "execute_result"
    }
   ],
   "source": [
    "lst1 = [1,2,3,4,5]\n",
    "max(lst1)"
   ]
  },
  {
   "cell_type": "markdown",
   "metadata": {
    "colab_type": "text",
    "id": "mlhv3F1KuJxL"
   },
   "source": [
    "#### 3. `min()` -  returns the smallest value of the input values."
   ]
  },
  {
   "cell_type": "code",
   "execution_count": 11,
   "metadata": {
    "colab": {},
    "colab_type": "code",
    "id": "gSDQ_0VluJxN",
    "outputId": "ba18621e-4c6e-4979-9ce2-92144b13617a"
   },
   "outputs": [
    {
     "data": {
      "text/plain": [
       "1"
      ]
     },
     "execution_count": 11,
     "metadata": {},
     "output_type": "execute_result"
    }
   ],
   "source": [
    "lst1 = [1,2,3,4,5]\n",
    "min(lst1)"
   ]
  },
  {
   "cell_type": "markdown",
   "metadata": {
    "colab_type": "text",
    "id": "WjhVLp66uJxQ"
   },
   "source": [
    "#### 4. `abs()` - returns the  absolute value of the input value."
   ]
  },
  {
   "cell_type": "code",
   "execution_count": 12,
   "metadata": {
    "colab": {},
    "colab_type": "code",
    "id": "h4g7CSgFuJxQ",
    "outputId": "9aee613a-9633-4cce-fbe5-cbbda043b624"
   },
   "outputs": [
    {
     "data": {
      "text/plain": [
       "1.7"
      ]
     },
     "execution_count": 12,
     "metadata": {},
     "output_type": "execute_result"
    }
   ],
   "source": [
    "abs(-1.7)"
   ]
  },
  {
   "cell_type": "markdown",
   "metadata": {},
   "source": [
    "#### 5. `map()` -  applies the given function to each element of a given iterable."
   ]
  },
  {
   "cell_type": "code",
   "execution_count": 13,
   "metadata": {},
   "outputs": [
    {
     "data": {
      "text/plain": [
       "[2, 3, 4, 5, 6]"
      ]
     },
     "execution_count": 13,
     "metadata": {},
     "output_type": "execute_result"
    }
   ],
   "source": [
    "def add_1(x): # defining a function named `add_1`\n",
    "    return x + 1\n",
    "\n",
    "lst1 = [1,2,3,4,5]\n",
    "list(map(add_1, lst1)) # applying `add_1` to each element of `lst1` "
   ]
  },
  {
   "cell_type": "markdown",
   "metadata": {},
   "source": [
    "#### 6. `filter()`  -  tests if each element of an iterable meets certain conditions and returns only the elements that satisfied them."
   ]
  },
  {
   "cell_type": "code",
   "execution_count": 14,
   "metadata": {
    "scrolled": true
   },
   "outputs": [
    {
     "data": {
      "text/plain": [
       "[2, 4]"
      ]
     },
     "execution_count": 14,
     "metadata": {},
     "output_type": "execute_result"
    }
   ],
   "source": [
    "def is_even(x):\n",
    "    return x % 2 == 0\n",
    "\n",
    "lst1 = [1,2,3,4,5]\n",
    "list(filter(is_even, lst1)) # tests if elements of `lst1` meet `is_even` and returns only those that met it"
   ]
  },
  {
   "cell_type": "markdown",
   "metadata": {},
   "source": [
    "### (2) Anonymous function - `lambda`\n",
    "\n",
    "Besides built-in and user-defined functions, Python supports untitled functions so- called `anonymous functions`. An anonymous function is a one-off function and defined very concisely in a single line with a `lambda` keyword at the beginning. Since it can save a lot of your working time, it is crucial to know when and how to use it.\n",
    "So, let's try creating one."
   ]
  },
  {
   "cell_type": "code",
   "execution_count": 15,
   "metadata": {},
   "outputs": [
    {
     "data": {
      "text/plain": [
       "3"
      ]
     },
     "execution_count": 15,
     "metadata": {},
     "output_type": "execute_result"
    }
   ],
   "source": [
    "def add(x, y):\n",
    "    return x + y\n",
    "\n",
    "add(1, 2)"
   ]
  },
  {
   "cell_type": "markdown",
   "metadata": {},
   "source": [
    "The above function can be written as below."
   ]
  },
  {
   "cell_type": "code",
   "execution_count": 16,
   "metadata": {},
   "outputs": [
    {
     "data": {
      "text/plain": [
       "3"
      ]
     },
     "execution_count": 16,
     "metadata": {},
     "output_type": "execute_result"
    }
   ],
   "source": [
    "add_by_lambda = lambda x, y : x + y # the function itself doesn't have a name and should be stored to a variable for later reuse.\n",
    "add_by_lambda(1, 2)"
   ]
  },
  {
   "cell_type": "code",
   "execution_count": 17,
   "metadata": {
    "scrolled": true
   },
   "outputs": [
    {
     "data": {
      "text/plain": [
       "5"
      ]
     },
     "execution_count": 17,
     "metadata": {},
     "output_type": "execute_result"
    }
   ],
   "source": [
    "add_by_lambda(2, 3)"
   ]
  },
  {
   "cell_type": "markdown",
   "metadata": {},
   "source": [
    "`lambda` is used to indicate the starting point of an anonymous function. It's followed by a colon and the content of the function."
   ]
  },
  {
   "cell_type": "code",
   "execution_count": 18,
   "metadata": {},
   "outputs": [
    {
     "data": {
      "text/plain": [
       "[2, 3, 4, 5, 6]"
      ]
     },
     "execution_count": 18,
     "metadata": {},
     "output_type": "execute_result"
    }
   ],
   "source": [
    "def add_1(x):\n",
    "    return x + 1\n",
    "\n",
    "lst1 = [1,2,3,4,5]\n",
    "list(map(add_1, lst1))"
   ]
  },
  {
   "cell_type": "code",
   "execution_count": 19,
   "metadata": {},
   "outputs": [
    {
     "data": {
      "text/plain": [
       "[2, 3, 4, 5, 6]"
      ]
     },
     "execution_count": 19,
     "metadata": {},
     "output_type": "execute_result"
    }
   ],
   "source": [
    "lst1 = [1,2,3,4,5]\n",
    "list(map(lambda x : x + 1, lst1)) "
   ]
  },
  {
   "cell_type": "markdown",
   "metadata": {
    "colab_type": "text",
    "id": "QiLOWxDKuJxt"
   },
   "source": [
    "# \\[2. Python Packages\\]\n",
    "\n",
    "A package is a collection of modules, functions and methods. It is developed by other developers in the hope of helping other Python users write their code in a more efficient and effective manner. It is managed in a directory structure.\n",
    "Packages are like thematic collections of modules and each package finds a use in a different area of tasks.<br>\n",
    "\n",
    "For instance, you'll be introduced to three different packages later in this program, which are numpy, pandas and matplotlib for mathematical calculation of data, data processing, and data visualization. \n",
    "Before we go that further, we'll be taking a look at some of basic Python packages."
   ]
  },
  {
   "cell_type": "markdown",
   "metadata": {},
   "source": [
    "## 1. Package manager - `pip`\n",
    "+ `pip` is the package manager which you use for installing, updating and uninstalling Python packages.\n",
    "+ The `pip` command is written as `pip` in command windows or `!pip` in Jupyter Notebook."
   ]
  },
  {
   "cell_type": "markdown",
   "metadata": {},
   "source": [
    "### (1) Checking all packages installed on your computer\n",
    "using `pip list` in command window or `!pip list` in Jupyter Notebook lists all packages installed on your computer."
   ]
  },
  {
   "cell_type": "code",
   "execution_count": 20,
   "metadata": {
    "scrolled": true
   },
   "outputs": [
    {
     "name": "stdout",
     "output_type": "stream",
     "text": [
      "Package                            Version\r\n",
      "---------------------------------- -----------\r\n",
      "absl-py                            0.8.0\r\n",
      "alabaster                          0.7.10\r\n",
      "anaconda-client                    1.6.3\r\n",
      "anaconda-navigator                 1.6.2\r\n",
      "anaconda-project                   0.6.0\r\n",
      "appnope                            0.1.0\r\n",
      "appscript                          1.0.1\r\n",
      "asgiref                            3.2.10\r\n",
      "asn1crypto                         0.22.0\r\n",
      "astor                              0.7.1\r\n",
      "astroid                            1.4.9\r\n",
      "astropy                            1.3.2\r\n",
      "Babel                              2.4.0\r\n",
      "backcall                           0.1.0\r\n",
      "backports.shutil-get-terminal-size 1.0.0\r\n",
      "beautifulsoup4                     4.6.0\r\n",
      "bitarray                           0.8.1\r\n",
      "blaze                              0.10.1\r\n",
      "bleach                             1.5.0\r\n",
      "bokeh                              0.12.5\r\n",
      "boto                               2.46.1\r\n",
      "botocore                           1.15.17\r\n",
      "Bottleneck                         1.2.1\r\n",
      "certifi                            2020.12.5\r\n",
      "cffi                               1.10.0\r\n",
      "chardet                            3.0.3\r\n",
      "click                              6.7\r\n",
      "cloudpickle                        0.2.2\r\n",
      "clyent                             1.2.2\r\n",
      "colorama                           0.3.9\r\n",
      "conda                              4.5.11\r\n",
      "contextlib2                        0.5.5\r\n",
      "cryptography                       1.8.1\r\n",
      "cycler                             0.10.0\r\n",
      "Cython                             0.25.2\r\n",
      "cytoolz                            0.8.2\r\n",
      "dask                               0.14.3\r\n",
      "datashape                          0.5.4\r\n",
      "decorator                          4.4.2\r\n",
      "distributed                        1.16.3\r\n",
      "Django                             3.1.1\r\n",
      "djangorestframework                3.11.1\r\n",
      "docutils                           0.13.1\r\n",
      "entrypoints                        0.2.2\r\n",
      "et-xmlfile                         1.0.1\r\n",
      "fastcache                          1.0.2\r\n",
      "Flask                              0.12.2\r\n",
      "Flask-Cors                         3.0.2\r\n",
      "future                             0.17.1\r\n",
      "gast                               0.2.0\r\n",
      "gevent                             1.2.1\r\n",
      "google-pasta                       0.1.7\r\n",
      "greenlet                           0.4.12\r\n",
      "grpcio                             1.16.0\r\n",
      "gym                                0.10.8\r\n",
      "h5py                               2.8.0\r\n",
      "HeapDict                           1.0.0\r\n",
      "html5lib                           0.999\r\n",
      "idna                               2.5\r\n",
      "imageio                            2.9.0\r\n",
      "imagesize                          0.7.1\r\n",
      "imgaug                             0.4.0\r\n",
      "ipykernel                          4.6.1\r\n",
      "ipython                            5.3.0\r\n",
      "ipython-genutils                   0.2.0\r\n",
      "ipywidgets                         6.0.0\r\n",
      "isort                              4.2.5\r\n",
      "itsdangerous                       0.24\r\n",
      "jdcal                              1.3\r\n",
      "jedi                               0.10.2\r\n",
      "Jinja2                             2.9.6\r\n",
      "jmespath                           0.9.5\r\n",
      "jsonschema                         2.6.0\r\n",
      "jupyter                            1.0.0\r\n",
      "jupyter-client                     5.0.1\r\n",
      "jupyter-console                    5.1.0\r\n",
      "jupyter-core                       4.3.0\r\n",
      "Keras                              2.2.4\r\n",
      "Keras-Applications                 1.0.6\r\n",
      "Keras-Preprocessing                1.0.5\r\n",
      "kiwisolver                         1.0.1\r\n",
      "lazy-object-proxy                  1.2.2\r\n",
      "lesscpy                            0.13.0\r\n",
      "llvmlite                           0.18.0\r\n",
      "locket                             0.2.0\r\n",
      "lxml                               3.7.3\r\n",
      "Markdown                           3.0.1\r\n",
      "MarkupSafe                         0.23\r\n",
      "matplotlib                         3.0.1\r\n",
      "mistune                            0.7.4\r\n",
      "mpmath                             0.19\r\n",
      "msgpack-python                     0.4.8\r\n",
      "multipledispatch                   0.4.9\r\n",
      "navigator-updater                  0.1.0\r\n",
      "nbconvert                          5.1.1\r\n",
      "nbformat                           4.3.0\r\n",
      "networkx                           2.4\r\n",
      "nltk                               3.2.3\r\n",
      "nose                               1.3.7\r\n",
      "notebook                           5.0.0\r\n",
      "numba                              0.33.0\r\n",
      "numexpr                            2.6.2\r\n",
      "numpy                              1.19.4\r\n",
      "numpydoc                           0.6.0\r\n",
      "oauthlib                           3.1.0\r\n",
      "odo                                0.5.0\r\n",
      "olefile                            0.44\r\n",
      "opencv-python                      4.3.0.36\r\n",
      "openpyxl                           2.4.7\r\n",
      "opt-einsum                         3.3.0\r\n",
      "packaging                          16.8\r\n",
      "pandas                             0.20.1\r\n",
      "pandocfilters                      1.4.1\r\n",
      "partd                              0.3.8\r\n",
      "pathlib2                           2.2.1\r\n",
      "patsy                              0.4.1\r\n",
      "pep8                               1.7.0\r\n",
      "pexpect                            4.2.1\r\n",
      "pickleshare                        0.7.4\r\n",
      "Pillow                             5.3.0\r\n",
      "pip                                20.2.4\r\n",
      "ply                                3.10\r\n",
      "prometheus-client                  0.7.1\r\n",
      "prompt-toolkit                     2.0.9\r\n",
      "protobuf                           3.6.1\r\n",
      "psutil                             5.2.2\r\n",
      "ptyprocess                         0.5.1\r\n",
      "py                                 1.4.33\r\n",
      "pyasn1                             0.4.8\r\n",
      "pyasn1-modules                     0.2.8\r\n",
      "pycosat                            0.6.3\r\n",
      "pycparser                          2.17\r\n",
      "pycrypto                           2.6.1\r\n",
      "pycurl                             7.43.0\r\n",
      "pydicom                            2.0.0\r\n",
      "pyflakes                           1.5.0\r\n",
      "pyglet                             1.3.2\r\n",
      "Pygments                           2.2.0\r\n",
      "pylint                             1.6.4\r\n",
      "pyodbc                             4.0.16\r\n",
      "pyOpenSSL                          17.0.0\r\n",
      "pyparsing                          2.1.4\r\n",
      "pytest                             3.0.7\r\n",
      "python-dateutil                    2.6.0\r\n",
      "pytz                               2017.2\r\n",
      "PyWavelets                         1.1.1\r\n",
      "PyYAML                             3.12\r\n",
      "pyzmq                              16.0.2\r\n",
      "QtAwesome                          0.4.4\r\n",
      "qtconsole                          4.3.0\r\n",
      "QtPy                               1.2.1\r\n",
      "requests                           2.25.0\r\n",
      "requests-oauthlib                  1.3.0\r\n",
      "rope-py3k                          0.9.4.post1\r\n",
      "rsa                                3.4.2\r\n",
      "s3transfer                         0.3.3\r\n",
      "scikit-image                       0.17.2\r\n",
      "scikit-learn                       0.18.1\r\n",
      "scipy                              0.19.0\r\n",
      "seaborn                            0.7.1\r\n",
      "Send2Trash                         1.5.0\r\n",
      "setuptools                         51.0.0\r\n",
      "Shapely                            1.7.0\r\n",
      "simplegeneric                      0.8.1\r\n",
      "singledispatch                     3.4.0.3\r\n",
      "six                                1.10.0\r\n",
      "snowballstemmer                    1.2.1\r\n",
      "sortedcollections                  0.5.3\r\n",
      "sortedcontainers                   1.5.7\r\n",
      "Sphinx                             1.5.6\r\n",
      "spyder                             3.1.4\r\n",
      "SQLAlchemy                         1.1.9\r\n",
      "sqlparse                           0.3.1\r\n",
      "statsmodels                        0.8.0\r\n",
      "sympy                              1.0\r\n",
      "tables                             3.4.4\r\n",
      "tblib                              1.3.2\r\n",
      "tensorboard                        1.11.0\r\n",
      "tensorflow-estimator               2.4.0\r\n",
      "termcolor                          1.1.0\r\n",
      "terminado                          0.6\r\n",
      "testpath                           0.3\r\n",
      "tifffile                           2020.7.4\r\n",
      "toolz                              0.8.2\r\n",
      "tornado                            4.5.1\r\n",
      "tqdm                               4.28.1\r\n",
      "traitlets                          4.3.2\r\n",
      "typed-ast                          1.4.1\r\n",
      "unicodecsv                         0.14.1\r\n",
      "urllib3                            1.26.2\r\n",
      "wcwidth                            0.1.7\r\n",
      "Werkzeug                           0.12.2\r\n",
      "wheel                              0.29.0\r\n",
      "widgetsnbextension                 2.0.0\r\n",
      "wrapt                              1.10.10\r\n",
      "xlrd                               1.0.0\r\n",
      "XlsxWriter                         0.9.6\r\n",
      "xlwings                            0.10.4\r\n",
      "xlwt                               1.2.0\r\n",
      "zict                               0.1.2\r\n"
     ]
    },
    {
     "name": "stdout",
     "output_type": "stream",
     "text": [
      "\u001b[33mWARNING: You are using pip version 20.2.4; however, version 20.3.3 is available.\r\n",
      "You should consider upgrading via the '/Users/seongjungkim/anaconda3/bin/python -m pip install --upgrade pip' command.\u001b[0m\r\n"
     ]
    }
   ],
   "source": [
    "!pip list # checking the list of currently installed packages"
   ]
  },
  {
   "cell_type": "markdown",
   "metadata": {},
   "source": [
    "### (2) Installing a package \n",
    "You can install a package  using `pip install <package_name>`\n",
    "   "
   ]
  },
  {
   "cell_type": "code",
   "execution_count": 1,
   "metadata": {},
   "outputs": [
    {
     "name": "stderr",
     "output_type": "stream",
     "text": [
      "Invalid requirement: '#'\n",
      "Traceback (most recent call last):\n",
      "  File \"C:\\Users\\sweet\\Anaconda3\\lib\\site-packages\\pip\\_vendor\\packaging\\requirements.py\", line 93, in __init__\n",
      "    req = REQUIREMENT.parseString(requirement_string)\n",
      "  File \"C:\\Users\\sweet\\Anaconda3\\lib\\site-packages\\pip\\_vendor\\pyparsing.py\", line 1632, in parseString\n",
      "    raise exc\n",
      "  File \"C:\\Users\\sweet\\Anaconda3\\lib\\site-packages\\pip\\_vendor\\pyparsing.py\", line 1622, in parseString\n",
      "    loc, tokens = self._parse( instring, 0 )\n",
      "  File \"C:\\Users\\sweet\\Anaconda3\\lib\\site-packages\\pip\\_vendor\\pyparsing.py\", line 1379, in _parseNoCache\n",
      "    loc,tokens = self.parseImpl( instring, preloc, doActions )\n",
      "  File \"C:\\Users\\sweet\\Anaconda3\\lib\\site-packages\\pip\\_vendor\\pyparsing.py\", line 3395, in parseImpl\n",
      "    loc, exprtokens = e._parse( instring, loc, doActions )\n",
      "  File \"C:\\Users\\sweet\\Anaconda3\\lib\\site-packages\\pip\\_vendor\\pyparsing.py\", line 1379, in _parseNoCache\n",
      "    loc,tokens = self.parseImpl( instring, preloc, doActions )\n",
      "  File \"C:\\Users\\sweet\\Anaconda3\\lib\\site-packages\\pip\\_vendor\\pyparsing.py\", line 3717, in parseImpl\n",
      "    return self.expr._parse( instring, loc, doActions, callPreParse=False )\n",
      "  File \"C:\\Users\\sweet\\Anaconda3\\lib\\site-packages\\pip\\_vendor\\pyparsing.py\", line 1379, in _parseNoCache\n",
      "    loc,tokens = self.parseImpl( instring, preloc, doActions )\n",
      "  File \"C:\\Users\\sweet\\Anaconda3\\lib\\site-packages\\pip\\_vendor\\pyparsing.py\", line 3378, in parseImpl\n",
      "    loc, resultlist = self.exprs[0]._parse( instring, loc, doActions, callPreParse=False )\n",
      "  File \"C:\\Users\\sweet\\Anaconda3\\lib\\site-packages\\pip\\_vendor\\pyparsing.py\", line 1383, in _parseNoCache\n",
      "    loc,tokens = self.parseImpl( instring, preloc, doActions )\n",
      "  File \"C:\\Users\\sweet\\Anaconda3\\lib\\site-packages\\pip\\_vendor\\pyparsing.py\", line 2689, in parseImpl\n",
      "    raise ParseException(instring, loc, self.errmsg, self)\n",
      "pip._vendor.pyparsing.ParseException: Expected W:(abcd...) (at char 0), (line:1, col:1)\n",
      "\n",
      "During handling of the above exception, another exception occurred:\n",
      "\n",
      "Traceback (most recent call last):\n",
      "  File \"C:\\Users\\sweet\\Anaconda3\\lib\\site-packages\\pip\\_internal\\req\\req_install.py\", line 252, in from_line\n",
      "    req = Requirement(req)\n",
      "  File \"C:\\Users\\sweet\\Anaconda3\\lib\\site-packages\\pip\\_vendor\\packaging\\requirements.py\", line 97, in __init__\n",
      "    requirement_string[e.loc:e.loc + 8]))\n",
      "pip._vendor.packaging.requirements.InvalidRequirement: Invalid requirement, parse error at \"'#'\"\n",
      "\n",
      "You are using pip version 10.0.1, however version 20.3.3 is available.\n",
      "You should consider upgrading via the 'python -m pip install --upgrade pip' command.\n"
     ]
    }
   ],
   "source": [
    "!pip install wget # installing the `wget` package; wget helps download files"
   ]
  },
  {
   "cell_type": "markdown",
   "metadata": {},
   "source": [
    "### (3) Importing a package\n",
    "You can import a package using `import <package_name>`"
   ]
  },
  {
   "cell_type": "code",
   "execution_count": 22,
   "metadata": {},
   "outputs": [
    {
     "ename": "ModuleNotFoundError",
     "evalue": "No module named 'wget'",
     "output_type": "error",
     "traceback": [
      "\u001b[0;31m---------------------------------------------------------------------------\u001b[0m",
      "\u001b[0;31mModuleNotFoundError\u001b[0m                       Traceback (most recent call last)",
      "\u001b[0;32m<ipython-input-22-381d77ba2736>\u001b[0m in \u001b[0;36m<module>\u001b[0;34m\u001b[0m\n\u001b[0;32m----> 1\u001b[0;31m \u001b[0;32mimport\u001b[0m \u001b[0mwget\u001b[0m\u001b[0;34m\u001b[0m\u001b[0;34m\u001b[0m\u001b[0m\n\u001b[0m",
      "\u001b[0;31mModuleNotFoundError\u001b[0m: No module named 'wget'"
     ]
    }
   ],
   "source": [
    "import wget"
   ]
  },
  {
   "cell_type": "markdown",
   "metadata": {},
   "source": [
    "### (4) Uninstalling  a package \n",
    "You can delete a package from your computer using `pip uninstall -y <package_name>`"
   ]
  },
  {
   "cell_type": "code",
   "execution_count": null,
   "metadata": {
    "collapsed": true
   },
   "outputs": [],
   "source": [
    "!pip uninstall -y wget # uninstalling wget"
   ]
  },
  {
   "cell_type": "markdown",
   "metadata": {
    "colab_type": "text",
    "id": "MTZevRuFXG5i"
   },
   "source": [
    "## 2. Using a Python Package\n",
    "\n",
    "+ By default, Importing a package with a `import` keyword loads the entire contents of the package to the current working file. In order to use a module, you should prefix the package name before the module name as `[package].[module]`.\n",
    "+ If you, however, intend to import certain modules or methods only, you should import them by `from import` syntax as `from [package] import [modules]`.\n",
    "+ In case a package name is too long or accessed too often, you can alias it."
   ]
  },
  {
   "cell_type": "markdown",
   "metadata": {},
   "source": [
    "### (1) Importing the entire package"
   ]
  },
  {
   "cell_type": "markdown",
   "metadata": {
    "colab_type": "text",
    "id": "I-_A6Tzwmz-8"
   },
   "source": [
    "It was said that you can import a package by the`import` keyword. Alternatively, you can explicitly express that you're importing everything from the package using `from package_name import *`. The asterisk (**<code>*</code>**) is a wild-card character that denotes `all`. Using this syntax, you can directly use the full functionality of the imported package without prefixing the package name."
   ]
  },
  {
   "cell_type": "code",
   "execution_count": null,
   "metadata": {
    "colab": {},
    "colab_type": "code",
    "collapsed": true,
    "id": "agNt4-LKmxDI"
   },
   "outputs": [],
   "source": [
    "from random import * # importing the entire contents of the `random` package"
   ]
  },
  {
   "cell_type": "code",
   "execution_count": null,
   "metadata": {
    "colab": {
     "base_uri": "https://localhost:8080/",
     "height": 68
    },
    "colab_type": "code",
    "collapsed": true,
    "executionInfo": {
     "elapsed": 613,
     "status": "ok",
     "timestamp": 1550812727025,
     "user": {
      "displayName": "최선열",
      "photoUrl": "",
      "userId": "00663027191814710813"
     },
     "user_tz": -540
    },
    "id": "IKM4KxRYozcm",
    "outputId": "7cc4b65a-d846-4321-b2eb-4460a9f4af32"
   },
   "outputs": [],
   "source": [
    "lst1 = [1,2,3,4,5]\n",
    "print(choice(lst1)) # using `choice()` of `random` without prefixing the package name"
   ]
  },
  {
   "cell_type": "code",
   "execution_count": null,
   "metadata": {
    "colab": {
     "base_uri": "https://localhost:8080/",
     "height": 68
    },
    "colab_type": "code",
    "collapsed": true,
    "executionInfo": {
     "elapsed": 613,
     "status": "ok",
     "timestamp": 1550812727025,
     "user": {
      "displayName": "최선열",
      "photoUrl": "",
      "userId": "00663027191814710813"
     },
     "user_tz": -540
    },
    "id": "IKM4KxRYozcm",
    "outputId": "7cc4b65a-d846-4321-b2eb-4460a9f4af32"
   },
   "outputs": [],
   "source": [
    "shuffle(lst1) # using `shuffle()` from the `random` without the package name\n",
    "print(lst1)"
   ]
  },
  {
   "cell_type": "code",
   "execution_count": null,
   "metadata": {
    "colab": {
     "base_uri": "https://localhost:8080/",
     "height": 68
    },
    "colab_type": "code",
    "collapsed": true,
    "executionInfo": {
     "elapsed": 613,
     "status": "ok",
     "timestamp": 1550812727025,
     "user": {
      "displayName": "최선열",
      "photoUrl": "",
      "userId": "00663027191814710813"
     },
     "user_tz": -540
    },
    "id": "IKM4KxRYozcm",
    "outputId": "7cc4b65a-d846-4321-b2eb-4460a9f4af32"
   },
   "outputs": [],
   "source": [
    "rand_int = randint(1,100) # using `.randint()` from the `random` without the package name\n",
    "print(rand_int)"
   ]
  },
  {
   "cell_type": "markdown",
   "metadata": {
    "colab_type": "text",
    "id": "uAV_0b8KuJyb"
   },
   "source": [
    "### (2) Importing certain modules of a package\n",
    "\n",
    "There will be times you want only a certain part of a package imported in your file. For instance, if you only need the `shuffle()` function from the `random` package, import it as `from random import shuffle`. It explicitly says you're importing `shuffle()` only from the `random` package."
   ]
  },
  {
   "cell_type": "code",
   "execution_count": null,
   "metadata": {
    "colab": {},
    "colab_type": "code",
    "collapsed": true,
    "id": "qcQk4N9GuJyc"
   },
   "outputs": [],
   "source": [
    "from random import shuffle"
   ]
  },
  {
   "cell_type": "code",
   "execution_count": null,
   "metadata": {
    "colab": {},
    "colab_type": "code",
    "collapsed": true,
    "id": "IKSu091puJye",
    "outputId": "d48b13b9-53ad-4d1c-c74b-5ddaf94b3615"
   },
   "outputs": [],
   "source": [
    "lst1 = [1,2,3,4,5]\n",
    "shuffle(lst1)\n",
    "lst1"
   ]
  },
  {
   "cell_type": "markdown",
   "metadata": {
    "colab_type": "text",
    "id": "y7u0m-6rmAue"
   },
   "source": [
    "Or, if you need to import two or more modules of the package, do as follows."
   ]
  },
  {
   "cell_type": "code",
   "execution_count": null,
   "metadata": {
    "colab": {},
    "colab_type": "code",
    "collapsed": true,
    "id": "BqlpaMA6mLGL"
   },
   "outputs": [],
   "source": [
    "from random import choice, randint # importing choice and randint from the `random` package"
   ]
  },
  {
   "cell_type": "code",
   "execution_count": null,
   "metadata": {
    "colab": {
     "base_uri": "https://localhost:8080/",
     "height": 34
    },
    "colab_type": "code",
    "collapsed": true,
    "executionInfo": {
     "elapsed": 759,
     "status": "ok",
     "timestamp": 1550812111191,
     "user": {
      "displayName": "최선열",
      "photoUrl": "",
      "userId": "00663027191814710813"
     },
     "user_tz": -540
    },
    "id": "bM0jtR-rmm2G",
    "outputId": "3d239275-f485-466a-ec32-55503e191296"
   },
   "outputs": [],
   "source": [
    "lst1 = [1,2,3,4,5]\n",
    "choice(lst1)"
   ]
  },
  {
   "cell_type": "markdown",
   "metadata": {
    "colab_type": "text",
    "id": "w6S5A-dMuJyh"
   },
   "source": [
    "### (2) Importing a package under an alias\n",
    "\n",
    "\n",
    "\n",
    "If a package name is called too often or too long to repeatedly be manually typed, there is a way to call it more conveniently, namely by aliasing the package name. In Python convention, `numpy` is called as `np`, `pandas` as `pd`, or `BeautifulSoup` as `bs`, and these external packages are aliased while being imported as shown below."
   ]
  },
  {
   "cell_type": "code",
   "execution_count": null,
   "metadata": {
    "colab": {
     "base_uri": "https://localhost:8080/",
     "height": 34
    },
    "colab_type": "code",
    "collapsed": true,
    "executionInfo": {
     "elapsed": 1462,
     "status": "ok",
     "timestamp": 1550812888958,
     "user": {
      "displayName": "최선열",
      "photoUrl": "",
      "userId": "00663027191814710813"
     },
     "user_tz": -540
    },
    "id": "haDUA_n4uJyh",
    "outputId": "002d80cc-b699-432e-90a2-12096c8c9cf7"
   },
   "outputs": [],
   "source": [
    "# importing 'numpy' under 'np'\n",
    "import numpy as np\n",
    "# np.add()\n",
    "lst1 = [1,2,3,4,5]\n",
    "np.add(lst1, 1)"
   ]
  },
  {
   "cell_type": "markdown",
   "metadata": {
    "colab_type": "text",
    "id": "E5xyqXf2uJxt"
   },
   "source": [
    "## 3. Python standard package\n",
    "\n",
    "+ Python provides a number of standard packages as well.\n",
    "+ Examples of Python standard packages are `time`, `os`. Let's have a look at how to use them."
   ]
  },
  {
   "cell_type": "markdown",
   "metadata": {
    "colab_type": "text",
    "id": "mHW0cYdCuJxt"
   },
   "source": [
    "### (1) `time`\n",
    "`time` is a package used to measure time. A function `time()` of the `time` package  returns the current OS time in seconds. Let's look at an example."
   ]
  },
  {
   "cell_type": "code",
   "execution_count": 23,
   "metadata": {
    "colab": {},
    "colab_type": "code",
    "collapsed": true,
    "id": "3ymqoDrruJxv"
   },
   "outputs": [],
   "source": [
    "import time # imoprting `time` package"
   ]
  },
  {
   "cell_type": "code",
   "execution_count": 24,
   "metadata": {
    "colab": {
     "base_uri": "https://localhost:8080/",
     "height": 34
    },
    "colab_type": "code",
    "executionInfo": {
     "elapsed": 703,
     "status": "ok",
     "timestamp": 1550807558503,
     "user": {
      "displayName": "최선열",
      "photoUrl": "",
      "userId": "00663027191814710813"
     },
     "user_tz": -540
    },
    "id": "epveDb4HuJxw",
    "outputId": "da31f917-0fc8-40e8-a1a7-5ea5d681ec26"
   },
   "outputs": [
    {
     "data": {
      "text/plain": [
       "1609998628.570634"
      ]
     },
     "execution_count": 24,
     "metadata": {},
     "output_type": "execute_result"
    }
   ],
   "source": [
    "time.time() # returns the current OS time in seconds"
   ]
  },
  {
   "cell_type": "markdown",
   "metadata": {
    "colab_type": "text",
    "id": "TsE6URWluJx3"
   },
   "source": [
    "### (2) `os`\n",
    "`os` is a package that provides a portable way of using dependent OS functionality."
   ]
  },
  {
   "cell_type": "code",
   "execution_count": 2,
   "metadata": {
    "colab": {},
    "colab_type": "code",
    "id": "frBlfN4buJx4"
   },
   "outputs": [],
   "source": [
    "import os"
   ]
  },
  {
   "cell_type": "markdown",
   "metadata": {
    "colab_type": "text",
    "id": "QfkEY9iquJx6"
   },
   "source": [
    "For instance, `os.listdir()` allows you to get names of all files in a directory."
   ]
  },
  {
   "cell_type": "code",
   "execution_count": 3,
   "metadata": {
    "colab": {
     "base_uri": "https://localhost:8080/",
     "height": 34
    },
    "colab_type": "code",
    "executionInfo": {
     "elapsed": 581,
     "status": "ok",
     "timestamp": 1550807756202,
     "user": {
      "displayName": "최선열",
      "photoUrl": "",
      "userId": "00663027191814710813"
     },
     "user_tz": -540
    },
    "id": "VXJyvlgEuJx7",
    "outputId": "3a2ff6b1-8e70-492c-861f-757d28e77674"
   },
   "outputs": [
    {
     "data": {
      "text/plain": [
       "['.ipynb_checkpoints',\n",
       " '0.Introduction_to_Python_Programming.pdf',\n",
       " 'A. Python_overview.ipynb',\n",
       " 'B. Variables_and_Operations_final.ipynb',\n",
       " 'C. Data_Structure_final.ipynb',\n",
       " 'D. Control_Flow_Statement_final.ipynb',\n",
       " 'E. Python_Functions_and_Packages.ipynb',\n",
       " 'F. Object-Oriented_Programming (OOP)-Python_Classes_and_Class_Inheritance.ipynb',\n",
       " 'pdf']"
      ]
     },
     "execution_count": 3,
     "metadata": {},
     "output_type": "execute_result"
    }
   ],
   "source": [
    "os.listdir(\"./\") # getting a name list of files in the current directory"
   ]
  },
  {
   "cell_type": "code",
   "execution_count": 4,
   "metadata": {
    "colab": {
     "base_uri": "https://localhost:8080/",
     "height": 442
    },
    "colab_type": "code",
    "executionInfo": {
     "elapsed": 581,
     "status": "ok",
     "timestamp": 1550807760259,
     "user": {
      "displayName": "최선열",
      "photoUrl": "",
      "userId": "00663027191814710813"
     },
     "user_tz": -540
    },
    "id": "TZWI4iiyuJx8",
    "outputId": "657725de-2bcf-4479-9514-469a47260bd5",
    "scrolled": false
   },
   "outputs": [
    {
     "data": {
      "text/plain": [
       "['0_Introduction_to_PAI_Data_Science_Bootcamp',\n",
       " '1_Introduction_to_the_world_of_data_science',\n",
       " '2_Python',\n",
       " '3_Numpy',\n",
       " '4_Pandas',\n",
       " '5_Data_loading_and_saving',\n",
       " '6_Data_visualisation',\n",
       " '7.Introduction_to_Machine_Learning',\n",
       " 'Introduction to WCO_Edu Programme']"
      ]
     },
     "execution_count": 4,
     "metadata": {},
     "output_type": "execute_result"
    }
   ],
   "source": [
    "os.listdir(\"../\") # getting all file names in the parent directory"
   ]
  }
 ],
 "metadata": {
  "colab": {
   "collapsed_sections": [
    "FkAkLgIouJwk",
    "2Upmg5J8uJwu",
    "CCTPOlXNuJw2",
    "qSnYnh4luJw-",
    "xREZ5KJ8uJxC",
    "z-fWdiacuJxD",
    "eAU6C2JFuJxI",
    "mlhv3F1KuJxL",
    "WjhVLp66uJxQ",
    "9bR9zPKjuJxZ",
    "mHW0cYdCuJxt",
    "TsE6URWluJx3",
    "QfkEY9iquJx6",
    "00lKkR7auJx_",
    "4R4GVuicuJyC",
    "5UlnzoB4uJyE",
    "nhcliZtquJyH",
    "wmNkiLSduJyM",
    "W2nod0xvuJyU",
    "uAV_0b8KuJyb",
    "w6S5A-dMuJyh"
   ],
   "name": "7_Python의 함수와 패키지들.ipynb",
   "provenance": [],
   "toc_visible": true,
   "version": "0.3.2"
  },
  "kernelspec": {
   "display_name": "Python 3",
   "language": "python",
   "name": "python3"
  },
  "language_info": {
   "codemirror_mode": {
    "name": "ipython",
    "version": 3
   },
   "file_extension": ".py",
   "mimetype": "text/x-python",
   "name": "python",
   "nbconvert_exporter": "python",
   "pygments_lexer": "ipython3",
   "version": "3.7.0"
  },
  "toc": {
   "base_numbering": 1,
   "nav_menu": {},
   "number_sections": false,
   "sideBar": true,
   "skip_h1_title": false,
   "title_cell": "Table of Contents",
   "title_sidebar": "Contents",
   "toc_cell": false,
   "toc_position": {
    "height": "calc(100% - 180px)",
    "left": "10px",
    "top": "150px",
    "width": "331.849px"
   },
   "toc_section_display": true,
   "toc_window_display": true
  },
  "varInspector": {
   "cols": {
    "lenName": 16,
    "lenType": 16,
    "lenVar": 40
   },
   "kernels_config": {
    "python": {
     "delete_cmd_postfix": "",
     "delete_cmd_prefix": "del ",
     "library": "var_list.py",
     "varRefreshCmd": "print(var_dic_list())"
    },
    "r": {
     "delete_cmd_postfix": ") ",
     "delete_cmd_prefix": "rm(",
     "library": "var_list.r",
     "varRefreshCmd": "cat(var_dic_list()) "
    }
   },
   "types_to_exclude": [
    "module",
    "function",
    "builtin_function_or_method",
    "instance",
    "_Feature"
   ],
   "window_display": false
  }
 },
 "nbformat": 4,
 "nbformat_minor": 2
}
