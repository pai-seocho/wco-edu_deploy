{
 "cells": [
  {
   "cell_type": "markdown",
   "metadata": {},
   "source": [
    "# B. Variables and Operations\n",
    "\n",
    "\n",
    "We say, computers can store and manipulate data using variables. Python is a high-level programming language that allows its users to create and manipulate those variables very concisely compared to other programming languages like C, Java, etc. <br><br>\n",
    "This week, we'll take a look at basic Python with a focus on `CRUD(Create, Read, Update, and Delete)` for data manipulation.<br><br>\n",
    "In section 2, we will learn how to create and manipulate variables for each data type (e.g. string, integer, etc) using Python ."
   ]
  },
  {
   "cell_type": "markdown",
   "metadata": {},
   "source": [
    "### _Objective_\n",
    "1. **Python Variables**: Understanding the definition and characteristics of Python variables.<br>\n",
    "2. **Basic Data Types and Operators in Python**: Understanding Python data types and operators. \n"
   ]
  },
  {
   "cell_type": "markdown",
   "metadata": {
    "colab_type": "text",
    "id": "nMFEI34vF7L9"
   },
   "source": [
    "# \\[1. Python Variables\\]"
   ]
  },
  {
   "cell_type": "markdown",
   "metadata": {
    "colab_type": "text",
    "id": "RURMh7c3F7L9"
   },
   "source": [
    "## 1. What is a Variable?\n",
    "\n",
    "+ In python, a variable is a reserved memory space(identified by a memory address) paired with an associated symbolic name in the data storage."
   ]
  },
  {
   "cell_type": "markdown",
   "metadata": {},
   "source": [
    "<img src=\"https://i.imgur.com/sia1RaB.png\" align=left width=\"400\" height=\"450\">"
   ]
  },
  {
   "cell_type": "markdown",
   "metadata": {},
   "source": [
    "\n",
    "## 2. Variables in Python \n",
    "\n",
    "+ In Python, a variable can store data under a symbolic name, and the name is used for data access.\n",
    "\n",
    "+ You can assign **values**, **variables**, or even **results of operations** to a variable"
   ]
  },
  {
   "cell_type": "markdown",
   "metadata": {
    "colab_type": "text",
    "id": "Ogrrzdw8F7L-"
   },
   "source": [
    "### (1) Assigning a value to a variable \n",
    "\n",
    "In Python, you can create a variable by assigning a value to it using an assignment operator `=`.<br>\n",
    "It's also possible to assign a value to an existing variable by overwriting it with a new value."
   ]
  },
  {
   "cell_type": "code",
   "execution_count": 1,
   "metadata": {
    "colab": {},
    "colab_type": "code",
    "collapsed": true,
    "id": "eKL9Sg3eF7MA"
   },
   "outputs": [],
   "source": [
    "a = True # Boolean (true or false) \n",
    "x = 1 # integer \n",
    "y = 1.2 # float \n",
    "z = \"string\" # string \n",
    "\n",
    "lst = [1,2,3,4,\"a\",\"b\",\"c\",\"d\"] # list "
   ]
  },
  {
   "cell_type": "code",
   "execution_count": 2,
   "metadata": {
    "colab": {},
    "colab_type": "code",
    "collapsed": true,
    "id": "cnuLAcLtF7MF"
   },
   "outputs": [],
   "source": [
    "# You can overwrite the old value with a new value of any data type to an existing variable.\n",
    "# For instance, 1 in x is overwritten by a string \"Hello python\"\n",
    "\n",
    "x = \"hello python\""
   ]
  },
  {
   "cell_type": "markdown",
   "metadata": {},
   "source": [
    "### (2) Naming conventions for variables\n",
    " - All variable names **must** begin with an alphabet or an underscore(`_`).\n",
    " - variable names can contain letters and numbers, but no whitespace or special characters are allowed.\n",
    " - Keywords such as \"True\", \"False\" or \"if\" cannot be used in a variable name.\n",
    " - Finally, a variable name should represent the values the variable is holding.\n"
   ]
  },
  {
   "cell_type": "code",
   "execution_count": 3,
   "metadata": {
    "colab": {},
    "colab_type": "code",
    "collapsed": true,
    "id": "_xFi-9QgF7MI"
   },
   "outputs": [],
   "source": [
    "# A variable name with letters and numbers\n",
    "hello1 = \"Hello Python\""
   ]
  },
  {
   "cell_type": "code",
   "execution_count": 4,
   "metadata": {
    "colab": {
     "base_uri": "https://localhost:8080/",
     "height": 130
    },
    "colab_type": "code",
    "executionInfo": {
     "elapsed": 570,
     "status": "error",
     "timestamp": 1550737156018,
     "user": {
      "displayName": "최선열",
      "photoUrl": "",
      "userId": "00663027191814710813"
     },
     "user_tz": -540
    },
    "id": "vIUbcWiKF7ML",
    "outputId": "0b984f92-29af-43f3-c513-9249013123ed",
    "scrolled": true
   },
   "outputs": [
    {
     "ename": "SyntaxError",
     "evalue": "invalid syntax (<ipython-input-4-377151ca9ac5>, line 2)",
     "output_type": "error",
     "traceback": [
      "\u001b[0;36m  File \u001b[0;32m\"<ipython-input-4-377151ca9ac5>\"\u001b[0;36m, line \u001b[0;32m2\u001b[0m\n\u001b[0;31m    1hello = \"Hello Python\"\u001b[0m\n\u001b[0m         ^\u001b[0m\n\u001b[0;31mSyntaxError\u001b[0m\u001b[0;31m:\u001b[0m invalid syntax\n"
     ]
    }
   ],
   "source": [
    "# However, variable names cannot begin with numbers\n",
    "1hello = \"Hello Python\" "
   ]
  },
  {
   "cell_type": "markdown",
   "metadata": {},
   "source": [
    "You can also use underscores `(_)` to denote whitespaces or make a variable name more human-readable. Though, underscores sometimes have special meanings in various python scenarios, and we will discuss it later.(Reference: [PEP 8 : Naming Conventions](https://www.python.org/dev/peps/pep-0008/#naming-conventions))"
   ]
  },
  {
   "cell_type": "code",
   "execution_count": 5,
   "metadata": {
    "collapsed": true
   },
   "outputs": [],
   "source": [
    "# A variable name cannot have whitespaces, but underscores(`_`)\n",
    "greet_person = \"Hello Everyone!\" "
   ]
  },
  {
   "cell_type": "markdown",
   "metadata": {},
   "source": [
    "Also, every programming language has some reserved words that are not supported as variable names. These are called **'keywords'** and perform predefined functions. (Reference: [Python Keywords] (https://www.w3schools.com/python/python_ref_keywords.asp))"
   ]
  },
  {
   "cell_type": "code",
   "execution_count": 6,
   "metadata": {
    "scrolled": true
   },
   "outputs": [
    {
     "ename": "SyntaxError",
     "evalue": "invalid syntax (<ipython-input-6-742183496785>, line 1)",
     "output_type": "error",
     "traceback": [
      "\u001b[0;36m  File \u001b[0;32m\"<ipython-input-6-742183496785>\"\u001b[0;36m, line \u001b[0;32m1\u001b[0m\n\u001b[0;31m    try = 1 # 'try' is a keyword and occurs an error when used as a variable name\u001b[0m\n\u001b[0m        ^\u001b[0m\n\u001b[0;31mSyntaxError\u001b[0m\u001b[0;31m:\u001b[0m invalid syntax\n"
     ]
    }
   ],
   "source": [
    "try = 1 # 'try' is a keyword and occurs an error when used as a variable name"
   ]
  },
  {
   "cell_type": "code",
   "execution_count": 7,
   "metadata": {},
   "outputs": [
    {
     "ename": "SyntaxError",
     "evalue": "can't assign to keyword (<ipython-input-7-5be139665657>, line 1)",
     "output_type": "error",
     "traceback": [
      "\u001b[0;36m  File \u001b[0;32m\"<ipython-input-7-5be139665657>\"\u001b[0;36m, line \u001b[0;32m1\u001b[0m\n\u001b[0;31m    True = 1 # 'True' is a keyword and occurs an error when used as a variable name\u001b[0m\n\u001b[0m                                                                                   ^\u001b[0m\n\u001b[0;31mSyntaxError\u001b[0m\u001b[0;31m:\u001b[0m can't assign to keyword\n"
     ]
    }
   ],
   "source": [
    "True = 1 # 'True' is a keyword and occurs an error when used as a variable name"
   ]
  },
  {
   "cell_type": "markdown",
   "metadata": {
    "colab_type": "text",
    "id": "8SO3JN_zF7Ma"
   },
   "source": [
    "### (3) Storing a **calculated value** to a variable \n",
    "\n",
    "Variables can store results of calculations. "
   ]
  },
  {
   "cell_type": "code",
   "execution_count": 8,
   "metadata": {
    "colab": {},
    "colab_type": "code",
    "id": "Szt_qp64F7Mb",
    "outputId": "17867b2a-4a9f-41d4-f038-96053049e3a4",
    "scrolled": true
   },
   "outputs": [
    {
     "data": {
      "text/plain": [
       "3"
      ]
     },
     "execution_count": 8,
     "metadata": {},
     "output_type": "execute_result"
    }
   ],
   "source": [
    "# `x` stores 3 which is the outcome of 1 + 2 \n",
    "x = 1 + 2\n",
    "x"
   ]
  },
  {
   "cell_type": "markdown",
   "metadata": {
    "colab_type": "text",
    "id": "oHX7y_zWF7MP"
   },
   "source": [
    "\n",
    "### (4) Assigning a variable to a variable\n",
    "\n",
    "A variable can store variables besides values. When a variable is assigned to another variable, the two variables refer to the same data (in the same memory space) without creating any new value.\n",
    "In the examples below, you can see that the two variables, `x` and `y`, refer to the same memory space when `x` is assigned to `y`.\n"
   ]
  },
  {
   "cell_type": "code",
   "execution_count": 9,
   "metadata": {
    "colab": {},
    "colab_type": "code",
    "id": "K_mcsnG1F7MW",
    "outputId": "c4db2400-ee01-4275-e59f-4b15bf62a0eb"
   },
   "outputs": [
    {
     "name": "stdout",
     "output_type": "stream",
     "text": [
      "x :  1\n",
      "y :  1\n",
      "id(x) :  4315338160\n",
      "id(y) :  4315338160\n"
     ]
    }
   ],
   "source": [
    "# Create a variable named `x` holding a value and assign it to another variable `y`\n",
    "x = 1\n",
    "y = x\n",
    "\n",
    "print(\"x : \",x)\n",
    "print(\"y : \",y)\n",
    "print(\"id(x) : \", id(x))\n",
    "print(\"id(y) : \", id(y))"
   ]
  },
  {
   "cell_type": "markdown",
   "metadata": {},
   "source": [
    "### (5) Deleting variables \n",
    "\n",
    "When a variable is no longer needed, you can simply delete it with `del` keyword as shown below."
   ]
  },
  {
   "cell_type": "code",
   "execution_count": 10,
   "metadata": {},
   "outputs": [
    {
     "ename": "NameError",
     "evalue": "name 'x' is not defined",
     "output_type": "error",
     "traceback": [
      "\u001b[0;31m---------------------------------------------------------------------------\u001b[0m",
      "\u001b[0;31mNameError\u001b[0m                                 Traceback (most recent call last)",
      "\u001b[0;32m<ipython-input-10-f422ddb01c4d>\u001b[0m in \u001b[0;36m<module>\u001b[0;34m\u001b[0m\n\u001b[1;32m      1\u001b[0m \u001b[0;32mdel\u001b[0m \u001b[0mx\u001b[0m\u001b[0;34m\u001b[0m\u001b[0;34m\u001b[0m\u001b[0m\n\u001b[0;32m----> 2\u001b[0;31m \u001b[0mid\u001b[0m\u001b[0;34m(\u001b[0m\u001b[0mx\u001b[0m\u001b[0;34m)\u001b[0m\u001b[0;34m\u001b[0m\u001b[0;34m\u001b[0m\u001b[0m\n\u001b[0m",
      "\u001b[0;31mNameError\u001b[0m: name 'x' is not defined"
     ]
    }
   ],
   "source": [
    "del x\n",
    "id(x)"
   ]
  },
  {
   "cell_type": "markdown",
   "metadata": {},
   "source": [
    "Once a variable is deleted, the variable will not be accessible anymore."
   ]
  },
  {
   "cell_type": "markdown",
   "metadata": {
    "colab_type": "text",
    "id": "JbzIeBo7F7Me"
   },
   "source": [
    "# \\[2. Standard Data Types and Operators in Python\\]\n",
    "\n",
    "Python supports four standard data types, namely **Integer**, **Float**, **Boolean**, **String**, and provides a number of operators for data manipulation. Since each data type supports a different set of operators, or same operators sometimes perform different tasks for each data type, it's important to know how the operators work on each data type.\n",
    "\n",
    "Then, let's take a look at data types and operators in more detail.\n",
    "\n"
   ]
  },
  {
   "cell_type": "markdown",
   "metadata": {
    "colab_type": "text",
    "id": "8mLoBjqCF7Me"
   },
   "source": [
    "## 1. Integer/Float\n",
    "\n",
    "+ In Python, there are two data types for numerical data, which are **integers** and **floating-point numbers (abbr. floats)**\n",
    "+ Integer and float basically support the four basic arithmetic operators, **`+`, `-`, `*`, `/`** respectively to add, subtract, multiply, and divide values.\n",
    "+ Besides, operators such as floor division(`//`), Modulo(`%`), and exponentiation(`**`) can be used on integers/floats"
   ]
  },
  {
   "cell_type": "code",
   "execution_count": 11,
   "metadata": {},
   "outputs": [
    {
     "name": "stdout",
     "output_type": "stream",
     "text": [
      "<class 'int'> 1 is an integer, abbreviated as int.\n",
      "<class 'float'> 1.2 is a floating-point number, abbreviated as float.\n"
     ]
    }
   ],
   "source": [
    "# `type()` returns the data type of value inserted.\n",
    "\n",
    "print(type(1), '1 is an integer, abbreviated as int.')\n",
    "print(type(1.2), '1.2 is a floating-point number, abbreviated as float.')"
   ]
  },
  {
   "cell_type": "markdown",
   "metadata": {},
   "source": [
    "### (1) Four standard arithmetic operations"
   ]
  },
  {
   "cell_type": "markdown",
   "metadata": {
    "colab_type": "text",
    "id": "xtKhM9-9F7Mg"
   },
   "source": [
    "#### Addition"
   ]
  },
  {
   "cell_type": "code",
   "execution_count": 12,
   "metadata": {
    "colab": {},
    "colab_type": "code",
    "id": "4cegFAIrF7Mg",
    "outputId": "edadd77f-2a67-40db-bd83-7733e2bdae7e"
   },
   "outputs": [
    {
     "data": {
      "text/plain": [
       "3"
      ]
     },
     "execution_count": 12,
     "metadata": {},
     "output_type": "execute_result"
    }
   ],
   "source": [
    "1 + 2"
   ]
  },
  {
   "cell_type": "code",
   "execution_count": 13,
   "metadata": {
    "colab": {},
    "colab_type": "code",
    "id": "9Ebi4deTF7Mj",
    "outputId": "c4973b6f-9bfa-410d-d7f7-6043eaca5889",
    "scrolled": false
   },
   "outputs": [
    {
     "data": {
      "text/plain": [
       "2.2"
      ]
     },
     "execution_count": 13,
     "metadata": {},
     "output_type": "execute_result"
    }
   ],
   "source": [
    "# When calculating integer and floating-point values, the result is returned as floating point.\n",
    "1 + 1.2 "
   ]
  },
  {
   "cell_type": "markdown",
   "metadata": {
    "colab_type": "text",
    "id": "ok6GtGgzF7Mt"
   },
   "source": [
    "####  Subtraction"
   ]
  },
  {
   "cell_type": "code",
   "execution_count": 14,
   "metadata": {
    "colab": {},
    "colab_type": "code",
    "id": "Hnk65HGUF7Mv",
    "outputId": "b5d29bf1-570c-4346-9642-b706b9e15f66"
   },
   "outputs": [
    {
     "data": {
      "text/plain": [
       "1"
      ]
     },
     "execution_count": 14,
     "metadata": {},
     "output_type": "execute_result"
    }
   ],
   "source": [
    "3 - 2 "
   ]
  },
  {
   "cell_type": "code",
   "execution_count": 15,
   "metadata": {
    "colab": {},
    "colab_type": "code",
    "id": "Mj9MUeU1F7M2",
    "outputId": "2761e4fc-fa7b-4c5c-e735-a11453e2c6a2"
   },
   "outputs": [
    {
     "data": {
      "text/plain": [
       "1.6"
      ]
     },
     "execution_count": 15,
     "metadata": {},
     "output_type": "execute_result"
    }
   ],
   "source": [
    "3 - 1.4"
   ]
  },
  {
   "cell_type": "markdown",
   "metadata": {
    "colab_type": "text",
    "id": "_LYX9p_gF7NC"
   },
   "source": [
    "#### Multiplication"
   ]
  },
  {
   "cell_type": "code",
   "execution_count": 16,
   "metadata": {
    "colab": {},
    "colab_type": "code",
    "id": "Gz4C0HdFF7ND",
    "outputId": "6f2963de-b419-4560-8af4-1cd9f9584331"
   },
   "outputs": [
    {
     "data": {
      "text/plain": [
       "6"
      ]
     },
     "execution_count": 16,
     "metadata": {},
     "output_type": "execute_result"
    }
   ],
   "source": [
    "3 * 2"
   ]
  },
  {
   "cell_type": "code",
   "execution_count": 17,
   "metadata": {
    "colab": {},
    "colab_type": "code",
    "id": "ptZYAFp6F7NH",
    "outputId": "cca20d35-7fc4-4af8-8d27-c3f59bb869ad"
   },
   "outputs": [
    {
     "data": {
      "text/plain": [
       "6.4"
      ]
     },
     "execution_count": 17,
     "metadata": {},
     "output_type": "execute_result"
    }
   ],
   "source": [
    "3.2 * 2"
   ]
  },
  {
   "cell_type": "markdown",
   "metadata": {
    "colab_type": "text",
    "id": "zD6wCrC1F7NN"
   },
   "source": [
    "#### Division"
   ]
  },
  {
   "cell_type": "code",
   "execution_count": 18,
   "metadata": {
    "colab": {},
    "colab_type": "code",
    "id": "NqGCKgf2F7NO",
    "outputId": "a58eaf59-71d8-424d-b60a-6bb58ab7a4aa"
   },
   "outputs": [
    {
     "data": {
      "text/plain": [
       "2.0"
      ]
     },
     "execution_count": 18,
     "metadata": {},
     "output_type": "execute_result"
    }
   ],
   "source": [
    "4 / 2 # `/` returns a float by default"
   ]
  },
  {
   "cell_type": "code",
   "execution_count": 19,
   "metadata": {
    "colab": {},
    "colab_type": "code",
    "id": "0xBVOfP3F7NS",
    "outputId": "05ad4a2c-2b9a-44f1-d54e-9c9d8ad6ef1e"
   },
   "outputs": [
    {
     "data": {
      "text/plain": [
       "2.0"
      ]
     },
     "execution_count": 19,
     "metadata": {},
     "output_type": "execute_result"
    }
   ],
   "source": [
    "4.2 / 2.1"
   ]
  },
  {
   "cell_type": "code",
   "execution_count": 20,
   "metadata": {
    "colab": {},
    "colab_type": "code",
    "id": "Bpckh74YF7NV",
    "outputId": "6f1a7a27-a96b-4f74-d06e-c58ba050dc0d",
    "scrolled": true
   },
   "outputs": [
    {
     "ename": "ZeroDivisionError",
     "evalue": "float division by zero",
     "output_type": "error",
     "traceback": [
      "\u001b[0;31m---------------------------------------------------------------------------\u001b[0m",
      "\u001b[0;31mZeroDivisionError\u001b[0m                         Traceback (most recent call last)",
      "\u001b[0;32m<ipython-input-20-51ec7350e112>\u001b[0m in \u001b[0;36m<module>\u001b[0;34m\u001b[0m\n\u001b[0;32m----> 1\u001b[0;31m \u001b[0;36m4.2\u001b[0m \u001b[0;34m/\u001b[0m \u001b[0;36m0\u001b[0m \u001b[0;31m# An attempt to divide a float by zero occurs `ZeroDivisionError`\u001b[0m\u001b[0;34m\u001b[0m\u001b[0;34m\u001b[0m\u001b[0m\n\u001b[0m",
      "\u001b[0;31mZeroDivisionError\u001b[0m: float division by zero"
     ]
    }
   ],
   "source": [
    "4.2 / 0 # dividing a float by zero returns `ZeroDivisionError`"
   ]
  },
  {
   "cell_type": "markdown",
   "metadata": {},
   "source": [
    "### (2) More on Operators"
   ]
  },
  {
   "cell_type": "markdown",
   "metadata": {
    "colab_type": "text",
    "id": "fMRVmGMlF7NY"
   },
   "source": [
    "#### Floor division"
   ]
  },
  {
   "cell_type": "code",
   "execution_count": 21,
   "metadata": {
    "colab": {},
    "colab_type": "code",
    "id": "cexpcPmiF7NY",
    "outputId": "61b86700-d07d-463b-a8a5-1f37d2663b98"
   },
   "outputs": [
    {
     "data": {
      "text/plain": [
       "2"
      ]
     },
     "execution_count": 21,
     "metadata": {},
     "output_type": "execute_result"
    }
   ],
   "source": [
    "5 // 2 # returns only the quotient"
   ]
  },
  {
   "cell_type": "markdown",
   "metadata": {
    "colab_type": "text",
    "id": "g7IXuy0XF7Nc"
   },
   "source": [
    "#### Modulo"
   ]
  },
  {
   "cell_type": "code",
   "execution_count": 22,
   "metadata": {
    "colab": {},
    "colab_type": "code",
    "id": "SNoxYDsZF7Nc",
    "outputId": "cb3c9f2c-d5a3-4839-9e3d-78ab268d4c83"
   },
   "outputs": [
    {
     "data": {
      "text/plain": [
       "1"
      ]
     },
     "execution_count": 22,
     "metadata": {},
     "output_type": "execute_result"
    }
   ],
   "source": [
    "5 % 2 # returns only the remainder"
   ]
  },
  {
   "cell_type": "markdown",
   "metadata": {
    "colab_type": "text",
    "id": "RiUBl_BGF7Ng"
   },
   "source": [
    "#### Exponentiation\n",
    "\n",
    "$3**2 = 3^2$"
   ]
  },
  {
   "cell_type": "code",
   "execution_count": 23,
   "metadata": {
    "colab": {
     "base_uri": "https://localhost:8080/",
     "height": 34
    },
    "colab_type": "code",
    "executionInfo": {
     "elapsed": 701,
     "status": "ok",
     "timestamp": 1550737468521,
     "user": {
      "displayName": "최선열",
      "photoUrl": "",
      "userId": "00663027191814710813"
     },
     "user_tz": -540
    },
    "id": "Dgro0GgeF7Nh",
    "outputId": "ab77c0de-4139-47bf-ca0a-5e45ec82f24d"
   },
   "outputs": [
    {
     "data": {
      "text/plain": [
       "9"
      ]
     },
     "execution_count": 23,
     "metadata": {},
     "output_type": "execute_result"
    }
   ],
   "source": [
    "3 ** 2"
   ]
  },
  {
   "cell_type": "code",
   "execution_count": 24,
   "metadata": {
    "colab": {
     "base_uri": "https://localhost:8080/",
     "height": 34
    },
    "colab_type": "code",
    "executionInfo": {
     "elapsed": 433,
     "status": "ok",
     "timestamp": 1550737468523,
     "user": {
      "displayName": "최선열",
      "photoUrl": "",
      "userId": "00663027191814710813"
     },
     "user_tz": -540
    },
    "id": "gGjCqic5F7Nm",
    "outputId": "89c9ac61-61ec-4d26-f544-8a48c488da94"
   },
   "outputs": [
    {
     "data": {
      "text/plain": [
       "10.04510856630514"
      ]
     },
     "execution_count": 24,
     "metadata": {},
     "output_type": "execute_result"
    }
   ],
   "source": [
    "3 ** 2.1"
   ]
  },
  {
   "cell_type": "markdown",
   "metadata": {},
   "source": [
    "### (3) Assigning a formula to a variable"
   ]
  },
  {
   "cell_type": "markdown",
   "metadata": {
    "colab_type": "text",
    "id": "PPwIqaaGeGu9"
   },
   "source": [
    "#### Arithmetic Operations using variables\n",
    "\n",
    "Given $x=3,  y=2$, you can simply use the variables in arithmetic calculations just as $x^2 + y^3 + 2xy+3x + 4y$."
   ]
  },
  {
   "cell_type": "code",
   "execution_count": 25,
   "metadata": {
    "colab": {
     "base_uri": "https://localhost:8080/",
     "height": 34
    },
    "colab_type": "code",
    "executionInfo": {
     "elapsed": 832,
     "status": "ok",
     "timestamp": 1550743057968,
     "user": {
      "displayName": "최선열",
      "photoUrl": "",
      "userId": "00663027191814710813"
     },
     "user_tz": -540
    },
    "id": "cFnEnpn_dwJN",
    "outputId": "e3f80b43-0812-421f-d93b-24f8a137bc87",
    "scrolled": true
   },
   "outputs": [
    {
     "data": {
      "text/plain": [
       "46"
      ]
     },
     "execution_count": 25,
     "metadata": {},
     "output_type": "execute_result"
    }
   ],
   "source": [
    "x = 3\n",
    "y = 2\n",
    "x**2 + y**3 + 2*x*y + 3*x + 4*y"
   ]
  },
  {
   "cell_type": "markdown",
   "metadata": {
    "colab_type": "text",
    "id": "qOhWUhQ9dzNe"
   },
   "source": [
    "### (4) Order of operations with parentheses ()\n",
    "\n",
    "Just as in mathematics, you can use parentheses, `()`, to set the order of operations.<Br>\n",
    "\n",
    " Given $x=3,y=2$,<br>\n",
    " $x^2 + y^3 + 2xy+ 3(x + 4y)$ will be calculated as $3^2 + 3^3 + 2*3*2+ 3(3 + 4*2)$, returning 62 as the result.\n",
    "\n"
   ]
  },
  {
   "cell_type": "code",
   "execution_count": 26,
   "metadata": {
    "colab": {
     "base_uri": "https://localhost:8080/",
     "height": 34
    },
    "colab_type": "code",
    "executionInfo": {
     "elapsed": 618,
     "status": "ok",
     "timestamp": 1550742675657,
     "user": {
      "displayName": "최선열",
      "photoUrl": "",
      "userId": "00663027191814710813"
     },
     "user_tz": -540
    },
    "id": "ck_6GQwNd1c6",
    "outputId": "97e99782-b0c7-4eed-c255-e065eb7f3856"
   },
   "outputs": [
    {
     "data": {
      "text/plain": [
       "62"
      ]
     },
     "execution_count": 26,
     "metadata": {},
     "output_type": "execute_result"
    }
   ],
   "source": [
    "x = 3\n",
    "y = 2\n",
    "x**2 + y**3 + 2*x*y + 3*(x + 4*y)"
   ]
  },
  {
   "cell_type": "markdown",
   "metadata": {
    "colab_type": "text",
    "id": "VyoVX_6rF7Nz"
   },
   "source": [
    "\n",
    "##  2. Comparison Operators and Boolean\n",
    "\n",
    "\n",
    "+ In Python, Boolean is a data type that only represents one of two possible logical values, **'True' or 'False**'.  \n",
    "\n",
    "\n",
    "+ Comparison operators compare two operands and return a Boolean value.\n"
   ]
  },
  {
   "cell_type": "markdown",
   "metadata": {},
   "source": [
    "### (1) Comparison operators\n",
    "\n",
    "| Operators | Name |\n",
    "| --------- | ----------- |\n",
    "|   a == b  | Equal |\n",
    "|   a != b  | Not Equal  |\n",
    "|   a > b   | a is greater than b |\n",
    "|   a >= b  | a is greater than or equal to b |\n",
    "|   a < b   | a is less than b |\n",
    "|   a <= b  | a is less than or equal to b | <br> <br>\n",
    "\n",
    "+ Comparison operators compare two values and return either 'True' or 'False'\n",
    "+ In most cases, comparison operators do the same tasks as those in math.\n",
    "+ `!=` and `>=` cannot be written inversely as `=!` or `=>`.\n",
    "<br>\n"
   ]
  },
  {
   "cell_type": "markdown",
   "metadata": {
    "colab_type": "text",
    "id": "ziETakfhF7N0"
   },
   "source": [
    "#### ==  (Equal)"
   ]
  },
  {
   "cell_type": "code",
   "execution_count": 27,
   "metadata": {
    "colab": {},
    "colab_type": "code",
    "id": "c46r-eyRF7N1",
    "outputId": "ac040fa9-75b0-4587-d1e7-646c75ea6c23"
   },
   "outputs": [
    {
     "data": {
      "text/plain": [
       "True"
      ]
     },
     "execution_count": 27,
     "metadata": {},
     "output_type": "execute_result"
    }
   ],
   "source": [
    "1 == 1"
   ]
  },
  {
   "cell_type": "markdown",
   "metadata": {
    "colab_type": "text",
    "id": "5Y8QhuACF7N9"
   },
   "source": [
    "#### != (Not equal)"
   ]
  },
  {
   "cell_type": "code",
   "execution_count": 28,
   "metadata": {
    "colab": {},
    "colab_type": "code",
    "id": "KDw-wyYLF7N9",
    "outputId": "b74a5634-29af-447c-ba92-b9fadb9a1b06"
   },
   "outputs": [
    {
     "data": {
      "text/plain": [
       "True"
      ]
     },
     "execution_count": 28,
     "metadata": {},
     "output_type": "execute_result"
    }
   ],
   "source": [
    "1 != 2"
   ]
  },
  {
   "cell_type": "markdown",
   "metadata": {
    "colab_type": "text",
    "id": "KHz4hp2DF7OG"
   },
   "source": [
    "#### > (Greater)"
   ]
  },
  {
   "cell_type": "code",
   "execution_count": 29,
   "metadata": {
    "colab": {},
    "colab_type": "code",
    "id": "-yiDH-IBF7OH",
    "outputId": "4ddf4c03-fc5b-4964-eb8f-981c650a0083",
    "scrolled": true
   },
   "outputs": [
    {
     "data": {
      "text/plain": [
       "False"
      ]
     },
     "execution_count": 29,
     "metadata": {},
     "output_type": "execute_result"
    }
   ],
   "source": [
    "2 > 2"
   ]
  },
  {
   "cell_type": "code",
   "execution_count": 30,
   "metadata": {},
   "outputs": [
    {
     "data": {
      "text/plain": [
       "True"
      ]
     },
     "execution_count": 30,
     "metadata": {},
     "output_type": "execute_result"
    }
   ],
   "source": [
    "'a' <= 'b' # it can also be used on string data"
   ]
  },
  {
   "cell_type": "markdown",
   "metadata": {
    "colab_type": "text",
    "id": "h4MX1JgTF7OQ"
   },
   "source": [
    "#### >= (Equal or greater than)"
   ]
  },
  {
   "cell_type": "code",
   "execution_count": 31,
   "metadata": {
    "colab": {},
    "colab_type": "code",
    "id": "O0yjwQQxF7OS",
    "outputId": "26589b50-5a5a-455f-a93e-973525466b79"
   },
   "outputs": [
    {
     "data": {
      "text/plain": [
       "True"
      ]
     },
     "execution_count": 31,
     "metadata": {},
     "output_type": "execute_result"
    }
   ],
   "source": [
    "2 >= 2"
   ]
  },
  {
   "cell_type": "code",
   "execution_count": 32,
   "metadata": {
    "scrolled": false
   },
   "outputs": [
    {
     "ename": "SyntaxError",
     "evalue": "invalid syntax (<ipython-input-32-21952c1769a0>, line 1)",
     "output_type": "error",
     "traceback": [
      "\u001b[0;36m  File \u001b[0;32m\"<ipython-input-32-21952c1769a0>\"\u001b[0;36m, line \u001b[0;32m1\u001b[0m\n\u001b[0;31m    2 =< 2 # writing = and < in reverse order returns an error,\u001b[0m\n\u001b[0m       ^\u001b[0m\n\u001b[0;31mSyntaxError\u001b[0m\u001b[0;31m:\u001b[0m invalid syntax\n"
     ]
    }
   ],
   "source": [
    "2 =< 2 # writing = and < in reverse order returns an error, "
   ]
  },
  {
   "cell_type": "markdown",
   "metadata": {
    "colab_type": "text",
    "id": "MUamdvetF7Oa"
   },
   "source": [
    "####  < (Less)"
   ]
  },
  {
   "cell_type": "code",
   "execution_count": 33,
   "metadata": {
    "colab": {},
    "colab_type": "code",
    "id": "m5OYBeH9F7Oc",
    "outputId": "790f315d-08eb-41d2-8d59-e26f397f3dc2"
   },
   "outputs": [
    {
     "data": {
      "text/plain": [
       "True"
      ]
     },
     "execution_count": 33,
     "metadata": {},
     "output_type": "execute_result"
    }
   ],
   "source": [
    "2 < 3"
   ]
  },
  {
   "cell_type": "markdown",
   "metadata": {
    "colab_type": "text",
    "id": "mu3RgvOEF7Of"
   },
   "source": [
    "#### <= (Equal or less)"
   ]
  },
  {
   "cell_type": "code",
   "execution_count": 34,
   "metadata": {
    "colab": {},
    "colab_type": "code",
    "id": "GgsxKrxSF7Og",
    "outputId": "8e5d6a15-3d5a-473c-ccd4-8de698314007"
   },
   "outputs": [
    {
     "data": {
      "text/plain": [
       "True"
      ]
     },
     "execution_count": 34,
     "metadata": {},
     "output_type": "execute_result"
    }
   ],
   "source": [
    "2 <= 3"
   ]
  },
  {
   "cell_type": "markdown",
   "metadata": {},
   "source": [
    "### (2) Logical operators\n",
    "\n",
    "+ In Python, there are logical operators that can be used on two conditional statements\n",
    "\n",
    "\n",
    "| Operators | Description |\n",
    "| ---- | ---- |\n",
    "| a and b | Returns True if both statements are true |\n",
    "| a or b | Returns True if one of the statements is true  |\n",
    "| not b | Reverses the result, returns False if the result is true |\n",
    "| a is b | Returns True if both variables are the same object |\n"
   ]
  },
  {
   "cell_type": "markdown",
   "metadata": {
    "colab_type": "text",
    "id": "dXf7tcqPF7On"
   },
   "source": [
    "#### and\n",
    "\n",
    "**`and`** returns True if both statements are true."
   ]
  },
  {
   "cell_type": "code",
   "execution_count": 35,
   "metadata": {
    "colab": {},
    "colab_type": "code",
    "id": "NSFqsJHnF7Oo",
    "outputId": "7ab39d19-84e7-47c5-f635-6b43668a4227"
   },
   "outputs": [
    {
     "data": {
      "text/plain": [
       "True"
      ]
     },
     "execution_count": 35,
     "metadata": {},
     "output_type": "execute_result"
    }
   ],
   "source": [
    "True and True"
   ]
  },
  {
   "cell_type": "code",
   "execution_count": 36,
   "metadata": {
    "colab": {},
    "colab_type": "code",
    "id": "Hv0ZgVKAF7Ox",
    "outputId": "eae729ae-8575-4a15-ed69-5a716cdb8114"
   },
   "outputs": [
    {
     "data": {
      "text/plain": [
       "False"
      ]
     },
     "execution_count": 36,
     "metadata": {},
     "output_type": "execute_result"
    }
   ],
   "source": [
    "True and False"
   ]
  },
  {
   "cell_type": "code",
   "execution_count": 37,
   "metadata": {
    "colab": {},
    "colab_type": "code",
    "id": "1YTuyBGoF7O2",
    "outputId": "5927eb21-90f7-4971-a1e3-073bedab3975"
   },
   "outputs": [
    {
     "data": {
      "text/plain": [
       "False"
      ]
     },
     "execution_count": 37,
     "metadata": {},
     "output_type": "execute_result"
    }
   ],
   "source": [
    "False and False"
   ]
  },
  {
   "cell_type": "markdown",
   "metadata": {
    "colab_type": "text",
    "id": "LRgy96saF7O6"
   },
   "source": [
    "#### or\n",
    "**`or`** returns True if either of the statements are true."
   ]
  },
  {
   "cell_type": "code",
   "execution_count": 38,
   "metadata": {
    "colab": {},
    "colab_type": "code",
    "id": "VrrYa8OpF7O9",
    "outputId": "f4a474e2-9a72-4d6c-d1ee-11ea216ec6c1"
   },
   "outputs": [
    {
     "data": {
      "text/plain": [
       "True"
      ]
     },
     "execution_count": 38,
     "metadata": {},
     "output_type": "execute_result"
    }
   ],
   "source": [
    "True or True"
   ]
  },
  {
   "cell_type": "code",
   "execution_count": 39,
   "metadata": {
    "colab": {},
    "colab_type": "code",
    "id": "BdffIs1yF7PA",
    "outputId": "d0b9dc7e-45cc-4902-9863-f6f5494c40b1"
   },
   "outputs": [
    {
     "data": {
      "text/plain": [
       "True"
      ]
     },
     "execution_count": 39,
     "metadata": {},
     "output_type": "execute_result"
    }
   ],
   "source": [
    "True or False"
   ]
  },
  {
   "cell_type": "code",
   "execution_count": 40,
   "metadata": {
    "colab": {},
    "colab_type": "code",
    "id": "5LSzkZhMF7PF",
    "outputId": "c8078092-d4cf-4492-a104-104c96666cca"
   },
   "outputs": [
    {
     "data": {
      "text/plain": [
       "False"
      ]
     },
     "execution_count": 40,
     "metadata": {},
     "output_type": "execute_result"
    }
   ],
   "source": [
    "False or False"
   ]
  },
  {
   "cell_type": "markdown",
   "metadata": {},
   "source": [
    "#### not\n",
    "**`not`** returns a True when the Boolean is False, and vice versa."
   ]
  },
  {
   "cell_type": "code",
   "execution_count": 41,
   "metadata": {},
   "outputs": [
    {
     "data": {
      "text/plain": [
       "False"
      ]
     },
     "execution_count": 41,
     "metadata": {},
     "output_type": "execute_result"
    }
   ],
   "source": [
    "not True"
   ]
  },
  {
   "cell_type": "code",
   "execution_count": 42,
   "metadata": {},
   "outputs": [
    {
     "data": {
      "text/plain": [
       "True"
      ]
     },
     "execution_count": 42,
     "metadata": {},
     "output_type": "execute_result"
    }
   ],
   "source": [
    "not False"
   ]
  },
  {
   "cell_type": "markdown",
   "metadata": {},
   "source": [
    "### (10) Combining logical operators"
   ]
  },
  {
   "cell_type": "code",
   "execution_count": 43,
   "metadata": {},
   "outputs": [
    {
     "data": {
      "text/plain": [
       "True"
      ]
     },
     "execution_count": 43,
     "metadata": {},
     "output_type": "execute_result"
    }
   ],
   "source": [
    "# given x,y,z as below,\n",
    "x = 1\n",
    "y = 3\n",
    "z = 4\n",
    "\n",
    "# you can use multiple logical operators in combination with comparison operators \n",
    "\n",
    "(z > x and z > y) or not (y <= x)"
   ]
  },
  {
   "cell_type": "markdown",
   "metadata": {},
   "source": [
    "#### `is` operator\n",
    "\n",
    "Both `==` and `is` operator compare two operands. However, `is` determines if two operands refer to the **same memory space** while `==` checks the **equality of two values**. \n",
    "\n",
    "In other words, `is` operator tests identity of the operands(i.e., address in memory)"
   ]
  },
  {
   "cell_type": "code",
   "execution_count": 44,
   "metadata": {
    "collapsed": true,
    "slideshow": {
     "slide_type": "-"
    }
   },
   "outputs": [],
   "source": [
    "# Creating two lists with the same values\n",
    "\n",
    "a = [1,2,3,4,5] \n",
    "b = [1,2,3,4,5] # list b containing the same values as list a"
   ]
  },
  {
   "cell_type": "code",
   "execution_count": 45,
   "metadata": {
    "slideshow": {
     "slide_type": "fragment"
    }
   },
   "outputs": [
    {
     "name": "stdout",
     "output_type": "stream",
     "text": [
      "a is stored at  140579783661896\n",
      "b is stored at  140579788113288\n"
     ]
    }
   ],
   "source": [
    "print(\"a is stored at \", id(a))\n",
    "print(\"b is stored at \", id(b))"
   ]
  },
  {
   "cell_type": "code",
   "execution_count": 46,
   "metadata": {
    "slideshow": {
     "slide_type": "fragment"
    }
   },
   "outputs": [
    {
     "data": {
      "text/plain": [
       "True"
      ]
     },
     "execution_count": 46,
     "metadata": {},
     "output_type": "execute_result"
    }
   ],
   "source": [
    "# Testing if values in `a` are equal to those in `b` \n",
    "a == b"
   ]
  },
  {
   "cell_type": "code",
   "execution_count": 47,
   "metadata": {
    "slideshow": {
     "slide_type": "fragment"
    }
   },
   "outputs": [
    {
     "data": {
      "text/plain": [
       "False"
      ]
     },
     "execution_count": 47,
     "metadata": {},
     "output_type": "execute_result"
    }
   ],
   "source": [
    "# Testing if `b` refers to what `a` refers to for id \n",
    "a is b"
   ]
  },
  {
   "cell_type": "markdown",
   "metadata": {
    "slideshow": {
     "slide_type": "slide"
    }
   },
   "source": [
    "##  3. Strings\n",
    "\n",
    "+ In Python, a string is a sequence of characters. You can directly use operators or built-in functions on strings.\n",
    " \n",
    "+ Python provides a number of powerful features for strings.\n"
   ]
  },
  {
   "cell_type": "markdown",
   "metadata": {
    "slideshow": {
     "slide_type": "subslide"
    }
   },
   "source": [
    "### (1) Creating strings\n",
    "\n",
    "Strings can be created by enclosing characters inside single quotes(`'string'`) or double-quotes(`\"string\"`). <br>\n",
    " -   i.e., 'Hello' or \"Hello\" "
   ]
  },
  {
   "cell_type": "code",
   "execution_count": 48,
   "metadata": {
    "slideshow": {
     "slide_type": "-"
    }
   },
   "outputs": [
    {
     "name": "stdout",
     "output_type": "stream",
     "text": [
      "hello\n"
     ]
    }
   ],
   "source": [
    "str1 = \"hello\"\n",
    "print(str1)"
   ]
  },
  {
   "cell_type": "markdown",
   "metadata": {},
   "source": [
    "If you want multiline strings and docstrings, you can use triple quotes(`'''strings in multiple lines'''`) before and after the strings."
   ]
  },
  {
   "cell_type": "code",
   "execution_count": 49,
   "metadata": {
    "slideshow": {
     "slide_type": "fragment"
    }
   },
   "outputs": [
    {
     "name": "stdout",
     "output_type": "stream",
     "text": [
      "\n",
      "When summer ended\n",
      "the leaves of snapdragons withered\n",
      "taking their shrill-colored mouths with them.\n",
      "They were still, so quiet. They were\n",
      "violet where umber now is. She hated\n",
      "and she hated to see\n",
      "them go. Flowers\n",
      "\n",
      "born when the weather was good - this\n",
      "she thinks of, watching...\n",
      "\n",
      "Emplumada by LORNA DEE CERVANTES\n",
      "\n"
     ]
    }
   ],
   "source": [
    "str1 = \"\"\"\n",
    "When summer ended\n",
    "the leaves of snapdragons withered\n",
    "taking their shrill-colored mouths with them.\n",
    "They were still, so quiet. They were\n",
    "violet where umber now is. She hated\n",
    "and she hated to see\n",
    "them go. Flowers\n",
    "\n",
    "born when the weather was good - this\n",
    "she thinks of, watching...\n",
    "\n",
    "Emplumada by LORNA DEE CERVANTES\n",
    "\"\"\"\n",
    "print(str1)"
   ]
  },
  {
   "cell_type": "markdown",
   "metadata": {
    "slideshow": {
     "slide_type": "fragment"
    }
   },
   "source": [
    "### (2) Operators on strings\n",
    "\n",
    "You can use `+` or `*` on strings for addition and multiplication. Though, they work differently from what we've previously seen on numbers."
   ]
  },
  {
   "cell_type": "markdown",
   "metadata": {},
   "source": [
    "#### Addition and Multiplication of Strings"
   ]
  },
  {
   "cell_type": "code",
   "execution_count": 1,
   "metadata": {
    "slideshow": {
     "slide_type": "-"
    }
   },
   "outputs": [
    {
     "data": {
      "text/plain": [
       "'Hello, world!'"
      ]
     },
     "execution_count": 1,
     "metadata": {},
     "output_type": "execute_result"
    }
   ],
   "source": [
    "# Adding two strings\n",
    "# if  a `+` is used on strings, it concatenates a string to another.\n",
    "str1 = \"Hello, \"\n",
    "str2 = \"world!\"\n",
    "\n",
    "str1 + str2"
   ]
  },
  {
   "cell_type": "code",
   "execution_count": 4,
   "metadata": {
    "slideshow": {
     "slide_type": "fragment"
    }
   },
   "outputs": [
    {
     "data": {
      "text/plain": [
       "'Hello!Hello!Hello!'"
      ]
     },
     "execution_count": 4,
     "metadata": {},
     "output_type": "execute_result"
    }
   ],
   "source": [
    "# Multiplying a string\n",
    "# if  a `*` is used on a string, it repeats the string for the number of times the string is multiplied by.\n",
    "\n",
    "str1 = \"Hello!\"\n",
    "str1*3"
   ]
  },
  {
   "cell_type": "markdown",
   "metadata": {},
   "source": [
    "### (3)  **`len()`** - Counting the number of characters\n",
    "\n",
    "If you want to find out how many characters the string is made of, you can easily use a Python built-in function `len()`."
   ]
  },
  {
   "cell_type": "code",
   "execution_count": 52,
   "metadata": {
    "slideshow": {
     "slide_type": "fragment"
    }
   },
   "outputs": [
    {
     "data": {
      "text/plain": [
       "7"
      ]
     },
     "execution_count": 52,
     "metadata": {},
     "output_type": "execute_result"
    }
   ],
   "source": [
    "str1 = \"Hello~ \"\n",
    "\n",
    "len(str1)"
   ]
  },
  {
   "cell_type": "markdown",
   "metadata": {
    "slideshow": {
     "slide_type": "subslide"
    }
   },
   "source": [
    "### (4) String indexing\n",
    "\n",
    "In Python, Strings are ordered sequences of character data. Indexing allows you to access individual characters in a string directly by using a numeric positional value. String indexing is zero-based which means the first element of a string is indexed 0 and then 1 and so forth. You can access each character by referring to its positional value in square brackets or indexing brackets `[ ]`\n",
    "\n",
    "Here, note that you can also select a range of characters from a string by creating a range of index numbers separated by a colon [x:y].\n",
    "The first index number `x` is where the slice starts (inclusive), and the second index number `y` is where the slice ends (exclusive).\n",
    "\n"
   ]
  },
  {
   "cell_type": "code",
   "execution_count": 53,
   "metadata": {
    "collapsed": true,
    "slideshow": {
     "slide_type": ""
    }
   },
   "outputs": [],
   "source": [
    "# String indexing\n",
    "str1 = \"This is Python World!\""
   ]
  },
  {
   "cell_type": "code",
   "execution_count": 54,
   "metadata": {
    "slideshow": {
     "slide_type": "fragment"
    }
   },
   "outputs": [
    {
     "data": {
      "text/plain": [
       "'s'"
      ]
     },
     "execution_count": 54,
     "metadata": {},
     "output_type": "execute_result"
    }
   ],
   "source": [
    "# Accessing the 4th value\n",
    "str1[3] "
   ]
  },
  {
   "cell_type": "code",
   "execution_count": 55,
   "metadata": {
    "slideshow": {
     "slide_type": "fragment"
    }
   },
   "outputs": [
    {
     "data": {
      "text/plain": [
       "'This'"
      ]
     },
     "execution_count": 55,
     "metadata": {},
     "output_type": "execute_result"
    }
   ],
   "source": [
    "# extracting values from the 0th position to less than the 4th \n",
    "str1[0:4]"
   ]
  },
  {
   "cell_type": "markdown",
   "metadata": {
    "slideshow": {
     "slide_type": "subslide"
    }
   },
   "source": [
    "### (5) Splitting a string\n",
    "\n",
    "You can split a string using the `split()` function.\n",
    "It splits a string into a list where each word is a list element. You can specify the separator. By default, the separator is any whitespace.\n",
    "\n",
    "split() syntax: `.split(separator, maxsplit)`"
   ]
  },
  {
   "cell_type": "code",
   "execution_count": 56,
   "metadata": {
    "collapsed": true
   },
   "outputs": [],
   "source": [
    "str1 = \"This is Python World!\""
   ]
  },
  {
   "cell_type": "code",
   "execution_count": 57,
   "metadata": {
    "slideshow": {
     "slide_type": "fragment"
    }
   },
   "outputs": [
    {
     "data": {
      "text/plain": [
       "['This', 'is', 'Python', 'World!']"
      ]
     },
     "execution_count": 57,
     "metadata": {},
     "output_type": "execute_result"
    }
   ],
   "source": [
    "# Splitting a string on any whitespace\n",
    "str1.split(\" \")"
   ]
  },
  {
   "cell_type": "code",
   "execution_count": 58,
   "metadata": {
    "slideshow": {
     "slide_type": "fragment"
    }
   },
   "outputs": [
    {
     "data": {
      "text/plain": [
       "['Thi', ' i', ' Python World!']"
      ]
     },
     "execution_count": 58,
     "metadata": {},
     "output_type": "execute_result"
    }
   ],
   "source": [
    "# Splitting a string on any 's'\n",
    "str1.split('s')"
   ]
  },
  {
   "cell_type": "code",
   "execution_count": 59,
   "metadata": {},
   "outputs": [
    {
     "data": {
      "text/plain": [
       "['This', 'is', 'Python World!']"
      ]
     },
     "execution_count": 59,
     "metadata": {},
     "output_type": "execute_result"
    }
   ],
   "source": [
    "str1.split(' ', 2) # splits the string only twice."
   ]
  },
  {
   "cell_type": "markdown",
   "metadata": {},
   "source": [
    "### (6) String formatting \n",
    "\n",
    "**String formatting** uses a process of string interpolation to evaluate a string literal containing one or more placeholders, yielding a result in which the placeholders are replaced with their corresponding values.\n",
    "\n",
    "For instance, there are sentences you need to repeat at every epoch in Deep Learning. \n",
    "\n",
    "```python\n",
    "val_loss_change = \"Epoch 00001: val_loss improved from inf to 0.15311\"\n",
    "```\n",
    "If you want to keep only the format of this sentence while the value repeatedly changes, you can do something like this"
   ]
  },
  {
   "cell_type": "code",
   "execution_count": 60,
   "metadata": {},
   "outputs": [
    {
     "data": {
      "text/plain": [
       "'Epoch 32: val_loss improved from inf to 92.3'"
      ]
     },
     "execution_count": 60,
     "metadata": {},
     "output_type": "execute_result"
    }
   ],
   "source": [
    "step = 32\n",
    "percent = 92.3\n",
    "\n",
    "info = \"Epoch \" + str(step) +\": val_loss improved from inf to \"+ str(percent)\n",
    "info"
   ]
  },
  {
   "cell_type": "markdown",
   "metadata": {
    "slideshow": {
     "slide_type": "fragment"
    }
   },
   "source": [
    "#### String formatting with `.format()`"
   ]
  },
  {
   "cell_type": "code",
   "execution_count": 61,
   "metadata": {},
   "outputs": [
    {
     "data": {
      "text/plain": [
       "'Epoch 32: val_loss improved from inf to 92.3'"
      ]
     },
     "execution_count": 61,
     "metadata": {},
     "output_type": "execute_result"
    }
   ],
   "source": [
    "\"Epoch {}: val_loss improved from inf to {}\".format(step, percent)"
   ]
  },
  {
   "cell_type": "markdown",
   "metadata": {
    "slideshow": {
     "slide_type": "fragment"
    }
   },
   "source": [
    "#### String formatting with `f-string`"
   ]
  },
  {
   "cell_type": "code",
   "execution_count": 62,
   "metadata": {},
   "outputs": [
    {
     "data": {
      "text/plain": [
       "'Epoch 32: val_loss improved from inf to 92.3 '"
      ]
     },
     "execution_count": 62,
     "metadata": {},
     "output_type": "execute_result"
    }
   ],
   "source": [
    "f\"Epoch {step}: val_loss improved from inf to {percent} \""
   ]
  }
 ],
 "metadata": {
  "kernelspec": {
   "display_name": "Python 3",
   "language": "python",
   "name": "python3"
  },
  "language_info": {
   "codemirror_mode": {
    "name": "ipython",
    "version": 3
   },
   "file_extension": ".py",
   "mimetype": "text/x-python",
   "name": "python",
   "nbconvert_exporter": "python",
   "pygments_lexer": "ipython3",
   "version": "3.7.0"
  },
  "toc": {
   "base_numbering": 1,
   "nav_menu": {},
   "number_sections": false,
   "sideBar": true,
   "skip_h1_title": false,
   "title_cell": "Table of Contents",
   "title_sidebar": "Contents",
   "toc_cell": false,
   "toc_position": {
    "height": "calc(100% - 180px)",
    "left": "10px",
    "top": "150px",
    "width": "341.306px"
   },
   "toc_section_display": true,
   "toc_window_display": true
  }
 },
 "nbformat": 4,
 "nbformat_minor": 4
}
