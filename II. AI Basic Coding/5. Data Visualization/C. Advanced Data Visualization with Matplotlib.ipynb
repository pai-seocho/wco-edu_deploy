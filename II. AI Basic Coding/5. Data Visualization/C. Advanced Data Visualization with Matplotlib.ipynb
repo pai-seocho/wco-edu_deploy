{
 "cells": [
  {
   "cell_type": "markdown",
   "metadata": {
    "colab_type": "text",
    "id": "jFMC-dwzW_Pz"
   },
   "source": [
    "\n",
    "# C. Advanced Visualization with Matplotlib\n",
    "\n",
    "Matplotlib provides a lot more and better visualization methods and tools besides what we have seen in the previous lesson for drawing plain plots.  \n",
    "Since the visualization process is one of the most substantial parts in the data analysis process,  \n",
    "it's important to be able to select the right visualization method to convey the best possible picture on your data.<br/><br/>\n",
    "In this section, we will be looking at other types of plotting tools than line charts for advanced data visualization.\n",
    "\n",
    "\n",
    "### _Objective_\n",
    "- **Visualization of categorical data**: Drawing bar and pie charts for categorical data.\n",
    "- **Visualization of continuous data**: Drawing a histogram for continuous data\n",
    "- **Visualization of continuous&categorical data**: Drawing a boxplot for distribution of a continuous variable for each of the categories (categorical variable)\n",
    "- **Visualization of categorical&continuous data**: Drawing a scatter plot to display the relationship between two continuous variables x and y"
   ]
  },
  {
   "cell_type": "code",
   "execution_count": 1,
   "metadata": {
    "colab": {},
    "colab_type": "code",
    "id": "f0nA8x_mW_QD"
   },
   "outputs": [],
   "source": [
    "%matplotlib inline\n",
    "\n",
    "import matplotlib.pyplot as plt\n",
    "import numpy as np\n",
    "import pandas as pd"
   ]
  },
  {
   "cell_type": "markdown",
   "metadata": {},
   "source": [
    "# \\[1. Visualization of Categorical Data\\]"
   ]
  },
  {
   "cell_type": "markdown",
   "metadata": {
    "colab_type": "text",
    "id": "Basy-rgR-3Dt"
   },
   "source": [
    "####  Example Data) Student report card from the mid&final exams"
   ]
  },
  {
   "cell_type": "code",
   "execution_count": 2,
   "metadata": {
    "scrolled": false
   },
   "outputs": [
    {
     "data": {
      "text/html": [
       "<div>\n",
       "<style scoped>\n",
       "    .dataframe tbody tr th:only-of-type {\n",
       "        vertical-align: middle;\n",
       "    }\n",
       "\n",
       "    .dataframe tbody tr th {\n",
       "        vertical-align: top;\n",
       "    }\n",
       "\n",
       "    .dataframe thead th {\n",
       "        text-align: right;\n",
       "    }\n",
       "</style>\n",
       "<table border=\"1\" class=\"dataframe\">\n",
       "  <thead>\n",
       "    <tr style=\"text-align: right;\">\n",
       "      <th></th>\n",
       "      <th>history</th>\n",
       "      <th>english</th>\n",
       "      <th>math</th>\n",
       "      <th>social_studies</th>\n",
       "      <th>science</th>\n",
       "    </tr>\n",
       "  </thead>\n",
       "  <tbody>\n",
       "    <tr>\n",
       "      <th>0</th>\n",
       "      <td>80</td>\n",
       "      <td>92</td>\n",
       "      <td>70</td>\n",
       "      <td>65</td>\n",
       "      <td>92</td>\n",
       "    </tr>\n",
       "    <tr>\n",
       "      <th>1</th>\n",
       "      <td>91</td>\n",
       "      <td>75</td>\n",
       "      <td>90</td>\n",
       "      <td>68</td>\n",
       "      <td>85</td>\n",
       "    </tr>\n",
       "    <tr>\n",
       "      <th>2</th>\n",
       "      <td>86</td>\n",
       "      <td>76</td>\n",
       "      <td>42</td>\n",
       "      <td>72</td>\n",
       "      <td>88</td>\n",
       "    </tr>\n",
       "    <tr>\n",
       "      <th>3</th>\n",
       "      <td>77</td>\n",
       "      <td>92</td>\n",
       "      <td>52</td>\n",
       "      <td>60</td>\n",
       "      <td>80</td>\n",
       "    </tr>\n",
       "    <tr>\n",
       "      <th>4</th>\n",
       "      <td>75</td>\n",
       "      <td>85</td>\n",
       "      <td>85</td>\n",
       "      <td>92</td>\n",
       "      <td>95</td>\n",
       "    </tr>\n",
       "    <tr>\n",
       "      <th>5</th>\n",
       "      <td>96</td>\n",
       "      <td>90</td>\n",
       "      <td>95</td>\n",
       "      <td>81</td>\n",
       "      <td>72</td>\n",
       "    </tr>\n",
       "  </tbody>\n",
       "</table>\n",
       "</div>"
      ],
      "text/plain": [
       "   history  english  math  social_studies  science\n",
       "0       80       92    70              65       92\n",
       "1       91       75    90              68       85\n",
       "2       86       76    42              72       88\n",
       "3       77       92    52              60       80\n",
       "4       75       85    85              92       95\n",
       "5       96       90    95              81       72"
      ]
     },
     "execution_count": 2,
     "metadata": {},
     "output_type": "execute_result"
    }
   ],
   "source": [
    "mid_scores = np.array([\n",
    "    [80,92,70,65,92],\n",
    "    [91,75,90,68,85],\n",
    "    [86,76,42,72,88],\n",
    "    [77,92,52,60,80],\n",
    "    [75,85,85,92,95],\n",
    "    [96,90,95,81,72]\n",
    "])\n",
    "\n",
    "pd.DataFrame(mid_scores, columns = ['history' , 'english',  'math', 'social_studies', 'science'])"
   ]
  },
  {
   "cell_type": "code",
   "execution_count": 3,
   "metadata": {
    "colab": {
     "base_uri": "https://localhost:8080/",
     "height": 238
    },
    "colab_type": "code",
    "executionInfo": {
     "elapsed": 445,
     "status": "ok",
     "timestamp": 1551851483138,
     "user": {
      "displayName": "최선열",
      "photoUrl": "",
      "userId": "00663027191814710813"
     },
     "user_tz": -540
    },
    "id": "OrPAdXNuW_Qy",
    "outputId": "b68e6d21-4659-4f5e-ede1-e34ab666f5a9"
   },
   "outputs": [
    {
     "data": {
      "text/html": [
       "<div>\n",
       "<style scoped>\n",
       "    .dataframe tbody tr th:only-of-type {\n",
       "        vertical-align: middle;\n",
       "    }\n",
       "\n",
       "    .dataframe tbody tr th {\n",
       "        vertical-align: top;\n",
       "    }\n",
       "\n",
       "    .dataframe thead th {\n",
       "        text-align: right;\n",
       "    }\n",
       "</style>\n",
       "<table border=\"1\" class=\"dataframe\">\n",
       "  <thead>\n",
       "    <tr style=\"text-align: right;\">\n",
       "      <th></th>\n",
       "      <th>history</th>\n",
       "      <th>english</th>\n",
       "      <th>math</th>\n",
       "      <th>social_studies</th>\n",
       "      <th>science</th>\n",
       "    </tr>\n",
       "  </thead>\n",
       "  <tbody>\n",
       "    <tr>\n",
       "      <th>0</th>\n",
       "      <td>85</td>\n",
       "      <td>95</td>\n",
       "      <td>90</td>\n",
       "      <td>66</td>\n",
       "      <td>93</td>\n",
       "    </tr>\n",
       "    <tr>\n",
       "      <th>1</th>\n",
       "      <td>93</td>\n",
       "      <td>70</td>\n",
       "      <td>80</td>\n",
       "      <td>60</td>\n",
       "      <td>81</td>\n",
       "    </tr>\n",
       "    <tr>\n",
       "      <th>2</th>\n",
       "      <td>89</td>\n",
       "      <td>78</td>\n",
       "      <td>55</td>\n",
       "      <td>75</td>\n",
       "      <td>80</td>\n",
       "    </tr>\n",
       "    <tr>\n",
       "      <th>3</th>\n",
       "      <td>80</td>\n",
       "      <td>94</td>\n",
       "      <td>59</td>\n",
       "      <td>72</td>\n",
       "      <td>90</td>\n",
       "    </tr>\n",
       "    <tr>\n",
       "      <th>4</th>\n",
       "      <td>70</td>\n",
       "      <td>82</td>\n",
       "      <td>81</td>\n",
       "      <td>95</td>\n",
       "      <td>72</td>\n",
       "    </tr>\n",
       "    <tr>\n",
       "      <th>5</th>\n",
       "      <td>90</td>\n",
       "      <td>76</td>\n",
       "      <td>93</td>\n",
       "      <td>82</td>\n",
       "      <td>89</td>\n",
       "    </tr>\n",
       "  </tbody>\n",
       "</table>\n",
       "</div>"
      ],
      "text/plain": [
       "   history  english  math  social_studies  science\n",
       "0       85       95    90              66       93\n",
       "1       93       70    80              60       81\n",
       "2       89       78    55              75       80\n",
       "3       80       94    59              72       90\n",
       "4       70       82    81              95       72\n",
       "5       90       76    93              82       89"
      ]
     },
     "execution_count": 3,
     "metadata": {},
     "output_type": "execute_result"
    }
   ],
   "source": [
    "final_scores = np.array([\n",
    "    [85,95,90,66,93],\n",
    "    [93,70,80,60,81],\n",
    "    [89,78,55,75,80],\n",
    "    [80,94,59,72,90],\n",
    "    [70,82,81,95,72],\n",
    "    [90,76,93,82,89]\n",
    "])\n",
    "pd.DataFrame(final_scores, columns = ['history' , 'english',  'math', 'social_studies', 'science'])"
   ]
  },
  {
   "cell_type": "code",
   "execution_count": 4,
   "metadata": {},
   "outputs": [
    {
     "data": {
      "text/plain": [
       "array([[[80, 92, 70, 65, 92],\n",
       "        [91, 75, 90, 68, 85],\n",
       "        [86, 76, 42, 72, 88],\n",
       "        [77, 92, 52, 60, 80],\n",
       "        [75, 85, 85, 92, 95],\n",
       "        [96, 90, 95, 81, 72]],\n",
       "\n",
       "       [[85, 95, 90, 66, 93],\n",
       "        [93, 70, 80, 60, 81],\n",
       "        [89, 78, 55, 75, 80],\n",
       "        [80, 94, 59, 72, 90],\n",
       "        [70, 82, 81, 95, 72],\n",
       "        [90, 76, 93, 82, 89]]])"
      ]
     },
     "execution_count": 4,
     "metadata": {},
     "output_type": "execute_result"
    }
   ],
   "source": [
    "scores = np.stack([mid_scores,final_scores])\n",
    "\n",
    "scores"
   ]
  },
  {
   "cell_type": "markdown",
   "metadata": {
    "colab_type": "text",
    "id": "K543-b9ZcOtf"
   },
   "source": [
    "## 1. Bar Chart\n",
    "\n",
    "A bar chart is a useful visualization tool used for comparing numeric values of different categories. It's primarily used to visualize categorical data. \n"
   ]
  },
  {
   "cell_type": "markdown",
   "metadata": {
    "colab_type": "text",
    "id": "qiMC52xhW_RA"
   },
   "source": [
    "#### Example)  The average score for each midterm exam subject"
   ]
  },
  {
   "cell_type": "markdown",
   "metadata": {},
   "source": [
    "First, create an array on average scores for each midterm subject"
   ]
  },
  {
   "cell_type": "code",
   "execution_count": 5,
   "metadata": {
    "colab": {},
    "colab_type": "code",
    "id": "bwwHlNOKw_sx"
   },
   "outputs": [
    {
     "data": {
      "text/plain": [
       "array([84.16666667, 85.        , 72.33333333, 73.        , 85.33333333])"
      ]
     },
     "execution_count": 5,
     "metadata": {},
     "output_type": "execute_result"
    }
   ],
   "source": [
    "middle_avg_subject = mid_scores.mean(axis=0)\n",
    "middle_avg_subject"
   ]
  },
  {
   "cell_type": "markdown",
   "metadata": {
    "colab_type": "text",
    "id": "TcV5ymE2knWa"
   },
   "source": [
    "### (1) Vertical bar chart\n",
    "\n",
    "- `plt.bar(x, height)`- `x` should represent the categories for the x-axis, and  `height` should show the value of each category on the y-axis."
   ]
  },
  {
   "cell_type": "code",
   "execution_count": 6,
   "metadata": {
    "colab": {
     "base_uri": "https://localhost:8080/",
     "height": 335
    },
    "colab_type": "code",
    "executionInfo": {
     "elapsed": 631,
     "status": "ok",
     "timestamp": 1551854996216,
     "user": {
      "displayName": "최선열",
      "photoUrl": "",
      "userId": "00663027191814710813"
     },
     "user_tz": -540
    },
    "id": "SlytrOAZp9kr",
    "outputId": "1aed6b6a-7d78-4ab2-c024-df9ec3857200"
   },
   "outputs": [
    {
     "data": {
      "image/png": "[encoded data removed]",
      "text/plain": [
       "<Figure size 576x360 with 1 Axes>"
      ]
     },
     "metadata": {
      "needs_background": "light"
     },
     "output_type": "display_data"
    }
   ],
   "source": [
    "xs = ['history' , 'english',  'math', 'social_studies', 'science'] # x-axis labels\n",
    "\n",
    "plt.figure(figsize = (8,5))\n",
    "\n",
    "plt.bar(x = xs,                      # x: x-axis labels\n",
    "        height = middle_avg_subject) # height: values of categories \n",
    "\n",
    "plt.title(\"Average score by midterm subjects\")\n",
    "plt.ylim(50,100)\n",
    "plt.show()"
   ]
  },
  {
   "cell_type": "markdown",
   "metadata": {
    "colab_type": "text",
    "id": "1BpZeLBlW_Ra"
   },
   "source": [
    "### (2) Horizontal bar chart\n",
    "\n",
    "- `plt.barh(y, width)` : `y` shows categories on the y-axis, and `width` for x-axis shows the numeric values of the categories"
   ]
  },
  {
   "cell_type": "code",
   "execution_count": 7,
   "metadata": {
    "colab": {
     "base_uri": "https://localhost:8080/",
     "height": 335
    },
    "colab_type": "code",
    "executionInfo": {
     "elapsed": 636,
     "status": "ok",
     "timestamp": 1551855061536,
     "user": {
      "displayName": "최선열",
      "photoUrl": "",
      "userId": "00663027191814710813"
     },
     "user_tz": -540
    },
    "id": "7hpDe0F9W_Rc",
    "outputId": "5f8c252d-40a2-4cf3-bced-9c2bc6b87780"
   },
   "outputs": [
    {
     "data": {
      "image/png": "[encoded data removed]",
      "text/plain": [
       "<Figure size 720x360 with 1 Axes>"
      ]
     },
     "metadata": {
      "needs_background": "light"
     },
     "output_type": "display_data"
    }
   ],
   "source": [
    "ys = ['history', 'english',  'math', 'social_studies', 'science']\n",
    "\n",
    "plt.figure(figsize=(10,5))\n",
    "\n",
    "plt.barh(y=ys,                     # y: y-axis labels \n",
    "         width=middle_avg_subject) # width: values of categories  \n",
    "\n",
    "plt.title(\"Average score by midterm subjects\")\n",
    "plt.xlim(50,100)\n",
    "plt.show()"
   ]
  },
  {
   "cell_type": "markdown",
   "metadata": {
    "colab_type": "text",
    "id": "-3ZrqtkoW_Ro"
   },
   "source": [
    "### (3) Comparing two data groups by category\n",
    "Using `plt.bar()` twice allows you to plot categorical variables of two data groups.  \n",
    "\n",
    "Here, we'll compare average scores on the midterm and final exams by subject."
   ]
  },
  {
   "cell_type": "code",
   "execution_count": 8,
   "metadata": {
    "colab": {},
    "colab_type": "code",
    "id": "d1S32W6fy33o"
   },
   "outputs": [],
   "source": [
    "mid_avg_subject = mid_scores.mean(axis=0) # Average Score for each midterm subject \n",
    "final_avg_subject = final_scores.mean(axis=0)   # Average Score for each final subject"
   ]
  },
  {
   "cell_type": "markdown",
   "metadata": {},
   "source": [
    "When drawing the two bars for comparison, you must set them not to overlap with each other."
   ]
  },
  {
   "cell_type": "code",
   "execution_count": 9,
   "metadata": {
    "colab": {
     "base_uri": "https://localhost:8080/",
     "height": 335
    },
    "colab_type": "code",
    "executionInfo": {
     "elapsed": 642,
     "status": "ok",
     "timestamp": 1551853072809,
     "user": {
      "displayName": "최선열",
      "photoUrl": "",
      "userId": "00663027191814710813"
     },
     "user_tz": -540
    },
    "id": "_95vfri4W_Rq",
    "outputId": "0531336e-4236-4de7-f560-09488d2d520d"
   },
   "outputs": [
    {
     "data": {
      "image/png": "[encoded data removed]",
      "text/plain": [
       "<Figure size 720x360 with 1 Axes>"
      ]
     },
     "metadata": {
      "needs_background": "light"
     },
     "output_type": "display_data"
    }
   ],
   "source": [
    "plt.figure(figsize=(10,5))\n",
    "\n",
    "# Drawing a bar chart for the midterm average scores.\n",
    "plt.bar(x=np.arange(0,5)-0.1,      # location of the bar - Move to the left by 0.1 \n",
    "        height=middle_avg_subject, # height of the bar: Average scores by subject\n",
    "        width=0.2)                 # width of the bar: 0.2\n",
    "\n",
    "# Drawing a bar chart for the final exam average scores.\n",
    "plt.bar(x=np.arange(0,5)+0.1,      # location of the bar: Move to the right by 0.1\n",
    "        height=final_avg_subject,  # height of the bar: Average scores by subject\n",
    "        width=0.2)                 # width of the bar:  0.2\n",
    "\n",
    "plt.title(\"Average score of subjects\")\n",
    "plt.xticks(ticks=np.arange(0,5),\n",
    "           labels=['history', 'english',  'math', 'social_studies', 'science']) # labelling each category\n",
    "plt.ylim(50,100)\n",
    "plt.legend([\"midterm\",\"final\"])\n",
    "plt.show()"
   ]
  },
  {
   "cell_type": "markdown",
   "metadata": {
    "colab_type": "text",
    "id": "X6eMfNyJed9z"
   },
   "source": [
    "## 2. Pie Chart\n",
    "\n",
    "- `plt.pie(x, labels)`- plots the proportion of each category of the whole.<br>\n",
    "\n",
    "A pie chart is a type of graph used to demonstrate how much each of the categories accounts for the whole.  \n",
    "It is best to use when you are trying to compare parts of a whole, in percentages."
   ]
  },
  {
   "cell_type": "markdown",
   "metadata": {
    "colab_type": "text",
    "id": "5WFK_xMTW_Rw"
   },
   "source": [
    "#### Example) Incorrect answer rate by subject\n",
    "\n",
    "Let's visualize how much the score you missed for incorrect answers in each midterm subject takes up of the whole."
   ]
  },
  {
   "cell_type": "code",
   "execution_count": 10,
   "metadata": {
    "colab": {},
    "colab_type": "code",
    "id": "-AHa4nL8W_Ry"
   },
   "outputs": [
    {
     "data": {
      "text/plain": [
       "array([20,  8, 30, 35,  8])"
      ]
     },
     "execution_count": 10,
     "metadata": {},
     "output_type": "execute_result"
    }
   ],
   "source": [
    "error_score = 100 - mid_scores[0] # calculating the scores student 0 missed in the midterm\n",
    "error_score"
   ]
  },
  {
   "cell_type": "markdown",
   "metadata": {
    "colab_type": "text",
    "id": "1Y38Q6N540lb"
   },
   "source": [
    "### (1) Drawing a pie chart\n",
    "\n",
    "- `plt.pie(x, labels)`: Plot the proportion of each element value of x in a pie chart\n",
    "\n",
    "Pie charts calculate the proportion of each category by using the sum of all values as the denominator  \n",
    "and each value as the numerator, returning the result on a pie graph."
   ]
  },
  {
   "cell_type": "code",
   "execution_count": 11,
   "metadata": {
    "colab": {
     "base_uri": "https://localhost:8080/",
     "height": 589
    },
    "colab_type": "code",
    "executionInfo": {
     "elapsed": 1235,
     "status": "ok",
     "timestamp": 1551859997040,
     "user": {
      "displayName": "최선열",
      "photoUrl": "",
      "userId": "00663027191814710813"
     },
     "user_tz": -540
    },
    "id": "m-EaIwBWW_R6",
    "outputId": "4c349fd0-aa89-4131-83ed-967320504a5a"
   },
   "outputs": [
    {
     "data": {
      "image/png": "[encoded data removed]",
      "text/plain": [
       "<Figure size 720x720 with 1 Axes>"
      ]
     },
     "metadata": {},
     "output_type": "display_data"
    }
   ],
   "source": [
    "label_names = np.array(['history', 'english',  'math', 'social_studies', 'science'])\n",
    "plt.figure(figsize=(10,10))\n",
    "\n",
    "plt.pie(error_score,labels=label_names) # drawing a pie chart to see the proportion of each exam subject for incorrect answers\n",
    "plt.title(\"Error proportion of student 0\")\n",
    "plt.legend()\n",
    "plt.show()"
   ]
  },
  {
   "cell_type": "markdown",
   "metadata": {
    "colab_type": "text",
    "id": "MMxLG6fS4q1W"
   },
   "source": [
    "### (2) Sorting pies\n",
    "\n",
    "In the above pie graph, `error_score` is illustrated counterclockwise from the top right in the order each category was entered.\n",
    "\n",
    "Let's sort the order by the size of pies. \n",
    "\n",
    "- `np.argsort(a)`: sorts elements of `a` based on their size/value and returns the indices that would sort an array"
   ]
  },
  {
   "cell_type": "code",
   "execution_count": 12,
   "metadata": {
    "colab": {
     "base_uri": "https://localhost:8080/",
     "height": 34
    },
    "colab_type": "code",
    "executionInfo": {
     "elapsed": 891,
     "status": "ok",
     "timestamp": 1551859997042,
     "user": {
      "displayName": "최선열",
      "photoUrl": "",
      "userId": "00663027191814710813"
     },
     "user_tz": -540
    },
    "id": "Av35bbzUW_SK",
    "outputId": "d2231505-72e0-4661-d404-da800286bef6"
   },
   "outputs": [
    {
     "data": {
      "text/plain": [
       "array([1, 4, 0, 2, 3], dtype=int64)"
      ]
     },
     "execution_count": 12,
     "metadata": {},
     "output_type": "execute_result"
    }
   ],
   "source": [
    "asc_idx = np.argsort(error_score)\n",
    "asc_idx"
   ]
  },
  {
   "cell_type": "markdown",
   "metadata": {},
   "source": [
    "It returned the indices that would sort `error_score` in ascending order from the smallest to the largest.  \n",
    "We're now going to sort `error_score` as well as `label_names` based on `asc_idx`\n"
   ]
  },
  {
   "cell_type": "code",
   "execution_count": 13,
   "metadata": {},
   "outputs": [
    {
     "name": "stdout",
     "output_type": "stream",
     "text": [
      "sorting  [20  8 30 35  8] to [ 8  8 20 30 35]\n",
      "sorting  ['history' 'english' 'math' 'social_studies' 'science'] to ['english' 'science' 'history' 'math' 'social_studies']\n"
     ]
    }
   ],
   "source": [
    "sorted_score = error_score[asc_idx]\n",
    "sorted_label = label_names[asc_idx]\n",
    "print(\"sorting \", error_score, \"to\", sorted_score)\n",
    "print(\"sorting \", label_names, \"to\", sorted_label)"
   ]
  },
  {
   "cell_type": "code",
   "execution_count": 14,
   "metadata": {
    "colab": {
     "base_uri": "https://localhost:8080/",
     "height": 589
    },
    "colab_type": "code",
    "executionInfo": {
     "elapsed": 965,
     "status": "ok",
     "timestamp": 1551859997733,
     "user": {
      "displayName": "최선열",
      "photoUrl": "",
      "userId": "00663027191814710813"
     },
     "user_tz": -540
    },
    "id": "kLjtezAxW_TF",
    "outputId": "c024d380-4e80-4cfe-d638-628efb0f4556"
   },
   "outputs": [
    {
     "data": {
      "image/png": "[encoded data removed]",
      "text/plain": [
       "<Figure size 720x720 with 1 Axes>"
      ]
     },
     "metadata": {},
     "output_type": "display_data"
    }
   ],
   "source": [
    "plt.figure(figsize=(10,10))\n",
    "\n",
    "plt.pie(sorted_score, labels=sorted_label)\n",
    "\n",
    "plt.title(\"Sorted error proportion of student 0\")\n",
    "plt.legend()\n",
    "plt.show()"
   ]
  },
  {
   "cell_type": "markdown",
   "metadata": {},
   "source": [
    "# \\[2. Visualization of Continuous Variables\\]"
   ]
  },
  {
   "cell_type": "markdown",
   "metadata": {
    "colab_type": "text",
    "id": "EJk3_-QqW_TP"
   },
   "source": [
    "#### Example Data) Exam results in Math and Science "
   ]
  },
  {
   "cell_type": "code",
   "execution_count": 15,
   "metadata": {
    "colab": {},
    "colab_type": "code",
    "id": "2E-u4DTaB0wh"
   },
   "outputs": [],
   "source": [
    "math_scores = np.array([\n",
    "       62, 80, 68, 61, 69, 62, 71, 84, 68, 71, 60, 72, 69, 78, 64, 73, 67,\n",
    "       68, 58, 69, 64, 72, 59, 56, 60, 60, 78, 63, 68, 72, 72, 72, 70, 73,\n",
    "       68, 55, 77, 73, 81, 71, 68, 63, 76, 76, 66, 70, 72, 67, 74, 66, 77,\n",
    "       75, 68, 60, 71, 74, 78, 78, 69, 75, 71, 79, 75, 88, 81, 74, 85, 73,\n",
    "       64, 78, 81, 68, 70, 62, 60, 69, 62, 81, 77, 85, 66, 68, 63, 81, 80,\n",
    "       71, 78, 61, 70, 68, 69, 57, 64, 64, 65, 74, 69, 60, 75, 69, 66, 62,\n",
    "       60, 75, 71, 63, 79, 62, 86, 86, 81, 74, 65, 71, 81, 67, 75, 77, 52,\n",
    "       65, 68, 64, 60, 56, 67, 58, 83, 50, 77, 74, 76, 69, 69, 65, 64, 76,\n",
    "       64, 74, 77, 66, 62, 46, 54, 69, 59, 55, 64, 71, 60, 95, 66, 76, 77,\n",
    "       70, 61, 88, 55, 89, 76, 78, 68, 65, 65, 75, 79, 61, 65, 71, 81, 79,\n",
    "       72, 77, 85, 58, 74, 83, 62, 77, 58, 61, 60, 74, 76, 64, 61, 63, 71,\n",
    "       81, 57, 74, 75, 62, 59, 58, 53, 69, 83, 58, 58, 58, 65, 62, 73, 64,\n",
    "       53, 75, 63, 64, 69, 75, 56, 61, 63, 72, 59, 54, 71, 66, 83, 72, 64\n",
    "])\n",
    "science_scores =  np.array([\n",
    "       71, 77, 64, 55, 60, 64, 70, 87, 69, 76, 60, 80, 60, 72, 66, 69, 60,\n",
    "       64, 68, 60, 68, 66, 64, 60, 61, 66, 80, 73, 60, 69, 76, 67, 70, 78,\n",
    "       71, 56, 72, 82, 80, 75, 71, 64, 80, 74, 62, 72, 74, 57, 81, 68, 70,\n",
    "       85, 63, 69, 70, 82, 83, 83, 67, 72, 69, 88, 70, 90, 83, 76, 79, 72,\n",
    "       65, 86, 91, 71, 73, 54, 65, 71, 54, 85, 81, 92, 67, 76, 69, 75, 83,\n",
    "       80, 80, 51, 69, 60, 68, 53, 57, 57, 65, 84, 63, 62, 84, 68, 74, 60,\n",
    "       53, 67, 81, 69, 72, 56, 77, 91, 74, 78, 73, 69, 84, 67, 79, 74, 43,\n",
    "       59, 77, 66, 69, 59, 64, 63, 79, 44, 70, 69, 71, 63, 66, 62, 72, 68,\n",
    "       74, 82, 74, 67, 57, 41, 44, 64, 66, 55, 57, 70, 61, 88, 58, 76, 76,\n",
    "       64, 54, 90, 65, 80, 70, 79, 75, 70, 58, 83, 75, 60, 66, 72, 75, 88,\n",
    "       66, 82, 82, 59, 69, 82, 54, 73, 62, 56, 52, 77, 72, 62, 70, 53, 77,\n",
    "       87, 51, 65, 85, 55, 55, 55, 50, 74, 82, 68, 54, 48, 68, 72, 77, 60,\n",
    "       52, 66, 54, 54, 68, 73, 54, 53, 63, 74, 49, 50, 81, 59, 73, 78, 55\n",
    "])"
   ]
  },
  {
   "cell_type": "markdown",
   "metadata": {
    "colab_type": "text",
    "id": "IaZtN6dp2UBe"
   },
   "source": [
    "## 1. Histogram\n",
    "\n",
    "The histogram is a useful visualization tool for showing the distribution(frequency of occurrences) of numerical data, mostly of continuous data. \n",
    "\n",
    "people sometimes mix up histograms and bar charts. However, they have distinct differences in the purpose of use.\n",
    "\n",
    "- Bar chart - displays a categorical variable in the x-axis\n",
    "- Histogram - displays a continuous variable in the x-axis, splitting the quantitative variable into bins while the y-axis shows how frequently each value of the x-axis occurs in the data.\n",
    "\n",
    "\n",
    "- `plt.hist(x, bins)` - split a continuous variable into bins and draws the **frequency of occurrence of the values in each bin**."
   ]
  },
  {
   "cell_type": "markdown",
   "metadata": {
    "colab_type": "text",
    "id": "dn-kj1E8W_TZ"
   },
   "source": [
    "### Drawing a histogram\n",
    "\n",
    "Let's draw a histogram to see the distribution of exam scores in Math and Science."
   ]
  },
  {
   "cell_type": "code",
   "execution_count": 1,
   "metadata": {
    "colab": {
     "base_uri": "https://localhost:8080/",
     "height": 356
    },
    "colab_type": "code",
    "executionInfo": {
     "elapsed": 938,
     "status": "ok",
     "timestamp": 1551860133717,
     "user": {
      "displayName": "최선열",
      "photoUrl": "",
      "userId": "00663027191814710813"
     },
     "user_tz": -540
    },
    "id": "rGvt2wPQW_Tc",
    "outputId": "1a1e7616-1dc7-4591-9b14-7c50b479d076"
   },
   "outputs": [
    {
     "ename": "NameError",
     "evalue": "name 'plt' is not defined",
     "output_type": "error",
     "traceback": [
      "\u001b[1;31m---------------------------------------------------------------------------\u001b[0m",
      "\u001b[1;31mNameError\u001b[0m                                 Traceback (most recent call last)",
      "\u001b[1;32m<ipython-input-1-345ed28c3f04>\u001b[0m in \u001b[0;36m<module>\u001b[1;34m\u001b[0m\n\u001b[1;32m----> 1\u001b[1;33m \u001b[0mfig\u001b[0m \u001b[1;33m=\u001b[0m \u001b[0mplt\u001b[0m\u001b[1;33m.\u001b[0m\u001b[0mfigure\u001b[0m\u001b[1;33m(\u001b[0m\u001b[0mfigsize\u001b[0m\u001b[1;33m=\u001b[0m\u001b[1;33m(\u001b[0m\u001b[1;36m10\u001b[0m\u001b[1;33m,\u001b[0m\u001b[1;36m5\u001b[0m\u001b[1;33m)\u001b[0m\u001b[1;33m)\u001b[0m\u001b[1;33m\u001b[0m\u001b[1;33m\u001b[0m\u001b[0m\n\u001b[0m\u001b[0;32m      2\u001b[0m \u001b[1;33m\u001b[0m\u001b[0m\n\u001b[0;32m      3\u001b[0m \u001b[0max\u001b[0m \u001b[1;33m=\u001b[0m \u001b[0mfig\u001b[0m\u001b[1;33m.\u001b[0m\u001b[0madd_subplot\u001b[0m\u001b[1;33m(\u001b[0m\u001b[1;36m1\u001b[0m\u001b[1;33m,\u001b[0m\u001b[1;36m2\u001b[0m\u001b[1;33m,\u001b[0m\u001b[1;36m1\u001b[0m\u001b[1;33m)\u001b[0m\u001b[1;33m\u001b[0m\u001b[1;33m\u001b[0m\u001b[0m\n\u001b[0;32m      4\u001b[0m \u001b[0max\u001b[0m\u001b[1;33m.\u001b[0m\u001b[0mhist\u001b[0m\u001b[1;33m(\u001b[0m\u001b[0mmath_scores\u001b[0m\u001b[1;33m,\u001b[0m \u001b[0mbins\u001b[0m\u001b[1;33m=\u001b[0m\u001b[1;36m20\u001b[0m\u001b[1;33m)\u001b[0m    \u001b[1;31m# grouping math scores into 20 bins of equal width between the smallest to the largest value\u001b[0m\u001b[1;33m\u001b[0m\u001b[1;33m\u001b[0m\u001b[0m\n\u001b[0;32m      5\u001b[0m \u001b[0max\u001b[0m\u001b[1;33m.\u001b[0m\u001b[0mset_title\u001b[0m\u001b[1;33m(\u001b[0m\u001b[1;34m\"Math distribution\"\u001b[0m\u001b[1;33m)\u001b[0m\u001b[1;33m\u001b[0m\u001b[1;33m\u001b[0m\u001b[0m\n",
      "\u001b[1;31mNameError\u001b[0m: name 'plt' is not defined"
     ]
    }
   ],
   "source": [
    "fig = plt.figure(figsize=(10,5))\n",
    "\n",
    "ax = fig.add_subplot(1,2,1)\n",
    "ax.hist(math_scores, bins=20)    # grouping math scores into 20 bins of equal width between the smallest to the largest value\n",
    "ax.set_title(\"Math distribution\")\n",
    "ax.set_xlim(40,100)\n",
    "\n",
    "ax = fig.add_subplot(1,2,2)\n",
    "ax.hist(science_scores, bins=20) # grouping science scores into 20 bins of equal width between the smallest to the largest value\n",
    "ax.set_title(\"Science distribution\")\n",
    "ax.set_xlim(40,100)\n",
    "\n",
    "plt.suptitle(\"Score distribution of whole students\")\n",
    "plt.show()"
   ]
  },
  {
   "cell_type": "markdown",
   "metadata": {},
   "source": [
    "# \\[3. Visualization of Continuous Data X Categorical Data\\]"
   ]
  },
  {
   "cell_type": "markdown",
   "metadata": {
    "colab_type": "text",
    "id": "O7Pk_b0M2fge"
   },
   "source": [
    "## 1. Box Plot\n",
    "\n",
    "What should we do if we want to compare the distribution of math and science scores in a single frame?\n",
    "A box plot is the right visualization option.\n",
    "- `plt.boxplot(x)`- summarises the distribution of a continuous variable using a box and whisker plot."
   ]
  },
  {
   "cell_type": "markdown",
   "metadata": {
    "colab_type": "text",
    "id": "gR7N6m6aW_Tn"
   },
   "source": [
    "#### Example Data) Comparing the distribution of math and science scores "
   ]
  },
  {
   "cell_type": "markdown",
   "metadata": {
    "colab_type": "text",
    "id": "tWhT-hmFW_Tp"
   },
   "source": [
    "Let's take a glance at math and science scores."
   ]
  },
  {
   "cell_type": "code",
   "execution_count": 17,
   "metadata": {},
   "outputs": [
    {
     "data": {
      "text/plain": [
       "array([62, 80, 68, 61, 69, 62, 71, 84, 68, 71, 60, 72, 69, 78, 64, 73, 67,\n",
       "       68, 58, 69, 64, 72, 59, 56, 60, 60, 78, 63, 68, 72, 72, 72, 70, 73,\n",
       "       68, 55, 77, 73, 81, 71, 68, 63, 76, 76, 66, 70, 72, 67, 74, 66, 77,\n",
       "       75, 68, 60, 71, 74, 78, 78, 69, 75, 71, 79, 75, 88, 81, 74, 85, 73,\n",
       "       64, 78, 81, 68, 70, 62, 60, 69, 62, 81, 77, 85, 66, 68, 63, 81, 80,\n",
       "       71, 78, 61, 70, 68, 69, 57, 64, 64, 65, 74, 69, 60, 75, 69, 66, 62,\n",
       "       60, 75, 71, 63, 79, 62, 86, 86, 81, 74, 65, 71, 81, 67, 75, 77, 52,\n",
       "       65, 68, 64, 60, 56, 67, 58, 83, 50, 77, 74, 76, 69, 69, 65, 64, 76,\n",
       "       64, 74, 77, 66, 62, 46, 54, 69, 59, 55, 64, 71, 60, 95, 66, 76, 77,\n",
       "       70, 61, 88, 55, 89, 76, 78, 68, 65, 65, 75, 79, 61, 65, 71, 81, 79,\n",
       "       72, 77, 85, 58, 74, 83, 62, 77, 58, 61, 60, 74, 76, 64, 61, 63, 71,\n",
       "       81, 57, 74, 75, 62, 59, 58, 53, 69, 83, 58, 58, 58, 65, 62, 73, 64,\n",
       "       53, 75, 63, 64, 69, 75, 56, 61, 63, 72, 59, 54, 71, 66, 83, 72, 64])"
      ]
     },
     "execution_count": 17,
     "metadata": {},
     "output_type": "execute_result"
    }
   ],
   "source": [
    "math_scores"
   ]
  },
  {
   "cell_type": "markdown",
   "metadata": {},
   "source": [
    "Just as what've done in the previous part, we first need to join `math_scores` and `science_scores`,  \n",
    "and then transpose the stacked array to get an array as below."
   ]
  },
  {
   "cell_type": "code",
   "execution_count": 18,
   "metadata": {},
   "outputs": [
    {
     "data": {
      "text/plain": [
       "array([[62, 71],\n",
       "       [80, 77],\n",
       "       [68, 64],\n",
       "       [61, 55],\n",
       "       [69, 60],\n",
       "       [62, 64],\n",
       "       [71, 70],\n",
       "       [84, 87],\n",
       "       [68, 69],\n",
       "       [71, 76],\n",
       "       [60, 60],\n",
       "       [72, 80],\n",
       "       [69, 60],\n",
       "       [78, 72],\n",
       "       [64, 66],\n",
       "       [73, 69],\n",
       "       [67, 60],\n",
       "       [68, 64],\n",
       "       [58, 68],\n",
       "       [69, 60],\n",
       "       [64, 68],\n",
       "       [72, 66],\n",
       "       [59, 64],\n",
       "       [56, 60],\n",
       "       [60, 61],\n",
       "       [60, 66],\n",
       "       [78, 80],\n",
       "       [63, 73],\n",
       "       [68, 60],\n",
       "       [72, 69],\n",
       "       [72, 76],\n",
       "       [72, 67],\n",
       "       [70, 70],\n",
       "       [73, 78],\n",
       "       [68, 71],\n",
       "       [55, 56],\n",
       "       [77, 72],\n",
       "       [73, 82],\n",
       "       [81, 80],\n",
       "       [71, 75],\n",
       "       [68, 71],\n",
       "       [63, 64],\n",
       "       [76, 80],\n",
       "       [76, 74],\n",
       "       [66, 62],\n",
       "       [70, 72],\n",
       "       [72, 74],\n",
       "       [67, 57],\n",
       "       [74, 81],\n",
       "       [66, 68],\n",
       "       [77, 70],\n",
       "       [75, 85],\n",
       "       [68, 63],\n",
       "       [60, 69],\n",
       "       [71, 70],\n",
       "       [74, 82],\n",
       "       [78, 83],\n",
       "       [78, 83],\n",
       "       [69, 67],\n",
       "       [75, 72],\n",
       "       [71, 69],\n",
       "       [79, 88],\n",
       "       [75, 70],\n",
       "       [88, 90],\n",
       "       [81, 83],\n",
       "       [74, 76],\n",
       "       [85, 79],\n",
       "       [73, 72],\n",
       "       [64, 65],\n",
       "       [78, 86],\n",
       "       [81, 91],\n",
       "       [68, 71],\n",
       "       [70, 73],\n",
       "       [62, 54],\n",
       "       [60, 65],\n",
       "       [69, 71],\n",
       "       [62, 54],\n",
       "       [81, 85],\n",
       "       [77, 81],\n",
       "       [85, 92],\n",
       "       [66, 67],\n",
       "       [68, 76],\n",
       "       [63, 69],\n",
       "       [81, 75],\n",
       "       [80, 83],\n",
       "       [71, 80],\n",
       "       [78, 80],\n",
       "       [61, 51],\n",
       "       [70, 69],\n",
       "       [68, 60],\n",
       "       [69, 68],\n",
       "       [57, 53],\n",
       "       [64, 57],\n",
       "       [64, 57],\n",
       "       [65, 65],\n",
       "       [74, 84],\n",
       "       [69, 63],\n",
       "       [60, 62],\n",
       "       [75, 84],\n",
       "       [69, 68],\n",
       "       [66, 74],\n",
       "       [62, 60],\n",
       "       [60, 53],\n",
       "       [75, 67],\n",
       "       [71, 81],\n",
       "       [63, 69],\n",
       "       [79, 72],\n",
       "       [62, 56],\n",
       "       [86, 77],\n",
       "       [86, 91],\n",
       "       [81, 74],\n",
       "       [74, 78],\n",
       "       [65, 73],\n",
       "       [71, 69],\n",
       "       [81, 84],\n",
       "       [67, 67],\n",
       "       [75, 79],\n",
       "       [77, 74],\n",
       "       [52, 43],\n",
       "       [65, 59],\n",
       "       [68, 77],\n",
       "       [64, 66],\n",
       "       [60, 69],\n",
       "       [56, 59],\n",
       "       [67, 64],\n",
       "       [58, 63],\n",
       "       [83, 79],\n",
       "       [50, 44],\n",
       "       [77, 70],\n",
       "       [74, 69],\n",
       "       [76, 71],\n",
       "       [69, 63],\n",
       "       [69, 66],\n",
       "       [65, 62],\n",
       "       [64, 72],\n",
       "       [76, 68],\n",
       "       [64, 74],\n",
       "       [74, 82],\n",
       "       [77, 74],\n",
       "       [66, 67],\n",
       "       [62, 57],\n",
       "       [46, 41],\n",
       "       [54, 44],\n",
       "       [69, 64],\n",
       "       [59, 66],\n",
       "       [55, 55],\n",
       "       [64, 57],\n",
       "       [71, 70],\n",
       "       [60, 61],\n",
       "       [95, 88],\n",
       "       [66, 58],\n",
       "       [76, 76],\n",
       "       [77, 76],\n",
       "       [70, 64],\n",
       "       [61, 54],\n",
       "       [88, 90],\n",
       "       [55, 65],\n",
       "       [89, 80],\n",
       "       [76, 70],\n",
       "       [78, 79],\n",
       "       [68, 75],\n",
       "       [65, 70],\n",
       "       [65, 58],\n",
       "       [75, 83],\n",
       "       [79, 75],\n",
       "       [61, 60],\n",
       "       [65, 66],\n",
       "       [71, 72],\n",
       "       [81, 75],\n",
       "       [79, 88],\n",
       "       [72, 66],\n",
       "       [77, 82],\n",
       "       [85, 82],\n",
       "       [58, 59],\n",
       "       [74, 69],\n",
       "       [83, 82],\n",
       "       [62, 54],\n",
       "       [77, 73],\n",
       "       [58, 62],\n",
       "       [61, 56],\n",
       "       [60, 52],\n",
       "       [74, 77],\n",
       "       [76, 72],\n",
       "       [64, 62],\n",
       "       [61, 70],\n",
       "       [63, 53],\n",
       "       [71, 77],\n",
       "       [81, 87],\n",
       "       [57, 51],\n",
       "       [74, 65],\n",
       "       [75, 85],\n",
       "       [62, 55],\n",
       "       [59, 55],\n",
       "       [58, 55],\n",
       "       [53, 50],\n",
       "       [69, 74],\n",
       "       [83, 82],\n",
       "       [58, 68],\n",
       "       [58, 54],\n",
       "       [58, 48],\n",
       "       [65, 68],\n",
       "       [62, 72],\n",
       "       [73, 77],\n",
       "       [64, 60],\n",
       "       [53, 52],\n",
       "       [75, 66],\n",
       "       [63, 54],\n",
       "       [64, 54],\n",
       "       [69, 68],\n",
       "       [75, 73],\n",
       "       [56, 54],\n",
       "       [61, 53],\n",
       "       [63, 63],\n",
       "       [72, 74],\n",
       "       [59, 49],\n",
       "       [54, 50],\n",
       "       [71, 81],\n",
       "       [66, 59],\n",
       "       [83, 73],\n",
       "       [72, 78],\n",
       "       [64, 55]])"
      ]
     },
     "execution_count": 18,
     "metadata": {},
     "output_type": "execute_result"
    }
   ],
   "source": [
    "m_s_scores = np.stack([math_scores, science_scores]).T\n",
    "m_s_scores"
   ]
  },
  {
   "cell_type": "markdown",
   "metadata": {},
   "source": [
    "Now, we can draw a box plot for each subject and compare the distribution of math/science scores by comparing the boxes with one another."
   ]
  },
  {
   "cell_type": "code",
   "execution_count": 19,
   "metadata": {},
   "outputs": [
    {
     "data": {
      "image/png": "[encoded data removed]",
      "text/plain": [
       "<Figure size 432x288 with 1 Axes>"
      ]
     },
     "metadata": {
      "needs_background": "light"
     },
     "output_type": "display_data"
    }
   ],
   "source": [
    "plt.boxplot(m_s_scores)\n",
    "\n",
    "plt.title(\"Compare score distribution of whole students\")\n",
    "plt.ylabel(\"Score\")\n",
    "plt.xlabel(\"Subjects\")\n",
    "plt.xticks([1, 2], ['Math', 'Science'])\n",
    "plt.show()"
   ]
  },
  {
   "cell_type": "markdown",
   "metadata": {},
   "source": [
    "# \\[4. Visualization of Continuous Data X Continuous Data\\]"
   ]
  },
  {
   "cell_type": "markdown",
   "metadata": {
    "colab_type": "text",
    "id": "O7Pk_b0M2fge"
   },
   "source": [
    "## 1. Scatter Plot \n",
    "A scatter plot is a type of plot used to display data for two variables.  \n",
    "It is mostly used for determining the correlation between two continuous data(variables) or showing how much one variable is affected by another.\n",
    "\n",
    "Unlike other plots that draw frequency or ratio, a scatter plot displays the position of the data within two variables.\n",
    "\n",
    "\n",
    "- `plt.scatter(x,y)`: draws a scatter plot displaying values for two different continuous variables, each on the x and y-axis."
   ]
  },
  {
   "cell_type": "markdown",
   "metadata": {
    "colab_type": "text",
    "id": "gR7N6m6aW_Tn"
   },
   "source": [
    "#### Example Data) Correlation between math and science scores"
   ]
  },
  {
   "cell_type": "markdown",
   "metadata": {
    "colab_type": "text",
    "id": "tWhT-hmFW_Tp"
   },
   "source": [
    "Let's find out how all students' math and science scores correlate with each other by drawing a scatter plot"
   ]
  },
  {
   "cell_type": "code",
   "execution_count": 20,
   "metadata": {
    "colab": {},
    "colab_type": "code",
    "id": "rCT9gqxZW_Tq",
    "outputId": "17dc7720-dfc6-440a-9bab-d278abc85298",
    "scrolled": true
   },
   "outputs": [
    {
     "data": {
      "image/png": "[encoded data removed]",
      "text/plain": [
       "<Figure size 432x288 with 1 Axes>"
      ]
     },
     "metadata": {
      "needs_background": "light"
     },
     "output_type": "display_data"
    }
   ],
   "source": [
    "plt.scatter(x=math_scores,    # x: Math scores on x-axis\n",
    "            y=science_scores) # y: Science scores on y-axis\n",
    "                             \n",
    "plt.title(\"Correlation of Math/Science\")\n",
    "plt.xlabel(\"Math score\")\n",
    "plt.ylabel(\"Science score\")\n",
    "plt.xlim(40,100)\n",
    "plt.ylim(40,100)\n",
    "plt.show()"
   ]
  },
  {
   "cell_type": "markdown",
   "metadata": {},
   "source": [
    "Looking at the scatter plot, it seems that the math scores and science scores have a positive correlation.\n",
    "\n",
    "Yet, it is not a good idea to judge the correlation only by looking at the plot,  \n",
    "so you should look at the statistical figures such as the correlation coefficient and so on."
   ]
  }
 ],
 "metadata": {
  "colab": {
   "collapsed_sections": [
    "Basy-rgR-3Dt",
    "zEvz3P5q-W0i",
    "TcV5ymE2knWa",
    "1BpZeLBlW_Ra",
    "-3ZrqtkoW_Ro"
   ],
   "name": "7_Matplotlib을 통한 다양한 시각화.ipynb",
   "provenance": [],
   "toc_visible": true,
   "version": "0.3.2"
  },
  "kernelspec": {
   "display_name": "Python 3",
   "language": "python",
   "name": "python3"
  },
  "language_info": {
   "codemirror_mode": {
    "name": "ipython",
    "version": 3
   },
   "file_extension": ".py",
   "mimetype": "text/x-python",
   "name": "python",
   "nbconvert_exporter": "python",
   "pygments_lexer": "ipython3",
   "version": "3.8.3"
  },
  "toc": {
   "base_numbering": 1,
   "nav_menu": {},
   "number_sections": false,
   "sideBar": true,
   "skip_h1_title": false,
   "title_cell": "Table of Contents",
   "title_sidebar": "Contents",
   "toc_cell": false,
   "toc_position": {
    "height": "calc(100% - 180px)",
    "left": "10px",
    "top": "150px",
    "width": "341.306px"
   },
   "toc_section_display": true,
   "toc_window_display": true
  }
 },
 "nbformat": 4,
 "nbformat_minor": 2
}
