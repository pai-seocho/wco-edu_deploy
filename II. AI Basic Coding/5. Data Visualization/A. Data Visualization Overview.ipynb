{
 "cells": [
  {
   "cell_type": "markdown",
   "metadata": {},
   "source": [
    "# A. Visualization Overview"
   ]
  },
  {
   "cell_type": "markdown",
   "metadata": {},
   "source": [
    "<br><br>\n",
    "## \\[ 1. What is Visualization? \\]\n",
    "\n"
   ]
  },
  {
   "cell_type": "markdown",
   "metadata": {
    "collapsed": true
   },
   "source": [
    "Data Visualization is one of data handling abilities \n",
    "to draw plots on your data.\n",
    "\n",
    "By visualizing data,\n",
    "\n",
    "- people can have a deeper understanding of data.\n",
    "- people can derive insights from data more easily and quickly.\n",
    "\n",
    "\n",
    "When visualizing data, we need to take into account the type of data for how we are going to draw the data and how to make data values into scales to connect with visual attributes.<br/><br/>\n",
    "\n",
    "This table describes types of data.\n",
    "\n",
    "<style type=\"text/css\">\n",
    ".tg  {border-collapse:collapse;border-spacing:0;}\n",
    ".tg td{border-color:black;border-style:solid;border-width:1px;font-family:Arial, sans-serif;font-size:14px;\n",
    "  overflow:hidden;padding:10px 5px;word-break:normal;}\n",
    ".tg th{border-color:black;border-style:solid;border-width:1px;font-family:Arial, sans-serif;font-size:14px;\n",
    "  font-weight:normal;overflow:hidden;padding:10px 5px;word-break:normal;}\n",
    ".tg .tg-cly1{text-align:left;vertical-align:middle}\n",
    ".tg .tg-lboi{border-color:inherit;text-align:left;vertical-align:middle}\n",
    "</style>\n",
    "<table class=\"tg\">\n",
    "<thead>\n",
    "  <tr>\n",
    "    <th class=\"tg-lboi\">Types of variables</th>\n",
    "    <th class=\"tg-lboi\">Examples</th>\n",
    "    <th class=\"tg-lboi\">Descriptions</th>\n",
    "  </tr>\n",
    "</thead>\n",
    "<tbody>\n",
    "  <tr>\n",
    "    <td class=\"tg-lboi\">Quantitative/Continuous numeric data</td>\n",
    "    <td class=\"tg-lboi\">1.3, 5.27, 8.0</td>\n",
    "    <td class=\"tg-lboi\">Uncountable and continuous values</td>\n",
    "  </tr>\n",
    "  <tr>\n",
    "    <td class=\"tg-lboi\">Quantitative/Discrete numeric data</td>\n",
    "    <td class=\"tg-lboi\">1, 2, 3, 4</td>\n",
    "    <td class=\"tg-lboi\">Countable and discrete values</td>\n",
    "  </tr>\n",
    "  <tr>\n",
    "    <td class=\"tg-cly1\">Qualitative/Categorical unordered data</td>\n",
    "    <td class=\"tg-cly1\">Human, Dogs, Cats, Rabbits</td>\n",
    "    <td class=\"tg-cly1\">Unordered discrete values or categories, also called ordered factors.</td>\n",
    "  </tr>\n",
    "  <tr>\n",
    "    <td class=\"tg-cly1\">Qualitative/Categorical ordered data</td>\n",
    "    <td class=\"tg-cly1\">Good, Okay, Bad</td>\n",
    "    <td class=\"tg-cly1\">Ordered categories, also called ordered factor.</td>\n",
    "  </tr>\n",
    "  <tr>\n",
    "    <td class=\"tg-cly1\">Dates or Times</td>\n",
    "    <td class=\"tg-cly1\">2020, February 20th, 02:20 AM</td>\n",
    "    <td class=\"tg-cly1\">Data for date and time</td>\n",
    "  </tr>\n",
    "  <tr>\n",
    "    <td class=\"tg-cly1\">Text</td>\n",
    "    <td class=\"tg-cly1\">I'm learning visualization.</td>\n",
    "    <td class=\"tg-cly1\">A collection of character and strings</td>\n",
    "  </tr>\n",
    "</tbody>\n",
    "</table>\n",
    "\n",
    "You can see scales that connect data values and visual attributes.\n",
    "<img src=\"https://imgur.com/LN3VaKZ.png\">\n",
    "\n",
    "With all of these, we use a Python package called matplotlib for data visualization."
   ]
  },
  {
   "cell_type": "markdown",
   "metadata": {},
   "source": [
    "<br><br>\n",
    "\n",
    "## \\[ 2. What is Matplotlib? \\]\n",
    "\n"
   ]
  },
  {
   "cell_type": "markdown",
   "metadata": {},
   "source": [
    "Matplotlib is a python package used for data visualization.\n",
    "\n",
    "These are some visualization methods and tools that matplotlib provides\n",
    "\n",
    "<img src=\"https://imgur.com/mSo5WJn.jpg\" width=\"1000\" height=\"1000\">"
   ]
  },
  {
   "cell_type": "markdown",
   "metadata": {},
   "source": [
    "<br><br>\n",
    "\n",
    "# \\[ 3. Characteristics of Matplotlib \\]\n",
    "\n"
   ]
  },
  {
   "cell_type": "markdown",
   "metadata": {},
   "source": [
    "matplotlib.pyplot matplotlib.pyplot is a state-based interface to matplotlib. It provides a MATLAB-like way of plotting.\n",
    "\n",
    "Components of pyplot\n",
    "- Figure is like a canvas that includes at least one Axes\n",
    "- Axes is a blueprint that users can draw what they want.<br/>\n",
    "The number of axes can be more than one, but the number of Figure can only be one.\n",
    "- Axis can handle the range of axes and labels\n",
    "\n",
    "You can check additional information about pyplot in official matplotlib documents\n",
    "\n",
    "https://matplotlib.org/3.3.3/tutorials/introductory/usage.html#parts-of-a-figure"
   ]
  },
  {
   "cell_type": "markdown",
   "metadata": {},
   "source": [
    "<br><br>\n",
    "\n",
    "## \\[ 4. Index \\]\n",
    "\n"
   ]
  },
  {
   "cell_type": "markdown",
   "metadata": {},
   "source": [
    "### B. Introduction to Data Visualization with Matplotlib\n",
    "### C. Advanced Data Visualisation with Matplotlib\n",
    "### D. Visualization with Pandas\n",
    "### E. Practice - Visualization with Matplotlib and Pandas"
   ]
  },
  {
   "cell_type": "code",
   "execution_count": null,
   "metadata": {},
   "outputs": [],
   "source": []
  }
 ],
 "metadata": {
  "kernelspec": {
   "display_name": "Python 3",
   "language": "python",
   "name": "python3"
  },
  "language_info": {
   "codemirror_mode": {
    "name": "ipython",
    "version": 3
   },
   "file_extension": ".py",
   "mimetype": "text/x-python",
   "name": "python",
   "nbconvert_exporter": "python",
   "pygments_lexer": "ipython3",
   "version": "3.8.3"
  }
 },
 "nbformat": 4,
 "nbformat_minor": 2
}
