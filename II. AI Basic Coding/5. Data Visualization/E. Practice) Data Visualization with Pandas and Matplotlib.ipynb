{
 "cells": [
  {
   "cell_type": "markdown",
   "metadata": {
    "colab_type": "text",
    "id": "7vzLmLuEmK8D"
   },
   "source": [
    "# E. Practice - Data Visualization with Pandas and Matplotlib\n",
    "\n",
    "In the previous sections, we talked about how you can visualize your data with pandas and matplotlib.  \n",
    "Based on what we've learned, let's try to analyze real-world data by data visualization.\n",
    "\n",
    "### _Objective_\n",
    "- **Visualization on mortality rates of major causes of death**: Practicing data visualization on real-world data"
   ]
  },
  {
   "cell_type": "code",
   "execution_count": 1,
   "metadata": {
    "colab": {},
    "colab_type": "code",
    "id": "NAABtqMMmK8E"
   },
   "outputs": [],
   "source": [
    "%matplotlib inline\n",
    "import matplotlib.pyplot as plt  \n",
    "import pandas as pd\n",
    "import numpy as np"
   ]
  },
  {
   "cell_type": "markdown",
   "metadata": {
    "colab_type": "text",
    "id": "cmKqC96PmK8M"
   },
   "source": [
    "# \\[1. Visualizing the Mortality Rate by Major Cause of Death\\]"
   ]
  },
  {
   "cell_type": "markdown",
   "metadata": {},
   "source": [
    "#### Example Data) Crude death rate by cause of death\n",
    " * index: Cause of Death\n",
    " * column: Year\n",
    " * value: Crude Death Rate\n",
    " \n",
    "> The crude death rate is the number of deaths occurring among the population of a given geographical area during a given year,  \n",
    "per 1,000 mid-year total population of the given geographical area during the same year.<br>\n",
    "(OECD, https://stats.oecd.org/glossary/detail.asp?ID=491)"
   ]
  },
  {
   "cell_type": "code",
   "execution_count": 2,
   "metadata": {
    "scrolled": false
   },
   "outputs": [
    {
     "data": {
      "text/html": [
       "<div>\n",
       "<style scoped>\n",
       "    .dataframe tbody tr th:only-of-type {\n",
       "        vertical-align: middle;\n",
       "    }\n",
       "\n",
       "    .dataframe tbody tr th {\n",
       "        vertical-align: top;\n",
       "    }\n",
       "\n",
       "    .dataframe thead th {\n",
       "        text-align: right;\n",
       "    }\n",
       "</style>\n",
       "<table border=\"1\" class=\"dataframe\">\n",
       "  <thead>\n",
       "    <tr style=\"text-align: right;\">\n",
       "      <th></th>\n",
       "      <th>2008</th>\n",
       "      <th>2009</th>\n",
       "      <th>2010</th>\n",
       "      <th>2011</th>\n",
       "      <th>2012</th>\n",
       "      <th>2013</th>\n",
       "      <th>2014</th>\n",
       "      <th>2015</th>\n",
       "      <th>2016</th>\n",
       "      <th>2017</th>\n",
       "    </tr>\n",
       "    <tr>\n",
       "      <th>Causative</th>\n",
       "      <th></th>\n",
       "      <th></th>\n",
       "      <th></th>\n",
       "      <th></th>\n",
       "      <th></th>\n",
       "      <th></th>\n",
       "      <th></th>\n",
       "      <th></th>\n",
       "      <th></th>\n",
       "      <th></th>\n",
       "    </tr>\n",
       "  </thead>\n",
       "  <tbody>\n",
       "    <tr>\n",
       "      <th>Entire</th>\n",
       "      <td>254.4</td>\n",
       "      <td>243.6</td>\n",
       "      <td>255.1</td>\n",
       "      <td>259.6</td>\n",
       "      <td>278.9</td>\n",
       "      <td>273.4</td>\n",
       "      <td>277.5</td>\n",
       "      <td>294.0</td>\n",
       "      <td>302.5</td>\n",
       "      <td>313.4</td>\n",
       "    </tr>\n",
       "    <tr>\n",
       "      <th>__Cancer disease__</th>\n",
       "      <td>139.5</td>\n",
       "      <td>140.5</td>\n",
       "      <td>144.4</td>\n",
       "      <td>142.8</td>\n",
       "      <td>146.5</td>\n",
       "      <td>149.0</td>\n",
       "      <td>150.9</td>\n",
       "      <td>150.8</td>\n",
       "      <td>153.0</td>\n",
       "      <td>153.9</td>\n",
       "    </tr>\n",
       "    <tr>\n",
       "      <th>cancer of the stomach</th>\n",
       "      <td>20.9</td>\n",
       "      <td>20.4</td>\n",
       "      <td>20.1</td>\n",
       "      <td>19.4</td>\n",
       "      <td>18.6</td>\n",
       "      <td>18.2</td>\n",
       "      <td>17.6</td>\n",
       "      <td>16.7</td>\n",
       "      <td>16.2</td>\n",
       "      <td>15.7</td>\n",
       "    </tr>\n",
       "    <tr>\n",
       "      <th>liver cancer</th>\n",
       "      <td>22.9</td>\n",
       "      <td>22.6</td>\n",
       "      <td>22.5</td>\n",
       "      <td>21.8</td>\n",
       "      <td>22.5</td>\n",
       "      <td>22.6</td>\n",
       "      <td>22.8</td>\n",
       "      <td>22.2</td>\n",
       "      <td>21.5</td>\n",
       "      <td>20.9</td>\n",
       "    </tr>\n",
       "    <tr>\n",
       "      <th>lung cancer</th>\n",
       "      <td>29.9</td>\n",
       "      <td>30.0</td>\n",
       "      <td>31.3</td>\n",
       "      <td>31.7</td>\n",
       "      <td>33.1</td>\n",
       "      <td>34.0</td>\n",
       "      <td>34.4</td>\n",
       "      <td>34.1</td>\n",
       "      <td>35.1</td>\n",
       "      <td>35.1</td>\n",
       "    </tr>\n",
       "    <tr>\n",
       "      <th>__Endocrine disease__</th>\n",
       "      <td>22.4</td>\n",
       "      <td>21.3</td>\n",
       "      <td>22.3</td>\n",
       "      <td>23.4</td>\n",
       "      <td>24.9</td>\n",
       "      <td>23.4</td>\n",
       "      <td>22.9</td>\n",
       "      <td>22.9</td>\n",
       "      <td>21.6</td>\n",
       "      <td>20.6</td>\n",
       "    </tr>\n",
       "    <tr>\n",
       "      <th>diabetes</th>\n",
       "      <td>20.7</td>\n",
       "      <td>19.6</td>\n",
       "      <td>20.7</td>\n",
       "      <td>21.5</td>\n",
       "      <td>23.0</td>\n",
       "      <td>21.5</td>\n",
       "      <td>20.7</td>\n",
       "      <td>20.7</td>\n",
       "      <td>19.2</td>\n",
       "      <td>17.9</td>\n",
       "    </tr>\n",
       "    <tr>\n",
       "      <th>__Circulatory disease__</th>\n",
       "      <td>112.3</td>\n",
       "      <td>109.2</td>\n",
       "      <td>112.5</td>\n",
       "      <td>113.5</td>\n",
       "      <td>117.1</td>\n",
       "      <td>113.1</td>\n",
       "      <td>113.9</td>\n",
       "      <td>116.9</td>\n",
       "      <td>118.1</td>\n",
       "      <td>119.6</td>\n",
       "    </tr>\n",
       "    <tr>\n",
       "      <th>hypertensive</th>\n",
       "      <td>9.6</td>\n",
       "      <td>9.6</td>\n",
       "      <td>9.6</td>\n",
       "      <td>10.1</td>\n",
       "      <td>10.4</td>\n",
       "      <td>9.4</td>\n",
       "      <td>10.0</td>\n",
       "      <td>9.9</td>\n",
       "      <td>10.6</td>\n",
       "      <td>11.3</td>\n",
       "    </tr>\n",
       "    <tr>\n",
       "      <th>heart</th>\n",
       "      <td>43.4</td>\n",
       "      <td>45.0</td>\n",
       "      <td>46.9</td>\n",
       "      <td>49.8</td>\n",
       "      <td>52.5</td>\n",
       "      <td>50.2</td>\n",
       "      <td>52.4</td>\n",
       "      <td>55.6</td>\n",
       "      <td>58.2</td>\n",
       "      <td>60.2</td>\n",
       "    </tr>\n",
       "    <tr>\n",
       "      <th>cerebrovascular</th>\n",
       "      <td>56.5</td>\n",
       "      <td>52.0</td>\n",
       "      <td>53.2</td>\n",
       "      <td>50.7</td>\n",
       "      <td>51.1</td>\n",
       "      <td>50.3</td>\n",
       "      <td>48.2</td>\n",
       "      <td>48.0</td>\n",
       "      <td>45.8</td>\n",
       "      <td>44.4</td>\n",
       "    </tr>\n",
       "    <tr>\n",
       "      <th>__Respiratory disease__</th>\n",
       "      <td>32.4</td>\n",
       "      <td>34.3</td>\n",
       "      <td>37.1</td>\n",
       "      <td>39.8</td>\n",
       "      <td>45.2</td>\n",
       "      <td>44.5</td>\n",
       "      <td>47.6</td>\n",
       "      <td>54.6</td>\n",
       "      <td>57.5</td>\n",
       "      <td>63.7</td>\n",
       "    </tr>\n",
       "    <tr>\n",
       "      <th>pneumonia</th>\n",
       "      <td>11.1</td>\n",
       "      <td>12.7</td>\n",
       "      <td>14.9</td>\n",
       "      <td>17.2</td>\n",
       "      <td>20.5</td>\n",
       "      <td>21.4</td>\n",
       "      <td>23.7</td>\n",
       "      <td>28.9</td>\n",
       "      <td>32.2</td>\n",
       "      <td>37.8</td>\n",
       "    </tr>\n",
       "    <tr>\n",
       "      <th>chronic dysplasia</th>\n",
       "      <td>14.9</td>\n",
       "      <td>13.9</td>\n",
       "      <td>14.2</td>\n",
       "      <td>13.9</td>\n",
       "      <td>15.6</td>\n",
       "      <td>14.0</td>\n",
       "      <td>14.1</td>\n",
       "      <td>14.8</td>\n",
       "      <td>13.7</td>\n",
       "      <td>13.2</td>\n",
       "    </tr>\n",
       "    <tr>\n",
       "      <th>__Digestive disease__</th>\n",
       "      <td>21.8</td>\n",
       "      <td>21.5</td>\n",
       "      <td>22.2</td>\n",
       "      <td>22.2</td>\n",
       "      <td>22.4</td>\n",
       "      <td>22.1</td>\n",
       "      <td>22.4</td>\n",
       "      <td>23.0</td>\n",
       "      <td>23.4</td>\n",
       "      <td>23.7</td>\n",
       "    </tr>\n",
       "    <tr>\n",
       "      <th>liver</th>\n",
       "      <td>14.5</td>\n",
       "      <td>13.8</td>\n",
       "      <td>13.8</td>\n",
       "      <td>13.5</td>\n",
       "      <td>13.5</td>\n",
       "      <td>13.2</td>\n",
       "      <td>13.1</td>\n",
       "      <td>13.4</td>\n",
       "      <td>13.3</td>\n",
       "      <td>13.3</td>\n",
       "    </tr>\n",
       "  </tbody>\n",
       "</table>\n",
       "</div>"
      ],
      "text/plain": [
       "                          2008   2009   2010   2011   2012   2013   2014  \\\n",
       "Causative                                                                  \n",
       "Entire                   254.4  243.6  255.1  259.6  278.9  273.4  277.5   \n",
       "__Cancer disease__       139.5  140.5  144.4  142.8  146.5  149.0  150.9   \n",
       "cancer of the stomach     20.9   20.4   20.1   19.4   18.6   18.2   17.6   \n",
       "liver cancer              22.9   22.6   22.5   21.8   22.5   22.6   22.8   \n",
       "lung cancer               29.9   30.0   31.3   31.7   33.1   34.0   34.4   \n",
       "__Endocrine disease__     22.4   21.3   22.3   23.4   24.9   23.4   22.9   \n",
       "diabetes                  20.7   19.6   20.7   21.5   23.0   21.5   20.7   \n",
       "__Circulatory disease__  112.3  109.2  112.5  113.5  117.1  113.1  113.9   \n",
       "hypertensive               9.6    9.6    9.6   10.1   10.4    9.4   10.0   \n",
       "heart                     43.4   45.0   46.9   49.8   52.5   50.2   52.4   \n",
       "cerebrovascular           56.5   52.0   53.2   50.7   51.1   50.3   48.2   \n",
       "__Respiratory disease__   32.4   34.3   37.1   39.8   45.2   44.5   47.6   \n",
       "pneumonia                 11.1   12.7   14.9   17.2   20.5   21.4   23.7   \n",
       "chronic dysplasia         14.9   13.9   14.2   13.9   15.6   14.0   14.1   \n",
       "__Digestive disease__     21.8   21.5   22.2   22.2   22.4   22.1   22.4   \n",
       "liver                     14.5   13.8   13.8   13.5   13.5   13.2   13.1   \n",
       "\n",
       "                          2015   2016   2017  \n",
       "Causative                                     \n",
       "Entire                   294.0  302.5  313.4  \n",
       "__Cancer disease__       150.8  153.0  153.9  \n",
       "cancer of the stomach     16.7   16.2   15.7  \n",
       "liver cancer              22.2   21.5   20.9  \n",
       "lung cancer               34.1   35.1   35.1  \n",
       "__Endocrine disease__     22.9   21.6   20.6  \n",
       "diabetes                  20.7   19.2   17.9  \n",
       "__Circulatory disease__  116.9  118.1  119.6  \n",
       "hypertensive               9.9   10.6   11.3  \n",
       "heart                     55.6   58.2   60.2  \n",
       "cerebrovascular           48.0   45.8   44.4  \n",
       "__Respiratory disease__   54.6   57.5   63.7  \n",
       "pneumonia                 28.9   32.2   37.8  \n",
       "chronic dysplasia         14.8   13.7   13.2  \n",
       "__Digestive disease__     23.0   23.4   23.7  \n",
       "liver                     13.4   13.3   13.3  "
      ]
     },
     "execution_count": 2,
     "metadata": {},
     "output_type": "execute_result"
    }
   ],
   "source": [
    "df = pd.read_csv(\"./data/crude.csv\", delimiter=',')\n",
    "df.set_index(df['Causative'], drop=True, inplace=True)\n",
    "df = df.iloc[:,1:]\n",
    "df"
   ]
  },
  {
   "cell_type": "markdown",
   "metadata": {
    "colab_type": "text",
    "id": "0mc6FFazmK8m"
   },
   "source": [
    "### (1) Line chart\n",
    "#### The 10-year trend in crude mortality rate \n",
    "\n",
    "According to the example data above, the crude mortality rate is as follows.\n"
   ]
  },
  {
   "cell_type": "markdown",
   "metadata": {},
   "source": [
    "\n",
    "|| 2008 | 2009 | 2010 | 2011 | 2012 | 2013 | 2014 | 2015 | 2016 | 2017 |\n",
    "| --- | --- | --- | --- | --- | --- | --- | --- | --- | --- | --- |\n",
    "|Entire| 254.4|243.6|255.1|259.6|278.9|273.4|277.5|294.0|302.5|313.4|"
   ]
  },
  {
   "cell_type": "code",
   "execution_count": 3,
   "metadata": {
    "scrolled": true
   },
   "outputs": [
    {
     "data": {
      "text/plain": [
       "2008    254.4\n",
       "2009    243.6\n",
       "2010    255.1\n",
       "2011    259.6\n",
       "2012    278.9\n",
       "2013    273.4\n",
       "2014    277.5\n",
       "2015    294.0\n",
       "2016    302.5\n",
       "2017    313.4\n",
       "Name: Entire, dtype: float64"
      ]
     },
     "execution_count": 3,
     "metadata": {},
     "output_type": "execute_result"
    }
   ],
   "source": [
    "df.T.Entire"
   ]
  },
  {
   "cell_type": "markdown",
   "metadata": {
    "colab_type": "text",
    "id": "0mc6FFazmK8m"
   },
   "source": [
    "Line charts would be the appropriate plot type to see trends over time.  \n",
    "When drawing a line chart, you do not need to set anything as an argument in `.plot()`."
   ]
  },
  {
   "cell_type": "code",
   "execution_count": 4,
   "metadata": {
    "colab": {
     "base_uri": "https://localhost:8080/",
     "height": 335
    },
    "colab_type": "code",
    "executionInfo": {
     "elapsed": 943,
     "status": "ok",
     "timestamp": 1551922018156,
     "user": {
      "displayName": "최선열",
      "photoUrl": "",
      "userId": "00663027191814710813"
     },
     "user_tz": -540
    },
    "id": "AzWW8FP9mK8n",
    "outputId": "1935af72-a187-48ab-8acc-d854a9d55954",
    "scrolled": true
   },
   "outputs": [
    {
     "data": {
      "image/png": "[encoded data removed]",
      "text/plain": [
       "<Figure size 1080x360 with 1 Axes>"
      ]
     },
     "metadata": {
      "needs_background": "light"
     },
     "output_type": "display_data"
    }
   ],
   "source": [
    "df.T.plot(y=\"Entire\",\n",
    "          title=\"Crude death rate per year\",\n",
    "          xticks=np.arange(len(df.columns)),\n",
    "          figsize=(15,5))\n",
    "\n",
    "df.T.index.name = \"Year\"\n",
    "plt.show()"
   ]
  },
  {
   "cell_type": "markdown",
   "metadata": {},
   "source": [
    "The line chart confirms that the crude mortality rate has increased consistently every year."
   ]
  },
  {
   "cell_type": "markdown",
   "metadata": {
    "colab_type": "text",
    "id": "RpmKhWmKmK9V"
   },
   "source": [
    "### (2) Bar chart\n",
    "#### Identifying the cause of death that showed the biggest increase in the number of deaths in 2017 compared to 2008"
   ]
  },
  {
   "cell_type": "markdown",
   "metadata": {
    "colab_type": "text",
    "id": "CntssxenmK9V"
   },
   "source": [
    "Let's compare the mortality rate in 2017 compared to 2008 in order to understand which cause of death had a significant increase in the number of deaths.<Br>  \n",
    "The changes in mortality are as follows."
   ]
  },
  {
   "cell_type": "code",
   "execution_count": 5,
   "metadata": {
    "colab": {
     "base_uri": "https://localhost:8080/",
     "height": 102
    },
    "colab_type": "code",
    "executionInfo": {
     "elapsed": 635,
     "status": "ok",
     "timestamp": 1551927292835,
     "user": {
      "displayName": "최선열",
      "photoUrl": "",
      "userId": "00663027191814710813"
     },
     "user_tz": -540
    },
    "id": "aag5c2wxmK9W",
    "outputId": "64e2ee8b-7a36-4746-9826-0fc6387bc4a8",
    "scrolled": true
   },
   "outputs": [
    {
     "data": {
      "text/plain": [
       "Causative\n",
       "Entire                      23.191824\n",
       "__Cancer disease__          10.322581\n",
       "cancer of the stomach      -24.880383\n",
       "liver cancer                -8.733624\n",
       "lung cancer                 17.391304\n",
       "__Endocrine disease__       -8.035714\n",
       "diabetes                   -13.526570\n",
       "__Circulatory disease__      6.500445\n",
       "hypertensive                17.708333\n",
       "heart                       38.709677\n",
       "cerebrovascular            -21.415929\n",
       "__Respiratory disease__     96.604938\n",
       "pneumonia                  240.540541\n",
       "chronic dysplasia          -11.409396\n",
       "__Digestive disease__        8.715596\n",
       "liver                       -8.275862\n",
       "dtype: float64"
      ]
     },
     "execution_count": 5,
     "metadata": {},
     "output_type": "execute_result"
    }
   ],
   "source": [
    "diffs = (df[\"2017\"]-df[\"2008\"])/df[\"2008\"] * 100 \n",
    "diffs"
   ]
  },
  {
   "cell_type": "markdown",
   "metadata": {},
   "source": [
    "Create a new DataFrame for the crude mortality rate in 2008 and 2017 as well as the rate of change."
   ]
  },
  {
   "cell_type": "code",
   "execution_count": 6,
   "metadata": {
    "colab": {
     "base_uri": "https://localhost:8080/",
     "height": 102
    },
    "colab_type": "code",
    "executionInfo": {
     "elapsed": 635,
     "status": "ok",
     "timestamp": 1551927292835,
     "user": {
      "displayName": "최선열",
      "photoUrl": "",
      "userId": "00663027191814710813"
     },
     "user_tz": -540
    },
    "id": "aag5c2wxmK9W",
    "outputId": "64e2ee8b-7a36-4746-9826-0fc6387bc4a8"
   },
   "outputs": [
    {
     "data": {
      "text/html": [
       "<div>\n",
       "<style scoped>\n",
       "    .dataframe tbody tr th:only-of-type {\n",
       "        vertical-align: middle;\n",
       "    }\n",
       "\n",
       "    .dataframe tbody tr th {\n",
       "        vertical-align: top;\n",
       "    }\n",
       "\n",
       "    .dataframe thead th {\n",
       "        text-align: right;\n",
       "    }\n",
       "</style>\n",
       "<table border=\"1\" class=\"dataframe\">\n",
       "  <thead>\n",
       "    <tr style=\"text-align: right;\">\n",
       "      <th>Year</th>\n",
       "      <th>2008</th>\n",
       "      <th>2017</th>\n",
       "      <th>increase(%)</th>\n",
       "    </tr>\n",
       "    <tr>\n",
       "      <th>Causative</th>\n",
       "      <th></th>\n",
       "      <th></th>\n",
       "      <th></th>\n",
       "    </tr>\n",
       "  </thead>\n",
       "  <tbody>\n",
       "    <tr>\n",
       "      <th>Entire</th>\n",
       "      <td>254.4</td>\n",
       "      <td>313.4</td>\n",
       "      <td>23.191824</td>\n",
       "    </tr>\n",
       "    <tr>\n",
       "      <th>__Cancer disease__</th>\n",
       "      <td>139.5</td>\n",
       "      <td>153.9</td>\n",
       "      <td>10.322581</td>\n",
       "    </tr>\n",
       "    <tr>\n",
       "      <th>cancer of the stomach</th>\n",
       "      <td>20.9</td>\n",
       "      <td>15.7</td>\n",
       "      <td>-24.880383</td>\n",
       "    </tr>\n",
       "    <tr>\n",
       "      <th>liver cancer</th>\n",
       "      <td>22.9</td>\n",
       "      <td>20.9</td>\n",
       "      <td>-8.733624</td>\n",
       "    </tr>\n",
       "    <tr>\n",
       "      <th>lung cancer</th>\n",
       "      <td>29.9</td>\n",
       "      <td>35.1</td>\n",
       "      <td>17.391304</td>\n",
       "    </tr>\n",
       "    <tr>\n",
       "      <th>__Endocrine disease__</th>\n",
       "      <td>22.4</td>\n",
       "      <td>20.6</td>\n",
       "      <td>-8.035714</td>\n",
       "    </tr>\n",
       "    <tr>\n",
       "      <th>diabetes</th>\n",
       "      <td>20.7</td>\n",
       "      <td>17.9</td>\n",
       "      <td>-13.526570</td>\n",
       "    </tr>\n",
       "    <tr>\n",
       "      <th>__Circulatory disease__</th>\n",
       "      <td>112.3</td>\n",
       "      <td>119.6</td>\n",
       "      <td>6.500445</td>\n",
       "    </tr>\n",
       "    <tr>\n",
       "      <th>hypertensive</th>\n",
       "      <td>9.6</td>\n",
       "      <td>11.3</td>\n",
       "      <td>17.708333</td>\n",
       "    </tr>\n",
       "    <tr>\n",
       "      <th>heart</th>\n",
       "      <td>43.4</td>\n",
       "      <td>60.2</td>\n",
       "      <td>38.709677</td>\n",
       "    </tr>\n",
       "    <tr>\n",
       "      <th>cerebrovascular</th>\n",
       "      <td>56.5</td>\n",
       "      <td>44.4</td>\n",
       "      <td>-21.415929</td>\n",
       "    </tr>\n",
       "    <tr>\n",
       "      <th>__Respiratory disease__</th>\n",
       "      <td>32.4</td>\n",
       "      <td>63.7</td>\n",
       "      <td>96.604938</td>\n",
       "    </tr>\n",
       "    <tr>\n",
       "      <th>pneumonia</th>\n",
       "      <td>11.1</td>\n",
       "      <td>37.8</td>\n",
       "      <td>240.540541</td>\n",
       "    </tr>\n",
       "    <tr>\n",
       "      <th>chronic dysplasia</th>\n",
       "      <td>14.9</td>\n",
       "      <td>13.2</td>\n",
       "      <td>-11.409396</td>\n",
       "    </tr>\n",
       "    <tr>\n",
       "      <th>__Digestive disease__</th>\n",
       "      <td>21.8</td>\n",
       "      <td>23.7</td>\n",
       "      <td>8.715596</td>\n",
       "    </tr>\n",
       "    <tr>\n",
       "      <th>liver</th>\n",
       "      <td>14.5</td>\n",
       "      <td>13.3</td>\n",
       "      <td>-8.275862</td>\n",
       "    </tr>\n",
       "  </tbody>\n",
       "</table>\n",
       "</div>"
      ],
      "text/plain": [
       "Year                      2008   2017  increase(%)\n",
       "Causative                                         \n",
       "Entire                   254.4  313.4    23.191824\n",
       "__Cancer disease__       139.5  153.9    10.322581\n",
       "cancer of the stomach     20.9   15.7   -24.880383\n",
       "liver cancer              22.9   20.9    -8.733624\n",
       "lung cancer               29.9   35.1    17.391304\n",
       "__Endocrine disease__     22.4   20.6    -8.035714\n",
       "diabetes                  20.7   17.9   -13.526570\n",
       "__Circulatory disease__  112.3  119.6     6.500445\n",
       "hypertensive               9.6   11.3    17.708333\n",
       "heart                     43.4   60.2    38.709677\n",
       "cerebrovascular           56.5   44.4   -21.415929\n",
       "__Respiratory disease__   32.4   63.7    96.604938\n",
       "pneumonia                 11.1   37.8   240.540541\n",
       "chronic dysplasia         14.9   13.2   -11.409396\n",
       "__Digestive disease__     21.8   23.7     8.715596\n",
       "liver                     14.5   13.3    -8.275862"
      ]
     },
     "execution_count": 6,
     "metadata": {},
     "output_type": "execute_result"
    }
   ],
   "source": [
    "df_0817 = df.loc[:,['2008', '2017']]\n",
    "df_0817['increase(%)'] = diffs\n",
    "df_0817"
   ]
  },
  {
   "cell_type": "markdown",
   "metadata": {
    "colab_type": "text",
    "id": "8lU_Jg8xFFrT"
   },
   "source": [
    "A bar chart is useful when comparing the size of each item's value, such as comparing the rate of change.  \n",
    "You can draw bars on your data by passing `kind=\"bar\"` to `.plot()`."
   ]
  },
  {
   "cell_type": "code",
   "execution_count": 7,
   "metadata": {
    "colab": {
     "base_uri": "https://localhost:8080/",
     "height": 396
    },
    "colab_type": "code",
    "executionInfo": {
     "elapsed": 965,
     "status": "ok",
     "timestamp": 1551927416472,
     "user": {
      "displayName": "최선열",
      "photoUrl": "",
      "userId": "00663027191814710813"
     },
     "user_tz": -540
    },
    "id": "4luPHKshmK9g",
    "outputId": "7cc3b2bc-bbf1-45e6-b938-d664fc897e85",
    "scrolled": true
   },
   "outputs": [
    {
     "data": {
      "image/png": "[encoded data removed]",
      "text/plain": [
       "<Figure size 720x360 with 1 Axes>"
      ]
     },
     "metadata": {
      "needs_background": "light"
     },
     "output_type": "display_data"
    }
   ],
   "source": [
    "plt.figure(figsize=(10,5))\n",
    "diffs.plot(kind='bar')\n",
    "plt.show()"
   ]
  },
  {
   "cell_type": "markdown",
   "metadata": {
    "colab_type": "text",
    "id": "mMpCLWcKmK9k"
   },
   "source": [
    "While the number of deaths from stomach cancer decreased by approx. 25%,  \n",
    "respiratory diseases (respiratory disease&pneumonia combined) skyrocketed over 10 years."
   ]
  },
  {
   "cell_type": "markdown",
   "metadata": {},
   "source": [
    "### (3) Pie chart\n",
    "#### Rate of change in the number of death from circulatory diseases in 2017 compared to 2008 \n",
    "\n",
    "Let's take the data on the crude mortality rate of circulatory diseases."
   ]
  },
  {
   "cell_type": "code",
   "execution_count": 8,
   "metadata": {
    "colab": {
     "base_uri": "https://localhost:8080/",
     "height": 34
    },
    "colab_type": "code",
    "executionInfo": {
     "elapsed": 861,
     "status": "ok",
     "timestamp": 1551922589002,
     "user": {
      "displayName": "최선열",
      "photoUrl": "",
      "userId": "00663027191814710813"
     },
     "user_tz": -540
    },
    "id": "P9azFPXOmK8s",
    "outputId": "7ebcc819-b5cf-410d-8807-f9f2897c94f6",
    "scrolled": true
   },
   "outputs": [
    {
     "data": {
      "text/html": [
       "<div>\n",
       "<style scoped>\n",
       "    .dataframe tbody tr th:only-of-type {\n",
       "        vertical-align: middle;\n",
       "    }\n",
       "\n",
       "    .dataframe tbody tr th {\n",
       "        vertical-align: top;\n",
       "    }\n",
       "\n",
       "    .dataframe thead th {\n",
       "        text-align: right;\n",
       "    }\n",
       "</style>\n",
       "<table border=\"1\" class=\"dataframe\">\n",
       "  <thead>\n",
       "    <tr style=\"text-align: right;\">\n",
       "      <th>Year</th>\n",
       "      <th>2008</th>\n",
       "      <th>2009</th>\n",
       "      <th>2010</th>\n",
       "      <th>2011</th>\n",
       "      <th>2012</th>\n",
       "      <th>2013</th>\n",
       "      <th>2014</th>\n",
       "      <th>2015</th>\n",
       "      <th>2016</th>\n",
       "      <th>2017</th>\n",
       "    </tr>\n",
       "    <tr>\n",
       "      <th>Causative</th>\n",
       "      <th></th>\n",
       "      <th></th>\n",
       "      <th></th>\n",
       "      <th></th>\n",
       "      <th></th>\n",
       "      <th></th>\n",
       "      <th></th>\n",
       "      <th></th>\n",
       "      <th></th>\n",
       "      <th></th>\n",
       "    </tr>\n",
       "  </thead>\n",
       "  <tbody>\n",
       "    <tr>\n",
       "      <th>__Circulatory disease__</th>\n",
       "      <td>112.3</td>\n",
       "      <td>109.2</td>\n",
       "      <td>112.5</td>\n",
       "      <td>113.5</td>\n",
       "      <td>117.1</td>\n",
       "      <td>113.1</td>\n",
       "      <td>113.9</td>\n",
       "      <td>116.9</td>\n",
       "      <td>118.1</td>\n",
       "      <td>119.6</td>\n",
       "    </tr>\n",
       "    <tr>\n",
       "      <th>hypertensive</th>\n",
       "      <td>9.6</td>\n",
       "      <td>9.6</td>\n",
       "      <td>9.6</td>\n",
       "      <td>10.1</td>\n",
       "      <td>10.4</td>\n",
       "      <td>9.4</td>\n",
       "      <td>10.0</td>\n",
       "      <td>9.9</td>\n",
       "      <td>10.6</td>\n",
       "      <td>11.3</td>\n",
       "    </tr>\n",
       "    <tr>\n",
       "      <th>heart</th>\n",
       "      <td>43.4</td>\n",
       "      <td>45.0</td>\n",
       "      <td>46.9</td>\n",
       "      <td>49.8</td>\n",
       "      <td>52.5</td>\n",
       "      <td>50.2</td>\n",
       "      <td>52.4</td>\n",
       "      <td>55.6</td>\n",
       "      <td>58.2</td>\n",
       "      <td>60.2</td>\n",
       "    </tr>\n",
       "    <tr>\n",
       "      <th>cerebrovascular</th>\n",
       "      <td>56.5</td>\n",
       "      <td>52.0</td>\n",
       "      <td>53.2</td>\n",
       "      <td>50.7</td>\n",
       "      <td>51.1</td>\n",
       "      <td>50.3</td>\n",
       "      <td>48.2</td>\n",
       "      <td>48.0</td>\n",
       "      <td>45.8</td>\n",
       "      <td>44.4</td>\n",
       "    </tr>\n",
       "  </tbody>\n",
       "</table>\n",
       "</div>"
      ],
      "text/plain": [
       "Year                      2008   2009   2010   2011   2012   2013   2014  \\\n",
       "Causative                                                                  \n",
       "__Circulatory disease__  112.3  109.2  112.5  113.5  117.1  113.1  113.9   \n",
       "hypertensive               9.6    9.6    9.6   10.1   10.4    9.4   10.0   \n",
       "heart                     43.4   45.0   46.9   49.8   52.5   50.2   52.4   \n",
       "cerebrovascular           56.5   52.0   53.2   50.7   51.1   50.3   48.2   \n",
       "\n",
       "Year                      2015   2016   2017  \n",
       "Causative                                     \n",
       "__Circulatory disease__  116.9  118.1  119.6  \n",
       "hypertensive               9.9   10.6   11.3  \n",
       "heart                     55.6   58.2   60.2  \n",
       "cerebrovascular           48.0   45.8   44.4  "
      ]
     },
     "metadata": {},
     "output_type": "display_data"
    }
   ],
   "source": [
    "cardiovascular_df = df.iloc[7:11].copy() # selecting the rows with death rate from circulatory disease\n",
    "display(cardiovascular_df)"
   ]
  },
  {
   "cell_type": "markdown",
   "metadata": {
    "colab_type": "text",
    "id": "tLDtu-d3vtcT"
   },
   "source": [
    "\n",
    "In the pie chart, the total value of the pie is always 100%.  \n",
    "In order to look at the data on the mortality rate of circulatory diseases,  \n",
    "the mortality rate of circulatory diseases excluding [hypertensive, heart, cerebrovascular] should be calculated.\n",
    "\n",
    "By subtracting the sum of [hypertensive disease, heart disease, cerebrovascular disease] from the crude mortality rate of `__Circulatory disease__`, \n",
    "\n",
    "you can find the **number of death the mortality rate of other circulatory diseases**.\n",
    "\n"
   ]
  },
  {
   "cell_type": "code",
   "execution_count": 9,
   "metadata": {},
   "outputs": [],
   "source": [
    "total = cardiovascular_df.iloc[0] # number of death from the circulatory disease group per 1000 \n",
    "top3 = cardiovascular_df.iloc[1:4].sum(axis=0) # adding up the number of deaths of 3 circulatory diseases\n",
    "other = total - top3 # number of death from cardiovascular diseases per 1000"
   ]
  },
  {
   "cell_type": "markdown",
   "metadata": {
    "colab_type": "text",
    "id": "uqnl-kZ7mK8v"
   },
   "source": [
    "Accordingly, the crude mortality rate of other circulatory diseases is as follows."
   ]
  },
  {
   "cell_type": "code",
   "execution_count": 10,
   "metadata": {
    "colab": {
     "base_uri": "https://localhost:8080/",
     "height": 85
    },
    "colab_type": "code",
    "executionInfo": {
     "elapsed": 698,
     "status": "ok",
     "timestamp": 1551922733940,
     "user": {
      "displayName": "최선열",
      "photoUrl": "",
      "userId": "00663027191814710813"
     },
     "user_tz": -540
    },
    "id": "Rp5MlmJrmK8w",
    "outputId": "6c6ad960-c6b2-4182-df3d-343634d4350f"
   },
   "outputs": [
    {
     "data": {
      "text/html": [
       "<div>\n",
       "<style scoped>\n",
       "    .dataframe tbody tr th:only-of-type {\n",
       "        vertical-align: middle;\n",
       "    }\n",
       "\n",
       "    .dataframe tbody tr th {\n",
       "        vertical-align: top;\n",
       "    }\n",
       "\n",
       "    .dataframe thead th {\n",
       "        text-align: right;\n",
       "    }\n",
       "</style>\n",
       "<table border=\"1\" class=\"dataframe\">\n",
       "  <thead>\n",
       "    <tr style=\"text-align: right;\">\n",
       "      <th>Year</th>\n",
       "      <th>2008</th>\n",
       "      <th>2009</th>\n",
       "      <th>2010</th>\n",
       "      <th>2011</th>\n",
       "      <th>2012</th>\n",
       "      <th>2013</th>\n",
       "      <th>2014</th>\n",
       "      <th>2015</th>\n",
       "      <th>2016</th>\n",
       "      <th>2017</th>\n",
       "    </tr>\n",
       "    <tr>\n",
       "      <th>Causative</th>\n",
       "      <th></th>\n",
       "      <th></th>\n",
       "      <th></th>\n",
       "      <th></th>\n",
       "      <th></th>\n",
       "      <th></th>\n",
       "      <th></th>\n",
       "      <th></th>\n",
       "      <th></th>\n",
       "      <th></th>\n",
       "    </tr>\n",
       "  </thead>\n",
       "  <tbody>\n",
       "    <tr>\n",
       "      <th>hypertensive</th>\n",
       "      <td>9.6</td>\n",
       "      <td>9.6</td>\n",
       "      <td>9.6</td>\n",
       "      <td>10.1</td>\n",
       "      <td>10.4</td>\n",
       "      <td>9.4</td>\n",
       "      <td>10.0</td>\n",
       "      <td>9.9</td>\n",
       "      <td>10.6</td>\n",
       "      <td>11.3</td>\n",
       "    </tr>\n",
       "    <tr>\n",
       "      <th>heart</th>\n",
       "      <td>43.4</td>\n",
       "      <td>45.0</td>\n",
       "      <td>46.9</td>\n",
       "      <td>49.8</td>\n",
       "      <td>52.5</td>\n",
       "      <td>50.2</td>\n",
       "      <td>52.4</td>\n",
       "      <td>55.6</td>\n",
       "      <td>58.2</td>\n",
       "      <td>60.2</td>\n",
       "    </tr>\n",
       "    <tr>\n",
       "      <th>cerebrovascular</th>\n",
       "      <td>56.5</td>\n",
       "      <td>52.0</td>\n",
       "      <td>53.2</td>\n",
       "      <td>50.7</td>\n",
       "      <td>51.1</td>\n",
       "      <td>50.3</td>\n",
       "      <td>48.2</td>\n",
       "      <td>48.0</td>\n",
       "      <td>45.8</td>\n",
       "      <td>44.4</td>\n",
       "    </tr>\n",
       "    <tr>\n",
       "      <th>other circulatory</th>\n",
       "      <td>2.8</td>\n",
       "      <td>2.6</td>\n",
       "      <td>2.8</td>\n",
       "      <td>2.9</td>\n",
       "      <td>3.1</td>\n",
       "      <td>3.2</td>\n",
       "      <td>3.3</td>\n",
       "      <td>3.4</td>\n",
       "      <td>3.5</td>\n",
       "      <td>3.7</td>\n",
       "    </tr>\n",
       "  </tbody>\n",
       "</table>\n",
       "</div>"
      ],
      "text/plain": [
       "Year               2008  2009  2010  2011  2012  2013  2014  2015  2016  2017\n",
       "Causative                                                                    \n",
       "hypertensive        9.6   9.6   9.6  10.1  10.4   9.4  10.0   9.9  10.6  11.3\n",
       "heart              43.4  45.0  46.9  49.8  52.5  50.2  52.4  55.6  58.2  60.2\n",
       "cerebrovascular    56.5  52.0  53.2  50.7  51.1  50.3  48.2  48.0  45.8  44.4\n",
       "other circulatory   2.8   2.6   2.8   2.9   3.1   3.2   3.3   3.4   3.5   3.7"
      ]
     },
     "execution_count": 10,
     "metadata": {},
     "output_type": "execute_result"
    }
   ],
   "source": [
    "cardiovascular_df.loc[\"other circulatory\"] = other\n",
    "circulatory = cardiovascular_df[1:]\n",
    "circulatory"
   ]
  },
  {
   "cell_type": "markdown",
   "metadata": {
    "colab_type": "text",
    "id": "D6PdRbM_mK8w"
   },
   "source": [
    "Now you can draw a pie chart on the four circulatory diseases.\n",
    "This time, let's use matplotlib's pyplo to draw pies.\n"
   ]
  },
  {
   "cell_type": "code",
   "execution_count": 11,
   "metadata": {
    "colab": {
     "base_uri": "https://localhost:8080/",
     "height": 330
    },
    "colab_type": "code",
    "executionInfo": {
     "elapsed": 1001,
     "status": "ok",
     "timestamp": 1551922910570,
     "user": {
      "displayName": "최선열",
      "photoUrl": "",
      "userId": "00663027191814710813"
     },
     "user_tz": -540
    },
    "id": "x0n2xn7TmK82",
    "outputId": "0143d336-6d5d-4d4d-8152-085ef119613e",
    "scrolled": false
   },
   "outputs": [
    {
     "data": {
      "image/png": "[encoded data removed]",
      "text/plain": [
       "<Figure size 720x360 with 2 Axes>"
      ]
     },
     "metadata": {},
     "output_type": "display_data"
    }
   ],
   "source": [
    "fig = plt.figure(figsize=(10,5))\n",
    "\n",
    "ax = fig.add_subplot(121)\n",
    "ax.set_title(\"2008\")\n",
    "ax.pie(circulatory[\"2008\"],labels=[\"hypertensive\",\"heart\",\"cerebrovascular\",\"other circulatory\"],\n",
    "       autopct=\"%1.1f%%\")  # 2008\n",
    "\n",
    "ax = fig.add_subplot(122)\n",
    "ax.set_title(\"2017\")\n",
    "ax.pie(circulatory[\"2017\"],labels=[\"hypertensive\",\"heart\",\"cerebrovascular\",\"other circulatory\"],\n",
    "       autopct=\"%1.1f%%\")  # 2017\n",
    "\n",
    "plt.suptitle(\"Rate of Circulatory disease\")\n",
    "plt.show()"
   ]
  },
  {
   "cell_type": "markdown",
   "metadata": {
    "colab_type": "text",
    "id": "m-qGv_GXmK87"
   },
   "source": [
    "You can see that the proportion of cerebrovascular disease has significantly decreased while that of heart disease has increased over the past 10 years."
   ]
  },
  {
   "cell_type": "markdown",
   "metadata": {
    "colab_type": "text",
    "id": "o7PL0aLXszlq"
   },
   "source": [
    "### (4) Scatter plot\n",
    "#### Correlation in the number of deaths between two respiratory diseases\n",
    "\n",
    "Let's look at the correlation between two respiratory diseases, **heart disease** and **cerebrovascular disease,**  \n",
    "using a scatter plot. We'll pass `kind = \"scatter\"` to `.plot()`."
   ]
  },
  {
   "cell_type": "code",
   "execution_count": 12,
   "metadata": {
    "colab": {
     "base_uri": "https://localhost:8080/",
     "height": 333
    },
    "colab_type": "code",
    "id": "zHv0ev12szlr",
    "outputId": "43f1b2f7-5d38-4a6e-c1e1-353b45ccb408",
    "scrolled": true
   },
   "outputs": [
    {
     "data": {
      "image/png": "[encoded data removed]",
      "text/plain": [
       "<Figure size 432x288 with 1 Axes>"
      ]
     },
     "metadata": {
      "needs_background": "light"
     },
     "output_type": "display_data"
    }
   ],
   "source": [
    "df.T.plot(x=\"heart\",y=\"cerebrovascular\",\n",
    "        kind=\"scatter\",\n",
    "        title='Scatter plot of two circulatory disease')\n",
    "plt.show()"
   ]
  },
  {
   "cell_type": "markdown",
   "metadata": {},
   "source": [
    "It can be seen that the mortality rate from heart disease has increased while  cerebrovascular disease decreased."
   ]
  }
 ],
 "metadata": {
  "colab": {
   "collapsed_sections": [],
   "name": "8_Numpy와 Matplotlib을 활용한 데이터 분석 실무.ipynb",
   "provenance": [],
   "toc_visible": true,
   "version": "0.3.2"
  },
  "kernelspec": {
   "display_name": "Python 3",
   "language": "python",
   "name": "python3"
  },
  "language_info": {
   "codemirror_mode": {
    "name": "ipython",
    "version": 3
   },
   "file_extension": ".py",
   "mimetype": "text/x-python",
   "name": "python",
   "nbconvert_exporter": "python",
   "pygments_lexer": "ipython3",
   "version": "3.8.3"
  },
  "toc": {
   "base_numbering": 1,
   "nav_menu": {},
   "number_sections": false,
   "sideBar": true,
   "skip_h1_title": false,
   "title_cell": "Table of Contents",
   "title_sidebar": "Contents",
   "toc_cell": false,
   "toc_position": {
    "height": "calc(100% - 180px)",
    "left": "10px",
    "top": "150px",
    "width": "306.389px"
   },
   "toc_section_display": true,
   "toc_window_display": true
  }
 },
 "nbformat": 4,
 "nbformat_minor": 2
}
